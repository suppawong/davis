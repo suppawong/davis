{
 "cells": [
  {
   "cell_type": "code",
   "execution_count": 1,
   "metadata": {},
   "outputs": [
    {
     "data": {
      "text/html": [
       "<style>.container { width:100% !important; }</style>"
      ],
      "text/plain": [
       "<IPython.core.display.HTML object>"
      ]
     },
     "metadata": {},
     "output_type": "display_data"
    },
    {
     "data": {
      "text/plain": [
       "'3.5.2 (default, Nov 23 2017, 16:37:01) \\n[GCC 5.4.0 20160609]'"
      ]
     },
     "execution_count": 1,
     "metadata": {},
     "output_type": "execute_result"
    }
   ],
   "source": [
    "from IPython.core.display import display, HTML\n",
    "display(HTML(\"<style>.container { width:100% !important; }</style>\"))\n",
    "\n",
    "from IPython.core.interactiveshell import InteractiveShell\n",
    "InteractiveShell.ast_node_interactivity = \"all\"\n",
    "\n",
    "import sys\n",
    "sys.version"
   ]
  },
  {
   "cell_type": "code",
   "execution_count": 2,
   "metadata": {},
   "outputs": [
    {
     "data": {
      "text/html": [
       "<script>requirejs.config({paths: { 'plotly': ['https://cdn.plot.ly/plotly-latest.min']},});if(!window.Plotly) {{require(['plotly'],function(plotly) {window.Plotly=plotly;});}}</script>"
      ],
      "text/vnd.plotly.v1+html": [
       "<script>requirejs.config({paths: { 'plotly': ['https://cdn.plot.ly/plotly-latest.min']},});if(!window.Plotly) {{require(['plotly'],function(plotly) {window.Plotly=plotly;});}}</script>"
      ]
     },
     "metadata": {},
     "output_type": "display_data"
    }
   ],
   "source": [
    "import pandas as pd\n",
    "import os\n",
    "import copy\n",
    "import numpy as np\n",
    "import xgboost\n",
    "\n",
    "from pythainlp.corpus import stopwords\n",
    "from sklearn.feature_extraction.text import TfidfVectorizer\n",
    "from sklearn.linear_model import LinearRegression\n",
    "from sklearn.metrics import mean_squared_error, mean_absolute_error, accuracy_score\n",
    "from sklearn import preprocessing\n",
    "\n",
    "from sklearn import ensemble\n",
    "from sklearn import tree\n",
    "from sklearn import linear_model\n",
    "import pickle\n",
    "\n",
    "from plotly.offline import download_plotlyjs, init_notebook_mode, plot, iplot\n",
    "init_notebook_mode(connected=True)\n",
    "\n",
    "import plotly.graph_objs as go\n",
    "from datetime import datetime, timedelta\n",
    "from tqdm import tqdm_notebook\n",
    "import matplotlib.pyplot as plt\n",
    "% matplotlib inline\n",
    "\n",
    "def mean_absolute_percentage_error(y_true, y_pred): \n",
    "    return np.mean(np.abs((y_true - y_pred) / y_true)) * 100\n",
    "\n",
    "\n",
    "\n",
    "target_stocks = ['BANPU','IRPC','PTT','BBL','KBANK','SCB','AOT','THAI','CPF','MINT',\n",
    "                 'TU','SCC','CPN','CK','CPALL','HMPRO','BDMS','BH','ADVANC','JAS','TRUE']\n"
   ]
  },
  {
   "cell_type": "markdown",
   "metadata": {},
   "source": [
    "# Load Models"
   ]
  },
  {
   "cell_type": "code",
   "execution_count": 46,
   "metadata": {},
   "outputs": [],
   "source": [
    "lineregr = pickle.load(open('models/lineregr.pkl', 'rb'))\n",
    "decis_tree_regr = pickle.load(open('models/decis_tree_regr.pkl', 'rb'))\n",
    "rnd_forest_regr = pickle.load(open('models/rnd_forest_regr.pkl', 'rb'))\n",
    "adaboost_dt_regr = pickle.load(open('models/adaboost_dt_regr.pkl', 'rb'))\n",
    "adaboost_rf_regr = pickle.load(open('models/adaboost_rf_regr.pkl', 'rb'))\n",
    "gbr = pickle.load(open('models/gbr.pkl', 'rb'))\n",
    "xgb = pickle.load(open('models/xgb.pkl', 'rb'))"
   ]
  },
  {
   "cell_type": "code",
   "execution_count": 47,
   "metadata": {},
   "outputs": [],
   "source": [
    "le = pickle.load(open('models/le.pkl', 'rb'))"
   ]
  },
  {
   "cell_type": "markdown",
   "metadata": {},
   "source": [
    "# Load Test"
   ]
  },
  {
   "cell_type": "code",
   "execution_count": 48,
   "metadata": {},
   "outputs": [
    {
     "data": {
      "text/html": [
       "<div>\n",
       "<style scoped>\n",
       "    .dataframe tbody tr th:only-of-type {\n",
       "        vertical-align: middle;\n",
       "    }\n",
       "\n",
       "    .dataframe tbody tr th {\n",
       "        vertical-align: top;\n",
       "    }\n",
       "\n",
       "    .dataframe thead th {\n",
       "        text-align: right;\n",
       "    }\n",
       "</style>\n",
       "<table border=\"1\" class=\"dataframe\">\n",
       "  <thead>\n",
       "    <tr style=\"text-align: right;\">\n",
       "      <th></th>\n",
       "      <th>Ticker</th>\n",
       "      <th>Close(t+1)</th>\n",
       "      <th>Open(t)</th>\n",
       "      <th>High(t)</th>\n",
       "      <th>Low(t)</th>\n",
       "      <th>Close(t)</th>\n",
       "      <th>Open(t-1)</th>\n",
       "      <th>High(t-1)</th>\n",
       "      <th>Low(t-1)</th>\n",
       "      <th>Close(t-1)</th>\n",
       "      <th>...</th>\n",
       "      <th>490</th>\n",
       "      <th>491</th>\n",
       "      <th>492</th>\n",
       "      <th>493</th>\n",
       "      <th>494</th>\n",
       "      <th>495</th>\n",
       "      <th>496</th>\n",
       "      <th>497</th>\n",
       "      <th>498</th>\n",
       "      <th>499</th>\n",
       "    </tr>\n",
       "    <tr>\n",
       "      <th>Date</th>\n",
       "      <th></th>\n",
       "      <th></th>\n",
       "      <th></th>\n",
       "      <th></th>\n",
       "      <th></th>\n",
       "      <th></th>\n",
       "      <th></th>\n",
       "      <th></th>\n",
       "      <th></th>\n",
       "      <th></th>\n",
       "      <th></th>\n",
       "      <th></th>\n",
       "      <th></th>\n",
       "      <th></th>\n",
       "      <th></th>\n",
       "      <th></th>\n",
       "      <th></th>\n",
       "      <th></th>\n",
       "      <th></th>\n",
       "      <th></th>\n",
       "      <th></th>\n",
       "    </tr>\n",
       "  </thead>\n",
       "  <tbody>\n",
       "    <tr>\n",
       "      <th>2017-01-27</th>\n",
       "      <td>2</td>\n",
       "      <td>19.2</td>\n",
       "      <td>19.6</td>\n",
       "      <td>19.8</td>\n",
       "      <td>19.4</td>\n",
       "      <td>19.6</td>\n",
       "      <td>20.1</td>\n",
       "      <td>20.1</td>\n",
       "      <td>19.6</td>\n",
       "      <td>19.6</td>\n",
       "      <td>...</td>\n",
       "      <td>0.03908</td>\n",
       "      <td>0.0</td>\n",
       "      <td>0.0</td>\n",
       "      <td>0.043692</td>\n",
       "      <td>0.0</td>\n",
       "      <td>0.0</td>\n",
       "      <td>0.0</td>\n",
       "      <td>0.028074</td>\n",
       "      <td>0.122086</td>\n",
       "      <td>0.0</td>\n",
       "    </tr>\n",
       "  </tbody>\n",
       "</table>\n",
       "<p>1 rows × 518 columns</p>\n",
       "</div>"
      ],
      "text/plain": [
       "            Ticker  Close(t+1)  Open(t)  High(t)  Low(t)  Close(t)  Open(t-1)  \\\n",
       "Date                                                                            \n",
       "2017-01-27       2        19.2     19.6     19.8    19.4      19.6       20.1   \n",
       "\n",
       "            High(t-1)  Low(t-1)  Close(t-1) ...       490  491  492       493  \\\n",
       "Date                                        ...                                 \n",
       "2017-01-27       20.1      19.6        19.6 ...   0.03908  0.0  0.0  0.043692   \n",
       "\n",
       "            494  495  496       497       498  499  \n",
       "Date                                                \n",
       "2017-01-27  0.0  0.0  0.0  0.028074  0.122086  0.0  \n",
       "\n",
       "[1 rows x 518 columns]"
      ]
     },
     "execution_count": 48,
     "metadata": {},
     "output_type": "execute_result"
    },
    {
     "data": {
      "text/plain": [
       "((503, 517), (503, 517))"
      ]
     },
     "execution_count": 48,
     "metadata": {},
     "output_type": "execute_result"
    },
    {
     "data": {
      "text/html": [
       "<div>\n",
       "<style scoped>\n",
       "    .dataframe tbody tr th:only-of-type {\n",
       "        vertical-align: middle;\n",
       "    }\n",
       "\n",
       "    .dataframe tbody tr th {\n",
       "        vertical-align: top;\n",
       "    }\n",
       "\n",
       "    .dataframe thead th {\n",
       "        text-align: right;\n",
       "    }\n",
       "</style>\n",
       "<table border=\"1\" class=\"dataframe\">\n",
       "  <thead>\n",
       "    <tr style=\"text-align: right;\">\n",
       "      <th></th>\n",
       "      <th>actual</th>\n",
       "      <th>ditection</th>\n",
       "    </tr>\n",
       "  </thead>\n",
       "  <tbody>\n",
       "    <tr>\n",
       "      <th>0</th>\n",
       "      <td>19.2</td>\n",
       "      <td>0.0</td>\n",
       "    </tr>\n",
       "  </tbody>\n",
       "</table>\n",
       "</div>"
      ],
      "text/plain": [
       "   actual  ditection\n",
       "0    19.2        0.0"
      ]
     },
     "execution_count": 48,
     "metadata": {},
     "output_type": "execute_result"
    }
   ],
   "source": [
    "x_test = pd.read_csv('data/x_test_unique_news.csv')\n",
    "x_test = x_test.set_index('Date')\n",
    "x_test.head(1)\n",
    "\n",
    "Horizon = 'Close(t+1)'\n",
    "y_test = x_test[[Horizon]]\n",
    "x_test = x_test.drop(['Close(t+1)'], axis=1).copy()\n",
    "x_test.shape, x_test.shape\n",
    "\n",
    "close_t = np.reshape(x_test['Close(t)'].values, (-1, 1))\n",
    "changes = y_test.values - close_t\n",
    "y_direction = np.array([1 if change >= 0 else 0 for change in changes]).reshape(-1,1)\n",
    "\n",
    "y_true = np.concatenate((y_test, y_direction), axis=1)\n",
    "df_true = pd.DataFrame.from_records(y_true).round(2)\n",
    "df_true.columns = ['actual', 'ditection']\n",
    "df_true.head(1)"
   ]
  },
  {
   "cell_type": "markdown",
   "metadata": {},
   "source": [
    "#  Prediction"
   ]
  },
  {
   "cell_type": "code",
   "execution_count": 49,
   "metadata": {},
   "outputs": [
    {
     "data": {
      "text/html": [
       "<div>\n",
       "<style scoped>\n",
       "    .dataframe tbody tr th:only-of-type {\n",
       "        vertical-align: middle;\n",
       "    }\n",
       "\n",
       "    .dataframe tbody tr th {\n",
       "        vertical-align: top;\n",
       "    }\n",
       "\n",
       "    .dataframe thead th {\n",
       "        text-align: right;\n",
       "    }\n",
       "</style>\n",
       "<table border=\"1\" class=\"dataframe\">\n",
       "  <thead>\n",
       "    <tr style=\"text-align: right;\">\n",
       "      <th></th>\n",
       "      <th>Linear</th>\n",
       "      <th>DT</th>\n",
       "      <th>RF</th>\n",
       "      <th>Ada_DT</th>\n",
       "      <th>Ada_RF</th>\n",
       "      <th>GB</th>\n",
       "      <th>XGB</th>\n",
       "    </tr>\n",
       "  </thead>\n",
       "  <tbody>\n",
       "    <tr>\n",
       "      <th>0</th>\n",
       "      <td>21.01</td>\n",
       "      <td>19.7</td>\n",
       "      <td>19.42</td>\n",
       "      <td>19.6</td>\n",
       "      <td>20.07</td>\n",
       "      <td>25.26</td>\n",
       "      <td>19.65</td>\n",
       "    </tr>\n",
       "    <tr>\n",
       "      <th>1</th>\n",
       "      <td>21.48</td>\n",
       "      <td>20.0</td>\n",
       "      <td>19.55</td>\n",
       "      <td>19.6</td>\n",
       "      <td>19.60</td>\n",
       "      <td>25.14</td>\n",
       "      <td>19.59</td>\n",
       "    </tr>\n",
       "    <tr>\n",
       "      <th>2</th>\n",
       "      <td>18.91</td>\n",
       "      <td>19.8</td>\n",
       "      <td>19.07</td>\n",
       "      <td>19.3</td>\n",
       "      <td>19.25</td>\n",
       "      <td>24.94</td>\n",
       "      <td>19.10</td>\n",
       "    </tr>\n",
       "    <tr>\n",
       "      <th>3</th>\n",
       "      <td>22.19</td>\n",
       "      <td>19.7</td>\n",
       "      <td>19.62</td>\n",
       "      <td>19.8</td>\n",
       "      <td>19.74</td>\n",
       "      <td>25.29</td>\n",
       "      <td>19.71</td>\n",
       "    </tr>\n",
       "    <tr>\n",
       "      <th>4</th>\n",
       "      <td>21.23</td>\n",
       "      <td>20.5</td>\n",
       "      <td>20.53</td>\n",
       "      <td>20.5</td>\n",
       "      <td>20.70</td>\n",
       "      <td>26.18</td>\n",
       "      <td>20.66</td>\n",
       "    </tr>\n",
       "  </tbody>\n",
       "</table>\n",
       "</div>"
      ],
      "text/plain": [
       "   Linear    DT     RF  Ada_DT  Ada_RF     GB    XGB\n",
       "0   21.01  19.7  19.42    19.6   20.07  25.26  19.65\n",
       "1   21.48  20.0  19.55    19.6   19.60  25.14  19.59\n",
       "2   18.91  19.8  19.07    19.3   19.25  24.94  19.10\n",
       "3   22.19  19.7  19.62    19.8   19.74  25.29  19.71\n",
       "4   21.23  20.5  20.53    20.5   20.70  26.18  20.66"
      ]
     },
     "execution_count": 49,
     "metadata": {},
     "output_type": "execute_result"
    }
   ],
   "source": [
    "y_pred = np.concatenate((lineregr.predict(x_test).reshape(-1,1),\n",
    "                         decis_tree_regr.predict(x_test).reshape(-1,1),\n",
    "                         rnd_forest_regr.predict(x_test).reshape(-1,1),\n",
    "                         adaboost_dt_regr.predict(x_test).reshape(-1,1),\n",
    "                         adaboost_rf_regr.predict(x_test).reshape(-1,1),\n",
    "                         gbr.predict(x_test).reshape(-1,1),\n",
    "                         xgb.predict(xgboost.DMatrix(x_test)).reshape(-1,1)), axis=1)\n",
    "\n",
    "df_pred = pd.DataFrame.from_records(y_pred).round(2)\n",
    "df_pred.columns = ['Linear', 'DT', 'RF', 'Ada_DT', 'Ada_RF', 'GB', 'XGB']\n",
    "df_pred.head()"
   ]
  },
  {
   "cell_type": "code",
   "execution_count": 41,
   "metadata": {},
   "outputs": [
    {
     "name": "stderr",
     "output_type": "stream",
     "text": [
      "/usr/local/lib/python3.5/dist-packages/ipykernel_launcher.py:2: DataConversionWarning:\n",
      "\n",
      "A column-vector y was passed when a 1d array was expected. Please change the shape of y to (n_samples,), for example using ravel().\n",
      "\n"
     ]
    },
    {
     "data": {
      "text/plain": [
       "RandomForestRegressor(bootstrap=True, criterion='mse', max_depth=None,\n",
       "           max_features='auto', max_leaf_nodes=None,\n",
       "           min_impurity_decrease=0.0, min_impurity_split=None,\n",
       "           min_samples_leaf=1, min_samples_split=2,\n",
       "           min_weight_fraction_leaf=0.0, n_estimators=10, n_jobs=-1,\n",
       "           oob_score=False, random_state=None, verbose=0, warm_start=False)"
      ]
     },
     "execution_count": 41,
     "metadata": {},
     "output_type": "execute_result"
    },
    {
     "name": "stdout",
     "output_type": "stream",
     "text": [
      "RMSE: 1.13 \tMAE: 0.58 \tMAPE: 0.67\n",
      "Linear \t 0.0202\n",
      "DT \t 0.1615\n",
      "RF \t 0.0826\n",
      "Ada_DT \t 0.2297\n",
      "Ada_RF \t 0.2634\n",
      "GB \t 0.0391\n",
      "XGB \t 0.2036\n"
     ]
    }
   ],
   "source": [
    "stack = ensemble.RandomForestRegressor(n_jobs=-1, max_depth=None, n_estimators=10)\n",
    "stack.fit(df_pred.values, y_test.values)\n",
    "feature_importances = stack.feature_importances_\n",
    "\n",
    "y_new_pred = stack.predict(df_pred.values).reshape(-1,1)\n",
    "\n",
    "RMSE = np.sqrt(mean_squared_error(y_test, y_new_pred))\n",
    "MAE = mean_absolute_error(y_test, y_new_pred)\n",
    "MAPE = mean_absolute_percentage_error(y_test, y_new_pred)\n",
    "\n",
    "print(\"RMSE: %.2f \\tMAE: %.2f \\tMAPE: %.2f\" % (RMSE, MAE, MAPE))\n",
    "\n",
    "for i, clf in enumerate(df_pred):\n",
    "    print(clf, '\\t', round(feature_importances[i],4))"
   ]
  },
  {
   "cell_type": "markdown",
   "metadata": {},
   "source": [
    "# Direction"
   ]
  },
  {
   "cell_type": "code",
   "execution_count": 42,
   "metadata": {},
   "outputs": [
    {
     "data": {
      "text/html": [
       "<div>\n",
       "<style scoped>\n",
       "    .dataframe tbody tr th:only-of-type {\n",
       "        vertical-align: middle;\n",
       "    }\n",
       "\n",
       "    .dataframe tbody tr th {\n",
       "        vertical-align: top;\n",
       "    }\n",
       "\n",
       "    .dataframe thead th {\n",
       "        text-align: right;\n",
       "    }\n",
       "</style>\n",
       "<table border=\"1\" class=\"dataframe\">\n",
       "  <thead>\n",
       "    <tr style=\"text-align: right;\">\n",
       "      <th></th>\n",
       "      <th>Linear</th>\n",
       "      <th>DT</th>\n",
       "      <th>RF</th>\n",
       "      <th>Ada_DT</th>\n",
       "      <th>Ada_RF</th>\n",
       "      <th>GB</th>\n",
       "      <th>XGB</th>\n",
       "    </tr>\n",
       "  </thead>\n",
       "  <tbody>\n",
       "    <tr>\n",
       "      <th>0</th>\n",
       "      <td>1</td>\n",
       "      <td>1</td>\n",
       "      <td>0</td>\n",
       "      <td>1</td>\n",
       "      <td>1</td>\n",
       "      <td>1</td>\n",
       "      <td>1</td>\n",
       "    </tr>\n",
       "    <tr>\n",
       "      <th>1</th>\n",
       "      <td>1</td>\n",
       "      <td>1</td>\n",
       "      <td>1</td>\n",
       "      <td>1</td>\n",
       "      <td>1</td>\n",
       "      <td>1</td>\n",
       "      <td>1</td>\n",
       "    </tr>\n",
       "    <tr>\n",
       "      <th>2</th>\n",
       "      <td>0</td>\n",
       "      <td>1</td>\n",
       "      <td>0</td>\n",
       "      <td>1</td>\n",
       "      <td>1</td>\n",
       "      <td>1</td>\n",
       "      <td>0</td>\n",
       "    </tr>\n",
       "    <tr>\n",
       "      <th>3</th>\n",
       "      <td>1</td>\n",
       "      <td>1</td>\n",
       "      <td>1</td>\n",
       "      <td>1</td>\n",
       "      <td>1</td>\n",
       "      <td>1</td>\n",
       "      <td>1</td>\n",
       "    </tr>\n",
       "    <tr>\n",
       "      <th>4</th>\n",
       "      <td>1</td>\n",
       "      <td>0</td>\n",
       "      <td>0</td>\n",
       "      <td>0</td>\n",
       "      <td>0</td>\n",
       "      <td>1</td>\n",
       "      <td>0</td>\n",
       "    </tr>\n",
       "  </tbody>\n",
       "</table>\n",
       "</div>"
      ],
      "text/plain": [
       "   Linear  DT  RF  Ada_DT  Ada_RF  GB  XGB\n",
       "0       1   1   0       1       1   1    1\n",
       "1       1   1   1       1       1   1    1\n",
       "2       0   1   0       1       1   1    0\n",
       "3       1   1   1       1       1   1    1\n",
       "4       1   0   0       0       0   1    0"
      ]
     },
     "execution_count": 42,
     "metadata": {},
     "output_type": "execute_result"
    }
   ],
   "source": [
    "y_changes = np.concatenate((np.array(y_pred[:,0]).reshape(-1,1)-close_t,\n",
    "                            np.array(y_pred[:,1]).reshape(-1,1)-close_t,\n",
    "                            np.array(y_pred[:,2]).reshape(-1,1)-close_t,\n",
    "                            np.array(y_pred[:,3]).reshape(-1,1)-close_t,\n",
    "                            np.array(y_pred[:,4]).reshape(-1,1)-close_t,\n",
    "                            np.array(y_pred[:,5]).reshape(-1,1)-close_t,\n",
    "                           np.array(y_pred[:,6]).reshape(-1,1)-close_t,\n",
    "                           ), axis=1)\n",
    "y_pred_dir = []\n",
    "for row in y_changes:\n",
    "    tmp_row = []\n",
    "\n",
    "    for change in row:\n",
    "        tmp_row.append(1 if change>=0 else 0)\n",
    "    y_pred_dir.append(tmp_row)\n",
    "    \n",
    "df_pred_dir = pd.DataFrame.from_records(y_pred_dir)\n",
    "df_pred_dir.columns = ['Linear', 'DT', 'RF', 'Ada_DT', 'Ada_RF', 'GB', 'XGB']\n",
    "df_pred_dir.head()"
   ]
  },
  {
   "cell_type": "markdown",
   "metadata": {},
   "source": [
    "# Evaluate Individual Model"
   ]
  },
  {
   "cell_type": "code",
   "execution_count": 50,
   "metadata": {},
   "outputs": [
    {
     "name": "stdout",
     "output_type": "stream",
     "text": [
      "Linear \tRMSE: 2.94 \tMAE: 2.20 \tMAPE: 6.97 \tDA: 0.49\n",
      "DT \tRMSE: 4.83 \tMAE: 2.46 \tMAPE: 2.32 \tDA: 0.56\n",
      "RF \tRMSE: 3.39 \tMAE: 1.71 \tMAPE: 1.86 \tDA: 0.55\n",
      "Ada_DT \tRMSE: 2.98 \tMAE: 1.55 \tMAPE: 1.55 \tDA: 0.57\n",
      "Ada_RF \tRMSE: 2.87 \tMAE: 1.59 \tMAPE: 1.86 \tDA: 0.55\n",
      "GB \tRMSE: 8.35 \tMAE: 6.48 \tMAPE: 23.29 \tDA: 0.52\n",
      "XGB \tRMSE: 2.78 \tMAE: 1.49 \tMAPE: 1.50 \tDA: 0.56\n"
     ]
    }
   ],
   "source": [
    "for clf in df_pred:\n",
    "    y_tmp = copy.deepcopy(df_pred[clf].values.reshape(-1,1))\n",
    "    RMSE = np.sqrt(mean_squared_error(y_test, y_tmp))\n",
    "    MAE = mean_absolute_error(y_test, y_tmp)\n",
    "    MAPE = mean_absolute_percentage_error(y_test, y_tmp)\n",
    "\n",
    "    DA = accuracy_score(y_direction, df_pred_dir[clf])\n",
    "    print(clf, \"\\tRMSE: %.2f \\tMAE: %.2f \\tMAPE: %.2f \\tDA: %.2f\" % (RMSE, MAE, MAPE, DA))"
   ]
  },
  {
   "cell_type": "markdown",
   "metadata": {},
   "source": [
    "# Ensenble Voting and Weighted Average"
   ]
  },
  {
   "cell_type": "code",
   "execution_count": 44,
   "metadata": {},
   "outputs": [
    {
     "name": "stdout",
     "output_type": "stream",
     "text": [
      "RMSE: 2.78 \tMAE: 1.57 \tMAPE: 2.05 \tDA: 0.58\n"
     ]
    }
   ],
   "source": [
    "df_pred['weight'] = (df_pred['Linear']*feature_importances[0] + \n",
    "                     df_pred['DT']*feature_importances[1] + \n",
    "                     df_pred['RF']*feature_importances[2] + \n",
    "                     df_pred['Ada_DT']*feature_importances[3] + \n",
    "                     df_pred['Ada_RF']*feature_importances[4] + \n",
    "                     df_pred['GB']*feature_importances[5] + \n",
    "                     df_pred['XGB']*feature_importances[6])\n",
    "\n",
    "df_pred_dir['vote'] = (df_pred_dir['Linear'] + df_pred_dir['DT'] + df_pred_dir['RF'] + df_pred_dir['Ada_DT'] + df_pred_dir['Ada_RF'] + df_pred_dir['GB'] + df_pred_dir['XGB'])/7\n",
    "df_pred_dir.vote = df_pred_dir.vote.round(0)\n",
    "\n",
    "y_pred = copy.deepcopy(df_pred['weight'].values.reshape(-1,1))\n",
    "RMSE = np.sqrt(mean_squared_error(y_test, y_pred))\n",
    "MAE = mean_absolute_error(y_test, y_pred)\n",
    "MAPE = mean_absolute_percentage_error(y_test, y_pred)\n",
    "\n",
    "DA = accuracy_score(y_direction, df_pred_dir['vote'].values.reshape(-1,1))\n",
    "print(\"RMSE: %.2f \\tMAE: %.2f \\tMAPE: %.2f \\tDA: %.2f\" % (RMSE, MAE, MAPE, DA))"
   ]
  },
  {
   "cell_type": "code",
   "execution_count": 45,
   "metadata": {},
   "outputs": [
    {
     "name": "stdout",
     "output_type": "stream",
     "text": [
      "RMSE: 2.97 \tMAE: 1.86 \tMAPE: 4.16 \tDA: 0.58\n"
     ]
    }
   ],
   "source": [
    "df_pred['weight'] = (df_pred['Linear'] + df_pred['DT'] + df_pred['RF'] + df_pred['Ada_DT'] + df_pred['Ada_RF'] + df_pred['GB'] + df_pred['XGB'])/7\n",
    "\n",
    "df_pred_dir['vote'] = (df_pred_dir['Linear'] + df_pred_dir['DT'] + df_pred_dir['RF'] + df_pred_dir['Ada_DT'] + df_pred_dir['Ada_RF'] + df_pred_dir['GB'] + df_pred_dir['XGB'])/7\n",
    "df_pred_dir.vote = df_pred_dir.vote.round(0)\n",
    "\n",
    "y_pred = copy.deepcopy(df_pred['weight'].values.reshape(-1,1))\n",
    "RMSE = np.sqrt(mean_squared_error(y_test, y_pred))\n",
    "MAE = mean_absolute_error(y_test, y_pred)\n",
    "MAPE = mean_absolute_percentage_error(y_test, y_pred)\n",
    "\n",
    "DA = accuracy_score(y_direction, df_pred_dir['vote'].values.reshape(-1,1))\n",
    "print(\"RMSE: %.2f \\tMAE: %.2f \\tMAPE: %.2f \\tDA: %.2f\" % (RMSE, MAE, MAPE, DA))"
   ]
  },
  {
   "cell_type": "code",
   "execution_count": null,
   "metadata": {},
   "outputs": [],
   "source": []
  }
 ],
 "metadata": {
  "kernelspec": {
   "display_name": "Python 3",
   "language": "python",
   "name": "python3"
  },
  "language_info": {
   "codemirror_mode": {
    "name": "ipython",
    "version": 3
   },
   "file_extension": ".py",
   "mimetype": "text/x-python",
   "name": "python",
   "nbconvert_exporter": "python",
   "pygments_lexer": "ipython3",
   "version": "3.5.2"
  }
 },
 "nbformat": 4,
 "nbformat_minor": 2
}
