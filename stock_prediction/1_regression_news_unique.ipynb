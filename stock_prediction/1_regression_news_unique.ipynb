{
 "cells": [
  {
   "cell_type": "markdown",
   "metadata": {},
   "source": [
    "# Regression with news (only one stock included)"
   ]
  },
  {
   "cell_type": "code",
   "execution_count": 1,
   "metadata": {},
   "outputs": [
    {
     "data": {
      "text/html": [
       "<style>.container { width:100% !important; }</style>"
      ],
      "text/plain": [
       "<IPython.core.display.HTML object>"
      ]
     },
     "metadata": {},
     "output_type": "display_data"
    },
    {
     "data": {
      "text/html": [
       "<script>requirejs.config({paths: { 'plotly': ['https://cdn.plot.ly/plotly-latest.min']},});if(!window.Plotly) {{require(['plotly'],function(plotly) {window.Plotly=plotly;});}}</script>"
      ],
      "text/vnd.plotly.v1+html": [
       "<script>requirejs.config({paths: { 'plotly': ['https://cdn.plot.ly/plotly-latest.min']},});if(!window.Plotly) {{require(['plotly'],function(plotly) {window.Plotly=plotly;});}}</script>"
      ]
     },
     "metadata": {},
     "output_type": "display_data"
    }
   ],
   "source": [
    "from IPython.core.display import display, HTML\n",
    "display(HTML(\"<style>.container { width:100% !important; }</style>\"))\n",
    "\n",
    "from IPython.core.interactiveshell import InteractiveShell\n",
    "InteractiveShell.ast_node_interactivity = \"all\"\n",
    "\n",
    "from plotly.offline import download_plotlyjs, init_notebook_mode, plot, iplot\n",
    "init_notebook_mode(connected=True)"
   ]
  },
  {
   "cell_type": "code",
   "execution_count": 2,
   "metadata": {},
   "outputs": [],
   "source": [
    "import numpy as np\n",
    "import pandas as pd\n",
    "import os\n",
    "import copy\n",
    "import sklearn\n",
    "import xgboost\n",
    "import plotly.graph_objs as go\n",
    "import matplotlib.pyplot as plt\n",
    "\n",
    "from pythainlp.corpus import stopwords\n",
    "from datetime import datetime, timedelta\n",
    "from tqdm import tqdm_notebook\n",
    "from sklearn import tree, ensemble\n",
    "\n",
    "% matplotlib inline\n",
    "\n",
    "target_stocks = ['BANPU','IRPC','PTT','BBL','KBANK','SCB','AOT','THAI','CPF','MINT',\n",
    "                 'TU','SCC','CPN','CK','CPALL','HMPRO','BDMS','BH','ADVANC','JAS','TRUE']"
   ]
  },
  {
   "cell_type": "code",
   "execution_count": 3,
   "metadata": {},
   "outputs": [
    {
     "data": {
      "text/html": [
       "<div>\n",
       "<style scoped>\n",
       "    .dataframe tbody tr th:only-of-type {\n",
       "        vertical-align: middle;\n",
       "    }\n",
       "\n",
       "    .dataframe tbody tr th {\n",
       "        vertical-align: top;\n",
       "    }\n",
       "\n",
       "    .dataframe thead th {\n",
       "        text-align: right;\n",
       "    }\n",
       "</style>\n",
       "<table border=\"1\" class=\"dataframe\">\n",
       "  <thead>\n",
       "    <tr style=\"text-align: right;\">\n",
       "      <th></th>\n",
       "      <th>Ticker</th>\n",
       "      <th>Open</th>\n",
       "      <th>High</th>\n",
       "      <th>Low</th>\n",
       "      <th>Close</th>\n",
       "      <th>Volume</th>\n",
       "    </tr>\n",
       "    <tr>\n",
       "      <th>Date</th>\n",
       "      <th></th>\n",
       "      <th></th>\n",
       "      <th></th>\n",
       "      <th></th>\n",
       "      <th></th>\n",
       "      <th></th>\n",
       "    </tr>\n",
       "  </thead>\n",
       "  <tbody>\n",
       "    <tr>\n",
       "      <th>2018-02-16</th>\n",
       "      <td>THAI</td>\n",
       "      <td>15.6</td>\n",
       "      <td>15.9</td>\n",
       "      <td>15.6</td>\n",
       "      <td>15.6</td>\n",
       "      <td>2907700</td>\n",
       "    </tr>\n",
       "    <tr>\n",
       "      <th>2018-02-16</th>\n",
       "      <td>TRUE</td>\n",
       "      <td>6.4</td>\n",
       "      <td>6.4</td>\n",
       "      <td>6.3</td>\n",
       "      <td>6.3</td>\n",
       "      <td>35851300</td>\n",
       "    </tr>\n",
       "    <tr>\n",
       "      <th>2018-02-16</th>\n",
       "      <td>TU</td>\n",
       "      <td>20.0</td>\n",
       "      <td>20.5</td>\n",
       "      <td>20.0</td>\n",
       "      <td>20.1</td>\n",
       "      <td>7299300</td>\n",
       "    </tr>\n",
       "  </tbody>\n",
       "</table>\n",
       "</div>"
      ],
      "text/plain": [
       "           Ticker  Open  High   Low  Close    Volume\n",
       "Date                                                \n",
       "2018-02-16   THAI  15.6  15.9  15.6   15.6   2907700\n",
       "2018-02-16   TRUE   6.4   6.4   6.3    6.3  35851300\n",
       "2018-02-16     TU  20.0  20.5  20.0   20.1   7299300"
      ]
     },
     "execution_count": 3,
     "metadata": {},
     "output_type": "execute_result"
    },
    {
     "data": {
      "text/plain": [
       "26331"
      ]
     },
     "execution_count": 3,
     "metadata": {},
     "output_type": "execute_result"
    },
    {
     "data": {
      "text/html": [
       "<div>\n",
       "<style scoped>\n",
       "    .dataframe tbody tr th:only-of-type {\n",
       "        vertical-align: middle;\n",
       "    }\n",
       "\n",
       "    .dataframe tbody tr th {\n",
       "        vertical-align: top;\n",
       "    }\n",
       "\n",
       "    .dataframe thead th {\n",
       "        text-align: right;\n",
       "    }\n",
       "</style>\n",
       "<table border=\"1\" class=\"dataframe\">\n",
       "  <thead>\n",
       "    <tr style=\"text-align: right;\">\n",
       "      <th></th>\n",
       "      <th>Ticker</th>\n",
       "      <th>Text</th>\n",
       "    </tr>\n",
       "  </thead>\n",
       "  <tbody>\n",
       "    <tr>\n",
       "      <th>2018-02-01</th>\n",
       "      <td>KBANK</td>\n",
       "      <td>สำนักงาน คณะกรรมการ กำกับ หลักทรัพย์ และ ตลาดห...</td>\n",
       "    </tr>\n",
       "    <tr>\n",
       "      <th>2018-02-05</th>\n",
       "      <td>CPF</td>\n",
       "      <td>บริษัท เจริญ โภคภัณฑ์ อาหาร จำกัด มหาชน หรือ จ...</td>\n",
       "    </tr>\n",
       "    <tr>\n",
       "      <th>2018-02-06</th>\n",
       "      <td>KBANK</td>\n",
       "      <td>นาย ศีล วัต สัน ติวิสัฎฐ์ นั่ง ขวา รอง กรรมการ...</td>\n",
       "    </tr>\n",
       "  </tbody>\n",
       "</table>\n",
       "</div>"
      ],
      "text/plain": [
       "           Ticker                                               Text\n",
       "2018-02-01  KBANK  สำนักงาน คณะกรรมการ กำกับ หลักทรัพย์ และ ตลาดห...\n",
       "2018-02-05    CPF  บริษัท เจริญ โภคภัณฑ์ อาหาร จำกัด มหาชน หรือ จ...\n",
       "2018-02-06  KBANK  นาย ศีล วัต สัน ติวิสัฎฐ์ นั่ง ขวา รอง กรรมการ..."
      ]
     },
     "execution_count": 3,
     "metadata": {},
     "output_type": "execute_result"
    },
    {
     "data": {
      "text/plain": [
       "2162"
      ]
     },
     "execution_count": 3,
     "metadata": {},
     "output_type": "execute_result"
    },
    {
     "data": {
      "text/html": [
       "<div>\n",
       "<style scoped>\n",
       "    .dataframe tbody tr th:only-of-type {\n",
       "        vertical-align: middle;\n",
       "    }\n",
       "\n",
       "    .dataframe tbody tr th {\n",
       "        vertical-align: top;\n",
       "    }\n",
       "\n",
       "    .dataframe thead th {\n",
       "        text-align: right;\n",
       "    }\n",
       "</style>\n",
       "<table border=\"1\" class=\"dataframe\">\n",
       "  <thead>\n",
       "    <tr style=\"text-align: right;\">\n",
       "      <th></th>\n",
       "      <th>Ticker</th>\n",
       "      <th>Text</th>\n",
       "    </tr>\n",
       "  </thead>\n",
       "  <tbody>\n",
       "    <tr>\n",
       "      <th>2018-01-24</th>\n",
       "      <td>SCC</td>\n",
       "      <td>แจ้ง กำไร ออกมา ดีกว่า คาด ไตรมาส จำนวน หมื่น ...</td>\n",
       "    </tr>\n",
       "    <tr>\n",
       "      <th>2018-02-01</th>\n",
       "      <td>PTT</td>\n",
       "      <td>ปตท ตอบรับ นโยบาย สังคม ไร้ เงินสด ตอบสนอง ไลฟ...</td>\n",
       "    </tr>\n",
       "    <tr>\n",
       "      <th>2018-02-08</th>\n",
       "      <td>PTT</td>\n",
       "      <td>ตลาดหุ้น ไทย เปิด บวก แรง ซื้อ หุ้น นำ ตลาด ผส...</td>\n",
       "    </tr>\n",
       "  </tbody>\n",
       "</table>\n",
       "</div>"
      ],
      "text/plain": [
       "           Ticker                                               Text\n",
       "2018-01-24    SCC  แจ้ง กำไร ออกมา ดีกว่า คาด ไตรมาส จำนวน หมื่น ...\n",
       "2018-02-01    PTT  ปตท ตอบรับ นโยบาย สังคม ไร้ เงินสด ตอบสนอง ไลฟ...\n",
       "2018-02-08    PTT  ตลาดหุ้น ไทย เปิด บวก แรง ซื้อ หุ้น นำ ตลาด ผส..."
      ]
     },
     "execution_count": 3,
     "metadata": {},
     "output_type": "execute_result"
    },
    {
     "data": {
      "text/plain": [
       "693"
      ]
     },
     "execution_count": 3,
     "metadata": {},
     "output_type": "execute_result"
    },
    {
     "data": {
      "text/plain": [
       "('Total:', 2855)"
      ]
     },
     "execution_count": 3,
     "metadata": {},
     "output_type": "execute_result"
    }
   ],
   "source": [
    "df_price = pd.read_csv('merged_2013_2018.csv')\n",
    "df_price['Date'] = pd.to_datetime(df_price['Date'], format='%Y-%m-%d')\n",
    "df_price = df_price.loc[df_price['Ticker'].isin(target_stocks)]\n",
    "df_price['Date'] = df_price['Date'].dt.date\n",
    "df_price = df_price.set_index('Date')\n",
    "df_price.tail(3)\n",
    "len(df_price)\n",
    "\n",
    "df_kaohoon = pd.read_csv('data/kaohoon.csv')\n",
    "df_kaohoon['Date'] = pd.to_datetime(df_kaohoon['Date'], format='%Y-%m-%d')\n",
    "df_kaohoon = df_kaohoon.set_index('Date')\n",
    "df_kaohoon = df_kaohoon[:'2018-2-8']\n",
    "df_kaohoon.index = df_kaohoon.index.date\n",
    "df_kaohoon.tail(3)\n",
    "len(df_kaohoon)\n",
    "\n",
    "df_moneych = pd.read_csv('data/moneychanel.csv')\n",
    "df_moneych['Date'] = pd.to_datetime(df_moneych['Date'], format='%Y-%m-%d')\n",
    "df_moneych = df_moneych.set_index('Date')\n",
    "df_moneych = df_moneych[:'2018-2-8']\n",
    "df_moneych.index = df_moneych.index.date\n",
    "df_moneych.tail(3)\n",
    "len(df_moneych)\n",
    "\n",
    "df_news = pd.concat([df_moneych, df_kaohoon])\n",
    "'Total:', len(df_news.index)"
   ]
  },
  {
   "cell_type": "markdown",
   "metadata": {},
   "source": [
    "# Lag & Horizon Construction"
   ]
  },
  {
   "cell_type": "code",
   "execution_count": 4,
   "metadata": {
    "collapsed": true
   },
   "outputs": [
    {
     "data": {
      "application/vnd.jupyter.widget-view+json": {
       "model_id": "3ec5233d297848059a0fa3876ee2c344",
       "version_major": 2,
       "version_minor": 0
      },
      "text/html": [
       "<p>Failed to display Jupyter Widget of type <code>HBox</code>.</p>\n",
       "<p>\n",
       "  If you're reading this message in the Jupyter Notebook or JupyterLab Notebook, it may mean\n",
       "  that the widgets JavaScript is still loading. If this message persists, it\n",
       "  likely means that the widgets JavaScript library is either not installed or\n",
       "  not enabled. See the <a href=\"https://ipywidgets.readthedocs.io/en/stable/user_install.html\">Jupyter\n",
       "  Widgets Documentation</a> for setup instructions.\n",
       "</p>\n",
       "<p>\n",
       "  If you're reading this message in another frontend (for example, a static\n",
       "  rendering on GitHub or <a href=\"https://nbviewer.jupyter.org/\">NBViewer</a>),\n",
       "  it may mean that your frontend doesn't currently support widgets.\n",
       "</p>\n"
      ],
      "text/plain": [
       "HBox(children=(IntProgress(value=0, max=21), HTML(value='')))"
      ]
     },
     "metadata": {},
     "output_type": "display_data"
    },
    {
     "name": "stdout",
     "output_type": "stream",
     "text": [
      "BANPU :\t 84 21\n",
      "IRPC :\t 72 19\n",
      "PTT :\t 209 53\n",
      "BBL :\t 101 26\n",
      "KBANK :\t 126 32\n",
      "SCB :\t 119 30\n",
      "AOT :\t 137 35\n",
      "THAI :\t 123 31\n",
      "CPF :\t 144 36\n",
      "MINT :\t 72 19\n",
      "TU :\t 52 14\n",
      "SCC :\t 88 23\n",
      "CPN :\t 67 17\n",
      "CK :\t 63 16\n",
      "CPALL :\t 44 11\n",
      "HMPRO :\t 50 13\n",
      "BDMS :\t 67 17\n",
      "BH :\t 48 13\n",
      "ADVANC :\t 114 29\n",
      "JAS :\t 101 26\n",
      "TRUE :\t 86 22\n",
      "\n"
     ]
    },
    {
     "data": {
      "text/plain": [
       "(1967, 503)"
      ]
     },
     "execution_count": 4,
     "metadata": {},
     "output_type": "execute_result"
    },
    {
     "data": {
      "text/html": [
       "<div>\n",
       "<style scoped>\n",
       "    .dataframe tbody tr th:only-of-type {\n",
       "        vertical-align: middle;\n",
       "    }\n",
       "\n",
       "    .dataframe tbody tr th {\n",
       "        vertical-align: top;\n",
       "    }\n",
       "\n",
       "    .dataframe thead th {\n",
       "        text-align: right;\n",
       "    }\n",
       "</style>\n",
       "<table border=\"1\" class=\"dataframe\">\n",
       "  <thead>\n",
       "    <tr style=\"text-align: right;\">\n",
       "      <th></th>\n",
       "      <th>Ticker</th>\n",
       "      <th>Text</th>\n",
       "      <th>Close(t+1)</th>\n",
       "      <th>Open(t)</th>\n",
       "      <th>High(t)</th>\n",
       "      <th>Low(t)</th>\n",
       "      <th>Close(t)</th>\n",
       "      <th>Open(t-1)</th>\n",
       "      <th>High(t-1)</th>\n",
       "      <th>Low(t-1)</th>\n",
       "      <th>Close(t-1)</th>\n",
       "      <th>Open(t-2)</th>\n",
       "      <th>High(t-2)</th>\n",
       "      <th>Low(t-2)</th>\n",
       "      <th>Close(t-2)</th>\n",
       "    </tr>\n",
       "    <tr>\n",
       "      <th>Date</th>\n",
       "      <th></th>\n",
       "      <th></th>\n",
       "      <th></th>\n",
       "      <th></th>\n",
       "      <th></th>\n",
       "      <th></th>\n",
       "      <th></th>\n",
       "      <th></th>\n",
       "      <th></th>\n",
       "      <th></th>\n",
       "      <th></th>\n",
       "      <th></th>\n",
       "      <th></th>\n",
       "      <th></th>\n",
       "      <th></th>\n",
       "    </tr>\n",
       "  </thead>\n",
       "  <tbody>\n",
       "    <tr>\n",
       "      <th>2015-02-12</th>\n",
       "      <td>BANPU</td>\n",
       "      <td>ใน ช่วง ภาค บ่าย จับตา หุ้น วันนี้ วอ ลุ่ม หนา...</td>\n",
       "      <td>27.75</td>\n",
       "      <td>26.0</td>\n",
       "      <td>27.75</td>\n",
       "      <td>26.0</td>\n",
       "      <td>27.5</td>\n",
       "      <td>25.75</td>\n",
       "      <td>26.0</td>\n",
       "      <td>25.25</td>\n",
       "      <td>25.75</td>\n",
       "      <td>25.5</td>\n",
       "      <td>26.0</td>\n",
       "      <td>25.25</td>\n",
       "      <td>25.75</td>\n",
       "    </tr>\n",
       "  </tbody>\n",
       "</table>\n",
       "</div>"
      ],
      "text/plain": [
       "           Ticker                                               Text  \\\n",
       "Date                                                                   \n",
       "2015-02-12  BANPU  ใน ช่วง ภาค บ่าย จับตา หุ้น วันนี้ วอ ลุ่ม หนา...   \n",
       "\n",
       "            Close(t+1)  Open(t)  High(t)  Low(t)  Close(t)  Open(t-1)  \\\n",
       "Date                                                                    \n",
       "2015-02-12       27.75     26.0    27.75    26.0      27.5      25.75   \n",
       "\n",
       "            High(t-1)  Low(t-1)  Close(t-1)  Open(t-2)  High(t-2)  Low(t-2)  \\\n",
       "Date                                                                          \n",
       "2015-02-12       26.0     25.25       25.75       25.5       26.0     25.25   \n",
       "\n",
       "            Close(t-2)  \n",
       "Date                    \n",
       "2015-02-12       25.75  "
      ]
     },
     "execution_count": 4,
     "metadata": {},
     "output_type": "execute_result"
    },
    {
     "data": {
      "text/html": [
       "<div>\n",
       "<style scoped>\n",
       "    .dataframe tbody tr th:only-of-type {\n",
       "        vertical-align: middle;\n",
       "    }\n",
       "\n",
       "    .dataframe tbody tr th {\n",
       "        vertical-align: top;\n",
       "    }\n",
       "\n",
       "    .dataframe thead th {\n",
       "        text-align: right;\n",
       "    }\n",
       "</style>\n",
       "<table border=\"1\" class=\"dataframe\">\n",
       "  <thead>\n",
       "    <tr style=\"text-align: right;\">\n",
       "      <th></th>\n",
       "      <th>Ticker</th>\n",
       "      <th>Text</th>\n",
       "      <th>Close(t+1)</th>\n",
       "      <th>Open(t)</th>\n",
       "      <th>High(t)</th>\n",
       "      <th>Low(t)</th>\n",
       "      <th>Close(t)</th>\n",
       "      <th>Open(t-1)</th>\n",
       "      <th>High(t-1)</th>\n",
       "      <th>Low(t-1)</th>\n",
       "      <th>Close(t-1)</th>\n",
       "      <th>Open(t-2)</th>\n",
       "      <th>High(t-2)</th>\n",
       "      <th>Low(t-2)</th>\n",
       "      <th>Close(t-2)</th>\n",
       "    </tr>\n",
       "    <tr>\n",
       "      <th>Date</th>\n",
       "      <th></th>\n",
       "      <th></th>\n",
       "      <th></th>\n",
       "      <th></th>\n",
       "      <th></th>\n",
       "      <th></th>\n",
       "      <th></th>\n",
       "      <th></th>\n",
       "      <th></th>\n",
       "      <th></th>\n",
       "      <th></th>\n",
       "      <th></th>\n",
       "      <th></th>\n",
       "      <th></th>\n",
       "      <th></th>\n",
       "    </tr>\n",
       "  </thead>\n",
       "  <tbody>\n",
       "    <tr>\n",
       "      <th>2017-01-27</th>\n",
       "      <td>BANPU</td>\n",
       "      <td>บ ลดี บีเอ สวิคเคอร์ส ระบุ ใน บทวิเคราะห์ วัน ...</td>\n",
       "      <td>19.2</td>\n",
       "      <td>19.6</td>\n",
       "      <td>19.8</td>\n",
       "      <td>19.4</td>\n",
       "      <td>19.6</td>\n",
       "      <td>20.1</td>\n",
       "      <td>20.1</td>\n",
       "      <td>19.6</td>\n",
       "      <td>19.6</td>\n",
       "      <td>19.8</td>\n",
       "      <td>20.1</td>\n",
       "      <td>19.8</td>\n",
       "      <td>20.0</td>\n",
       "    </tr>\n",
       "  </tbody>\n",
       "</table>\n",
       "</div>"
      ],
      "text/plain": [
       "           Ticker                                               Text  \\\n",
       "Date                                                                   \n",
       "2017-01-27  BANPU  บ ลดี บีเอ สวิคเคอร์ส ระบุ ใน บทวิเคราะห์ วัน ...   \n",
       "\n",
       "            Close(t+1)  Open(t)  High(t)  Low(t)  Close(t)  Open(t-1)  \\\n",
       "Date                                                                    \n",
       "2017-01-27        19.2     19.6     19.8    19.4      19.6       20.1   \n",
       "\n",
       "            High(t-1)  Low(t-1)  Close(t-1)  Open(t-2)  High(t-2)  Low(t-2)  \\\n",
       "Date                                                                          \n",
       "2017-01-27       20.1      19.6        19.6       19.8       20.1      19.8   \n",
       "\n",
       "            Close(t-2)  \n",
       "Date                    \n",
       "2017-01-27        20.0  "
      ]
     },
     "execution_count": 4,
     "metadata": {},
     "output_type": "execute_result"
    }
   ],
   "source": [
    "N_lags = 3\n",
    "N_horizon = 1\n",
    "\n",
    "df_train = []\n",
    "df_test = []\n",
    "for stock in tqdm_notebook(target_stocks):\n",
    "    news_stocks = []\n",
    "    df_stock = df_news.loc[df_news['Ticker'] == stock]\n",
    "    prev_date = None\n",
    "    prev_text = None\n",
    "    for date, row in df_stock.iterrows():\n",
    "        if prev_date == None:\n",
    "            prev_date = date\n",
    "            prev_text = row['Text']\n",
    "        elif prev_date != date:\n",
    "            # horizon\n",
    "            tmp_date = copy.deepcopy(prev_date)\n",
    "            tmp_date += timedelta(days=1)\n",
    "            prices = []\n",
    "            count_lags = 0 \n",
    "            while count_lags < N_horizon:\n",
    "                price = df_price.loc[(df_price.index == tmp_date) & (df_price['Ticker'] == stock)].values\n",
    "                tmp_date += timedelta(days=1)\n",
    "                if len(price) == 0: continue\n",
    "                prices.append(price[0][4]) # Close price next day(s)\n",
    "                count_lags+=1\n",
    "            \n",
    "            # lag\n",
    "            tmp_date = copy.deepcopy(prev_date)\n",
    "            count_lags = 0 \n",
    "            while count_lags < N_lags:\n",
    "                price = df_price.loc[(df_price.index == tmp_date) & (df_price['Ticker'] == stock)].values\n",
    "                tmp_date -= timedelta(days=1)\n",
    "                if len(price) == 0: continue\n",
    "                for val in price[0][:-1]: \n",
    "                    if type(val) != str: prices.append(val)\n",
    "                count_lags+=1\n",
    "\n",
    "            news_stocks.append([prev_date, stock, prev_text] + prices)\n",
    "            \n",
    "            prev_date = date\n",
    "            prev_text = row['Text']\n",
    "        elif prev_date == date:\n",
    "            prev_text += ' '+row['Text']\n",
    "\n",
    "    news_stocks = pd.DataFrame.from_records(news_stocks)\n",
    "    news_stocks.columns = ['Date', 'Ticker', 'Text', \n",
    "                           'Close(t+1)', # 'Close(t+2)','Close(t+3)','Close(t+4)','Close(t+5)',\n",
    "                           'Open(t)', 'High(t)', 'Low(t)', 'Close(t)',\n",
    "                           'Open(t-1)', 'High(t-1)', 'Low(t-1)', 'Close(t-1)',\n",
    "                           'Open(t-2)', 'High(t-2)', 'Low(t-2)', 'Close(t-2)',\n",
    "#                            'Open(t-3)', 'High(t-3)', 'Low(t-3)', 'Close(t-3)',\n",
    "#                            'Open(t-4)', 'High(t-4)', 'Low(t-4)', 'Close(t-4)',\n",
    "#                            'Open(t-5)', 'High(t-5)', 'Low(t-5)', 'Close(t-5)'\n",
    "                          ]\n",
    "    news_stocks = news_stocks.set_index('Date')\n",
    "    \n",
    "    train_size = int(len(news_stocks) * 0.80)\n",
    "    test_size = len(news_stocks) - train_size\n",
    "    train, test = news_stocks.iloc[:train_size], news_stocks.iloc[train_size:]\n",
    "    print(stock, ':\\t',len(train), len(test))    \n",
    "    df_train.append(train)\n",
    "    df_test.append(test)\n",
    "\n",
    "df_train = pd.concat(df_train, axis=0)\n",
    "df_test = pd.concat(df_test, axis=0)\n",
    "\n",
    "len(df_train), len(df_test) \n",
    "df_train.head(1)\n",
    "df_test.head(1)"
   ]
  },
  {
   "cell_type": "code",
   "execution_count": 5,
   "metadata": {},
   "outputs": [],
   "source": [
    "# df_train.to_csv('data/df_train_news_unique.csv')\n",
    "# df_test.to_csv('data/df_test_news_unique.csv')"
   ]
  },
  {
   "cell_type": "code",
   "execution_count": 3,
   "metadata": {},
   "outputs": [],
   "source": [
    "df_train = pd.read_csv('data/df_train_news_unique.csv')\n",
    "df_train['Date'] = pd.to_datetime(df_train['Date'], format='%Y-%m-%d')\n",
    "df_train = df_train.set_index('Date')\n",
    "\n",
    "df_test = pd.read_csv('data/df_test_news_unique.csv')\n",
    "df_test['Date'] = pd.to_datetime(df_test['Date'], format='%Y-%m-%d')\n",
    "df_test = df_test.set_index('Date')"
   ]
  },
  {
   "cell_type": "code",
   "execution_count": 4,
   "metadata": {},
   "outputs": [],
   "source": [
    "df_train = df_train[['Ticker', 'Text', 'Close(t+1)', 'Close(t)', 'Close(t-1)', 'Close(t-2)']]\n",
    "df_test = df_test[['Ticker', 'Text', 'Close(t+1)', 'Close(t)', 'Close(t-1)', 'Close(t-2)']]"
   ]
  },
  {
   "cell_type": "code",
   "execution_count": 5,
   "metadata": {},
   "outputs": [
    {
     "data": {
      "text/plain": [
       "(1967, 6)"
      ]
     },
     "execution_count": 5,
     "metadata": {},
     "output_type": "execute_result"
    },
    {
     "data": {
      "text/plain": [
       "(503, 6)"
      ]
     },
     "execution_count": 5,
     "metadata": {},
     "output_type": "execute_result"
    }
   ],
   "source": [
    "df_train.shape\n",
    "df_test.shape"
   ]
  },
  {
   "cell_type": "markdown",
   "metadata": {},
   "source": [
    "# TF-IDF Vetorization"
   ]
  },
  {
   "cell_type": "code",
   "execution_count": 100,
   "metadata": {},
   "outputs": [],
   "source": [
    "# Thai shtopwords\n",
    "stop_words = stopwords.words('thai')\n",
    "stop_words.remove('ขึ้น')\n",
    "stop_words.remove('ลง')"
   ]
  },
  {
   "cell_type": "code",
   "execution_count": 148,
   "metadata": {},
   "outputs": [],
   "source": [
    "vertorizer = sklearn.feature_extraction.text.TfidfVectorizer(\n",
    "    stop_words=stop_words,\n",
    "    max_df=0.90,  \n",
    "    min_df=0.01,\n",
    ")"
   ]
  },
  {
   "cell_type": "code",
   "execution_count": 149,
   "metadata": {},
   "outputs": [
    {
     "data": {
      "text/plain": [
       "(1967, 1459)"
      ]
     },
     "execution_count": 149,
     "metadata": {},
     "output_type": "execute_result"
    },
    {
     "data": {
      "text/plain": [
       "(503, 1459)"
      ]
     },
     "execution_count": 149,
     "metadata": {},
     "output_type": "execute_result"
    },
    {
     "data": {
      "text/plain": [
       "array(['ADVANC', 'AOT', 'BANPU', 'BBL', 'BDMS', 'BH', 'CK', 'CPALL',\n",
       "       'CPF', 'CPN', 'HMPRO', 'IRPC', 'JAS', 'KBANK', 'MINT', 'PTT',\n",
       "       'SCB', 'SCC', 'THAI', 'TRUE', 'TU'], dtype=object)"
      ]
     },
     "execution_count": 149,
     "metadata": {},
     "output_type": "execute_result"
    }
   ],
   "source": [
    "tfidf_train = vertorizer.fit_transform(df_train['Text'])\n",
    "tfidf_test = vertorizer.transform(df_test['Text'])\n",
    "\n",
    "df_tfidf_train = pd.DataFrame.from_records(tfidf_train.toarray())\n",
    "df_tfidf_test = pd.DataFrame.from_records(tfidf_test.toarray())\n",
    "\n",
    "df_tfidf_train = df_tfidf_train.set_index(df_train.index)\n",
    "df_tfidf_test = df_tfidf_test.set_index(df_test.index)\n",
    "\n",
    "df_tfidf_train.shape\n",
    "df_tfidf_test.shape\n",
    "\n",
    "# replace Text with TF-IDF vector\n",
    "x_train = df_train.drop(['Text'], axis=1)\n",
    "x_train = pd.concat([x_train, df_tfidf_train], axis=1)\n",
    "\n",
    "x_test = df_test.drop(['Text'], axis=1)\n",
    "x_test = pd.concat([x_test, df_tfidf_test], axis=1)\n",
    "\n",
    "# Label Encoding\n",
    "le = sklearn.preprocessing.LabelEncoder()\n",
    "x_train['Ticker'] = le.fit_transform(x_train['Ticker'])\n",
    "x_test['Ticker'] = le.transform(x_test['Ticker'])\n",
    "le.classes_"
   ]
  },
  {
   "cell_type": "markdown",
   "metadata": {},
   "source": [
    "## Price only"
   ]
  },
  {
   "cell_type": "code",
   "execution_count": 6,
   "metadata": {},
   "outputs": [
    {
     "data": {
      "text/html": [
       "<div>\n",
       "<style scoped>\n",
       "    .dataframe tbody tr th:only-of-type {\n",
       "        vertical-align: middle;\n",
       "    }\n",
       "\n",
       "    .dataframe tbody tr th {\n",
       "        vertical-align: top;\n",
       "    }\n",
       "\n",
       "    .dataframe thead th {\n",
       "        text-align: right;\n",
       "    }\n",
       "</style>\n",
       "<table border=\"1\" class=\"dataframe\">\n",
       "  <thead>\n",
       "    <tr style=\"text-align: right;\">\n",
       "      <th></th>\n",
       "      <th>Ticker</th>\n",
       "      <th>Close(t+1)</th>\n",
       "      <th>Close(t)</th>\n",
       "      <th>Close(t-1)</th>\n",
       "      <th>Close(t-2)</th>\n",
       "    </tr>\n",
       "    <tr>\n",
       "      <th>Date</th>\n",
       "      <th></th>\n",
       "      <th></th>\n",
       "      <th></th>\n",
       "      <th></th>\n",
       "      <th></th>\n",
       "    </tr>\n",
       "  </thead>\n",
       "  <tbody>\n",
       "    <tr>\n",
       "      <th>2015-02-12</th>\n",
       "      <td>2</td>\n",
       "      <td>27.75</td>\n",
       "      <td>27.5</td>\n",
       "      <td>25.75</td>\n",
       "      <td>25.75</td>\n",
       "    </tr>\n",
       "  </tbody>\n",
       "</table>\n",
       "</div>"
      ],
      "text/plain": [
       "            Ticker  Close(t+1)  Close(t)  Close(t-1)  Close(t-2)\n",
       "Date                                                            \n",
       "2015-02-12       2       27.75      27.5       25.75       25.75"
      ]
     },
     "execution_count": 6,
     "metadata": {},
     "output_type": "execute_result"
    },
    {
     "data": {
      "text/html": [
       "<div>\n",
       "<style scoped>\n",
       "    .dataframe tbody tr th:only-of-type {\n",
       "        vertical-align: middle;\n",
       "    }\n",
       "\n",
       "    .dataframe tbody tr th {\n",
       "        vertical-align: top;\n",
       "    }\n",
       "\n",
       "    .dataframe thead th {\n",
       "        text-align: right;\n",
       "    }\n",
       "</style>\n",
       "<table border=\"1\" class=\"dataframe\">\n",
       "  <thead>\n",
       "    <tr style=\"text-align: right;\">\n",
       "      <th></th>\n",
       "      <th>Ticker</th>\n",
       "      <th>Close(t+1)</th>\n",
       "      <th>Close(t)</th>\n",
       "      <th>Close(t-1)</th>\n",
       "      <th>Close(t-2)</th>\n",
       "    </tr>\n",
       "    <tr>\n",
       "      <th>Date</th>\n",
       "      <th></th>\n",
       "      <th></th>\n",
       "      <th></th>\n",
       "      <th></th>\n",
       "      <th></th>\n",
       "    </tr>\n",
       "  </thead>\n",
       "  <tbody>\n",
       "    <tr>\n",
       "      <th>2017-01-27</th>\n",
       "      <td>2</td>\n",
       "      <td>19.2</td>\n",
       "      <td>19.6</td>\n",
       "      <td>19.6</td>\n",
       "      <td>20.0</td>\n",
       "    </tr>\n",
       "  </tbody>\n",
       "</table>\n",
       "</div>"
      ],
      "text/plain": [
       "            Ticker  Close(t+1)  Close(t)  Close(t-1)  Close(t-2)\n",
       "Date                                                            \n",
       "2017-01-27       2        19.2      19.6        19.6        20.0"
      ]
     },
     "execution_count": 6,
     "metadata": {},
     "output_type": "execute_result"
    },
    {
     "data": {
      "text/plain": [
       "array(['ADVANC', 'AOT', 'BANPU', 'BBL', 'BDMS', 'BH', 'CK', 'CPALL',\n",
       "       'CPF', 'CPN', 'HMPRO', 'IRPC', 'JAS', 'KBANK', 'MINT', 'PTT',\n",
       "       'SCB', 'SCC', 'THAI', 'TRUE', 'TU'], dtype=object)"
      ]
     },
     "execution_count": 6,
     "metadata": {},
     "output_type": "execute_result"
    }
   ],
   "source": [
    "# drop Text\n",
    "x_train = df_train.drop(['Text'], axis=1)\n",
    "\n",
    "x_test = df_test.drop(['Text'], axis=1)\n",
    "\n",
    "# Label Encoding\n",
    "le = sklearn.preprocessing.LabelEncoder()\n",
    "x_train['Ticker'] = le.fit_transform(x_train['Ticker'])\n",
    "x_test['Ticker'] = le.transform(x_test['Ticker'])\n",
    "x_train.head(1)\n",
    "x_test.head(1)\n",
    "le.classes_"
   ]
  },
  {
   "cell_type": "markdown",
   "metadata": {},
   "source": [
    "# Create x_train and y_train"
   ]
  },
  {
   "cell_type": "code",
   "execution_count": 7,
   "metadata": {},
   "outputs": [
    {
     "data": {
      "text/plain": [
       "((1967, 4), (1967, 1))"
      ]
     },
     "execution_count": 7,
     "metadata": {},
     "output_type": "execute_result"
    }
   ],
   "source": [
    "Horizon = 'Close(t+1)'\n",
    "y_train = x_train[[Horizon]]\n",
    "x_train = x_train.drop(['Close(t+1)'], axis=1).copy()\n",
    "x_train.shape, y_train.shape"
   ]
  },
  {
   "cell_type": "markdown",
   "metadata": {},
   "source": [
    "# Evaluate Each Stcok"
   ]
  },
  {
   "cell_type": "code",
   "execution_count": 8,
   "metadata": {},
   "outputs": [],
   "source": [
    "def mean_absolute_percentage_error(y_true, y_pred): \n",
    "    return np.mean(np.abs((y_true - y_pred) / y_true)) * 100"
   ]
  },
  {
   "cell_type": "code",
   "execution_count": 9,
   "metadata": {},
   "outputs": [],
   "source": [
    "def evaluator(clf, df_test, le, isXGB=False, isLSTM=False):\n",
    "    RMSEs, MAEs, MAPEs, DAs = [], [], [], []\n",
    "    results = []\n",
    "    for stock in target_stocks:\n",
    "        x_tmp = df_test.loc[df_test['Ticker'] == le.transform([stock])[0]].copy()\n",
    "        \n",
    "        y_tmp = x_tmp[Horizon].values\n",
    "        \n",
    "        # Directional Accuracy\n",
    "        changes = x_tmp[Horizon] -  x_tmp['Close(t)']\n",
    "        y_true_da = []\n",
    "        for change in changes:\n",
    "            y_true_da.append(1 if change >= 0 else 0)\n",
    "                \n",
    "        x_tmp = x_tmp.drop(['Close(t+1)'], axis=1)\n",
    "        \n",
    "        if isXGB:\n",
    "            y_pred = clf.predict(xgboost.DMatrix(x_tmp))\n",
    "        elif isLSTM:\n",
    "            x = x_tmp.values\n",
    "            x = x.reshape((x.shape[0], x.shape[1], 1))\n",
    "            y_pred = clf.predict(x)\n",
    "        else:\n",
    "            y_pred = clf.predict(x_tmp.as_matrix())\n",
    "        \n",
    "#         # Directional Accuracy Pred\n",
    "        changes = y_pred.reshape(-1,1) -  x_tmp['Close(t)'].values.reshape(-1,1)\n",
    "        y_pred_da = []\n",
    "        for change in changes:\n",
    "            y_pred_da.append(1 if change >= 0 else 0)\n",
    "        \n",
    "        RMSE = np.sqrt(sklearn.metrics.mean_squared_error(y_tmp, y_pred))\n",
    "        MAE = sklearn.metrics.mean_absolute_error(y_tmp, y_pred)\n",
    "        MAPE = mean_absolute_percentage_error(y_tmp, y_pred)\n",
    "        DA = sklearn.metrics.accuracy_score(y_true_da, y_pred_da)\n",
    "        print(stock, \"\\tRMSE: %.2f\\t MAE: %.2f \\tMAPE: %.2f \\tDA: %.2f\" % (RMSE, MAE, MAPE, DA))\n",
    "        RMSEs.append(RMSE)\n",
    "        MAEs.append(MAE)\n",
    "        MAPEs.append(MAPE)\n",
    "        DAs.append(DA)\n",
    "    \n",
    "    print('\\nmean RMSE:', round(np.mean(RMSEs),2))\n",
    "    print('mean MAE:', round(np.mean(MAEs),2))\n",
    "    print('mean MAPE:', round(np.mean(MAPEs),2))\n",
    "    print('mean DA:', round(np.mean(DAs),4))"
   ]
  },
  {
   "cell_type": "code",
   "execution_count": 10,
   "metadata": {},
   "outputs": [],
   "source": [
    "def ensemble_evaluator(dt, rf, ada_dt, ada_rf, gb, xgb, df_test, le):\n",
    "    RMSEs, MAEs, MAPEs, DAs = [], [], [], []\n",
    "    results = []\n",
    "    for stock in target_stocks:\n",
    "        x_tmp = df_test.loc[df_test['Ticker'] == le.transform([stock])[0]].copy()\n",
    "        \n",
    "        y_tmp = x_tmp[Horizon].values\n",
    "        \n",
    "        # Directional Accuracy\n",
    "        changes = x_tmp[Horizon] -  x_tmp['Close(t)']\n",
    "        y_true_da = []\n",
    "        for change in changes:\n",
    "            y_true_da.append(1 if change >= 0 else 0)\n",
    "                \n",
    "        x_tmp = x_tmp.drop(['Close(t+1)'], axis=1)\n",
    "        \n",
    "        # Prediction\n",
    "        \n",
    "        y_dt = dt.predict(x_tmp.as_matrix())\n",
    "        y_rf = rf.predict(x_tmp.as_matrix())\n",
    "        y_ada_dt = ada_dt.predict(x_tmp.as_matrix())\n",
    "        y_ada_rf = ada_rf.predict(x_tmp.as_matrix())\n",
    "        y_gb = gb.predict(x_tmp.as_matrix())\n",
    "        \n",
    "        y_xgb = xgb.predict(xgboost.DMatrix(x_tmp))\n",
    "        \n",
    "#             x = x_tmp.values\n",
    "#             x = x.reshape((x.shape[0], 1, x.shape[1]))\n",
    "#             y_pred = clf.predict(x)\n",
    "        y_pred = (y_dt+y_rf+y_ada_dt+y_ada_rf+y_gb+y_xgb)/6\n",
    "\n",
    "        # Directional Accuracy Pred\n",
    "        changes = y_pred.reshape(-1,1) -  x_tmp['Close(t)'].values.reshape(-1,1)\n",
    "        y_pred_da = []\n",
    "        for change in changes:\n",
    "            y_pred_da.append(1 if change >= 0 else 0)\n",
    "        \n",
    "        RMSE = np.sqrt(sklearn.metrics.mean_squared_error(y_tmp, y_pred))\n",
    "        MAE = sklearn.metrics.mean_absolute_error(y_tmp, y_pred)\n",
    "        MAPE = mean_absolute_percentage_error(y_tmp, y_pred)\n",
    "        DA = sklearn.metrics.accuracy_score(y_true_da, y_pred_da)\n",
    "        print(stock, \"\\tRMSE: %.2f\\t MAE: %.2f \\tMAPE: %.2f \\tDA: %.2f\" % (RMSE, MAE, MAPE, DA))\n",
    "        RMSEs.append(RMSE)\n",
    "        MAEs.append(MAE)\n",
    "        MAPEs.append(MAPE)\n",
    "        DAs.append(DA)\n",
    "    \n",
    "    print('\\nmean RMSE:', round(np.mean(RMSEs),2))\n",
    "    print('mean MAE:', round(np.mean(MAEs),2))\n",
    "    print('mean MAPE:', round(np.mean(MAPEs),2))\n",
    "    print('mean DA:', round(np.mean(DAs),4))"
   ]
  },
  {
   "cell_type": "markdown",
   "metadata": {},
   "source": [
    "# Ensemble"
   ]
  },
  {
   "cell_type": "code",
   "execution_count": 106,
   "metadata": {},
   "outputs": [
    {
     "name": "stderr",
     "output_type": "stream",
     "text": [
      "/usr/local/lib/python3.5/dist-packages/numpy/core/fromnumeric.py:57: FutureWarning:\n",
      "\n",
      "reshape is deprecated and will raise in a subsequent release. Please use .values.reshape(...) instead\n",
      "\n"
     ]
    },
    {
     "name": "stdout",
     "output_type": "stream",
     "text": [
      "BANPU \tRMSE: 0.44\t MAE: 0.35 \tMAPE: 1.93 \tDA: 0.71\n",
      "IRPC \tRMSE: 0.13\t MAE: 0.10 \tMAPE: 1.60 \tDA: 0.53\n",
      "PTT \tRMSE: 5.81\t MAE: 4.57 \tMAPE: 1.12 \tDA: 0.57\n",
      "BBL \tRMSE: 2.76\t MAE: 1.84 \tMAPE: 0.94 \tDA: 0.50\n",
      "KBANK \tRMSE: 2.81\t MAE: 2.34 \tMAPE: 1.18 \tDA: 0.41\n",
      "SCB \tRMSE: 2.41\t MAE: 1.82 \tMAPE: 1.19 \tDA: 0.43\n",
      "AOT \tRMSE: 1.83\t MAE: 1.02 \tMAPE: 2.14 \tDA: 0.60\n",
      "THAI \tRMSE: 0.72\t MAE: 0.46 \tMAPE: 2.28 \tDA: 0.61\n",
      "CPF \tRMSE: 0.31\t MAE: 0.24 \tMAPE: 0.93 \tDA: 0.64\n",
      "MINT \tRMSE: 0.91\t MAE: 0.73 \tMAPE: 1.79 \tDA: 0.47\n",
      "TU \tRMSE: 0.57\t MAE: 0.38 \tMAPE: 1.86 \tDA: 0.36\n",
      "SCC \tRMSE: 5.95\t MAE: 4.43 \tMAPE: 0.88 \tDA: 0.61\n",
      "CPN \tRMSE: 2.67\t MAE: 2.14 \tMAPE: 2.85 \tDA: 0.53\n",
      "CK \tRMSE: 0.59\t MAE: 0.38 \tMAPE: 1.34 \tDA: 0.50\n",
      "CPALL \tRMSE: 2.18\t MAE: 1.61 \tMAPE: 2.67 \tDA: 0.55\n",
      "HMPRO \tRMSE: 0.16\t MAE: 0.12 \tMAPE: 1.13 \tDA: 0.69\n",
      "BDMS \tRMSE: 0.44\t MAE: 0.31 \tMAPE: 1.56 \tDA: 0.76\n",
      "BH \tRMSE: 2.15\t MAE: 1.74 \tMAPE: 0.92 \tDA: 0.62\n",
      "ADVANC \tRMSE: 2.02\t MAE: 1.48 \tMAPE: 0.89 \tDA: 0.59\n",
      "JAS \tRMSE: 0.39\t MAE: 0.27 \tMAPE: 3.32 \tDA: 0.54\n",
      "TRUE \tRMSE: 0.22\t MAE: 0.19 \tMAPE: 3.08 \tDA: 0.50\n",
      "\n",
      "mean RMSE: 1.69\n",
      "mean MAE: 1.26\n",
      "mean MAPE: 1.7\n",
      "mean DA: 0.5576\n"
     ]
    }
   ],
   "source": [
    "ensemble_evaluator(decis_tree_regr, \n",
    "                   rnd_forest_regr, \n",
    "                   adaboost_dt_regr, \n",
    "                   adaboost_rf_regr, \n",
    "                   gbr, \n",
    "                   xgb,\n",
    "                   x_test, le)"
   ]
  },
  {
   "cell_type": "markdown",
   "metadata": {},
   "source": [
    "# Linear Regression"
   ]
  },
  {
   "cell_type": "markdown",
   "metadata": {},
   "source": [
    "### Price only"
   ]
  },
  {
   "cell_type": "code",
   "execution_count": 13,
   "metadata": {},
   "outputs": [
    {
     "data": {
      "text/plain": [
       "LinearRegression(copy_X=True, fit_intercept=True, n_jobs=1, normalize=False)"
      ]
     },
     "execution_count": 13,
     "metadata": {},
     "output_type": "execute_result"
    },
    {
     "name": "stdout",
     "output_type": "stream",
     "text": [
      "BANPU \tRMSE: 0.20\t MAE: 0.14 \tMAPE: 7.99 \tDA: 0.76\n",
      "IRPC \tRMSE: 0.11\t MAE: 0.09 \tMAPE: 12.19 \tDA: 0.63\n",
      "PTT \tRMSE: 3.26\t MAE: 2.36 \tMAPE: 6.84 \tDA: 0.55\n",
      "BBL \tRMSE: 1.45\t MAE: 1.16 \tMAPE: 6.74 \tDA: 0.46\n",
      "KBANK \tRMSE: 2.34\t MAE: 1.85 \tMAPE: 11.83 \tDA: 0.50\n",
      "SCB \tRMSE: 1.69\t MAE: 1.21 \tMAPE: 3.38 \tDA: 0.57\n",
      "AOT \tRMSE: 0.87\t MAE: 0.68 \tMAPE: 21.14 \tDA: 0.69\n",
      "THAI \tRMSE: 0.71\t MAE: 0.40 \tMAPE: 14.48 \tDA: 0.45\n",
      "CPF \tRMSE: 0.32\t MAE: 0.25 \tMAPE: 7.39 \tDA: 0.67\n",
      "MINT \tRMSE: 0.74\t MAE: 0.62 \tMAPE: 7.35 \tDA: 0.53\n",
      "TU \tRMSE: 0.51\t MAE: 0.30 \tMAPE: 4.36 \tDA: 0.43\n",
      "SCC \tRMSE: 4.80\t MAE: 3.86 \tMAPE: 4.48 \tDA: 0.35\n",
      "CPN \tRMSE: 1.02\t MAE: 0.85 \tMAPE: 12.04 \tDA: 0.65\n",
      "CK \tRMSE: 0.49\t MAE: 0.33 \tMAPE: 6.42 \tDA: 0.75\n",
      "CPALL \tRMSE: 1.85\t MAE: 1.41 \tMAPE: 7.26 \tDA: 0.64\n",
      "HMPRO \tRMSE: 0.14\t MAE: 0.12 \tMAPE: 10.89 \tDA: 0.46\n",
      "BDMS \tRMSE: 0.45\t MAE: 0.31 \tMAPE: 5.09 \tDA: 0.47\n",
      "BH \tRMSE: 2.09\t MAE: 1.73 \tMAPE: 6.92 \tDA: 0.62\n",
      "ADVANC \tRMSE: 2.29\t MAE: 1.57 \tMAPE: 10.37 \tDA: 0.66\n",
      "JAS \tRMSE: 0.33\t MAE: 0.22 \tMAPE: 9.41 \tDA: 0.58\n",
      "TRUE \tRMSE: 0.11\t MAE: 0.10 \tMAPE: 9.24 \tDA: 0.59\n",
      "\n",
      "mean RMSE: 1.23\n",
      "mean MAE: 0.93\n",
      "mean MAPE: 8.85\n",
      "mean DA: 0.5705\n"
     ]
    }
   ],
   "source": [
    "regr = sklearn.linear_model.LinearRegression()\n",
    "regr.fit(x_train, y_train)\n",
    "\n",
    "evaluator(regr, x_test, le)"
   ]
  },
  {
   "cell_type": "markdown",
   "metadata": {},
   "source": [
    "### Price + Text"
   ]
  },
  {
   "cell_type": "code",
   "execution_count": 113,
   "metadata": {},
   "outputs": [
    {
     "data": {
      "text/plain": [
       "LinearRegression(copy_X=True, fit_intercept=True, n_jobs=1, normalize=False)"
      ]
     },
     "execution_count": 113,
     "metadata": {},
     "output_type": "execute_result"
    },
    {
     "name": "stdout",
     "output_type": "stream",
     "text": [
      "BANPU \tRMSE: 4.09\t MAE: 2.85 \tMAPE: 18.18 \tDA: 0.62\n",
      "IRPC \tRMSE: 3.71\t MAE: 3.05 \tMAPE: 54.41 \tDA: 0.68\n",
      "PTT \tRMSE: 5.58\t MAE: 4.24 \tMAPE: 6.84 \tDA: 0.45\n",
      "BBL \tRMSE: 4.15\t MAE: 2.95 \tMAPE: 7.20 \tDA: 0.46\n",
      "KBANK \tRMSE: 3.07\t MAE: 2.66 \tMAPE: 11.69 \tDA: 0.56\n",
      "SCB \tRMSE: 3.12\t MAE: 2.58 \tMAPE: 3.62 \tDA: 0.53\n",
      "AOT \tRMSE: 3.90\t MAE: 3.13 \tMAPE: 22.34 \tDA: 0.37\n",
      "THAI \tRMSE: 3.68\t MAE: 2.95 \tMAPE: 21.84 \tDA: 0.52\n",
      "CPF \tRMSE: 4.26\t MAE: 3.37 \tMAPE: 14.96 \tDA: 0.53\n",
      "MINT \tRMSE: 3.98\t MAE: 2.84 \tMAPE: 8.72 \tDA: 0.47\n",
      "TU \tRMSE: 4.60\t MAE: 3.52 \tMAPE: 18.63 \tDA: 0.50\n",
      "SCC \tRMSE: 5.01\t MAE: 4.18 \tMAPE: 4.56 \tDA: 0.52\n",
      "CPN \tRMSE: 3.69\t MAE: 3.24 \tMAPE: 12.16 \tDA: 0.59\n",
      "CK \tRMSE: 2.93\t MAE: 2.39 \tMAPE: 10.92 \tDA: 0.44\n",
      "CPALL \tRMSE: 2.59\t MAE: 2.11 \tMAPE: 8.48 \tDA: 0.45\n",
      "HMPRO \tRMSE: 2.17\t MAE: 1.78 \tMAPE: 24.07 \tDA: 0.54\n",
      "BDMS \tRMSE: 3.84\t MAE: 2.55 \tMAPE: 14.25 \tDA: 0.47\n",
      "BH \tRMSE: 4.09\t MAE: 3.21 \tMAPE: 7.04 \tDA: 0.38\n",
      "ADVANC \tRMSE: 4.70\t MAE: 3.81 \tMAPE: 10.44 \tDA: 0.38\n",
      "JAS \tRMSE: 4.67\t MAE: 2.92 \tMAPE: 35.58 \tDA: 0.58\n",
      "TRUE \tRMSE: 3.02\t MAE: 2.42 \tMAPE: 37.98 \tDA: 0.45\n",
      "\n",
      "mean RMSE: 3.85\n",
      "mean MAE: 2.99\n",
      "mean MAPE: 16.85\n",
      "mean DA: 0.5004\n"
     ]
    }
   ],
   "source": [
    "regr = sklearn.linear_model.LinearRegression()\n",
    "regr.fit(x_train, y_train)\n",
    "\n",
    "evaluator(regr, x_test, le)"
   ]
  },
  {
   "cell_type": "markdown",
   "metadata": {},
   "source": [
    "# Support Vector Regressor"
   ]
  },
  {
   "cell_type": "markdown",
   "metadata": {},
   "source": [
    "### Price"
   ]
  },
  {
   "cell_type": "code",
   "execution_count": null,
   "metadata": {},
   "outputs": [],
   "source": [
    "from sklearn.svm import SVR\n",
    "svr = SVR(kernel='linear')\n",
    "svr.fit(x_train, np.squeeze(y_train.values))\n",
    "\n",
    "evaluator(svr, x_test, le)"
   ]
  },
  {
   "cell_type": "code",
   "execution_count": 25,
   "metadata": {},
   "outputs": [
    {
     "data": {
      "text/plain": [
       "SVR(C=1.0, cache_size=200, coef0=0.0, degree=3, epsilon=0.1, gamma='auto',\n",
       "  kernel='linear', max_iter=-1, shrinking=True, tol=0.001, verbose=False)"
      ]
     },
     "execution_count": 25,
     "metadata": {},
     "output_type": "execute_result"
    },
    {
     "name": "stdout",
     "output_type": "stream",
     "text": [
      "BANPU \tRMSE: 0.19\t MAE: 0.13 \tMAPE: 0.74 \tDA: 0.67\n",
      "IRPC \tRMSE: 0.08\t MAE: 0.06 \tMAPE: 1.09 \tDA: 0.68\n",
      "PTT \tRMSE: 3.33\t MAE: 2.38 \tMAPE: 0.58 \tDA: 0.47\n",
      "BBL \tRMSE: 1.48\t MAE: 1.23 \tMAPE: 0.64 \tDA: 0.38\n",
      "KBANK \tRMSE: 2.45\t MAE: 1.91 \tMAPE: 0.95 \tDA: 0.44\n",
      "SCB \tRMSE: 1.72\t MAE: 1.26 \tMAPE: 0.82 \tDA: 0.40\n",
      "AOT \tRMSE: 0.85\t MAE: 0.67 \tMAPE: 1.32 \tDA: 0.49\n",
      "THAI \tRMSE: 0.70\t MAE: 0.41 \tMAPE: 2.02 \tDA: 0.58\n",
      "CPF \tRMSE: 0.31\t MAE: 0.22 \tMAPE: 0.83 \tDA: 0.56\n",
      "MINT \tRMSE: 0.74\t MAE: 0.59 \tMAPE: 1.42 \tDA: 0.58\n",
      "TU \tRMSE: 0.49\t MAE: 0.30 \tMAPE: 1.50 \tDA: 0.36\n",
      "SCC \tRMSE: 4.88\t MAE: 3.99 \tMAPE: 0.79 \tDA: 0.43\n",
      "CPN \tRMSE: 1.08\t MAE: 0.91 \tMAPE: 1.28 \tDA: 0.47\n",
      "CK \tRMSE: 0.51\t MAE: 0.35 \tMAPE: 1.22 \tDA: 0.62\n",
      "CPALL \tRMSE: 1.91\t MAE: 1.43 \tMAPE: 2.39 \tDA: 0.36\n",
      "HMPRO \tRMSE: 0.11\t MAE: 0.11 \tMAPE: 1.03 \tDA: 0.46\n",
      "BDMS \tRMSE: 0.42\t MAE: 0.27 \tMAPE: 1.33 \tDA: 0.71\n",
      "BH \tRMSE: 2.37\t MAE: 1.92 \tMAPE: 1.01 \tDA: 0.23\n",
      "ADVANC \tRMSE: 2.36\t MAE: 1.66 \tMAPE: 0.99 \tDA: 0.45\n",
      "JAS \tRMSE: 0.34\t MAE: 0.22 \tMAPE: 2.67 \tDA: 0.54\n",
      "TRUE \tRMSE: 0.09\t MAE: 0.07 \tMAPE: 1.11 \tDA: 0.73\n",
      "\n",
      "mean RMSE: 1.26\n",
      "mean MAE: 0.96\n",
      "mean MAPE: 1.23\n",
      "mean DA: 0.5052\n"
     ]
    }
   ],
   "source": []
  },
  {
   "cell_type": "markdown",
   "metadata": {},
   "source": [
    "### Price + Text"
   ]
  },
  {
   "cell_type": "code",
   "execution_count": 114,
   "metadata": {},
   "outputs": [
    {
     "data": {
      "text/plain": [
       "SVR(C=1.0, cache_size=200, coef0=0.0, degree=3, epsilon=0.1, gamma='auto',\n",
       "  kernel='rbf', max_iter=-1, shrinking=True, tol=0.001, verbose=False)"
      ]
     },
     "execution_count": 114,
     "metadata": {},
     "output_type": "execute_result"
    },
    {
     "name": "stdout",
     "output_type": "stream",
     "text": [
      "BANPU \tRMSE: 7.28\t MAE: 7.11 \tMAPE: 40.80 \tDA: 0.76\n",
      "IRPC \tRMSE: 2.05\t MAE: 1.72 \tMAPE: 30.99 \tDA: 0.47\n",
      "PTT \tRMSE: 233.62\t MAE: 231.52 \tMAPE: 56.73 \tDA: 0.42\n",
      "BBL \tRMSE: 8.84\t MAE: 5.61 \tMAPE: 2.73 \tDA: 0.38\n",
      "KBANK \tRMSE: 16.52\t MAE: 11.81 \tMAPE: 5.44 \tDA: 0.38\n",
      "SCB \tRMSE: 1.83\t MAE: 1.41 \tMAPE: 0.92 \tDA: 0.50\n",
      "AOT \tRMSE: 41.44\t MAE: 33.45 \tMAPE: 65.04 \tDA: 0.69\n",
      "THAI \tRMSE: 2.14\t MAE: 1.32 \tMAPE: 6.01 \tDA: 0.52\n",
      "CPF \tRMSE: 1.55\t MAE: 1.24 \tMAPE: 4.88 \tDA: 0.39\n",
      "MINT \tRMSE: 9.69\t MAE: 8.99 \tMAPE: 21.76 \tDA: 0.53\n",
      "TU \tRMSE: 4.44\t MAE: 4.29 \tMAPE: 21.48 \tDA: 0.43\n",
      "SCC \tRMSE: 332.41\t MAE: 331.75 \tMAPE: 66.05 \tDA: 0.35\n",
      "CPN \tRMSE: 73.78\t MAE: 73.22 \tMAPE: 101.40 \tDA: 0.65\n",
      "CK \tRMSE: 2.10\t MAE: 1.68 \tMAPE: 5.71 \tDA: 0.75\n",
      "CPALL \tRMSE: 52.03\t MAE: 50.19 \tMAPE: 83.33 \tDA: 0.64\n",
      "HMPRO \tRMSE: 0.63\t MAE: 0.57 \tMAPE: 5.71 \tDA: 0.62\n",
      "BDMS \tRMSE: 1.20\t MAE: 0.94 \tMAPE: 4.78 \tDA: 0.47\n",
      "BH \tRMSE: 7.19\t MAE: 4.98 \tMAPE: 2.53 \tDA: 0.38\n",
      "ADVANC \tRMSE: 3.22\t MAE: 2.39 \tMAPE: 1.41 \tDA: 0.48\n",
      "JAS \tRMSE: 2.78\t MAE: 2.71 \tMAPE: 33.51 \tDA: 0.42\n",
      "TRUE \tRMSE: 2.59\t MAE: 2.21 \tMAPE: 36.63 \tDA: 0.59\n",
      "\n",
      "mean RMSE: 38.44\n",
      "mean MAE: 37.1\n",
      "mean MAPE: 28.47\n",
      "mean DA: 0.5145\n"
     ]
    }
   ],
   "source": [
    "from sklearn.svm import SVR\n",
    "svr = SVR()\n",
    "svr.fit(x_train, np.squeeze(y_train.values))\n",
    "\n",
    "evaluator(svr, x_test, le)"
   ]
  },
  {
   "cell_type": "markdown",
   "metadata": {},
   "source": [
    "# Decistion Tree Regressor"
   ]
  },
  {
   "cell_type": "markdown",
   "metadata": {},
   "source": [
    "### Price"
   ]
  },
  {
   "cell_type": "code",
   "execution_count": 95,
   "metadata": {},
   "outputs": [
    {
     "data": {
      "text/plain": [
       "DecisionTreeRegressor(criterion='mse', max_depth=12, max_features=None,\n",
       "           max_leaf_nodes=None, min_impurity_decrease=0.0,\n",
       "           min_impurity_split=None, min_samples_leaf=1,\n",
       "           min_samples_split=2, min_weight_fraction_leaf=0.0,\n",
       "           presort=False, random_state=100, splitter='best')"
      ]
     },
     "execution_count": 95,
     "metadata": {},
     "output_type": "execute_result"
    },
    {
     "name": "stdout",
     "output_type": "stream",
     "text": [
      "BANPU \tRMSE: 0.40\t MAE: 0.21 \tMAPE: 1.17 \tDA: 0.76\n",
      "IRPC \tRMSE: 0.12\t MAE: 0.08 \tMAPE: 1.42 \tDA: 0.63\n",
      "PTT \tRMSE: 10.50\t MAE: 7.52 \tMAPE: 1.86 \tDA: 0.55\n",
      "BBL \tRMSE: 3.30\t MAE: 2.39 \tMAPE: 1.22 \tDA: 0.58\n",
      "KBANK \tRMSE: 5.75\t MAE: 3.77 \tMAPE: 1.85 \tDA: 0.59\n",
      "SCB \tRMSE: 2.85\t MAE: 2.13 \tMAPE: 1.39 \tDA: 0.47\n",
      "AOT \tRMSE: 1.33\t MAE: 0.85 \tMAPE: 1.67 \tDA: 0.60\n",
      "THAI \tRMSE: 0.77\t MAE: 0.53 \tMAPE: 2.65 \tDA: 0.55\n",
      "CPF \tRMSE: 0.39\t MAE: 0.29 \tMAPE: 1.09 \tDA: 0.58\n",
      "MINT \tRMSE: 0.98\t MAE: 0.82 \tMAPE: 1.98 \tDA: 0.42\n",
      "TU \tRMSE: 0.57\t MAE: 0.38 \tMAPE: 1.89 \tDA: 0.64\n",
      "SCC \tRMSE: 4.51\t MAE: 3.22 \tMAPE: 0.64 \tDA: 0.74\n",
      "CPN \tRMSE: 2.57\t MAE: 2.10 \tMAPE: 2.92 \tDA: 0.47\n",
      "CK \tRMSE: 0.65\t MAE: 0.46 \tMAPE: 1.63 \tDA: 0.50\n",
      "CPALL \tRMSE: 1.92\t MAE: 1.45 \tMAPE: 2.42 \tDA: 0.55\n",
      "HMPRO \tRMSE: 0.33\t MAE: 0.27 \tMAPE: 2.63 \tDA: 0.62\n",
      "BDMS \tRMSE: 0.50\t MAE: 0.30 \tMAPE: 1.49 \tDA: 0.59\n",
      "BH \tRMSE: 2.22\t MAE: 1.71 \tMAPE: 0.91 \tDA: 0.54\n",
      "ADVANC \tRMSE: 3.59\t MAE: 2.82 \tMAPE: 1.68 \tDA: 0.55\n",
      "JAS \tRMSE: 0.62\t MAE: 0.44 \tMAPE: 5.38 \tDA: 0.50\n",
      "TRUE \tRMSE: 0.45\t MAE: 0.32 \tMAPE: 5.14 \tDA: 0.77\n",
      "\n",
      "mean RMSE: 2.11\n",
      "mean MAE: 1.53\n",
      "mean MAPE: 2.05\n",
      "mean DA: 0.5807\n"
     ]
    }
   ],
   "source": [
    "dt = tree.DecisionTreeRegressor(\n",
    "    max_depth=12, \n",
    "    max_features=None,\n",
    "    random_state=100\n",
    ")\n",
    "dt.fit(x_train, y_train)\n",
    "evaluator(dt, x_test, le)"
   ]
  },
  {
   "cell_type": "markdown",
   "metadata": {},
   "source": [
    "### Price + Text"
   ]
  },
  {
   "cell_type": "code",
   "execution_count": 312,
   "metadata": {},
   "outputs": [
    {
     "data": {
      "text/plain": [
       "DecisionTreeRegressor(criterion='mse', max_depth=9, max_features=None,\n",
       "           max_leaf_nodes=None, min_impurity_decrease=0.0,\n",
       "           min_impurity_split=None, min_samples_leaf=1,\n",
       "           min_samples_split=2, min_weight_fraction_leaf=0.0,\n",
       "           presort=False, random_state=9, splitter='best')"
      ]
     },
     "execution_count": 312,
     "metadata": {},
     "output_type": "execute_result"
    },
    {
     "name": "stdout",
     "output_type": "stream",
     "text": [
      "BANPU \tRMSE: 0.54\t MAE: 0.42 \tMAPE: 2.37 \tDA: 0.52\n",
      "IRPC \tRMSE: 0.16\t MAE: 0.13 \tMAPE: 2.11 \tDA: 0.53\n",
      "PTT \tRMSE: 9.07\t MAE: 7.04 \tMAPE: 1.73 \tDA: 0.51\n",
      "BBL \tRMSE: 5.31\t MAE: 3.32 \tMAPE: 1.68 \tDA: 0.42\n",
      "KBANK \tRMSE: 4.30\t MAE: 3.40 \tMAPE: 1.67 \tDA: 0.41\n",
      "SCB \tRMSE: 3.07\t MAE: 2.12 \tMAPE: 1.38 \tDA: 0.47\n",
      "AOT \tRMSE: 1.39\t MAE: 0.92 \tMAPE: 1.83 \tDA: 0.60\n",
      "THAI \tRMSE: 0.78\t MAE: 0.56 \tMAPE: 2.81 \tDA: 0.42\n",
      "CPF \tRMSE: 0.54\t MAE: 0.40 \tMAPE: 1.52 \tDA: 0.56\n",
      "MINT \tRMSE: 1.32\t MAE: 1.08 \tMAPE: 2.66 \tDA: 0.53\n",
      "TU \tRMSE: 0.57\t MAE: 0.42 \tMAPE: 2.10 \tDA: 0.50\n",
      "SCC \tRMSE: 7.42\t MAE: 5.65 \tMAPE: 1.14 \tDA: 0.65\n",
      "CPN \tRMSE: 2.65\t MAE: 2.04 \tMAPE: 2.79 \tDA: 0.65\n",
      "CK \tRMSE: 0.98\t MAE: 0.69 \tMAPE: 2.44 \tDA: 0.31\n",
      "CPALL \tRMSE: 1.95\t MAE: 1.60 \tMAPE: 2.65 \tDA: 0.36\n",
      "HMPRO \tRMSE: 0.25\t MAE: 0.22 \tMAPE: 2.15 \tDA: 0.46\n",
      "BDMS \tRMSE: 0.43\t MAE: 0.32 \tMAPE: 1.59 \tDA: 0.59\n",
      "BH \tRMSE: 2.70\t MAE: 2.15 \tMAPE: 1.16 \tDA: 0.54\n",
      "ADVANC \tRMSE: 3.12\t MAE: 2.42 \tMAPE: 1.42 \tDA: 0.55\n",
      "JAS \tRMSE: 0.39\t MAE: 0.26 \tMAPE: 3.24 \tDA: 0.54\n",
      "TRUE \tRMSE: 0.20\t MAE: 0.14 \tMAPE: 2.23 \tDA: 0.73\n",
      "\n",
      "mean RMSE: 2.24\n",
      "mean MAE: 1.68\n",
      "mean MAPE: 2.03\n",
      "mean DA: 0.5161\n"
     ]
    }
   ],
   "source": [
    "dt = tree.DecisionTreeRegressor(\n",
    "    criterion='mse',\n",
    "    max_depth=9,\n",
    "    max_features=None,\n",
    "    min_samples_split=2,\n",
    "    min_samples_leaf=1,\n",
    "    random_state=9,\n",
    "    splitter='best',\n",
    "#     presort=True\n",
    ")\n",
    "dt.fit(x_train, y_train)\n",
    "evaluator(dt, x_test, le)"
   ]
  },
  {
   "cell_type": "markdown",
   "metadata": {},
   "source": [
    "# Random Forest Regrssor"
   ]
  },
  {
   "cell_type": "markdown",
   "metadata": {},
   "source": [
    "### Price"
   ]
  },
  {
   "cell_type": "code",
   "execution_count": 101,
   "metadata": {},
   "outputs": [
    {
     "data": {
      "text/plain": [
       "RandomForestRegressor(bootstrap=True, criterion='mse', max_depth=None,\n",
       "           max_features='auto', max_leaf_nodes=None,\n",
       "           min_impurity_decrease=0.0, min_impurity_split=None,\n",
       "           min_samples_leaf=1, min_samples_split=2,\n",
       "           min_weight_fraction_leaf=0.0, n_estimators=10, n_jobs=-1,\n",
       "           oob_score=False, random_state=100, verbose=0, warm_start=False)"
      ]
     },
     "execution_count": 101,
     "metadata": {},
     "output_type": "execute_result"
    },
    {
     "name": "stdout",
     "output_type": "stream",
     "text": [
      "BANPU \tRMSE: 0.28\t MAE: 0.16 \tMAPE: 0.91 \tDA: 0.62\n",
      "IRPC \tRMSE: 0.11\t MAE: 0.08 \tMAPE: 1.38 \tDA: 0.58\n",
      "PTT \tRMSE: 6.62\t MAE: 5.21 \tMAPE: 1.29 \tDA: 0.53\n",
      "BBL \tRMSE: 2.53\t MAE: 1.84 \tMAPE: 0.94 \tDA: 0.65\n",
      "KBANK \tRMSE: 3.32\t MAE: 2.60 \tMAPE: 1.28 \tDA: 0.47\n",
      "SCB \tRMSE: 2.29\t MAE: 1.80 \tMAPE: 1.18 \tDA: 0.40\n",
      "AOT \tRMSE: 4.33\t MAE: 1.38 \tMAPE: 3.04 \tDA: 0.63\n",
      "THAI \tRMSE: 0.69\t MAE: 0.47 \tMAPE: 2.35 \tDA: 0.52\n",
      "CPF \tRMSE: 0.40\t MAE: 0.31 \tMAPE: 1.17 \tDA: 0.53\n",
      "MINT \tRMSE: 1.11\t MAE: 0.95 \tMAPE: 2.30 \tDA: 0.42\n",
      "TU \tRMSE: 0.51\t MAE: 0.30 \tMAPE: 1.46 \tDA: 0.50\n",
      "SCC \tRMSE: 5.75\t MAE: 4.31 \tMAPE: 0.86 \tDA: 0.52\n",
      "CPN \tRMSE: 2.33\t MAE: 2.01 \tMAPE: 2.75 \tDA: 0.47\n",
      "CK \tRMSE: 0.57\t MAE: 0.45 \tMAPE: 1.57 \tDA: 0.44\n",
      "CPALL \tRMSE: 1.84\t MAE: 1.45 \tMAPE: 2.41 \tDA: 0.55\n",
      "HMPRO \tRMSE: 0.19\t MAE: 0.16 \tMAPE: 1.51 \tDA: 0.62\n",
      "BDMS \tRMSE: 0.41\t MAE: 0.24 \tMAPE: 1.17 \tDA: 0.59\n",
      "BH \tRMSE: 2.28\t MAE: 2.12 \tMAPE: 1.14 \tDA: 0.31\n",
      "ADVANC \tRMSE: 3.36\t MAE: 2.59 \tMAPE: 1.52 \tDA: 0.48\n",
      "JAS \tRMSE: 0.46\t MAE: 0.31 \tMAPE: 3.83 \tDA: 0.54\n",
      "TRUE \tRMSE: 0.18\t MAE: 0.15 \tMAPE: 2.41 \tDA: 0.64\n",
      "\n",
      "mean RMSE: 1.88\n",
      "mean MAE: 1.38\n",
      "mean MAPE: 1.74\n",
      "mean DA: 0.5232\n"
     ]
    }
   ],
   "source": [
    "rf = sklearn.ensemble.RandomForestRegressor(\n",
    "#     max_depth=20,\n",
    "#     max_features=10,\n",
    "    n_jobs=-1,\n",
    "    random_state=100\n",
    ")\n",
    "rf.fit(x_train, np.squeeze(y_train.values))\n",
    "\n",
    "evaluator(rf, x_test, le)"
   ]
  },
  {
   "cell_type": "markdown",
   "metadata": {},
   "source": [
    "### Price + Text"
   ]
  },
  {
   "cell_type": "code",
   "execution_count": 354,
   "metadata": {},
   "outputs": [
    {
     "data": {
      "text/plain": [
       "RandomForestRegressor(bootstrap=True, criterion='mse', max_depth=8,\n",
       "           max_features=None, max_leaf_nodes=None,\n",
       "           min_impurity_decrease=0.0, min_impurity_split=None,\n",
       "           min_samples_leaf=1, min_samples_split=4,\n",
       "           min_weight_fraction_leaf=0.0, n_estimators=50, n_jobs=-1,\n",
       "           oob_score=False, random_state=100, verbose=0, warm_start=False)"
      ]
     },
     "execution_count": 354,
     "metadata": {},
     "output_type": "execute_result"
    },
    {
     "name": "stdout",
     "output_type": "stream",
     "text": [
      "BANPU \tRMSE: 0.25\t MAE: 0.21 \tMAPE: 1.15 \tDA: 0.86\n",
      "IRPC \tRMSE: 0.12\t MAE: 0.11 \tMAPE: 1.93 \tDA: 0.32\n",
      "PTT \tRMSE: 6.15\t MAE: 4.79 \tMAPE: 1.17 \tDA: 0.58\n",
      "BBL \tRMSE: 2.53\t MAE: 1.78 \tMAPE: 0.91 \tDA: 0.50\n",
      "KBANK \tRMSE: 2.65\t MAE: 2.17 \tMAPE: 1.10 \tDA: 0.50\n",
      "SCB \tRMSE: 2.29\t MAE: 1.66 \tMAPE: 1.08 \tDA: 0.43\n",
      "AOT \tRMSE: 4.80\t MAE: 1.58 \tMAPE: 3.44 \tDA: 0.46\n",
      "THAI \tRMSE: 0.69\t MAE: 0.45 \tMAPE: 2.20 \tDA: 0.52\n",
      "CPF \tRMSE: 0.31\t MAE: 0.24 \tMAPE: 0.90 \tDA: 0.58\n",
      "MINT \tRMSE: 0.95\t MAE: 0.81 \tMAPE: 1.96 \tDA: 0.47\n",
      "TU \tRMSE: 0.49\t MAE: 0.29 \tMAPE: 1.44 \tDA: 0.57\n",
      "SCC \tRMSE: 6.86\t MAE: 5.33 \tMAPE: 1.06 \tDA: 0.52\n",
      "CPN \tRMSE: 2.33\t MAE: 1.91 \tMAPE: 2.64 \tDA: 0.53\n",
      "CK \tRMSE: 0.63\t MAE: 0.44 \tMAPE: 1.56 \tDA: 0.31\n",
      "CPALL \tRMSE: 1.82\t MAE: 1.53 \tMAPE: 2.56 \tDA: 0.27\n",
      "HMPRO \tRMSE: 0.17\t MAE: 0.14 \tMAPE: 1.34 \tDA: 0.62\n",
      "BDMS \tRMSE: 0.43\t MAE: 0.28 \tMAPE: 1.39 \tDA: 0.76\n",
      "BH \tRMSE: 2.09\t MAE: 1.66 \tMAPE: 0.88 \tDA: 0.62\n",
      "ADVANC \tRMSE: 2.32\t MAE: 1.68 \tMAPE: 1.00 \tDA: 0.55\n",
      "JAS \tRMSE: 0.41\t MAE: 0.28 \tMAPE: 3.40 \tDA: 0.54\n",
      "TRUE \tRMSE: 0.15\t MAE: 0.13 \tMAPE: 2.04 \tDA: 0.68\n",
      "\n",
      "mean RMSE: 1.83\n",
      "mean MAE: 1.31\n",
      "mean MAPE: 1.67\n",
      "mean DA: 0.5332\n"
     ]
    }
   ],
   "source": [
    "rf = sklearn.ensemble.RandomForestRegressor(\n",
    "    n_jobs=-1,\n",
    "    max_depth=8,\n",
    "    max_features=None,\n",
    "    random_state=100,\n",
    "    min_samples_leaf=1,\n",
    "    min_samples_split=4,\n",
    "    n_estimators=50\n",
    ")\n",
    "rf.fit(x_train, np.squeeze(y_train.values))\n",
    "\n",
    "evaluator(rf, x_test, le)"
   ]
  },
  {
   "cell_type": "markdown",
   "metadata": {},
   "source": [
    "# AdaBoost Regressor"
   ]
  },
  {
   "cell_type": "markdown",
   "metadata": {},
   "source": [
    "### Price"
   ]
  },
  {
   "cell_type": "code",
   "execution_count": 114,
   "metadata": {},
   "outputs": [
    {
     "data": {
      "text/plain": [
       "AdaBoostRegressor(base_estimator=DecisionTreeRegressor(criterion='mse', max_depth=12, max_features=None,\n",
       "           max_leaf_nodes=None, min_impurity_decrease=0.0,\n",
       "           min_impurity_split=None, min_samples_leaf=1,\n",
       "           min_samples_split=2, min_weight_fraction_leaf=0.0,\n",
       "           presort=False, random_state=100, splitter='best'),\n",
       "         learning_rate=0.1, loss='linear', n_estimators=10,\n",
       "         random_state=100)"
      ]
     },
     "execution_count": 114,
     "metadata": {},
     "output_type": "execute_result"
    },
    {
     "name": "stdout",
     "output_type": "stream",
     "text": [
      "BANPU \tRMSE: 0.30\t MAE: 0.16 \tMAPE: 0.86 \tDA: 0.81\n",
      "IRPC \tRMSE: 0.11\t MAE: 0.08 \tMAPE: 1.39 \tDA: 0.63\n",
      "PTT \tRMSE: 7.86\t MAE: 5.50 \tMAPE: 1.37 \tDA: 0.55\n",
      "BBL \tRMSE: 2.71\t MAE: 1.85 \tMAPE: 0.95 \tDA: 0.58\n",
      "KBANK \tRMSE: 2.95\t MAE: 2.18 \tMAPE: 1.06 \tDA: 0.59\n",
      "SCB \tRMSE: 3.48\t MAE: 2.60 \tMAPE: 1.71 \tDA: 0.47\n",
      "AOT \tRMSE: 1.05\t MAE: 0.68 \tMAPE: 1.30 \tDA: 0.71\n",
      "THAI \tRMSE: 0.76\t MAE: 0.48 \tMAPE: 2.38 \tDA: 0.71\n",
      "CPF \tRMSE: 0.36\t MAE: 0.29 \tMAPE: 1.09 \tDA: 0.58\n",
      "MINT \tRMSE: 1.33\t MAE: 1.11 \tMAPE: 2.68 \tDA: 0.32\n",
      "TU \tRMSE: 0.53\t MAE: 0.30 \tMAPE: 1.47 \tDA: 0.50\n",
      "SCC \tRMSE: 5.76\t MAE: 4.09 \tMAPE: 0.82 \tDA: 0.74\n",
      "CPN \tRMSE: 2.77\t MAE: 2.06 \tMAPE: 2.77 \tDA: 0.53\n",
      "CK \tRMSE: 0.67\t MAE: 0.50 \tMAPE: 1.75 \tDA: 0.44\n",
      "CPALL \tRMSE: 1.96\t MAE: 1.57 \tMAPE: 2.60 \tDA: 0.45\n",
      "HMPRO \tRMSE: 0.16\t MAE: 0.12 \tMAPE: 1.18 \tDA: 0.77\n",
      "BDMS \tRMSE: 0.39\t MAE: 0.25 \tMAPE: 1.22 \tDA: 0.65\n",
      "BH \tRMSE: 2.26\t MAE: 1.70 \tMAPE: 0.91 \tDA: 0.54\n",
      "ADVANC \tRMSE: 3.25\t MAE: 2.37 \tMAPE: 1.43 \tDA: 0.52\n",
      "JAS \tRMSE: 0.39\t MAE: 0.30 \tMAPE: 3.69 \tDA: 0.50\n",
      "TRUE \tRMSE: 0.12\t MAE: 0.10 \tMAPE: 1.53 \tDA: 0.77\n",
      "\n",
      "mean RMSE: 1.87\n",
      "mean MAE: 1.35\n",
      "mean MAPE: 1.63\n",
      "mean DA: 0.5883\n"
     ]
    }
   ],
   "source": [
    "ada_dt = ensemble.AdaBoostRegressor(\n",
    "    base_estimator=dt,\n",
    "    learning_rate=0.1, \n",
    "    n_estimators=10, \n",
    "    loss='linear',\n",
    "    random_state=100\n",
    ")\n",
    "ada_dt.fit(x_train, np.squeeze(y_train.values))\n",
    "\n",
    "evaluator(ada_dt, x_test, le)"
   ]
  },
  {
   "cell_type": "markdown",
   "metadata": {},
   "source": [
    "### Price + Text"
   ]
  },
  {
   "cell_type": "code",
   "execution_count": 355,
   "metadata": {},
   "outputs": [
    {
     "data": {
      "text/plain": [
       "AdaBoostRegressor(base_estimator=DecisionTreeRegressor(criterion='mse', max_depth=9, max_features=None,\n",
       "           max_leaf_nodes=None, min_impurity_decrease=0.0,\n",
       "           min_impurity_split=None, min_samples_leaf=1,\n",
       "           min_samples_split=2, min_weight_fraction_leaf=0.0,\n",
       "           presort=False, random_state=9, splitter='best'),\n",
       "         learning_rate=0.1, loss='linear', n_estimators=100,\n",
       "         random_state=None)"
      ]
     },
     "execution_count": 355,
     "metadata": {},
     "output_type": "execute_result"
    },
    {
     "name": "stdout",
     "output_type": "stream",
     "text": [
      "BANPU \tRMSE: 0.29\t MAE: 0.21 \tMAPE: 1.16 \tDA: 0.86\n",
      "IRPC \tRMSE: 0.12\t MAE: 0.09 \tMAPE: 1.47 \tDA: 0.53\n",
      "PTT \tRMSE: 6.63\t MAE: 5.28 \tMAPE: 1.30 \tDA: 0.55\n",
      "BBL \tRMSE: 2.77\t MAE: 1.79 \tMAPE: 0.91 \tDA: 0.46\n",
      "KBANK \tRMSE: 3.00\t MAE: 2.49 \tMAPE: 1.24 \tDA: 0.47\n",
      "SCB \tRMSE: 2.33\t MAE: 1.59 \tMAPE: 1.04 \tDA: 0.60\n",
      "AOT \tRMSE: 0.81\t MAE: 0.61 \tMAPE: 1.21 \tDA: 0.60\n",
      "THAI \tRMSE: 0.67\t MAE: 0.46 \tMAPE: 2.31 \tDA: 0.58\n",
      "CPF \tRMSE: 0.34\t MAE: 0.24 \tMAPE: 0.93 \tDA: 0.61\n",
      "MINT \tRMSE: 0.92\t MAE: 0.79 \tMAPE: 1.95 \tDA: 0.63\n",
      "TU \tRMSE: 0.48\t MAE: 0.29 \tMAPE: 1.44 \tDA: 0.71\n",
      "SCC \tRMSE: 5.83\t MAE: 3.64 \tMAPE: 0.73 \tDA: 0.61\n",
      "CPN \tRMSE: 3.96\t MAE: 3.09 \tMAPE: 4.14 \tDA: 0.59\n",
      "CK \tRMSE: 0.60\t MAE: 0.44 \tMAPE: 1.54 \tDA: 0.25\n",
      "CPALL \tRMSE: 1.94\t MAE: 1.56 \tMAPE: 2.61 \tDA: 0.55\n",
      "HMPRO \tRMSE: 0.20\t MAE: 0.17 \tMAPE: 1.63 \tDA: 0.62\n",
      "BDMS \tRMSE: 0.45\t MAE: 0.30 \tMAPE: 1.47 \tDA: 0.65\n",
      "BH \tRMSE: 1.89\t MAE: 1.53 \tMAPE: 0.83 \tDA: 0.77\n",
      "ADVANC \tRMSE: 2.22\t MAE: 1.75 \tMAPE: 1.05 \tDA: 0.59\n",
      "JAS \tRMSE: 0.41\t MAE: 0.29 \tMAPE: 3.53 \tDA: 0.54\n",
      "TRUE \tRMSE: 0.21\t MAE: 0.18 \tMAPE: 2.81 \tDA: 0.68\n",
      "\n",
      "mean RMSE: 1.72\n",
      "mean MAE: 1.28\n",
      "mean MAPE: 1.68\n",
      "mean DA: 0.5919\n"
     ]
    }
   ],
   "source": [
    "ada_dt = ensemble.AdaBoostRegressor(\n",
    "    base_estimator=dt,\n",
    "    learning_rate=0.1, \n",
    "    n_estimators=100, \n",
    "    loss='linear'\n",
    ")\n",
    "ada_dt.fit(x_train, np.squeeze(y_train.values))\n",
    "\n",
    "evaluator(ada_dt, x_test, le)"
   ]
  },
  {
   "cell_type": "markdown",
   "metadata": {},
   "source": [
    "# Gradient Boosting Regressor"
   ]
  },
  {
   "cell_type": "markdown",
   "metadata": {},
   "source": [
    "### Price"
   ]
  },
  {
   "cell_type": "code",
   "execution_count": 116,
   "metadata": {},
   "outputs": [
    {
     "data": {
      "text/plain": [
       "GradientBoostingRegressor(alpha=0.9, criterion='friedman_mse', init=None,\n",
       "             learning_rate=0.1, loss='ls', max_depth=6, max_features=None,\n",
       "             max_leaf_nodes=None, min_impurity_decrease=0.0,\n",
       "             min_impurity_split=None, min_samples_leaf=1,\n",
       "             min_samples_split=2, min_weight_fraction_leaf=0.0,\n",
       "             n_estimators=100, presort='auto', random_state=None,\n",
       "             subsample=1.0, verbose=0, warm_start=False)"
      ]
     },
     "execution_count": 116,
     "metadata": {},
     "output_type": "execute_result"
    },
    {
     "name": "stdout",
     "output_type": "stream",
     "text": [
      "BANPU \tRMSE: 0.29\t MAE: 0.25 \tMAPE: 1.41 \tDA: 0.71\n",
      "IRPC \tRMSE: 0.11\t MAE: 0.08 \tMAPE: 1.40 \tDA: 0.58\n",
      "PTT \tRMSE: 6.69\t MAE: 5.23 \tMAPE: 1.30 \tDA: 0.49\n",
      "BBL \tRMSE: 2.02\t MAE: 1.50 \tMAPE: 0.77 \tDA: 0.65\n",
      "KBANK \tRMSE: 3.39\t MAE: 2.81 \tMAPE: 1.40 \tDA: 0.34\n",
      "SCB \tRMSE: 2.29\t MAE: 1.73 \tMAPE: 1.14 \tDA: 0.43\n",
      "AOT \tRMSE: 1.02\t MAE: 0.67 \tMAPE: 1.29 \tDA: 0.60\n",
      "THAI \tRMSE: 0.72\t MAE: 0.44 \tMAPE: 2.21 \tDA: 0.48\n",
      "CPF \tRMSE: 0.31\t MAE: 0.25 \tMAPE: 0.94 \tDA: 0.56\n",
      "MINT \tRMSE: 0.98\t MAE: 0.81 \tMAPE: 1.98 \tDA: 0.47\n",
      "TU \tRMSE: 0.55\t MAE: 0.29 \tMAPE: 1.42 \tDA: 0.64\n",
      "SCC \tRMSE: 5.04\t MAE: 3.51 \tMAPE: 0.71 \tDA: 0.65\n",
      "CPN \tRMSE: 2.09\t MAE: 1.74 \tMAPE: 2.40 \tDA: 0.59\n",
      "CK \tRMSE: 0.49\t MAE: 0.36 \tMAPE: 1.26 \tDA: 0.56\n",
      "CPALL \tRMSE: 1.95\t MAE: 1.58 \tMAPE: 2.62 \tDA: 0.36\n",
      "HMPRO \tRMSE: 0.15\t MAE: 0.11 \tMAPE: 1.07 \tDA: 0.77\n",
      "BDMS \tRMSE: 0.44\t MAE: 0.28 \tMAPE: 1.38 \tDA: 0.59\n",
      "BH \tRMSE: 2.63\t MAE: 1.83 \tMAPE: 0.96 \tDA: 0.54\n",
      "ADVANC \tRMSE: 2.61\t MAE: 2.04 \tMAPE: 1.23 \tDA: 0.45\n",
      "JAS \tRMSE: 0.38\t MAE: 0.26 \tMAPE: 3.19 \tDA: 0.54\n",
      "TRUE \tRMSE: 0.20\t MAE: 0.17 \tMAPE: 2.71 \tDA: 0.64\n",
      "\n",
      "mean RMSE: 1.63\n",
      "mean MAE: 1.24\n",
      "mean MAPE: 1.56\n",
      "mean DA: 0.5551\n"
     ]
    }
   ],
   "source": [
    "gb = ensemble.GradientBoostingRegressor(\n",
    "    n_estimators=100, \n",
    "    learning_rate=0.1,\n",
    "    max_depth=6,\n",
    "#     max_features=5,\n",
    "#   min_samples_split=1,\n",
    "    loss='ls',\n",
    ")\n",
    "gb.fit(x_train, np.squeeze(y_train.values))\n",
    "\n",
    "evaluator(gb, x_test, le)"
   ]
  },
  {
   "cell_type": "markdown",
   "metadata": {},
   "source": [
    "### Price + Text"
   ]
  },
  {
   "cell_type": "code",
   "execution_count": 357,
   "metadata": {},
   "outputs": [
    {
     "data": {
      "text/plain": [
       "GradientBoostingRegressor(alpha=0.9, criterion='friedman_mse', init=None,\n",
       "             learning_rate=0.1, loss='ls', max_depth=6, max_features=None,\n",
       "             max_leaf_nodes=None, min_impurity_decrease=0.0,\n",
       "             min_impurity_split=None, min_samples_leaf=1,\n",
       "             min_samples_split=2, min_weight_fraction_leaf=0.0,\n",
       "             n_estimators=100, presort='auto', random_state=None,\n",
       "             subsample=1.0, verbose=0, warm_start=False)"
      ]
     },
     "execution_count": 357,
     "metadata": {},
     "output_type": "execute_result"
    },
    {
     "name": "stdout",
     "output_type": "stream",
     "text": [
      "BANPU \tRMSE: 0.31\t MAE: 0.23 \tMAPE: 1.30 \tDA: 0.76\n",
      "IRPC \tRMSE: 0.10\t MAE: 0.08 \tMAPE: 1.33 \tDA: 0.63\n",
      "PTT \tRMSE: 5.93\t MAE: 4.54 \tMAPE: 1.13 \tDA: 0.49\n",
      "BBL \tRMSE: 2.55\t MAE: 1.70 \tMAPE: 0.87 \tDA: 0.42\n",
      "KBANK \tRMSE: 2.71\t MAE: 2.25 \tMAPE: 1.12 \tDA: 0.44\n",
      "SCB \tRMSE: 2.44\t MAE: 1.77 \tMAPE: 1.16 \tDA: 0.37\n",
      "AOT \tRMSE: 1.06\t MAE: 0.76 \tMAPE: 1.49 \tDA: 0.63\n",
      "THAI \tRMSE: 0.69\t MAE: 0.44 \tMAPE: 2.18 \tDA: 0.55\n",
      "CPF \tRMSE: 0.33\t MAE: 0.24 \tMAPE: 0.91 \tDA: 0.56\n",
      "MINT \tRMSE: 0.86\t MAE: 0.73 \tMAPE: 1.77 \tDA: 0.47\n",
      "TU \tRMSE: 0.54\t MAE: 0.33 \tMAPE: 1.60 \tDA: 0.43\n",
      "SCC \tRMSE: 5.14\t MAE: 3.83 \tMAPE: 0.76 \tDA: 0.70\n",
      "CPN \tRMSE: 3.06\t MAE: 2.51 \tMAPE: 3.33 \tDA: 0.59\n",
      "CK \tRMSE: 0.63\t MAE: 0.48 \tMAPE: 1.67 \tDA: 0.12\n",
      "CPALL \tRMSE: 2.06\t MAE: 1.72 \tMAPE: 2.88 \tDA: 0.00\n",
      "HMPRO \tRMSE: 0.18\t MAE: 0.12 \tMAPE: 1.11 \tDA: 0.77\n",
      "BDMS \tRMSE: 0.43\t MAE: 0.32 \tMAPE: 1.55 \tDA: 0.71\n",
      "BH \tRMSE: 2.16\t MAE: 1.89 \tMAPE: 1.01 \tDA: 0.54\n",
      "ADVANC \tRMSE: 2.34\t MAE: 1.83 \tMAPE: 1.10 \tDA: 0.62\n",
      "JAS \tRMSE: 0.39\t MAE: 0.25 \tMAPE: 3.15 \tDA: 0.50\n",
      "TRUE \tRMSE: 0.22\t MAE: 0.18 \tMAPE: 2.72 \tDA: 0.68\n",
      "\n",
      "mean RMSE: 1.62\n",
      "mean MAE: 1.25\n",
      "mean MAPE: 1.63\n",
      "mean DA: 0.5224\n"
     ]
    }
   ],
   "source": [
    "gb = ensemble.GradientBoostingRegressor(\n",
    "    n_estimators=100, \n",
    "    learning_rate=0.1,\n",
    "    max_depth=6,\n",
    "#     max_features=5,\n",
    "#   min_samples_split=1,\n",
    "    loss='ls',\n",
    ")\n",
    "gb.fit(x_train, np.squeeze(y_train.values))\n",
    "\n",
    "evaluator(gb, x_test, le)"
   ]
  },
  {
   "cell_type": "markdown",
   "metadata": {},
   "source": [
    "# XGBoost"
   ]
  },
  {
   "cell_type": "code",
   "execution_count": 72,
   "metadata": {},
   "outputs": [
    {
     "data": {
      "text/plain": [
       "((1671, 13), (296, 13))"
      ]
     },
     "execution_count": 72,
     "metadata": {},
     "output_type": "execute_result"
    }
   ],
   "source": [
    "x_train_xgb, x_valid_xgb, y_train_xgb, y_valid_xgb = sklearn.model_selection.train_test_split(x_train, y_train, test_size=0.15, random_state=10)\n",
    "x_train_xgb.shape, x_valid_xgb.shape\n",
    "\n",
    "d_train = xgboost.DMatrix(x_train_xgb, label=y_train_xgb)\n",
    "d_valid = xgboost.DMatrix(x_valid_xgb, label=y_valid_xgb)"
   ]
  },
  {
   "cell_type": "code",
   "execution_count": 95,
   "metadata": {},
   "outputs": [
    {
     "name": "stdout",
     "output_type": "stream",
     "text": [
      "[0]\ttrain-mae:132.446\tvalid-mae:129.059\n",
      "Multiple eval metrics have been passed: 'valid-mae' will be used for early stopping.\n",
      "\n",
      "Will train until valid-mae hasn't improved in 100 rounds.\n",
      "[50]\ttrain-mae:8.40415\tvalid-mae:8.51058\n",
      "[100]\ttrain-mae:0.929559\tvalid-mae:1.6065\n",
      "[150]\ttrain-mae:0.721657\tvalid-mae:1.58173\n",
      "[200]\ttrain-mae:0.603054\tvalid-mae:1.57252\n",
      "[250]\ttrain-mae:0.510049\tvalid-mae:1.56848\n",
      "[300]\ttrain-mae:0.451232\tvalid-mae:1.56859\n",
      "Stopping. Best iteration:\n",
      "[238]\ttrain-mae:0.528944\tvalid-mae:1.56627\n",
      "\n"
     ]
    }
   ],
   "source": [
    "params = {\n",
    "    'booster':'dart',\n",
    "    'max_depth': 6,\n",
    "    'learning_rate': 0.1,\n",
    "    'n_estimators':10,\n",
    "    'subsample': 1,\n",
    "    'objective': 'reg:tweedie',\n",
    "    'eval_metric': 'mae',\n",
    "    'reg_lambda': 0.8,\n",
    "    'reg_alpha': 0.2,\n",
    "    'silent': 1,\n",
    "}\n",
    "\n",
    "xgb = xgboost.train(params, d_train, \n",
    "                    num_boost_round=3000, \n",
    "                    evals=[(d_train, 'train'), (d_valid, 'valid')], \n",
    "                    early_stopping_rounds=100,\n",
    "                    verbose_eval=50\n",
    "                   )"
   ]
  },
  {
   "cell_type": "code",
   "execution_count": 98,
   "metadata": {},
   "outputs": [
    {
     "name": "stdout",
     "output_type": "stream",
     "text": [
      "BANPU \tRMSE: 0.37\t MAE: 0.29 \tMAPE: 1.63 \tDA: 0.67\n",
      "IRPC \tRMSE: 0.11\t MAE: 0.09 \tMAPE: 1.47 \tDA: 0.58\n",
      "PTT \tRMSE: 5.57\t MAE: 4.41 \tMAPE: 1.09 \tDA: 0.58\n",
      "BBL \tRMSE: 2.45\t MAE: 1.58 \tMAPE: 0.80 \tDA: 0.58\n",
      "KBANK \tRMSE: 3.08\t MAE: 2.35 \tMAPE: 1.15 \tDA: 0.50\n",
      "SCB \tRMSE: 2.37\t MAE: 1.84 \tMAPE: 1.21 \tDA: 0.40\n",
      "AOT \tRMSE: 1.08\t MAE: 0.74 \tMAPE: 1.43 \tDA: 0.60\n",
      "THAI \tRMSE: 0.65\t MAE: 0.44 \tMAPE: 2.21 \tDA: 0.58\n",
      "CPF \tRMSE: 0.31\t MAE: 0.25 \tMAPE: 0.94 \tDA: 0.56\n",
      "MINT \tRMSE: 0.96\t MAE: 0.80 \tMAPE: 1.93 \tDA: 0.47\n",
      "TU \tRMSE: 0.52\t MAE: 0.35 \tMAPE: 1.73 \tDA: 0.36\n",
      "SCC \tRMSE: 5.61\t MAE: 3.96 \tMAPE: 0.79 \tDA: 0.70\n",
      "CPN \tRMSE: 2.84\t MAE: 2.13 \tMAPE: 2.87 \tDA: 0.47\n",
      "CK \tRMSE: 0.65\t MAE: 0.47 \tMAPE: 1.66 \tDA: 0.50\n",
      "CPALL \tRMSE: 2.28\t MAE: 1.79 \tMAPE: 2.98 \tDA: 0.36\n",
      "HMPRO \tRMSE: 0.20\t MAE: 0.14 \tMAPE: 1.30 \tDA: 0.85\n",
      "BDMS \tRMSE: 0.38\t MAE: 0.23 \tMAPE: 1.12 \tDA: 0.76\n",
      "BH \tRMSE: 2.15\t MAE: 1.68 \tMAPE: 0.90 \tDA: 0.54\n",
      "ADVANC \tRMSE: 2.26\t MAE: 1.71 \tMAPE: 1.03 \tDA: 0.48\n",
      "JAS \tRMSE: 0.37\t MAE: 0.25 \tMAPE: 3.09 \tDA: 0.54\n",
      "TRUE \tRMSE: 0.19\t MAE: 0.17 \tMAPE: 2.72 \tDA: 0.64\n",
      "\n",
      "mean RMSE: 1.64\n",
      "mean MAE: 1.22\n",
      "mean MAPE: 1.62\n",
      "mean DA: 0.5577\n"
     ]
    }
   ],
   "source": [
    "evaluator(xgb, x_test, le, isXGB=True)"
   ]
  },
  {
   "cell_type": "code",
   "execution_count": 92,
   "metadata": {},
   "outputs": [
    {
     "data": {
      "text/plain": [
       "<matplotlib.axes._subplots.AxesSubplot at 0x7f4bc656f438>"
      ]
     },
     "execution_count": 92,
     "metadata": {},
     "output_type": "execute_result"
    },
    {
     "data": {
      "image/png": "[encoded data removed]",
      "text/plain": [
       "<matplotlib.figure.Figure at 0x7f4bc656c9e8>"
      ]
     },
     "metadata": {},
     "output_type": "display_data"
    }
   ],
   "source": [
    "xgboost.plot_importance(xgb, height=0.3)"
   ]
  }
 ],
 "metadata": {
  "kernelspec": {
   "display_name": "Python 3",
   "language": "python",
   "name": "python3"
  },
  "language_info": {
   "codemirror_mode": {
    "name": "ipython",
    "version": 3
   },
   "file_extension": ".py",
   "mimetype": "text/x-python",
   "name": "python",
   "nbconvert_exporter": "python",
   "pygments_lexer": "ipython3",
   "version": "3.5.2"
  }
 },
 "nbformat": 4,
 "nbformat_minor": 2
}
