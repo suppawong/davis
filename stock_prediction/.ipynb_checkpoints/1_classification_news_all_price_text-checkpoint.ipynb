{
 "cells": [
  {
   "cell_type": "markdown",
   "metadata": {},
   "source": [
    "# Classification with news (all) with price + text"
   ]
  },
  {
   "cell_type": "code",
   "execution_count": 1,
   "metadata": {},
   "outputs": [
    {
     "data": {
      "text/html": [
       "<style>.container { width:100% !important; }</style>"
      ],
      "text/plain": [
       "<IPython.core.display.HTML object>"
      ]
     },
     "metadata": {},
     "output_type": "display_data"
    },
    {
     "data": {
      "text/html": [
       "<script>requirejs.config({paths: { 'plotly': ['https://cdn.plot.ly/plotly-latest.min']},});if(!window.Plotly) {{require(['plotly'],function(plotly) {window.Plotly=plotly;});}}</script>"
      ],
      "text/vnd.plotly.v1+html": [
       "<script>requirejs.config({paths: { 'plotly': ['https://cdn.plot.ly/plotly-latest.min']},});if(!window.Plotly) {{require(['plotly'],function(plotly) {window.Plotly=plotly;});}}</script>"
      ]
     },
     "metadata": {},
     "output_type": "display_data"
    }
   ],
   "source": [
    "from IPython.core.display import display, HTML\n",
    "display(HTML(\"<style>.container { width:100% !important; }</style>\"))\n",
    "\n",
    "from IPython.core.interactiveshell import InteractiveShell\n",
    "InteractiveShell.ast_node_interactivity = \"all\"\n",
    "\n",
    "from plotly.offline import download_plotlyjs, init_notebook_mode, plot, iplot\n",
    "init_notebook_mode(connected=True)"
   ]
  },
  {
   "cell_type": "code",
   "execution_count": 529,
   "metadata": {},
   "outputs": [],
   "source": [
    "import numpy as np\n",
    "import pandas as pd\n",
    "import seaborn as sns\n",
    "import os\n",
    "import copy\n",
    "import sklearn\n",
    "import xgboost\n",
    "import plotly.graph_objs as go\n",
    "import matplotlib.pyplot as plt\n",
    "\n",
    "from pythainlp.corpus import stopwords\n",
    "from datetime import datetime, timedelta\n",
    "from tqdm import tqdm_notebook\n",
    "from sklearn import tree, ensemble, svm\n",
    "from sklearn import decomposition, cluster, naive_bayes, discriminant_analysis\n",
    "from sklearn import pipeline, grid_search, manifold\n",
    "from copy import deepcopy\n",
    "from collections import Counter\n",
    "\n",
    "% matplotlib inline\n",
    "\n",
    "target_stocks = ['BANPU','IRPC','PTT','BBL','KBANK','SCB','AOT','THAI','CPF','MINT',\n",
    "                 'TU','SCC','CPN','CK','CPALL','HMPRO','BDMS','BH','ADVANC','JAS','TRUE']"
   ]
  },
  {
   "cell_type": "code",
   "execution_count": 4,
   "metadata": {},
   "outputs": [],
   "source": [
    "# df_price = pd.read_csv('merged_2013_2018.csv')\n",
    "# df_price['Date'] = pd.to_datetime(df_price['Date'], format='%Y-%m-%d')\n",
    "# df_price = df_price.loc[df_price['Ticker'].isin(target_stocks)]\n",
    "# df_price['Date'] = df_price['Date'].dt.date\n",
    "# df_price = df_price.set_index('Date')\n",
    "# df_price.tail(1)\n",
    "# len(df_price)\n",
    "\n",
    "# df_kaohoon = pd.read_csv('data/kaohoon_all.csv')\n",
    "# df_kaohoon['Date'] = pd.to_datetime(df_kaohoon['Date'], format='%Y-%m-%d')\n",
    "# df_kaohoon = df_kaohoon.set_index('Date')\n",
    "# df_kaohoon = df_kaohoon[:'2018-2-8']\n",
    "# df_kaohoon.index = df_kaohoon.index.date\n",
    "# df_kaohoon.tail(1)\n",
    "# len(df_kaohoon)\n",
    "\n",
    "# df_moneych = pd.read_csv('data/moneychanel_all.csv')\n",
    "# df_moneych['Date'] = pd.to_datetime(df_moneych['Date'], format='%Y-%m-%d')\n",
    "# df_moneych = df_moneych.set_index('Date')\n",
    "# df_moneych = df_moneych[:'2018-2-8']\n",
    "# df_moneych.index = df_moneych.index.date\n",
    "# df_moneych.tail(1)\n",
    "# len(df_moneych)\n",
    "\n",
    "# df_news = pd.concat([df_moneych, df_kaohoon])\n",
    "# 'Total:', len(df_news.index)"
   ]
  },
  {
   "cell_type": "markdown",
   "metadata": {},
   "source": [
    "# Lag & Horizon Construction"
   ]
  },
  {
   "cell_type": "code",
   "execution_count": 5,
   "metadata": {},
   "outputs": [],
   "source": [
    "# N_lags = 3\n",
    "# N_horizon = 1\n",
    "\n",
    "# df_train = []\n",
    "# df_test = []\n",
    "# df_val = []\n",
    "# for stock in tqdm_notebook(target_stocks):\n",
    "#     news_stocks = []\n",
    "#     df_stock = df_news.loc[df_news['Ticker'] == stock]\n",
    "#     prev_date = None\n",
    "#     prev_text = None\n",
    "    \n",
    "#     pbar = tqdm_notebook(total=len(df_stock))\n",
    "#     for date, row in df_stock.iterrows():\n",
    "#         if prev_date == None:\n",
    "#             prev_date = date\n",
    "#             prev_text = row['Text']\n",
    "#         elif prev_date != date:\n",
    "#             # horizon\n",
    "#             tmp_date = copy.deepcopy(prev_date)\n",
    "#             tmp_date += timedelta(days=1)\n",
    "#             prices = []\n",
    "#             count_lags = 0 \n",
    "#             while count_lags < N_horizon:\n",
    "#                 price = df_price.loc[(df_price.index == tmp_date) & (df_price['Ticker'] == stock)].values\n",
    "#                 tmp_date += timedelta(days=1)\n",
    "#                 if len(price) == 0: continue\n",
    "#                 prices.append(price[0][4]) # Close price next day(s)\n",
    "#                 count_lags+=1\n",
    "            \n",
    "#             # lag\n",
    "#             tmp_date = copy.deepcopy(prev_date)\n",
    "#             count_lags = 0 \n",
    "#             while count_lags < N_lags:\n",
    "#                 price = df_price.loc[(df_price.index == tmp_date) & (df_price['Ticker'] == stock)].values\n",
    "#                 tmp_date -= timedelta(days=1)\n",
    "#                 if len(price) == 0: continue\n",
    "#                 for val in price[0][:-1]: \n",
    "#                     if type(val) != str: prices.append(val)\n",
    "#                 count_lags+=1\n",
    "\n",
    "#             news_stocks.append([prev_date, stock, prev_text] + prices)\n",
    "            \n",
    "#             prev_date = date\n",
    "#             prev_text = row['Text']\n",
    "#         elif prev_date == date:\n",
    "#             prev_text += ' '+row['Text']\n",
    "        \n",
    "#         pbar.update(1)\n",
    "#     pbar.close()\n",
    "\n",
    "#     news_stocks = pd.DataFrame.from_records(news_stocks)\n",
    "#     news_stocks.columns = ['Date', 'Ticker', 'Text', \n",
    "#                            'Close(t+1)', # 'Close(t+2)','Close(t+3)','Close(t+4)','Close(t+5)',\n",
    "#                            'Open(t)', 'High(t)', 'Low(t)', 'Close(t)',\n",
    "#                            'Open(t-1)', 'High(t-1)', 'Low(t-1)', 'Close(t-1)',\n",
    "#                            'Open(t-2)', 'High(t-2)', 'Low(t-2)', 'Close(t-2)',\n",
    "# #                            'Open(t-3)', 'High(t-3)', 'Low(t-3)', 'Close(t-3)',\n",
    "# #                            'Open(t-4)', 'High(t-4)', 'Low(t-4)', 'Close(t-4)',\n",
    "# #                            'Open(t-5)', 'High(t-5)', 'Low(t-5)', 'Close(t-5)'\n",
    "#                           ]\n",
    "#     news_stocks = news_stocks.set_index('Date')\n",
    "    \n",
    "#     train_size = int(len(news_stocks) * 0.80)\n",
    "#     test_size = int(len(news_stocks) * 0.10)\n",
    "    \n",
    "#     train = news_stocks.iloc[:train_size]\n",
    "#     test = news_stocks.iloc[train_size: train_size + test_size]\n",
    "#     val = news_stocks.iloc[train_size + test_size: ]\n",
    "\n",
    "#     print(stock, ':\\t',len(train), len(test), len(val))    \n",
    "#     df_train.append(train)\n",
    "#     df_test.append(test)\n",
    "#     df_val.append(val)\n",
    "\n",
    "\n",
    "# df_train = pd.concat(df_train, axis=0)\n",
    "# df_test = pd.concat(df_test, axis=0)\n",
    "# df_val = pd.concat(df_val, axis=0)\n",
    "\n",
    "# len(df_train), len(df_test), len(df_val) \n",
    "# df_train.head(1)\n",
    "# df_test.head(1)\n",
    "# df_val.head(1)"
   ]
  },
  {
   "cell_type": "code",
   "execution_count": 6,
   "metadata": {},
   "outputs": [],
   "source": [
    "# df_train.to_csv('data/df_train_news.csv')\n",
    "# df_test.to_csv('data/df_test_news.csv')\n",
    "# df_val.to_csv('data/df_val_news.csv')"
   ]
  },
  {
   "cell_type": "code",
   "execution_count": 7,
   "metadata": {},
   "outputs": [],
   "source": [
    "df_train = pd.read_csv('data/df_train_news.csv')\n",
    "df_train['Date'] = pd.to_datetime(df_train['Date'], format='%Y-%m-%d')\n",
    "df_train = df_train.set_index('Date')\n",
    "\n",
    "df_test = pd.read_csv('data/df_test_news.csv')\n",
    "df_test['Date'] = pd.to_datetime(df_test['Date'], format='%Y-%m-%d')\n",
    "df_test = df_test.set_index('Date')\n",
    "\n",
    "df_val = pd.read_csv('data/df_val_news.csv')\n",
    "df_val['Date'] = pd.to_datetime(df_val['Date'], format='%Y-%m-%d')\n",
    "df_val = df_val.set_index('Date')\n",
    "\n",
    "df_train = df_train[['Ticker', 'Text', 'Close(t+1)', 'Close(t)', 'Close(t-1)', 'Close(t-2)']]\n",
    "df_test = df_test[['Ticker', 'Text', 'Close(t+1)', 'Close(t)', 'Close(t-1)', 'Close(t-2)']]\n",
    "df_val = df_val[['Ticker', 'Text', 'Close(t+1)', 'Close(t)', 'Close(t-1)', 'Close(t-2)']]"
   ]
  },
  {
   "cell_type": "code",
   "execution_count": 8,
   "metadata": {},
   "outputs": [
    {
     "data": {
      "text/plain": [
       "(20466, 6)"
      ]
     },
     "execution_count": 8,
     "metadata": {},
     "output_type": "execute_result"
    },
    {
     "data": {
      "text/plain": [
       "(2549, 6)"
      ]
     },
     "execution_count": 8,
     "metadata": {},
     "output_type": "execute_result"
    },
    {
     "data": {
      "text/plain": [
       "(2577, 6)"
      ]
     },
     "execution_count": 8,
     "metadata": {},
     "output_type": "execute_result"
    }
   ],
   "source": [
    "def generate_target_class(df_tmp):\n",
    "    df_tmp['changes'] = df_tmp['Close(t+1)'] - df_tmp['Close(t)']\n",
    "    df_tmp['class'] = np.where(df_tmp['changes']>=0, 1, 0)\n",
    "    df_tmp = df_tmp.drop(['Close(t+1)', 'changes'], axis=1)\n",
    "    return df_tmp\n",
    "\n",
    "df_train = generate_target_class(df_train)\n",
    "df_test = generate_target_class(df_test)\n",
    "df_val = generate_target_class(df_val)\n",
    "\n",
    "df_train.shape\n",
    "df_test.shape\n",
    "df_val.shape"
   ]
  },
  {
   "cell_type": "markdown",
   "metadata": {},
   "source": [
    "# TF-IDF Vetorization"
   ]
  },
  {
   "cell_type": "code",
   "execution_count": 9,
   "metadata": {},
   "outputs": [],
   "source": [
    "# Thai shtopwords\n",
    "stop_words = stopwords.words('thai')\n",
    "stop_words.remove('ขึ้น')\n",
    "stop_words.remove('ลง')"
   ]
  },
  {
   "cell_type": "markdown",
   "metadata": {},
   "source": [
    "**max_df** is used for removing terms that appear too frequently, also known as \"corpus-specific stop words\n",
    "\n",
    "**min_df** is used for removing terms that appear too infrequently"
   ]
  },
  {
   "cell_type": "code",
   "execution_count": 14,
   "metadata": {},
   "outputs": [],
   "source": [
    "vertorizer = sklearn.feature_extraction.text.TfidfVectorizer(\n",
    "    stop_words=stop_words,\n",
    "    max_df=0.50,  \n",
    "    min_df=0.03,\n",
    ")"
   ]
  },
  {
   "cell_type": "code",
   "execution_count": 15,
   "metadata": {},
   "outputs": [
    {
     "data": {
      "text/plain": [
       "((20466, 1019), (2549, 1019), (2577, 1019))"
      ]
     },
     "execution_count": 15,
     "metadata": {},
     "output_type": "execute_result"
    },
    {
     "data": {
      "text/html": [
       "<div>\n",
       "<style scoped>\n",
       "    .dataframe tbody tr th:only-of-type {\n",
       "        vertical-align: middle;\n",
       "    }\n",
       "\n",
       "    .dataframe tbody tr th {\n",
       "        vertical-align: top;\n",
       "    }\n",
       "\n",
       "    .dataframe thead th {\n",
       "        text-align: right;\n",
       "    }\n",
       "</style>\n",
       "<table border=\"1\" class=\"dataframe\">\n",
       "  <thead>\n",
       "    <tr style=\"text-align: right;\">\n",
       "      <th></th>\n",
       "      <th>Ticker</th>\n",
       "      <th>Close(t)</th>\n",
       "      <th>Close(t-1)</th>\n",
       "      <th>Close(t-2)</th>\n",
       "      <th>class</th>\n",
       "      <th>0</th>\n",
       "      <th>1</th>\n",
       "      <th>2</th>\n",
       "      <th>3</th>\n",
       "      <th>4</th>\n",
       "      <th>...</th>\n",
       "      <th>1009</th>\n",
       "      <th>1010</th>\n",
       "      <th>1011</th>\n",
       "      <th>1012</th>\n",
       "      <th>1013</th>\n",
       "      <th>1014</th>\n",
       "      <th>1015</th>\n",
       "      <th>1016</th>\n",
       "      <th>1017</th>\n",
       "      <th>1018</th>\n",
       "    </tr>\n",
       "    <tr>\n",
       "      <th>Date</th>\n",
       "      <th></th>\n",
       "      <th></th>\n",
       "      <th></th>\n",
       "      <th></th>\n",
       "      <th></th>\n",
       "      <th></th>\n",
       "      <th></th>\n",
       "      <th></th>\n",
       "      <th></th>\n",
       "      <th></th>\n",
       "      <th></th>\n",
       "      <th></th>\n",
       "      <th></th>\n",
       "      <th></th>\n",
       "      <th></th>\n",
       "      <th></th>\n",
       "      <th></th>\n",
       "      <th></th>\n",
       "      <th></th>\n",
       "      <th></th>\n",
       "      <th></th>\n",
       "    </tr>\n",
       "  </thead>\n",
       "  <tbody>\n",
       "    <tr>\n",
       "      <th>2015-02-03</th>\n",
       "      <td>2</td>\n",
       "      <td>25.5</td>\n",
       "      <td>24.3</td>\n",
       "      <td>24.3</td>\n",
       "      <td>1</td>\n",
       "      <td>0.0</td>\n",
       "      <td>0.0</td>\n",
       "      <td>0.0</td>\n",
       "      <td>0.0</td>\n",
       "      <td>0.0</td>\n",
       "      <td>...</td>\n",
       "      <td>0.0</td>\n",
       "      <td>0.0</td>\n",
       "      <td>0.0</td>\n",
       "      <td>0.0</td>\n",
       "      <td>0.080439</td>\n",
       "      <td>0.0</td>\n",
       "      <td>0.0</td>\n",
       "      <td>0.0</td>\n",
       "      <td>0.0</td>\n",
       "      <td>0.0</td>\n",
       "    </tr>\n",
       "  </tbody>\n",
       "</table>\n",
       "<p>1 rows × 1024 columns</p>\n",
       "</div>"
      ],
      "text/plain": [
       "            Ticker  Close(t)  Close(t-1)  Close(t-2)  class    0    1    2  \\\n",
       "Date                                                                         \n",
       "2015-02-03       2      25.5        24.3        24.3      1  0.0  0.0  0.0   \n",
       "\n",
       "              3    4  ...   1009  1010  1011  1012      1013  1014  1015  \\\n",
       "Date                  ...                                                  \n",
       "2015-02-03  0.0  0.0  ...    0.0   0.0   0.0   0.0  0.080439   0.0   0.0   \n",
       "\n",
       "            1016  1017  1018  \n",
       "Date                          \n",
       "2015-02-03   0.0   0.0   0.0  \n",
       "\n",
       "[1 rows x 1024 columns]"
      ]
     },
     "execution_count": 15,
     "metadata": {},
     "output_type": "execute_result"
    }
   ],
   "source": [
    "tfidf_train = vertorizer.fit_transform(df_train['Text'])\n",
    "tfidf_test = vertorizer.transform(df_test['Text'])\n",
    "tfidf_val = vertorizer.transform(df_val['Text'])\n",
    "\n",
    "df_tfidf_train = pd.DataFrame.from_records(tfidf_train.toarray())\n",
    "df_tfidf_test = pd.DataFrame.from_records(tfidf_test.toarray())\n",
    "df_tfidf_val = pd.DataFrame.from_records(tfidf_val.toarray())\n",
    "\n",
    "df_tfidf_train = df_tfidf_train.set_index(df_train.index)\n",
    "df_tfidf_test = df_tfidf_test.set_index(df_test.index)\n",
    "df_tfidf_val = df_tfidf_val.set_index(df_val.index)\n",
    "\n",
    "df_tfidf_train.shape, df_tfidf_test.shape, df_tfidf_val.shape\n",
    "\n",
    "# replace Text with TF-IDF vector\n",
    "x_train = df_train.drop(['Text'], axis=1)\n",
    "x_test = df_test.drop(['Text'], axis=1)\n",
    "x_val = df_val.drop(['Text'], axis=1)\n",
    "\n",
    "x_train = pd.concat([x_train, df_tfidf_train], axis=1)\n",
    "x_test = pd.concat([x_test, df_tfidf_test], axis=1)\n",
    "x_val = pd.concat([x_val, df_tfidf_val], axis=1)\n",
    "\n",
    "# Label Encoding\n",
    "le = sklearn.preprocessing.LabelEncoder()\n",
    "x_train['Ticker'] = le.fit_transform(x_train['Ticker'])\n",
    "x_test['Ticker'] = le.transform(x_test['Ticker'])\n",
    "x_val['Ticker'] = le.transform(x_val['Ticker'])\n",
    "x_train.head(1)\n",
    "# le.classes_"
   ]
  },
  {
   "cell_type": "markdown",
   "metadata": {},
   "source": [
    "# Create x_train and y_train"
   ]
  },
  {
   "cell_type": "code",
   "execution_count": 16,
   "metadata": {},
   "outputs": [
    {
     "data": {
      "text/plain": [
       "((20466, 1023), (20466, 1))"
      ]
     },
     "execution_count": 16,
     "metadata": {},
     "output_type": "execute_result"
    },
    {
     "data": {
      "text/plain": [
       "((2577, 1023), (2577, 1))"
      ]
     },
     "execution_count": 16,
     "metadata": {},
     "output_type": "execute_result"
    }
   ],
   "source": [
    "Horizon = 'class'\n",
    "y_train = x_train[[Horizon]]\n",
    "x_train = x_train.drop([Horizon], axis=1).copy()\n",
    "x_train.shape, y_train.shape\n",
    "\n",
    "y_val = x_val[[Horizon]]\n",
    "x_val = x_val.drop([Horizon], axis=1).copy()\n",
    "x_val.shape, y_val.shape"
   ]
  },
  {
   "cell_type": "markdown",
   "metadata": {},
   "source": [
    "## Feature Selection"
   ]
  },
  {
   "cell_type": "code",
   "execution_count": 90,
   "metadata": {},
   "outputs": [],
   "source": [
    "# sel = sklearn.feature_selection.VarianceThreshold(threshold=(.999 * (1 - .999)))\n",
    "# sel.fit_transform(x_train).shape\n",
    "\n",
    "# sel = sklearn.feature_selection.SelectFromModel(regr, prefit=True)\n",
    "# x_new = sel.transform(x_train)\n",
    "# x_new"
   ]
  },
  {
   "cell_type": "markdown",
   "metadata": {},
   "source": [
    "## Unsupervised Dimensionality reduction"
   ]
  },
  {
   "cell_type": "markdown",
   "metadata": {},
   "source": [
    "### Feature Agglomeration"
   ]
  },
  {
   "cell_type": "code",
   "execution_count": 505,
   "metadata": {},
   "outputs": [
    {
     "data": {
      "text/plain": [
       "FeatureAgglomeration(affinity='euclidean', compute_full_tree='auto',\n",
       "           connectivity=None, linkage='ward', memory=None, n_clusters=3,\n",
       "           pooling_func=<function mean at 0x7fd5ebb2b598>)"
      ]
     },
     "execution_count": 505,
     "metadata": {},
     "output_type": "execute_result"
    }
   ],
   "source": [
    "ward = sklearn.cluster.FeatureAgglomeration(n_clusters=3)\n",
    "ward.fit(x_train)"
   ]
  },
  {
   "cell_type": "markdown",
   "metadata": {},
   "source": [
    "### Principal Component Analysis "
   ]
  },
  {
   "cell_type": "code",
   "execution_count": 506,
   "metadata": {},
   "outputs": [
    {
     "data": {
      "text/plain": [
       "PCA(copy=True, iterated_power='auto', n_components=5, random_state=100,\n",
       "  svd_solver='auto', tol=0.0, whiten=False)"
      ]
     },
     "execution_count": 506,
     "metadata": {},
     "output_type": "execute_result"
    }
   ],
   "source": [
    "pca = sklearn.decomposition.PCA(5, random_state=100)\n",
    "pca.fit(x_train)"
   ]
  },
  {
   "cell_type": "code",
   "execution_count": 507,
   "metadata": {},
   "outputs": [
    {
     "data": {
      "text/plain": [
       "(20466, 5)"
      ]
     },
     "execution_count": 507,
     "metadata": {},
     "output_type": "execute_result"
    }
   ],
   "source": [
    "sel_x_train = pca.transform(x_train)\n",
    "sel_x_train.shape"
   ]
  },
  {
   "cell_type": "markdown",
   "metadata": {},
   "source": [
    "## Supervised Dimensionality reduction\n"
   ]
  },
  {
   "cell_type": "markdown",
   "metadata": {},
   "source": [
    "### Linear Discriminant Analysis"
   ]
  },
  {
   "cell_type": "code",
   "execution_count": 144,
   "metadata": {},
   "outputs": [
    {
     "data": {
      "text/plain": [
       "(20466, 1)"
      ]
     },
     "execution_count": 144,
     "metadata": {},
     "output_type": "execute_result"
    }
   ],
   "source": [
    "lda = discriminant_analysis.LinearDiscriminantAnalysis(n_components=1)\n",
    "lda.fit_transform(x_train, np.squeeze(y_train.values)).shape"
   ]
  },
  {
   "cell_type": "markdown",
   "metadata": {},
   "source": [
    "## Apply reduction"
   ]
  },
  {
   "cell_type": "code",
   "execution_count": 547,
   "metadata": {},
   "outputs": [
    {
     "data": {
      "text/plain": [
       "((20466, 5), (2577, 5))"
      ]
     },
     "execution_count": 547,
     "metadata": {},
     "output_type": "execute_result"
    }
   ],
   "source": [
    "# sel_x_train = np.concatenate((ward.transform(x_train), pca.transform(x_train)), axis=1)\n",
    "# sel_x_val = np.concatenate((ward.transform(x_val), pca.transform(x_val)), axis=1)\n",
    "\n",
    "# sel_x_train = ward.transform(x_train)\n",
    "# sel_x_val = ward.transform(x_val)\n",
    "\n",
    "sel_x_train = pca.transform(x_train)\n",
    "sel_x_val = pca.transform(x_val)\n",
    "\n",
    "# sel_x_train = deepcopy(x_train)\n",
    "# sel_x_val = deepcopy(x_val)\n",
    "# \n",
    "sel_x_train.shape, sel_x_val.shape"
   ]
  },
  {
   "cell_type": "code",
   "execution_count": 548,
   "metadata": {},
   "outputs": [
    {
     "data": {
      "text/plain": [
       "<matplotlib.axes._subplots.AxesSubplot at 0x7fd5b9ec50f0>"
      ]
     },
     "execution_count": 548,
     "metadata": {},
     "output_type": "execute_result"
    },
    {
     "data": {
      "image/png": "[encoded data removed]",
      "text/plain": [
       "<matplotlib.figure.Figure at 0x7fd5b9f293c8>"
      ]
     },
     "metadata": {},
     "output_type": "display_data"
    }
   ],
   "source": [
    "sns.heatmap(pd.DataFrame.from_records(sel_x_val).corr())"
   ]
  },
  {
   "cell_type": "markdown",
   "metadata": {},
   "source": [
    "# Linear Regression"
   ]
  },
  {
   "cell_type": "code",
   "execution_count": 551,
   "metadata": {},
   "outputs": [
    {
     "data": {
      "text/plain": [
       "LogisticRegression(C=1.0, class_weight=None, dual=False, fit_intercept=True,\n",
       "          intercept_scaling=1, max_iter=100, multi_class='ovr', n_jobs=1,\n",
       "          penalty='l2', random_state=None, solver='liblinear', tol=0.0001,\n",
       "          verbose=0, warm_start=False)"
      ]
     },
     "execution_count": 551,
     "metadata": {},
     "output_type": "execute_result"
    },
    {
     "name": "stdout",
     "output_type": "stream",
     "text": [
      "BANPU \tacc: 0.58\n",
      "IRPC \tacc: 0.69\n",
      "PTT \tacc: 0.56\n",
      "BBL \tacc: 0.68\n",
      "KBANK \tacc: 0.61\n",
      "SCB \tacc: 0.61\n",
      "AOT \tacc: 0.72\n",
      "THAI \tacc: 0.52\n",
      "CPF \tacc: 0.59\n",
      "MINT \tacc: 0.61\n",
      "TU \tacc: 0.57\n",
      "SCC \tacc: 0.55\n",
      "CPN \tacc: 0.56\n",
      "CK \tacc: 0.60\n",
      "CPALL \tacc: 0.69\n",
      "HMPRO \tacc: 0.66\n",
      "BDMS \tacc: 0.62\n",
      "BH \tacc: 0.70\n",
      "ADVANC \tacc: 0.58\n",
      "JAS \tacc: 0.52\n",
      "TRUE \tacc: 0.55\n",
      "mean Accuracy: 0.6089\n"
     ]
    },
    {
     "data": {
      "text/plain": [
       "Counter({0: 265, 1: 20201})"
      ]
     },
     "execution_count": 551,
     "metadata": {},
     "output_type": "execute_result"
    },
    {
     "data": {
      "text/plain": [
       "Counter({0: 18, 1: 2559})"
      ]
     },
     "execution_count": 551,
     "metadata": {},
     "output_type": "execute_result"
    }
   ],
   "source": [
    "regr = sklearn.linear_model.LogisticRegression()\n",
    "regr.fit(sel_x_train, np.squeeze(y_train.values))\n",
    "\n",
    "evaluator(regr, x_test, le, ward=None, pca=pca)\n",
    "\n",
    "Counter(regr.predict(sel_x_train))\n",
    "Counter(regr.predict(sel_x_val))"
   ]
  },
  {
   "cell_type": "markdown",
   "metadata": {},
   "source": [
    "# Decistion Tree Regressor"
   ]
  },
  {
   "cell_type": "code",
   "execution_count": 552,
   "metadata": {},
   "outputs": [
    {
     "data": {
      "application/vnd.jupyter.widget-view+json": {
       "model_id": "06e956d34fb848cbbc064014845ba670",
       "version_major": 2,
       "version_minor": 0
      },
      "text/html": [
       "<p>Failed to display Jupyter Widget of type <code>HBox</code>.</p>\n",
       "<p>\n",
       "  If you're reading this message in the Jupyter Notebook or JupyterLab Notebook, it may mean\n",
       "  that the widgets JavaScript is still loading. If this message persists, it\n",
       "  likely means that the widgets JavaScript library is either not installed or\n",
       "  not enabled. See the <a href=\"https://ipywidgets.readthedocs.io/en/stable/user_install.html\">Jupyter\n",
       "  Widgets Documentation</a> for setup instructions.\n",
       "</p>\n",
       "<p>\n",
       "  If you're reading this message in another frontend (for example, a static\n",
       "  rendering on GitHub or <a href=\"https://nbviewer.jupyter.org/\">NBViewer</a>),\n",
       "  it may mean that your frontend doesn't currently support widgets.\n",
       "</p>\n"
      ],
      "text/plain": [
       "HBox(children=(IntProgress(value=0, max=108), HTML(value='')))"
      ]
     },
     "metadata": {},
     "output_type": "display_data"
    },
    {
     "name": "stdout",
     "output_type": "stream",
     "text": [
      "\n",
      "val_acc: 59.91 %\n"
     ]
    },
    {
     "data": {
      "text/plain": [
       "{'criterion': 'entropy',\n",
       " 'max_depth': 6,\n",
       " 'max_features': 0.6,\n",
       " 'min_samples_leaf': 3,\n",
       " 'min_samples_split': 2,\n",
       " 'random_state': 100}"
      ]
     },
     "execution_count": 552,
     "metadata": {},
     "output_type": "execute_result"
    },
    {
     "data": {
      "text/plain": [
       "DecisionTreeClassifier(class_weight=None, criterion='entropy', max_depth=6,\n",
       "            max_features=0.6, max_leaf_nodes=None,\n",
       "            min_impurity_decrease=0.0, min_impurity_split=None,\n",
       "            min_samples_leaf=3, min_samples_split=2,\n",
       "            min_weight_fraction_leaf=0.0, presort=False, random_state=100,\n",
       "            splitter='best')"
      ]
     },
     "execution_count": 552,
     "metadata": {},
     "output_type": "execute_result"
    },
    {
     "name": "stdout",
     "output_type": "stream",
     "text": [
      "BANPU \tacc: 0.58\n",
      "IRPC \tacc: 0.69\n",
      "PTT \tacc: 0.56\n",
      "BBL \tacc: 0.52\n",
      "KBANK \tacc: 0.61\n",
      "SCB \tacc: 0.61\n",
      "AOT \tacc: 0.72\n",
      "THAI \tacc: 0.52\n",
      "CPF \tacc: 0.59\n",
      "MINT \tacc: 0.61\n",
      "TU \tacc: 0.60\n",
      "SCC \tacc: 0.52\n",
      "CPN \tacc: 0.56\n",
      "CK \tacc: 0.60\n",
      "CPALL \tacc: 0.69\n",
      "HMPRO \tacc: 0.66\n",
      "BDMS \tacc: 0.62\n",
      "BH \tacc: 0.63\n",
      "ADVANC \tacc: 0.68\n",
      "JAS \tacc: 0.52\n",
      "TRUE \tacc: 0.53\n",
      "mean Accuracy: 0.6012\n"
     ]
    },
    {
     "data": {
      "text/plain": [
       "Counter({0: 229, 1: 2348})"
      ]
     },
     "execution_count": 552,
     "metadata": {},
     "output_type": "execute_result"
    }
   ],
   "source": [
    "param_dt = {\n",
    "    'criterion':['entropy'],\n",
    "    'max_depth':[6,7,8],\n",
    "    'max_features':[0.6,0.7,0.8,None],\n",
    "    'min_samples_leaf':[1,2,3],\n",
    "    'min_samples_split':[2,3,4],\n",
    "    'random_state': [100]\n",
    "}\n",
    "grids = grid_search.ParameterGrid(param_dt)\n",
    "\n",
    "max_acc = -1\n",
    "best_param = {}\n",
    "dt = None\n",
    "for param in tqdm_notebook(grids):\n",
    "    model = tree.DecisionTreeClassifier(**param)\n",
    "    _=model.fit(sel_x_train, y_train)\n",
    "    acc = sklearn.metrics.accuracy_score(y_val.values, model.predict(sel_x_val))\n",
    "    if acc > max_acc:\n",
    "        max_acc = deepcopy(acc)\n",
    "        best_param = deepcopy(param)\n",
    "        dt = deepcopy(model)\n",
    "print('val_acc:', round(max_acc*100,2),'%')\n",
    "best_param\n",
    "dt\n",
    "evaluator(dt, x_test, le, ward=None, pca=pca)\n",
    "\n",
    "Counter(dt.predict(sel_x_val))"
   ]
  },
  {
   "cell_type": "markdown",
   "metadata": {},
   "source": [
    "# Random Forest Regrssor"
   ]
  },
  {
   "cell_type": "code",
   "execution_count": 554,
   "metadata": {
    "scrolled": false
   },
   "outputs": [
    {
     "data": {
      "application/vnd.jupyter.widget-view+json": {
       "model_id": "e977c2595cb24c9eaa213cf91cf91802",
       "version_major": 2,
       "version_minor": 0
      },
      "text/html": [
       "<p>Failed to display Jupyter Widget of type <code>HBox</code>.</p>\n",
       "<p>\n",
       "  If you're reading this message in the Jupyter Notebook or JupyterLab Notebook, it may mean\n",
       "  that the widgets JavaScript is still loading. If this message persists, it\n",
       "  likely means that the widgets JavaScript library is either not installed or\n",
       "  not enabled. See the <a href=\"https://ipywidgets.readthedocs.io/en/stable/user_install.html\">Jupyter\n",
       "  Widgets Documentation</a> for setup instructions.\n",
       "</p>\n",
       "<p>\n",
       "  If you're reading this message in another frontend (for example, a static\n",
       "  rendering on GitHub or <a href=\"https://nbviewer.jupyter.org/\">NBViewer</a>),\n",
       "  it may mean that your frontend doesn't currently support widgets.\n",
       "</p>\n"
      ],
      "text/plain": [
       "HBox(children=(IntProgress(value=0, max=20), HTML(value='')))"
      ]
     },
     "metadata": {},
     "output_type": "display_data"
    },
    {
     "name": "stdout",
     "output_type": "stream",
     "text": [
      "\n",
      "val_acc: 60.19 %\n"
     ]
    },
    {
     "data": {
      "text/plain": [
       "{'criterion': 'entropy',\n",
       " 'max_depth': 8,\n",
       " 'n_estimators': 16,\n",
       " 'n_jobs': 8,\n",
       " 'random_state': 100}"
      ]
     },
     "execution_count": 554,
     "metadata": {},
     "output_type": "execute_result"
    },
    {
     "data": {
      "text/plain": [
       "RandomForestClassifier(bootstrap=True, class_weight=None, criterion='entropy',\n",
       "            max_depth=8, max_features='auto', max_leaf_nodes=None,\n",
       "            min_impurity_decrease=0.0, min_impurity_split=None,\n",
       "            min_samples_leaf=1, min_samples_split=2,\n",
       "            min_weight_fraction_leaf=0.0, n_estimators=16, n_jobs=8,\n",
       "            oob_score=False, random_state=100, verbose=0, warm_start=False)"
      ]
     },
     "execution_count": 554,
     "metadata": {},
     "output_type": "execute_result"
    },
    {
     "name": "stdout",
     "output_type": "stream",
     "text": [
      "BANPU \tacc: 0.58\n",
      "IRPC \tacc: 0.70\n",
      "PTT \tacc: 0.57\n",
      "BBL \tacc: 0.67\n",
      "KBANK \tacc: 0.61\n",
      "SCB \tacc: 0.61\n",
      "AOT \tacc: 0.72\n",
      "THAI \tacc: 0.52\n",
      "CPF \tacc: 0.59\n",
      "MINT \tacc: 0.61\n",
      "TU \tacc: 0.59\n",
      "SCC \tacc: 0.55\n",
      "CPN \tacc: 0.57\n",
      "CK \tacc: 0.60\n",
      "CPALL \tacc: 0.69\n",
      "HMPRO \tacc: 0.66\n",
      "BDMS \tacc: 0.62\n",
      "BH \tacc: 0.73\n",
      "ADVANC \tacc: 0.59\n",
      "JAS \tacc: 0.52\n",
      "TRUE \tacc: 0.55\n",
      "mean Accuracy: 0.6121\n"
     ]
    },
    {
     "data": {
      "text/plain": [
       "Counter({0: 90, 1: 2487})"
      ]
     },
     "execution_count": 554,
     "metadata": {},
     "output_type": "execute_result"
    }
   ],
   "source": [
    "grids = sklearn.grid_search.ParameterGrid({\n",
    "    'criterion':['entropy'],\n",
    "    'max_depth':[4,6,8,10],\n",
    "#     'max_features':[0.7,0.8,0.9,None],\n",
    "#     'min_samples_leaf':[1,2,3],\n",
    "#     'min_samples_split':[2,3,4],\n",
    "    'random_state': [100],\n",
    "    'n_jobs':[8],\n",
    "    'n_estimators':[4,8,12,16,20]\n",
    "})\n",
    "\n",
    "max_acc = -1\n",
    "best_param = {}\n",
    "rf = None\n",
    "for param in tqdm_notebook(grids):\n",
    "    model = ensemble.RandomForestClassifier(**param)\n",
    "    _=model.fit(sel_x_train, np.squeeze(y_train.values))\n",
    "    acc = sklearn.metrics.accuracy_score(np.squeeze(y_val.values), model.predict(sel_x_val))\n",
    "    if acc > max_acc:\n",
    "        max_acc = deepcopy(acc)\n",
    "        best_param = deepcopy(param)\n",
    "        rf = deepcopy(model)\n",
    "print('val_acc:', round(max_acc*100,2),'%')\n",
    "best_param\n",
    "rf\n",
    "evaluator(rf, x_test, le, ward=None, pca=pca)\n",
    "Counter(rf.predict(sel_x_val))"
   ]
  },
  {
   "cell_type": "markdown",
   "metadata": {},
   "source": [
    "# AdaBoost Regressor"
   ]
  },
  {
   "cell_type": "code",
   "execution_count": 198,
   "metadata": {},
   "outputs": [
    {
     "data": {
      "application/vnd.jupyter.widget-view+json": {
       "model_id": "ff381a4ec0494dae9ff6f28d639702b6",
       "version_major": 2,
       "version_minor": 0
      },
      "text/html": [
       "<p>Failed to display Jupyter Widget of type <code>HBox</code>.</p>\n",
       "<p>\n",
       "  If you're reading this message in the Jupyter Notebook or JupyterLab Notebook, it may mean\n",
       "  that the widgets JavaScript is still loading. If this message persists, it\n",
       "  likely means that the widgets JavaScript library is either not installed or\n",
       "  not enabled. See the <a href=\"https://ipywidgets.readthedocs.io/en/stable/user_install.html\">Jupyter\n",
       "  Widgets Documentation</a> for setup instructions.\n",
       "</p>\n",
       "<p>\n",
       "  If you're reading this message in another frontend (for example, a static\n",
       "  rendering on GitHub or <a href=\"https://nbviewer.jupyter.org/\">NBViewer</a>),\n",
       "  it may mean that your frontend doesn't currently support widgets.\n",
       "</p>\n"
      ],
      "text/plain": [
       "HBox(children=(IntProgress(value=0, max=1), HTML(value='')))"
      ]
     },
     "metadata": {},
     "output_type": "display_data"
    },
    {
     "name": "stdout",
     "output_type": "stream",
     "text": [
      "\n"
     ]
    },
    {
     "data": {
      "text/plain": [
       "1.1273315494031821"
      ]
     },
     "execution_count": 198,
     "metadata": {},
     "output_type": "execute_result"
    },
    {
     "data": {
      "text/plain": [
       "{'base_estimator': RandomForestRegressor(bootstrap=True, criterion='mse', max_depth=12,\n",
       "            max_features=None, max_leaf_nodes=None,\n",
       "            min_impurity_decrease=0.0, min_impurity_split=None,\n",
       "            min_samples_leaf=2, min_samples_split=2,\n",
       "            min_weight_fraction_leaf=0.0, n_estimators=10, n_jobs=8,\n",
       "            oob_score=False, random_state=100, verbose=0, warm_start=False),\n",
       " 'learning_rate': 0.3,\n",
       " 'loss': 'square',\n",
       " 'n_estimators': 20,\n",
       " 'random_state': 100}"
      ]
     },
     "execution_count": 198,
     "metadata": {},
     "output_type": "execute_result"
    }
   ],
   "source": [
    "grids = sklearn.grid_search.ParameterGrid({\n",
    "    'base_estimator':[rf],\n",
    "    'n_estimators':[20],\n",
    "    'learning_rate':[0.3],\n",
    "    'loss':['square'],\n",
    "    'random_state': [100]\n",
    "})\n",
    "\n",
    "max_acc = -1\n",
    "best_param = {}\n",
    "ada = None\n",
    "for param in tqdm_notebook(grids):\n",
    "    model = ensemble.AdaBoostClassifier(**param)\n",
    "    _=model.fit(sel_x_train, np.squeeze(y_train.values))\n",
    "    acc = sklearn.metrics.accuracy_score(np.squeeze(y_val.values), model.predict(sel_x_val))\n",
    "    if acc > max_acc:\n",
    "        max_acc = deepcopy(acc)\n",
    "        best_param = deepcopy(param)\n",
    "        ada = deepcopy(model)\n",
    "print('val_acc:', round(max_acc*100,2),'%')\n",
    "best_param\n",
    "ada\n",
    "evaluator(ada, x_test, le)"
   ]
  },
  {
   "cell_type": "code",
   "execution_count": 199,
   "metadata": {},
   "outputs": [
    {
     "data": {
      "text/plain": [
       "AdaBoostRegressor(base_estimator=RandomForestRegressor(bootstrap=True, criterion='mse', max_depth=12,\n",
       "           max_features=None, max_leaf_nodes=None,\n",
       "           min_impurity_decrease=0.0, min_impurity_split=None,\n",
       "           min_samples_leaf=2, min_samples_split=2,\n",
       "           min_weight_fraction_leaf=0.0, n_estimators=10, n_jobs=8,\n",
       "           oob_score=False, random_state=100, verbose=0, warm_start=False),\n",
       "         learning_rate=0.3, loss='square', n_estimators=20,\n",
       "         random_state=100)"
      ]
     },
     "execution_count": 199,
     "metadata": {},
     "output_type": "execute_result"
    },
    {
     "name": "stdout",
     "output_type": "stream",
     "text": [
      "BANPU \tRMSE: 0.23\t MAE: 0.18 \tMAPE: 1.08 \tDA: 0.57\n",
      "IRPC \tRMSE: 0.09\t MAE: 0.07 \tMAPE: 1.23 \tDA: 0.49\n",
      "PTT \tRMSE: 2.87\t MAE: 2.11 \tMAPE: 0.55 \tDA: 0.56\n",
      "BBL \tRMSE: 1.48\t MAE: 1.18 \tMAPE: 0.64 \tDA: 0.50\n",
      "KBANK \tRMSE: 2.21\t MAE: 1.77 \tMAPE: 0.89 \tDA: 0.48\n",
      "SCB \tRMSE: 1.43\t MAE: 1.11 \tMAPE: 0.73 \tDA: 0.56\n",
      "AOT \tRMSE: 0.91\t MAE: 0.70 \tMAPE: 1.39 \tDA: 0.55\n",
      "THAI \tRMSE: 0.42\t MAE: 0.31 \tMAPE: 1.63 \tDA: 0.56\n",
      "CPF \tRMSE: 0.38\t MAE: 0.29 \tMAPE: 1.13 \tDA: 0.56\n",
      "MINT \tRMSE: 0.52\t MAE: 0.41 \tMAPE: 1.02 \tDA: 0.50\n",
      "TU \tRMSE: 0.28\t MAE: 0.20 \tMAPE: 1.04 \tDA: 0.58\n",
      "SCC \tRMSE: 4.88\t MAE: 3.98 \tMAPE: 0.79 \tDA: 0.48\n",
      "CPN \tRMSE: 1.08\t MAE: 0.85 \tMAPE: 1.20 \tDA: 0.58\n",
      "CK \tRMSE: 0.35\t MAE: 0.28 \tMAPE: 1.00 \tDA: 0.46\n",
      "CPALL \tRMSE: 0.62\t MAE: 0.49 \tMAPE: 0.78 \tDA: 0.50\n",
      "HMPRO \tRMSE: 0.19\t MAE: 0.13 \tMAPE: 1.20 \tDA: 0.53\n",
      "BDMS \tRMSE: 0.24\t MAE: 0.18 \tMAPE: 0.91 \tDA: 0.47\n",
      "BH \tRMSE: 2.65\t MAE: 1.79 \tMAPE: 0.90 \tDA: 0.57\n",
      "ADVANC \tRMSE: 1.92\t MAE: 1.41 \tMAPE: 0.77 \tDA: 0.53\n",
      "JAS \tRMSE: 0.11\t MAE: 0.08 \tMAPE: 1.02 \tDA: 0.44\n",
      "TRUE \tRMSE: 0.11\t MAE: 0.08 \tMAPE: 1.40 \tDA: 0.56\n",
      "\n",
      "mean RMSE: 1.09\n",
      "mean MAE: 0.84\n",
      "mean MAPE: 1.01\n",
      "mean DA: 0.5262\n"
     ]
    }
   ],
   "source": [
    "ada\n",
    "evaluator(ada, x_test, le)"
   ]
  },
  {
   "cell_type": "markdown",
   "metadata": {},
   "source": [
    "# Gradient Boosting Regressor"
   ]
  },
  {
   "cell_type": "code",
   "execution_count": 207,
   "metadata": {},
   "outputs": [
    {
     "data": {
      "application/vnd.jupyter.widget-view+json": {
       "model_id": "fbf937a7a13b4c328cf6b1d2454caad9",
       "version_major": 2,
       "version_minor": 0
      },
      "text/html": [
       "<p>Failed to display Jupyter Widget of type <code>HBox</code>.</p>\n",
       "<p>\n",
       "  If you're reading this message in the Jupyter Notebook or JupyterLab Notebook, it may mean\n",
       "  that the widgets JavaScript is still loading. If this message persists, it\n",
       "  likely means that the widgets JavaScript library is either not installed or\n",
       "  not enabled. See the <a href=\"https://ipywidgets.readthedocs.io/en/stable/user_install.html\">Jupyter\n",
       "  Widgets Documentation</a> for setup instructions.\n",
       "</p>\n",
       "<p>\n",
       "  If you're reading this message in another frontend (for example, a static\n",
       "  rendering on GitHub or <a href=\"https://nbviewer.jupyter.org/\">NBViewer</a>),\n",
       "  it may mean that your frontend doesn't currently support widgets.\n",
       "</p>\n"
      ],
      "text/plain": [
       "HBox(children=(IntProgress(value=0, max=1), HTML(value='')))"
      ]
     },
     "metadata": {},
     "output_type": "display_data"
    },
    {
     "name": "stdout",
     "output_type": "stream",
     "text": [
      "\n"
     ]
    },
    {
     "data": {
      "text/plain": [
       "1.2498595228576765"
      ]
     },
     "execution_count": 207,
     "metadata": {},
     "output_type": "execute_result"
    },
    {
     "data": {
      "text/plain": [
       "{'criterion': 'friedman_mse',\n",
       " 'learning_rate': 0.3,\n",
       " 'max_depth': 8,\n",
       " 'min_samples_leaf': 1,\n",
       " 'min_samples_split': 2,\n",
       " 'n_estimators': 50,\n",
       " 'random_state': 100}"
      ]
     },
     "execution_count": 207,
     "metadata": {},
     "output_type": "execute_result"
    }
   ],
   "source": [
    "grids = sklearn.grid_search.ParameterGrid({\n",
    "    'criterion':['friedman_mse'],\n",
    "    'n_estimators':[50],\n",
    "    'learning_rate':[0.3],\n",
    "    'max_depth':[8],\n",
    "    'random_state': [100],\n",
    "    'min_samples_split': [2],\n",
    "    'min_samples_leaf': [1]\n",
    "})\n",
    "\n",
    "min_MAPE = 9999999\n",
    "best_param = {}\n",
    "gb = None\n",
    "for param in tqdm_notebook(grids):\n",
    "    model = ensemble.GradientBoostingRegressor(**param)\n",
    "    _=model.fit(sel_x_train, np.squeeze(y_train.values))\n",
    "    MAPE = mean_absolute_percentage_error(np.squeeze(y_val.values), model.predict(sel_x_val))\n",
    "    if MAPE < min_MAPE:\n",
    "        min_MAPE = deepcopy(MAPE)\n",
    "        best_param = deepcopy(param)\n",
    "        gb = deepcopy(model)\n",
    "min_MAPE\n",
    "best_param"
   ]
  },
  {
   "cell_type": "code",
   "execution_count": 208,
   "metadata": {},
   "outputs": [
    {
     "data": {
      "text/plain": [
       "GradientBoostingRegressor(alpha=0.9, criterion='friedman_mse', init=None,\n",
       "             learning_rate=0.3, loss='ls', max_depth=8, max_features=None,\n",
       "             max_leaf_nodes=None, min_impurity_decrease=0.0,\n",
       "             min_impurity_split=None, min_samples_leaf=1,\n",
       "             min_samples_split=2, min_weight_fraction_leaf=0.0,\n",
       "             n_estimators=50, presort='auto', random_state=100,\n",
       "             subsample=1.0, verbose=0, warm_start=False)"
      ]
     },
     "execution_count": 208,
     "metadata": {},
     "output_type": "execute_result"
    },
    {
     "name": "stdout",
     "output_type": "stream",
     "text": [
      "BANPU \tRMSE: 0.25\t MAE: 0.20 \tMAPE: 1.17 \tDA: 0.53\n",
      "IRPC \tRMSE: 0.13\t MAE: 0.09 \tMAPE: 1.58 \tDA: 0.50\n",
      "PTT \tRMSE: 2.78\t MAE: 1.98 \tMAPE: 0.51 \tDA: 0.65\n",
      "BBL \tRMSE: 1.70\t MAE: 1.35 \tMAPE: 0.73 \tDA: 0.55\n",
      "KBANK \tRMSE: 2.28\t MAE: 1.86 \tMAPE: 0.94 \tDA: 0.53\n",
      "SCB \tRMSE: 1.48\t MAE: 1.18 \tMAPE: 0.78 \tDA: 0.54\n",
      "AOT \tRMSE: 0.86\t MAE: 0.62 \tMAPE: 1.23 \tDA: 0.61\n",
      "THAI \tRMSE: 0.42\t MAE: 0.29 \tMAPE: 1.55 \tDA: 0.60\n",
      "CPF \tRMSE: 0.39\t MAE: 0.30 \tMAPE: 1.15 \tDA: 0.57\n",
      "MINT \tRMSE: 0.51\t MAE: 0.43 \tMAPE: 1.06 \tDA: 0.48\n",
      "TU \tRMSE: 0.31\t MAE: 0.22 \tMAPE: 1.17 \tDA: 0.55\n",
      "SCC \tRMSE: 5.63\t MAE: 4.41 \tMAPE: 0.88 \tDA: 0.52\n",
      "CPN \tRMSE: 1.14\t MAE: 0.89 \tMAPE: 1.26 \tDA: 0.54\n",
      "CK \tRMSE: 0.34\t MAE: 0.28 \tMAPE: 1.00 \tDA: 0.45\n",
      "CPALL \tRMSE: 0.61\t MAE: 0.47 \tMAPE: 0.75 \tDA: 0.42\n",
      "HMPRO \tRMSE: 0.22\t MAE: 0.14 \tMAPE: 1.29 \tDA: 0.50\n",
      "BDMS \tRMSE: 0.25\t MAE: 0.19 \tMAPE: 0.95 \tDA: 0.45\n",
      "BH \tRMSE: 2.84\t MAE: 2.01 \tMAPE: 1.02 \tDA: 0.53\n",
      "ADVANC \tRMSE: 2.00\t MAE: 1.58 \tMAPE: 0.87 \tDA: 0.51\n",
      "JAS \tRMSE: 0.13\t MAE: 0.09 \tMAPE: 1.11 \tDA: 0.50\n",
      "TRUE \tRMSE: 0.16\t MAE: 0.11 \tMAPE: 1.81 \tDA: 0.48\n",
      "\n",
      "mean RMSE: 1.16\n",
      "mean MAE: 0.89\n",
      "mean MAPE: 1.09\n",
      "mean DA: 0.5245\n"
     ]
    }
   ],
   "source": [
    "gb\n",
    "evaluator(gb, x_test, le)"
   ]
  },
  {
   "cell_type": "markdown",
   "metadata": {},
   "source": [
    "# XGBoost Regressor"
   ]
  },
  {
   "cell_type": "code",
   "execution_count": 302,
   "metadata": {},
   "outputs": [
    {
     "data": {
      "text/plain": [
       "(20466, 17)"
      ]
     },
     "execution_count": 302,
     "metadata": {},
     "output_type": "execute_result"
    }
   ],
   "source": [
    "sel_x_train.shape"
   ]
  },
  {
   "cell_type": "code",
   "execution_count": 321,
   "metadata": {},
   "outputs": [],
   "source": [
    "d_train = xgboost.DMatrix(sel_x_train, label=y_train)\n",
    "d_valid = xgboost.DMatrix(sel_x_val, label=y_val)"
   ]
  },
  {
   "cell_type": "code",
   "execution_count": 341,
   "metadata": {
    "scrolled": false
   },
   "outputs": [
    {
     "data": {
      "application/vnd.jupyter.widget-view+json": {
       "model_id": "c3f3ed23d977400ebedd9957f491bc60",
       "version_major": 2,
       "version_minor": 0
      },
      "text/html": [
       "<p>Failed to display Jupyter Widget of type <code>HBox</code>.</p>\n",
       "<p>\n",
       "  If you're reading this message in the Jupyter Notebook or JupyterLab Notebook, it may mean\n",
       "  that the widgets JavaScript is still loading. If this message persists, it\n",
       "  likely means that the widgets JavaScript library is either not installed or\n",
       "  not enabled. See the <a href=\"https://ipywidgets.readthedocs.io/en/stable/user_install.html\">Jupyter\n",
       "  Widgets Documentation</a> for setup instructions.\n",
       "</p>\n",
       "<p>\n",
       "  If you're reading this message in another frontend (for example, a static\n",
       "  rendering on GitHub or <a href=\"https://nbviewer.jupyter.org/\">NBViewer</a>),\n",
       "  it may mean that your frontend doesn't currently support widgets.\n",
       "</p>\n"
      ],
      "text/plain": [
       "HBox(children=(IntProgress(value=0, max=10), HTML(value='')))"
      ]
     },
     "metadata": {},
     "output_type": "display_data"
    },
    {
     "name": "stdout",
     "output_type": "stream",
     "text": [
      "\n",
      "val_acc: 59.76 %\n"
     ]
    },
    {
     "data": {
      "text/plain": [
       "{'booster': 'gbtree',\n",
       " 'learning_rate': 0.1,\n",
       " 'max_depth': 4,\n",
       " 'nthread': 8,\n",
       " 'objective': 'reg:logistic',\n",
       " 'subsample': 1}"
      ]
     },
     "execution_count": 341,
     "metadata": {},
     "output_type": "execute_result"
    },
    {
     "data": {
      "text/plain": [
       "<xgboost.core.Booster at 0x7fd5c4d57240>"
      ]
     },
     "execution_count": 341,
     "metadata": {},
     "output_type": "execute_result"
    },
    {
     "name": "stdout",
     "output_type": "stream",
     "text": [
      "BANPU \tacc: 0.58\n",
      "IRPC \tacc: 0.69\n",
      "PTT \tacc: 0.56\n",
      "BBL \tacc: 0.67\n",
      "KBANK \tacc: 0.58\n",
      "SCB \tacc: 0.62\n",
      "AOT \tacc: 0.72\n",
      "THAI \tacc: 0.51\n",
      "CPF \tacc: 0.59\n",
      "MINT \tacc: 0.61\n",
      "TU \tacc: 0.59\n",
      "SCC \tacc: 0.53\n",
      "CPN \tacc: 0.56\n",
      "CK \tacc: 0.60\n",
      "CPALL \tacc: 0.69\n",
      "HMPRO \tacc: 0.66\n",
      "BDMS \tacc: 0.61\n",
      "BH \tacc: 0.69\n",
      "ADVANC \tacc: 0.58\n",
      "JAS \tacc: 0.52\n",
      "TRUE \tacc: 0.53\n",
      "mean Accuracy: 0.6047\n"
     ]
    }
   ],
   "source": [
    "grids = sklearn.grid_search.ParameterGrid({\n",
    "    'booster':['gbtree'],\n",
    "    'learning_rate':[0.1],\n",
    "    'max_depth':[2,3,4,5,6],\n",
    "    'subsample': [1],\n",
    "    'objective': ['reg:logistic','binary:logistic'],\n",
    "# #     'eval_metric':['auc'],\n",
    "    'nthread': [8],\n",
    "#     'lambda': [0, 0.2],\n",
    "#     'alpha': [0.0, 0.2],\n",
    "#     'updater': ['coord_descent']\n",
    "})\n",
    "\n",
    "max_acc = -1\n",
    "best_param = {}\n",
    "xgb = None\n",
    "for param in tqdm_notebook(grids):\n",
    "    model = xgboost.train(\n",
    "        param, \n",
    "        d_train, \n",
    "        num_boost_round=500, \n",
    "        evals=[(d_train, 'train'), (d_valid, 'valid')], \n",
    "        early_stopping_rounds=10,\n",
    "        verbose_eval=False\n",
    "    )\n",
    "    \n",
    "    acc = sklearn.metrics.accuracy_score(np.squeeze(y_val.values),np.where(model.predict(d_valid)>=0.5, 1, 0))\n",
    "    if acc > max_acc:\n",
    "        max_acc = deepcopy(acc)\n",
    "        best_param = deepcopy(param)\n",
    "        xgb = deepcopy(model)\n",
    "print('val_acc:', round(max_acc*100,2),'%')\n",
    "best_param\n",
    "xgb\n",
    "evaluator(xgb, x_test, le, isXGB=True, ward=ward, pca=pca)"
   ]
  },
  {
   "cell_type": "code",
   "execution_count": 342,
   "metadata": {},
   "outputs": [
    {
     "data": {
      "text/plain": [
       "<matplotlib.axes._subplots.AxesSubplot at 0x7fd5c4d18f60>"
      ]
     },
     "execution_count": 342,
     "metadata": {},
     "output_type": "execute_result"
    },
    {
     "data": {
      "image/png": "[encoded data removed]",
      "text/plain": [
       "<matplotlib.figure.Figure at 0x7fd5c4d10978>"
      ]
     },
     "metadata": {},
     "output_type": "display_data"
    }
   ],
   "source": [
    "xgboost.plot_importance(xgb, height=0.3)"
   ]
  },
  {
   "cell_type": "markdown",
   "metadata": {},
   "source": [
    "# KNeighbors"
   ]
  },
  {
   "cell_type": "code",
   "execution_count": 555,
   "metadata": {},
   "outputs": [
    {
     "data": {
      "application/vnd.jupyter.widget-view+json": {
       "model_id": "8518f60322a74dc8b425209fa80ec25b",
       "version_major": 2,
       "version_minor": 0
      },
      "text/html": [
       "<p>Failed to display Jupyter Widget of type <code>HBox</code>.</p>\n",
       "<p>\n",
       "  If you're reading this message in the Jupyter Notebook or JupyterLab Notebook, it may mean\n",
       "  that the widgets JavaScript is still loading. If this message persists, it\n",
       "  likely means that the widgets JavaScript library is either not installed or\n",
       "  not enabled. See the <a href=\"https://ipywidgets.readthedocs.io/en/stable/user_install.html\">Jupyter\n",
       "  Widgets Documentation</a> for setup instructions.\n",
       "</p>\n",
       "<p>\n",
       "  If you're reading this message in another frontend (for example, a static\n",
       "  rendering on GitHub or <a href=\"https://nbviewer.jupyter.org/\">NBViewer</a>),\n",
       "  it may mean that your frontend doesn't currently support widgets.\n",
       "</p>\n"
      ],
      "text/plain": [
       "HBox(children=(IntProgress(value=0, max=5), HTML(value='')))"
      ]
     },
     "metadata": {},
     "output_type": "display_data"
    },
    {
     "name": "stdout",
     "output_type": "stream",
     "text": [
      "\n",
      "val_acc: 57.24 %\n"
     ]
    },
    {
     "data": {
      "text/plain": [
       "{'algorithm': 'ball_tree',\n",
       " 'n_jobs': -1,\n",
       " 'n_neighbors': 9,\n",
       " 'weights': 'uniform'}"
      ]
     },
     "execution_count": 555,
     "metadata": {},
     "output_type": "execute_result"
    }
   ],
   "source": [
    "grids = sklearn.grid_search.ParameterGrid({\n",
    "    'algorithm': ['ball_tree'],\n",
    "    'weights': ['uniform'],\n",
    "    'n_neighbors': [3,5,7,9,13],\n",
    "#     'leaf_size': [20, 30, 40],\n",
    "#     'p': [1, 2],\n",
    "    'n_jobs':[-1]\n",
    "})\n",
    "\n",
    "max_acc = -1\n",
    "best_param = {}\n",
    "knn = None\n",
    "for param in tqdm_notebook(grids):\n",
    "    model = sklearn.neighbors.KNeighborsClassifier(**param)\n",
    "    _=model.fit(sel_x_train, np.squeeze(y_train.values))\n",
    "    acc = sklearn.metrics.accuracy_score(np.squeeze(y_val.values), model.predict(sel_x_val))\n",
    "    if acc > max_acc:\n",
    "        max_acc = deepcopy(acc)\n",
    "        best_param = deepcopy(param)\n",
    "        knn = deepcopy(model)\n",
    "print('val_acc:', round(max_acc*100,2),'%')\n",
    "best_param"
   ]
  },
  {
   "cell_type": "code",
   "execution_count": 557,
   "metadata": {},
   "outputs": [
    {
     "data": {
      "text/plain": [
       "KNeighborsClassifier(algorithm='ball_tree', leaf_size=30, metric='minkowski',\n",
       "           metric_params=None, n_jobs=-1, n_neighbors=9, p=2,\n",
       "           weights='uniform')"
      ]
     },
     "execution_count": 557,
     "metadata": {},
     "output_type": "execute_result"
    },
    {
     "name": "stdout",
     "output_type": "stream",
     "text": [
      "BANPU \tacc: 0.62\n",
      "IRPC \tacc: 0.55\n",
      "PTT \tacc: 0.50\n",
      "BBL \tacc: 0.61\n",
      "KBANK \tacc: 0.56\n",
      "SCB \tacc: 0.57\n",
      "AOT \tacc: 0.65\n",
      "THAI \tacc: 0.56\n",
      "CPF \tacc: 0.53\n",
      "MINT \tacc: 0.51\n",
      "TU \tacc: 0.65\n",
      "SCC \tacc: 0.49\n",
      "CPN \tacc: 0.52\n",
      "CK \tacc: 0.57\n",
      "CPALL \tacc: 0.54\n",
      "HMPRO \tacc: 0.50\n",
      "BDMS \tacc: 0.59\n",
      "BH \tacc: 0.55\n",
      "ADVANC \tacc: 0.58\n",
      "JAS \tacc: 0.50\n",
      "TRUE \tacc: 0.56\n",
      "mean Accuracy: 0.5581\n"
     ]
    }
   ],
   "source": [
    "knn\n",
    "evaluator(knn, x_test, le, ward=None, pca=pca)"
   ]
  },
  {
   "cell_type": "markdown",
   "metadata": {},
   "source": [
    "# Multivariate Bernoulli"
   ]
  },
  {
   "cell_type": "code",
   "execution_count": 277,
   "metadata": {},
   "outputs": [
    {
     "data": {
      "application/vnd.jupyter.widget-view+json": {
       "model_id": "d12a85786b8847ecad23d099e3b8aeb0",
       "version_major": 2,
       "version_minor": 0
      },
      "text/html": [
       "<p>Failed to display Jupyter Widget of type <code>HBox</code>.</p>\n",
       "<p>\n",
       "  If you're reading this message in the Jupyter Notebook or JupyterLab Notebook, it may mean\n",
       "  that the widgets JavaScript is still loading. If this message persists, it\n",
       "  likely means that the widgets JavaScript library is either not installed or\n",
       "  not enabled. See the <a href=\"https://ipywidgets.readthedocs.io/en/stable/user_install.html\">Jupyter\n",
       "  Widgets Documentation</a> for setup instructions.\n",
       "</p>\n",
       "<p>\n",
       "  If you're reading this message in another frontend (for example, a static\n",
       "  rendering on GitHub or <a href=\"https://nbviewer.jupyter.org/\">NBViewer</a>),\n",
       "  it may mean that your frontend doesn't currently support widgets.\n",
       "</p>\n"
      ],
      "text/plain": [
       "HBox(children=(IntProgress(value=0, max=1), HTML(value='')))"
      ]
     },
     "metadata": {},
     "output_type": "display_data"
    },
    {
     "name": "stdout",
     "output_type": "stream",
     "text": [
      "\n",
      "val_acc: 58.98 %\n"
     ]
    },
    {
     "data": {
      "text/plain": [
       "{'alpha': 1.0}"
      ]
     },
     "execution_count": 277,
     "metadata": {},
     "output_type": "execute_result"
    },
    {
     "data": {
      "text/plain": [
       "BernoulliNB(alpha=1.0, binarize=0.0, class_prior=None, fit_prior=True)"
      ]
     },
     "execution_count": 277,
     "metadata": {},
     "output_type": "execute_result"
    },
    {
     "name": "stdout",
     "output_type": "stream",
     "text": [
      "BANPU \tacc: 0.58\n",
      "IRPC \tacc: 0.69\n",
      "PTT \tacc: 0.53\n",
      "BBL \tacc: 0.67\n",
      "KBANK \tacc: 0.58\n",
      "SCB \tacc: 0.61\n",
      "AOT \tacc: 0.72\n",
      "THAI \tacc: 0.52\n",
      "CPF \tacc: 0.59\n",
      "MINT \tacc: 0.61\n",
      "TU \tacc: 0.57\n",
      "SCC \tacc: 0.50\n",
      "CPN \tacc: 0.56\n",
      "CK \tacc: 0.60\n",
      "CPALL \tacc: 0.68\n",
      "HMPRO \tacc: 0.66\n",
      "BDMS \tacc: 0.62\n",
      "BH \tacc: 0.67\n",
      "ADVANC \tacc: 0.56\n",
      "JAS \tacc: 0.52\n",
      "TRUE \tacc: 0.55\n",
      "mean Accuracy: 0.6006\n"
     ]
    }
   ],
   "source": [
    "grids = sklearn.grid_search.ParameterGrid({\n",
    "    'alpha': [1.0]\n",
    "})\n",
    "\n",
    "max_acc = -1\n",
    "best_param = {}\n",
    "bay = None\n",
    "for param in tqdm_notebook(grids):\n",
    "    model = sklearn.naive_bayes.BernoulliNB(**param)\n",
    "    _=model.fit(sel_x_train, np.squeeze(y_train.values))\n",
    "    acc = sklearn.metrics.accuracy_score(np.squeeze(y_val.values), model.predict(sel_x_val))\n",
    "    if acc > max_acc:\n",
    "        max_acc = deepcopy(acc)\n",
    "        best_param = deepcopy(param)\n",
    "        bay = deepcopy(model)\n",
    "print('val_acc:', round(max_acc*100,2),'%')\n",
    "best_param\n",
    "bay\n",
    "evaluator(bay, x_test, le, ward=ward, pca=pca)"
   ]
  },
  {
   "cell_type": "markdown",
   "metadata": {},
   "source": [
    "# Stacking Ensemble"
   ]
  },
  {
   "cell_type": "code",
   "execution_count": 488,
   "metadata": {},
   "outputs": [
    {
     "data": {
      "text/plain": [
       "(2577, 22)"
      ]
     },
     "execution_count": 488,
     "metadata": {},
     "output_type": "execute_result"
    }
   ],
   "source": [
    "stack = np.concatenate((\n",
    "    dt.predict(sel_x_val).reshape(-1,1),\n",
    "    rf.predict(sel_x_val).reshape(-1,1),\n",
    "#     ada.predict(sel_x_val).reshape(-1,1),\n",
    "#     gb.predict(sel_x_val).reshape(-1,1),\n",
    "    xgb.predict(d_valid).reshape(-1,1),\n",
    "    knn.predict(sel_x_val).reshape(-1,1),\n",
    "    bay.predict(sel_x_val).reshape(-1,1),\n",
    "    sel_x_val\n",
    "), axis=1)\n",
    "\n",
    "stack.shape"
   ]
  },
  {
   "cell_type": "code",
   "execution_count": 489,
   "metadata": {},
   "outputs": [
    {
     "name": "stdout",
     "output_type": "stream",
     "text": [
      "acc: 1 59.18\n",
      "acc: 2 59.18\n",
      "acc: 3 59.37\n",
      "acc: 4 59.37\n",
      "acc: 5 59.88\n",
      "acc: 6 59.88\n",
      "acc: 7 59.6\n",
      "acc: 8 59.57\n",
      "acc: 9 59.57\n",
      "acc: 10 59.95\n",
      "acc: 11 59.99\n",
      "acc: 12 60.15\n",
      "acc: 13 60.15\n",
      "acc: 14 60.15\n",
      "acc: 15 60.15\n",
      "acc: 16 60.19\n",
      "acc: 17 60.15\n",
      "acc: 18 60.15\n",
      "acc: 19 60.19\n",
      "acc: 20 60.15\n",
      "acc: 21 60.19\n",
      "acc: 22 60.19\n"
     ]
    }
   ],
   "source": [
    "for k in range(stack.shape[1]):\n",
    "    sel_stack = sklearn.decomposition.PCA(k+1, random_state=100)\n",
    "    sel_x_stack = sel_stack.fit_transform(stack)\n",
    "\n",
    "    params = {\n",
    "        'random_state': 100,\n",
    "    }\n",
    "\n",
    "    gb_stack = sklearn.linear_model.LogisticRegression(**params)\n",
    "    _=gb_stack.fit(sel_x_stack, np.squeeze(y_val.values))\n",
    "\n",
    "    print('acc:', k+1, round(sklearn.metrics.accuracy_score(np.squeeze(y_val.values), gb_stack.predict(sel_x_stack))*100,2))"
   ]
  },
  {
   "cell_type": "code",
   "execution_count": 490,
   "metadata": {},
   "outputs": [],
   "source": [
    "sel_stack = sklearn.decomposition.PCA(10, random_state=100)\n",
    "sel_x_stack = sel_stack.fit_transform(stack)"
   ]
  },
  {
   "cell_type": "code",
   "execution_count": 492,
   "metadata": {},
   "outputs": [
    {
     "data": {
      "text/plain": [
       "GridSearchCV(cv=None, error_score='raise',\n",
       "       estimator=GradientBoostingClassifier(criterion='friedman_mse', init=None,\n",
       "              learning_rate=0.1, loss='deviance', max_depth=3,\n",
       "              max_features=None, max_leaf_nodes=None,\n",
       "              min_impurity_decrease=0.0, min_impurity_split=None,\n",
       "              min_samples_leaf=1, min_samples_split=2,\n",
       "              min_weight_fraction_leaf=0.0, n_estimators=100,\n",
       "              presort='auto', random_state=None, subsample=1.0, verbose=0,\n",
       "              warm_start=False),\n",
       "       fit_params=None, iid=True, n_jobs=-1,\n",
       "       param_grid={'n_estimators': [10, 20, 30, 40, 50], 'criterion': ['friedman_mse']},\n",
       "       pre_dispatch='2*n_jobs', refit=True, return_train_score='warn',\n",
       "       scoring=None, verbose=0)"
      ]
     },
     "execution_count": 492,
     "metadata": {},
     "output_type": "execute_result"
    },
    {
     "data": {
      "text/plain": [
       "0.5785797438882422"
      ]
     },
     "execution_count": 492,
     "metadata": {},
     "output_type": "execute_result"
    },
    {
     "data": {
      "text/plain": [
       "{'criterion': 'friedman_mse', 'n_estimators': 10}"
      ]
     },
     "execution_count": 492,
     "metadata": {},
     "output_type": "execute_result"
    }
   ],
   "source": [
    "params = {\n",
    "    'criterion':['friedman_mse'],\n",
    "    'n_estimators':[10,20,30,40,50],\n",
    "#     'learning_rate':[0.1],\n",
    "#     'max_depth':[10,15,20,25],\n",
    "#     'random_state': [100],\n",
    "#     'presort':[True, False]\n",
    "}\n",
    "\n",
    "grid = sklearn.model_selection.GridSearchCV(\n",
    "    ensemble.GradientBoostingClassifier(),\n",
    "    params,\n",
    "    n_jobs=-1\n",
    ")\n",
    "grid.fit(sel_x_stack, np.squeeze(y_val.values))\n",
    "grid.best_score_\n",
    "grid.best_params_"
   ]
  },
  {
   "cell_type": "code",
   "execution_count": 493,
   "metadata": {},
   "outputs": [
    {
     "data": {
      "text/plain": [
       "GradientBoostingRegressor(alpha=0.9, criterion='friedman_mse', init=None,\n",
       "             learning_rate=0.1, loss='ls', max_depth=3, max_features=None,\n",
       "             max_leaf_nodes=None, min_impurity_decrease=0.0,\n",
       "             min_impurity_split=None, min_samples_leaf=1,\n",
       "             min_samples_split=2, min_weight_fraction_leaf=0.0,\n",
       "             n_estimators=10, presort='auto', random_state=None,\n",
       "             subsample=1.0, verbose=0, warm_start=False)"
      ]
     },
     "execution_count": 493,
     "metadata": {},
     "output_type": "execute_result"
    }
   ],
   "source": [
    "gb_stack = ensemble.GradientBoostingRegressor(**grid.best_params_)\n",
    "gb_stack.fit(sel_x_stack, np.squeeze(y_val.values))"
   ]
  },
  {
   "cell_type": "code",
   "execution_count": 497,
   "metadata": {},
   "outputs": [
    {
     "name": "stdout",
     "output_type": "stream",
     "text": [
      "0.2291 dt\n",
      "0.0819 rf\n",
      "0.1997 xgb\n",
      "0.1394 knn\n",
      "0.1948 bay\n"
     ]
    }
   ],
   "source": [
    "models = [\n",
    "    'dt',\n",
    "    'rf',\n",
    "#     'ada',\n",
    "#     'gb',\n",
    "    'xgb',\n",
    "    'knn',\n",
    "    'bay'\n",
    "]\n",
    "for model, weight in zip(models, gb_stack.feature_importances_):\n",
    "    print(round(weight,4), model)"
   ]
  },
  {
   "cell_type": "code",
   "execution_count": 496,
   "metadata": {},
   "outputs": [
    {
     "name": "stdout",
     "output_type": "stream",
     "text": [
      "BANPU \tacc: 0.42\n",
      "IRPC \tacc: 0.31\n",
      "PTT \tacc: 0.56\n",
      "BBL \tacc: 0.68\n",
      "KBANK \tacc: 0.61\n",
      "SCB \tacc: 0.61\n",
      "AOT \tacc: 0.28\n",
      "THAI \tacc: 0.48\n",
      "CPF \tacc: 0.41\n",
      "MINT \tacc: 0.39\n",
      "TU \tacc: 0.43\n",
      "SCC \tacc: 0.52\n",
      "CPN \tacc: 0.44\n",
      "CK \tacc: 0.40\n",
      "CPALL \tacc: 0.31\n",
      "HMPRO \tacc: 0.34\n",
      "BDMS \tacc: 0.38\n",
      "BH \tacc: 0.70\n",
      "ADVANC \tacc: 0.58\n",
      "JAS \tacc: 0.48\n",
      "TRUE \tacc: 0.45\n",
      "mean Accuracy: 0.4658\n"
     ]
    }
   ],
   "source": [
    "    \n",
    "ensemble_evaluator(\n",
    "    x_test,\n",
    "    ward=ward,\n",
    "    pca=pca\n",
    ")"
   ]
  },
  {
   "cell_type": "code",
   "execution_count": 495,
   "metadata": {},
   "outputs": [],
   "source": [
    "def evaluator(clf, df_test, le, isXGB=False, isLSTM=False, ward=None, pca=None):\n",
    "    ACCs = []\n",
    "    for stock in target_stocks:\n",
    "        x_tmp = df_test.loc[df_test['Ticker'] == le.transform([stock])[0]].copy()\n",
    "        \n",
    "        y_tmp = x_tmp[Horizon].values\n",
    "        x_tmp = x_tmp.drop([Horizon], axis=1)\n",
    "        \n",
    "        if ward is not None and pca is not None:\n",
    "            sel_x_tmp = np.concatenate((ward.transform(x_tmp.values), pca.transform(x_tmp.values)), axis=1)\n",
    "        elif ward is not None:\n",
    "            sel_x_tmp = ward.transform(x_tmp.values)\n",
    "        elif pca is not None:\n",
    "            sel_x_tmp = pca.transform(x_tmp.values)\n",
    "        else:\n",
    "            sel_x_tmp = deepcopy(x_tmp.values)\n",
    "    \n",
    "        if isXGB: \n",
    "            y_pred = clf.predict(xgboost.DMatrix(sel_x_tmp))\n",
    "            y_pred = np.where(y_pred>=0.5, 1, 0)\n",
    "        else: y_pred = clf.predict(sel_x_tmp)\n",
    "        \n",
    "        acc = sklearn.metrics.accuracy_score(y_tmp, y_pred)\n",
    "        print(stock, \"\\tacc: %.2f\" % (acc))\n",
    "        ACCs.append(acc)\n",
    "    \n",
    "    print('mean Accuracy:', round(np.mean(ACCs),4))\n",
    "    \n",
    "def ensemble_evaluator(df_test, ward=None, pca=None):\n",
    "    ACCs = []\n",
    "    for stock in target_stocks:\n",
    "        x_tmp = df_test.loc[df_test['Ticker'] == le.transform([stock])[0]].copy()\n",
    "        \n",
    "        y_tmp = x_tmp[Horizon].values\n",
    "        x_tmp = x_tmp.drop([Horizon], axis=1)\n",
    "        \n",
    "        \n",
    "        if ward is not None and pca is not None:\n",
    "            sel_x_tmp = np.concatenate((ward.transform(x_tmp.values), pca.transform(x_tmp.values)), axis=1)\n",
    "        elif ward is not None:\n",
    "            sel_x_tmp = ward.transform(x_tmp.values)\n",
    "        elif pca is not None:\n",
    "            sel_x_tmp = pca.transform(x_tmp.values)\n",
    "        else:\n",
    "            sel_x_tmp = deepcopy(x_tmp.values)\n",
    "        \n",
    "#         y_pred = (y_dt+y_rf+y_ada+y_gb+y_xgb+y_knn+y_bay)/7\n",
    "\n",
    "        y_stack = np.concatenate((\n",
    "            dt.predict(sel_x_tmp).reshape(-1,1),\n",
    "            rf.predict(sel_x_tmp).reshape(-1,1),\n",
    "#             ada.predict(sel_x_tmp).reshape(-1,1),\n",
    "#             gb.predict(sel_x_tmp).reshape(-1,1),\n",
    "            xgb.predict(xgboost.DMatrix(sel_x_tmp)).reshape(-1,1),\n",
    "            knn.predict(sel_x_tmp).reshape(-1,1),\n",
    "            bay.predict(sel_x_tmp).reshape(-1,1),\n",
    "            sel_x_tmp\n",
    "        ), axis=1)\n",
    "\n",
    "        sel_y_stack = sel_stack.transform(y_stack)\n",
    "        y_pred = np.zeros((sel_y_stack.shape[0],1))\n",
    "        for i in range(sel_y_stack.shape[1]):\n",
    "            y_pred += sel_y_stack[:,i].reshape(-1,1)*gb_stack.feature_importances_[i]\n",
    "        y_pred = np.squeeze(y_pred)\n",
    "        y_pred = np.where(y_pred>=0.5, 1, 0)\n",
    "\n",
    "        acc = sklearn.metrics.accuracy_score(y_tmp, y_pred)\n",
    "        print(stock, \"\\tacc: %.2f\" % (acc))\n",
    "        ACCs.append(acc)\n",
    "    \n",
    "    print('mean Accuracy:', round(np.mean(ACCs),4))"
   ]
  },
  {
   "cell_type": "code",
   "execution_count": null,
   "metadata": {},
   "outputs": [],
   "source": []
  }
 ],
 "metadata": {
  "kernelspec": {
   "display_name": "Python 3",
   "language": "python",
   "name": "python3"
  },
  "language_info": {
   "codemirror_mode": {
    "name": "ipython",
    "version": 3
   },
   "file_extension": ".py",
   "mimetype": "text/x-python",
   "name": "python",
   "nbconvert_exporter": "python",
   "pygments_lexer": "ipython3",
   "version": "3.5.2"
  }
 },
 "nbformat": 4,
 "nbformat_minor": 2
}
