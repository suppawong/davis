{
 "cells": [
  {
   "cell_type": "markdown",
   "metadata": {},
   "source": [
    "# Regression with news (all) with price"
   ]
  },
  {
   "cell_type": "code",
   "execution_count": 2,
   "metadata": {},
   "outputs": [
    {
     "data": {
      "text/html": [
       "<style>.container { width:100% !important; }</style>"
      ],
      "text/plain": [
       "<IPython.core.display.HTML object>"
      ]
     },
     "metadata": {},
     "output_type": "display_data"
    },
    {
     "data": {
      "text/html": [
       "<script>requirejs.config({paths: { 'plotly': ['https://cdn.plot.ly/plotly-latest.min']},});if(!window.Plotly) {{require(['plotly'],function(plotly) {window.Plotly=plotly;});}}</script>"
      ],
      "text/vnd.plotly.v1+html": [
       "<script>requirejs.config({paths: { 'plotly': ['https://cdn.plot.ly/plotly-latest.min']},});if(!window.Plotly) {{require(['plotly'],function(plotly) {window.Plotly=plotly;});}}</script>"
      ]
     },
     "metadata": {},
     "output_type": "display_data"
    }
   ],
   "source": [
    "from IPython.core.display import display, HTML\n",
    "display(HTML(\"<style>.container { width:100% !important; }</style>\"))\n",
    "\n",
    "from IPython.core.interactiveshell import InteractiveShell\n",
    "InteractiveShell.ast_node_interactivity = \"all\"\n",
    "\n",
    "from plotly.offline import download_plotlyjs, init_notebook_mode, plot, iplot\n",
    "init_notebook_mode(connected=True)"
   ]
  },
  {
   "cell_type": "code",
   "execution_count": 23,
   "metadata": {},
   "outputs": [],
   "source": [
    "import numpy as np\n",
    "import pandas as pd\n",
    "import os\n",
    "import copy\n",
    "import sklearn\n",
    "import xgboost\n",
    "import plotly.graph_objs as go\n",
    "import matplotlib.pyplot as plt\n",
    "\n",
    "from pythainlp.corpus import stopwords\n",
    "from datetime import datetime, timedelta\n",
    "from tqdm import tqdm_notebook\n",
    "from sklearn import tree, ensemble, svm, grid_search\n",
    "from copy import deepcopy\n",
    "\n",
    "% matplotlib inline\n",
    "\n",
    "target_stocks = ['BANPU','IRPC','PTT','BBL','KBANK','SCB','AOT','THAI','CPF','MINT',\n",
    "                 'TU','SCC','CPN','CK','CPALL','HMPRO','BDMS','BH','ADVANC','JAS','TRUE']"
   ]
  },
  {
   "cell_type": "code",
   "execution_count": 5,
   "metadata": {},
   "outputs": [
    {
     "data": {
      "text/html": [
       "<div>\n",
       "<style scoped>\n",
       "    .dataframe tbody tr th:only-of-type {\n",
       "        vertical-align: middle;\n",
       "    }\n",
       "\n",
       "    .dataframe tbody tr th {\n",
       "        vertical-align: top;\n",
       "    }\n",
       "\n",
       "    .dataframe thead th {\n",
       "        text-align: right;\n",
       "    }\n",
       "</style>\n",
       "<table border=\"1\" class=\"dataframe\">\n",
       "  <thead>\n",
       "    <tr style=\"text-align: right;\">\n",
       "      <th></th>\n",
       "      <th>Ticker</th>\n",
       "      <th>Open</th>\n",
       "      <th>High</th>\n",
       "      <th>Low</th>\n",
       "      <th>Close</th>\n",
       "      <th>Volume</th>\n",
       "    </tr>\n",
       "    <tr>\n",
       "      <th>Date</th>\n",
       "      <th></th>\n",
       "      <th></th>\n",
       "      <th></th>\n",
       "      <th></th>\n",
       "      <th></th>\n",
       "      <th></th>\n",
       "    </tr>\n",
       "  </thead>\n",
       "  <tbody>\n",
       "    <tr>\n",
       "      <th>2018-02-16</th>\n",
       "      <td>TU</td>\n",
       "      <td>20.0</td>\n",
       "      <td>20.5</td>\n",
       "      <td>20.0</td>\n",
       "      <td>20.1</td>\n",
       "      <td>7299300</td>\n",
       "    </tr>\n",
       "  </tbody>\n",
       "</table>\n",
       "</div>"
      ],
      "text/plain": [
       "           Ticker  Open  High   Low  Close   Volume\n",
       "Date                                               \n",
       "2018-02-16     TU  20.0  20.5  20.0   20.1  7299300"
      ]
     },
     "execution_count": 5,
     "metadata": {},
     "output_type": "execute_result"
    },
    {
     "data": {
      "text/plain": [
       "26331"
      ]
     },
     "execution_count": 5,
     "metadata": {},
     "output_type": "execute_result"
    },
    {
     "data": {
      "text/html": [
       "<div>\n",
       "<style scoped>\n",
       "    .dataframe tbody tr th:only-of-type {\n",
       "        vertical-align: middle;\n",
       "    }\n",
       "\n",
       "    .dataframe tbody tr th {\n",
       "        vertical-align: top;\n",
       "    }\n",
       "\n",
       "    .dataframe thead th {\n",
       "        text-align: right;\n",
       "    }\n",
       "</style>\n",
       "<table border=\"1\" class=\"dataframe\">\n",
       "  <thead>\n",
       "    <tr style=\"text-align: right;\">\n",
       "      <th></th>\n",
       "      <th>Ticker</th>\n",
       "      <th>Text</th>\n",
       "    </tr>\n",
       "  </thead>\n",
       "  <tbody>\n",
       "    <tr>\n",
       "      <th>2018-02-08</th>\n",
       "      <td>PTT</td>\n",
       "      <td>ผู้สื่อข่าว รายงาน ว่า ดัชนี ปิด ตลาด วันนี้ ท...</td>\n",
       "    </tr>\n",
       "  </tbody>\n",
       "</table>\n",
       "</div>"
      ],
      "text/plain": [
       "           Ticker                                               Text\n",
       "2018-02-08    PTT  ผู้สื่อข่าว รายงาน ว่า ดัชนี ปิด ตลาด วันนี้ ท..."
      ]
     },
     "execution_count": 5,
     "metadata": {},
     "output_type": "execute_result"
    },
    {
     "data": {
      "text/plain": [
       "118355"
      ]
     },
     "execution_count": 5,
     "metadata": {},
     "output_type": "execute_result"
    },
    {
     "data": {
      "text/html": [
       "<div>\n",
       "<style scoped>\n",
       "    .dataframe tbody tr th:only-of-type {\n",
       "        vertical-align: middle;\n",
       "    }\n",
       "\n",
       "    .dataframe tbody tr th {\n",
       "        vertical-align: top;\n",
       "    }\n",
       "\n",
       "    .dataframe thead th {\n",
       "        text-align: right;\n",
       "    }\n",
       "</style>\n",
       "<table border=\"1\" class=\"dataframe\">\n",
       "  <thead>\n",
       "    <tr style=\"text-align: right;\">\n",
       "      <th></th>\n",
       "      <th>Ticker</th>\n",
       "      <th>Text</th>\n",
       "    </tr>\n",
       "  </thead>\n",
       "  <tbody>\n",
       "    <tr>\n",
       "      <th>2018-02-08</th>\n",
       "      <td>IRPC</td>\n",
       "      <td>เปิด ตลาด ภาค เช้า พฤหัสฯ กพ วอ ลุ่ม ขาย มุ่ง ...</td>\n",
       "    </tr>\n",
       "  </tbody>\n",
       "</table>\n",
       "</div>"
      ],
      "text/plain": [
       "           Ticker                                               Text\n",
       "2018-02-08   IRPC  เปิด ตลาด ภาค เช้า พฤหัสฯ กพ วอ ลุ่ม ขาย มุ่ง ..."
      ]
     },
     "execution_count": 5,
     "metadata": {},
     "output_type": "execute_result"
    },
    {
     "data": {
      "text/plain": [
       "5084"
      ]
     },
     "execution_count": 5,
     "metadata": {},
     "output_type": "execute_result"
    },
    {
     "data": {
      "text/plain": [
       "('Total:', 123439)"
      ]
     },
     "execution_count": 5,
     "metadata": {},
     "output_type": "execute_result"
    }
   ],
   "source": [
    "df_price = pd.read_csv('merged_2013_2018.csv')\n",
    "df_price['Date'] = pd.to_datetime(df_price['Date'], format='%Y-%m-%d')\n",
    "df_price = df_price.loc[df_price['Ticker'].isin(target_stocks)]\n",
    "df_price['Date'] = df_price['Date'].dt.date\n",
    "df_price = df_price.set_index('Date')\n",
    "df_price.tail(1)\n",
    "len(df_price)\n",
    "\n",
    "df_kaohoon = pd.read_csv('data/kaohoon_all.csv')\n",
    "df_kaohoon['Date'] = pd.to_datetime(df_kaohoon['Date'], format='%Y-%m-%d')\n",
    "df_kaohoon = df_kaohoon.set_index('Date')\n",
    "df_kaohoon = df_kaohoon[:'2018-2-8']\n",
    "df_kaohoon.index = df_kaohoon.index.date\n",
    "df_kaohoon.tail(1)\n",
    "len(df_kaohoon)\n",
    "\n",
    "df_moneych = pd.read_csv('data/moneychanel_all.csv')\n",
    "df_moneych['Date'] = pd.to_datetime(df_moneych['Date'], format='%Y-%m-%d')\n",
    "df_moneych = df_moneych.set_index('Date')\n",
    "df_moneych = df_moneych[:'2018-2-8']\n",
    "df_moneych.index = df_moneych.index.date\n",
    "df_moneych.tail(1)\n",
    "len(df_moneych)\n",
    "\n",
    "df_news = pd.concat([df_moneych, df_kaohoon])\n",
    "'Total:', len(df_news.index)"
   ]
  },
  {
   "cell_type": "markdown",
   "metadata": {},
   "source": [
    "# Lag & Horizon Construction"
   ]
  },
  {
   "cell_type": "code",
   "execution_count": null,
   "metadata": {
    "collapsed": true
   },
   "outputs": [
    {
     "data": {
      "application/vnd.jupyter.widget-view+json": {
       "model_id": "0278fbc66c6c408fbb3dc8d19160805d",
       "version_major": 2,
       "version_minor": 0
      },
      "text/html": [
       "<p>Failed to display Jupyter Widget of type <code>HBox</code>.</p>\n",
       "<p>\n",
       "  If you're reading this message in the Jupyter Notebook or JupyterLab Notebook, it may mean\n",
       "  that the widgets JavaScript is still loading. If this message persists, it\n",
       "  likely means that the widgets JavaScript library is either not installed or\n",
       "  not enabled. See the <a href=\"https://ipywidgets.readthedocs.io/en/stable/user_install.html\">Jupyter\n",
       "  Widgets Documentation</a> for setup instructions.\n",
       "</p>\n",
       "<p>\n",
       "  If you're reading this message in another frontend (for example, a static\n",
       "  rendering on GitHub or <a href=\"https://nbviewer.jupyter.org/\">NBViewer</a>),\n",
       "  it may mean that your frontend doesn't currently support widgets.\n",
       "</p>\n"
      ],
      "text/plain": [
       "HBox(children=(IntProgress(value=0, max=21), HTML(value='')))"
      ]
     },
     "metadata": {},
     "output_type": "display_data"
    },
    {
     "data": {
      "application/vnd.jupyter.widget-view+json": {
       "model_id": "f2a6bbf266fa4eb7b5471d01b562bb94",
       "version_major": 2,
       "version_minor": 0
      },
      "text/html": [
       "<p>Failed to display Jupyter Widget of type <code>HBox</code>.</p>\n",
       "<p>\n",
       "  If you're reading this message in the Jupyter Notebook or JupyterLab Notebook, it may mean\n",
       "  that the widgets JavaScript is still loading. If this message persists, it\n",
       "  likely means that the widgets JavaScript library is either not installed or\n",
       "  not enabled. See the <a href=\"https://ipywidgets.readthedocs.io/en/stable/user_install.html\">Jupyter\n",
       "  Widgets Documentation</a> for setup instructions.\n",
       "</p>\n",
       "<p>\n",
       "  If you're reading this message in another frontend (for example, a static\n",
       "  rendering on GitHub or <a href=\"https://nbviewer.jupyter.org/\">NBViewer</a>),\n",
       "  it may mean that your frontend doesn't currently support widgets.\n",
       "</p>\n"
      ],
      "text/plain": [
       "HBox(children=(IntProgress(value=0, max=5631), HTML(value='')))"
      ]
     },
     "metadata": {},
     "output_type": "display_data"
    }
   ],
   "source": [
    "N_lags = 3\n",
    "N_horizon = 1\n",
    "\n",
    "df_train = []\n",
    "df_test = []\n",
    "df_val = []\n",
    "for stock in tqdm_notebook(target_stocks):\n",
    "    news_stocks = []\n",
    "    df_stock = df_news.loc[df_news['Ticker'] == stock]\n",
    "    prev_date = None\n",
    "    prev_text = None\n",
    "    \n",
    "    pbar = tqdm_notebook(total=len(df_stock))\n",
    "    for date, row in df_stock.iterrows():\n",
    "        if prev_date == None:\n",
    "            prev_date = date\n",
    "            prev_text = row['Text']\n",
    "        elif prev_date != date:\n",
    "            # horizon\n",
    "            tmp_date = copy.deepcopy(prev_date)\n",
    "            tmp_date += timedelta(days=1)\n",
    "            prices = []\n",
    "            count_lags = 0 \n",
    "            while count_lags < N_horizon:\n",
    "                price = df_price.loc[(df_price.index == tmp_date) & (df_price['Ticker'] == stock)].values\n",
    "                tmp_date += timedelta(days=1)\n",
    "                if len(price) == 0: continue\n",
    "                prices.append(price[0][4]) # Close price next day(s)\n",
    "                count_lags+=1\n",
    "            \n",
    "            # lag\n",
    "            tmp_date = copy.deepcopy(prev_date)\n",
    "            count_lags = 0 \n",
    "            while count_lags < N_lags:\n",
    "                price = df_price.loc[(df_price.index == tmp_date) & (df_price['Ticker'] == stock)].values\n",
    "                tmp_date -= timedelta(days=1)\n",
    "                if len(price) == 0: continue\n",
    "                for val in price[0][:-1]: \n",
    "                    if type(val) != str: prices.append(val)\n",
    "                count_lags+=1\n",
    "\n",
    "            news_stocks.append([prev_date, stock, prev_text] + prices)\n",
    "            \n",
    "            prev_date = date\n",
    "            prev_text = row['Text']\n",
    "        elif prev_date == date:\n",
    "            prev_text += ' '+row['Text']\n",
    "        \n",
    "        pbar.update(1)\n",
    "    pbar.close()\n",
    "\n",
    "    news_stocks = pd.DataFrame.from_records(news_stocks)\n",
    "    news_stocks.columns = ['Date', 'Ticker', 'Text', \n",
    "                           'Close(t+1)', # 'Close(t+2)','Close(t+3)','Close(t+4)','Close(t+5)',\n",
    "                           'Open(t)', 'High(t)', 'Low(t)', 'Close(t)',\n",
    "                           'Open(t-1)', 'High(t-1)', 'Low(t-1)', 'Close(t-1)',\n",
    "                           'Open(t-2)', 'High(t-2)', 'Low(t-2)', 'Close(t-2)',\n",
    "#                            'Open(t-3)', 'High(t-3)', 'Low(t-3)', 'Close(t-3)',\n",
    "#                            'Open(t-4)', 'High(t-4)', 'Low(t-4)', 'Close(t-4)',\n",
    "#                            'Open(t-5)', 'High(t-5)', 'Low(t-5)', 'Close(t-5)'\n",
    "                          ]\n",
    "    news_stocks = news_stocks.set_index('Date')\n",
    "    \n",
    "    train_size = int(len(news_stocks) * 0.80)\n",
    "    test_size = int(len(news_stocks) * 0.10)\n",
    "    \n",
    "    train = news_stocks.iloc[:train_size]\n",
    "    test = news_stocks.iloc[train_size: train_size + test_size]\n",
    "    val = news_stocks.iloc[train_size + test_size: ]\n",
    "\n",
    "    print(stock, ':\\t',len(train), len(test), len(val))    \n",
    "    df_train.append(train)\n",
    "    df_test.append(test)\n",
    "    df_val.append(val)\n",
    "\n",
    "\n",
    "df_train = pd.concat(df_train, axis=0)\n",
    "df_test = pd.concat(df_test, axis=0)\n",
    "df_val = pd.concat(df_val, axis=0)\n",
    "\n",
    "len(df_train), len(df_test), len(df_val) \n",
    "df_train.head(1)\n",
    "df_test.head(1)\n",
    "df_val.head(1)"
   ]
  },
  {
   "cell_type": "code",
   "execution_count": 29,
   "metadata": {},
   "outputs": [],
   "source": [
    "# df_train.to_csv('data/df_train_news.csv')\n",
    "# df_test.to_csv('data/df_test_news.csv')\n",
    "# df_val.to_csv('data/df_val_news.csv')"
   ]
  },
  {
   "cell_type": "code",
   "execution_count": 28,
   "metadata": {},
   "outputs": [],
   "source": [
    "df_train = pd.read_csv('data/df_train_news.csv')\n",
    "df_train['Date'] = pd.to_datetime(df_train['Date'], format='%Y-%m-%d')\n",
    "df_train = df_train.set_index('Date')\n",
    "\n",
    "df_test = pd.read_csv('data/df_test_news.csv')\n",
    "df_test['Date'] = pd.to_datetime(df_test['Date'], format='%Y-%m-%d')\n",
    "df_test = df_test.set_index('Date')\n",
    "\n",
    "df_val = pd.read_csv('data/df_val_news.csv')\n",
    "df_val['Date'] = pd.to_datetime(df_val['Date'], format='%Y-%m-%d')\n",
    "df_val = df_val.set_index('Date')"
   ]
  },
  {
   "cell_type": "code",
   "execution_count": null,
   "metadata": {},
   "outputs": [],
   "source": [
    "df_train = df_train[df_train['Ticker'] != 'BANPU']\n",
    "df_train = df_train[df_train['Ticker'] != 'IRPC']\n",
    "df_train = df_train[df_train['Ticker'] != 'BBL']\n",
    "df_train = df_train[df_train['Ticker'] != 'KBANK']\n",
    "df_train = df_train[df_train['Ticker'] != 'THAI']\n",
    "df_train = df_train[df_train['Ticker'] != 'MINT']\n",
    "df_train = df_train[df_train['Ticker'] != 'TU']\n",
    "df_train = df_train[df_train['Ticker'] != 'CPN']\n",
    "df_train = df_train[df_train['Ticker'] != 'CPF']\n",
    "df_train = df_train[df_train['Ticker'] != 'HMPRO']\n",
    "df_train = df_train[df_train['Ticker'] != 'JAS']\n",
    "df_train = df_train[df_train['Ticker'] != 'TRUE']"
   ]
  },
  {
   "cell_type": "code",
   "execution_count": null,
   "metadata": {},
   "outputs": [],
   "source": [
    "df_test = df_test[df_test['Ticker'] != 'BANPU']\n",
    "df_test = df_test[df_test['Ticker'] != 'IRPC']\n",
    "df_test = df_test[df_test['Ticker'] != 'BBL']\n",
    "df_test = df_test[df_test['Ticker'] != 'KBANK']\n",
    "df_test = df_test[df_test['Ticker'] != 'THAI']\n",
    "df_test = df_test[df_test['Ticker'] != 'MINT']\n",
    "df_test = df_test[df_test['Ticker'] != 'TU']\n",
    "df_test = df_test[df_test['Ticker'] != 'CPN']\n",
    "df_test = df_test[df_test['Ticker'] != 'CPF']\n",
    "df_test = df_test[df_test['Ticker'] != 'HMPRO']\n",
    "df_test = df_test[df_test['Ticker'] != 'JAS']\n",
    "df_test = df_test[df_test['Ticker'] != 'TRUE']"
   ]
  },
  {
   "cell_type": "code",
   "execution_count": null,
   "metadata": {},
   "outputs": [],
   "source": [
    "df_val = df_val[df_val['Ticker'] != 'BANPU']\n",
    "df_val = df_val[df_val['Ticker'] != 'IRPC']\n",
    "df_val = df_val[df_val['Ticker'] != 'BBL']\n",
    "df_val = df_val[df_val['Ticker'] != 'KBANK']\n",
    "df_val = df_val[df_val['Ticker'] != 'THAI']\n",
    "df_val = df_val[df_val['Ticker'] != 'MINT']\n",
    "df_val = df_val[df_val['Ticker'] != 'TU']\n",
    "df_val = df_val[df_val['Ticker'] != 'CPN']\n",
    "df_val = df_val[df_val['Ticker'] != 'CPF']\n",
    "df_val = df_val[df_val['Ticker'] != 'HMPRO']\n",
    "df_val = df_val[df_val['Ticker'] != 'JAS']\n",
    "df_val = df_val[df_val['Ticker'] != 'TRUE']\n",
    "\n",
    "target_stocks = ['PTT','SCB','AOT','SCC','CK','CPALL','BH','ADVANC']"
   ]
  },
  {
   "cell_type": "code",
   "execution_count": 8,
   "metadata": {},
   "outputs": [],
   "source": [
    "df_train = df_train[['Ticker', 'Text', 'Close(t+1)', 'Close(t)', 'Close(t-1)', 'Close(t-2)']]\n",
    "df_test = df_test[['Ticker', 'Text', 'Close(t+1)', 'Close(t)', 'Close(t-1)', 'Close(t-2)']]\n",
    "df_val = df_val[['Ticker', 'Text', 'Close(t+1)', 'Close(t)', 'Close(t-1)', 'Close(t-2)']]"
   ]
  },
  {
   "cell_type": "code",
   "execution_count": 4,
   "metadata": {},
   "outputs": [],
   "source": [
    "df_train.shape\n",
    "df_test.shape\n",
    "df_val.shape"
   ]
  },
  {
   "cell_type": "code",
   "execution_count": 90,
   "metadata": {},
   "outputs": [
    {
     "data": {
      "text/html": [
       "<div>\n",
       "<style scoped>\n",
       "    .dataframe tbody tr th:only-of-type {\n",
       "        vertical-align: middle;\n",
       "    }\n",
       "\n",
       "    .dataframe tbody tr th {\n",
       "        vertical-align: top;\n",
       "    }\n",
       "\n",
       "    .dataframe thead th {\n",
       "        text-align: right;\n",
       "    }\n",
       "</style>\n",
       "<table border=\"1\" class=\"dataframe\">\n",
       "  <thead>\n",
       "    <tr style=\"text-align: right;\">\n",
       "      <th></th>\n",
       "      <th>Ticker</th>\n",
       "      <th>Close(t+1)</th>\n",
       "      <th>Open(t)</th>\n",
       "      <th>High(t)</th>\n",
       "      <th>Low(t)</th>\n",
       "      <th>Close(t)</th>\n",
       "      <th>Open(t-1)</th>\n",
       "      <th>High(t-1)</th>\n",
       "      <th>Low(t-1)</th>\n",
       "      <th>Close(t-1)</th>\n",
       "      <th>Open(t-2)</th>\n",
       "      <th>High(t-2)</th>\n",
       "      <th>Low(t-2)</th>\n",
       "      <th>Close(t-2)</th>\n",
       "    </tr>\n",
       "    <tr>\n",
       "      <th>Date</th>\n",
       "      <th></th>\n",
       "      <th></th>\n",
       "      <th></th>\n",
       "      <th></th>\n",
       "      <th></th>\n",
       "      <th></th>\n",
       "      <th></th>\n",
       "      <th></th>\n",
       "      <th></th>\n",
       "      <th></th>\n",
       "      <th></th>\n",
       "      <th></th>\n",
       "      <th></th>\n",
       "      <th></th>\n",
       "    </tr>\n",
       "  </thead>\n",
       "  <tbody>\n",
       "    <tr>\n",
       "      <th>2015-02-03</th>\n",
       "      <td>2</td>\n",
       "      <td>26.25</td>\n",
       "      <td>24.4</td>\n",
       "      <td>25.5</td>\n",
       "      <td>24.4</td>\n",
       "      <td>25.5</td>\n",
       "      <td>24.2</td>\n",
       "      <td>24.3</td>\n",
       "      <td>24.1</td>\n",
       "      <td>24.3</td>\n",
       "      <td>24.1</td>\n",
       "      <td>24.4</td>\n",
       "      <td>24.0</td>\n",
       "      <td>24.3</td>\n",
       "    </tr>\n",
       "  </tbody>\n",
       "</table>\n",
       "</div>"
      ],
      "text/plain": [
       "            Ticker  Close(t+1)  Open(t)  High(t)  Low(t)  Close(t)  Open(t-1)  \\\n",
       "Date                                                                            \n",
       "2015-02-03       2       26.25     24.4     25.5    24.4      25.5       24.2   \n",
       "\n",
       "            High(t-1)  Low(t-1)  Close(t-1)  Open(t-2)  High(t-2)  Low(t-2)  \\\n",
       "Date                                                                          \n",
       "2015-02-03       24.3      24.1        24.3       24.1       24.4      24.0   \n",
       "\n",
       "            Close(t-2)  \n",
       "Date                    \n",
       "2015-02-03        24.3  "
      ]
     },
     "execution_count": 90,
     "metadata": {},
     "output_type": "execute_result"
    },
    {
     "name": "stdout",
     "output_type": "stream",
     "text": [
      "ADVANC, AOT, BANPU, BBL, BDMS, BH, CK, CPALL, CPF, CPN, HMPRO, IRPC, JAS, KBANK, MINT, PTT, SCB, SCC, THAI, TRUE, TU\n"
     ]
    }
   ],
   "source": [
    "# replace Text with TF-IDF vector\n",
    "x_train = df_train.drop(['Text'], axis=1)\n",
    "x_test = df_test.drop(['Text'], axis=1)\n",
    "x_val = df_val.drop(['Text'], axis=1)\n",
    "\n",
    "# Label Encoding\n",
    "le = sklearn.preprocessing.LabelEncoder()\n",
    "x_train['Ticker'] = le.fit_transform(x_train['Ticker'])\n",
    "x_test['Ticker'] = le.transform(x_test['Ticker'])\n",
    "x_val['Ticker'] = le.transform(x_val['Ticker'])\n",
    "\n",
    "x_train.head(1)\n",
    "# x_test.head(2)\n",
    "# x_val.head(2)\n",
    "print(\", \".join(le.classes_))"
   ]
  },
  {
   "cell_type": "markdown",
   "metadata": {},
   "source": [
    "# Create x_train and y_train"
   ]
  },
  {
   "cell_type": "code",
   "execution_count": 91,
   "metadata": {},
   "outputs": [
    {
     "data": {
      "text/plain": [
       "((20466, 13), (20466, 1))"
      ]
     },
     "execution_count": 91,
     "metadata": {},
     "output_type": "execute_result"
    },
    {
     "data": {
      "text/plain": [
       "((2577, 13), (2577, 1))"
      ]
     },
     "execution_count": 91,
     "metadata": {},
     "output_type": "execute_result"
    }
   ],
   "source": [
    "Horizon = 'Close(t+1)'\n",
    "y_train = x_train[[Horizon]]\n",
    "x_train = x_train.drop(['Close(t+1)'], axis=1).copy()\n",
    "x_train.shape, y_train.shape\n",
    "\n",
    "y_val = x_val[[Horizon]]\n",
    "x_val = x_val.drop(['Close(t+1)'], axis=1).copy()\n",
    "x_val.shape, y_val.shape"
   ]
  },
  {
   "cell_type": "markdown",
   "metadata": {},
   "source": [
    "# Evaluate Each Stcok"
   ]
  },
  {
   "cell_type": "code",
   "execution_count": 12,
   "metadata": {},
   "outputs": [],
   "source": [
    "def mean_absolute_percentage_error(y_true, y_pred): \n",
    "    return np.mean(np.abs((y_true - y_pred) / y_true)) * 100"
   ]
  },
  {
   "cell_type": "code",
   "execution_count": 13,
   "metadata": {},
   "outputs": [],
   "source": [
    "def evaluator(clf, df_test, le, isXGB=False, isLSTM=False):\n",
    "    RMSEs, MAEs, MAPEs, DAs = [], [], [], []\n",
    "    results = []\n",
    "    for stock in target_stocks:\n",
    "        x_tmp = df_test.loc[df_test['Ticker'] == le.transform([stock])[0]].copy()\n",
    "        \n",
    "        y_tmp = x_tmp[Horizon].values\n",
    "        \n",
    "        # Directional Accuracy\n",
    "        changes = x_tmp[Horizon] -  x_tmp['Close(t)']\n",
    "        y_true_da = []\n",
    "        for change in changes:\n",
    "            y_true_da.append(1 if change >= 0 else 0)\n",
    "                \n",
    "        x_tmp = x_tmp.drop(['Close(t+1)'], axis=1)\n",
    "        \n",
    "        if isXGB:\n",
    "            y_pred = clf.predict(xgboost.DMatrix(x_tmp))\n",
    "        elif isLSTM:\n",
    "            x = x_tmp.values\n",
    "            x = x.reshape((x.shape[0], x.shape[1], 1))\n",
    "            y_pred = clf.predict(x)\n",
    "        else:\n",
    "            y_pred = clf.predict(x_tmp.as_matrix())\n",
    "        \n",
    "#         # Directional Accuracy Pred\n",
    "        changes = y_pred.reshape(-1,1) -  x_tmp['Close(t)'].values.reshape(-1,1)\n",
    "        y_pred_da = []\n",
    "        for change in changes:\n",
    "            y_pred_da.append(1 if change >= 0 else 0)\n",
    "        \n",
    "        RMSE = np.sqrt(sklearn.metrics.mean_squared_error(y_tmp, y_pred))\n",
    "        MAE = sklearn.metrics.mean_absolute_error(y_tmp, y_pred)\n",
    "        MAPE = mean_absolute_percentage_error(y_tmp, y_pred)\n",
    "        DA = sklearn.metrics.accuracy_score(y_true_da, y_pred_da)\n",
    "        print(stock, \"\\tRMSE: %.2f\\t MAE: %.2f \\tMAPE: %.2f \\tDA: %.2f\" % (RMSE, MAE, MAPE, DA))\n",
    "        RMSEs.append(RMSE)\n",
    "        MAEs.append(MAE)\n",
    "        MAPEs.append(MAPE)\n",
    "        DAs.append(DA)\n",
    "    \n",
    "    print('\\nmean RMSE:', round(np.mean(RMSEs),2))\n",
    "    print('mean MAE:', round(np.mean(MAEs),2))\n",
    "    print('mean MAPE:', round(np.mean(MAPEs),2))\n",
    "    print('mean DA:', round(np.mean(DAs),4))"
   ]
  },
  {
   "cell_type": "code",
   "execution_count": 84,
   "metadata": {},
   "outputs": [],
   "source": [
    "def ensemble_evaluator(df_test):\n",
    "    RMSEs, MAEs, MAPEs, DAs = [], [], [], []\n",
    "    results = []\n",
    "    for stock in target_stocks:\n",
    "        x_tmp = df_test.loc[df_test['Ticker'] == le.transform([stock])[0]].copy()\n",
    "        \n",
    "        y_tmp = x_tmp[Horizon].values\n",
    "        \n",
    "        # Directional Accuracy\n",
    "        changes = x_tmp[Horizon] -  x_tmp['Close(t)']\n",
    "        y_true_da = []\n",
    "        for change in changes:\n",
    "            y_true_da.append(1 if change >= 0 else 0)\n",
    "                \n",
    "        x_tmp = x_tmp.drop(['Close(t+1)'], axis=1)\n",
    "        \n",
    "        # Prediction\n",
    "        \n",
    "        y_dt = dt.predict(x_tmp.as_matrix())\n",
    "        y_rf = rf.predict(x_tmp.as_matrix())\n",
    "        y_ada = ada.predict(x_tmp.as_matrix())\n",
    "        y_gb = gb.predict(x_tmp.as_matrix())\n",
    "        y_xgb = xgb.predict(xgboost.DMatrix(x_tmp))\n",
    "        y_knn = knn.predict(x_tmp.as_matrix())\n",
    "        y_bay = bay.predict(x_tmp.as_matrix())\n",
    "\n",
    "#         y_pred = (y_dt+y_rf+y_ada+y_gb+y_xgb+y_knn+y_bay)/7\n",
    "        \n",
    "        y_all = np.concatenate((\n",
    "            y_dt.reshape(-1,1),\n",
    "            y_rf.reshape(-1,1),\n",
    "            y_ada.reshape(-1,1),\n",
    "            y_gb.reshape(-1,1),\n",
    "            y_xgb.reshape(-1,1),\n",
    "            y_knn.reshape(-1,1),\n",
    "            y_bay.reshape(-1,1)\n",
    "        ), axis=1)\n",
    "        y_pred = np.zeros((y_all.shape[0],1))\n",
    "        for i in range(y_all.shape[1]):\n",
    "            y_pred += y_all[:,i].reshape(-1,1)*gb_stack.feature_importances_[i]\n",
    "        y_pred = np.squeeze(y_pred)\n",
    "\n",
    "        # Directional Accuracy Pred\n",
    "        changes = y_pred.reshape(-1,1) -  x_tmp['Close(t)'].values.reshape(-1,1)\n",
    "        y_pred_da = []\n",
    "        for change in changes:\n",
    "            y_pred_da.append(1 if change >= 0 else 0)\n",
    "        \n",
    "        RMSE = np.sqrt(sklearn.metrics.mean_squared_error(y_tmp, y_pred))\n",
    "        MAE = sklearn.metrics.mean_absolute_error(y_tmp, y_pred)\n",
    "        MAPE = mean_absolute_percentage_error(y_tmp, y_pred)\n",
    "        DA = sklearn.metrics.accuracy_score(y_true_da, y_pred_da)\n",
    "        print(stock, \"\\tRMSE: %.2f\\t MAE: %.2f \\tMAPE: %.2f \\tDA: %.2f\" % (RMSE, MAE, MAPE, DA))\n",
    "        RMSEs.append(RMSE)\n",
    "        MAEs.append(MAE)\n",
    "        MAPEs.append(MAPE)\n",
    "        DAs.append(DA)\n",
    "    \n",
    "    print('\\nmean RMSE:', round(np.mean(RMSEs),2))\n",
    "    print('mean MAE:', round(np.mean(MAEs),2))\n",
    "    print('mean MAPE:', round(np.mean(MAPEs),2))\n",
    "    print('mean DA:', round(np.mean(DAs),4))"
   ]
  },
  {
   "cell_type": "markdown",
   "metadata": {},
   "source": [
    "# Ensemble"
   ]
  },
  {
   "cell_type": "code",
   "execution_count": 85,
   "metadata": {},
   "outputs": [
    {
     "name": "stdout",
     "output_type": "stream",
     "text": [
      "BANPU \tRMSE: 0.23\t MAE: 0.19 \tMAPE: 1.09 \tDA: 0.49\n",
      "IRPC \tRMSE: 0.09\t MAE: 0.07 \tMAPE: 1.22 \tDA: 0.48\n",
      "PTT \tRMSE: 2.37\t MAE: 1.58 \tMAPE: 0.41 \tDA: 0.68\n",
      "BBL \tRMSE: 1.36\t MAE: 1.06 \tMAPE: 0.57 \tDA: 0.54\n",
      "KBANK \tRMSE: 2.01\t MAE: 1.58 \tMAPE: 0.80 \tDA: 0.53\n",
      "SCB \tRMSE: 1.24\t MAE: 0.99 \tMAPE: 0.66 \tDA: 0.60\n",
      "AOT \tRMSE: 0.81\t MAE: 0.59 \tMAPE: 1.18 \tDA: 0.62\n",
      "THAI \tRMSE: 0.46\t MAE: 0.34 \tMAPE: 1.77 \tDA: 0.51\n",
      "CPF \tRMSE: 0.36\t MAE: 0.28 \tMAPE: 1.09 \tDA: 0.56\n",
      "MINT \tRMSE: 0.51\t MAE: 0.41 \tMAPE: 1.02 \tDA: 0.56\n",
      "TU \tRMSE: 0.26\t MAE: 0.19 \tMAPE: 0.98 \tDA: 0.59\n",
      "SCC \tRMSE: 4.40\t MAE: 3.59 \tMAPE: 0.71 \tDA: 0.56\n",
      "CPN \tRMSE: 0.94\t MAE: 0.72 \tMAPE: 1.02 \tDA: 0.58\n",
      "CK \tRMSE: 0.34\t MAE: 0.28 \tMAPE: 1.00 \tDA: 0.49\n",
      "CPALL \tRMSE: 0.54\t MAE: 0.41 \tMAPE: 0.65 \tDA: 0.46\n",
      "HMPRO \tRMSE: 0.17\t MAE: 0.11 \tMAPE: 1.04 \tDA: 0.53\n",
      "BDMS \tRMSE: 0.23\t MAE: 0.17 \tMAPE: 0.86 \tDA: 0.53\n",
      "BH \tRMSE: 2.70\t MAE: 1.90 \tMAPE: 0.96 \tDA: 0.45\n",
      "ADVANC \tRMSE: 1.68\t MAE: 1.23 \tMAPE: 0.68 \tDA: 0.58\n",
      "JAS \tRMSE: 0.11\t MAE: 0.08 \tMAPE: 1.03 \tDA: 0.62\n",
      "TRUE \tRMSE: 0.13\t MAE: 0.10 \tMAPE: 1.63 \tDA: 0.50\n",
      "\n",
      "mean RMSE: 1.0\n",
      "mean MAE: 0.76\n",
      "mean MAPE: 0.97\n",
      "mean DA: 0.546\n"
     ]
    }
   ],
   "source": [
    "ensemble_evaluator(\n",
    "    x_test\n",
    ")"
   ]
  },
  {
   "cell_type": "markdown",
   "metadata": {},
   "source": [
    "# Linear Regression"
   ]
  },
  {
   "cell_type": "code",
   "execution_count": 31,
   "metadata": {},
   "outputs": [
    {
     "data": {
      "text/plain": [
       "LinearRegression(copy_X=True, fit_intercept=True, n_jobs=1, normalize=False)"
      ]
     },
     "execution_count": 31,
     "metadata": {},
     "output_type": "execute_result"
    },
    {
     "name": "stdout",
     "output_type": "stream",
     "text": [
      "BANPU \tRMSE: 0.22\t MAE: 0.16 \tMAPE: 4.17 \tDA: 0.42\n",
      "IRPC \tRMSE: 0.09\t MAE: 0.07 \tMAPE: 9.19 \tDA: 0.69\n",
      "PTT \tRMSE: 2.69\t MAE: 1.96 \tMAPE: 2.39 \tDA: 0.44\n",
      "BBL \tRMSE: 1.36\t MAE: 1.11 \tMAPE: 2.15 \tDA: 0.32\n",
      "KBANK \tRMSE: 2.18\t MAE: 1.70 \tMAPE: 4.23 \tDA: 0.39\n",
      "SCB \tRMSE: 1.42\t MAE: 1.14 \tMAPE: 3.41 \tDA: 0.37\n",
      "AOT \tRMSE: 0.88\t MAE: 0.68 \tMAPE: 10.90 \tDA: 0.28\n",
      "THAI \tRMSE: 0.44\t MAE: 0.32 \tMAPE: 7.49 \tDA: 0.52\n",
      "CPF \tRMSE: 0.38\t MAE: 0.29 \tMAPE: 4.68 \tDA: 0.56\n",
      "MINT \tRMSE: 0.49\t MAE: 0.38 \tMAPE: 2.76 \tDA: 0.61\n",
      "TU \tRMSE: 0.28\t MAE: 0.21 \tMAPE: 4.24 \tDA: 0.57\n",
      "SCC \tRMSE: 4.36\t MAE: 3.52 \tMAPE: 2.48 \tDA: 0.48\n",
      "CPN \tRMSE: 1.02\t MAE: 0.78 \tMAPE: 5.33 \tDA: 0.43\n",
      "CK \tRMSE: 0.33\t MAE: 0.26 \tMAPE: 3.18 \tDA: 0.40\n",
      "CPALL \tRMSE: 0.47\t MAE: 0.32 \tMAPE: 2.97 \tDA: 0.31\n",
      "HMPRO \tRMSE: 0.17\t MAE: 0.12 \tMAPE: 10.35 \tDA: 0.66\n",
      "BDMS \tRMSE: 0.22\t MAE: 0.16 \tMAPE: 3.98 \tDA: 0.38\n",
      "BH \tRMSE: 2.79\t MAE: 1.81 \tMAPE: 10.64 \tDA: 0.30\n",
      "ADVANC \tRMSE: 1.87\t MAE: 1.40 \tMAPE: 3.83 \tDA: 0.42\n",
      "JAS \tRMSE: 0.12\t MAE: 0.10 \tMAPE: 5.07 \tDA: 0.52\n",
      "TRUE \tRMSE: 0.15\t MAE: 0.13 \tMAPE: 6.54 \tDA: 0.55\n",
      "\n",
      "mean RMSE: 1.04\n",
      "mean MAE: 0.79\n",
      "mean MAPE: 5.24\n",
      "mean DA: 0.4584\n"
     ]
    }
   ],
   "source": [
    "regr = sklearn.linear_model.LinearRegression()\n",
    "regr.fit(x_train, y_train)\n",
    "\n",
    "evaluator(regr, x_test, le)"
   ]
  },
  {
   "cell_type": "markdown",
   "metadata": {},
   "source": [
    "# Decistion Tree Regressor"
   ]
  },
  {
   "cell_type": "code",
   "execution_count": 32,
   "metadata": {},
   "outputs": [
    {
     "data": {
      "application/vnd.jupyter.widget-view+json": {
       "model_id": "b8828b31f58c4d13870b54c31c4e4bad",
       "version_major": 2,
       "version_minor": 0
      },
      "text/html": [
       "<p>Failed to display Jupyter Widget of type <code>HBox</code>.</p>\n",
       "<p>\n",
       "  If you're reading this message in the Jupyter Notebook or JupyterLab Notebook, it may mean\n",
       "  that the widgets JavaScript is still loading. If this message persists, it\n",
       "  likely means that the widgets JavaScript library is either not installed or\n",
       "  not enabled. See the <a href=\"https://ipywidgets.readthedocs.io/en/stable/user_install.html\">Jupyter\n",
       "  Widgets Documentation</a> for setup instructions.\n",
       "</p>\n",
       "<p>\n",
       "  If you're reading this message in another frontend (for example, a static\n",
       "  rendering on GitHub or <a href=\"https://nbviewer.jupyter.org/\">NBViewer</a>),\n",
       "  it may mean that your frontend doesn't currently support widgets.\n",
       "</p>\n"
      ],
      "text/plain": [
       "HBox(children=(IntProgress(value=0, max=210), HTML(value='')))"
      ]
     },
     "metadata": {},
     "output_type": "display_data"
    },
    {
     "name": "stdout",
     "output_type": "stream",
     "text": [
      "\n"
     ]
    },
    {
     "data": {
      "text/plain": [
       "1.1873259217718013"
      ]
     },
     "execution_count": 32,
     "metadata": {},
     "output_type": "execute_result"
    },
    {
     "data": {
      "text/plain": [
       "{'criterion': 'mse',\n",
       " 'max_depth': 10,\n",
       " 'max_features': None,\n",
       " 'min_samples_leaf': 1,\n",
       " 'min_samples_split': 3,\n",
       " 'random_state': 100}"
      ]
     },
     "execution_count": 32,
     "metadata": {},
     "output_type": "execute_result"
    },
    {
     "data": {
      "text/plain": [
       "DecisionTreeRegressor(criterion='mse', max_depth=10, max_features=None,\n",
       "           max_leaf_nodes=None, min_impurity_decrease=0.0,\n",
       "           min_impurity_split=None, min_samples_leaf=1,\n",
       "           min_samples_split=3, min_weight_fraction_leaf=0.0,\n",
       "           presort=False, random_state=100, splitter='best')"
      ]
     },
     "execution_count": 32,
     "metadata": {},
     "output_type": "execute_result"
    },
    {
     "name": "stdout",
     "output_type": "stream",
     "text": [
      "BANPU \tRMSE: 0.30\t MAE: 0.25 \tMAPE: 1.47 \tDA: 0.47\n",
      "IRPC \tRMSE: 0.10\t MAE: 0.08 \tMAPE: 1.46 \tDA: 0.48\n",
      "PTT \tRMSE: 2.99\t MAE: 2.11 \tMAPE: 0.55 \tDA: 0.55\n",
      "BBL \tRMSE: 1.63\t MAE: 1.29 \tMAPE: 0.70 \tDA: 0.48\n",
      "KBANK \tRMSE: 2.84\t MAE: 2.16 \tMAPE: 1.09 \tDA: 0.50\n",
      "SCB \tRMSE: 1.48\t MAE: 1.19 \tMAPE: 0.79 \tDA: 0.54\n",
      "AOT \tRMSE: 0.98\t MAE: 0.71 \tMAPE: 1.40 \tDA: 0.56\n",
      "THAI \tRMSE: 0.43\t MAE: 0.32 \tMAPE: 1.66 \tDA: 0.56\n",
      "CPF \tRMSE: 0.39\t MAE: 0.31 \tMAPE: 1.18 \tDA: 0.56\n",
      "MINT \tRMSE: 0.53\t MAE: 0.42 \tMAPE: 1.03 \tDA: 0.51\n",
      "TU \tRMSE: 0.28\t MAE: 0.21 \tMAPE: 1.08 \tDA: 0.59\n",
      "SCC \tRMSE: 5.78\t MAE: 4.71 \tMAPE: 0.93 \tDA: 0.38\n",
      "CPN \tRMSE: 1.35\t MAE: 0.96 \tMAPE: 1.37 \tDA: 0.54\n",
      "CK \tRMSE: 0.35\t MAE: 0.29 \tMAPE: 1.03 \tDA: 0.39\n",
      "CPALL \tRMSE: 0.73\t MAE: 0.54 \tMAPE: 0.87 \tDA: 0.48\n",
      "HMPRO \tRMSE: 0.21\t MAE: 0.14 \tMAPE: 1.31 \tDA: 0.66\n",
      "BDMS \tRMSE: 0.28\t MAE: 0.21 \tMAPE: 1.03 \tDA: 0.54\n",
      "BH \tRMSE: 3.02\t MAE: 2.13 \tMAPE: 1.07 \tDA: 0.52\n",
      "ADVANC \tRMSE: 2.00\t MAE: 1.51 \tMAPE: 0.83 \tDA: 0.54\n",
      "JAS \tRMSE: 0.13\t MAE: 0.10 \tMAPE: 1.19 \tDA: 0.48\n",
      "TRUE \tRMSE: 0.12\t MAE: 0.09 \tMAPE: 1.50 \tDA: 0.50\n",
      "\n",
      "mean RMSE: 1.23\n",
      "mean MAE: 0.94\n",
      "mean MAPE: 1.12\n",
      "mean DA: 0.5158\n"
     ]
    }
   ],
   "source": [
    "param_dt = {\n",
    "    'criterion':['mse'],\n",
    "    'max_depth':[8,10,12,16,20,24,30],\n",
    "    'max_features':[None],\n",
    "    'min_samples_leaf':[1,2,3,4,5,6],\n",
    "    'min_samples_split':[2,3,4,5,6],\n",
    "    'random_state': [100]\n",
    "}\n",
    "grids = grid_search.ParameterGrid(param_dt)\n",
    "\n",
    "min_MAPE = 9999999\n",
    "best_param = {}\n",
    "dt = None\n",
    "for param in tqdm_notebook(grids):\n",
    "    model = tree.DecisionTreeRegressor(**param)\n",
    "    _=model.fit(x_train, y_train)\n",
    "    MAPE = mean_absolute_percentage_error(np.squeeze(y_val.values), model.predict(x_val))\n",
    "    if MAPE < min_MAPE:\n",
    "        min_MAPE = deepcopy(MAPE)\n",
    "        best_param = deepcopy(param)\n",
    "        dt = deepcopy(model)\n",
    "min_MAPE\n",
    "best_param\n",
    "dt\n",
    "evaluator(dt, x_test, le)"
   ]
  },
  {
   "cell_type": "markdown",
   "metadata": {},
   "source": [
    "# Random Forest Regrssor"
   ]
  },
  {
   "cell_type": "code",
   "execution_count": 33,
   "metadata": {},
   "outputs": [
    {
     "data": {
      "application/vnd.jupyter.widget-view+json": {
       "model_id": "ac8b1db36eca4e2484bc1b5e0eb71891",
       "version_major": 2,
       "version_minor": 0
      },
      "text/html": [
       "<p>Failed to display Jupyter Widget of type <code>HBox</code>.</p>\n",
       "<p>\n",
       "  If you're reading this message in the Jupyter Notebook or JupyterLab Notebook, it may mean\n",
       "  that the widgets JavaScript is still loading. If this message persists, it\n",
       "  likely means that the widgets JavaScript library is either not installed or\n",
       "  not enabled. See the <a href=\"https://ipywidgets.readthedocs.io/en/stable/user_install.html\">Jupyter\n",
       "  Widgets Documentation</a> for setup instructions.\n",
       "</p>\n",
       "<p>\n",
       "  If you're reading this message in another frontend (for example, a static\n",
       "  rendering on GitHub or <a href=\"https://nbviewer.jupyter.org/\">NBViewer</a>),\n",
       "  it may mean that your frontend doesn't currently support widgets.\n",
       "</p>\n"
      ],
      "text/plain": [
       "HBox(children=(IntProgress(value=0, max=84), HTML(value='')))"
      ]
     },
     "metadata": {},
     "output_type": "display_data"
    },
    {
     "name": "stdout",
     "output_type": "stream",
     "text": [
      "\n"
     ]
    },
    {
     "data": {
      "text/plain": [
       "1.1873259217718013"
      ]
     },
     "execution_count": 33,
     "metadata": {},
     "output_type": "execute_result"
    },
    {
     "data": {
      "text/plain": [
       "{'criterion': 'mse',\n",
       " 'max_depth': 8,\n",
       " 'max_features': None,\n",
       " 'min_samples_leaf': 1,\n",
       " 'min_samples_split': 2,\n",
       " 'n_jobs': -1,\n",
       " 'random_state': 100}"
      ]
     },
     "execution_count": 33,
     "metadata": {},
     "output_type": "execute_result"
    },
    {
     "data": {
      "text/plain": [
       "RandomForestRegressor(bootstrap=True, criterion='mse', max_depth=8,\n",
       "           max_features=None, max_leaf_nodes=None,\n",
       "           min_impurity_decrease=0.0, min_impurity_split=None,\n",
       "           min_samples_leaf=1, min_samples_split=2,\n",
       "           min_weight_fraction_leaf=0.0, n_estimators=10, n_jobs=-1,\n",
       "           oob_score=False, random_state=100, verbose=0, warm_start=False)"
      ]
     },
     "execution_count": 33,
     "metadata": {},
     "output_type": "execute_result"
    },
    {
     "name": "stdout",
     "output_type": "stream",
     "text": [
      "BANPU \tRMSE: 0.35\t MAE: 0.29 \tMAPE: 1.69 \tDA: 0.47\n",
      "IRPC \tRMSE: 0.16\t MAE: 0.13 \tMAPE: 2.34 \tDA: 0.40\n",
      "PTT \tRMSE: 2.81\t MAE: 2.10 \tMAPE: 0.55 \tDA: 0.59\n",
      "BBL \tRMSE: 1.55\t MAE: 1.25 \tMAPE: 0.68 \tDA: 0.45\n",
      "KBANK \tRMSE: 2.32\t MAE: 1.88 \tMAPE: 0.95 \tDA: 0.42\n",
      "SCB \tRMSE: 1.50\t MAE: 1.20 \tMAPE: 0.80 \tDA: 0.48\n",
      "AOT \tRMSE: 0.91\t MAE: 0.69 \tMAPE: 1.36 \tDA: 0.59\n",
      "THAI \tRMSE: 0.49\t MAE: 0.40 \tMAPE: 2.12 \tDA: 0.42\n",
      "CPF \tRMSE: 0.43\t MAE: 0.34 \tMAPE: 1.30 \tDA: 0.57\n",
      "MINT \tRMSE: 0.51\t MAE: 0.40 \tMAPE: 1.00 \tDA: 0.53\n",
      "TU \tRMSE: 0.31\t MAE: 0.25 \tMAPE: 1.31 \tDA: 0.62\n",
      "SCC \tRMSE: 4.91\t MAE: 3.99 \tMAPE: 0.79 \tDA: 0.45\n",
      "CPN \tRMSE: 1.13\t MAE: 0.90 \tMAPE: 1.28 \tDA: 0.59\n",
      "CK \tRMSE: 0.42\t MAE: 0.35 \tMAPE: 1.26 \tDA: 0.34\n",
      "CPALL \tRMSE: 0.77\t MAE: 0.61 \tMAPE: 0.97 \tDA: 0.50\n",
      "HMPRO \tRMSE: 0.22\t MAE: 0.17 \tMAPE: 1.58 \tDA: 0.49\n",
      "BDMS \tRMSE: 0.29\t MAE: 0.24 \tMAPE: 1.23 \tDA: 0.41\n",
      "BH \tRMSE: 2.79\t MAE: 1.86 \tMAPE: 0.93 \tDA: 0.53\n",
      "ADVANC \tRMSE: 1.95\t MAE: 1.46 \tMAPE: 0.80 \tDA: 0.49\n",
      "JAS \tRMSE: 0.13\t MAE: 0.09 \tMAPE: 1.08 \tDA: 0.57\n",
      "TRUE \tRMSE: 0.18\t MAE: 0.15 \tMAPE: 2.58 \tDA: 0.50\n",
      "\n",
      "mean RMSE: 1.15\n",
      "mean MAE: 0.89\n",
      "mean MAPE: 1.27\n",
      "mean DA: 0.4959\n"
     ]
    }
   ],
   "source": [
    "grids = sklearn.grid_search.ParameterGrid({\n",
    "    'criterion':['mse'],\n",
    "    'max_depth':[8,10,12,16,20,24,30],\n",
    "    'max_features':[None],\n",
    "    'min_samples_leaf':[1,2,3,4],\n",
    "    'min_samples_split':[2,3,4],\n",
    "    'random_state': [100],\n",
    "    'n_jobs':[-1]\n",
    "})\n",
    "\n",
    "min_MAPE = 9999999\n",
    "best_param = {}\n",
    "rf = None\n",
    "for param in tqdm_notebook(grids):\n",
    "    model = ensemble.RandomForestRegressor(**param)\n",
    "    _=model.fit(x_train, np.squeeze(y_train.values))\n",
    "    MAPE = mean_absolute_percentage_error(np.squeeze(y_val.values), dt.predict(x_val))\n",
    "    if MAPE < min_MAPE:\n",
    "        min_MAPE = deepcopy(MAPE)\n",
    "        best_param = deepcopy(param)\n",
    "        rf = deepcopy(model)\n",
    "min_MAPE\n",
    "best_param\n",
    "rf\n",
    "evaluator(rf, x_test, le)"
   ]
  },
  {
   "cell_type": "markdown",
   "metadata": {},
   "source": [
    "# AdaBoost Regressor"
   ]
  },
  {
   "cell_type": "code",
   "execution_count": 35,
   "metadata": {},
   "outputs": [
    {
     "data": {
      "application/vnd.jupyter.widget-view+json": {
       "model_id": "20ddbc321dc442c5b7c13a5c329c9ac0",
       "version_major": 2,
       "version_minor": 0
      },
      "text/html": [
       "<p>Failed to display Jupyter Widget of type <code>HBox</code>.</p>\n",
       "<p>\n",
       "  If you're reading this message in the Jupyter Notebook or JupyterLab Notebook, it may mean\n",
       "  that the widgets JavaScript is still loading. If this message persists, it\n",
       "  likely means that the widgets JavaScript library is either not installed or\n",
       "  not enabled. See the <a href=\"https://ipywidgets.readthedocs.io/en/stable/user_install.html\">Jupyter\n",
       "  Widgets Documentation</a> for setup instructions.\n",
       "</p>\n",
       "<p>\n",
       "  If you're reading this message in another frontend (for example, a static\n",
       "  rendering on GitHub or <a href=\"https://nbviewer.jupyter.org/\">NBViewer</a>),\n",
       "  it may mean that your frontend doesn't currently support widgets.\n",
       "</p>\n"
      ],
      "text/plain": [
       "HBox(children=(IntProgress(value=0, max=54), HTML(value='')))"
      ]
     },
     "metadata": {},
     "output_type": "display_data"
    },
    {
     "name": "stdout",
     "output_type": "stream",
     "text": [
      "\n"
     ]
    },
    {
     "data": {
      "text/plain": [
       "1.0882075908441693"
      ]
     },
     "execution_count": 35,
     "metadata": {},
     "output_type": "execute_result"
    },
    {
     "data": {
      "text/plain": [
       "{'base_estimator': DecisionTreeRegressor(criterion='mse', max_depth=10, max_features=None,\n",
       "            max_leaf_nodes=None, min_impurity_decrease=0.0,\n",
       "            min_impurity_split=None, min_samples_leaf=1,\n",
       "            min_samples_split=3, min_weight_fraction_leaf=0.0,\n",
       "            presort=False, random_state=100, splitter='best'),\n",
       " 'learning_rate': 0.1,\n",
       " 'loss': 'square',\n",
       " 'n_estimators': 50,\n",
       " 'random_state': 100}"
      ]
     },
     "execution_count": 35,
     "metadata": {},
     "output_type": "execute_result"
    }
   ],
   "source": [
    "grids = sklearn.grid_search.ParameterGrid({\n",
    "    'base_estimator':[dt],\n",
    "    'n_estimators':[10,25,50,75,100,150],\n",
    "    'learning_rate':[1,0.3,0.1],\n",
    "    'loss':['linear', 'square', 'exponential'],\n",
    "    'random_state': [100]\n",
    "})\n",
    "\n",
    "min_MAPE = 9999999\n",
    "best_param = {}\n",
    "ada = None\n",
    "for param in tqdm_notebook(grids):\n",
    "    model = ensemble.AdaBoostRegressor(**param)\n",
    "    _=model.fit(x_train, np.squeeze(y_train.values))\n",
    "    MAPE = mean_absolute_percentage_error(np.squeeze(y_val.values), model.predict(x_val))\n",
    "    if MAPE < min_MAPE:\n",
    "        min_MAPE = deepcopy(MAPE)\n",
    "        best_param = deepcopy(param)\n",
    "        ada = deepcopy(model)\n",
    "min_MAPE\n",
    "best_param"
   ]
  },
  {
   "cell_type": "code",
   "execution_count": 36,
   "metadata": {},
   "outputs": [
    {
     "data": {
      "text/plain": [
       "AdaBoostRegressor(base_estimator=DecisionTreeRegressor(criterion='mse', max_depth=10, max_features=None,\n",
       "           max_leaf_nodes=None, min_impurity_decrease=0.0,\n",
       "           min_impurity_split=None, min_samples_leaf=1,\n",
       "           min_samples_split=3, min_weight_fraction_leaf=0.0,\n",
       "           presort=False, random_state=100, splitter='best'),\n",
       "         learning_rate=0.1, loss='square', n_estimators=50,\n",
       "         random_state=100)"
      ]
     },
     "execution_count": 36,
     "metadata": {},
     "output_type": "execute_result"
    },
    {
     "name": "stdout",
     "output_type": "stream",
     "text": [
      "BANPU \tRMSE: 0.25\t MAE: 0.20 \tMAPE: 1.15 \tDA: 0.47\n",
      "IRPC \tRMSE: 0.09\t MAE: 0.07 \tMAPE: 1.29 \tDA: 0.44\n",
      "PTT \tRMSE: 2.71\t MAE: 1.97 \tMAPE: 0.51 \tDA: 0.60\n",
      "BBL \tRMSE: 1.44\t MAE: 1.16 \tMAPE: 0.63 \tDA: 0.52\n",
      "KBANK \tRMSE: 2.20\t MAE: 1.76 \tMAPE: 0.89 \tDA: 0.47\n",
      "SCB \tRMSE: 1.43\t MAE: 1.14 \tMAPE: 0.75 \tDA: 0.54\n",
      "AOT \tRMSE: 0.83\t MAE: 0.62 \tMAPE: 1.23 \tDA: 0.64\n",
      "THAI \tRMSE: 0.43\t MAE: 0.32 \tMAPE: 1.67 \tDA: 0.50\n",
      "CPF \tRMSE: 0.37\t MAE: 0.29 \tMAPE: 1.12 \tDA: 0.57\n",
      "MINT \tRMSE: 0.51\t MAE: 0.40 \tMAPE: 0.99 \tDA: 0.47\n",
      "TU \tRMSE: 0.28\t MAE: 0.20 \tMAPE: 1.07 \tDA: 0.49\n",
      "SCC \tRMSE: 4.80\t MAE: 4.04 \tMAPE: 0.80 \tDA: 0.38\n",
      "CPN \tRMSE: 1.08\t MAE: 0.81 \tMAPE: 1.15 \tDA: 0.53\n",
      "CK \tRMSE: 0.36\t MAE: 0.30 \tMAPE: 1.07 \tDA: 0.35\n",
      "CPALL \tRMSE: 0.61\t MAE: 0.43 \tMAPE: 0.69 \tDA: 0.56\n",
      "HMPRO \tRMSE: 0.19\t MAE: 0.13 \tMAPE: 1.23 \tDA: 0.49\n",
      "BDMS \tRMSE: 0.24\t MAE: 0.17 \tMAPE: 0.88 \tDA: 0.60\n",
      "BH \tRMSE: 2.73\t MAE: 1.86 \tMAPE: 0.94 \tDA: 0.49\n",
      "ADVANC \tRMSE: 1.91\t MAE: 1.44 \tMAPE: 0.79 \tDA: 0.54\n",
      "JAS \tRMSE: 0.12\t MAE: 0.08 \tMAPE: 1.02 \tDA: 0.54\n",
      "TRUE \tRMSE: 0.11\t MAE: 0.08 \tMAPE: 1.39 \tDA: 0.48\n",
      "\n",
      "mean RMSE: 1.08\n",
      "mean MAE: 0.83\n",
      "mean MAPE: 1.01\n",
      "mean DA: 0.5091\n"
     ]
    }
   ],
   "source": [
    "ada\n",
    "evaluator(ada, x_test, le)"
   ]
  },
  {
   "cell_type": "markdown",
   "metadata": {},
   "source": [
    "# Gradient Boosting Regressor"
   ]
  },
  {
   "cell_type": "code",
   "execution_count": 39,
   "metadata": {},
   "outputs": [
    {
     "data": {
      "text/plain": [
       "GradientBoostingRegressor(alpha=0.9, criterion='friedman_mse', init=None,\n",
       "             learning_rate=0.1, loss='ls', max_depth=3, max_features=None,\n",
       "             max_leaf_nodes=None, min_impurity_decrease=0.0,\n",
       "             min_impurity_split=None, min_samples_leaf=1,\n",
       "             min_samples_split=2, min_weight_fraction_leaf=0.0,\n",
       "             n_estimators=100, presort='auto', random_state=None,\n",
       "             subsample=1.0, verbose=0, warm_start=False)"
      ]
     },
     "execution_count": 39,
     "metadata": {},
     "output_type": "execute_result"
    }
   ],
   "source": [
    "ensemble.GradientBoostingRegressor()"
   ]
  },
  {
   "cell_type": "code",
   "execution_count": 40,
   "metadata": {},
   "outputs": [
    {
     "data": {
      "application/vnd.jupyter.widget-view+json": {
       "model_id": "0b226afd41084748b2e217640dfb7832",
       "version_major": 2,
       "version_minor": 0
      },
      "text/html": [
       "<p>Failed to display Jupyter Widget of type <code>HBox</code>.</p>\n",
       "<p>\n",
       "  If you're reading this message in the Jupyter Notebook or JupyterLab Notebook, it may mean\n",
       "  that the widgets JavaScript is still loading. If this message persists, it\n",
       "  likely means that the widgets JavaScript library is either not installed or\n",
       "  not enabled. See the <a href=\"https://ipywidgets.readthedocs.io/en/stable/user_install.html\">Jupyter\n",
       "  Widgets Documentation</a> for setup instructions.\n",
       "</p>\n",
       "<p>\n",
       "  If you're reading this message in another frontend (for example, a static\n",
       "  rendering on GitHub or <a href=\"https://nbviewer.jupyter.org/\">NBViewer</a>),\n",
       "  it may mean that your frontend doesn't currently support widgets.\n",
       "</p>\n"
      ],
      "text/plain": [
       "HBox(children=(IntProgress(value=0, max=120), HTML(value='')))"
      ]
     },
     "metadata": {},
     "output_type": "display_data"
    },
    {
     "name": "stdout",
     "output_type": "stream",
     "text": [
      "\n"
     ]
    },
    {
     "data": {
      "text/plain": [
       "1.0583020747143799"
      ]
     },
     "execution_count": 40,
     "metadata": {},
     "output_type": "execute_result"
    },
    {
     "data": {
      "text/plain": [
       "{'criterion': 'mse',\n",
       " 'learning_rate': 0.5,\n",
       " 'max_depth': 10,\n",
       " 'n_estimators': 50,\n",
       " 'presort': False,\n",
       " 'random_state': 100}"
      ]
     },
     "execution_count": 40,
     "metadata": {},
     "output_type": "execute_result"
    },
    {
     "data": {
      "text/plain": [
       "GradientBoostingRegressor(alpha=0.9, criterion='mse', init=None,\n",
       "             learning_rate=0.5, loss='ls', max_depth=10, max_features=None,\n",
       "             max_leaf_nodes=None, min_impurity_decrease=0.0,\n",
       "             min_impurity_split=None, min_samples_leaf=1,\n",
       "             min_samples_split=2, min_weight_fraction_leaf=0.0,\n",
       "             n_estimators=50, presort=False, random_state=100,\n",
       "             subsample=1.0, verbose=0, warm_start=False)"
      ]
     },
     "execution_count": 40,
     "metadata": {},
     "output_type": "execute_result"
    },
    {
     "name": "stdout",
     "output_type": "stream",
     "text": [
      "BANPU \tRMSE: 0.26\t MAE: 0.20 \tMAPE: 1.15 \tDA: 0.55\n",
      "IRPC \tRMSE: 0.10\t MAE: 0.08 \tMAPE: 1.32 \tDA: 0.51\n",
      "PTT \tRMSE: 2.58\t MAE: 1.58 \tMAPE: 0.41 \tDA: 0.72\n",
      "BBL \tRMSE: 1.53\t MAE: 1.06 \tMAPE: 0.58 \tDA: 0.68\n",
      "KBANK \tRMSE: 1.89\t MAE: 1.42 \tMAPE: 0.72 \tDA: 0.61\n",
      "SCB \tRMSE: 1.35\t MAE: 0.95 \tMAPE: 0.63 \tDA: 0.58\n",
      "AOT \tRMSE: 0.85\t MAE: 0.59 \tMAPE: 1.16 \tDA: 0.69\n",
      "THAI \tRMSE: 0.51\t MAE: 0.37 \tMAPE: 1.93 \tDA: 0.54\n",
      "CPF \tRMSE: 0.41\t MAE: 0.31 \tMAPE: 1.19 \tDA: 0.53\n",
      "MINT \tRMSE: 0.62\t MAE: 0.46 \tMAPE: 1.15 \tDA: 0.50\n",
      "TU \tRMSE: 0.29\t MAE: 0.20 \tMAPE: 1.07 \tDA: 0.55\n",
      "SCC \tRMSE: 5.45\t MAE: 4.02 \tMAPE: 0.80 \tDA: 0.51\n",
      "CPN \tRMSE: 1.17\t MAE: 0.84 \tMAPE: 1.19 \tDA: 0.56\n",
      "CK \tRMSE: 0.35\t MAE: 0.28 \tMAPE: 1.00 \tDA: 0.44\n",
      "CPALL \tRMSE: 0.62\t MAE: 0.46 \tMAPE: 0.72 \tDA: 0.52\n",
      "HMPRO \tRMSE: 0.19\t MAE: 0.12 \tMAPE: 1.09 \tDA: 0.54\n",
      "BDMS \tRMSE: 0.24\t MAE: 0.18 \tMAPE: 0.89 \tDA: 0.53\n",
      "BH \tRMSE: 2.87\t MAE: 2.10 \tMAPE: 1.06 \tDA: 0.42\n",
      "ADVANC \tRMSE: 1.82\t MAE: 1.13 \tMAPE: 0.63 \tDA: 0.60\n",
      "JAS \tRMSE: 0.12\t MAE: 0.09 \tMAPE: 1.08 \tDA: 0.44\n",
      "TRUE \tRMSE: 0.14\t MAE: 0.10 \tMAPE: 1.71 \tDA: 0.54\n",
      "\n",
      "mean RMSE: 1.11\n",
      "mean MAE: 0.79\n",
      "mean MAPE: 1.02\n",
      "mean DA: 0.5492\n"
     ]
    }
   ],
   "source": [
    "grids = sklearn.grid_search.ParameterGrid({\n",
    "    'criterion':['friedman_mse', 'mse'],\n",
    "    'n_estimators':[10,25,50,75,100],\n",
    "    'learning_rate':[0.5],\n",
    "    'max_depth':[5,10,15,20,25,30],\n",
    "    'random_state': [100],\n",
    "    'presort':[True, False]\n",
    "})\n",
    "\n",
    "min_MAPE = 9999999\n",
    "best_param = {}\n",
    "gb = None\n",
    "for param in tqdm_notebook(grids):\n",
    "    model = ensemble.GradientBoostingRegressor(**param)\n",
    "    _=model.fit(x_train, np.squeeze(y_train.values))\n",
    "    MAPE = mean_absolute_percentage_error(np.squeeze(y_val.values), model.predict(x_val))\n",
    "    if MAPE < min_MAPE:\n",
    "        min_MAPE = deepcopy(MAPE)\n",
    "        best_param = deepcopy(param)\n",
    "        gb = deepcopy(model)\n",
    "min_MAPE\n",
    "best_param\n",
    "gb\n",
    "evaluator(gb, x_test, le)"
   ]
  },
  {
   "cell_type": "markdown",
   "metadata": {},
   "source": [
    "# XGBoost Regressor"
   ]
  },
  {
   "cell_type": "markdown",
   "metadata": {},
   "source": [
    "```python \n",
    "grids = sklearn.grid_search.ParameterGrid({\n",
    "    'booster':['gblinear'],\n",
    "    'n_estimators':[25,50,75,100],\n",
    "    'learning_rate':[0.5, 0.1],\n",
    "    'max_depth':[4,6,8,10,12],\n",
    "    'subsample': [0.8, 1],\n",
    "    'objective': ['reg:linear', 'reg:gamma','rank:pairwise','reg:tweedie'],\n",
    "    'eval_metric': ['rmse'],\n",
    "    'nthread': [6]\n",
    "    'reg_lambda': [0.8],\n",
    "    'reg_alpha': [0.2],\n",
    "})\n",
    "```"
   ]
  },
  {
   "cell_type": "code",
   "execution_count": 44,
   "metadata": {},
   "outputs": [
    {
     "data": {
      "application/vnd.jupyter.widget-view+json": {
       "model_id": "3fc3a2d5987b48cb96fd8ae70535a53b",
       "version_major": 2,
       "version_minor": 0
      },
      "text/html": [
       "<p>Failed to display Jupyter Widget of type <code>HBox</code>.</p>\n",
       "<p>\n",
       "  If you're reading this message in the Jupyter Notebook or JupyterLab Notebook, it may mean\n",
       "  that the widgets JavaScript is still loading. If this message persists, it\n",
       "  likely means that the widgets JavaScript library is either not installed or\n",
       "  not enabled. See the <a href=\"https://ipywidgets.readthedocs.io/en/stable/user_install.html\">Jupyter\n",
       "  Widgets Documentation</a> for setup instructions.\n",
       "</p>\n",
       "<p>\n",
       "  If you're reading this message in another frontend (for example, a static\n",
       "  rendering on GitHub or <a href=\"https://nbviewer.jupyter.org/\">NBViewer</a>),\n",
       "  it may mean that your frontend doesn't currently support widgets.\n",
       "</p>\n"
      ],
      "text/plain": [
       "HBox(children=(IntProgress(value=0, max=60), HTML(value='')))"
      ]
     },
     "metadata": {},
     "output_type": "display_data"
    },
    {
     "name": "stdout",
     "output_type": "stream",
     "text": [
      "\n"
     ]
    },
    {
     "data": {
      "text/plain": [
       "1.104463241995271"
      ]
     },
     "execution_count": 44,
     "metadata": {},
     "output_type": "execute_result"
    },
    {
     "data": {
      "text/plain": [
       "{'booster': 'dart',\n",
       " 'eval_metric': 'rmse',\n",
       " 'max_depth': 12,\n",
       " 'n_estimators': 50,\n",
       " 'objective': 'reg:linear',\n",
       " 'subsample': 1}"
      ]
     },
     "execution_count": 44,
     "metadata": {},
     "output_type": "execute_result"
    },
    {
     "name": "stdout",
     "output_type": "stream",
     "text": [
      "BANPU \tRMSE: 0.25\t MAE: 0.21 \tMAPE: 1.20 \tDA: 0.53\n",
      "IRPC \tRMSE: 0.09\t MAE: 0.07 \tMAPE: 1.23 \tDA: 0.54\n",
      "PTT \tRMSE: 2.68\t MAE: 1.79 \tMAPE: 0.46 \tDA: 0.63\n",
      "BBL \tRMSE: 1.44\t MAE: 1.13 \tMAPE: 0.62 \tDA: 0.65\n",
      "KBANK \tRMSE: 2.00\t MAE: 1.58 \tMAPE: 0.80 \tDA: 0.56\n",
      "SCB \tRMSE: 1.40\t MAE: 1.11 \tMAPE: 0.73 \tDA: 0.55\n",
      "AOT \tRMSE: 0.79\t MAE: 0.61 \tMAPE: 1.21 \tDA: 0.58\n",
      "THAI \tRMSE: 0.46\t MAE: 0.34 \tMAPE: 1.82 \tDA: 0.52\n",
      "CPF \tRMSE: 0.39\t MAE: 0.31 \tMAPE: 1.18 \tDA: 0.50\n",
      "MINT \tRMSE: 0.52\t MAE: 0.40 \tMAPE: 0.98 \tDA: 0.58\n",
      "TU \tRMSE: 0.29\t MAE: 0.21 \tMAPE: 1.12 \tDA: 0.55\n",
      "SCC \tRMSE: 4.65\t MAE: 3.66 \tMAPE: 0.73 \tDA: 0.55\n",
      "CPN \tRMSE: 1.14\t MAE: 0.88 \tMAPE: 1.25 \tDA: 0.57\n",
      "CK \tRMSE: 0.34\t MAE: 0.29 \tMAPE: 1.02 \tDA: 0.48\n",
      "CPALL \tRMSE: 0.63\t MAE: 0.49 \tMAPE: 0.77 \tDA: 0.47\n",
      "HMPRO \tRMSE: 0.21\t MAE: 0.14 \tMAPE: 1.25 \tDA: 0.54\n",
      "BDMS \tRMSE: 0.23\t MAE: 0.18 \tMAPE: 0.88 \tDA: 0.45\n",
      "BH \tRMSE: 2.93\t MAE: 2.12 \tMAPE: 1.06 \tDA: 0.44\n",
      "ADVANC \tRMSE: 1.94\t MAE: 1.40 \tMAPE: 0.77 \tDA: 0.52\n",
      "JAS \tRMSE: 0.12\t MAE: 0.09 \tMAPE: 1.14 \tDA: 0.48\n",
      "TRUE \tRMSE: 0.12\t MAE: 0.09 \tMAPE: 1.52 \tDA: 0.50\n",
      "\n",
      "mean RMSE: 1.08\n",
      "mean MAE: 0.81\n",
      "mean MAPE: 1.04\n",
      "mean DA: 0.5323\n"
     ]
    }
   ],
   "source": [
    "d_train = xgboost.DMatrix(x_train, label=y_train)\n",
    "d_valid = xgboost.DMatrix(x_val, label=y_val)\n",
    "\n",
    "grids = sklearn.grid_search.ParameterGrid({\n",
    "    'booster':['gblinear','dart'],\n",
    "    'n_estimators':[50,75,100],\n",
    "#     'learning_rate':[0.3, 0.1, 0.05],\n",
    "    'max_depth':[8,10,12,14,16],\n",
    "    'subsample': [1],\n",
    "    'objective': ['reg:linear','reg:tweedie'],\n",
    "    'eval_metric': ['rmse'],\n",
    "#     'nthread': [8]\n",
    "#     'reg_lambda': [0.8],\n",
    "#     'reg_alpha': [0.2],\n",
    "})\n",
    "\n",
    "min_MAPE = 9999999\n",
    "best_param = {}\n",
    "xgb = None\n",
    "for param in tqdm_notebook(grids):\n",
    "    model = xgboost.train(\n",
    "        param, \n",
    "        d_train, \n",
    "        num_boost_round=500, \n",
    "        evals=[(d_train, 'train'), (d_valid, 'valid')], \n",
    "        early_stopping_rounds=10,\n",
    "        verbose_eval=False\n",
    "    )\n",
    "    MAPE = mean_absolute_percentage_error(np.squeeze(y_val.values), model.predict(d_valid))\n",
    "    if MAPE < min_MAPE:\n",
    "        min_MAPE = deepcopy(MAPE)\n",
    "        best_param = deepcopy(param)\n",
    "        xgb = deepcopy(model)\n",
    "min_MAPE\n",
    "best_param\n",
    "evaluator(xgb, x_test, le, isXGB=True)"
   ]
  },
  {
   "cell_type": "code",
   "execution_count": null,
   "metadata": {},
   "outputs": [],
   "source": [
    "# xgboost.plot_importance(xgb, height=0.3)"
   ]
  },
  {
   "cell_type": "markdown",
   "metadata": {},
   "source": [
    "# KNeighbors"
   ]
  },
  {
   "cell_type": "code",
   "execution_count": 45,
   "metadata": {},
   "outputs": [
    {
     "data": {
      "application/vnd.jupyter.widget-view+json": {
       "model_id": "4d671d87a26142808dea053e74a8a554",
       "version_major": 2,
       "version_minor": 0
      },
      "text/html": [
       "<p>Failed to display Jupyter Widget of type <code>HBox</code>.</p>\n",
       "<p>\n",
       "  If you're reading this message in the Jupyter Notebook or JupyterLab Notebook, it may mean\n",
       "  that the widgets JavaScript is still loading. If this message persists, it\n",
       "  likely means that the widgets JavaScript library is either not installed or\n",
       "  not enabled. See the <a href=\"https://ipywidgets.readthedocs.io/en/stable/user_install.html\">Jupyter\n",
       "  Widgets Documentation</a> for setup instructions.\n",
       "</p>\n",
       "<p>\n",
       "  If you're reading this message in another frontend (for example, a static\n",
       "  rendering on GitHub or <a href=\"https://nbviewer.jupyter.org/\">NBViewer</a>),\n",
       "  it may mean that your frontend doesn't currently support widgets.\n",
       "</p>\n"
      ],
      "text/plain": [
       "HBox(children=(IntProgress(value=0, max=32), HTML(value='')))"
      ]
     },
     "metadata": {},
     "output_type": "display_data"
    },
    {
     "name": "stdout",
     "output_type": "stream",
     "text": [
      "\n"
     ]
    },
    {
     "data": {
      "text/plain": [
       "1.2867981870628489"
      ]
     },
     "execution_count": 45,
     "metadata": {},
     "output_type": "execute_result"
    },
    {
     "data": {
      "text/plain": [
       "{'algorithm': 'brute', 'n_jobs': -1, 'n_neighbors': 1}"
      ]
     },
     "execution_count": 45,
     "metadata": {},
     "output_type": "execute_result"
    },
    {
     "data": {
      "text/plain": [
       "KNeighborsRegressor(algorithm='brute', leaf_size=30, metric='minkowski',\n",
       "          metric_params=None, n_jobs=-1, n_neighbors=1, p=2,\n",
       "          weights='uniform')"
      ]
     },
     "execution_count": 45,
     "metadata": {},
     "output_type": "execute_result"
    },
    {
     "name": "stdout",
     "output_type": "stream",
     "text": [
      "BANPU \tRMSE: 0.38\t MAE: 0.24 \tMAPE: 1.40 \tDA: 0.64\n",
      "IRPC \tRMSE: 0.13\t MAE: 0.09 \tMAPE: 1.46 \tDA: 0.55\n",
      "PTT \tRMSE: 2.89\t MAE: 1.38 \tMAPE: 0.36 \tDA: 0.77\n",
      "BBL \tRMSE: 1.92\t MAE: 1.30 \tMAPE: 0.71 \tDA: 0.59\n",
      "KBANK \tRMSE: 2.68\t MAE: 1.87 \tMAPE: 0.95 \tDA: 0.59\n",
      "SCB \tRMSE: 1.48\t MAE: 0.87 \tMAPE: 0.57 \tDA: 0.76\n",
      "AOT \tRMSE: 1.34\t MAE: 0.82 \tMAPE: 1.64 \tDA: 0.73\n",
      "THAI \tRMSE: 0.66\t MAE: 0.46 \tMAPE: 2.44 \tDA: 0.56\n",
      "CPF \tRMSE: 0.40\t MAE: 0.30 \tMAPE: 1.16 \tDA: 0.55\n",
      "MINT \tRMSE: 0.82\t MAE: 0.59 \tMAPE: 1.47 \tDA: 0.60\n",
      "TU \tRMSE: 0.35\t MAE: 0.23 \tMAPE: 1.23 \tDA: 0.58\n",
      "SCC \tRMSE: 5.97\t MAE: 4.25 \tMAPE: 0.84 \tDA: 0.65\n",
      "CPN \tRMSE: 1.13\t MAE: 0.82 \tMAPE: 1.17 \tDA: 0.62\n",
      "CK \tRMSE: 0.48\t MAE: 0.33 \tMAPE: 1.18 \tDA: 0.56\n",
      "CPALL \tRMSE: 0.78\t MAE: 0.53 \tMAPE: 0.86 \tDA: 0.57\n",
      "HMPRO \tRMSE: 0.20\t MAE: 0.13 \tMAPE: 1.21 \tDA: 0.59\n",
      "BDMS \tRMSE: 0.30\t MAE: 0.20 \tMAPE: 1.01 \tDA: 0.64\n",
      "BH \tRMSE: 3.54\t MAE: 2.42 \tMAPE: 1.25 \tDA: 0.50\n",
      "ADVANC \tRMSE: 2.14\t MAE: 1.24 \tMAPE: 0.69 \tDA: 0.68\n",
      "JAS \tRMSE: 0.20\t MAE: 0.14 \tMAPE: 1.66 \tDA: 0.63\n",
      "TRUE \tRMSE: 0.18\t MAE: 0.11 \tMAPE: 1.85 \tDA: 0.61\n",
      "\n",
      "mean RMSE: 1.33\n",
      "mean MAE: 0.87\n",
      "mean MAPE: 1.2\n",
      "mean DA: 0.6177\n"
     ]
    }
   ],
   "source": [
    "grids = sklearn.grid_search.ParameterGrid({\n",
    "    'algorithm': ['auto', 'ball_tree', 'kd_tree', 'brute'],\n",
    "    'n_neighbors': [1,3,5,7,9,11,13,15],\n",
    "    'n_jobs':[-1]\n",
    "})\n",
    "\n",
    "min_MAPE = 9999999\n",
    "best_param = {}\n",
    "knn = None\n",
    "for param in tqdm_notebook(grids):\n",
    "    model = sklearn.neighbors.KNeighborsRegressor(**param)\n",
    "    _=model.fit(x_train, np.squeeze(y_train.values))\n",
    "    MAPE = mean_absolute_percentage_error(np.squeeze(y_val.values), model.predict(x_val))\n",
    "    if MAPE < min_MAPE:\n",
    "        min_MAPE = deepcopy(MAPE)\n",
    "        best_param = deepcopy(param)\n",
    "        knn = deepcopy(model)\n",
    "min_MAPE\n",
    "best_param\n",
    "knn\n",
    "evaluator(knn, x_test, le)"
   ]
  },
  {
   "cell_type": "markdown",
   "metadata": {},
   "source": [
    "# Bayesian Ridge"
   ]
  },
  {
   "cell_type": "code",
   "execution_count": 46,
   "metadata": {},
   "outputs": [
    {
     "data": {
      "application/vnd.jupyter.widget-view+json": {
       "model_id": "b48a0e14b8424390ad4d03e8b39053b7",
       "version_major": 2,
       "version_minor": 0
      },
      "text/html": [
       "<p>Failed to display Jupyter Widget of type <code>HBox</code>.</p>\n",
       "<p>\n",
       "  If you're reading this message in the Jupyter Notebook or JupyterLab Notebook, it may mean\n",
       "  that the widgets JavaScript is still loading. If this message persists, it\n",
       "  likely means that the widgets JavaScript library is either not installed or\n",
       "  not enabled. See the <a href=\"https://ipywidgets.readthedocs.io/en/stable/user_install.html\">Jupyter\n",
       "  Widgets Documentation</a> for setup instructions.\n",
       "</p>\n",
       "<p>\n",
       "  If you're reading this message in another frontend (for example, a static\n",
       "  rendering on GitHub or <a href=\"https://nbviewer.jupyter.org/\">NBViewer</a>),\n",
       "  it may mean that your frontend doesn't currently support widgets.\n",
       "</p>\n"
      ],
      "text/plain": [
       "HBox(children=(IntProgress(value=0, max=3), HTML(value='')))"
      ]
     },
     "metadata": {},
     "output_type": "display_data"
    },
    {
     "name": "stdout",
     "output_type": "stream",
     "text": [
      "\n"
     ]
    },
    {
     "data": {
      "text/plain": [
       "1.0640612328514238"
      ]
     },
     "execution_count": 46,
     "metadata": {},
     "output_type": "execute_result"
    },
    {
     "data": {
      "text/plain": [
       "{'n_iter': 100}"
      ]
     },
     "execution_count": 46,
     "metadata": {},
     "output_type": "execute_result"
    },
    {
     "data": {
      "text/plain": [
       "BayesianRidge(alpha_1=1e-06, alpha_2=1e-06, compute_score=False, copy_X=True,\n",
       "       fit_intercept=True, lambda_1=1e-06, lambda_2=1e-06, n_iter=100,\n",
       "       normalize=False, tol=0.001, verbose=False)"
      ]
     },
     "execution_count": 46,
     "metadata": {},
     "output_type": "execute_result"
    },
    {
     "name": "stdout",
     "output_type": "stream",
     "text": [
      "BANPU \tRMSE: 0.22\t MAE: 0.16 \tMAPE: 0.92 \tDA: 0.42\n",
      "IRPC \tRMSE: 0.09\t MAE: 0.07 \tMAPE: 1.19 \tDA: 0.69\n",
      "PTT \tRMSE: 2.68\t MAE: 1.96 \tMAPE: 0.51 \tDA: 0.44\n",
      "BBL \tRMSE: 1.36\t MAE: 1.11 \tMAPE: 0.60 \tDA: 0.32\n",
      "KBANK \tRMSE: 2.18\t MAE: 1.70 \tMAPE: 0.85 \tDA: 0.38\n",
      "SCB \tRMSE: 1.42\t MAE: 1.14 \tMAPE: 0.75 \tDA: 0.37\n",
      "AOT \tRMSE: 0.88\t MAE: 0.68 \tMAPE: 1.35 \tDA: 0.28\n",
      "THAI \tRMSE: 0.44\t MAE: 0.32 \tMAPE: 1.68 \tDA: 0.52\n",
      "CPF \tRMSE: 0.38\t MAE: 0.29 \tMAPE: 1.13 \tDA: 0.56\n",
      "MINT \tRMSE: 0.49\t MAE: 0.38 \tMAPE: 0.95 \tDA: 0.61\n",
      "TU \tRMSE: 0.28\t MAE: 0.21 \tMAPE: 1.09 \tDA: 0.57\n",
      "SCC \tRMSE: 4.36\t MAE: 3.52 \tMAPE: 0.70 \tDA: 0.48\n",
      "CPN \tRMSE: 1.02\t MAE: 0.78 \tMAPE: 1.09 \tDA: 0.42\n",
      "CK \tRMSE: 0.33\t MAE: 0.26 \tMAPE: 0.93 \tDA: 0.40\n",
      "CPALL \tRMSE: 0.47\t MAE: 0.32 \tMAPE: 0.51 \tDA: 0.31\n",
      "HMPRO \tRMSE: 0.17\t MAE: 0.12 \tMAPE: 1.07 \tDA: 0.66\n",
      "BDMS \tRMSE: 0.22\t MAE: 0.16 \tMAPE: 0.82 \tDA: 0.38\n",
      "BH \tRMSE: 2.79\t MAE: 1.81 \tMAPE: 0.91 \tDA: 0.30\n",
      "ADVANC \tRMSE: 1.87\t MAE: 1.40 \tMAPE: 0.77 \tDA: 0.42\n",
      "JAS \tRMSE: 0.12\t MAE: 0.10 \tMAPE: 1.19 \tDA: 0.52\n",
      "TRUE \tRMSE: 0.15\t MAE: 0.13 \tMAPE: 2.27 \tDA: 0.55\n",
      "\n",
      "mean RMSE: 1.04\n",
      "mean MAE: 0.79\n",
      "mean MAPE: 1.01\n",
      "mean DA: 0.4576\n"
     ]
    }
   ],
   "source": [
    "grids = sklearn.grid_search.ParameterGrid({\n",
    "    'n_iter':[100,300,600],\n",
    "})\n",
    "\n",
    "min_MAPE = 9999999\n",
    "best_param = {}\n",
    "bay = None\n",
    "for param in tqdm_notebook(grids):\n",
    "    model = sklearn.linear_model.BayesianRidge(**param)\n",
    "    _=model.fit(x_train, np.squeeze(y_train.values))\n",
    "    MAPE = mean_absolute_percentage_error(np.squeeze(y_val.values), model.predict(x_val))\n",
    "    if MAPE < min_MAPE:\n",
    "        min_MAPE = deepcopy(MAPE)\n",
    "        best_param = deepcopy(param)\n",
    "        bay = deepcopy(model)\n",
    "min_MAPE\n",
    "best_param\n",
    "bay\n",
    "evaluator(bay, x_test, le)"
   ]
  },
  {
   "cell_type": "markdown",
   "metadata": {},
   "source": [
    "# Stacking Ensemble"
   ]
  },
  {
   "cell_type": "code",
   "execution_count": 74,
   "metadata": {},
   "outputs": [
    {
     "data": {
      "text/plain": [
       "(2577, 7)"
      ]
     },
     "execution_count": 74,
     "metadata": {},
     "output_type": "execute_result"
    }
   ],
   "source": [
    "stack = np.concatenate((\n",
    "    dt.predict(x_val).reshape(-1,1),\n",
    "    rf.predict(x_val).reshape(-1,1),\n",
    "    ada.predict(x_val).reshape(-1,1),\n",
    "    gb.predict(x_val).reshape(-1,1),\n",
    "    xgb.predict(d_valid).reshape(-1,1),\n",
    "    knn.predict(x_val).reshape(-1,1),\n",
    "    bay.predict(x_val).reshape(-1,1),\n",
    "), axis=1)\n",
    "\n",
    "stack.shape"
   ]
  },
  {
   "cell_type": "code",
   "execution_count": 77,
   "metadata": {},
   "outputs": [
    {
     "data": {
      "text/plain": [
       "GridSearchCV(cv=None, error_score='raise',\n",
       "       estimator=GradientBoostingRegressor(alpha=0.9, criterion='friedman_mse', init=None,\n",
       "             learning_rate=0.1, loss='ls', max_depth=3, max_features=None,\n",
       "             max_leaf_nodes=None, min_impurity_decrease=0.0,\n",
       "             min_impurity_split=None, min_samples_leaf=1,\n",
       "             min_samples_split=2, min_weight_fraction_leaf=0.0,\n",
       "             n_estimators=100, presort='auto', random_state=None,\n",
       "             subsample=1.0, verbose=0, warm_start=False),\n",
       "       fit_params=None, iid=True, n_jobs=-1,\n",
       "       param_grid={'criterion': ['friedman_mse'], 'n_estimators': [50, 75, 100], 'max_depth': [10, 15, 20, 25], 'learning_rate': [0.1], 'random_state': [100], 'presort': [True, False]},\n",
       "       pre_dispatch='2*n_jobs', refit=True, return_train_score='warn',\n",
       "       scoring=None, verbose=0)"
      ]
     },
     "execution_count": 77,
     "metadata": {},
     "output_type": "execute_result"
    },
    {
     "data": {
      "text/plain": [
       "0.9918595068033216"
      ]
     },
     "execution_count": 77,
     "metadata": {},
     "output_type": "execute_result"
    },
    {
     "data": {
      "text/plain": [
       "{'criterion': 'friedman_mse',\n",
       " 'learning_rate': 0.1,\n",
       " 'max_depth': 10,\n",
       " 'n_estimators': 50,\n",
       " 'presort': False,\n",
       " 'random_state': 100}"
      ]
     },
     "execution_count": 77,
     "metadata": {},
     "output_type": "execute_result"
    }
   ],
   "source": [
    "params = {\n",
    "    'criterion':['friedman_mse'],\n",
    "    'n_estimators':[50,75,100],\n",
    "    'learning_rate':[0.1],\n",
    "    'max_depth':[10,15,20,25],\n",
    "    'random_state': [100],\n",
    "    'presort':[True, False]\n",
    "}\n",
    "\n",
    "grid = sklearn.model_selection.GridSearchCV(\n",
    "    ensemble.GradientBoostingRegressor(),\n",
    "    params,\n",
    "    n_jobs=-1\n",
    ")\n",
    "grid.fit(stack, np.squeeze(y_val.values))\n",
    "grid.best_score_\n",
    "grid.best_params_"
   ]
  },
  {
   "cell_type": "code",
   "execution_count": 78,
   "metadata": {},
   "outputs": [
    {
     "data": {
      "text/plain": [
       "GradientBoostingRegressor(alpha=0.9, criterion='friedman_mse', init=None,\n",
       "             learning_rate=0.1, loss='ls', max_depth=10, max_features=None,\n",
       "             max_leaf_nodes=None, min_impurity_decrease=0.0,\n",
       "             min_impurity_split=None, min_samples_leaf=1,\n",
       "             min_samples_split=2, min_weight_fraction_leaf=0.0,\n",
       "             n_estimators=50, presort=False, random_state=100,\n",
       "             subsample=1.0, verbose=0, warm_start=False)"
      ]
     },
     "execution_count": 78,
     "metadata": {},
     "output_type": "execute_result"
    }
   ],
   "source": [
    "gb_stack = ensemble.GradientBoostingRegressor(**grid.best_params_)\n",
    "gb_stack.fit(stack, np.squeeze(y_val.values))"
   ]
  },
  {
   "cell_type": "code",
   "execution_count": 79,
   "metadata": {},
   "outputs": [],
   "source": [
    "models = ['dt', 'rf', 'ada', 'gb', 'xgb', 'knn', 'bay']"
   ]
  },
  {
   "cell_type": "code",
   "execution_count": 80,
   "metadata": {},
   "outputs": [
    {
     "name": "stdout",
     "output_type": "stream",
     "text": [
      "0.0797 dt\n",
      "0.1311 rf\n",
      "0.1108 ada\n",
      "0.1613 gb\n",
      "0.1014 xgb\n",
      "0.2145 knn\n",
      "0.2011 bay\n"
     ]
    }
   ],
   "source": [
    "for model, weight in zip(models, gb_stack.feature_importances_):\n",
    "    print(round(weight,4), model)"
   ]
  },
  {
   "cell_type": "code",
   "execution_count": null,
   "metadata": {},
   "outputs": [],
   "source": []
  },
  {
   "cell_type": "code",
   "execution_count": null,
   "metadata": {},
   "outputs": [],
   "source": []
  },
  {
   "cell_type": "code",
   "execution_count": null,
   "metadata": {},
   "outputs": [],
   "source": []
  },
  {
   "cell_type": "code",
   "execution_count": null,
   "metadata": {},
   "outputs": [],
   "source": []
  },
  {
   "cell_type": "markdown",
   "metadata": {},
   "source": [
    "# LSTM"
   ]
  },
  {
   "cell_type": "code",
   "execution_count": null,
   "metadata": {},
   "outputs": [],
   "source": [
    "# from keras.models import Sequential\n",
    "# from keras.layers import Dense, Dropout, LSTM"
   ]
  },
  {
   "cell_type": "code",
   "execution_count": null,
   "metadata": {},
   "outputs": [],
   "source": [
    "# train_X = x_train.values\n",
    "# val_X = x_valid.values\n",
    "# # test_X = x_test.values\n",
    "\n",
    "# train_y = y_train.values\n",
    "# val_y = y_valid.values\n",
    "# # test_y = y_test.values\n",
    "\n",
    "# train_X = train_X.reshape(train_X.shape[0], train_X.shape[1], 1)\n",
    "# val_X = val_X.reshape(val_X.shape[0], val_X.shape[1], 1)\n",
    "# # test_X = test_X.reshape((test_X.shape[0], 1, test_X.shape[1]))\n",
    "\n",
    "# print(train_X.shape, train_y.shape)\n",
    "# print(val_X.shape, val_y.shape)\n",
    "# # print(test_X.shape, test_y.shape)"
   ]
  },
  {
   "cell_type": "code",
   "execution_count": null,
   "metadata": {},
   "outputs": [],
   "source": [
    "# model = Sequential()\n",
    "# model.add(LSTM(64, return_sequences=True, input_shape=(train_X.shape[1], 1)))\n",
    "# model.add(Dropout(0.3))\n",
    "# model.add(LSTM(128, return_sequences=True))\n",
    "# model.add(Dropout(0.3))\n",
    "# model.add(LSTM(256, return_sequences=True))\n",
    "# model.add(Dropout(0.3))\n",
    "# model.add(LSTM(256, return_sequences=True))\n",
    "# # model.add(Dropout(0.4))\n",
    "# model.add(LSTM(128))\n",
    "# model.add(Dense(1))\n",
    "# model.compile(loss='mean_absolute_error', optimizer='adam')"
   ]
  },
  {
   "cell_type": "code",
   "execution_count": null,
   "metadata": {},
   "outputs": [],
   "source": [
    "# from keras.callbacks import ModelCheckpoint, TensorBoard, EarlyStopping\n",
    "\n",
    "# checkpoint = ModelCheckpoint(filepath=\"model/LSTM.h5\", \n",
    "#                              monitor='val_loss', \n",
    "#                              verbose=1, \n",
    "#                              save_best_only=True, \n",
    "#                              save_weights_only=False, \n",
    "#                              mode='auto', \n",
    "#                              period=1\n",
    "#                             )\n",
    "\n",
    "# earlystopping = EarlyStopping(monitor='val_loss', \n",
    "#                       min_delta=0, \n",
    "#                       patience=100,\n",
    "#                       verbose=1, \n",
    "#                       mode='auto')\n",
    "\n",
    "# # access via $ tensorboard --logdir=./logs\n",
    "# tensorboard = TensorBoard(log_dir='./logs')"
   ]
  },
  {
   "cell_type": "code",
   "execution_count": null,
   "metadata": {
    "scrolled": false
   },
   "outputs": [],
   "source": [
    "# model.fit(x=train_X, \n",
    "#           y=train_y,\n",
    "#           epochs=1000,\n",
    "#           batch_size=32,\n",
    "#           validation_data=(val_X, val_y),\n",
    "#           verbose=1,\n",
    "#           shuffle=False,\n",
    "#           callbacks=[checkpoint, earlystopping, tensorboard]\n",
    "#          )"
   ]
  },
  {
   "cell_type": "code",
   "execution_count": null,
   "metadata": {},
   "outputs": [],
   "source": [
    "# evaluator(model, x_test, le, isLSTM=True)"
   ]
  },
  {
   "cell_type": "code",
   "execution_count": null,
   "metadata": {},
   "outputs": [],
   "source": [
    "# from keras.layers import Bidirectional"
   ]
  },
  {
   "cell_type": "code",
   "execution_count": null,
   "metadata": {},
   "outputs": [],
   "source": [
    "# model = Sequential()\n",
    "# model.add(Bidirectional(LSTM(128, return_sequences=True), input_shape=(2, train_X.shape[2])))\n",
    "# model.add(Dropout(0.2))\n",
    "# model.add(Bidirectional(LSTM(128, return_sequences=True)))\n",
    "# model.add(Dropout(0.3))\n",
    "# model.add(Bidirectional(LSTM(128, return_sequences=True)))\n",
    "# model.add(Dropout(0.4))\n",
    "# model.add(Bidirectional(LSTM(128)))\n",
    "# model.add(Dense(1))\n",
    "# model.compile(loss='mean_absolute_error', optimizer='adam')"
   ]
  },
  {
   "cell_type": "code",
   "execution_count": null,
   "metadata": {},
   "outputs": [],
   "source": [
    "# model.fit(x=train_X, \n",
    "#           y=train_y,\n",
    "#           epochs=10000,\n",
    "#           batch_size=1024,\n",
    "#           validation_data=(val_X, val_y),\n",
    "#           verbose=1,\n",
    "#           shuffle=False,\n",
    "#           callbacks=[checkpoint, earlystopping, tensorboard]\n",
    "#          )"
   ]
  },
  {
   "cell_type": "code",
   "execution_count": null,
   "metadata": {},
   "outputs": [],
   "source": [
    "# evaluator(model, x_test, le, isLSTM=True)"
   ]
  },
  {
   "cell_type": "code",
   "execution_count": null,
   "metadata": {},
   "outputs": [],
   "source": [
    "# data_dim = 16\n",
    "# timesteps = 8\n",
    "# num_classes = 10\n",
    "# np.random.random((10, timesteps, data_dim)).shape"
   ]
  },
  {
   "cell_type": "code",
   "execution_count": null,
   "metadata": {},
   "outputs": [],
   "source": [
    "# train_X = x_train.values\n",
    "# val_X = x_valid.values\n",
    "# train_X.shape\n",
    "\n",
    "# train_X = train_X.reshape(train_X.shape[0], train_X.shape[1], 1)\n",
    "# train_X.shape"
   ]
  }
 ],
 "metadata": {
  "kernelspec": {
   "display_name": "Python 3",
   "language": "python",
   "name": "python3"
  },
  "language_info": {
   "codemirror_mode": {
    "name": "ipython",
    "version": 3
   },
   "file_extension": ".py",
   "mimetype": "text/x-python",
   "name": "python",
   "nbconvert_exporter": "python",
   "pygments_lexer": "ipython3",
   "version": "3.5.2"
  }
 },
 "nbformat": 4,
 "nbformat_minor": 2
}
