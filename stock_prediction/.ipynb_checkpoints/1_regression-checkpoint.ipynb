{
 "cells": [
  {
   "cell_type": "code",
   "execution_count": 1,
   "metadata": {},
   "outputs": [
    {
     "data": {
      "text/html": [
       "<style>.container { width:100% !important; }</style>"
      ],
      "text/plain": [
       "<IPython.core.display.HTML object>"
      ]
     },
     "metadata": {},
     "output_type": "display_data"
    },
    {
     "data": {
      "text/html": [
       "<script>requirejs.config({paths: { 'plotly': ['https://cdn.plot.ly/plotly-latest.min']},});if(!window.Plotly) {{require(['plotly'],function(plotly) {window.Plotly=plotly;});}}</script>"
      ],
      "text/vnd.plotly.v1+html": [
       "<script>requirejs.config({paths: { 'plotly': ['https://cdn.plot.ly/plotly-latest.min']},});if(!window.Plotly) {{require(['plotly'],function(plotly) {window.Plotly=plotly;});}}</script>"
      ]
     },
     "metadata": {},
     "output_type": "display_data"
    }
   ],
   "source": [
    "from IPython.core.display import display, HTML\n",
    "display(HTML(\"<style>.container { width:100% !important; }</style>\"))\n",
    "\n",
    "from talib.abstract import *\n",
    "import pandas as pd\n",
    "import os\n",
    "import numpy as np\n",
    "\n",
    "from pythainlp.corpus import stopwords\n",
    "from sklearn.feature_extraction.text import TfidfVectorizer\n",
    "from sklearn.linear_model import LinearRegression\n",
    "from sklearn.metrics import mean_squared_error, mean_absolute_error, accuracy_score\n",
    "from sklearn import preprocessing\n",
    "\n",
    "from plotly.offline import download_plotlyjs, init_notebook_mode, plot, iplot\n",
    "init_notebook_mode(connected=True)\n",
    "\n",
    "from jupyterthemes import jtplot\n",
    "jtplot.style()\n",
    "\n",
    "import plotly.graph_objs as go\n",
    "from datetime import datetime, timedelta\n",
    "from tqdm import tqdm_notebook\n",
    "import matplotlib.pyplot as plt\n",
    "% matplotlib inline\n",
    "\n",
    "target_stocks = ['BANPU','IRPC','PTT','BBL','KBANK','SCB','AOT','THAI','CPF','MINT',\n",
    "                 'TU','SCC','CPN','CK','CPALL','HMPRO','BDMS','BH','ADVANC','JAS','TRUE']"
   ]
  },
  {
   "cell_type": "code",
   "execution_count": 2,
   "metadata": {},
   "outputs": [
    {
     "data": {
      "text/html": [
       "<div>\n",
       "<style>\n",
       "    .dataframe thead tr:only-child th {\n",
       "        text-align: right;\n",
       "    }\n",
       "\n",
       "    .dataframe thead th {\n",
       "        text-align: left;\n",
       "    }\n",
       "\n",
       "    .dataframe tbody tr th {\n",
       "        vertical-align: top;\n",
       "    }\n",
       "</style>\n",
       "<table border=\"1\" class=\"dataframe\">\n",
       "  <thead>\n",
       "    <tr style=\"text-align: right;\">\n",
       "      <th></th>\n",
       "      <th>Ticker</th>\n",
       "      <th>Open</th>\n",
       "      <th>High</th>\n",
       "      <th>Low</th>\n",
       "      <th>Close</th>\n",
       "      <th>Volume</th>\n",
       "    </tr>\n",
       "    <tr>\n",
       "      <th>Date</th>\n",
       "      <th></th>\n",
       "      <th></th>\n",
       "      <th></th>\n",
       "      <th></th>\n",
       "      <th></th>\n",
       "      <th></th>\n",
       "    </tr>\n",
       "  </thead>\n",
       "  <tbody>\n",
       "    <tr>\n",
       "      <th>2014-01-02</th>\n",
       "      <td>ADVANC</td>\n",
       "      <td>198.0</td>\n",
       "      <td>198.50</td>\n",
       "      <td>187.0</td>\n",
       "      <td>187.0</td>\n",
       "      <td>12694200</td>\n",
       "    </tr>\n",
       "    <tr>\n",
       "      <th>2014-01-02</th>\n",
       "      <td>AOT</td>\n",
       "      <td>160.5</td>\n",
       "      <td>160.50</td>\n",
       "      <td>146.5</td>\n",
       "      <td>146.5</td>\n",
       "      <td>6963700</td>\n",
       "    </tr>\n",
       "    <tr>\n",
       "      <th>2014-01-02</th>\n",
       "      <td>BANPU</td>\n",
       "      <td>30.0</td>\n",
       "      <td>30.25</td>\n",
       "      <td>28.0</td>\n",
       "      <td>28.0</td>\n",
       "      <td>13054500</td>\n",
       "    </tr>\n",
       "  </tbody>\n",
       "</table>\n",
       "</div>"
      ],
      "text/plain": [
       "            Ticker   Open    High    Low  Close    Volume\n",
       "Date                                                     \n",
       "2014-01-02  ADVANC  198.0  198.50  187.0  187.0  12694200\n",
       "2014-01-02     AOT  160.5  160.50  146.5  146.5   6963700\n",
       "2014-01-02   BANPU   30.0   30.25   28.0   28.0  13054500"
      ]
     },
     "execution_count": 2,
     "metadata": {},
     "output_type": "execute_result"
    },
    {
     "data": {
      "text/plain": [
       "20494"
      ]
     },
     "execution_count": 2,
     "metadata": {},
     "output_type": "execute_result"
    }
   ],
   "source": [
    "df_price = pd.read_csv('merged_2014_2017.csv')\n",
    "df_price['Date'] = pd.to_datetime(df_price['Date'], format='%Y-%m-%d')\n",
    "df_price = df_price.loc[df_price['Ticker'].isin(target_stocks)]\n",
    "df_price['Date'] = df_price['Date'].dt.date\n",
    "df_price = df_price.set_index('Date')\n",
    "df_price.head(3)\n",
    "len(df_price)"
   ]
  },
  {
   "cell_type": "code",
   "execution_count": 86,
   "metadata": {
    "collapsed": true
   },
   "outputs": [],
   "source": [
    "def lag_construction(data, t_in=3, t_out=1):\n",
    "    n_vars = 1 if type(data) is list else data.shape[1]\n",
    "    df = pd.DataFrame(data)\n",
    "    cols, names = list(), list()\n",
    "    \n",
    "    for i in range(t_in-1, 0, -1): # input sequence (t-n, ... t-1)\n",
    "        cols.append(df.shift(i))\n",
    "        names += [('v%d(t-%d)' % (j+1, i)) for j in range(n_vars)]    \n",
    "    \n",
    "    for i in range(0, t_out+1): # forecast sequence (t, t+1, ... t+n)\n",
    "        cols.append(df.shift(-i))\n",
    "        if i == 0: names += [('v%d(t)' % (j+1)) for j in range(n_vars)]\n",
    "        else: names += [('v%d(t+%d)' % (j+1, i)) for j in range(n_vars)]\n",
    "\n",
    "    conbined = pd.concat(cols, axis=1) # put it all together\n",
    "    conbined.columns = names\n",
    "    \n",
    "    conbined.dropna(inplace = True)\n",
    "    \n",
    "    return conbined"
   ]
  },
  {
   "cell_type": "markdown",
   "metadata": {},
   "source": [
    "# Lag & Horizon Construction"
   ]
  },
  {
   "cell_type": "markdown",
   "metadata": {},
   "source": [
    "## Merge duplication Date Index"
   ]
  },
  {
   "cell_type": "code",
   "execution_count": 87,
   "metadata": {
    "scrolled": true
   },
   "outputs": [
    {
     "data": {
      "application/vnd.jupyter.widget-view+json": {
       "model_id": "4dc3d00a85e14980b4de56f90800cdb6"
      }
     },
     "metadata": {},
     "output_type": "display_data"
    },
    {
     "name": "stdout",
     "output_type": "stream",
     "text": [
      "BANPU :\t 778 195\n",
      "IRPC :\t 778 195\n",
      "PTT :\t 778 195\n",
      "BBL :\t 778 195\n",
      "KBANK :\t 778 195\n",
      "SCB :\t 778 195\n",
      "AOT :\t 778 195\n",
      "THAI :\t 778 195\n",
      "CPF :\t 778 195\n",
      "MINT :\t 778 195\n",
      "TU :\t 778 195\n",
      "SCC :\t 778 195\n",
      "CPN :\t 778 195\n",
      "CK :\t 778 195\n",
      "CPALL :\t 778 195\n",
      "HMPRO :\t 778 195\n",
      "BDMS :\t 778 195\n",
      "BH :\t 778 195\n",
      "ADVANC :\t 778 195\n",
      "JAS :\t 776 195\n",
      "TRUE :\t 778 195\n",
      "\n"
     ]
    },
    {
     "data": {
      "text/plain": [
       "(16336, 4095)"
      ]
     },
     "execution_count": 87,
     "metadata": {},
     "output_type": "execute_result"
    },
    {
     "data": {
      "text/html": [
       "<div>\n",
       "<style>\n",
       "    .dataframe thead tr:only-child th {\n",
       "        text-align: right;\n",
       "    }\n",
       "\n",
       "    .dataframe thead th {\n",
       "        text-align: left;\n",
       "    }\n",
       "\n",
       "    .dataframe tbody tr th {\n",
       "        vertical-align: top;\n",
       "    }\n",
       "</style>\n",
       "<table border=\"1\" class=\"dataframe\">\n",
       "  <thead>\n",
       "    <tr style=\"text-align: right;\">\n",
       "      <th></th>\n",
       "      <th>v2(t-2)</th>\n",
       "      <th>v3(t-2)</th>\n",
       "      <th>v4(t-2)</th>\n",
       "      <th>v5(t-2)</th>\n",
       "      <th>v6(t-2)</th>\n",
       "      <th>v2(t-1)</th>\n",
       "      <th>v3(t-1)</th>\n",
       "      <th>v4(t-1)</th>\n",
       "      <th>v5(t-1)</th>\n",
       "      <th>v6(t-1)</th>\n",
       "      <th>v1(t)</th>\n",
       "      <th>v2(t)</th>\n",
       "      <th>v3(t)</th>\n",
       "      <th>v4(t)</th>\n",
       "      <th>v5(t)</th>\n",
       "      <th>v6(t)</th>\n",
       "      <th>v5(t+1)</th>\n",
       "    </tr>\n",
       "    <tr>\n",
       "      <th>Date</th>\n",
       "      <th></th>\n",
       "      <th></th>\n",
       "      <th></th>\n",
       "      <th></th>\n",
       "      <th></th>\n",
       "      <th></th>\n",
       "      <th></th>\n",
       "      <th></th>\n",
       "      <th></th>\n",
       "      <th></th>\n",
       "      <th></th>\n",
       "      <th></th>\n",
       "      <th></th>\n",
       "      <th></th>\n",
       "      <th></th>\n",
       "      <th></th>\n",
       "      <th></th>\n",
       "    </tr>\n",
       "  </thead>\n",
       "  <tbody>\n",
       "    <tr>\n",
       "      <th>2014-01-06</th>\n",
       "      <td>30.0</td>\n",
       "      <td>30.25</td>\n",
       "      <td>28.0</td>\n",
       "      <td>28.0</td>\n",
       "      <td>13054500.0</td>\n",
       "      <td>27.5</td>\n",
       "      <td>28.25</td>\n",
       "      <td>26.5</td>\n",
       "      <td>26.5</td>\n",
       "      <td>27140500.0</td>\n",
       "      <td>BANPU</td>\n",
       "      <td>26.0</td>\n",
       "      <td>26.25</td>\n",
       "      <td>24.8</td>\n",
       "      <td>25.25</td>\n",
       "      <td>33017900</td>\n",
       "      <td>26.0</td>\n",
       "    </tr>\n",
       "  </tbody>\n",
       "</table>\n",
       "</div>"
      ],
      "text/plain": [
       "            v2(t-2)  v3(t-2)  v4(t-2)  v5(t-2)     v6(t-2)  v2(t-1)  v3(t-1)  \\\n",
       "Date                                                                           \n",
       "2014-01-06     30.0    30.25     28.0     28.0  13054500.0     27.5    28.25   \n",
       "\n",
       "            v4(t-1)  v5(t-1)     v6(t-1)  v1(t)  v2(t)  v3(t)  v4(t)  v5(t)  \\\n",
       "Date                                                                          \n",
       "2014-01-06     26.5     26.5  27140500.0  BANPU   26.0  26.25   24.8  25.25   \n",
       "\n",
       "               v6(t)  v5(t+1)  \n",
       "Date                           \n",
       "2014-01-06  33017900     26.0  "
      ]
     },
     "execution_count": 87,
     "metadata": {},
     "output_type": "execute_result"
    },
    {
     "data": {
      "text/html": [
       "<div>\n",
       "<style>\n",
       "    .dataframe thead tr:only-child th {\n",
       "        text-align: right;\n",
       "    }\n",
       "\n",
       "    .dataframe thead th {\n",
       "        text-align: left;\n",
       "    }\n",
       "\n",
       "    .dataframe tbody tr th {\n",
       "        vertical-align: top;\n",
       "    }\n",
       "</style>\n",
       "<table border=\"1\" class=\"dataframe\">\n",
       "  <thead>\n",
       "    <tr style=\"text-align: right;\">\n",
       "      <th></th>\n",
       "      <th>v2(t-2)</th>\n",
       "      <th>v3(t-2)</th>\n",
       "      <th>v4(t-2)</th>\n",
       "      <th>v5(t-2)</th>\n",
       "      <th>v6(t-2)</th>\n",
       "      <th>v2(t-1)</th>\n",
       "      <th>v3(t-1)</th>\n",
       "      <th>v4(t-1)</th>\n",
       "      <th>v5(t-1)</th>\n",
       "      <th>v6(t-1)</th>\n",
       "      <th>v1(t)</th>\n",
       "      <th>v2(t)</th>\n",
       "      <th>v3(t)</th>\n",
       "      <th>v4(t)</th>\n",
       "      <th>v5(t)</th>\n",
       "      <th>v6(t)</th>\n",
       "      <th>v5(t+1)</th>\n",
       "    </tr>\n",
       "    <tr>\n",
       "      <th>Date</th>\n",
       "      <th></th>\n",
       "      <th></th>\n",
       "      <th></th>\n",
       "      <th></th>\n",
       "      <th></th>\n",
       "      <th></th>\n",
       "      <th></th>\n",
       "      <th></th>\n",
       "      <th></th>\n",
       "      <th></th>\n",
       "      <th></th>\n",
       "      <th></th>\n",
       "      <th></th>\n",
       "      <th></th>\n",
       "      <th></th>\n",
       "      <th></th>\n",
       "      <th></th>\n",
       "    </tr>\n",
       "  </thead>\n",
       "  <tbody>\n",
       "    <tr>\n",
       "      <th>2017-03-14</th>\n",
       "      <td>19.5</td>\n",
       "      <td>19.6</td>\n",
       "      <td>18.9</td>\n",
       "      <td>19.0</td>\n",
       "      <td>55888700.0</td>\n",
       "      <td>19.0</td>\n",
       "      <td>19.1</td>\n",
       "      <td>18.8</td>\n",
       "      <td>18.8</td>\n",
       "      <td>37337600.0</td>\n",
       "      <td>BANPU</td>\n",
       "      <td>18.8</td>\n",
       "      <td>19.4</td>\n",
       "      <td>18.8</td>\n",
       "      <td>19.2</td>\n",
       "      <td>56535000</td>\n",
       "      <td>19.1</td>\n",
       "    </tr>\n",
       "  </tbody>\n",
       "</table>\n",
       "</div>"
      ],
      "text/plain": [
       "            v2(t-2)  v3(t-2)  v4(t-2)  v5(t-2)     v6(t-2)  v2(t-1)  v3(t-1)  \\\n",
       "Date                                                                           \n",
       "2017-03-14     19.5     19.6     18.9     19.0  55888700.0     19.0     19.1   \n",
       "\n",
       "            v4(t-1)  v5(t-1)     v6(t-1)  v1(t)  v2(t)  v3(t)  v4(t)  v5(t)  \\\n",
       "Date                                                                          \n",
       "2017-03-14     18.8     18.8  37337600.0  BANPU   18.8   19.4   18.8   19.2   \n",
       "\n",
       "               v6(t)  v5(t+1)  \n",
       "Date                           \n",
       "2017-03-14  56535000     19.1  "
      ]
     },
     "execution_count": 87,
     "metadata": {},
     "output_type": "execute_result"
    }
   ],
   "source": [
    "df_train = []\n",
    "df_test = []\n",
    "for stock in tqdm_notebook(target_stocks):\n",
    "    news_stocks = []\n",
    "    df_stock = df_price.loc[df_price['Ticker'] == stock]\n",
    "\n",
    "    df_stock = lag_construction(df_stock)\n",
    "    \n",
    "    \n",
    "    df_stock = df_stock.drop([ # 'v1(t-4)',\n",
    "                               # 'v1(t-3)',\n",
    "                                'v1(t-2)',\n",
    "                                'v1(t-1)',\n",
    "                                'v1(t+1)','v2(t+1)','v3(t+1)','v4(t+1)','v6(t+1)',\n",
    "                               ],axis=1)\n",
    "    \n",
    "    \n",
    "    train_size = int(len(df_stock) * 0.80)\n",
    "    test_size = len(df_stock) - train_size\n",
    "    train, test = df_stock.iloc[:train_size], df_stock.iloc[train_size:]\n",
    "    print(stock, ':\\t',len(train), len(test))    \n",
    "    df_train.append(train)\n",
    "    df_test.append(test)\n",
    "\n",
    "df_train = pd.concat(df_train, axis=0)\n",
    "df_test = pd.concat(df_test, axis=0)\n",
    "\n",
    "len(df_train), len(df_test) \n",
    "df_train.head(1)\n",
    "df_test.head(1)"
   ]
  },
  {
   "cell_type": "markdown",
   "metadata": {},
   "source": [
    "# Label Encoding"
   ]
  },
  {
   "cell_type": "code",
   "execution_count": 88,
   "metadata": {},
   "outputs": [
    {
     "data": {
      "text/html": [
       "<div>\n",
       "<style>\n",
       "    .dataframe thead tr:only-child th {\n",
       "        text-align: right;\n",
       "    }\n",
       "\n",
       "    .dataframe thead th {\n",
       "        text-align: left;\n",
       "    }\n",
       "\n",
       "    .dataframe tbody tr th {\n",
       "        vertical-align: top;\n",
       "    }\n",
       "</style>\n",
       "<table border=\"1\" class=\"dataframe\">\n",
       "  <thead>\n",
       "    <tr style=\"text-align: right;\">\n",
       "      <th></th>\n",
       "      <th>v2(t-2)</th>\n",
       "      <th>v3(t-2)</th>\n",
       "      <th>v4(t-2)</th>\n",
       "      <th>v5(t-2)</th>\n",
       "      <th>v6(t-2)</th>\n",
       "      <th>v2(t-1)</th>\n",
       "      <th>v3(t-1)</th>\n",
       "      <th>v4(t-1)</th>\n",
       "      <th>v5(t-1)</th>\n",
       "      <th>v6(t-1)</th>\n",
       "      <th>v1(t)</th>\n",
       "      <th>v2(t)</th>\n",
       "      <th>v3(t)</th>\n",
       "      <th>v4(t)</th>\n",
       "      <th>v5(t)</th>\n",
       "      <th>v6(t)</th>\n",
       "      <th>v5(t+1)</th>\n",
       "    </tr>\n",
       "    <tr>\n",
       "      <th>Date</th>\n",
       "      <th></th>\n",
       "      <th></th>\n",
       "      <th></th>\n",
       "      <th></th>\n",
       "      <th></th>\n",
       "      <th></th>\n",
       "      <th></th>\n",
       "      <th></th>\n",
       "      <th></th>\n",
       "      <th></th>\n",
       "      <th></th>\n",
       "      <th></th>\n",
       "      <th></th>\n",
       "      <th></th>\n",
       "      <th></th>\n",
       "      <th></th>\n",
       "      <th></th>\n",
       "    </tr>\n",
       "  </thead>\n",
       "  <tbody>\n",
       "    <tr>\n",
       "      <th>2014-01-06</th>\n",
       "      <td>30.0</td>\n",
       "      <td>30.25</td>\n",
       "      <td>28.0</td>\n",
       "      <td>28.0</td>\n",
       "      <td>13054500.0</td>\n",
       "      <td>27.5</td>\n",
       "      <td>28.25</td>\n",
       "      <td>26.5</td>\n",
       "      <td>26.50</td>\n",
       "      <td>27140500.0</td>\n",
       "      <td>2</td>\n",
       "      <td>26.0</td>\n",
       "      <td>26.25</td>\n",
       "      <td>24.8</td>\n",
       "      <td>25.25</td>\n",
       "      <td>33017900</td>\n",
       "      <td>26.0</td>\n",
       "    </tr>\n",
       "    <tr>\n",
       "      <th>2014-01-07</th>\n",
       "      <td>27.5</td>\n",
       "      <td>28.25</td>\n",
       "      <td>26.5</td>\n",
       "      <td>26.5</td>\n",
       "      <td>27140500.0</td>\n",
       "      <td>26.0</td>\n",
       "      <td>26.25</td>\n",
       "      <td>24.8</td>\n",
       "      <td>25.25</td>\n",
       "      <td>33017900.0</td>\n",
       "      <td>2</td>\n",
       "      <td>25.0</td>\n",
       "      <td>26.50</td>\n",
       "      <td>25.0</td>\n",
       "      <td>26.00</td>\n",
       "      <td>20210800</td>\n",
       "      <td>26.5</td>\n",
       "    </tr>\n",
       "  </tbody>\n",
       "</table>\n",
       "</div>"
      ],
      "text/plain": [
       "            v2(t-2)  v3(t-2)  v4(t-2)  v5(t-2)     v6(t-2)  v2(t-1)  v3(t-1)  \\\n",
       "Date                                                                           \n",
       "2014-01-06     30.0    30.25     28.0     28.0  13054500.0     27.5    28.25   \n",
       "2014-01-07     27.5    28.25     26.5     26.5  27140500.0     26.0    26.25   \n",
       "\n",
       "            v4(t-1)  v5(t-1)     v6(t-1)  v1(t)  v2(t)  v3(t)  v4(t)  v5(t)  \\\n",
       "Date                                                                          \n",
       "2014-01-06     26.5    26.50  27140500.0      2   26.0  26.25   24.8  25.25   \n",
       "2014-01-07     24.8    25.25  33017900.0      2   25.0  26.50   25.0  26.00   \n",
       "\n",
       "               v6(t)  v5(t+1)  \n",
       "Date                           \n",
       "2014-01-06  33017900     26.0  \n",
       "2014-01-07  20210800     26.5  "
      ]
     },
     "execution_count": 88,
     "metadata": {},
     "output_type": "execute_result"
    },
    {
     "data": {
      "text/html": [
       "<div>\n",
       "<style>\n",
       "    .dataframe thead tr:only-child th {\n",
       "        text-align: right;\n",
       "    }\n",
       "\n",
       "    .dataframe thead th {\n",
       "        text-align: left;\n",
       "    }\n",
       "\n",
       "    .dataframe tbody tr th {\n",
       "        vertical-align: top;\n",
       "    }\n",
       "</style>\n",
       "<table border=\"1\" class=\"dataframe\">\n",
       "  <thead>\n",
       "    <tr style=\"text-align: right;\">\n",
       "      <th></th>\n",
       "      <th>v2(t-2)</th>\n",
       "      <th>v3(t-2)</th>\n",
       "      <th>v4(t-2)</th>\n",
       "      <th>v5(t-2)</th>\n",
       "      <th>v6(t-2)</th>\n",
       "      <th>v2(t-1)</th>\n",
       "      <th>v3(t-1)</th>\n",
       "      <th>v4(t-1)</th>\n",
       "      <th>v5(t-1)</th>\n",
       "      <th>v6(t-1)</th>\n",
       "      <th>v1(t)</th>\n",
       "      <th>v2(t)</th>\n",
       "      <th>v3(t)</th>\n",
       "      <th>v4(t)</th>\n",
       "      <th>v5(t)</th>\n",
       "      <th>v6(t)</th>\n",
       "      <th>v5(t+1)</th>\n",
       "    </tr>\n",
       "    <tr>\n",
       "      <th>Date</th>\n",
       "      <th></th>\n",
       "      <th></th>\n",
       "      <th></th>\n",
       "      <th></th>\n",
       "      <th></th>\n",
       "      <th></th>\n",
       "      <th></th>\n",
       "      <th></th>\n",
       "      <th></th>\n",
       "      <th></th>\n",
       "      <th></th>\n",
       "      <th></th>\n",
       "      <th></th>\n",
       "      <th></th>\n",
       "      <th></th>\n",
       "      <th></th>\n",
       "      <th></th>\n",
       "    </tr>\n",
       "  </thead>\n",
       "  <tbody>\n",
       "    <tr>\n",
       "      <th>2017-03-14</th>\n",
       "      <td>19.5</td>\n",
       "      <td>19.6</td>\n",
       "      <td>18.9</td>\n",
       "      <td>19.0</td>\n",
       "      <td>55888700.0</td>\n",
       "      <td>19.0</td>\n",
       "      <td>19.1</td>\n",
       "      <td>18.8</td>\n",
       "      <td>18.8</td>\n",
       "      <td>37337600.0</td>\n",
       "      <td>2</td>\n",
       "      <td>18.8</td>\n",
       "      <td>19.4</td>\n",
       "      <td>18.8</td>\n",
       "      <td>19.2</td>\n",
       "      <td>56535000</td>\n",
       "      <td>19.1</td>\n",
       "    </tr>\n",
       "    <tr>\n",
       "      <th>2017-03-15</th>\n",
       "      <td>19.0</td>\n",
       "      <td>19.1</td>\n",
       "      <td>18.8</td>\n",
       "      <td>18.8</td>\n",
       "      <td>37337600.0</td>\n",
       "      <td>18.8</td>\n",
       "      <td>19.4</td>\n",
       "      <td>18.8</td>\n",
       "      <td>19.2</td>\n",
       "      <td>56535000.0</td>\n",
       "      <td>2</td>\n",
       "      <td>19.2</td>\n",
       "      <td>19.3</td>\n",
       "      <td>18.9</td>\n",
       "      <td>19.1</td>\n",
       "      <td>17643400</td>\n",
       "      <td>19.5</td>\n",
       "    </tr>\n",
       "  </tbody>\n",
       "</table>\n",
       "</div>"
      ],
      "text/plain": [
       "            v2(t-2)  v3(t-2)  v4(t-2)  v5(t-2)     v6(t-2)  v2(t-1)  v3(t-1)  \\\n",
       "Date                                                                           \n",
       "2017-03-14     19.5     19.6     18.9     19.0  55888700.0     19.0     19.1   \n",
       "2017-03-15     19.0     19.1     18.8     18.8  37337600.0     18.8     19.4   \n",
       "\n",
       "            v4(t-1)  v5(t-1)     v6(t-1)  v1(t)  v2(t)  v3(t)  v4(t)  v5(t)  \\\n",
       "Date                                                                          \n",
       "2017-03-14     18.8     18.8  37337600.0      2   18.8   19.4   18.8   19.2   \n",
       "2017-03-15     18.8     19.2  56535000.0      2   19.2   19.3   18.9   19.1   \n",
       "\n",
       "               v6(t)  v5(t+1)  \n",
       "Date                           \n",
       "2017-03-14  56535000     19.1  \n",
       "2017-03-15  17643400     19.5  "
      ]
     },
     "execution_count": 88,
     "metadata": {},
     "output_type": "execute_result"
    },
    {
     "data": {
      "text/plain": [
       "array(['ADVANC', 'AOT', 'BANPU', 'BBL', 'BDMS', 'BH', 'CK', 'CPALL',\n",
       "       'CPF', 'CPN', 'HMPRO', 'IRPC', 'JAS', 'KBANK', 'MINT', 'PTT',\n",
       "       'SCB', 'SCC', 'THAI', 'TRUE', 'TU'], dtype=object)"
      ]
     },
     "execution_count": 88,
     "metadata": {},
     "output_type": "execute_result"
    }
   ],
   "source": [
    "le = preprocessing.LabelEncoder()\n",
    "\n",
    "df_train['v1(t)'] = le.fit_transform(df_train['v1(t)'])\n",
    "df_test['v1(t)'] = le.transform(df_test['v1(t)'])\n",
    "\n",
    "df_train.head(2)\n",
    "df_test.head(2)\n",
    "\n",
    "le.classes_"
   ]
  },
  {
   "cell_type": "markdown",
   "metadata": {},
   "source": [
    "# Create x_train and y_train"
   ]
  },
  {
   "cell_type": "code",
   "execution_count": 89,
   "metadata": {},
   "outputs": [
    {
     "data": {
      "text/plain": [
       "((16336, 16), (16336,))"
      ]
     },
     "execution_count": 89,
     "metadata": {},
     "output_type": "execute_result"
    }
   ],
   "source": [
    "y_train = df_train['v5(t+1)'].values\n",
    "\n",
    "df_train = df_train.drop('v5(t+1)', axis=1)\n",
    "x_train = df_train.as_matrix()\n",
    "\n",
    "x_train.shape, y_train.shape"
   ]
  },
  {
   "cell_type": "markdown",
   "metadata": {},
   "source": [
    "# Evaluate Each Stcok"
   ]
  },
  {
   "cell_type": "code",
   "execution_count": 90,
   "metadata": {},
   "outputs": [],
   "source": [
    "def evaluator(clf, df_test, le):\n",
    "    RMSEs, MAEs, DAs = [], [], []\n",
    "    results = []\n",
    "    for stock in target_stocks:\n",
    "        x_tmp = df_test.loc[df_test['v1(t)'] == le.transform([stock])[0]].copy()\n",
    "\n",
    "        y_tmp = x_tmp['v5(t+1)'].values\n",
    "        \n",
    "        # Directional Accuracy\n",
    "        changes = x_tmp['v5(t+1)'] -  x_tmp['v5(t)']\n",
    "        y_true_da = []\n",
    "        for change in changes:\n",
    "            y_true_da.append(1 if change >= 0 else 0)\n",
    "                \n",
    "        x_tmp = x_tmp.drop('v5(t+1)', axis=1)\n",
    "        \n",
    "        y_pred = clf.predict(x_tmp.as_matrix())\n",
    "        \n",
    "        # Directional Accuracy Pred\n",
    "        changes = y_pred -  x_tmp['v5(t)']\n",
    "        y_pred_da = []\n",
    "        for change in changes:\n",
    "            y_pred_da.append(1 if change >= 0 else 0)\n",
    "            \n",
    "        RMSE = np.sqrt(mean_squared_error(y_tmp, y_pred))\n",
    "        MAE = mean_absolute_error(y_tmp, y_pred)\n",
    "        DA = accuracy_score(y_true_da, y_pred_da)\n",
    "        print(stock, \"\\tRMSE: %.2f\\t MAE: %.2f \\tDA: %.2f\" % (RMSE, MAE, DA))\n",
    "        RMSEs.append(RMSE)\n",
    "        MAEs.append(MAE)\n",
    "        DAs.append(DA)\n",
    "    \n",
    "    print('\\nmean RMSE:', round(np.mean(RMSEs),2))\n",
    "    print('mean MAE:', round(np.mean(MAEs),2))\n",
    "    print('mean DA:', round(np.mean(DAs),4))"
   ]
  },
  {
   "cell_type": "markdown",
   "metadata": {},
   "source": [
    "# Linear Regression"
   ]
  },
  {
   "cell_type": "code",
   "execution_count": 93,
   "metadata": {},
   "outputs": [
    {
     "data": {
      "text/plain": [
       "LinearRegression(copy_X=True, fit_intercept=True, n_jobs=1, normalize=False)"
      ]
     },
     "execution_count": 93,
     "metadata": {},
     "output_type": "execute_result"
    }
   ],
   "source": [
    "from sklearn import linear_model\n",
    "\n",
    "lineregr = linear_model.LinearRegression()\n",
    "lineregr.fit(x_train, y_train)"
   ]
  },
  {
   "cell_type": "code",
   "execution_count": 94,
   "metadata": {},
   "outputs": [
    {
     "name": "stdout",
     "output_type": "stream",
     "text": [
      "BANPU \tRMSE: 0.26\t MAE: 0.17 \tDA: 0.53\n",
      "IRPC \tRMSE: 0.09\t MAE: 0.07 \tDA: 0.67\n",
      "PTT \tRMSE: 3.52\t MAE: 2.68 \tDA: 0.50\n",
      "BBL \tRMSE: 1.59\t MAE: 1.18 \tDA: 0.44\n",
      "KBANK \tRMSE: 2.28\t MAE: 1.71 \tDA: 0.55\n",
      "SCB \tRMSE: 1.34\t MAE: 1.05 \tDA: 0.50\n",
      "AOT \tRMSE: 0.72\t MAE: 0.53 \tDA: 0.45\n",
      "THAI \tRMSE: 0.42\t MAE: 0.27 \tDA: 0.55\n",
      "CPF \tRMSE: 0.35\t MAE: 0.26 \tDA: 0.58\n",
      "MINT \tRMSE: 0.53\t MAE: 0.40 \tDA: 0.65\n",
      "TU \tRMSE: 0.26\t MAE: 0.19 \tDA: 0.57\n",
      "SCC \tRMSE: 4.33\t MAE: 3.35 \tDA: 0.57\n",
      "CPN \tRMSE: 0.98\t MAE: 0.73 \tDA: 0.52\n",
      "CK \tRMSE: 0.33\t MAE: 0.25 \tDA: 0.63\n",
      "CPALL \tRMSE: 0.61\t MAE: 0.42 \tDA: 0.45\n",
      "HMPRO \tRMSE: 0.18\t MAE: 0.12 \tDA: 0.62\n",
      "BDMS \tRMSE: 0.24\t MAE: 0.17 \tDA: 0.54\n",
      "BH \tRMSE: 2.77\t MAE: 1.92 \tDA: 0.50\n",
      "ADVANC \tRMSE: 1.86\t MAE: 1.39 \tDA: 0.46\n",
      "JAS \tRMSE: 0.13\t MAE: 0.09 \tDA: 0.59\n",
      "TRUE \tRMSE: 0.11\t MAE: 0.09 \tDA: 0.62\n",
      "\n",
      "mean RMSE: 1.09\n",
      "mean MAE: 0.81\n",
      "mean DA: 0.5463\n"
     ]
    }
   ],
   "source": [
    "evaluator(lineregr, df_test, le)"
   ]
  },
  {
   "cell_type": "markdown",
   "metadata": {},
   "source": [
    "# Support Vector Regressor"
   ]
  },
  {
   "cell_type": "code",
   "execution_count": 71,
   "metadata": {},
   "outputs": [
    {
     "data": {
      "text/plain": [
       "SVR(C=1.0, cache_size=200, coef0=0.0, degree=3, epsilon=0.1, gamma='auto',\n",
       "  kernel='rbf', max_iter=-1, shrinking=True, tol=0.001, verbose=False)"
      ]
     },
     "execution_count": 71,
     "metadata": {},
     "output_type": "execute_result"
    }
   ],
   "source": [
    "from sklearn.svm import SVR\n",
    "svr = SVR()\n",
    "svr.fit(x_train, y_train)"
   ]
  },
  {
   "cell_type": "code",
   "execution_count": 72,
   "metadata": {},
   "outputs": [
    {
     "name": "stdout",
     "output_type": "stream",
     "text": [
      "BANPU \tRMSE: 20.58\t MAE: 20.54 \tDA: 0.62\n",
      "IRPC \tRMSE: 32.57\t MAE: 32.56 \tDA: 0.66\n",
      "PTT \tRMSE: 362.66\t MAE: 362.20 \tDA: 0.41\n",
      "BBL \tRMSE: 148.81\t MAE: 148.61 \tDA: 0.37\n",
      "KBANK \tRMSE: 165.62\t MAE: 164.99 \tDA: 0.38\n",
      "SCB \tRMSE: 114.31\t MAE: 114.20 \tDA: 0.42\n",
      "AOT \tRMSE: 15.40\t MAE: 13.01 \tDA: 0.32\n",
      "THAI \tRMSE: 20.01\t MAE: 19.98 \tDA: 0.54\n",
      "CPF \tRMSE: 12.54\t MAE: 12.48 \tDA: 0.58\n",
      "MINT \tRMSE: 3.01\t MAE: 2.53 \tDA: 0.46\n",
      "TU \tRMSE: 18.31\t MAE: 18.28 \tDA: 0.57\n",
      "SCC \tRMSE: 467.40\t MAE: 466.97 \tDA: 0.47\n",
      "CPN \tRMSE: 33.51\t MAE: 32.43 \tDA: 0.42\n",
      "CK \tRMSE: 10.83\t MAE: 10.79 \tDA: 0.62\n",
      "CPALL \tRMSE: 27.40\t MAE: 26.87 \tDA: 0.29\n",
      "HMPRO \tRMSE: 27.62\t MAE: 27.58 \tDA: 0.64\n",
      "BDMS \tRMSE: 18.03\t MAE: 18.00 \tDA: 0.57\n",
      "BH \tRMSE: 155.00\t MAE: 154.04 \tDA: 0.43\n",
      "ADVANC \tRMSE: 144.36\t MAE: 144.19 \tDA: 0.38\n",
      "JAS \tRMSE: 30.36\t MAE: 30.35 \tDA: 0.59\n",
      "TRUE \tRMSE: 32.26\t MAE: 32.26 \tDA: 0.62\n",
      "\n",
      "mean RMSE: 88.6\n",
      "mean MAE: 88.23\n",
      "mean DA: 0.4927\n"
     ]
    }
   ],
   "source": [
    "evaluator(svr, df_test, le)"
   ]
  },
  {
   "cell_type": "markdown",
   "metadata": {},
   "source": [
    "# Decistion Tree Regressor"
   ]
  },
  {
   "cell_type": "code",
   "execution_count": 73,
   "metadata": {
    "collapsed": true
   },
   "outputs": [],
   "source": [
    "from sklearn import tree"
   ]
  },
  {
   "cell_type": "code",
   "execution_count": 74,
   "metadata": {},
   "outputs": [
    {
     "data": {
      "text/plain": [
       "DecisionTreeRegressor(criterion='mse', max_depth=None, max_features=None,\n",
       "           max_leaf_nodes=None, min_impurity_decrease=0.0,\n",
       "           min_impurity_split=None, min_samples_leaf=1,\n",
       "           min_samples_split=2, min_weight_fraction_leaf=0.0,\n",
       "           presort=False, random_state=None, splitter='best')"
      ]
     },
     "execution_count": 74,
     "metadata": {},
     "output_type": "execute_result"
    }
   ],
   "source": [
    "decis_tree_regr = tree.DecisionTreeRegressor()\n",
    "decis_tree_regr.fit(x_train, y_train)"
   ]
  },
  {
   "cell_type": "code",
   "execution_count": 75,
   "metadata": {},
   "outputs": [
    {
     "name": "stdout",
     "output_type": "stream",
     "text": [
      "BANPU \tRMSE: 0.62\t MAE: 0.48 \tDA: 0.52\n",
      "IRPC \tRMSE: 0.20\t MAE: 0.15 \tDA: 0.46\n",
      "PTT \tRMSE: 54.68\t MAE: 13.56 \tDA: 0.51\n",
      "BBL \tRMSE: 2.94\t MAE: 2.13 \tDA: 0.53\n",
      "KBANK \tRMSE: 3.52\t MAE: 2.74 \tDA: 0.52\n",
      "SCB \tRMSE: 2.28\t MAE: 1.73 \tDA: 0.56\n",
      "AOT \tRMSE: 1.29\t MAE: 0.98 \tDA: 0.51\n",
      "THAI \tRMSE: 0.85\t MAE: 0.47 \tDA: 0.51\n",
      "CPF \tRMSE: 0.55\t MAE: 0.42 \tDA: 0.53\n",
      "MINT \tRMSE: 0.90\t MAE: 0.70 \tDA: 0.52\n",
      "TU \tRMSE: 0.43\t MAE: 0.33 \tDA: 0.53\n",
      "SCC \tRMSE: 8.54\t MAE: 6.15 \tDA: 0.56\n",
      "CPN \tRMSE: 2.20\t MAE: 1.62 \tDA: 0.55\n",
      "CK \tRMSE: 0.63\t MAE: 0.46 \tDA: 0.54\n",
      "CPALL \tRMSE: 1.86\t MAE: 1.32 \tDA: 0.51\n",
      "HMPRO \tRMSE: 0.31\t MAE: 0.21 \tDA: 0.53\n",
      "BDMS \tRMSE: 0.44\t MAE: 0.32 \tDA: 0.56\n",
      "BH \tRMSE: 4.22\t MAE: 3.29 \tDA: 0.54\n",
      "ADVANC \tRMSE: 6.56\t MAE: 3.90 \tDA: 0.56\n",
      "JAS \tRMSE: 0.22\t MAE: 0.17 \tDA: 0.47\n",
      "TRUE \tRMSE: 0.21\t MAE: 0.16 \tDA: 0.47\n",
      "\n",
      "mean RMSE: 4.45\n",
      "mean MAE: 1.97\n",
      "mean DA: 0.5229\n"
     ]
    }
   ],
   "source": [
    "evaluator(decis_tree_regr, df_test, le)"
   ]
  },
  {
   "cell_type": "markdown",
   "metadata": {},
   "source": [
    "# Random Forest Regrssor"
   ]
  },
  {
   "cell_type": "code",
   "execution_count": 76,
   "metadata": {},
   "outputs": [
    {
     "data": {
      "text/plain": [
       "RandomForestRegressor(bootstrap=True, criterion='mse', max_depth=None,\n",
       "           max_features='auto', max_leaf_nodes=None,\n",
       "           min_impurity_decrease=0.0, min_impurity_split=None,\n",
       "           min_samples_leaf=1, min_samples_split=2,\n",
       "           min_weight_fraction_leaf=0.0, n_estimators=10, n_jobs=-1,\n",
       "           oob_score=False, random_state=None, verbose=0, warm_start=False)"
      ]
     },
     "execution_count": 76,
     "metadata": {},
     "output_type": "execute_result"
    }
   ],
   "source": [
    "from sklearn import ensemble\n",
    "\n",
    "rnd_forest_regr = ensemble.RandomForestRegressor(n_jobs=-1)\n",
    "rnd_forest_regr.fit(x_train, y_train)"
   ]
  },
  {
   "cell_type": "code",
   "execution_count": 77,
   "metadata": {},
   "outputs": [
    {
     "name": "stdout",
     "output_type": "stream",
     "text": [
      "BANPU \tRMSE: 0.33\t MAE: 0.24 \tDA: 0.55\n",
      "IRPC \tRMSE: 0.11\t MAE: 0.09 \tDA: 0.47\n",
      "PTT \tRMSE: 11.08\t MAE: 4.61 \tDA: 0.52\n",
      "BBL \tRMSE: 1.87\t MAE: 1.43 \tDA: 0.50\n",
      "KBANK \tRMSE: 2.67\t MAE: 2.08 \tDA: 0.51\n",
      "SCB \tRMSE: 1.48\t MAE: 1.19 \tDA: 0.58\n",
      "AOT \tRMSE: 0.96\t MAE: 0.74 \tDA: 0.54\n",
      "THAI \tRMSE: 0.54\t MAE: 0.33 \tDA: 0.50\n",
      "CPF \tRMSE: 0.43\t MAE: 0.34 \tDA: 0.48\n",
      "MINT \tRMSE: 0.61\t MAE: 0.48 \tDA: 0.54\n",
      "TU \tRMSE: 0.32\t MAE: 0.23 \tDA: 0.49\n",
      "SCC \tRMSE: 5.88\t MAE: 4.62 \tDA: 0.57\n",
      "CPN \tRMSE: 1.66\t MAE: 1.25 \tDA: 0.49\n",
      "CK \tRMSE: 0.39\t MAE: 0.31 \tDA: 0.54\n",
      "CPALL \tRMSE: 1.24\t MAE: 0.87 \tDA: 0.49\n",
      "HMPRO \tRMSE: 0.21\t MAE: 0.14 \tDA: 0.53\n",
      "BDMS \tRMSE: 0.27\t MAE: 0.20 \tDA: 0.51\n",
      "BH \tRMSE: 3.19\t MAE: 2.31 \tDA: 0.55\n",
      "ADVANC \tRMSE: 3.88\t MAE: 2.38 \tDA: 0.51\n",
      "JAS \tRMSE: 0.14\t MAE: 0.11 \tDA: 0.52\n",
      "TRUE \tRMSE: 0.13\t MAE: 0.10 \tDA: 0.53\n",
      "\n",
      "mean RMSE: 1.78\n",
      "mean MAE: 1.15\n",
      "mean DA: 0.521\n"
     ]
    }
   ],
   "source": [
    "evaluator(rnd_forest_regr, df_test, le)"
   ]
  },
  {
   "cell_type": "markdown",
   "metadata": {},
   "source": [
    "# AdaBoost Regressor"
   ]
  },
  {
   "cell_type": "code",
   "execution_count": 78,
   "metadata": {},
   "outputs": [
    {
     "data": {
      "text/plain": [
       "AdaBoostRegressor(base_estimator=DecisionTreeRegressor(criterion='mse', max_depth=None, max_features=None,\n",
       "           max_leaf_nodes=None, min_impurity_decrease=0.0,\n",
       "           min_impurity_split=None, min_samples_leaf=1,\n",
       "           min_samples_split=2, min_weight_fraction_leaf=0.0,\n",
       "           presort=False, random_state=None, splitter='best'),\n",
       "         learning_rate=1, loss='linear', n_estimators=50,\n",
       "         random_state=None)"
      ]
     },
     "execution_count": 78,
     "metadata": {},
     "output_type": "execute_result"
    }
   ],
   "source": [
    "adaboost_dt_regr = ensemble.AdaBoostRegressor(base_estimator=tree.DecisionTreeRegressor(),\n",
    "                                           learning_rate=1, \n",
    "                                           n_estimators=50, \n",
    "                                           loss='linear')\n",
    "adaboost_dt_regr.fit(x_train, y_train)"
   ]
  },
  {
   "cell_type": "code",
   "execution_count": 79,
   "metadata": {},
   "outputs": [
    {
     "data": {
      "text/plain": [
       "AdaBoostRegressor(base_estimator=RandomForestRegressor(bootstrap=True, criterion='mse', max_depth=None,\n",
       "           max_features='auto', max_leaf_nodes=None,\n",
       "           min_impurity_decrease=0.0, min_impurity_split=None,\n",
       "           min_samples_leaf=1, min_samples_split=2,\n",
       "           min_weight_fraction_leaf=0.0, n_estimators=10, n_jobs=-1,\n",
       "           oob_score=False, random_state=None, verbose=0, warm_start=False),\n",
       "         learning_rate=1, loss='linear', n_estimators=50,\n",
       "         random_state=None)"
      ]
     },
     "execution_count": 79,
     "metadata": {},
     "output_type": "execute_result"
    }
   ],
   "source": [
    "adaboost_rf_regr = ensemble.AdaBoostRegressor(base_estimator=ensemble.RandomForestRegressor(n_jobs=-1),\n",
    "                                           learning_rate=1, \n",
    "                                           n_estimators=50, \n",
    "                                           loss='linear')\n",
    "adaboost_rf_regr.fit(x_train, y_train)"
   ]
  },
  {
   "cell_type": "code",
   "execution_count": 80,
   "metadata": {},
   "outputs": [
    {
     "name": "stdout",
     "output_type": "stream",
     "text": [
      "BANPU \tRMSE: 0.34\t MAE: 0.26 \tDA: 0.62\n",
      "IRPC \tRMSE: 0.10\t MAE: 0.08 \tDA: 0.54\n",
      "PTT \tRMSE: 5.16\t MAE: 3.89 \tDA: 0.55\n",
      "BBL \tRMSE: 1.68\t MAE: 1.27 \tDA: 0.58\n",
      "KBANK \tRMSE: 2.46\t MAE: 1.90 \tDA: 0.59\n",
      "SCB \tRMSE: 1.49\t MAE: 1.17 \tDA: 0.56\n",
      "AOT \tRMSE: 0.98\t MAE: 0.69 \tDA: 0.61\n",
      "THAI \tRMSE: 0.49\t MAE: 0.30 \tDA: 0.54\n",
      "CPF \tRMSE: 0.39\t MAE: 0.29 \tDA: 0.58\n",
      "MINT \tRMSE: 0.59\t MAE: 0.45 \tDA: 0.57\n",
      "TU \tRMSE: 0.28\t MAE: 0.20 \tDA: 0.55\n",
      "SCC \tRMSE: 6.01\t MAE: 4.53 \tDA: 0.55\n",
      "CPN \tRMSE: 1.55\t MAE: 1.16 \tDA: 0.53\n",
      "CK \tRMSE: 0.37\t MAE: 0.26 \tDA: 0.63\n",
      "CPALL \tRMSE: 1.23\t MAE: 0.83 \tDA: 0.52\n",
      "HMPRO \tRMSE: 0.19\t MAE: 0.13 \tDA: 0.64\n",
      "BDMS \tRMSE: 0.25\t MAE: 0.19 \tDA: 0.56\n",
      "BH \tRMSE: 3.19\t MAE: 2.28 \tDA: 0.52\n",
      "ADVANC \tRMSE: 2.14\t MAE: 1.64 \tDA: 0.50\n",
      "JAS \tRMSE: 0.13\t MAE: 0.10 \tDA: 0.48\n",
      "TRUE \tRMSE: 0.11\t MAE: 0.08 \tDA: 0.55\n",
      "\n",
      "mean RMSE: 1.39\n",
      "mean MAE: 1.03\n",
      "mean DA: 0.5613\n"
     ]
    }
   ],
   "source": [
    "evaluator(adaboost_dt_regr, df_test, le)"
   ]
  },
  {
   "cell_type": "code",
   "execution_count": 81,
   "metadata": {},
   "outputs": [
    {
     "name": "stdout",
     "output_type": "stream",
     "text": [
      "BANPU \tRMSE: 0.31\t MAE: 0.22 \tDA: 0.65\n",
      "IRPC \tRMSE: 0.10\t MAE: 0.08 \tDA: 0.44\n",
      "PTT \tRMSE: 15.29\t MAE: 5.49 \tDA: 0.52\n",
      "BBL \tRMSE: 1.62\t MAE: 1.23 \tDA: 0.55\n",
      "KBANK \tRMSE: 2.39\t MAE: 1.80 \tDA: 0.58\n",
      "SCB \tRMSE: 1.40\t MAE: 1.11 \tDA: 0.55\n",
      "AOT \tRMSE: 0.96\t MAE: 0.71 \tDA: 0.61\n",
      "THAI \tRMSE: 0.46\t MAE: 0.29 \tDA: 0.55\n",
      "CPF \tRMSE: 0.39\t MAE: 0.30 \tDA: 0.55\n",
      "MINT \tRMSE: 0.55\t MAE: 0.42 \tDA: 0.58\n",
      "TU \tRMSE: 0.28\t MAE: 0.20 \tDA: 0.54\n",
      "SCC \tRMSE: 5.72\t MAE: 4.51 \tDA: 0.55\n",
      "CPN \tRMSE: 1.46\t MAE: 1.10 \tDA: 0.49\n",
      "CK \tRMSE: 0.35\t MAE: 0.27 \tDA: 0.54\n",
      "CPALL \tRMSE: 1.09\t MAE: 0.78 \tDA: 0.46\n",
      "HMPRO \tRMSE: 0.18\t MAE: 0.13 \tDA: 0.61\n",
      "BDMS \tRMSE: 0.25\t MAE: 0.19 \tDA: 0.54\n",
      "BH \tRMSE: 2.95\t MAE: 2.13 \tDA: 0.53\n",
      "ADVANC \tRMSE: 2.09\t MAE: 1.59 \tDA: 0.51\n",
      "JAS \tRMSE: 0.13\t MAE: 0.10 \tDA: 0.53\n",
      "TRUE \tRMSE: 0.12\t MAE: 0.09 \tDA: 0.57\n",
      "\n",
      "mean RMSE: 1.81\n",
      "mean MAE: 1.08\n",
      "mean DA: 0.5445\n"
     ]
    }
   ],
   "source": [
    "evaluator(adaboost_rf_regr, df_test, le)"
   ]
  },
  {
   "cell_type": "markdown",
   "metadata": {},
   "source": [
    "# Gradient Boosting Regressor"
   ]
  },
  {
   "cell_type": "code",
   "execution_count": 95,
   "metadata": {},
   "outputs": [
    {
     "data": {
      "text/plain": [
       "GradientBoostingRegressor(alpha=0.9, criterion='friedman_mse', init=None,\n",
       "             learning_rate=0.1, loss='ls', max_depth=6, max_features=None,\n",
       "             max_leaf_nodes=None, min_impurity_decrease=0.0,\n",
       "             min_impurity_split=None, min_samples_leaf=1,\n",
       "             min_samples_split=2, min_weight_fraction_leaf=0.0,\n",
       "             n_estimators=100, presort='auto', random_state=None,\n",
       "             subsample=1.0, verbose=0, warm_start=False)"
      ]
     },
     "execution_count": 95,
     "metadata": {},
     "output_type": "execute_result"
    }
   ],
   "source": [
    "gbr = ensemble.GradientBoostingRegressor(n_estimators=100, \n",
    "                                         learning_rate=0.1,\n",
    "                                         max_depth=6,\n",
    "                                         min_samples_split=2,\n",
    "                                         loss='ls'\n",
    "                                        )\n",
    "gbr.fit(x_train, y_train)"
   ]
  },
  {
   "cell_type": "code",
   "execution_count": 96,
   "metadata": {},
   "outputs": [
    {
     "name": "stdout",
     "output_type": "stream",
     "text": [
      "BANPU \tRMSE: 0.29\t MAE: 0.22 \tDA: 0.60\n",
      "IRPC \tRMSE: 0.12\t MAE: 0.09 \tDA: 0.58\n",
      "PTT \tRMSE: 11.91\t MAE: 6.12 \tDA: 0.51\n",
      "BBL \tRMSE: 1.65\t MAE: 1.21 \tDA: 0.57\n",
      "KBANK \tRMSE: 2.38\t MAE: 1.80 \tDA: 0.52\n",
      "SCB \tRMSE: 1.40\t MAE: 1.12 \tDA: 0.52\n",
      "AOT \tRMSE: 0.85\t MAE: 0.60 \tDA: 0.57\n",
      "THAI \tRMSE: 0.43\t MAE: 0.28 \tDA: 0.54\n",
      "CPF \tRMSE: 0.35\t MAE: 0.26 \tDA: 0.57\n",
      "MINT \tRMSE: 0.58\t MAE: 0.45 \tDA: 0.47\n",
      "TU \tRMSE: 0.27\t MAE: 0.19 \tDA: 0.54\n",
      "SCC \tRMSE: 5.16\t MAE: 4.06 \tDA: 0.53\n",
      "CPN \tRMSE: 1.60\t MAE: 1.27 \tDA: 0.49\n",
      "CK \tRMSE: 0.34\t MAE: 0.27 \tDA: 0.53\n",
      "CPALL \tRMSE: 1.30\t MAE: 0.94 \tDA: 0.39\n",
      "HMPRO \tRMSE: 0.20\t MAE: 0.14 \tDA: 0.54\n",
      "BDMS \tRMSE: 0.24\t MAE: 0.18 \tDA: 0.55\n",
      "BH \tRMSE: 2.88\t MAE: 2.04 \tDA: 0.46\n",
      "ADVANC \tRMSE: 1.95\t MAE: 1.48 \tDA: 0.47\n",
      "JAS \tRMSE: 0.13\t MAE: 0.10 \tDA: 0.60\n",
      "TRUE \tRMSE: 0.14\t MAE: 0.11 \tDA: 0.51\n",
      "\n",
      "mean RMSE: 1.63\n",
      "mean MAE: 1.09\n",
      "mean DA: 0.5272\n"
     ]
    }
   ],
   "source": [
    "evaluator(gbr, df_test, le)"
   ]
  },
  {
   "cell_type": "code",
   "execution_count": null,
   "metadata": {
    "collapsed": true
   },
   "outputs": [],
   "source": []
  },
  {
   "cell_type": "markdown",
   "metadata": {},
   "source": [
    "# XGBoost Regressor"
   ]
  },
  {
   "cell_type": "code",
   "execution_count": 107,
   "metadata": {
    "collapsed": true
   },
   "outputs": [],
   "source": [
    "import xgboost"
   ]
  },
  {
   "cell_type": "code",
   "execution_count": 110,
   "metadata": {},
   "outputs": [
    {
     "ename": "AttributeError",
     "evalue": "'XGBRegressor' object has no attribute 'DMatrix'",
     "output_type": "error",
     "traceback": [
      "\u001b[0;31m---------------------------------------------------------------------------\u001b[0m",
      "\u001b[0;31mAttributeError\u001b[0m                            Traceback (most recent call last)",
      "\u001b[0;32m<ipython-input-110-38c807647556>\u001b[0m in \u001b[0;36m<module>\u001b[0;34m()\u001b[0m\n\u001b[0;32m----> 1\u001b[0;31m \u001b[0md_train\u001b[0m \u001b[0;34m=\u001b[0m \u001b[0mxgb\u001b[0m\u001b[0;34m.\u001b[0m\u001b[0mDMatrix\u001b[0m\u001b[0;34m(\u001b[0m\u001b[0mx_train\u001b[0m\u001b[0;34m,\u001b[0m \u001b[0mlabel\u001b[0m\u001b[0;34m=\u001b[0m\u001b[0my_train\u001b[0m\u001b[0;34m)\u001b[0m\u001b[0;34m\u001b[0m\u001b[0m\n\u001b[0m\u001b[1;32m      2\u001b[0m \u001b[0;31m# d_valid = xgb.DMatrix(x_test, label=y_test)\u001b[0m\u001b[0;34m\u001b[0m\u001b[0;34m\u001b[0m\u001b[0m\n",
      "\u001b[0;31mAttributeError\u001b[0m: 'XGBRegressor' object has no attribute 'DMatrix'"
     ]
    }
   ],
   "source": [
    "d_train = xgb.DMatrix(x_train, label=y_train)\n",
    "# d_valid = xgb.DMatrix(x_test, label=y_test)"
   ]
  },
  {
   "cell_type": "code",
   "execution_count": 109,
   "metadata": {},
   "outputs": [],
   "source": [
    "params = {\n",
    "    'max_depth': 5,\n",
    "    'learning_rate': 0.1,\n",
    "    'n_estimators':100,\n",
    "    'subsample': 0.80,\n",
    "    'objective': 'reg:linear',\n",
    "    'eval_metric': 'logloss',\n",
    "    'reg_lambda': 0.8,   \n",
    "    'reg_alpha': 0.4, \n",
    "    'silent': 1,\n",
    "    'n_jobs':8\n",
    "}\n",
    "xgb = xgboost.XGBRegressor(params)"
   ]
  },
  {
   "cell_type": "code",
   "execution_count": null,
   "metadata": {},
   "outputs": [],
   "source": []
  },
  {
   "cell_type": "code",
   "execution_count": null,
   "metadata": {
    "collapsed": true
   },
   "outputs": [],
   "source": []
  }
 ],
 "metadata": {
  "kernelspec": {
   "display_name": "Python 3",
   "language": "python",
   "name": "python3"
  },
  "language_info": {
   "codemirror_mode": {
    "name": "ipython",
    "version": 3
   },
   "file_extension": ".py",
   "mimetype": "text/x-python",
   "name": "python",
   "nbconvert_exporter": "python",
   "pygments_lexer": "ipython3",
   "version": "3.5.2"
  }
 },
 "nbformat": 4,
 "nbformat_minor": 2
}
