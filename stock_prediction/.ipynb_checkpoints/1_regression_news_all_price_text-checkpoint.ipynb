{
 "cells": [
  {
   "cell_type": "markdown",
   "metadata": {},
   "source": [
    "# Regression with news (all) with price + text"
   ]
  },
  {
   "cell_type": "code",
   "execution_count": 1,
   "metadata": {},
   "outputs": [
    {
     "data": {
      "text/html": [
       "<style>.container { width:100% !important; }</style>"
      ],
      "text/plain": [
       "<IPython.core.display.HTML object>"
      ]
     },
     "metadata": {},
     "output_type": "display_data"
    },
    {
     "data": {
      "text/html": [
       "<script>requirejs.config({paths: { 'plotly': ['https://cdn.plot.ly/plotly-latest.min']},});if(!window.Plotly) {{require(['plotly'],function(plotly) {window.Plotly=plotly;});}}</script>"
      ],
      "text/vnd.plotly.v1+html": [
       "<script>requirejs.config({paths: { 'plotly': ['https://cdn.plot.ly/plotly-latest.min']},});if(!window.Plotly) {{require(['plotly'],function(plotly) {window.Plotly=plotly;});}}</script>"
      ]
     },
     "metadata": {},
     "output_type": "display_data"
    }
   ],
   "source": [
    "from IPython.core.display import display, HTML\n",
    "display(HTML(\"<style>.container { width:100% !important; }</style>\"))\n",
    "\n",
    "from IPython.core.interactiveshell import InteractiveShell\n",
    "InteractiveShell.ast_node_interactivity = \"all\"\n",
    "\n",
    "from plotly.offline import download_plotlyjs, init_notebook_mode, plot, iplot\n",
    "init_notebook_mode(connected=True)"
   ]
  },
  {
   "cell_type": "code",
   "execution_count": 3,
   "metadata": {},
   "outputs": [],
   "source": [
    "import numpy as np\n",
    "import pandas as pd\n",
    "import os\n",
    "import copy\n",
    "import sklearn\n",
    "import xgboost\n",
    "import plotly.graph_objs as go\n",
    "import matplotlib.pyplot as plt\n",
    "\n",
    "from pythainlp.corpus import stopwords\n",
    "from datetime import datetime, timedelta\n",
    "from tqdm import tqdm_notebook\n",
    "from sklearn import tree, ensemble, svm, grid_search, decomposition, cluster\n",
    "from copy import deepcopy\n",
    "\n",
    "% matplotlib inline\n",
    "\n",
    "target_stocks = ['BANPU','IRPC','PTT','BBL','KBANK','SCB','AOT','THAI','CPF','MINT',\n",
    "                 'TU','SCC','CPN','CK','CPALL','HMPRO','BDMS','BH','ADVANC','JAS','TRUE']"
   ]
  },
  {
   "cell_type": "code",
   "execution_count": 5,
   "metadata": {},
   "outputs": [],
   "source": [
    "df_price = pd.read_csv('merged_2013_2018.csv')\n",
    "df_price['Date'] = pd.to_datetime(df_price['Date'], format='%Y-%m-%d')\n",
    "df_price = df_price.loc[df_price['Ticker'].isin(target_stocks)]\n",
    "df_price['Date'] = df_price['Date'].dt.date\n",
    "df_price = df_price.set_index('Date')\n",
    "df_price.tail(1)\n",
    "len(df_price)\n",
    "\n",
    "df_kaohoon = pd.read_csv('data/kaohoon_all.csv')\n",
    "df_kaohoon['Date'] = pd.to_datetime(df_kaohoon['Date'], format='%Y-%m-%d')\n",
    "df_kaohoon = df_kaohoon.set_index('Date')\n",
    "df_kaohoon = df_kaohoon[:'2018-2-8']\n",
    "df_kaohoon.index = df_kaohoon.index.date\n",
    "df_kaohoon.tail(1)\n",
    "len(df_kaohoon)\n",
    "\n",
    "df_moneych = pd.read_csv('data/moneychanel_all.csv')\n",
    "df_moneych['Date'] = pd.to_datetime(df_moneych['Date'], format='%Y-%m-%d')\n",
    "df_moneych = df_moneych.set_index('Date')\n",
    "df_moneych = df_moneych[:'2018-2-8']\n",
    "df_moneych.index = df_moneych.index.date\n",
    "df_moneych.tail(1)\n",
    "len(df_moneych)\n",
    "\n",
    "df_news = pd.concat([df_moneych, df_kaohoon])\n",
    "'Total:', len(df_news.index)"
   ]
  },
  {
   "cell_type": "markdown",
   "metadata": {},
   "source": [
    "# Lag & Horizon Construction"
   ]
  },
  {
   "cell_type": "code",
   "execution_count": 4,
   "metadata": {
    "collapsed": true
   },
   "outputs": [
    {
     "data": {
      "application/vnd.jupyter.widget-view+json": {
       "model_id": "2d94bcf987514002b227edeb01ede017",
       "version_major": 2,
       "version_minor": 0
      },
      "text/html": [
       "<p>Failed to display Jupyter Widget of type <code>HBox</code>.</p>\n",
       "<p>\n",
       "  If you're reading this message in the Jupyter Notebook or JupyterLab Notebook, it may mean\n",
       "  that the widgets JavaScript is still loading. If this message persists, it\n",
       "  likely means that the widgets JavaScript library is either not installed or\n",
       "  not enabled. See the <a href=\"https://ipywidgets.readthedocs.io/en/stable/user_install.html\">Jupyter\n",
       "  Widgets Documentation</a> for setup instructions.\n",
       "</p>\n",
       "<p>\n",
       "  If you're reading this message in another frontend (for example, a static\n",
       "  rendering on GitHub or <a href=\"https://nbviewer.jupyter.org/\">NBViewer</a>),\n",
       "  it may mean that your frontend doesn't currently support widgets.\n",
       "</p>\n"
      ],
      "text/plain": [
       "HBox(children=(IntProgress(value=0, max=21), HTML(value='')))"
      ]
     },
     "metadata": {},
     "output_type": "display_data"
    },
    {
     "data": {
      "application/vnd.jupyter.widget-view+json": {
       "model_id": "fc68fc46b1dc48a9a32b4229a1dda45c",
       "version_major": 2,
       "version_minor": 0
      },
      "text/html": [
       "<p>Failed to display Jupyter Widget of type <code>HBox</code>.</p>\n",
       "<p>\n",
       "  If you're reading this message in the Jupyter Notebook or JupyterLab Notebook, it may mean\n",
       "  that the widgets JavaScript is still loading. If this message persists, it\n",
       "  likely means that the widgets JavaScript library is either not installed or\n",
       "  not enabled. See the <a href=\"https://ipywidgets.readthedocs.io/en/stable/user_install.html\">Jupyter\n",
       "  Widgets Documentation</a> for setup instructions.\n",
       "</p>\n",
       "<p>\n",
       "  If you're reading this message in another frontend (for example, a static\n",
       "  rendering on GitHub or <a href=\"https://nbviewer.jupyter.org/\">NBViewer</a>),\n",
       "  it may mean that your frontend doesn't currently support widgets.\n",
       "</p>\n"
      ],
      "text/plain": [
       "HBox(children=(IntProgress(value=0, max=5631), HTML(value='')))"
      ]
     },
     "metadata": {},
     "output_type": "display_data"
    },
    {
     "name": "stdout",
     "output_type": "stream",
     "text": [
      "BANPU :\t 960 120 120\n"
     ]
    },
    {
     "data": {
      "application/vnd.jupyter.widget-view+json": {
       "model_id": "94a91f512ec8406a958924b097dfcfdc",
       "version_major": 2,
       "version_minor": 0
      },
      "text/html": [
       "<p>Failed to display Jupyter Widget of type <code>HBox</code>.</p>\n",
       "<p>\n",
       "  If you're reading this message in the Jupyter Notebook or JupyterLab Notebook, it may mean\n",
       "  that the widgets JavaScript is still loading. If this message persists, it\n",
       "  likely means that the widgets JavaScript library is either not installed or\n",
       "  not enabled. See the <a href=\"https://ipywidgets.readthedocs.io/en/stable/user_install.html\">Jupyter\n",
       "  Widgets Documentation</a> for setup instructions.\n",
       "</p>\n",
       "<p>\n",
       "  If you're reading this message in another frontend (for example, a static\n",
       "  rendering on GitHub or <a href=\"https://nbviewer.jupyter.org/\">NBViewer</a>),\n",
       "  it may mean that your frontend doesn't currently support widgets.\n",
       "</p>\n"
      ],
      "text/plain": [
       "HBox(children=(IntProgress(value=0, max=5594), HTML(value='')))"
      ]
     },
     "metadata": {},
     "output_type": "display_data"
    },
    {
     "name": "stdout",
     "output_type": "stream",
     "text": [
      "IRPC :\t 979 122 123\n"
     ]
    },
    {
     "data": {
      "application/vnd.jupyter.widget-view+json": {
       "model_id": "3fa1a8f949cf47d1affc643c4fb1ebc3",
       "version_major": 2,
       "version_minor": 0
      },
      "text/html": [
       "<p>Failed to display Jupyter Widget of type <code>HBox</code>.</p>\n",
       "<p>\n",
       "  If you're reading this message in the Jupyter Notebook or JupyterLab Notebook, it may mean\n",
       "  that the widgets JavaScript is still loading. If this message persists, it\n",
       "  likely means that the widgets JavaScript library is either not installed or\n",
       "  not enabled. See the <a href=\"https://ipywidgets.readthedocs.io/en/stable/user_install.html\">Jupyter\n",
       "  Widgets Documentation</a> for setup instructions.\n",
       "</p>\n",
       "<p>\n",
       "  If you're reading this message in another frontend (for example, a static\n",
       "  rendering on GitHub or <a href=\"https://nbviewer.jupyter.org/\">NBViewer</a>),\n",
       "  it may mean that your frontend doesn't currently support widgets.\n",
       "</p>\n"
      ],
      "text/plain": [
       "HBox(children=(IntProgress(value=0, max=10398), HTML(value='')))"
      ]
     },
     "metadata": {},
     "output_type": "display_data"
    },
    {
     "name": "stdout",
     "output_type": "stream",
     "text": [
      "PTT :\t 1211 151 152\n"
     ]
    },
    {
     "data": {
      "application/vnd.jupyter.widget-view+json": {
       "model_id": "e4a3ad44f8d046aa86b77ad5b1081661",
       "version_major": 2,
       "version_minor": 0
      },
      "text/html": [
       "<p>Failed to display Jupyter Widget of type <code>HBox</code>.</p>\n",
       "<p>\n",
       "  If you're reading this message in the Jupyter Notebook or JupyterLab Notebook, it may mean\n",
       "  that the widgets JavaScript is still loading. If this message persists, it\n",
       "  likely means that the widgets JavaScript library is either not installed or\n",
       "  not enabled. See the <a href=\"https://ipywidgets.readthedocs.io/en/stable/user_install.html\">Jupyter\n",
       "  Widgets Documentation</a> for setup instructions.\n",
       "</p>\n",
       "<p>\n",
       "  If you're reading this message in another frontend (for example, a static\n",
       "  rendering on GitHub or <a href=\"https://nbviewer.jupyter.org/\">NBViewer</a>),\n",
       "  it may mean that your frontend doesn't currently support widgets.\n",
       "</p>\n"
      ],
      "text/plain": [
       "HBox(children=(IntProgress(value=0, max=5961), HTML(value='')))"
      ]
     },
     "metadata": {},
     "output_type": "display_data"
    },
    {
     "name": "stdout",
     "output_type": "stream",
     "text": [
      "BBL :\t 1031 128 130\n"
     ]
    },
    {
     "data": {
      "application/vnd.jupyter.widget-view+json": {
       "model_id": "7cd047e160c74e24ae6a40121ac55b80",
       "version_major": 2,
       "version_minor": 0
      },
      "text/html": [
       "<p>Failed to display Jupyter Widget of type <code>HBox</code>.</p>\n",
       "<p>\n",
       "  If you're reading this message in the Jupyter Notebook or JupyterLab Notebook, it may mean\n",
       "  that the widgets JavaScript is still loading. If this message persists, it\n",
       "  likely means that the widgets JavaScript library is either not installed or\n",
       "  not enabled. See the <a href=\"https://ipywidgets.readthedocs.io/en/stable/user_install.html\">Jupyter\n",
       "  Widgets Documentation</a> for setup instructions.\n",
       "</p>\n",
       "<p>\n",
       "  If you're reading this message in another frontend (for example, a static\n",
       "  rendering on GitHub or <a href=\"https://nbviewer.jupyter.org/\">NBViewer</a>),\n",
       "  it may mean that your frontend doesn't currently support widgets.\n",
       "</p>\n"
      ],
      "text/plain": [
       "HBox(children=(IntProgress(value=0, max=8469), HTML(value='')))"
      ]
     },
     "metadata": {},
     "output_type": "display_data"
    },
    {
     "name": "stdout",
     "output_type": "stream",
     "text": [
      "KBANK :\t 1116 139 141\n"
     ]
    },
    {
     "data": {
      "application/vnd.jupyter.widget-view+json": {
       "model_id": "6984745081e541458cec9a63c4bdd18c",
       "version_major": 2,
       "version_minor": 0
      },
      "text/html": [
       "<p>Failed to display Jupyter Widget of type <code>HBox</code>.</p>\n",
       "<p>\n",
       "  If you're reading this message in the Jupyter Notebook or JupyterLab Notebook, it may mean\n",
       "  that the widgets JavaScript is still loading. If this message persists, it\n",
       "  likely means that the widgets JavaScript library is either not installed or\n",
       "  not enabled. See the <a href=\"https://ipywidgets.readthedocs.io/en/stable/user_install.html\">Jupyter\n",
       "  Widgets Documentation</a> for setup instructions.\n",
       "</p>\n",
       "<p>\n",
       "  If you're reading this message in another frontend (for example, a static\n",
       "  rendering on GitHub or <a href=\"https://nbviewer.jupyter.org/\">NBViewer</a>),\n",
       "  it may mean that your frontend doesn't currently support widgets.\n",
       "</p>\n"
      ],
      "text/plain": [
       "HBox(children=(IntProgress(value=0, max=6936), HTML(value='')))"
      ]
     },
     "metadata": {},
     "output_type": "display_data"
    },
    {
     "name": "stdout",
     "output_type": "stream",
     "text": [
      "SCB :\t 1126 140 142\n"
     ]
    },
    {
     "data": {
      "application/vnd.jupyter.widget-view+json": {
       "model_id": "0527521196634b63bd7d77759bf1bec6",
       "version_major": 2,
       "version_minor": 0
      },
      "text/html": [
       "<p>Failed to display Jupyter Widget of type <code>HBox</code>.</p>\n",
       "<p>\n",
       "  If you're reading this message in the Jupyter Notebook or JupyterLab Notebook, it may mean\n",
       "  that the widgets JavaScript is still loading. If this message persists, it\n",
       "  likely means that the widgets JavaScript library is either not installed or\n",
       "  not enabled. See the <a href=\"https://ipywidgets.readthedocs.io/en/stable/user_install.html\">Jupyter\n",
       "  Widgets Documentation</a> for setup instructions.\n",
       "</p>\n",
       "<p>\n",
       "  If you're reading this message in another frontend (for example, a static\n",
       "  rendering on GitHub or <a href=\"https://nbviewer.jupyter.org/\">NBViewer</a>),\n",
       "  it may mean that your frontend doesn't currently support widgets.\n",
       "</p>\n"
      ],
      "text/plain": [
       "HBox(children=(IntProgress(value=0, max=7820), HTML(value='')))"
      ]
     },
     "metadata": {},
     "output_type": "display_data"
    },
    {
     "name": "stdout",
     "output_type": "stream",
     "text": [
      "AOT :\t 1080 135 136\n"
     ]
    },
    {
     "data": {
      "application/vnd.jupyter.widget-view+json": {
       "model_id": "e443446cacc94a91a199ff29b82d554a",
       "version_major": 2,
       "version_minor": 0
      },
      "text/html": [
       "<p>Failed to display Jupyter Widget of type <code>HBox</code>.</p>\n",
       "<p>\n",
       "  If you're reading this message in the Jupyter Notebook or JupyterLab Notebook, it may mean\n",
       "  that the widgets JavaScript is still loading. If this message persists, it\n",
       "  likely means that the widgets JavaScript library is either not installed or\n",
       "  not enabled. See the <a href=\"https://ipywidgets.readthedocs.io/en/stable/user_install.html\">Jupyter\n",
       "  Widgets Documentation</a> for setup instructions.\n",
       "</p>\n",
       "<p>\n",
       "  If you're reading this message in another frontend (for example, a static\n",
       "  rendering on GitHub or <a href=\"https://nbviewer.jupyter.org/\">NBViewer</a>),\n",
       "  it may mean that your frontend doesn't currently support widgets.\n",
       "</p>\n"
      ],
      "text/plain": [
       "HBox(children=(IntProgress(value=0, max=3803), HTML(value='')))"
      ]
     },
     "metadata": {},
     "output_type": "display_data"
    },
    {
     "name": "stdout",
     "output_type": "stream",
     "text": [
      "THAI :\t 855 106 108\n"
     ]
    },
    {
     "data": {
      "application/vnd.jupyter.widget-view+json": {
       "model_id": "9badb675c4904679b559cf6807213dc6",
       "version_major": 2,
       "version_minor": 0
      },
      "text/html": [
       "<p>Failed to display Jupyter Widget of type <code>HBox</code>.</p>\n",
       "<p>\n",
       "  If you're reading this message in the Jupyter Notebook or JupyterLab Notebook, it may mean\n",
       "  that the widgets JavaScript is still loading. If this message persists, it\n",
       "  likely means that the widgets JavaScript library is either not installed or\n",
       "  not enabled. See the <a href=\"https://ipywidgets.readthedocs.io/en/stable/user_install.html\">Jupyter\n",
       "  Widgets Documentation</a> for setup instructions.\n",
       "</p>\n",
       "<p>\n",
       "  If you're reading this message in another frontend (for example, a static\n",
       "  rendering on GitHub or <a href=\"https://nbviewer.jupyter.org/\">NBViewer</a>),\n",
       "  it may mean that your frontend doesn't currently support widgets.\n",
       "</p>\n"
      ],
      "text/plain": [
       "HBox(children=(IntProgress(value=0, max=5642), HTML(value='')))"
      ]
     },
     "metadata": {},
     "output_type": "display_data"
    },
    {
     "name": "stdout",
     "output_type": "stream",
     "text": [
      "CPF :\t 954 119 120\n"
     ]
    },
    {
     "data": {
      "application/vnd.jupyter.widget-view+json": {
       "model_id": "ae7ad589a02d4c5ebbfe65468d750ffa",
       "version_major": 2,
       "version_minor": 0
      },
      "text/html": [
       "<p>Failed to display Jupyter Widget of type <code>HBox</code>.</p>\n",
       "<p>\n",
       "  If you're reading this message in the Jupyter Notebook or JupyterLab Notebook, it may mean\n",
       "  that the widgets JavaScript is still loading. If this message persists, it\n",
       "  likely means that the widgets JavaScript library is either not installed or\n",
       "  not enabled. See the <a href=\"https://ipywidgets.readthedocs.io/en/stable/user_install.html\">Jupyter\n",
       "  Widgets Documentation</a> for setup instructions.\n",
       "</p>\n",
       "<p>\n",
       "  If you're reading this message in another frontend (for example, a static\n",
       "  rendering on GitHub or <a href=\"https://nbviewer.jupyter.org/\">NBViewer</a>),\n",
       "  it may mean that your frontend doesn't currently support widgets.\n",
       "</p>\n"
      ],
      "text/plain": [
       "HBox(children=(IntProgress(value=0, max=4967), HTML(value='')))"
      ]
     },
     "metadata": {},
     "output_type": "display_data"
    },
    {
     "name": "stdout",
     "output_type": "stream",
     "text": [
      "MINT :\t 954 119 120\n"
     ]
    },
    {
     "data": {
      "application/vnd.jupyter.widget-view+json": {
       "model_id": "0bfea58a5fa24b909d00fe27c47dfcec",
       "version_major": 2,
       "version_minor": 0
      },
      "text/html": [
       "<p>Failed to display Jupyter Widget of type <code>HBox</code>.</p>\n",
       "<p>\n",
       "  If you're reading this message in the Jupyter Notebook or JupyterLab Notebook, it may mean\n",
       "  that the widgets JavaScript is still loading. If this message persists, it\n",
       "  likely means that the widgets JavaScript library is either not installed or\n",
       "  not enabled. See the <a href=\"https://ipywidgets.readthedocs.io/en/stable/user_install.html\">Jupyter\n",
       "  Widgets Documentation</a> for setup instructions.\n",
       "</p>\n",
       "<p>\n",
       "  If you're reading this message in another frontend (for example, a static\n",
       "  rendering on GitHub or <a href=\"https://nbviewer.jupyter.org/\">NBViewer</a>),\n",
       "  it may mean that your frontend doesn't currently support widgets.\n",
       "</p>\n"
      ],
      "text/plain": [
       "HBox(children=(IntProgress(value=0, max=3070), HTML(value='')))"
      ]
     },
     "metadata": {},
     "output_type": "display_data"
    },
    {
     "name": "stdout",
     "output_type": "stream",
     "text": [
      "TU :\t 690 86 87\n"
     ]
    },
    {
     "data": {
      "application/vnd.jupyter.widget-view+json": {
       "model_id": "40cf002b979449338d330f84dfa17b63",
       "version_major": 2,
       "version_minor": 0
      },
      "text/html": [
       "<p>Failed to display Jupyter Widget of type <code>HBox</code>.</p>\n",
       "<p>\n",
       "  If you're reading this message in the Jupyter Notebook or JupyterLab Notebook, it may mean\n",
       "  that the widgets JavaScript is still loading. If this message persists, it\n",
       "  likely means that the widgets JavaScript library is either not installed or\n",
       "  not enabled. See the <a href=\"https://ipywidgets.readthedocs.io/en/stable/user_install.html\">Jupyter\n",
       "  Widgets Documentation</a> for setup instructions.\n",
       "</p>\n",
       "<p>\n",
       "  If you're reading this message in another frontend (for example, a static\n",
       "  rendering on GitHub or <a href=\"https://nbviewer.jupyter.org/\">NBViewer</a>),\n",
       "  it may mean that your frontend doesn't currently support widgets.\n",
       "</p>\n"
      ],
      "text/plain": [
       "HBox(children=(IntProgress(value=0, max=6743), HTML(value='')))"
      ]
     },
     "metadata": {},
     "output_type": "display_data"
    },
    {
     "name": "stdout",
     "output_type": "stream",
     "text": [
      "SCC :\t 1043 130 131\n"
     ]
    },
    {
     "data": {
      "application/vnd.jupyter.widget-view+json": {
       "model_id": "338789520336444fb2be0ac46a28558e",
       "version_major": 2,
       "version_minor": 0
      },
      "text/html": [
       "<p>Failed to display Jupyter Widget of type <code>HBox</code>.</p>\n",
       "<p>\n",
       "  If you're reading this message in the Jupyter Notebook or JupyterLab Notebook, it may mean\n",
       "  that the widgets JavaScript is still loading. If this message persists, it\n",
       "  likely means that the widgets JavaScript library is either not installed or\n",
       "  not enabled. See the <a href=\"https://ipywidgets.readthedocs.io/en/stable/user_install.html\">Jupyter\n",
       "  Widgets Documentation</a> for setup instructions.\n",
       "</p>\n",
       "<p>\n",
       "  If you're reading this message in another frontend (for example, a static\n",
       "  rendering on GitHub or <a href=\"https://nbviewer.jupyter.org/\">NBViewer</a>),\n",
       "  it may mean that your frontend doesn't currently support widgets.\n",
       "</p>\n"
      ],
      "text/plain": [
       "HBox(children=(IntProgress(value=0, max=4483), HTML(value='')))"
      ]
     },
     "metadata": {},
     "output_type": "display_data"
    },
    {
     "name": "stdout",
     "output_type": "stream",
     "text": [
      "CPN :\t 883 110 111\n"
     ]
    },
    {
     "data": {
      "application/vnd.jupyter.widget-view+json": {
       "model_id": "171f827bc6934666bc1332ca32498de2",
       "version_major": 2,
       "version_minor": 0
      },
      "text/html": [
       "<p>Failed to display Jupyter Widget of type <code>HBox</code>.</p>\n",
       "<p>\n",
       "  If you're reading this message in the Jupyter Notebook or JupyterLab Notebook, it may mean\n",
       "  that the widgets JavaScript is still loading. If this message persists, it\n",
       "  likely means that the widgets JavaScript library is either not installed or\n",
       "  not enabled. See the <a href=\"https://ipywidgets.readthedocs.io/en/stable/user_install.html\">Jupyter\n",
       "  Widgets Documentation</a> for setup instructions.\n",
       "</p>\n",
       "<p>\n",
       "  If you're reading this message in another frontend (for example, a static\n",
       "  rendering on GitHub or <a href=\"https://nbviewer.jupyter.org/\">NBViewer</a>),\n",
       "  it may mean that your frontend doesn't currently support widgets.\n",
       "</p>\n"
      ],
      "text/plain": [
       "HBox(children=(IntProgress(value=0, max=4706), HTML(value='')))"
      ]
     },
     "metadata": {},
     "output_type": "display_data"
    },
    {
     "name": "stdout",
     "output_type": "stream",
     "text": [
      "CK :\t 996 124 125\n"
     ]
    },
    {
     "data": {
      "application/vnd.jupyter.widget-view+json": {
       "model_id": "052bd10bb38442bb8194e6d393161d2b",
       "version_major": 2,
       "version_minor": 0
      },
      "text/html": [
       "<p>Failed to display Jupyter Widget of type <code>HBox</code>.</p>\n",
       "<p>\n",
       "  If you're reading this message in the Jupyter Notebook or JupyterLab Notebook, it may mean\n",
       "  that the widgets JavaScript is still loading. If this message persists, it\n",
       "  likely means that the widgets JavaScript library is either not installed or\n",
       "  not enabled. See the <a href=\"https://ipywidgets.readthedocs.io/en/stable/user_install.html\">Jupyter\n",
       "  Widgets Documentation</a> for setup instructions.\n",
       "</p>\n",
       "<p>\n",
       "  If you're reading this message in another frontend (for example, a static\n",
       "  rendering on GitHub or <a href=\"https://nbviewer.jupyter.org/\">NBViewer</a>),\n",
       "  it may mean that your frontend doesn't currently support widgets.\n",
       "</p>\n"
      ],
      "text/plain": [
       "HBox(children=(IntProgress(value=0, max=6385), HTML(value='')))"
      ]
     },
     "metadata": {},
     "output_type": "display_data"
    },
    {
     "name": "stdout",
     "output_type": "stream",
     "text": [
      "CPALL :\t 987 123 124\n"
     ]
    },
    {
     "data": {
      "application/vnd.jupyter.widget-view+json": {
       "model_id": "5091cbb491724ee1a6d28743876a7568",
       "version_major": 2,
       "version_minor": 0
      },
      "text/html": [
       "<p>Failed to display Jupyter Widget of type <code>HBox</code>.</p>\n",
       "<p>\n",
       "  If you're reading this message in the Jupyter Notebook or JupyterLab Notebook, it may mean\n",
       "  that the widgets JavaScript is still loading. If this message persists, it\n",
       "  likely means that the widgets JavaScript library is either not installed or\n",
       "  not enabled. See the <a href=\"https://ipywidgets.readthedocs.io/en/stable/user_install.html\">Jupyter\n",
       "  Widgets Documentation</a> for setup instructions.\n",
       "</p>\n",
       "<p>\n",
       "  If you're reading this message in another frontend (for example, a static\n",
       "  rendering on GitHub or <a href=\"https://nbviewer.jupyter.org/\">NBViewer</a>),\n",
       "  it may mean that your frontend doesn't currently support widgets.\n",
       "</p>\n"
      ],
      "text/plain": [
       "HBox(children=(IntProgress(value=0, max=4036), HTML(value='')))"
      ]
     },
     "metadata": {},
     "output_type": "display_data"
    },
    {
     "name": "stdout",
     "output_type": "stream",
     "text": [
      "HMPRO :\t 912 114 115\n"
     ]
    },
    {
     "data": {
      "application/vnd.jupyter.widget-view+json": {
       "model_id": "c0dedc5cc6654b7f93e0537e48751bff",
       "version_major": 2,
       "version_minor": 0
      },
      "text/html": [
       "<p>Failed to display Jupyter Widget of type <code>HBox</code>.</p>\n",
       "<p>\n",
       "  If you're reading this message in the Jupyter Notebook or JupyterLab Notebook, it may mean\n",
       "  that the widgets JavaScript is still loading. If this message persists, it\n",
       "  likely means that the widgets JavaScript library is either not installed or\n",
       "  not enabled. See the <a href=\"https://ipywidgets.readthedocs.io/en/stable/user_install.html\">Jupyter\n",
       "  Widgets Documentation</a> for setup instructions.\n",
       "</p>\n",
       "<p>\n",
       "  If you're reading this message in another frontend (for example, a static\n",
       "  rendering on GitHub or <a href=\"https://nbviewer.jupyter.org/\">NBViewer</a>),\n",
       "  it may mean that your frontend doesn't currently support widgets.\n",
       "</p>\n"
      ],
      "text/plain": [
       "HBox(children=(IntProgress(value=0, max=4726), HTML(value='')))"
      ]
     },
     "metadata": {},
     "output_type": "display_data"
    },
    {
     "name": "stdout",
     "output_type": "stream",
     "text": [
      "BDMS :\t 887 110 112\n"
     ]
    },
    {
     "data": {
      "application/vnd.jupyter.widget-view+json": {
       "model_id": "f858ab6713824a32a498a29aee828580",
       "version_major": 2,
       "version_minor": 0
      },
      "text/html": [
       "<p>Failed to display Jupyter Widget of type <code>HBox</code>.</p>\n",
       "<p>\n",
       "  If you're reading this message in the Jupyter Notebook or JupyterLab Notebook, it may mean\n",
       "  that the widgets JavaScript is still loading. If this message persists, it\n",
       "  likely means that the widgets JavaScript library is either not installed or\n",
       "  not enabled. See the <a href=\"https://ipywidgets.readthedocs.io/en/stable/user_install.html\">Jupyter\n",
       "  Widgets Documentation</a> for setup instructions.\n",
       "</p>\n",
       "<p>\n",
       "  If you're reading this message in another frontend (for example, a static\n",
       "  rendering on GitHub or <a href=\"https://nbviewer.jupyter.org/\">NBViewer</a>),\n",
       "  it may mean that your frontend doesn't currently support widgets.\n",
       "</p>\n"
      ],
      "text/plain": [
       "HBox(children=(IntProgress(value=0, max=3999), HTML(value='')))"
      ]
     },
     "metadata": {},
     "output_type": "display_data"
    },
    {
     "name": "stdout",
     "output_type": "stream",
     "text": [
      "BH :\t 861 107 109\n"
     ]
    },
    {
     "data": {
      "application/vnd.jupyter.widget-view+json": {
       "model_id": "d93e4dc931084614b78b6ae493c939c4",
       "version_major": 2,
       "version_minor": 0
      },
      "text/html": [
       "<p>Failed to display Jupyter Widget of type <code>HBox</code>.</p>\n",
       "<p>\n",
       "  If you're reading this message in the Jupyter Notebook or JupyterLab Notebook, it may mean\n",
       "  that the widgets JavaScript is still loading. If this message persists, it\n",
       "  likely means that the widgets JavaScript library is either not installed or\n",
       "  not enabled. See the <a href=\"https://ipywidgets.readthedocs.io/en/stable/user_install.html\">Jupyter\n",
       "  Widgets Documentation</a> for setup instructions.\n",
       "</p>\n",
       "<p>\n",
       "  If you're reading this message in another frontend (for example, a static\n",
       "  rendering on GitHub or <a href=\"https://nbviewer.jupyter.org/\">NBViewer</a>),\n",
       "  it may mean that your frontend doesn't currently support widgets.\n",
       "</p>\n"
      ],
      "text/plain": [
       "HBox(children=(IntProgress(value=0, max=8167), HTML(value='')))"
      ]
     },
     "metadata": {},
     "output_type": "display_data"
    },
    {
     "name": "stdout",
     "output_type": "stream",
     "text": [
      "ADVANC :\t 1138 142 143\n"
     ]
    },
    {
     "data": {
      "application/vnd.jupyter.widget-view+json": {
       "model_id": "35fbd4635a1d483c925970473c934286",
       "version_major": 2,
       "version_minor": 0
      },
      "text/html": [
       "<p>Failed to display Jupyter Widget of type <code>HBox</code>.</p>\n",
       "<p>\n",
       "  If you're reading this message in the Jupyter Notebook or JupyterLab Notebook, it may mean\n",
       "  that the widgets JavaScript is still loading. If this message persists, it\n",
       "  likely means that the widgets JavaScript library is either not installed or\n",
       "  not enabled. See the <a href=\"https://ipywidgets.readthedocs.io/en/stable/user_install.html\">Jupyter\n",
       "  Widgets Documentation</a> for setup instructions.\n",
       "</p>\n",
       "<p>\n",
       "  If you're reading this message in another frontend (for example, a static\n",
       "  rendering on GitHub or <a href=\"https://nbviewer.jupyter.org/\">NBViewer</a>),\n",
       "  it may mean that your frontend doesn't currently support widgets.\n",
       "</p>\n"
      ],
      "text/plain": [
       "HBox(children=(IntProgress(value=0, max=5391), HTML(value='')))"
      ]
     },
     "metadata": {},
     "output_type": "display_data"
    },
    {
     "name": "stdout",
     "output_type": "stream",
     "text": [
      "JAS :\t 846 105 107\n"
     ]
    },
    {
     "data": {
      "application/vnd.jupyter.widget-view+json": {
       "model_id": "3f0e8002fdf44c27b2c70177350d3bba",
       "version_major": 2,
       "version_minor": 0
      },
      "text/html": [
       "<p>Failed to display Jupyter Widget of type <code>HBox</code>.</p>\n",
       "<p>\n",
       "  If you're reading this message in the Jupyter Notebook or JupyterLab Notebook, it may mean\n",
       "  that the widgets JavaScript is still loading. If this message persists, it\n",
       "  likely means that the widgets JavaScript library is either not installed or\n",
       "  not enabled. See the <a href=\"https://ipywidgets.readthedocs.io/en/stable/user_install.html\">Jupyter\n",
       "  Widgets Documentation</a> for setup instructions.\n",
       "</p>\n",
       "<p>\n",
       "  If you're reading this message in another frontend (for example, a static\n",
       "  rendering on GitHub or <a href=\"https://nbviewer.jupyter.org/\">NBViewer</a>),\n",
       "  it may mean that your frontend doesn't currently support widgets.\n",
       "</p>\n"
      ],
      "text/plain": [
       "HBox(children=(IntProgress(value=0, max=6512), HTML(value='')))"
      ]
     },
     "metadata": {},
     "output_type": "display_data"
    },
    {
     "name": "stdout",
     "output_type": "stream",
     "text": [
      "TRUE :\t 957 119 121\n",
      "\n"
     ]
    },
    {
     "data": {
      "text/plain": [
       "(20466, 2549, 2577)"
      ]
     },
     "execution_count": 4,
     "metadata": {},
     "output_type": "execute_result"
    },
    {
     "data": {
      "text/html": [
       "<div>\n",
       "<style scoped>\n",
       "    .dataframe tbody tr th:only-of-type {\n",
       "        vertical-align: middle;\n",
       "    }\n",
       "\n",
       "    .dataframe tbody tr th {\n",
       "        vertical-align: top;\n",
       "    }\n",
       "\n",
       "    .dataframe thead th {\n",
       "        text-align: right;\n",
       "    }\n",
       "</style>\n",
       "<table border=\"1\" class=\"dataframe\">\n",
       "  <thead>\n",
       "    <tr style=\"text-align: right;\">\n",
       "      <th></th>\n",
       "      <th>Ticker</th>\n",
       "      <th>Text</th>\n",
       "      <th>Close(t+1)</th>\n",
       "      <th>Open(t)</th>\n",
       "      <th>High(t)</th>\n",
       "      <th>Low(t)</th>\n",
       "      <th>Close(t)</th>\n",
       "      <th>Open(t-1)</th>\n",
       "      <th>High(t-1)</th>\n",
       "      <th>Low(t-1)</th>\n",
       "      <th>Close(t-1)</th>\n",
       "      <th>Open(t-2)</th>\n",
       "      <th>High(t-2)</th>\n",
       "      <th>Low(t-2)</th>\n",
       "      <th>Close(t-2)</th>\n",
       "    </tr>\n",
       "    <tr>\n",
       "      <th>Date</th>\n",
       "      <th></th>\n",
       "      <th></th>\n",
       "      <th></th>\n",
       "      <th></th>\n",
       "      <th></th>\n",
       "      <th></th>\n",
       "      <th></th>\n",
       "      <th></th>\n",
       "      <th></th>\n",
       "      <th></th>\n",
       "      <th></th>\n",
       "      <th></th>\n",
       "      <th></th>\n",
       "      <th></th>\n",
       "      <th></th>\n",
       "    </tr>\n",
       "  </thead>\n",
       "  <tbody>\n",
       "    <tr>\n",
       "      <th>2015-02-03</th>\n",
       "      <td>BANPU</td>\n",
       "      <td>โบ รก ชี้ แรง ซื้อ หุ้น น้ำมัน หนุน ดัชนี ขึ้น...</td>\n",
       "      <td>26.25</td>\n",
       "      <td>24.4</td>\n",
       "      <td>25.5</td>\n",
       "      <td>24.4</td>\n",
       "      <td>25.5</td>\n",
       "      <td>24.2</td>\n",
       "      <td>24.3</td>\n",
       "      <td>24.1</td>\n",
       "      <td>24.3</td>\n",
       "      <td>24.1</td>\n",
       "      <td>24.4</td>\n",
       "      <td>24.0</td>\n",
       "      <td>24.3</td>\n",
       "    </tr>\n",
       "  </tbody>\n",
       "</table>\n",
       "</div>"
      ],
      "text/plain": [
       "           Ticker                                               Text  \\\n",
       "Date                                                                   \n",
       "2015-02-03  BANPU  โบ รก ชี้ แรง ซื้อ หุ้น น้ำมัน หนุน ดัชนี ขึ้น...   \n",
       "\n",
       "            Close(t+1)  Open(t)  High(t)  Low(t)  Close(t)  Open(t-1)  \\\n",
       "Date                                                                    \n",
       "2015-02-03       26.25     24.4     25.5    24.4      25.5       24.2   \n",
       "\n",
       "            High(t-1)  Low(t-1)  Close(t-1)  Open(t-2)  High(t-2)  Low(t-2)  \\\n",
       "Date                                                                          \n",
       "2015-02-03       24.3      24.1        24.3       24.1       24.4      24.0   \n",
       "\n",
       "            Close(t-2)  \n",
       "Date                    \n",
       "2015-02-03        24.3  "
      ]
     },
     "execution_count": 4,
     "metadata": {},
     "output_type": "execute_result"
    },
    {
     "data": {
      "text/html": [
       "<div>\n",
       "<style scoped>\n",
       "    .dataframe tbody tr th:only-of-type {\n",
       "        vertical-align: middle;\n",
       "    }\n",
       "\n",
       "    .dataframe tbody tr th {\n",
       "        vertical-align: top;\n",
       "    }\n",
       "\n",
       "    .dataframe thead th {\n",
       "        text-align: right;\n",
       "    }\n",
       "</style>\n",
       "<table border=\"1\" class=\"dataframe\">\n",
       "  <thead>\n",
       "    <tr style=\"text-align: right;\">\n",
       "      <th></th>\n",
       "      <th>Ticker</th>\n",
       "      <th>Text</th>\n",
       "      <th>Close(t+1)</th>\n",
       "      <th>Open(t)</th>\n",
       "      <th>High(t)</th>\n",
       "      <th>Low(t)</th>\n",
       "      <th>Close(t)</th>\n",
       "      <th>Open(t-1)</th>\n",
       "      <th>High(t-1)</th>\n",
       "      <th>Low(t-1)</th>\n",
       "      <th>Close(t-1)</th>\n",
       "      <th>Open(t-2)</th>\n",
       "      <th>High(t-2)</th>\n",
       "      <th>Low(t-2)</th>\n",
       "      <th>Close(t-2)</th>\n",
       "    </tr>\n",
       "    <tr>\n",
       "      <th>Date</th>\n",
       "      <th></th>\n",
       "      <th></th>\n",
       "      <th></th>\n",
       "      <th></th>\n",
       "      <th></th>\n",
       "      <th></th>\n",
       "      <th></th>\n",
       "      <th></th>\n",
       "      <th></th>\n",
       "      <th></th>\n",
       "      <th></th>\n",
       "      <th></th>\n",
       "      <th></th>\n",
       "      <th></th>\n",
       "      <th></th>\n",
       "    </tr>\n",
       "  </thead>\n",
       "  <tbody>\n",
       "    <tr>\n",
       "      <th>2017-06-13</th>\n",
       "      <td>BANPU</td>\n",
       "      <td>หลักทรัพย์ ปริมาณ หุ้น ที่ ขาย ซอ ร์ต หุ้น มูล...</td>\n",
       "      <td>18.1</td>\n",
       "      <td>17.6</td>\n",
       "      <td>17.9</td>\n",
       "      <td>17.6</td>\n",
       "      <td>17.9</td>\n",
       "      <td>17.6</td>\n",
       "      <td>17.7</td>\n",
       "      <td>17.5</td>\n",
       "      <td>17.6</td>\n",
       "      <td>17.5</td>\n",
       "      <td>17.9</td>\n",
       "      <td>17.4</td>\n",
       "      <td>17.5</td>\n",
       "    </tr>\n",
       "  </tbody>\n",
       "</table>\n",
       "</div>"
      ],
      "text/plain": [
       "           Ticker                                               Text  \\\n",
       "Date                                                                   \n",
       "2017-06-13  BANPU  หลักทรัพย์ ปริมาณ หุ้น ที่ ขาย ซอ ร์ต หุ้น มูล...   \n",
       "\n",
       "            Close(t+1)  Open(t)  High(t)  Low(t)  Close(t)  Open(t-1)  \\\n",
       "Date                                                                    \n",
       "2017-06-13        18.1     17.6     17.9    17.6      17.9       17.6   \n",
       "\n",
       "            High(t-1)  Low(t-1)  Close(t-1)  Open(t-2)  High(t-2)  Low(t-2)  \\\n",
       "Date                                                                          \n",
       "2017-06-13       17.7      17.5        17.6       17.5       17.9      17.4   \n",
       "\n",
       "            Close(t-2)  \n",
       "Date                    \n",
       "2017-06-13        17.5  "
      ]
     },
     "execution_count": 4,
     "metadata": {},
     "output_type": "execute_result"
    },
    {
     "data": {
      "text/html": [
       "<div>\n",
       "<style scoped>\n",
       "    .dataframe tbody tr th:only-of-type {\n",
       "        vertical-align: middle;\n",
       "    }\n",
       "\n",
       "    .dataframe tbody tr th {\n",
       "        vertical-align: top;\n",
       "    }\n",
       "\n",
       "    .dataframe thead th {\n",
       "        text-align: right;\n",
       "    }\n",
       "</style>\n",
       "<table border=\"1\" class=\"dataframe\">\n",
       "  <thead>\n",
       "    <tr style=\"text-align: right;\">\n",
       "      <th></th>\n",
       "      <th>Ticker</th>\n",
       "      <th>Text</th>\n",
       "      <th>Close(t+1)</th>\n",
       "      <th>Open(t)</th>\n",
       "      <th>High(t)</th>\n",
       "      <th>Low(t)</th>\n",
       "      <th>Close(t)</th>\n",
       "      <th>Open(t-1)</th>\n",
       "      <th>High(t-1)</th>\n",
       "      <th>Low(t-1)</th>\n",
       "      <th>Close(t-1)</th>\n",
       "      <th>Open(t-2)</th>\n",
       "      <th>High(t-2)</th>\n",
       "      <th>Low(t-2)</th>\n",
       "      <th>Close(t-2)</th>\n",
       "    </tr>\n",
       "    <tr>\n",
       "      <th>Date</th>\n",
       "      <th></th>\n",
       "      <th></th>\n",
       "      <th></th>\n",
       "      <th></th>\n",
       "      <th></th>\n",
       "      <th></th>\n",
       "      <th></th>\n",
       "      <th></th>\n",
       "      <th></th>\n",
       "      <th></th>\n",
       "      <th></th>\n",
       "      <th></th>\n",
       "      <th></th>\n",
       "      <th></th>\n",
       "      <th></th>\n",
       "    </tr>\n",
       "  </thead>\n",
       "  <tbody>\n",
       "    <tr>\n",
       "      <th>2017-10-07</th>\n",
       "      <td>BANPU</td>\n",
       "      <td>หลักทรัพย์ ปริมาณ หุ้น ที่ ขาย ซอ ร์ต หุ้น มูล...</td>\n",
       "      <td>17.4</td>\n",
       "      <td>17.6</td>\n",
       "      <td>17.6</td>\n",
       "      <td>17.3</td>\n",
       "      <td>17.5</td>\n",
       "      <td>17.5</td>\n",
       "      <td>17.6</td>\n",
       "      <td>17.4</td>\n",
       "      <td>17.6</td>\n",
       "      <td>17.6</td>\n",
       "      <td>17.7</td>\n",
       "      <td>17.3</td>\n",
       "      <td>17.5</td>\n",
       "    </tr>\n",
       "  </tbody>\n",
       "</table>\n",
       "</div>"
      ],
      "text/plain": [
       "           Ticker                                               Text  \\\n",
       "Date                                                                   \n",
       "2017-10-07  BANPU  หลักทรัพย์ ปริมาณ หุ้น ที่ ขาย ซอ ร์ต หุ้น มูล...   \n",
       "\n",
       "            Close(t+1)  Open(t)  High(t)  Low(t)  Close(t)  Open(t-1)  \\\n",
       "Date                                                                    \n",
       "2017-10-07        17.4     17.6     17.6    17.3      17.5       17.5   \n",
       "\n",
       "            High(t-1)  Low(t-1)  Close(t-1)  Open(t-2)  High(t-2)  Low(t-2)  \\\n",
       "Date                                                                          \n",
       "2017-10-07       17.6      17.4        17.6       17.6       17.7      17.3   \n",
       "\n",
       "            Close(t-2)  \n",
       "Date                    \n",
       "2017-10-07        17.5  "
      ]
     },
     "execution_count": 4,
     "metadata": {},
     "output_type": "execute_result"
    }
   ],
   "source": [
    "N_lags = 3\n",
    "N_horizon = 1\n",
    "\n",
    "df_train = []\n",
    "df_test = []\n",
    "df_val = []\n",
    "for stock in tqdm_notebook(target_stocks):\n",
    "    news_stocks = []\n",
    "    df_stock = df_news.loc[df_news['Ticker'] == stock]\n",
    "    prev_date = None\n",
    "    prev_text = None\n",
    "    \n",
    "    pbar = tqdm_notebook(total=len(df_stock))\n",
    "    for date, row in df_stock.iterrows():\n",
    "        if prev_date == None:\n",
    "            prev_date = date\n",
    "            prev_text = row['Text']\n",
    "        elif prev_date != date:\n",
    "            # horizon\n",
    "            tmp_date = copy.deepcopy(prev_date)\n",
    "            tmp_date += timedelta(days=1)\n",
    "            prices = []\n",
    "            count_lags = 0 \n",
    "            while count_lags < N_horizon:\n",
    "                price = df_price.loc[(df_price.index == tmp_date) & (df_price['Ticker'] == stock)].values\n",
    "                tmp_date += timedelta(days=1)\n",
    "                if len(price) == 0: continue\n",
    "                prices.append(price[0][4]) # Close price next day(s)\n",
    "                count_lags+=1\n",
    "            \n",
    "            # lag\n",
    "            tmp_date = copy.deepcopy(prev_date)\n",
    "            count_lags = 0 \n",
    "            while count_lags < N_lags:\n",
    "                price = df_price.loc[(df_price.index == tmp_date) & (df_price['Ticker'] == stock)].values\n",
    "                tmp_date -= timedelta(days=1)\n",
    "                if len(price) == 0: continue\n",
    "                for val in price[0][:-1]: \n",
    "                    if type(val) != str: prices.append(val)\n",
    "                count_lags+=1\n",
    "\n",
    "            news_stocks.append([prev_date, stock, prev_text] + prices)\n",
    "            \n",
    "            prev_date = date\n",
    "            prev_text = row['Text']\n",
    "        elif prev_date == date:\n",
    "            prev_text += ' '+row['Text']\n",
    "        \n",
    "        pbar.update(1)\n",
    "    pbar.close()\n",
    "\n",
    "    news_stocks = pd.DataFrame.from_records(news_stocks)\n",
    "    news_stocks.columns = ['Date', 'Ticker', 'Text', \n",
    "                           'Close(t+1)', # 'Close(t+2)','Close(t+3)','Close(t+4)','Close(t+5)',\n",
    "                           'Open(t)', 'High(t)', 'Low(t)', 'Close(t)',\n",
    "                           'Open(t-1)', 'High(t-1)', 'Low(t-1)', 'Close(t-1)',\n",
    "                           'Open(t-2)', 'High(t-2)', 'Low(t-2)', 'Close(t-2)',\n",
    "#                            'Open(t-3)', 'High(t-3)', 'Low(t-3)', 'Close(t-3)',\n",
    "#                            'Open(t-4)', 'High(t-4)', 'Low(t-4)', 'Close(t-4)',\n",
    "#                            'Open(t-5)', 'High(t-5)', 'Low(t-5)', 'Close(t-5)'\n",
    "                          ]\n",
    "    news_stocks = news_stocks.set_index('Date')\n",
    "    \n",
    "    train_size = int(len(news_stocks) * 0.80)\n",
    "    test_size = int(len(news_stocks) * 0.10)\n",
    "    \n",
    "    train = news_stocks.iloc[:train_size]\n",
    "    test = news_stocks.iloc[train_size: train_size + test_size]\n",
    "    val = news_stocks.iloc[train_size + test_size: ]\n",
    "\n",
    "    print(stock, ':\\t',len(train), len(test), len(val))    \n",
    "    df_train.append(train)\n",
    "    df_test.append(test)\n",
    "    df_val.append(val)\n",
    "\n",
    "\n",
    "df_train = pd.concat(df_train, axis=0)\n",
    "df_test = pd.concat(df_test, axis=0)\n",
    "df_val = pd.concat(df_val, axis=0)\n",
    "\n",
    "len(df_train), len(df_test), len(df_val) \n",
    "df_train.head(1)\n",
    "df_test.head(1)\n",
    "df_val.head(1)"
   ]
  },
  {
   "cell_type": "code",
   "execution_count": 6,
   "metadata": {},
   "outputs": [],
   "source": [
    "# df_train.to_csv('data/df_train_news.csv')\n",
    "# df_test.to_csv('data/df_test_news.csv')\n",
    "# df_val.to_csv('data/df_val_news.csv')"
   ]
  },
  {
   "cell_type": "code",
   "execution_count": 7,
   "metadata": {},
   "outputs": [],
   "source": [
    "df_train = pd.read_csv('data/df_train_news.csv')\n",
    "df_train['Date'] = pd.to_datetime(df_train['Date'], format='%Y-%m-%d')\n",
    "df_train = df_train.set_index('Date')\n",
    "\n",
    "df_test = pd.read_csv('data/df_test_news.csv')\n",
    "df_test['Date'] = pd.to_datetime(df_test['Date'], format='%Y-%m-%d')\n",
    "df_test = df_test.set_index('Date')\n",
    "\n",
    "df_val = pd.read_csv('data/df_val_news.csv')\n",
    "df_val['Date'] = pd.to_datetime(df_val['Date'], format='%Y-%m-%d')\n",
    "df_val = df_val.set_index('Date')"
   ]
  },
  {
   "cell_type": "code",
   "execution_count": 7,
   "metadata": {},
   "outputs": [],
   "source": [
    "# df_train = df_train[df_train['Ticker'] != 'BANPU']\n",
    "# df_train = df_train[df_train['Ticker'] != 'IRPC']\n",
    "# df_train = df_train[df_train['Ticker'] != 'BBL']\n",
    "# df_train = df_train[df_train['Ticker'] != 'KBANK']\n",
    "# df_train = df_train[df_train['Ticker'] != 'THAI']\n",
    "# df_train = df_train[df_train['Ticker'] != 'MINT']\n",
    "# df_train = df_train[df_train['Ticker'] != 'TU']\n",
    "# df_train = df_train[df_train['Ticker'] != 'CPN']\n",
    "# df_train = df_train[df_train['Ticker'] != 'CPF']\n",
    "# df_train = df_train[df_train['Ticker'] != 'HMPRO']\n",
    "# df_train = df_train[df_train['Ticker'] != 'JAS']\n",
    "# df_train = df_train[df_train['Ticker'] != 'TRUE']\n",
    "\n",
    "# df_test = df_test[df_test['Ticker'] != 'BANPU']\n",
    "# df_test = df_test[df_test['Ticker'] != 'IRPC']\n",
    "# df_test = df_test[df_test['Ticker'] != 'BBL']\n",
    "# df_test = df_test[df_test['Ticker'] != 'KBANK']\n",
    "# df_test = df_test[df_test['Ticker'] != 'THAI']\n",
    "# df_test = df_test[df_test['Ticker'] != 'MINT']\n",
    "# df_test = df_test[df_test['Ticker'] != 'TU']\n",
    "# df_test = df_test[df_test['Ticker'] != 'CPN']\n",
    "# df_test = df_test[df_test['Ticker'] != 'CPF']\n",
    "# df_test = df_test[df_test['Ticker'] != 'HMPRO']\n",
    "# df_test = df_test[df_test['Ticker'] != 'JAS']\n",
    "# df_test = df_test[df_test['Ticker'] != 'TRUE']\n",
    "\n",
    "# df_val = df_val[df_val['Ticker'] != 'BANPU']\n",
    "# df_val = df_val[df_val['Ticker'] != 'IRPC']\n",
    "# df_val = df_val[df_val['Ticker'] != 'BBL']\n",
    "# df_val = df_val[df_val['Ticker'] != 'KBANK']\n",
    "# df_val = df_val[df_val['Ticker'] != 'THAI']\n",
    "# df_val = df_val[df_val['Ticker'] != 'MINT']\n",
    "# df_val = df_val[df_val['Ticker'] != 'TU']\n",
    "# df_val = df_val[df_val['Ticker'] != 'CPN']\n",
    "# df_val = df_val[df_val['Ticker'] != 'CPF']\n",
    "# df_val = df_val[df_val['Ticker'] != 'HMPRO']\n",
    "# df_val = df_val[df_val['Ticker'] != 'JAS']\n",
    "# df_val = df_val[df_val['Ticker'] != 'TRUE']\n",
    "\n",
    "# target_stocks = ['PTT','SCB','AOT','SCC','CK','CPALL','BH','ADVANC']"
   ]
  },
  {
   "cell_type": "code",
   "execution_count": 8,
   "metadata": {},
   "outputs": [],
   "source": [
    "df_train = df_train[['Ticker', 'Text', 'Close(t+1)', 'Close(t)', 'Close(t-1)', 'Close(t-2)']]\n",
    "df_test = df_test[['Ticker', 'Text', 'Close(t+1)', 'Close(t)', 'Close(t-1)', 'Close(t-2)']]\n",
    "df_val = df_val[['Ticker', 'Text', 'Close(t+1)', 'Close(t)', 'Close(t-1)', 'Close(t-2)']]"
   ]
  },
  {
   "cell_type": "code",
   "execution_count": 9,
   "metadata": {},
   "outputs": [
    {
     "data": {
      "text/plain": [
       "(20466, 6)"
      ]
     },
     "execution_count": 9,
     "metadata": {},
     "output_type": "execute_result"
    },
    {
     "data": {
      "text/plain": [
       "(2549, 6)"
      ]
     },
     "execution_count": 9,
     "metadata": {},
     "output_type": "execute_result"
    },
    {
     "data": {
      "text/plain": [
       "(2577, 6)"
      ]
     },
     "execution_count": 9,
     "metadata": {},
     "output_type": "execute_result"
    }
   ],
   "source": [
    "df_train.shape\n",
    "df_test.shape\n",
    "df_val.shape"
   ]
  },
  {
   "cell_type": "markdown",
   "metadata": {},
   "source": [
    "# TF-IDF Vetorization"
   ]
  },
  {
   "cell_type": "code",
   "execution_count": 10,
   "metadata": {},
   "outputs": [],
   "source": [
    "# Thai shtopwords\n",
    "stop_words = stopwords.words('thai')\n",
    "stop_words.remove('ขึ้น')\n",
    "stop_words.remove('ลง')"
   ]
  },
  {
   "cell_type": "markdown",
   "metadata": {},
   "source": [
    "**max_df** is used for removing terms that appear too frequently, also known as \"corpus-specific stop words\n",
    "\n",
    "**min_df** is used for removing terms that appear too infrequently"
   ]
  },
  {
   "cell_type": "code",
   "execution_count": 11,
   "metadata": {},
   "outputs": [],
   "source": [
    "vertorizer = sklearn.feature_extraction.text.TfidfVectorizer(\n",
    "    stop_words=stop_words,\n",
    "    max_df=0.50,  \n",
    "    min_df=0.03,\n",
    ")"
   ]
  },
  {
   "cell_type": "code",
   "execution_count": 12,
   "metadata": {},
   "outputs": [
    {
     "data": {
      "text/plain": [
       "((20466, 1019), (2549, 1019), (2577, 1019))"
      ]
     },
     "execution_count": 12,
     "metadata": {},
     "output_type": "execute_result"
    },
    {
     "data": {
      "text/plain": [
       "array(['ADVANC', 'AOT', 'BANPU', 'BBL', 'BDMS', 'BH', 'CK', 'CPALL',\n",
       "       'CPF', 'CPN', 'HMPRO', 'IRPC', 'JAS', 'KBANK', 'MINT', 'PTT',\n",
       "       'SCB', 'SCC', 'THAI', 'TRUE', 'TU'], dtype=object)"
      ]
     },
     "execution_count": 12,
     "metadata": {},
     "output_type": "execute_result"
    }
   ],
   "source": [
    "tfidf_train = vertorizer.fit_transform(df_train['Text'])\n",
    "tfidf_test = vertorizer.transform(df_test['Text'])\n",
    "tfidf_val = vertorizer.transform(df_val['Text'])\n",
    "\n",
    "df_tfidf_train = pd.DataFrame.from_records(tfidf_train.toarray())\n",
    "df_tfidf_test = pd.DataFrame.from_records(tfidf_test.toarray())\n",
    "df_tfidf_val = pd.DataFrame.from_records(tfidf_val.toarray())\n",
    "\n",
    "df_tfidf_train = df_tfidf_train.set_index(df_train.index)\n",
    "df_tfidf_test = df_tfidf_test.set_index(df_test.index)\n",
    "df_tfidf_val = df_tfidf_val.set_index(df_val.index)\n",
    "\n",
    "df_tfidf_train.shape, df_tfidf_test.shape, df_tfidf_val.shape\n",
    "\n",
    "# replace Text with TF-IDF vector\n",
    "x_train = df_train.drop(['Text'], axis=1)\n",
    "x_test = df_test.drop(['Text'], axis=1)\n",
    "x_val = df_val.drop(['Text'], axis=1)\n",
    "\n",
    "x_train = pd.concat([x_train, df_tfidf_train], axis=1)\n",
    "x_test = pd.concat([x_test, df_tfidf_test], axis=1)\n",
    "x_val = pd.concat([x_val, df_tfidf_val], axis=1)\n",
    "\n",
    "# Label Encoding\n",
    "le = sklearn.preprocessing.LabelEncoder()\n",
    "x_train['Ticker'] = le.fit_transform(x_train['Ticker'])\n",
    "x_test['Ticker'] = le.transform(x_test['Ticker'])\n",
    "x_val['Ticker'] = le.transform(x_val['Ticker'])\n",
    "# x_train.head(1)\n",
    "le.classes_"
   ]
  },
  {
   "cell_type": "markdown",
   "metadata": {},
   "source": [
    "# Create x_train and y_train"
   ]
  },
  {
   "cell_type": "code",
   "execution_count": 13,
   "metadata": {},
   "outputs": [
    {
     "data": {
      "text/plain": [
       "((20466, 1023), (20466, 1))"
      ]
     },
     "execution_count": 13,
     "metadata": {},
     "output_type": "execute_result"
    },
    {
     "data": {
      "text/plain": [
       "((2577, 1023), (2577, 1))"
      ]
     },
     "execution_count": 13,
     "metadata": {},
     "output_type": "execute_result"
    }
   ],
   "source": [
    "Horizon = 'Close(t+1)'\n",
    "y_train = x_train[[Horizon]]\n",
    "x_train = x_train.drop(['Close(t+1)'], axis=1).copy()\n",
    "x_train.shape, y_train.shape\n",
    "\n",
    "y_val = x_val[[Horizon]]\n",
    "x_val = x_val.drop(['Close(t+1)'], axis=1).copy()\n",
    "x_val.shape, y_val.shape"
   ]
  },
  {
   "cell_type": "markdown",
   "metadata": {},
   "source": [
    "# Feature Selection"
   ]
  },
  {
   "cell_type": "code",
   "execution_count": 14,
   "metadata": {},
   "outputs": [],
   "source": [
    "# sel = sklearn.feature_selection.VarianceThreshold(threshold=(.999 * (1 - .999)))\n",
    "# sel.fit_transform(x_train).shape"
   ]
  },
  {
   "cell_type": "code",
   "execution_count": 15,
   "metadata": {},
   "outputs": [],
   "source": [
    "# sel = sklearn.feature_selection.SelectFromModel(regr, prefit=True)\n",
    "# x_new = sel.transform(x_train)\n",
    "# x_new"
   ]
  },
  {
   "cell_type": "code",
   "execution_count": 16,
   "metadata": {},
   "outputs": [
    {
     "data": {
      "text/plain": [
       "(20466, 20)"
      ]
     },
     "execution_count": 16,
     "metadata": {},
     "output_type": "execute_result"
    }
   ],
   "source": [
    "ward = sklearn.cluster.FeatureAgglomeration(n_clusters=20)\n",
    "ward.fit_transform(x_train).shape"
   ]
  },
  {
   "cell_type": "code",
   "execution_count": 17,
   "metadata": {
    "scrolled": true
   },
   "outputs": [
    {
     "data": {
      "text/plain": [
       "(20466, 20)"
      ]
     },
     "execution_count": 17,
     "metadata": {},
     "output_type": "execute_result"
    }
   ],
   "source": [
    "pca = sklearn.decomposition.PCA(20, random_state=100)\n",
    "pca.fit_transform(x_train).shape"
   ]
  },
  {
   "cell_type": "markdown",
   "metadata": {},
   "source": [
    "## Apply reduction"
   ]
  },
  {
   "cell_type": "code",
   "execution_count": 18,
   "metadata": {},
   "outputs": [
    {
     "data": {
      "text/plain": [
       "((20466, 40), (2577, 40))"
      ]
     },
     "execution_count": 18,
     "metadata": {},
     "output_type": "execute_result"
    }
   ],
   "source": [
    "sel_x_train = np.concatenate((ward.transform(x_train), pca.transform(x_train)), axis=1)\n",
    "sel_x_val = np.concatenate((ward.transform(x_val), pca.transform(x_val)), axis=1)\n",
    "\n",
    "# sel_x_train = ward.transform(x_train)\n",
    "# sel_x_val = ward.transform(x_val)\n",
    "\n",
    "# sel_x_train = pca.transform(x_train)\n",
    "# sel_x_val = pca.transform(x_val)\n",
    "\n",
    "# sel_x_train = deepcopy(x_train)\n",
    "# sel_x_val = deepcopy(x_val)\n",
    "\n",
    "sel_x_train.shape, sel_x_val.shape"
   ]
  },
  {
   "cell_type": "markdown",
   "metadata": {},
   "source": [
    "## Evaluate features"
   ]
  },
  {
   "cell_type": "code",
   "execution_count": 109,
   "metadata": {
    "scrolled": true
   },
   "outputs": [
    {
     "name": "stdout",
     "output_type": "stream",
     "text": [
      "5, 1.1901\n",
      "10, 1.205\n",
      "15, 1.2256\n",
      "20, 1.1991\n",
      "25, 1.2181\n",
      "30, 1.217\n",
      "35, 1.2003\n",
      "40, 1.1985\n",
      "45, 1.2273\n",
      "50, 1.2095\n"
     ]
    }
   ],
   "source": [
    "for i in range(51):\n",
    "    if i%5 != 0 or i < 5: continue\n",
    "        \n",
    "    ward = sklearn.cluster.FeatureAgglomeration(n_clusters=20)\n",
    "    pca = sklearn.decomposition.PCA(i, random_state=100)\n",
    "    \n",
    "    _=ward.fit(x_train)\n",
    "    _=pca.fit(x_train)\n",
    "    \n",
    "    sel_x_train = np.concatenate((ward.transform(x_train), pca.transform(x_train)), axis=1)\n",
    "    sel_x_val = np.concatenate((ward.transform(x_val), pca.transform(x_val)), axis=1)\n",
    "        \n",
    "    rf = ensemble.RandomForestRegressor(**{'criterion': 'mse',\n",
    "     'max_depth': 12,\n",
    "     'max_features': None,\n",
    "     'min_samples_leaf': 2,\n",
    "     'min_samples_split': 2,\n",
    "     'n_jobs': 8,\n",
    "     'random_state': 100})\n",
    "    _=rf.fit(sel_x_train,  np.squeeze(y_train.values))\n",
    "    print(str(i)+',',round(mean_absolute_percentage_error(np.squeeze(y_val.values), rf.predict(sel_x_val)),4))"
   ]
  },
  {
   "cell_type": "markdown",
   "metadata": {},
   "source": [
    "# Linear Regression"
   ]
  },
  {
   "cell_type": "code",
   "execution_count": 115,
   "metadata": {},
   "outputs": [
    {
     "data": {
      "text/plain": [
       "LinearRegression(copy_X=True, fit_intercept=True, n_jobs=1, normalize=False)"
      ]
     },
     "execution_count": 115,
     "metadata": {},
     "output_type": "execute_result"
    },
    {
     "name": "stdout",
     "output_type": "stream",
     "text": [
      "BANPU \tRMSE: 0.32\t MAE: 0.25 \tMAPE: 1.49 \tDA: 0.42\n",
      "IRPC \tRMSE: 0.21\t MAE: 0.17 \tMAPE: 2.90 \tDA: 0.47\n",
      "PTT \tRMSE: 2.71\t MAE: 1.98 \tMAPE: 0.51 \tDA: 0.46\n",
      "BBL \tRMSE: 1.40\t MAE: 1.11 \tMAPE: 0.60 \tDA: 0.39\n",
      "KBANK \tRMSE: 2.20\t MAE: 1.71 \tMAPE: 0.86 \tDA: 0.53\n",
      "SCB \tRMSE: 1.42\t MAE: 1.14 \tMAPE: 0.76 \tDA: 0.56\n",
      "AOT \tRMSE: 0.87\t MAE: 0.68 \tMAPE: 1.35 \tDA: 0.45\n",
      "THAI \tRMSE: 0.45\t MAE: 0.34 \tMAPE: 1.77 \tDA: 0.54\n",
      "CPF \tRMSE: 0.43\t MAE: 0.34 \tMAPE: 1.32 \tDA: 0.55\n",
      "MINT \tRMSE: 0.51\t MAE: 0.41 \tMAPE: 1.01 \tDA: 0.45\n",
      "TU \tRMSE: 0.31\t MAE: 0.25 \tMAPE: 1.29 \tDA: 0.52\n",
      "SCC \tRMSE: 4.37\t MAE: 3.50 \tMAPE: 0.69 \tDA: 0.49\n",
      "CPN \tRMSE: 1.04\t MAE: 0.81 \tMAPE: 1.13 \tDA: 0.48\n",
      "CK \tRMSE: 0.38\t MAE: 0.31 \tMAPE: 1.09 \tDA: 0.55\n",
      "CPALL \tRMSE: 0.53\t MAE: 0.38 \tMAPE: 0.60 \tDA: 0.46\n",
      "HMPRO \tRMSE: 0.25\t MAE: 0.19 \tMAPE: 1.80 \tDA: 0.46\n",
      "BDMS \tRMSE: 0.29\t MAE: 0.23 \tMAPE: 1.15 \tDA: 0.51\n",
      "BH \tRMSE: 2.84\t MAE: 1.86 \tMAPE: 0.94 \tDA: 0.39\n",
      "ADVANC \tRMSE: 1.88\t MAE: 1.40 \tMAPE: 0.77 \tDA: 0.49\n",
      "JAS \tRMSE: 0.22\t MAE: 0.18 \tMAPE: 2.20 \tDA: 0.51\n",
      "TRUE \tRMSE: 0.24\t MAE: 0.20 \tMAPE: 3.34 \tDA: 0.51\n",
      "\n",
      "mean RMSE: 1.09\n",
      "mean MAE: 0.83\n",
      "mean MAPE: 1.31\n",
      "mean DA: 0.4845\n"
     ]
    }
   ],
   "source": [
    "regr = sklearn.linear_model.LinearRegression()\n",
    "regr.fit(sel_x_train, y_train)\n",
    "evaluator(regr, x_test, le, ward=ward, pca=pca)"
   ]
  },
  {
   "cell_type": "markdown",
   "metadata": {},
   "source": [
    "# Decistion Tree Regressor"
   ]
  },
  {
   "cell_type": "code",
   "execution_count": 104,
   "metadata": {},
   "outputs": [
    {
     "data": {
      "application/vnd.jupyter.widget-view+json": {
       "model_id": "e2905095df594778b684d1b3ce978578",
       "version_major": 2,
       "version_minor": 0
      },
      "text/html": [
       "<p>Failed to display Jupyter Widget of type <code>HBox</code>.</p>\n",
       "<p>\n",
       "  If you're reading this message in the Jupyter Notebook or JupyterLab Notebook, it may mean\n",
       "  that the widgets JavaScript is still loading. If this message persists, it\n",
       "  likely means that the widgets JavaScript library is either not installed or\n",
       "  not enabled. See the <a href=\"https://ipywidgets.readthedocs.io/en/stable/user_install.html\">Jupyter\n",
       "  Widgets Documentation</a> for setup instructions.\n",
       "</p>\n",
       "<p>\n",
       "  If you're reading this message in another frontend (for example, a static\n",
       "  rendering on GitHub or <a href=\"https://nbviewer.jupyter.org/\">NBViewer</a>),\n",
       "  it may mean that your frontend doesn't currently support widgets.\n",
       "</p>\n"
      ],
      "text/plain": [
       "HBox(children=(IntProgress(value=0, max=12), HTML(value='')))"
      ]
     },
     "metadata": {},
     "output_type": "display_data"
    },
    {
     "name": "stdout",
     "output_type": "stream",
     "text": [
      "\n"
     ]
    },
    {
     "data": {
      "text/plain": [
       "1.3071729132787637"
      ]
     },
     "execution_count": 104,
     "metadata": {},
     "output_type": "execute_result"
    },
    {
     "data": {
      "text/plain": [
       "{'criterion': 'friedman_mse',\n",
       " 'max_depth': 10,\n",
       " 'max_features': None,\n",
       " 'min_samples_leaf': 1,\n",
       " 'min_samples_split': 2,\n",
       " 'random_state': 100}"
      ]
     },
     "execution_count": 104,
     "metadata": {},
     "output_type": "execute_result"
    }
   ],
   "source": [
    "param_dt = {\n",
    "    'criterion':['friedman_mse'],\n",
    "    'max_depth':[8,10,15],\n",
    "    'max_features':[None],\n",
    "    'min_samples_leaf':[1,2],\n",
    "    'min_samples_split':[2,4],\n",
    "    'random_state': [100]\n",
    "}\n",
    "grids = sklearn.grid_search.ParameterGrid(param_dt)\n",
    "\n",
    "min_MAPE = 9999999\n",
    "best_param = {}\n",
    "dt = None\n",
    "for param in tqdm_notebook(grids):\n",
    "    model = tree.DecisionTreeRegressor(**param)\n",
    "    _=model.fit(sel_x_train, y_train)\n",
    "    MAPE = mean_absolute_percentage_error(np.squeeze(y_val.values), model.predict(sel_x_val))\n",
    "    if MAPE < min_MAPE:\n",
    "        min_MAPE = deepcopy(MAPE)\n",
    "        best_param = deepcopy(param)\n",
    "        dt = deepcopy(model)\n",
    "min_MAPE\n",
    "best_param"
   ]
  },
  {
   "cell_type": "code",
   "execution_count": 21,
   "metadata": {},
   "outputs": [
    {
     "data": {
      "text/plain": [
       "DecisionTreeRegressor(criterion='friedman_mse', max_depth=10,\n",
       "           max_features=None, max_leaf_nodes=None,\n",
       "           min_impurity_decrease=0.0, min_impurity_split=None,\n",
       "           min_samples_leaf=1, min_samples_split=2,\n",
       "           min_weight_fraction_leaf=0.0, presort=False, random_state=100,\n",
       "           splitter='best')"
      ]
     },
     "execution_count": 21,
     "metadata": {},
     "output_type": "execute_result"
    },
    {
     "name": "stdout",
     "output_type": "stream",
     "text": [
      "BANPU \tRMSE: 0.37\t MAE: 0.29 \tMAPE: 1.71 \tDA: 0.47\n",
      "IRPC \tRMSE: 0.10\t MAE: 0.08 \tMAPE: 1.46 \tDA: 0.49\n",
      "PTT \tRMSE: 3.48\t MAE: 2.46 \tMAPE: 0.64 \tDA: 0.50\n",
      "BBL \tRMSE: 1.77\t MAE: 1.36 \tMAPE: 0.74 \tDA: 0.56\n",
      "KBANK \tRMSE: 3.43\t MAE: 2.57 \tMAPE: 1.30 \tDA: 0.44\n",
      "SCB \tRMSE: 1.54\t MAE: 1.22 \tMAPE: 0.80 \tDA: 0.56\n",
      "AOT \tRMSE: 1.00\t MAE: 0.76 \tMAPE: 1.51 \tDA: 0.58\n",
      "THAI \tRMSE: 0.47\t MAE: 0.35 \tMAPE: 1.86 \tDA: 0.54\n",
      "CPF \tRMSE: 0.43\t MAE: 0.33 \tMAPE: 1.28 \tDA: 0.49\n",
      "MINT \tRMSE: 0.53\t MAE: 0.42 \tMAPE: 1.04 \tDA: 0.51\n",
      "TU \tRMSE: 0.29\t MAE: 0.21 \tMAPE: 1.12 \tDA: 0.57\n",
      "SCC \tRMSE: 6.14\t MAE: 4.79 \tMAPE: 0.95 \tDA: 0.48\n",
      "CPN \tRMSE: 1.69\t MAE: 1.29 \tMAPE: 1.84 \tDA: 0.55\n",
      "CK \tRMSE: 0.35\t MAE: 0.28 \tMAPE: 0.98 \tDA: 0.52\n",
      "CPALL \tRMSE: 0.80\t MAE: 0.61 \tMAPE: 0.97 \tDA: 0.59\n",
      "HMPRO \tRMSE: 0.22\t MAE: 0.15 \tMAPE: 1.39 \tDA: 0.58\n",
      "BDMS \tRMSE: 0.29\t MAE: 0.22 \tMAPE: 1.13 \tDA: 0.54\n",
      "BH \tRMSE: 3.46\t MAE: 2.18 \tMAPE: 1.09 \tDA: 0.63\n",
      "ADVANC \tRMSE: 2.34\t MAE: 1.83 \tMAPE: 1.00 \tDA: 0.53\n",
      "JAS \tRMSE: 0.15\t MAE: 0.12 \tMAPE: 1.42 \tDA: 0.53\n",
      "TRUE \tRMSE: 0.12\t MAE: 0.09 \tMAPE: 1.52 \tDA: 0.50\n",
      "\n",
      "mean RMSE: 1.38\n",
      "mean MAE: 1.03\n",
      "mean MAPE: 1.23\n",
      "mean DA: 0.5311\n"
     ]
    }
   ],
   "source": [
    "dt = tree.DecisionTreeRegressor(**{'criterion': 'friedman_mse',\n",
    " 'max_depth': 10,\n",
    " 'max_features': None,\n",
    " 'min_samples_leaf': 1,\n",
    " 'min_samples_split': 2,\n",
    " 'random_state': 100})\n",
    "dt.fit(sel_x_train, y_train)\n",
    "evaluator(dt, x_test, le, ward=ward, pca=pca)"
   ]
  },
  {
   "cell_type": "code",
   "execution_count": 105,
   "metadata": {},
   "outputs": [
    {
     "data": {
      "text/plain": [
       "DecisionTreeRegressor(criterion='friedman_mse', max_depth=10,\n",
       "           max_features=None, max_leaf_nodes=None,\n",
       "           min_impurity_decrease=0.0, min_impurity_split=None,\n",
       "           min_samples_leaf=1, min_samples_split=2,\n",
       "           min_weight_fraction_leaf=0.0, presort=False, random_state=100,\n",
       "           splitter='best')"
      ]
     },
     "execution_count": 105,
     "metadata": {},
     "output_type": "execute_result"
    },
    {
     "name": "stdout",
     "output_type": "stream",
     "text": [
      "BANPU \tRMSE: 0.37\t MAE: 0.29 \tMAPE: 1.71 \tDA: 0.47\n",
      "IRPC \tRMSE: 0.10\t MAE: 0.08 \tMAPE: 1.46 \tDA: 0.49\n",
      "PTT \tRMSE: 3.48\t MAE: 2.46 \tMAPE: 0.64 \tDA: 0.50\n",
      "BBL \tRMSE: 1.77\t MAE: 1.36 \tMAPE: 0.74 \tDA: 0.56\n",
      "KBANK \tRMSE: 3.43\t MAE: 2.57 \tMAPE: 1.30 \tDA: 0.44\n",
      "SCB \tRMSE: 1.54\t MAE: 1.22 \tMAPE: 0.80 \tDA: 0.56\n",
      "AOT \tRMSE: 1.00\t MAE: 0.76 \tMAPE: 1.51 \tDA: 0.58\n",
      "THAI \tRMSE: 0.47\t MAE: 0.35 \tMAPE: 1.86 \tDA: 0.54\n",
      "CPF \tRMSE: 0.43\t MAE: 0.33 \tMAPE: 1.28 \tDA: 0.49\n",
      "MINT \tRMSE: 0.53\t MAE: 0.42 \tMAPE: 1.04 \tDA: 0.51\n",
      "TU \tRMSE: 0.29\t MAE: 0.21 \tMAPE: 1.12 \tDA: 0.57\n",
      "SCC \tRMSE: 6.14\t MAE: 4.79 \tMAPE: 0.95 \tDA: 0.48\n",
      "CPN \tRMSE: 1.69\t MAE: 1.29 \tMAPE: 1.84 \tDA: 0.55\n",
      "CK \tRMSE: 0.35\t MAE: 0.28 \tMAPE: 0.98 \tDA: 0.52\n",
      "CPALL \tRMSE: 0.80\t MAE: 0.61 \tMAPE: 0.97 \tDA: 0.59\n",
      "HMPRO \tRMSE: 0.22\t MAE: 0.15 \tMAPE: 1.39 \tDA: 0.58\n",
      "BDMS \tRMSE: 0.29\t MAE: 0.22 \tMAPE: 1.13 \tDA: 0.54\n",
      "BH \tRMSE: 3.46\t MAE: 2.18 \tMAPE: 1.09 \tDA: 0.63\n",
      "ADVANC \tRMSE: 2.34\t MAE: 1.83 \tMAPE: 1.00 \tDA: 0.53\n",
      "JAS \tRMSE: 0.15\t MAE: 0.12 \tMAPE: 1.42 \tDA: 0.53\n",
      "TRUE \tRMSE: 0.12\t MAE: 0.09 \tMAPE: 1.52 \tDA: 0.50\n",
      "\n",
      "mean RMSE: 1.38\n",
      "mean MAE: 1.03\n",
      "mean MAPE: 1.23\n",
      "mean DA: 0.5311\n"
     ]
    }
   ],
   "source": [
    "dt\n",
    "evaluator(dt, x_test, le)"
   ]
  },
  {
   "cell_type": "markdown",
   "metadata": {},
   "source": [
    "# Random Forest Regrssor"
   ]
  },
  {
   "cell_type": "code",
   "execution_count": 109,
   "metadata": {},
   "outputs": [
    {
     "data": {
      "application/vnd.jupyter.widget-view+json": {
       "model_id": "fb439b5caf854b648c364c09b2f1b58e",
       "version_major": 2,
       "version_minor": 0
      },
      "text/html": [
       "<p>Failed to display Jupyter Widget of type <code>HBox</code>.</p>\n",
       "<p>\n",
       "  If you're reading this message in the Jupyter Notebook or JupyterLab Notebook, it may mean\n",
       "  that the widgets JavaScript is still loading. If this message persists, it\n",
       "  likely means that the widgets JavaScript library is either not installed or\n",
       "  not enabled. See the <a href=\"https://ipywidgets.readthedocs.io/en/stable/user_install.html\">Jupyter\n",
       "  Widgets Documentation</a> for setup instructions.\n",
       "</p>\n",
       "<p>\n",
       "  If you're reading this message in another frontend (for example, a static\n",
       "  rendering on GitHub or <a href=\"https://nbviewer.jupyter.org/\">NBViewer</a>),\n",
       "  it may mean that your frontend doesn't currently support widgets.\n",
       "</p>\n"
      ],
      "text/plain": [
       "HBox(children=(IntProgress(value=0, max=27), HTML(value='')))"
      ]
     },
     "metadata": {},
     "output_type": "display_data"
    },
    {
     "name": "stdout",
     "output_type": "stream",
     "text": [
      "\n"
     ]
    },
    {
     "data": {
      "text/plain": [
       "1.1991307625211338"
      ]
     },
     "execution_count": 109,
     "metadata": {},
     "output_type": "execute_result"
    },
    {
     "data": {
      "text/plain": [
       "{'criterion': 'mse',\n",
       " 'max_depth': 12,\n",
       " 'max_features': None,\n",
       " 'min_samples_leaf': 2,\n",
       " 'min_samples_split': 2,\n",
       " 'n_jobs': 8,\n",
       " 'random_state': 100}"
      ]
     },
     "execution_count": 109,
     "metadata": {},
     "output_type": "execute_result"
    }
   ],
   "source": [
    "grids = sklearn.grid_search.ParameterGrid({\n",
    "    'criterion':['mse'],\n",
    "    'max_depth':[8,12,16],\n",
    "    'max_features':[None],\n",
    "    'min_samples_leaf':[1,2,3],\n",
    "    'min_samples_split':[2,3,4],\n",
    "    'random_state': [100],\n",
    "    'n_jobs':[8]\n",
    "})\n",
    "\n",
    "min_MAPE = 9999999\n",
    "best_param = {}\n",
    "rf = None\n",
    "for param in tqdm_notebook(grids):\n",
    "    model = ensemble.RandomForestRegressor(**param)\n",
    "    _=model.fit(sel_x_train, np.squeeze(y_train.values))\n",
    "    MAPE = mean_absolute_percentage_error(np.squeeze(y_val.values), model.predict(sel_x_val))\n",
    "    if MAPE < min_MAPE:\n",
    "        min_MAPE = deepcopy(MAPE)\n",
    "        best_param = deepcopy(param)\n",
    "        rf = deepcopy(model)\n",
    "min_MAPE\n",
    "best_param"
   ]
  },
  {
   "cell_type": "code",
   "execution_count": 22,
   "metadata": {},
   "outputs": [
    {
     "data": {
      "text/plain": [
       "RandomForestRegressor(bootstrap=True, criterion='mse', max_depth=12,\n",
       "           max_features=None, max_leaf_nodes=None,\n",
       "           min_impurity_decrease=0.0, min_impurity_split=None,\n",
       "           min_samples_leaf=2, min_samples_split=2,\n",
       "           min_weight_fraction_leaf=0.0, n_estimators=10, n_jobs=8,\n",
       "           oob_score=False, random_state=100, verbose=0, warm_start=False)"
      ]
     },
     "execution_count": 22,
     "metadata": {},
     "output_type": "execute_result"
    },
    {
     "name": "stdout",
     "output_type": "stream",
     "text": [
      "BANPU \tRMSE: 0.25\t MAE: 0.19 \tMAPE: 1.14 \tDA: 0.60\n",
      "IRPC \tRMSE: 0.09\t MAE: 0.08 \tMAPE: 1.32 \tDA: 0.51\n",
      "PTT \tRMSE: 3.03\t MAE: 2.27 \tMAPE: 0.59 \tDA: 0.56\n",
      "BBL \tRMSE: 1.74\t MAE: 1.36 \tMAPE: 0.74 \tDA: 0.48\n",
      "KBANK \tRMSE: 2.46\t MAE: 2.01 \tMAPE: 1.01 \tDA: 0.49\n",
      "SCB \tRMSE: 1.50\t MAE: 1.19 \tMAPE: 0.79 \tDA: 0.53\n",
      "AOT \tRMSE: 0.93\t MAE: 0.72 \tMAPE: 1.42 \tDA: 0.56\n",
      "THAI \tRMSE: 0.43\t MAE: 0.33 \tMAPE: 1.72 \tDA: 0.57\n",
      "CPF \tRMSE: 0.37\t MAE: 0.29 \tMAPE: 1.12 \tDA: 0.61\n",
      "MINT \tRMSE: 0.57\t MAE: 0.46 \tMAPE: 1.14 \tDA: 0.39\n",
      "TU \tRMSE: 0.28\t MAE: 0.21 \tMAPE: 1.08 \tDA: 0.58\n",
      "SCC \tRMSE: 4.93\t MAE: 3.99 \tMAPE: 0.79 \tDA: 0.53\n",
      "CPN \tRMSE: 1.18\t MAE: 0.96 \tMAPE: 1.37 \tDA: 0.65\n",
      "CK \tRMSE: 0.34\t MAE: 0.28 \tMAPE: 1.01 \tDA: 0.46\n",
      "CPALL \tRMSE: 0.73\t MAE: 0.57 \tMAPE: 0.90 \tDA: 0.52\n",
      "HMPRO \tRMSE: 0.21\t MAE: 0.14 \tMAPE: 1.31 \tDA: 0.54\n",
      "BDMS \tRMSE: 0.36\t MAE: 0.21 \tMAPE: 1.06 \tDA: 0.46\n",
      "BH \tRMSE: 2.86\t MAE: 1.93 \tMAPE: 0.96 \tDA: 0.62\n",
      "ADVANC \tRMSE: 2.00\t MAE: 1.52 \tMAPE: 0.83 \tDA: 0.57\n",
      "JAS \tRMSE: 0.12\t MAE: 0.09 \tMAPE: 1.10 \tDA: 0.40\n",
      "TRUE \tRMSE: 0.12\t MAE: 0.09 \tMAPE: 1.58 \tDA: 0.53\n",
      "\n",
      "mean RMSE: 1.17\n",
      "mean MAE: 0.9\n",
      "mean MAPE: 1.09\n",
      "mean DA: 0.5313\n"
     ]
    }
   ],
   "source": [
    "rf = ensemble.RandomForestRegressor(**{'criterion': 'mse',\n",
    " 'max_depth': 12,\n",
    " 'max_features': None,\n",
    " 'min_samples_leaf': 2,\n",
    " 'min_samples_split': 2,\n",
    " 'n_jobs': 8,\n",
    " 'random_state': 100})\n",
    "rf.fit(sel_x_train,  np.squeeze(y_train.values))\n",
    "evaluator(rf, x_test, le, ward=ward, pca=pca)"
   ]
  },
  {
   "cell_type": "code",
   "execution_count": 110,
   "metadata": {},
   "outputs": [
    {
     "data": {
      "text/plain": [
       "RandomForestRegressor(bootstrap=True, criterion='mse', max_depth=12,\n",
       "           max_features=None, max_leaf_nodes=None,\n",
       "           min_impurity_decrease=0.0, min_impurity_split=None,\n",
       "           min_samples_leaf=2, min_samples_split=2,\n",
       "           min_weight_fraction_leaf=0.0, n_estimators=10, n_jobs=8,\n",
       "           oob_score=False, random_state=100, verbose=0, warm_start=False)"
      ]
     },
     "execution_count": 110,
     "metadata": {},
     "output_type": "execute_result"
    },
    {
     "name": "stdout",
     "output_type": "stream",
     "text": [
      "BANPU \tRMSE: 0.25\t MAE: 0.19 \tMAPE: 1.14 \tDA: 0.60\n",
      "IRPC \tRMSE: 0.09\t MAE: 0.08 \tMAPE: 1.32 \tDA: 0.51\n",
      "PTT \tRMSE: 3.03\t MAE: 2.27 \tMAPE: 0.59 \tDA: 0.56\n",
      "BBL \tRMSE: 1.74\t MAE: 1.36 \tMAPE: 0.74 \tDA: 0.48\n",
      "KBANK \tRMSE: 2.46\t MAE: 2.01 \tMAPE: 1.01 \tDA: 0.49\n",
      "SCB \tRMSE: 1.50\t MAE: 1.19 \tMAPE: 0.79 \tDA: 0.53\n",
      "AOT \tRMSE: 0.93\t MAE: 0.72 \tMAPE: 1.42 \tDA: 0.56\n",
      "THAI \tRMSE: 0.43\t MAE: 0.33 \tMAPE: 1.72 \tDA: 0.57\n",
      "CPF \tRMSE: 0.37\t MAE: 0.29 \tMAPE: 1.12 \tDA: 0.61\n",
      "MINT \tRMSE: 0.57\t MAE: 0.46 \tMAPE: 1.14 \tDA: 0.39\n",
      "TU \tRMSE: 0.28\t MAE: 0.21 \tMAPE: 1.08 \tDA: 0.58\n",
      "SCC \tRMSE: 4.93\t MAE: 3.99 \tMAPE: 0.79 \tDA: 0.53\n",
      "CPN \tRMSE: 1.18\t MAE: 0.96 \tMAPE: 1.37 \tDA: 0.65\n",
      "CK \tRMSE: 0.34\t MAE: 0.28 \tMAPE: 1.01 \tDA: 0.46\n",
      "CPALL \tRMSE: 0.73\t MAE: 0.57 \tMAPE: 0.90 \tDA: 0.52\n",
      "HMPRO \tRMSE: 0.21\t MAE: 0.14 \tMAPE: 1.31 \tDA: 0.54\n",
      "BDMS \tRMSE: 0.36\t MAE: 0.21 \tMAPE: 1.06 \tDA: 0.46\n",
      "BH \tRMSE: 2.86\t MAE: 1.93 \tMAPE: 0.96 \tDA: 0.62\n",
      "ADVANC \tRMSE: 2.00\t MAE: 1.52 \tMAPE: 0.83 \tDA: 0.57\n",
      "JAS \tRMSE: 0.12\t MAE: 0.09 \tMAPE: 1.10 \tDA: 0.40\n",
      "TRUE \tRMSE: 0.12\t MAE: 0.09 \tMAPE: 1.58 \tDA: 0.53\n",
      "\n",
      "mean RMSE: 1.17\n",
      "mean MAE: 0.9\n",
      "mean MAPE: 1.09\n",
      "mean DA: 0.5313\n"
     ]
    }
   ],
   "source": [
    "rf\n",
    "evaluator(rf, x_test, le)"
   ]
  },
  {
   "cell_type": "markdown",
   "metadata": {},
   "source": [
    "# AdaBoost Regressor"
   ]
  },
  {
   "cell_type": "code",
   "execution_count": 198,
   "metadata": {},
   "outputs": [
    {
     "data": {
      "application/vnd.jupyter.widget-view+json": {
       "model_id": "ff381a4ec0494dae9ff6f28d639702b6",
       "version_major": 2,
       "version_minor": 0
      },
      "text/html": [
       "<p>Failed to display Jupyter Widget of type <code>HBox</code>.</p>\n",
       "<p>\n",
       "  If you're reading this message in the Jupyter Notebook or JupyterLab Notebook, it may mean\n",
       "  that the widgets JavaScript is still loading. If this message persists, it\n",
       "  likely means that the widgets JavaScript library is either not installed or\n",
       "  not enabled. See the <a href=\"https://ipywidgets.readthedocs.io/en/stable/user_install.html\">Jupyter\n",
       "  Widgets Documentation</a> for setup instructions.\n",
       "</p>\n",
       "<p>\n",
       "  If you're reading this message in another frontend (for example, a static\n",
       "  rendering on GitHub or <a href=\"https://nbviewer.jupyter.org/\">NBViewer</a>),\n",
       "  it may mean that your frontend doesn't currently support widgets.\n",
       "</p>\n"
      ],
      "text/plain": [
       "HBox(children=(IntProgress(value=0, max=1), HTML(value='')))"
      ]
     },
     "metadata": {},
     "output_type": "display_data"
    },
    {
     "name": "stdout",
     "output_type": "stream",
     "text": [
      "\n"
     ]
    },
    {
     "data": {
      "text/plain": [
       "1.1273315494031821"
      ]
     },
     "execution_count": 198,
     "metadata": {},
     "output_type": "execute_result"
    },
    {
     "data": {
      "text/plain": [
       "{'base_estimator': RandomForestRegressor(bootstrap=True, criterion='mse', max_depth=12,\n",
       "            max_features=None, max_leaf_nodes=None,\n",
       "            min_impurity_decrease=0.0, min_impurity_split=None,\n",
       "            min_samples_leaf=2, min_samples_split=2,\n",
       "            min_weight_fraction_leaf=0.0, n_estimators=10, n_jobs=8,\n",
       "            oob_score=False, random_state=100, verbose=0, warm_start=False),\n",
       " 'learning_rate': 0.3,\n",
       " 'loss': 'square',\n",
       " 'n_estimators': 20,\n",
       " 'random_state': 100}"
      ]
     },
     "execution_count": 198,
     "metadata": {},
     "output_type": "execute_result"
    }
   ],
   "source": [
    "grids = sklearn.grid_search.ParameterGrid({\n",
    "    'base_estimator':[rf],\n",
    "    'n_estimators':[20],\n",
    "    'learning_rate':[0.3],\n",
    "    'loss':['square'],\n",
    "    'random_state': [100]\n",
    "})\n",
    "\n",
    "min_MAPE = 9999999\n",
    "best_param = {}\n",
    "ada = None\n",
    "for param in tqdm_notebook(grids):\n",
    "    model = ensemble.AdaBoostRegressor(**param)\n",
    "    _=model.fit(sel_x_train, np.squeeze(y_train.values))\n",
    "    MAPE = mean_absolute_percentage_error(np.squeeze(y_val.values), model.predict(sel_x_val))\n",
    "    if MAPE < min_MAPE:\n",
    "        min_MAPE = deepcopy(MAPE)\n",
    "        best_param = deepcopy(param)\n",
    "        ada = deepcopy(model)\n",
    "min_MAPE\n",
    "best_param"
   ]
  },
  {
   "cell_type": "code",
   "execution_count": 23,
   "metadata": {},
   "outputs": [
    {
     "data": {
      "text/plain": [
       "AdaBoostRegressor(base_estimator=RandomForestRegressor(bootstrap=True, criterion='mse', max_depth=12,\n",
       "           max_features=None, max_leaf_nodes=None,\n",
       "           min_impurity_decrease=0.0, min_impurity_split=None,\n",
       "           min_samples_leaf=2, min_samples_split=2,\n",
       "           min_weight_fraction_leaf=0.0, n_estimators=10, n_jobs=8,\n",
       "           oob_score=False, random_state=100, verbose=0, warm_start=False),\n",
       "         learning_rate=0.3, loss='square', n_estimators=20,\n",
       "         random_state=100)"
      ]
     },
     "execution_count": 23,
     "metadata": {},
     "output_type": "execute_result"
    },
    {
     "name": "stdout",
     "output_type": "stream",
     "text": [
      "BANPU \tRMSE: 0.23\t MAE: 0.18 \tMAPE: 1.08 \tDA: 0.57\n",
      "IRPC \tRMSE: 0.09\t MAE: 0.07 \tMAPE: 1.23 \tDA: 0.49\n",
      "PTT \tRMSE: 2.87\t MAE: 2.11 \tMAPE: 0.55 \tDA: 0.56\n",
      "BBL \tRMSE: 1.48\t MAE: 1.18 \tMAPE: 0.64 \tDA: 0.50\n",
      "KBANK \tRMSE: 2.21\t MAE: 1.77 \tMAPE: 0.89 \tDA: 0.48\n",
      "SCB \tRMSE: 1.43\t MAE: 1.11 \tMAPE: 0.73 \tDA: 0.56\n",
      "AOT \tRMSE: 0.91\t MAE: 0.70 \tMAPE: 1.39 \tDA: 0.55\n",
      "THAI \tRMSE: 0.42\t MAE: 0.31 \tMAPE: 1.63 \tDA: 0.56\n",
      "CPF \tRMSE: 0.38\t MAE: 0.29 \tMAPE: 1.13 \tDA: 0.56\n",
      "MINT \tRMSE: 0.52\t MAE: 0.41 \tMAPE: 1.02 \tDA: 0.50\n",
      "TU \tRMSE: 0.28\t MAE: 0.20 \tMAPE: 1.04 \tDA: 0.58\n",
      "SCC \tRMSE: 4.88\t MAE: 3.98 \tMAPE: 0.79 \tDA: 0.48\n",
      "CPN \tRMSE: 1.08\t MAE: 0.85 \tMAPE: 1.20 \tDA: 0.58\n",
      "CK \tRMSE: 0.35\t MAE: 0.28 \tMAPE: 1.00 \tDA: 0.46\n",
      "CPALL \tRMSE: 0.62\t MAE: 0.49 \tMAPE: 0.78 \tDA: 0.50\n",
      "HMPRO \tRMSE: 0.19\t MAE: 0.13 \tMAPE: 1.20 \tDA: 0.53\n",
      "BDMS \tRMSE: 0.24\t MAE: 0.18 \tMAPE: 0.91 \tDA: 0.47\n",
      "BH \tRMSE: 2.65\t MAE: 1.79 \tMAPE: 0.90 \tDA: 0.57\n",
      "ADVANC \tRMSE: 1.92\t MAE: 1.41 \tMAPE: 0.77 \tDA: 0.53\n",
      "JAS \tRMSE: 0.11\t MAE: 0.08 \tMAPE: 1.02 \tDA: 0.44\n",
      "TRUE \tRMSE: 0.11\t MAE: 0.08 \tMAPE: 1.40 \tDA: 0.56\n",
      "\n",
      "mean RMSE: 1.09\n",
      "mean MAE: 0.84\n",
      "mean MAPE: 1.01\n",
      "mean DA: 0.5262\n"
     ]
    }
   ],
   "source": [
    "ada = ensemble.AdaBoostRegressor(**{'base_estimator': rf,\n",
    " 'learning_rate': 0.3,\n",
    " 'loss': 'square',\n",
    " 'n_estimators': 20,\n",
    " 'random_state': 100})\n",
    "ada.fit(sel_x_train,  np.squeeze(y_train.values))\n",
    "evaluator(ada, x_test, le, ward=ward, pca=pca)"
   ]
  },
  {
   "cell_type": "code",
   "execution_count": 199,
   "metadata": {},
   "outputs": [
    {
     "data": {
      "text/plain": [
       "AdaBoostRegressor(base_estimator=RandomForestRegressor(bootstrap=True, criterion='mse', max_depth=12,\n",
       "           max_features=None, max_leaf_nodes=None,\n",
       "           min_impurity_decrease=0.0, min_impurity_split=None,\n",
       "           min_samples_leaf=2, min_samples_split=2,\n",
       "           min_weight_fraction_leaf=0.0, n_estimators=10, n_jobs=8,\n",
       "           oob_score=False, random_state=100, verbose=0, warm_start=False),\n",
       "         learning_rate=0.3, loss='square', n_estimators=20,\n",
       "         random_state=100)"
      ]
     },
     "execution_count": 199,
     "metadata": {},
     "output_type": "execute_result"
    },
    {
     "name": "stdout",
     "output_type": "stream",
     "text": [
      "BANPU \tRMSE: 0.23\t MAE: 0.18 \tMAPE: 1.08 \tDA: 0.57\n",
      "IRPC \tRMSE: 0.09\t MAE: 0.07 \tMAPE: 1.23 \tDA: 0.49\n",
      "PTT \tRMSE: 2.87\t MAE: 2.11 \tMAPE: 0.55 \tDA: 0.56\n",
      "BBL \tRMSE: 1.48\t MAE: 1.18 \tMAPE: 0.64 \tDA: 0.50\n",
      "KBANK \tRMSE: 2.21\t MAE: 1.77 \tMAPE: 0.89 \tDA: 0.48\n",
      "SCB \tRMSE: 1.43\t MAE: 1.11 \tMAPE: 0.73 \tDA: 0.56\n",
      "AOT \tRMSE: 0.91\t MAE: 0.70 \tMAPE: 1.39 \tDA: 0.55\n",
      "THAI \tRMSE: 0.42\t MAE: 0.31 \tMAPE: 1.63 \tDA: 0.56\n",
      "CPF \tRMSE: 0.38\t MAE: 0.29 \tMAPE: 1.13 \tDA: 0.56\n",
      "MINT \tRMSE: 0.52\t MAE: 0.41 \tMAPE: 1.02 \tDA: 0.50\n",
      "TU \tRMSE: 0.28\t MAE: 0.20 \tMAPE: 1.04 \tDA: 0.58\n",
      "SCC \tRMSE: 4.88\t MAE: 3.98 \tMAPE: 0.79 \tDA: 0.48\n",
      "CPN \tRMSE: 1.08\t MAE: 0.85 \tMAPE: 1.20 \tDA: 0.58\n",
      "CK \tRMSE: 0.35\t MAE: 0.28 \tMAPE: 1.00 \tDA: 0.46\n",
      "CPALL \tRMSE: 0.62\t MAE: 0.49 \tMAPE: 0.78 \tDA: 0.50\n",
      "HMPRO \tRMSE: 0.19\t MAE: 0.13 \tMAPE: 1.20 \tDA: 0.53\n",
      "BDMS \tRMSE: 0.24\t MAE: 0.18 \tMAPE: 0.91 \tDA: 0.47\n",
      "BH \tRMSE: 2.65\t MAE: 1.79 \tMAPE: 0.90 \tDA: 0.57\n",
      "ADVANC \tRMSE: 1.92\t MAE: 1.41 \tMAPE: 0.77 \tDA: 0.53\n",
      "JAS \tRMSE: 0.11\t MAE: 0.08 \tMAPE: 1.02 \tDA: 0.44\n",
      "TRUE \tRMSE: 0.11\t MAE: 0.08 \tMAPE: 1.40 \tDA: 0.56\n",
      "\n",
      "mean RMSE: 1.09\n",
      "mean MAE: 0.84\n",
      "mean MAPE: 1.01\n",
      "mean DA: 0.5262\n"
     ]
    }
   ],
   "source": [
    "ada\n",
    "evaluator(ada, x_test, le)"
   ]
  },
  {
   "cell_type": "markdown",
   "metadata": {},
   "source": [
    "# Gradient Boosting Regressor"
   ]
  },
  {
   "cell_type": "code",
   "execution_count": 207,
   "metadata": {},
   "outputs": [
    {
     "data": {
      "application/vnd.jupyter.widget-view+json": {
       "model_id": "fbf937a7a13b4c328cf6b1d2454caad9",
       "version_major": 2,
       "version_minor": 0
      },
      "text/html": [
       "<p>Failed to display Jupyter Widget of type <code>HBox</code>.</p>\n",
       "<p>\n",
       "  If you're reading this message in the Jupyter Notebook or JupyterLab Notebook, it may mean\n",
       "  that the widgets JavaScript is still loading. If this message persists, it\n",
       "  likely means that the widgets JavaScript library is either not installed or\n",
       "  not enabled. See the <a href=\"https://ipywidgets.readthedocs.io/en/stable/user_install.html\">Jupyter\n",
       "  Widgets Documentation</a> for setup instructions.\n",
       "</p>\n",
       "<p>\n",
       "  If you're reading this message in another frontend (for example, a static\n",
       "  rendering on GitHub or <a href=\"https://nbviewer.jupyter.org/\">NBViewer</a>),\n",
       "  it may mean that your frontend doesn't currently support widgets.\n",
       "</p>\n"
      ],
      "text/plain": [
       "HBox(children=(IntProgress(value=0, max=1), HTML(value='')))"
      ]
     },
     "metadata": {},
     "output_type": "display_data"
    },
    {
     "name": "stdout",
     "output_type": "stream",
     "text": [
      "\n"
     ]
    },
    {
     "data": {
      "text/plain": [
       "1.2498595228576765"
      ]
     },
     "execution_count": 207,
     "metadata": {},
     "output_type": "execute_result"
    },
    {
     "data": {
      "text/plain": [
       "{'criterion': 'friedman_mse',\n",
       " 'learning_rate': 0.3,\n",
       " 'max_depth': 8,\n",
       " 'min_samples_leaf': 1,\n",
       " 'min_samples_split': 2,\n",
       " 'n_estimators': 50,\n",
       " 'random_state': 100}"
      ]
     },
     "execution_count": 207,
     "metadata": {},
     "output_type": "execute_result"
    }
   ],
   "source": [
    "grids = sklearn.grid_search.ParameterGrid({\n",
    "#     'criterion':['friedman_mse'],\n",
    "    'n_estimators':[50],\n",
    "    'learning_rate':[0.3],\n",
    "    'max_depth':[8],\n",
    "    'random_state': [100],\n",
    "    'min_samples_split': [2],\n",
    "    'min_samples_leaf': [1]\n",
    "})\n",
    "\n",
    "min_MAPE = 9999999\n",
    "best_param = {}\n",
    "gb = None\n",
    "for param in tqdm_notebook(grids):\n",
    "    model = ensemble.GradientBoostingRegressor(**param)\n",
    "    _=model.fit(sel_x_train, np.squeeze(y_train.values))\n",
    "    MAPE = mean_absolute_percentage_error(np.squeeze(y_val.values), model.predict(sel_x_val))\n",
    "    if MAPE < min_MAPE:\n",
    "        min_MAPE = deepcopy(MAPE)\n",
    "        best_param = deepcopy(param)\n",
    "        gb = deepcopy(model)\n",
    "min_MAPE\n",
    "best_param"
   ]
  },
  {
   "cell_type": "code",
   "execution_count": 24,
   "metadata": {},
   "outputs": [
    {
     "data": {
      "text/plain": [
       "GradientBoostingRegressor(alpha=0.9, criterion='friedman_mse', init=None,\n",
       "             learning_rate=0.3, loss='ls', max_depth=8, max_features=None,\n",
       "             max_leaf_nodes=None, min_impurity_decrease=0.0,\n",
       "             min_impurity_split=None, min_samples_leaf=1,\n",
       "             min_samples_split=2, min_weight_fraction_leaf=0.0,\n",
       "             n_estimators=50, presort='auto', random_state=100,\n",
       "             subsample=1.0, verbose=0, warm_start=False)"
      ]
     },
     "execution_count": 24,
     "metadata": {},
     "output_type": "execute_result"
    },
    {
     "name": "stdout",
     "output_type": "stream",
     "text": [
      "BANPU \tRMSE: 0.25\t MAE: 0.20 \tMAPE: 1.17 \tDA: 0.53\n",
      "IRPC \tRMSE: 0.13\t MAE: 0.09 \tMAPE: 1.58 \tDA: 0.50\n",
      "PTT \tRMSE: 2.78\t MAE: 1.98 \tMAPE: 0.51 \tDA: 0.65\n",
      "BBL \tRMSE: 1.70\t MAE: 1.35 \tMAPE: 0.73 \tDA: 0.55\n",
      "KBANK \tRMSE: 2.28\t MAE: 1.86 \tMAPE: 0.94 \tDA: 0.53\n",
      "SCB \tRMSE: 1.48\t MAE: 1.18 \tMAPE: 0.78 \tDA: 0.54\n",
      "AOT \tRMSE: 0.86\t MAE: 0.62 \tMAPE: 1.23 \tDA: 0.61\n",
      "THAI \tRMSE: 0.42\t MAE: 0.29 \tMAPE: 1.55 \tDA: 0.60\n",
      "CPF \tRMSE: 0.39\t MAE: 0.30 \tMAPE: 1.15 \tDA: 0.57\n",
      "MINT \tRMSE: 0.51\t MAE: 0.43 \tMAPE: 1.06 \tDA: 0.48\n",
      "TU \tRMSE: 0.31\t MAE: 0.22 \tMAPE: 1.17 \tDA: 0.55\n",
      "SCC \tRMSE: 5.63\t MAE: 4.41 \tMAPE: 0.88 \tDA: 0.52\n",
      "CPN \tRMSE: 1.14\t MAE: 0.89 \tMAPE: 1.26 \tDA: 0.54\n",
      "CK \tRMSE: 0.34\t MAE: 0.28 \tMAPE: 1.00 \tDA: 0.45\n",
      "CPALL \tRMSE: 0.61\t MAE: 0.47 \tMAPE: 0.75 \tDA: 0.42\n",
      "HMPRO \tRMSE: 0.22\t MAE: 0.14 \tMAPE: 1.29 \tDA: 0.50\n",
      "BDMS \tRMSE: 0.25\t MAE: 0.19 \tMAPE: 0.95 \tDA: 0.45\n",
      "BH \tRMSE: 2.84\t MAE: 2.01 \tMAPE: 1.02 \tDA: 0.53\n",
      "ADVANC \tRMSE: 2.00\t MAE: 1.58 \tMAPE: 0.87 \tDA: 0.51\n",
      "JAS \tRMSE: 0.13\t MAE: 0.09 \tMAPE: 1.11 \tDA: 0.50\n",
      "TRUE \tRMSE: 0.16\t MAE: 0.11 \tMAPE: 1.81 \tDA: 0.48\n",
      "\n",
      "mean RMSE: 1.16\n",
      "mean MAE: 0.89\n",
      "mean MAPE: 1.09\n",
      "mean DA: 0.5245\n"
     ]
    }
   ],
   "source": [
    "gb = ensemble.GradientBoostingRegressor(**{'criterion': 'friedman_mse',\n",
    " 'learning_rate': 0.3,\n",
    " 'max_depth': 8,\n",
    " 'min_samples_leaf': 1,\n",
    " 'min_samples_split': 2,\n",
    " 'n_estimators': 50,\n",
    " 'random_state': 100})\n",
    "gb.fit(sel_x_train,  np.squeeze(y_train.values))\n",
    "evaluator(gb, x_test, le, ward=ward, pca=pca)"
   ]
  },
  {
   "cell_type": "code",
   "execution_count": 208,
   "metadata": {},
   "outputs": [
    {
     "data": {
      "text/plain": [
       "GradientBoostingRegressor(alpha=0.9, criterion='friedman_mse', init=None,\n",
       "             learning_rate=0.3, loss='ls', max_depth=8, max_features=None,\n",
       "             max_leaf_nodes=None, min_impurity_decrease=0.0,\n",
       "             min_impurity_split=None, min_samples_leaf=1,\n",
       "             min_samples_split=2, min_weight_fraction_leaf=0.0,\n",
       "             n_estimators=50, presort='auto', random_state=100,\n",
       "             subsample=1.0, verbose=0, warm_start=False)"
      ]
     },
     "execution_count": 208,
     "metadata": {},
     "output_type": "execute_result"
    },
    {
     "name": "stdout",
     "output_type": "stream",
     "text": [
      "BANPU \tRMSE: 0.25\t MAE: 0.20 \tMAPE: 1.17 \tDA: 0.53\n",
      "IRPC \tRMSE: 0.13\t MAE: 0.09 \tMAPE: 1.58 \tDA: 0.50\n",
      "PTT \tRMSE: 2.78\t MAE: 1.98 \tMAPE: 0.51 \tDA: 0.65\n",
      "BBL \tRMSE: 1.70\t MAE: 1.35 \tMAPE: 0.73 \tDA: 0.55\n",
      "KBANK \tRMSE: 2.28\t MAE: 1.86 \tMAPE: 0.94 \tDA: 0.53\n",
      "SCB \tRMSE: 1.48\t MAE: 1.18 \tMAPE: 0.78 \tDA: 0.54\n",
      "AOT \tRMSE: 0.86\t MAE: 0.62 \tMAPE: 1.23 \tDA: 0.61\n",
      "THAI \tRMSE: 0.42\t MAE: 0.29 \tMAPE: 1.55 \tDA: 0.60\n",
      "CPF \tRMSE: 0.39\t MAE: 0.30 \tMAPE: 1.15 \tDA: 0.57\n",
      "MINT \tRMSE: 0.51\t MAE: 0.43 \tMAPE: 1.06 \tDA: 0.48\n",
      "TU \tRMSE: 0.31\t MAE: 0.22 \tMAPE: 1.17 \tDA: 0.55\n",
      "SCC \tRMSE: 5.63\t MAE: 4.41 \tMAPE: 0.88 \tDA: 0.52\n",
      "CPN \tRMSE: 1.14\t MAE: 0.89 \tMAPE: 1.26 \tDA: 0.54\n",
      "CK \tRMSE: 0.34\t MAE: 0.28 \tMAPE: 1.00 \tDA: 0.45\n",
      "CPALL \tRMSE: 0.61\t MAE: 0.47 \tMAPE: 0.75 \tDA: 0.42\n",
      "HMPRO \tRMSE: 0.22\t MAE: 0.14 \tMAPE: 1.29 \tDA: 0.50\n",
      "BDMS \tRMSE: 0.25\t MAE: 0.19 \tMAPE: 0.95 \tDA: 0.45\n",
      "BH \tRMSE: 2.84\t MAE: 2.01 \tMAPE: 1.02 \tDA: 0.53\n",
      "ADVANC \tRMSE: 2.00\t MAE: 1.58 \tMAPE: 0.87 \tDA: 0.51\n",
      "JAS \tRMSE: 0.13\t MAE: 0.09 \tMAPE: 1.11 \tDA: 0.50\n",
      "TRUE \tRMSE: 0.16\t MAE: 0.11 \tMAPE: 1.81 \tDA: 0.48\n",
      "\n",
      "mean RMSE: 1.16\n",
      "mean MAE: 0.89\n",
      "mean MAPE: 1.09\n",
      "mean DA: 0.5245\n"
     ]
    }
   ],
   "source": [
    "gb\n",
    "evaluator(gb, x_test, le)"
   ]
  },
  {
   "cell_type": "markdown",
   "metadata": {},
   "source": [
    "# XGBoost Regressor"
   ]
  },
  {
   "cell_type": "code",
   "execution_count": 25,
   "metadata": {},
   "outputs": [],
   "source": [
    "d_train = xgboost.DMatrix(sel_x_train, label=y_train)\n",
    "d_valid = xgboost.DMatrix(sel_x_val, label=y_val)"
   ]
  },
  {
   "cell_type": "code",
   "execution_count": 26,
   "metadata": {},
   "outputs": [
    {
     "data": {
      "application/vnd.jupyter.widget-view+json": {
       "model_id": "a3a31597189c440a8a4754b652aa218d",
       "version_major": 2,
       "version_minor": 0
      },
      "text/html": [
       "<p>Failed to display Jupyter Widget of type <code>HBox</code>.</p>\n",
       "<p>\n",
       "  If you're reading this message in the Jupyter Notebook or JupyterLab Notebook, it may mean\n",
       "  that the widgets JavaScript is still loading. If this message persists, it\n",
       "  likely means that the widgets JavaScript library is either not installed or\n",
       "  not enabled. See the <a href=\"https://ipywidgets.readthedocs.io/en/stable/user_install.html\">Jupyter\n",
       "  Widgets Documentation</a> for setup instructions.\n",
       "</p>\n",
       "<p>\n",
       "  If you're reading this message in another frontend (for example, a static\n",
       "  rendering on GitHub or <a href=\"https://nbviewer.jupyter.org/\">NBViewer</a>),\n",
       "  it may mean that your frontend doesn't currently support widgets.\n",
       "</p>\n"
      ],
      "text/plain": [
       "HBox(children=(IntProgress(value=0, max=1), HTML(value='')))"
      ]
     },
     "metadata": {},
     "output_type": "display_data"
    },
    {
     "name": "stdout",
     "output_type": "stream",
     "text": [
      "[0]\ttrain-rmse:68.3109\tvalid-rmse:67.2115\n",
      "Multiple eval metrics have been passed: 'valid-rmse' will be used for early stopping.\n",
      "\n",
      "Will train until valid-rmse hasn't improved in 10 rounds.\n",
      "[1]\ttrain-rmse:4.69258\tvalid-rmse:2.05195\n",
      "[2]\ttrain-rmse:4.66639\tvalid-rmse:2.03387\n",
      "[3]\ttrain-rmse:4.66639\tvalid-rmse:2.03385\n",
      "[4]\ttrain-rmse:4.66639\tvalid-rmse:2.03384\n",
      "[5]\ttrain-rmse:4.66639\tvalid-rmse:2.03383\n",
      "[6]\ttrain-rmse:4.66638\tvalid-rmse:2.03382\n",
      "[7]\ttrain-rmse:4.66635\tvalid-rmse:2.03349\n",
      "[8]\ttrain-rmse:4.66635\tvalid-rmse:2.03348\n",
      "[9]\ttrain-rmse:4.66635\tvalid-rmse:2.03347\n",
      "[10]\ttrain-rmse:4.66635\tvalid-rmse:2.03345\n",
      "[11]\ttrain-rmse:4.66634\tvalid-rmse:2.03344\n",
      "[12]\ttrain-rmse:4.66634\tvalid-rmse:2.03343\n",
      "[13]\ttrain-rmse:4.66605\tvalid-rmse:2.03246\n",
      "[14]\ttrain-rmse:4.66574\tvalid-rmse:2.03084\n",
      "[15]\ttrain-rmse:4.66566\tvalid-rmse:2.02959\n",
      "[16]\ttrain-rmse:4.6657\tvalid-rmse:2.02892\n",
      "[17]\ttrain-rmse:4.66579\tvalid-rmse:2.02855\n",
      "[18]\ttrain-rmse:4.66588\tvalid-rmse:2.02835\n",
      "[19]\ttrain-rmse:4.66596\tvalid-rmse:2.02823\n",
      "[20]\ttrain-rmse:4.66602\tvalid-rmse:2.02816\n",
      "[21]\ttrain-rmse:4.66607\tvalid-rmse:2.02813\n",
      "[22]\ttrain-rmse:4.66611\tvalid-rmse:2.0281\n",
      "[23]\ttrain-rmse:4.66614\tvalid-rmse:2.02809\n",
      "[24]\ttrain-rmse:4.66617\tvalid-rmse:2.02808\n",
      "[25]\ttrain-rmse:4.66618\tvalid-rmse:2.02808\n",
      "[26]\ttrain-rmse:4.66619\tvalid-rmse:2.02807\n",
      "[27]\ttrain-rmse:4.66619\tvalid-rmse:2.02806\n",
      "[28]\ttrain-rmse:4.66619\tvalid-rmse:2.02806\n",
      "[29]\ttrain-rmse:4.66619\tvalid-rmse:2.02806\n",
      "[30]\ttrain-rmse:4.66619\tvalid-rmse:2.02806\n",
      "[31]\ttrain-rmse:4.66619\tvalid-rmse:2.02806\n",
      "[32]\ttrain-rmse:4.66619\tvalid-rmse:2.02806\n",
      "[33]\ttrain-rmse:4.66619\tvalid-rmse:2.02806\n",
      "[34]\ttrain-rmse:4.66619\tvalid-rmse:2.02806\n",
      "[35]\ttrain-rmse:4.66619\tvalid-rmse:2.02806\n",
      "[36]\ttrain-rmse:4.66619\tvalid-rmse:2.02806\n",
      "[37]\ttrain-rmse:4.66619\tvalid-rmse:2.02806\n",
      "[38]\ttrain-rmse:4.66619\tvalid-rmse:2.02806\n",
      "[39]\ttrain-rmse:4.66619\tvalid-rmse:2.02806\n",
      "Stopping. Best iteration:\n",
      "[29]\ttrain-rmse:4.66619\tvalid-rmse:2.02806\n",
      "\n",
      "\n"
     ]
    },
    {
     "data": {
      "text/plain": [
       "1.011604401602321"
      ]
     },
     "execution_count": 26,
     "metadata": {},
     "output_type": "execute_result"
    },
    {
     "data": {
      "text/plain": [
       "{'alpha': 0.45,\n",
       " 'booster': 'gblinear',\n",
       " 'eval_metric': 'rmse',\n",
       " 'lambda': 0.1,\n",
       " 'learning_rate': 1,\n",
       " 'nthread': 8,\n",
       " 'objective': 'reg:linear',\n",
       " 'subsample': 1,\n",
       " 'updater': 'coord_descent'}"
      ]
     },
     "execution_count": 26,
     "metadata": {},
     "output_type": "execute_result"
    }
   ],
   "source": [
    "grids = sklearn.grid_search.ParameterGrid({\n",
    "    'booster':['gblinear'],\n",
    "    'learning_rate':[1],\n",
    "#     'max_depth':[4,5,6,7,8],\n",
    "    'subsample': [1],\n",
    "    'objective': ['reg:linear'],\n",
    "    'eval_metric': ['rmse'],\n",
    "    'nthread': [8],\n",
    "    'lambda': [0.1],\n",
    "    'alpha': [0.45],\n",
    "    'updater': ['coord_descent']\n",
    "})\n",
    "\n",
    "min_MAPE = 9999999\n",
    "best_param = {}\n",
    "xgb = None\n",
    "for param in tqdm_notebook(grids):\n",
    "    model = xgboost.train(\n",
    "        param, \n",
    "        d_train, \n",
    "        num_boost_round=500, \n",
    "        evals=[(d_train, 'train'), (d_valid, 'valid')], \n",
    "        early_stopping_rounds=10,\n",
    "        verbose_eval=True\n",
    "    )\n",
    "    MAPE = mean_absolute_percentage_error(np.squeeze(y_val.values), model.predict(d_valid))\n",
    "    if MAPE < min_MAPE:\n",
    "        min_MAPE = deepcopy(MAPE)\n",
    "        best_param = deepcopy(param)\n",
    "        xgb = deepcopy(model)\n",
    "min_MAPE\n",
    "best_param"
   ]
  },
  {
   "cell_type": "code",
   "execution_count": 27,
   "metadata": {},
   "outputs": [
    {
     "name": "stdout",
     "output_type": "stream",
     "text": [
      "BANPU \tRMSE: 0.23\t MAE: 0.17 \tMAPE: 1.01 \tDA: 0.58\n",
      "IRPC \tRMSE: 0.08\t MAE: 0.07 \tMAPE: 1.18 \tDA: 0.69\n",
      "PTT \tRMSE: 2.68\t MAE: 1.96 \tMAPE: 0.51 \tDA: 0.45\n",
      "BBL \tRMSE: 1.34\t MAE: 1.08 \tMAPE: 0.59 \tDA: 0.34\n",
      "KBANK \tRMSE: 2.19\t MAE: 1.72 \tMAPE: 0.86 \tDA: 0.44\n",
      "SCB \tRMSE: 1.42\t MAE: 1.16 \tMAPE: 0.77 \tDA: 0.39\n",
      "AOT \tRMSE: 0.85\t MAE: 0.65 \tMAPE: 1.28 \tDA: 0.61\n",
      "THAI \tRMSE: 0.42\t MAE: 0.30 \tMAPE: 1.57 \tDA: 0.54\n",
      "CPF \tRMSE: 0.37\t MAE: 0.29 \tMAPE: 1.13 \tDA: 0.60\n",
      "MINT \tRMSE: 0.49\t MAE: 0.38 \tMAPE: 0.93 \tDA: 0.54\n",
      "TU \tRMSE: 0.24\t MAE: 0.17 \tMAPE: 0.87 \tDA: 0.47\n",
      "SCC \tRMSE: 4.37\t MAE: 3.50 \tMAPE: 0.69 \tDA: 0.49\n",
      "CPN \tRMSE: 1.01\t MAE: 0.78 \tMAPE: 1.09 \tDA: 0.68\n",
      "CK \tRMSE: 0.32\t MAE: 0.27 \tMAPE: 0.95 \tDA: 0.60\n",
      "CPALL \tRMSE: 0.47\t MAE: 0.31 \tMAPE: 0.50 \tDA: 0.40\n",
      "HMPRO \tRMSE: 0.17\t MAE: 0.11 \tMAPE: 1.06 \tDA: 0.69\n",
      "BDMS \tRMSE: 0.21\t MAE: 0.17 \tMAPE: 0.85 \tDA: 0.62\n",
      "BH \tRMSE: 2.77\t MAE: 1.77 \tMAPE: 0.89 \tDA: 0.43\n",
      "ADVANC \tRMSE: 1.87\t MAE: 1.39 \tMAPE: 0.76 \tDA: 0.46\n",
      "JAS \tRMSE: 0.11\t MAE: 0.08 \tMAPE: 1.03 \tDA: 0.52\n",
      "TRUE \tRMSE: 0.10\t MAE: 0.07 \tMAPE: 1.27 \tDA: 0.53\n",
      "\n",
      "mean RMSE: 1.03\n",
      "mean MAE: 0.78\n",
      "mean MAPE: 0.94\n",
      "mean DA: 0.5265\n"
     ]
    }
   ],
   "source": [
    "evaluator(xgb, x_test, le, isXGB=True, ward=ward, pca=pca)"
   ]
  },
  {
   "cell_type": "code",
   "execution_count": 40,
   "metadata": {},
   "outputs": [
    {
     "name": "stdout",
     "output_type": "stream",
     "text": [
      "BANPU \tRMSE: 0.23\t MAE: 0.17 \tMAPE: 1.01 \tDA: 0.58\n",
      "IRPC \tRMSE: 0.08\t MAE: 0.07 \tMAPE: 1.18 \tDA: 0.69\n",
      "PTT \tRMSE: 2.68\t MAE: 1.96 \tMAPE: 0.51 \tDA: 0.45\n",
      "BBL \tRMSE: 1.34\t MAE: 1.08 \tMAPE: 0.59 \tDA: 0.34\n",
      "KBANK \tRMSE: 2.19\t MAE: 1.72 \tMAPE: 0.86 \tDA: 0.44\n",
      "SCB \tRMSE: 1.42\t MAE: 1.16 \tMAPE: 0.77 \tDA: 0.39\n",
      "AOT \tRMSE: 0.85\t MAE: 0.65 \tMAPE: 1.28 \tDA: 0.61\n",
      "THAI \tRMSE: 0.42\t MAE: 0.30 \tMAPE: 1.57 \tDA: 0.54\n",
      "CPF \tRMSE: 0.37\t MAE: 0.29 \tMAPE: 1.13 \tDA: 0.60\n",
      "MINT \tRMSE: 0.49\t MAE: 0.38 \tMAPE: 0.93 \tDA: 0.54\n",
      "TU \tRMSE: 0.24\t MAE: 0.17 \tMAPE: 0.87 \tDA: 0.47\n",
      "SCC \tRMSE: 4.37\t MAE: 3.50 \tMAPE: 0.69 \tDA: 0.49\n",
      "CPN \tRMSE: 1.01\t MAE: 0.78 \tMAPE: 1.09 \tDA: 0.68\n",
      "CK \tRMSE: 0.32\t MAE: 0.27 \tMAPE: 0.95 \tDA: 0.60\n",
      "CPALL \tRMSE: 0.47\t MAE: 0.31 \tMAPE: 0.50 \tDA: 0.40\n",
      "HMPRO \tRMSE: 0.17\t MAE: 0.11 \tMAPE: 1.06 \tDA: 0.69\n",
      "BDMS \tRMSE: 0.21\t MAE: 0.17 \tMAPE: 0.85 \tDA: 0.62\n",
      "BH \tRMSE: 2.77\t MAE: 1.77 \tMAPE: 0.89 \tDA: 0.43\n",
      "ADVANC \tRMSE: 1.87\t MAE: 1.39 \tMAPE: 0.76 \tDA: 0.46\n",
      "JAS \tRMSE: 0.11\t MAE: 0.08 \tMAPE: 1.03 \tDA: 0.52\n",
      "TRUE \tRMSE: 0.10\t MAE: 0.07 \tMAPE: 1.27 \tDA: 0.53\n",
      "\n",
      "mean RMSE: 1.03\n",
      "mean MAE: 0.78\n",
      "mean MAPE: 0.94\n",
      "mean DA: 0.5265\n"
     ]
    }
   ],
   "source": [
    "evaluator(xgb, x_test, le, isXGB=True)"
   ]
  },
  {
   "cell_type": "code",
   "execution_count": 238,
   "metadata": {},
   "outputs": [],
   "source": [
    "# xgboost.plot_importance(xgb, height=0.3)"
   ]
  },
  {
   "cell_type": "code",
   "execution_count": null,
   "metadata": {},
   "outputs": [],
   "source": []
  },
  {
   "cell_type": "code",
   "execution_count": null,
   "metadata": {},
   "outputs": [],
   "source": []
  },
  {
   "cell_type": "markdown",
   "metadata": {},
   "source": [
    "# KNeighbors"
   ]
  },
  {
   "cell_type": "code",
   "execution_count": 28,
   "metadata": {},
   "outputs": [
    {
     "data": {
      "application/vnd.jupyter.widget-view+json": {
       "model_id": "72d1fd8ef9594dedb9d3be0273355a33",
       "version_major": 2,
       "version_minor": 0
      },
      "text/html": [
       "<p>Failed to display Jupyter Widget of type <code>HBox</code>.</p>\n",
       "<p>\n",
       "  If you're reading this message in the Jupyter Notebook or JupyterLab Notebook, it may mean\n",
       "  that the widgets JavaScript is still loading. If this message persists, it\n",
       "  likely means that the widgets JavaScript library is either not installed or\n",
       "  not enabled. See the <a href=\"https://ipywidgets.readthedocs.io/en/stable/user_install.html\">Jupyter\n",
       "  Widgets Documentation</a> for setup instructions.\n",
       "</p>\n",
       "<p>\n",
       "  If you're reading this message in another frontend (for example, a static\n",
       "  rendering on GitHub or <a href=\"https://nbviewer.jupyter.org/\">NBViewer</a>),\n",
       "  it may mean that your frontend doesn't currently support widgets.\n",
       "</p>\n"
      ],
      "text/plain": [
       "HBox(children=(IntProgress(value=0, max=1), HTML(value='')))"
      ]
     },
     "metadata": {},
     "output_type": "display_data"
    },
    {
     "name": "stdout",
     "output_type": "stream",
     "text": [
      "\n"
     ]
    },
    {
     "data": {
      "text/plain": [
       "1.2119618123338594"
      ]
     },
     "execution_count": 28,
     "metadata": {},
     "output_type": "execute_result"
    },
    {
     "data": {
      "text/plain": [
       "{'algorithm': 'ball_tree',\n",
       " 'leaf_size': 20,\n",
       " 'n_jobs': -1,\n",
       " 'n_neighbors': 9,\n",
       " 'p': 2,\n",
       " 'weights': 'distance'}"
      ]
     },
     "execution_count": 28,
     "metadata": {},
     "output_type": "execute_result"
    }
   ],
   "source": [
    "grids = sklearn.grid_search.ParameterGrid({\n",
    "    'algorithm': ['ball_tree'],\n",
    "    'weights': ['distance'],\n",
    "    'n_neighbors': [9],\n",
    "    'leaf_size': [20],\n",
    "    'p': [2],\n",
    "    'n_jobs':[-1]\n",
    "})\n",
    "\n",
    "min_MAPE = 9999999\n",
    "best_param = {}\n",
    "knn = None\n",
    "for param in tqdm_notebook(grids):\n",
    "    model = sklearn.neighbors.KNeighborsRegressor(**param)\n",
    "    _=model.fit(sel_x_train, np.squeeze(y_train.values))\n",
    "    MAPE = mean_absolute_percentage_error(np.squeeze(y_val.values), model.predict(sel_x_val))\n",
    "    if MAPE < min_MAPE:\n",
    "        min_MAPE = deepcopy(MAPE)\n",
    "        best_param = deepcopy(param)\n",
    "        knn = deepcopy(model)\n",
    "min_MAPE\n",
    "best_param"
   ]
  },
  {
   "cell_type": "code",
   "execution_count": 29,
   "metadata": {},
   "outputs": [
    {
     "data": {
      "text/plain": [
       "KNeighborsRegressor(algorithm='ball_tree', leaf_size=20, metric='minkowski',\n",
       "          metric_params=None, n_jobs=-1, n_neighbors=9, p=2,\n",
       "          weights='distance')"
      ]
     },
     "execution_count": 29,
     "metadata": {},
     "output_type": "execute_result"
    },
    {
     "name": "stdout",
     "output_type": "stream",
     "text": [
      "BANPU \tRMSE: 0.26\t MAE: 0.20 \tMAPE: 1.16 \tDA: 0.62\n",
      "IRPC \tRMSE: 0.13\t MAE: 0.10 \tMAPE: 1.76 \tDA: 0.44\n",
      "PTT \tRMSE: 2.90\t MAE: 1.96 \tMAPE: 0.51 \tDA: 0.60\n",
      "BBL \tRMSE: 1.32\t MAE: 1.06 \tMAPE: 0.58 \tDA: 0.55\n",
      "KBANK \tRMSE: 2.27\t MAE: 1.74 \tMAPE: 0.88 \tDA: 0.66\n",
      "SCB \tRMSE: 1.47\t MAE: 1.11 \tMAPE: 0.73 \tDA: 0.58\n",
      "AOT \tRMSE: 0.92\t MAE: 0.71 \tMAPE: 1.42 \tDA: 0.53\n",
      "THAI \tRMSE: 0.52\t MAE: 0.39 \tMAPE: 2.07 \tDA: 0.61\n",
      "CPF \tRMSE: 0.45\t MAE: 0.35 \tMAPE: 1.32 \tDA: 0.50\n",
      "MINT \tRMSE: 0.52\t MAE: 0.39 \tMAPE: 0.96 \tDA: 0.59\n",
      "TU \tRMSE: 0.30\t MAE: 0.21 \tMAPE: 1.12 \tDA: 0.60\n",
      "SCC \tRMSE: 4.12\t MAE: 3.42 \tMAPE: 0.68 \tDA: 0.55\n",
      "CPN \tRMSE: 0.86\t MAE: 0.70 \tMAPE: 1.00 \tDA: 0.66\n",
      "CK \tRMSE: 0.37\t MAE: 0.29 \tMAPE: 1.03 \tDA: 0.49\n",
      "CPALL \tRMSE: 0.61\t MAE: 0.47 \tMAPE: 0.75 \tDA: 0.43\n",
      "HMPRO \tRMSE: 0.25\t MAE: 0.17 \tMAPE: 1.60 \tDA: 0.54\n",
      "BDMS \tRMSE: 0.26\t MAE: 0.20 \tMAPE: 0.99 \tDA: 0.49\n",
      "BH \tRMSE: 2.89\t MAE: 2.03 \tMAPE: 1.02 \tDA: 0.52\n",
      "ADVANC \tRMSE: 1.96\t MAE: 1.45 \tMAPE: 0.80 \tDA: 0.58\n",
      "JAS \tRMSE: 0.17\t MAE: 0.13 \tMAPE: 1.58 \tDA: 0.49\n",
      "TRUE \tRMSE: 0.19\t MAE: 0.16 \tMAPE: 2.78 \tDA: 0.52\n",
      "\n",
      "mean RMSE: 1.08\n",
      "mean MAE: 0.82\n",
      "mean MAPE: 1.18\n",
      "mean DA: 0.5508\n"
     ]
    }
   ],
   "source": [
    "knn\n",
    "evaluator(knn, x_test, le, ward=ward, pca=pca)"
   ]
  },
  {
   "cell_type": "code",
   "execution_count": 134,
   "metadata": {},
   "outputs": [
    {
     "data": {
      "text/plain": [
       "KNeighborsRegressor(algorithm='ball_tree', leaf_size=20, metric='minkowski',\n",
       "          metric_params=None, n_jobs=-1, n_neighbors=9, p=2,\n",
       "          weights='distance')"
      ]
     },
     "execution_count": 134,
     "metadata": {},
     "output_type": "execute_result"
    },
    {
     "name": "stdout",
     "output_type": "stream",
     "text": [
      "BANPU \tRMSE: 0.26\t MAE: 0.20 \tMAPE: 1.16 \tDA: 0.62\n",
      "IRPC \tRMSE: 0.13\t MAE: 0.10 \tMAPE: 1.76 \tDA: 0.44\n",
      "PTT \tRMSE: 2.90\t MAE: 1.96 \tMAPE: 0.51 \tDA: 0.60\n",
      "BBL \tRMSE: 1.32\t MAE: 1.06 \tMAPE: 0.58 \tDA: 0.55\n",
      "KBANK \tRMSE: 2.27\t MAE: 1.74 \tMAPE: 0.88 \tDA: 0.66\n",
      "SCB \tRMSE: 1.47\t MAE: 1.11 \tMAPE: 0.73 \tDA: 0.58\n",
      "AOT \tRMSE: 0.92\t MAE: 0.71 \tMAPE: 1.42 \tDA: 0.53\n",
      "THAI \tRMSE: 0.52\t MAE: 0.39 \tMAPE: 2.07 \tDA: 0.61\n",
      "CPF \tRMSE: 0.45\t MAE: 0.35 \tMAPE: 1.32 \tDA: 0.50\n",
      "MINT \tRMSE: 0.52\t MAE: 0.39 \tMAPE: 0.96 \tDA: 0.59\n",
      "TU \tRMSE: 0.30\t MAE: 0.21 \tMAPE: 1.12 \tDA: 0.60\n",
      "SCC \tRMSE: 4.12\t MAE: 3.42 \tMAPE: 0.68 \tDA: 0.55\n",
      "CPN \tRMSE: 0.86\t MAE: 0.70 \tMAPE: 1.00 \tDA: 0.66\n",
      "CK \tRMSE: 0.37\t MAE: 0.29 \tMAPE: 1.03 \tDA: 0.49\n",
      "CPALL \tRMSE: 0.61\t MAE: 0.47 \tMAPE: 0.75 \tDA: 0.43\n",
      "HMPRO \tRMSE: 0.25\t MAE: 0.17 \tMAPE: 1.60 \tDA: 0.54\n",
      "BDMS \tRMSE: 0.26\t MAE: 0.20 \tMAPE: 0.99 \tDA: 0.49\n",
      "BH \tRMSE: 2.89\t MAE: 2.03 \tMAPE: 1.02 \tDA: 0.52\n",
      "ADVANC \tRMSE: 1.96\t MAE: 1.45 \tMAPE: 0.80 \tDA: 0.58\n",
      "JAS \tRMSE: 0.17\t MAE: 0.13 \tMAPE: 1.58 \tDA: 0.49\n",
      "TRUE \tRMSE: 0.19\t MAE: 0.16 \tMAPE: 2.78 \tDA: 0.52\n",
      "\n",
      "mean RMSE: 1.08\n",
      "mean MAE: 0.82\n",
      "mean MAPE: 1.18\n",
      "mean DA: 0.5508\n"
     ]
    }
   ],
   "source": []
  },
  {
   "cell_type": "markdown",
   "metadata": {},
   "source": [
    "# Bayesian Ridge"
   ]
  },
  {
   "cell_type": "code",
   "execution_count": 30,
   "metadata": {},
   "outputs": [
    {
     "data": {
      "application/vnd.jupyter.widget-view+json": {
       "model_id": "98d27f96f14247529f8a7f72b680cd5e",
       "version_major": 2,
       "version_minor": 0
      },
      "text/html": [
       "<p>Failed to display Jupyter Widget of type <code>HBox</code>.</p>\n",
       "<p>\n",
       "  If you're reading this message in the Jupyter Notebook or JupyterLab Notebook, it may mean\n",
       "  that the widgets JavaScript is still loading. If this message persists, it\n",
       "  likely means that the widgets JavaScript library is either not installed or\n",
       "  not enabled. See the <a href=\"https://ipywidgets.readthedocs.io/en/stable/user_install.html\">Jupyter\n",
       "  Widgets Documentation</a> for setup instructions.\n",
       "</p>\n",
       "<p>\n",
       "  If you're reading this message in another frontend (for example, a static\n",
       "  rendering on GitHub or <a href=\"https://nbviewer.jupyter.org/\">NBViewer</a>),\n",
       "  it may mean that your frontend doesn't currently support widgets.\n",
       "</p>\n"
      ],
      "text/plain": [
       "HBox(children=(IntProgress(value=0, max=9), HTML(value='')))"
      ]
     },
     "metadata": {},
     "output_type": "display_data"
    },
    {
     "name": "stdout",
     "output_type": "stream",
     "text": [
      "\n"
     ]
    },
    {
     "data": {
      "text/plain": [
       "1.1096049449259355"
      ]
     },
     "execution_count": 30,
     "metadata": {},
     "output_type": "execute_result"
    },
    {
     "data": {
      "text/plain": [
       "{'alpha_1': 0.1, 'lambda_1': 0.1, 'n_iter': 5, 'tol': 1}"
      ]
     },
     "execution_count": 30,
     "metadata": {},
     "output_type": "execute_result"
    }
   ],
   "source": [
    "grids = sklearn.grid_search.ParameterGrid({\n",
    "    'n_iter':[5,10,20],\n",
    "    'tol': [0.01, 0.1, 1],\n",
    "    'alpha_1': [0.1],\n",
    "    'lambda_1': [0.1]\n",
    "})\n",
    "\n",
    "min_MAPE = 9999999\n",
    "best_param = {}\n",
    "bay = None\n",
    "for param in tqdm_notebook(grids):\n",
    "    model = sklearn.linear_model.BayesianRidge(**param)\n",
    "    _=model.fit(sel_x_train, np.squeeze(y_train.values))\n",
    "    MAPE = mean_absolute_percentage_error(np.squeeze(y_val.values), model.predict(sel_x_val))\n",
    "    if MAPE < min_MAPE:\n",
    "        min_MAPE = deepcopy(MAPE)\n",
    "        best_param = deepcopy(param)\n",
    "        bay = deepcopy(model)\n",
    "min_MAPE\n",
    "best_param"
   ]
  },
  {
   "cell_type": "code",
   "execution_count": 31,
   "metadata": {},
   "outputs": [
    {
     "data": {
      "text/plain": [
       "BayesianRidge(alpha_1=0.1, alpha_2=1e-06, compute_score=False, copy_X=True,\n",
       "       fit_intercept=True, lambda_1=0.1, lambda_2=1e-06, n_iter=5,\n",
       "       normalize=False, tol=1, verbose=False)"
      ]
     },
     "execution_count": 31,
     "metadata": {},
     "output_type": "execute_result"
    },
    {
     "name": "stdout",
     "output_type": "stream",
     "text": [
      "BANPU \tRMSE: 0.23\t MAE: 0.16 \tMAPE: 0.96 \tDA: 0.45\n",
      "IRPC \tRMSE: 0.10\t MAE: 0.08 \tMAPE: 1.45 \tDA: 0.64\n",
      "PTT \tRMSE: 2.69\t MAE: 1.97 \tMAPE: 0.51 \tDA: 0.44\n",
      "BBL \tRMSE: 1.35\t MAE: 1.10 \tMAPE: 0.60 \tDA: 0.32\n",
      "KBANK \tRMSE: 2.18\t MAE: 1.70 \tMAPE: 0.85 \tDA: 0.42\n",
      "SCB \tRMSE: 1.42\t MAE: 1.14 \tMAPE: 0.75 \tDA: 0.46\n",
      "AOT \tRMSE: 0.88\t MAE: 0.69 \tMAPE: 1.36 \tDA: 0.27\n",
      "THAI \tRMSE: 0.44\t MAE: 0.32 \tMAPE: 1.66 \tDA: 0.54\n",
      "CPF \tRMSE: 0.38\t MAE: 0.30 \tMAPE: 1.15 \tDA: 0.57\n",
      "MINT \tRMSE: 0.49\t MAE: 0.39 \tMAPE: 0.96 \tDA: 0.56\n",
      "TU \tRMSE: 0.28\t MAE: 0.21 \tMAPE: 1.12 \tDA: 0.55\n",
      "SCC \tRMSE: 4.36\t MAE: 3.51 \tMAPE: 0.70 \tDA: 0.48\n",
      "CPN \tRMSE: 1.02\t MAE: 0.78 \tMAPE: 1.10 \tDA: 0.48\n",
      "CK \tRMSE: 0.33\t MAE: 0.27 \tMAPE: 0.95 \tDA: 0.43\n",
      "CPALL \tRMSE: 0.47\t MAE: 0.32 \tMAPE: 0.51 \tDA: 0.38\n",
      "HMPRO \tRMSE: 0.17\t MAE: 0.12 \tMAPE: 1.13 \tDA: 0.62\n",
      "BDMS \tRMSE: 0.22\t MAE: 0.17 \tMAPE: 0.84 \tDA: 0.55\n",
      "BH \tRMSE: 2.79\t MAE: 1.81 \tMAPE: 0.91 \tDA: 0.30\n",
      "ADVANC \tRMSE: 1.87\t MAE: 1.40 \tMAPE: 0.77 \tDA: 0.42\n",
      "JAS \tRMSE: 0.14\t MAE: 0.11 \tMAPE: 1.37 \tDA: 0.50\n",
      "TRUE \tRMSE: 0.16\t MAE: 0.14 \tMAPE: 2.37 \tDA: 0.55\n",
      "\n",
      "mean RMSE: 1.05\n",
      "mean MAE: 0.79\n",
      "mean MAPE: 1.05\n",
      "mean DA: 0.4726\n"
     ]
    }
   ],
   "source": [
    "bay\n",
    "evaluator(bay, x_test, le, ward=ward, pca=pca)"
   ]
  },
  {
   "cell_type": "markdown",
   "metadata": {},
   "source": [
    "# Stacking Ensemble"
   ]
  },
  {
   "cell_type": "code",
   "execution_count": 32,
   "metadata": {},
   "outputs": [
    {
     "data": {
      "text/plain": [
       "(2577, 47)"
      ]
     },
     "execution_count": 32,
     "metadata": {},
     "output_type": "execute_result"
    }
   ],
   "source": [
    "stack = np.concatenate((\n",
    "    dt.predict(sel_x_val).reshape(-1,1),\n",
    "    rf.predict(sel_x_val).reshape(-1,1),\n",
    "    ada.predict(sel_x_val).reshape(-1,1),\n",
    "    gb.predict(sel_x_val).reshape(-1,1),\n",
    "    xgb.predict(d_valid).reshape(-1,1),\n",
    "    knn.predict(sel_x_val).reshape(-1,1),\n",
    "    bay.predict(sel_x_val).reshape(-1,1),\n",
    "    sel_x_val\n",
    "), axis=1)\n",
    "\n",
    "stack.shape"
   ]
  },
  {
   "cell_type": "code",
   "execution_count": 148,
   "metadata": {},
   "outputs": [
    {
     "name": "stdout",
     "output_type": "stream",
     "text": [
      "MAPE: 1 1.0617\n",
      "MAPE: 2 1.0662\n",
      "MAPE: 3 1.0539\n",
      "MAPE: 4 1.0124\n",
      "MAPE: 5 1.0144\n",
      "MAPE: 6 0.9938\n",
      "MAPE: 7 0.9907\n",
      "MAPE: 8 0.9989\n",
      "MAPE: 9 0.9983\n",
      "MAPE: 10 1.0038\n",
      "MAPE: 11 1.0033\n",
      "MAPE: 12 1.0026\n",
      "MAPE: 13 1.001\n",
      "MAPE: 14 1.0053\n",
      "MAPE: 15 0.9977\n"
     ]
    }
   ],
   "source": [
    "for k in range(15):\n",
    "#     sel_stack = sklearn.cluster.FeatureAgglomeration(n_clusters=k+1)\n",
    "    sel_stack = sklearn.decomposition.PCA(k+1, random_state=100)\n",
    "    sel_x_stack = sel_stack.fit_transform(stack)\n",
    "\n",
    "    params = {\n",
    "#         'random_state': 100,\n",
    "#         'n_jobs':8\n",
    "    }\n",
    "\n",
    "    gb_stack = sklearn.linear_model.HuberRegressor(**params)\n",
    "    _=gb_stack.fit(sel_x_stack, np.squeeze(y_val.values))\n",
    "\n",
    "    print('MAPE:', k+1, round(mean_absolute_percentage_error(np.squeeze(y_val.values), gb_stack.predict(sel_x_stack)),4))"
   ]
  },
  {
   "cell_type": "code",
   "execution_count": 33,
   "metadata": {},
   "outputs": [],
   "source": [
    "sel_stack = sklearn.decomposition.PCA(7, random_state=100)\n",
    "sel_x_stack = sel_stack.fit_transform(stack)"
   ]
  },
  {
   "cell_type": "code",
   "execution_count": 140,
   "metadata": {},
   "outputs": [
    {
     "data": {
      "text/plain": [
       "(2577, 7)"
      ]
     },
     "execution_count": 140,
     "metadata": {},
     "output_type": "execute_result"
    }
   ],
   "source": [
    "# sel_x_stack = deepcopy(stack)\n",
    "# sel_x_stack.shape"
   ]
  },
  {
   "cell_type": "code",
   "execution_count": 34,
   "metadata": {},
   "outputs": [
    {
     "data": {
      "application/vnd.jupyter.widget-view+json": {
       "model_id": "a6645699df9b4825ac4ebe2c5a36fb02",
       "version_major": 2,
       "version_minor": 0
      },
      "text/html": [
       "<p>Failed to display Jupyter Widget of type <code>HBox</code>.</p>\n",
       "<p>\n",
       "  If you're reading this message in the Jupyter Notebook or JupyterLab Notebook, it may mean\n",
       "  that the widgets JavaScript is still loading. If this message persists, it\n",
       "  likely means that the widgets JavaScript library is either not installed or\n",
       "  not enabled. See the <a href=\"https://ipywidgets.readthedocs.io/en/stable/user_install.html\">Jupyter\n",
       "  Widgets Documentation</a> for setup instructions.\n",
       "</p>\n",
       "<p>\n",
       "  If you're reading this message in another frontend (for example, a static\n",
       "  rendering on GitHub or <a href=\"https://nbviewer.jupyter.org/\">NBViewer</a>),\n",
       "  it may mean that your frontend doesn't currently support widgets.\n",
       "</p>\n"
      ],
      "text/plain": [
       "HBox(children=(IntProgress(value=0, max=48), HTML(value='')))"
      ]
     },
     "metadata": {},
     "output_type": "display_data"
    },
    {
     "name": "stdout",
     "output_type": "stream",
     "text": [
      "\n"
     ]
    },
    {
     "data": {
      "text/plain": [
       "0.9888869809470686"
      ]
     },
     "execution_count": 34,
     "metadata": {},
     "output_type": "execute_result"
    },
    {
     "data": {
      "text/plain": [
       "{'alpha': 0.01, 'fit_intercept': True, 'max_iter': 100, 'tol': 0.1}"
      ]
     },
     "execution_count": 34,
     "metadata": {},
     "output_type": "execute_result"
    }
   ],
   "source": [
    "grids = sklearn.grid_search.ParameterGrid({\n",
    "    'fit_intercept': [True],\n",
    "    'max_iter':[12, 25, 50, 100],\n",
    "    'alpha':[0.1,0.01,0.001],\n",
    "    'tol':[0.1,0.001,0.001,0.0001]\n",
    "})\n",
    "\n",
    "min_MAPE = 9999999\n",
    "best_param = {}\n",
    "gb_stack = None\n",
    "for param in tqdm_notebook(grids):\n",
    "    model = sklearn.linear_model.HuberRegressor(**param)\n",
    "    _=model.fit(sel_x_stack, np.squeeze(y_val.values))\n",
    "    MAPE = mean_absolute_percentage_error(np.squeeze(y_val.values), model.predict(sel_x_stack))\n",
    "    if MAPE < min_MAPE:\n",
    "        min_MAPE = deepcopy(MAPE)\n",
    "        best_param = deepcopy(param)\n",
    "        gb_stack = deepcopy(model)\n",
    "min_MAPE\n",
    "best_param"
   ]
  },
  {
   "cell_type": "code",
   "execution_count": 56,
   "metadata": {},
   "outputs": [
    {
     "data": {
      "application/vnd.jupyter.widget-view+json": {
       "model_id": "47d6a0ee80a642aca8cb2c4a213f004d",
       "version_major": 2,
       "version_minor": 0
      },
      "text/html": [
       "<p>Failed to display Jupyter Widget of type <code>HBox</code>.</p>\n",
       "<p>\n",
       "  If you're reading this message in the Jupyter Notebook or JupyterLab Notebook, it may mean\n",
       "  that the widgets JavaScript is still loading. If this message persists, it\n",
       "  likely means that the widgets JavaScript library is either not installed or\n",
       "  not enabled. See the <a href=\"https://ipywidgets.readthedocs.io/en/stable/user_install.html\">Jupyter\n",
       "  Widgets Documentation</a> for setup instructions.\n",
       "</p>\n",
       "<p>\n",
       "  If you're reading this message in another frontend (for example, a static\n",
       "  rendering on GitHub or <a href=\"https://nbviewer.jupyter.org/\">NBViewer</a>),\n",
       "  it may mean that your frontend doesn't currently support widgets.\n",
       "</p>\n"
      ],
      "text/plain": [
       "HBox(children=(IntProgress(value=0, max=48), HTML(value='')))"
      ]
     },
     "metadata": {},
     "output_type": "display_data"
    },
    {
     "name": "stdout",
     "output_type": "stream",
     "text": [
      "\n"
     ]
    },
    {
     "data": {
      "text/plain": [
       "0.9887403202429025"
      ]
     },
     "execution_count": 56,
     "metadata": {},
     "output_type": "execute_result"
    },
    {
     "data": {
      "text/plain": [
       "{'alpha': 0.1, 'fit_intercept': True, 'max_iter': 100, 'tol': 0.1}"
      ]
     },
     "execution_count": 56,
     "metadata": {},
     "output_type": "execute_result"
    }
   ],
   "source": []
  },
  {
   "cell_type": "code",
   "execution_count": 480,
   "metadata": {},
   "outputs": [
    {
     "name": "stdout",
     "output_type": "stream",
     "text": [
      "0.2777 dt\n",
      "-0.0028 rf\n",
      "0.0533 ada\n",
      "0.2537 gb\n",
      "-0.1057 xgb\n",
      "-0.2047 knn\n",
      "-0.0663 bay\n"
     ]
    }
   ],
   "source": [
    "models = [\n",
    "    'dt',\n",
    "    'rf',\n",
    "    'ada',\n",
    "    'gb',\n",
    "    'xgb',\n",
    "    'knn',\n",
    "    'bay'\n",
    "]\n",
    "\n",
    "for model, weight in zip(models, gb_stack.coef_):\n",
    "    print(round(weight,4), model)"
   ]
  },
  {
   "cell_type": "code",
   "execution_count": 144,
   "metadata": {},
   "outputs": [
    {
     "name": "stdout",
     "output_type": "stream",
     "text": [
      "BANPU \tRMSE: 0.22\t MAE: 0.15 \tMAPE: 0.90 \tDA: 0.59\n",
      "IRPC \tRMSE: 0.10\t MAE: 0.08 \tMAPE: 1.32 \tDA: 0.43\n",
      "PTT \tRMSE: 2.59\t MAE: 1.83 \tMAPE: 0.47 \tDA: 0.62\n",
      "BBL \tRMSE: 1.26\t MAE: 1.01 \tMAPE: 0.55 \tDA: 0.63\n",
      "KBANK \tRMSE: 2.07\t MAE: 1.62 \tMAPE: 0.81 \tDA: 0.66\n",
      "SCB \tRMSE: 1.37\t MAE: 1.09 \tMAPE: 0.72 \tDA: 0.59\n",
      "AOT \tRMSE: 0.84\t MAE: 0.64 \tMAPE: 1.27 \tDA: 0.54\n",
      "THAI \tRMSE: 0.44\t MAE: 0.31 \tMAPE: 1.65 \tDA: 0.57\n",
      "CPF \tRMSE: 0.39\t MAE: 0.30 \tMAPE: 1.14 \tDA: 0.50\n",
      "MINT \tRMSE: 0.48\t MAE: 0.37 \tMAPE: 0.92 \tDA: 0.61\n",
      "TU \tRMSE: 0.26\t MAE: 0.18 \tMAPE: 0.96 \tDA: 0.57\n",
      "SCC \tRMSE: 4.08\t MAE: 3.42 \tMAPE: 0.68 \tDA: 0.54\n",
      "CPN \tRMSE: 0.91\t MAE: 0.73 \tMAPE: 1.03 \tDA: 0.63\n",
      "CK \tRMSE: 0.33\t MAE: 0.27 \tMAPE: 0.96 \tDA: 0.53\n",
      "CPALL \tRMSE: 0.48\t MAE: 0.36 \tMAPE: 0.57 \tDA: 0.44\n",
      "HMPRO \tRMSE: 0.19\t MAE: 0.13 \tMAPE: 1.15 \tDA: 0.54\n",
      "BDMS \tRMSE: 0.23\t MAE: 0.18 \tMAPE: 0.88 \tDA: 0.50\n",
      "BH \tRMSE: 2.67\t MAE: 1.80 \tMAPE: 0.91 \tDA: 0.54\n",
      "ADVANC \tRMSE: 1.82\t MAE: 1.36 \tMAPE: 0.75 \tDA: 0.60\n",
      "JAS \tRMSE: 0.11\t MAE: 0.08 \tMAPE: 1.02 \tDA: 0.50\n",
      "TRUE \tRMSE: 0.12\t MAE: 0.10 \tMAPE: 1.73 \tDA: 0.53\n",
      "\n",
      "mean RMSE: 1.0\n",
      "mean MAE: 0.76\n",
      "mean MAPE: 0.97\n",
      "mean DA: 0.5546\n"
     ]
    }
   ],
   "source": [
    "# target_stocks = ['BANPU','IRPC','PTT','BBL','KBANK','SCB','AOT','THAI','CPF','MINT',\n",
    "#                  'TU','SCC','CPN','CK','CPALL','HMPRO','BDMS','BH','ADVANC','JAS','TRUE']\n",
    "ensemble_evaluator(\n",
    "    x_test,\n",
    "    ward=ward,\n",
    "    pca=pca\n",
    ")"
   ]
  },
  {
   "cell_type": "code",
   "execution_count": 482,
   "metadata": {},
   "outputs": [
    {
     "name": "stdout",
     "output_type": "stream",
     "text": [
      "BANPU \tRMSE: 0.22\t MAE: 0.16 \tMAPE: 0.97 \tDA: 0.58\n",
      "IRPC \tRMSE: 0.09\t MAE: 0.07 \tMAPE: 1.27 \tDA: 0.37\n",
      "PTT \tRMSE: 2.62\t MAE: 1.91 \tMAPE: 0.50 \tDA: 0.59\n",
      "BBL \tRMSE: 1.30\t MAE: 1.05 \tMAPE: 0.57 \tDA: 0.53\n",
      "KBANK \tRMSE: 2.10\t MAE: 1.68 \tMAPE: 0.84 \tDA: 0.60\n",
      "SCB \tRMSE: 1.40\t MAE: 1.12 \tMAPE: 0.74 \tDA: 0.57\n",
      "AOT \tRMSE: 0.84\t MAE: 0.64 \tMAPE: 1.28 \tDA: 0.55\n",
      "THAI \tRMSE: 0.42\t MAE: 0.30 \tMAPE: 1.56 \tDA: 0.61\n",
      "CPF \tRMSE: 0.39\t MAE: 0.30 \tMAPE: 1.17 \tDA: 0.47\n",
      "MINT \tRMSE: 0.47\t MAE: 0.37 \tMAPE: 0.92 \tDA: 0.53\n",
      "TU \tRMSE: 0.24\t MAE: 0.16 \tMAPE: 0.85 \tDA: 0.60\n",
      "SCC \tRMSE: 4.19\t MAE: 3.46 \tMAPE: 0.69 \tDA: 0.54\n",
      "CPN \tRMSE: 0.95\t MAE: 0.76 \tMAPE: 1.07 \tDA: 0.61\n",
      "CK \tRMSE: 0.33\t MAE: 0.27 \tMAPE: 0.96 \tDA: 0.58\n",
      "CPALL \tRMSE: 0.46\t MAE: 0.33 \tMAPE: 0.53 \tDA: 0.49\n",
      "HMPRO \tRMSE: 0.18\t MAE: 0.12 \tMAPE: 1.07 \tDA: 0.55\n",
      "BDMS \tRMSE: 0.22\t MAE: 0.17 \tMAPE: 0.86 \tDA: 0.51\n",
      "BH \tRMSE: 2.69\t MAE: 1.79 \tMAPE: 0.90 \tDA: 0.50\n",
      "ADVANC \tRMSE: 1.81\t MAE: 1.35 \tMAPE: 0.74 \tDA: 0.64\n",
      "JAS \tRMSE: 0.10\t MAE: 0.07 \tMAPE: 0.89 \tDA: 0.46\n",
      "TRUE \tRMSE: 0.10\t MAE: 0.07 \tMAPE: 1.27 \tDA: 0.54\n",
      "\n",
      "mean RMSE: 1.01\n",
      "mean MAE: 0.77\n",
      "mean MAPE: 0.93\n",
      "mean DA: 0.5436\n"
     ]
    }
   ],
   "source": [
    "ensemble_evaluator(\n",
    "    x_test\n",
    ")"
   ]
  },
  {
   "cell_type": "code",
   "execution_count": 40,
   "metadata": {},
   "outputs": [],
   "source": [
    "target_stocks = ['THAI']"
   ]
  },
  {
   "cell_type": "code",
   "execution_count": 41,
   "metadata": {},
   "outputs": [
    {
     "name": "stdout",
     "output_type": "stream",
     "text": [
      "THAI \tMAPE: 1.57 \tDA: 0.54\n"
     ]
    }
   ],
   "source": [
    "clf = xgb\n",
    "isXGB = True\n",
    "\n",
    "MAPEs = []\n",
    "for stock in target_stocks:\n",
    "    x_tmp = x_test.loc[x_test['Ticker'] == le.transform([stock])[0]].copy()\n",
    "    x_tmp = x_tmp.sort_index()\n",
    "    \n",
    "    y_tmp = x_tmp[Horizon].values\n",
    "\n",
    "    changes = x_tmp[Horizon] -  x_tmp['Close(t)']\n",
    "    y_true_da = []\n",
    "    for change in changes:\n",
    "        y_true_da.append(1 if change >= 0 else 0)\n",
    "\n",
    "    x_tmp = x_tmp.drop(['Close(t+1)'], axis=1)\n",
    "\n",
    "    sel_x_tmp = np.concatenate((ward.transform(x_tmp.values), pca.transform(x_tmp.values)), axis=1)\n",
    "\n",
    "    if isXGB:\n",
    "        y_pred = clf.predict(xgboost.DMatrix(sel_x_tmp))\n",
    "    else:\n",
    "        y_pred = clf.predict(sel_x_tmp)\n",
    "\n",
    "    changes = y_pred.reshape(-1,1) - x_tmp['Close(t)'].values.reshape(-1,1)\n",
    "    y_pred_da = []\n",
    "    for change in changes:\n",
    "        y_pred_da.append(1 if change >= 0 else 0)\n",
    "\n",
    "    MAPE = mean_absolute_percentage_error(y_tmp, y_pred)\n",
    "    DA = sklearn.metrics.accuracy_score(y_true_da, y_pred_da)\n",
    "\n",
    "    print(stock, \"\\tMAPE: %.2f \\tDA: %.2f\" % (MAPE, DA))"
   ]
  },
  {
   "cell_type": "code",
   "execution_count": 42,
   "metadata": {},
   "outputs": [
    {
     "name": "stdout",
     "output_type": "stream",
     "text": [
      "THAI \tMAPE: 1.56 \tDA: 0.61\n"
     ]
    }
   ],
   "source": [
    "MAPEs = []\n",
    "for stock in target_stocks:\n",
    "    x_tmp = x_test.loc[x_test['Ticker'] == le.transform([stock])[0]].copy()\n",
    "    x_tmp = x_tmp.sort_index()\n",
    "    y_tmp = x_tmp[Horizon].values\n",
    "        \n",
    "    # Directional Accuracy\n",
    "    changes = x_tmp[Horizon] - x_tmp['Close(t)']\n",
    "    y_true_da = []\n",
    "    for change in changes:\n",
    "        y_true_da.append(1 if change >= 0 else 0)\n",
    "\n",
    "    x_tmp = x_tmp.drop([Horizon], axis=1)\n",
    "\n",
    "    # Prediction\n",
    "    sel_x_tmp = np.concatenate((ward.transform(x_tmp.values), pca.transform(x_tmp.values)), axis=1)\n",
    "\n",
    "    y_dt = dt.predict(sel_x_tmp)\n",
    "    y_rf = rf.predict(sel_x_tmp)\n",
    "    y_ada = ada.predict(sel_x_tmp)\n",
    "    y_gb = gb.predict(sel_x_tmp)\n",
    "    y_xgb = xgb.predict(xgboost.DMatrix(sel_x_tmp))\n",
    "    y_knn = knn.predict(sel_x_tmp)\n",
    "    y_bay = bay.predict(sel_x_tmp)\n",
    "\n",
    "\n",
    "    y_pred = (y_dt+y_rf+y_ada+y_gb+y_xgb+y_knn+y_bay)/7\n",
    "\n",
    "    y_stack = np.concatenate((\n",
    "        y_dt.reshape(-1,1),\n",
    "        y_rf.reshape(-1,1),\n",
    "        y_ada.reshape(-1,1),\n",
    "        y_gb.reshape(-1,1),\n",
    "        y_xgb.reshape(-1,1),\n",
    "        y_knn.reshape(-1,1),\n",
    "        y_bay.reshape(-1,1),\n",
    "        sel_x_tmp\n",
    "    ), axis=1)\n",
    "\n",
    "    sel_y_stack = sel_stack.transform(y_stack)\n",
    "    y_pred = gb_stack.predict(sel_y_stack)\n",
    "\n",
    "    changes = y_pred.reshape(-1,1) - x_tmp['Close(t)'].values.reshape(-1,1)\n",
    "    y_pred_da = []\n",
    "    for change in changes:\n",
    "        y_pred_da.append(1 if change >= 0 else 0)\n",
    "        \n",
    "    MAPE = mean_absolute_percentage_error(y_tmp, y_pred)\n",
    "    DA = sklearn.metrics.accuracy_score(y_true_da, y_pred_da)\n",
    "        \n",
    "    print(stock, \"\\tMAPE: %.2f \\tDA: %.2f\" % (MAPE, DA))"
   ]
  },
  {
   "cell_type": "code",
   "execution_count": 47,
   "metadata": {
    "scrolled": false
   },
   "outputs": [],
   "source": [
    "# y_concat = np.concatenate((y_tmp.reshape(-1,1), np.array(y_price).reshape(-1,1), y_pred.reshape(-1,1)), axis=1)\n",
    "# df_concat = pd.DataFrame.from_records(y_concat, columns=['actual', 'price', 'predict'])\n",
    "# df_concat"
   ]
  },
  {
   "cell_type": "code",
   "execution_count": 48,
   "metadata": {},
   "outputs": [],
   "source": [
    "y_price = [184.88363473, 184.90108689, 186.87773514, 186.87773514,\n",
    "       190.33859785, 191.37324646, 190.42152105, 189.92359746,\n",
    "       189.91238063, 189.91238063, 190.40074789, 190.40074789,\n",
    "       190.40681379, 190.40681379, 187.46373287, 189.88205114,\n",
    "       188.91504237, 188.91504237, 190.3886161 , 189.4197774 ,\n",
    "       189.4197774 , 187.94254381, 187.94254381, 187.91919518,\n",
    "       188.89335425, 188.89335425, 189.8873715 , 191.37748242,\n",
    "       191.89177378, 189.45085242, 191.87781205, 191.89526421,\n",
    "       191.90814154, 193.38096973, 192.41728197, 192.9038193 ,\n",
    "       192.9038193 , 193.88661973, 195.37415518, 195.37415518,\n",
    "       197.85221746, 197.85221746, 198.87215881, 198.4062252 ,\n",
    "       198.4062252 , 196.93248205, 196.93248205, 198.87547981,\n",
    "       198.87547981, 198.87547981, 198.892017  , 198.892017  ,\n",
    "       197.92043341, 195.94453069, 195.94453069, 195.94453069,\n",
    "       198.86077255, 202.81440792, 202.8783879 , 202.8783879 ,\n",
    "       201.91710616, 201.91710616, 201.91710616, 201.91710616,\n",
    "       201.91710616, 201.91710616, 201.91710616, 201.91710616,\n",
    "       199.94120344, 197.45707527, 198.39832937, 195.45192746,\n",
    "       196.89351119, 196.89351119, 198.36908428, 197.41312291,\n",
    "       198.39060298, 197.41569838, 197.41569838, 192.49929021,\n",
    "       189.97876664, 189.92268249, 189.92268249, 188.43697697,\n",
    "       188.43697697, 188.41877928, 188.41877928, 188.41877928,\n",
    "       188.90199561, 193.32654608, 193.38371463, 193.38371463,\n",
    "       193.89783656, 193.89783656, 193.41295972, 193.41295972,\n",
    "       192.42758383, 190.94004838, 189.93481429, 190.89684156,\n",
    "       190.89684156, 190.90382242, 194.34557247, 197.33369014,\n",
    "       196.40622833, 197.39143479, 197.39143479, 199.8531293 ,\n",
    "       202.83426611, 204.84730975, 204.84730975, 200.95948429,\n",
    "       200.95948429, 203.86691536, 203.86691536, 203.88270702,\n",
    "       201.93438889, 201.93438889, 200.92823984, 200.92823984,\n",
    "       204.83334802, 207.82238066, 207.82238066, 212.78880708,\n",
    "       210.90114794, 210.902639  , 217.76553537, 213.9229161 ,\n",
    "       213.9229161 , 215.87421636, 215.87421636, 215.87787622,\n",
    "       215.87787622, 212.9425217 , 209.96046993, 205.9810799 ,\n",
    "       205.9810799 , 208.8627563 , 207.8966625 ]"
   ]
  },
  {
   "cell_type": "code",
   "execution_count": 49,
   "metadata": {},
   "outputs": [],
   "source": [
    "y_price = [18.69449282, 18.69449282, 19.087247  , 20.07398518, 20.07398518,\n",
    "       19.69542317, 19.69542317, 19.40115574, 19.69002147, 19.69002147,\n",
    "       20.4776241 , 20.4776241 , 20.39068627, 20.39068627, 20.49178238,\n",
    "       20.7870461 , 20.59482364, 21.47763948, 21.48752791, 21.59035229,\n",
    "       21.29699983, 21.39206393, 21.39206393, 21.39206393, 20.11528073,\n",
    "       19.80545885, 20.38425438, 19.89904545, 19.50331592, 19.50331592,\n",
    "       19.39769919, 19.2962371 , 19.2962371 , 19.58907446, 19.58907446,\n",
    "       19.88676455, 19.79376082, 19.79376082, 19.69590437, 19.98874174,\n",
    "       20.09005473, 20.19100173, 20.19100173, 19.70178728, 19.69623647,\n",
    "       19.8900381 , 19.69608736, 19.10555992, 19.10555992, 19.10555992,\n",
    "       18.80268501, 18.89414346, 18.89381136, 18.79613791, 18.79613791,\n",
    "       18.69673618, 19.08776209, 18.99391117, 19.289324  , 19.1942599 ,\n",
    "       19.1942599 , 19.09640346, 18.99648664, 18.70019273, 18.79422664,\n",
    "       18.79389454, 18.79389454, 17.81252417, 17.11307255, 17.11307255,\n",
    "       16.70667518, 16.70667518, 16.69821681, 16.69821681, 16.69615644,\n",
    "       16.79434498, 16.89374671, 16.89547498, 16.79780153, 16.79780153,\n",
    "       17.18934253, 17.18934253, 17.39005725, 17.39005725, 17.29635544,\n",
    "       18.17986936, 17.99389579, 17.99389579, 17.99610527, 17.99507508,\n",
    "       17.50413235, 17.69444355, 17.69429444, 18.38264445, 18.29294816,\n",
    "       18.49171773, 18.39544045, 18.39544045, 18.59163454, 18.59163454,\n",
    "       18.59163454, 19.18267709, 18.99460926, 18.99527346, 19.09243182,\n",
    "       18.79907936]"
   ]
  },
  {
   "cell_type": "code",
   "execution_count": 50,
   "metadata": {},
   "outputs": [],
   "source": [
    "# TU\n",
    "y_price = [19.70877885, 19.70999203, 19.51413003, 19.31532658, 19.31187004,\n",
    "       19.60540549, 19.51085648, 19.70756567, 19.70756567, 19.80766549,\n",
    "       20.10447449, 19.91225203, 19.91225203, 19.91137095, 19.91137095,\n",
    "       19.91137095, 20.00852931, 20.00852931, 20.00974249, 19.81388049,\n",
    "       19.81145413, 19.81042395, 19.90861249, 19.90861249, 19.81163712,\n",
    "       19.81093904, 19.7122354 , 19.90739931, 19.90931058, 19.90931058,\n",
    "       19.91034076, 19.91034076, 20.2049064 , 20.2049064 , 20.30673449,\n",
    "       20.30949295, 20.30949295, 20.0154424 , 20.0154424 , 20.0154424 ,\n",
    "       19.71723722, 19.81024095, 19.71172031, 19.71102222, 20.10326131,\n",
    "       20.10326131, 20.00992548, 19.71620704, 19.41748677, 19.41748677,\n",
    "       19.5104905 , 19.5104905 , 19.41196985, 19.41196985, 19.01851758,\n",
    "       19.01314977, 19.10927794, 19.11049112, 19.11049112, 18.71825203,\n",
    "       18.9097764 , 18.61557675, 18.31840176, 18.21502839, 18.21502839,\n",
    "       18.40864703, 18.50874684, 18.41280166, 18.41280166, 18.51029212,\n",
    "       18.51029212, 18.41280166, 18.41280166, 18.11753793, 18.01519476,\n",
    "       18.0124363 , 18.0124363 , 18.99380667, 18.71137282, 18.61469567,\n",
    "       18.51374866, 18.11926621, 18.11926621, 18.11926621, 18.11926621,\n",
    "       18.1138984 ]"
   ]
  },
  {
   "cell_type": "code",
   "execution_count": 51,
   "metadata": {},
   "outputs": [],
   "source": [
    "# BBL\n",
    "y_price = [179.83995857, 179.83646813, 180.81577813, 180.33696719,\n",
    "       180.33696719, 181.31793769, 179.85466583, 179.85466583,\n",
    "       180.82350453, 180.82350453, 179.84602446, 178.85715814,\n",
    "       178.85715814, 179.82176087, 179.82874174, 179.83389267,\n",
    "       178.85200721, 179.82176087, 180.31968447, 180.82184403,\n",
    "       179.84859993, 180.82092906, 180.82790992, 181.32400359,\n",
    "       181.82101222, 181.82101222, 183.30248177, 183.30248177,\n",
    "       183.81419766, 184.80987542, 184.80987542, 184.82458268,\n",
    "       184.33879088, 184.33879088, 185.31461045, 185.31461045,\n",
    "       185.32416678, 184.83837498, 184.83837498, 184.83837498,\n",
    "       186.79608   , 187.30871086, 189.28884954, 188.33380314,\n",
    "       188.33380314, 188.33380314, 188.33380314, 188.33380314,\n",
    "       188.33197321, 188.33197321, 185.87210862, 185.87210862,\n",
    "       184.36895094, 182.37410499, 182.37410499, 180.37834408,\n",
    "       180.37834408, 179.85283589, 179.83646813, 180.3248354 ,\n",
    "       181.31278676, 181.31278676, 179.3637231 , 179.34461044,\n",
    "       179.8252513 , 179.8252513 , 181.79508812, 181.79508812,\n",
    "       178.8762708 , 178.8762708 , 178.8762708 , 180.32300546,\n",
    "       180.81669309, 180.83048539, 181.32400359, 180.83912675,\n",
    "       180.83912675, 180.34469359, 178.3722813 , 178.83638498,\n",
    "       179.32309174, 179.32309174, 180.8045613 , 183.28004811,\n",
    "       183.318104  , 181.36721041, 181.34294681, 181.34294681,\n",
    "       182.80547314, 185.76932722, 185.81344901, 184.35607361,\n",
    "       185.81070411, 185.81070411, 185.81070411, 185.81070411,\n",
    "       185.82117541, 183.37418815, 183.37418815, 183.83480139,\n",
    "       183.83480139, 185.79176088, 186.30954267, 186.30954267,\n",
    "       188.78062409, 187.83164358, 187.83238911, 189.7910091 ,\n",
    "       190.30621543, 190.30621543, 190.30621543, 190.30621543,\n",
    "       190.30621543, 191.30446865, 189.35540499, 187.37252141,\n",
    "       186.84701322, 185.35781727, 185.35781727, 186.31892957,\n",
    "       186.31892957, 185.83239224, 185.83239224, 185.34053454,\n",
    "       184.35000771, 186.29907137, 186.29907137, 188.77289769]"
   ]
  },
  {
   "cell_type": "code",
   "execution_count": 58,
   "metadata": {},
   "outputs": [],
   "source": [
    "# PTT\n",
    "y_price = [391.79651198, 392.74566192, 391.77075732, 391.77075732,\n",
    "       389.80000554, 389.80000554, 389.80000554, 388.78870555,\n",
    "       389.74815735, 387.79136729, 387.79136729, 387.77225463,\n",
    "       387.77225463, 388.74383823, 388.74383823, 388.74383823,\n",
    "       388.75597003, 388.76112096, 389.74300642, 389.75513822,\n",
    "       389.75513822, 388.77840369, 388.77840369, 386.80250097,\n",
    "       386.80250097, 386.80250097, 385.79120098, 380.85934002,\n",
    "       380.85934002, 385.70295741, 392.61105996, 388.79419535,\n",
    "       391.72738107, 392.72505819, 392.72505819, 392.72505819,\n",
    "       392.72505819, 392.75264278, 392.75779372, 394.72156464,\n",
    "       393.76394277, 392.78022738, 392.78022738, 393.74483011,\n",
    "       393.74483011, 391.78804005, 391.78804005, 392.75081285,\n",
    "       389.8069864 , 390.7576274 , 390.7576274 , 382.89922271,\n",
    "       384.7710902 , 384.7710902 , 384.75414634, 384.75414634,\n",
    "       381.81879182, 382.76428189, 382.76428189, 380.79718997,\n",
    "       384.70561915, 383.76195901, 379.8428891 , 378.80732552,\n",
    "       379.75647546, 383.69099817, 376.87147806, 377.78904467,\n",
    "       379.72889087, 379.72889087, 378.77641993, 379.75647546,\n",
    "       379.75647546, 376.81779994, 376.81779994, 374.82278456,\n",
    "       369.87364086, 369.87364086, 372.7483364 , 373.7408626 ,\n",
    "       373.7408626 , 372.78656173, 372.78656173, 368.85203902,\n",
    "       373.70778821, 373.70778821, 373.70778821, 373.70778821,\n",
    "       372.765958  , 371.7976954 , 375.70795452, 373.78755985,\n",
    "       373.78755985, 373.78755985, 373.78755985, 375.7476709 ,\n",
    "       379.68917448, 379.74800353, 377.80483633, 377.78057274,\n",
    "       377.77027088, 384.6434691 , 387.67404806, 387.74649997,\n",
    "       387.74649997, 387.76195277, 387.76195277, 385.79818185,\n",
    "       385.79818185, 380.86449095, 380.86449095, 379.81164464,\n",
    "       379.81164464, 380.75564365, 380.75564365, 380.75564365,\n",
    "       381.74450997, 381.7617927 , 383.73071456, 381.79120723,\n",
    "       380.79536003, 380.79536003, 380.79536003, 383.71858276,\n",
    "       383.74982722, 384.74716547, 388.68683911, 388.68683911,\n",
    "       392.66805908, 391.75530453, 393.72754738, 392.76477458,\n",
    "       393.74483011, 393.74483011, 393.74483011, 393.74483011,\n",
    "       393.75181097, 399.64827467, 401.68483637, 401.68483637,\n",
    "       398.79434917, 398.79434917, 399.75014111, 399.75014111,\n",
    "       398.76493465, 399.73983924, 399.73983924, 397.78304919,\n",
    "       397.78304919, 405.61902022, 405.70577272]"
   ]
  },
  {
   "cell_type": "code",
   "execution_count": 43,
   "metadata": {},
   "outputs": [
    {
     "data": {
      "text/plain": [
       "array([18.65686081, 18.59490353, 18.99476844, 19.91732867, 19.89860269,\n",
       "       19.49855347, 19.49716636, 19.20848431, 19.51467055, 19.5036313 ,\n",
       "       20.32836417, 20.38392905, 20.2727162 , 20.25953937, 20.40871005,\n",
       "       20.65961292, 20.53987603, 21.37565549, 21.26743029, 21.49266367,\n",
       "       21.2012527 , 21.30908291, 21.35185617, 21.30492923, 20.07994631,\n",
       "       19.83040921, 20.28330966, 19.72363869, 19.35484223, 19.30332741,\n",
       "       19.20888462, 19.13798367, 19.13798367, 19.41597093, 19.40334324,\n",
       "       19.74779092, 19.64709672, 19.6332697 , 19.46672466, 19.87120507,\n",
       "       19.94755775, 20.03441437, 20.02876651, 19.52267065, 19.49839693,\n",
       "       19.74512779, 19.44507747, 18.91885666, 18.92324108, 18.91465264,\n",
       "       18.72524137, 18.79779986, 18.76431772, 18.68834958, 18.680613  ,\n",
       "       18.60573295, 18.92006402, 18.82297524, 19.08170694, 18.95410351,\n",
       "       19.0205283 , 18.97474323, 18.86238688, 18.62642265, 18.71360639,\n",
       "       18.62388315, 18.65936432, 17.64675391, 17.08595563, 17.16744556,\n",
       "       16.7762114 , 16.70600056, 16.76421064, 16.77768497, 16.74223496,\n",
       "       16.84002283, 16.92019228, 16.91174473, 16.81739935, 16.7448841 ,\n",
       "       17.18438366, 17.18438366, 17.28362644, 17.2879184 , 17.18850329,\n",
       "       18.04652012, 17.85143492, 17.84175554, 17.88860441, 17.87615403,\n",
       "       17.37068962, 17.62893528, 17.55320173, 18.28221771, 18.17569867,\n",
       "       18.34674071, 18.22991763, 18.23085596, 18.47246414, 18.45476908,\n",
       "       18.45476908, 19.09142893, 18.82590941, 18.87301484, 18.95887807,\n",
       "       18.68180209])"
      ]
     },
     "execution_count": 43,
     "metadata": {},
     "output_type": "execute_result"
    }
   ],
   "source": [
    "y_pred"
   ]
  },
  {
   "cell_type": "code",
   "execution_count": 60,
   "metadata": {},
   "outputs": [
    {
     "data": {
      "application/vnd.plotly.v1+json": {
       "data": [
        {
         "line": {
          "color": "rgb(205, 12, 24)",
          "width": 2
         },
         "mode": "lines+markers",
         "name": "Actual",
         "type": "scatter",
         "x": [
          "2017-04-18",
          "2017-04-19",
          "2017-04-20",
          "2017-04-20",
          "2017-04-21",
          "2017-04-21",
          "2017-04-22",
          "2017-04-24",
          "2017-04-25",
          "2017-04-26",
          "2017-04-26",
          "2017-04-27",
          "2017-04-27",
          "2017-04-28",
          "2017-04-29",
          "2017-04-30",
          "2017-05-02",
          "2017-05-03",
          "2017-05-04",
          "2017-05-05",
          "2017-05-06",
          "2017-05-08",
          "2017-05-08",
          "2017-05-09",
          "2017-05-09",
          "2017-05-10",
          "2017-05-11",
          "2017-05-12",
          "2017-05-13",
          "2017-05-15",
          "2017-05-16",
          "2017-05-17",
          "2017-05-18",
          "2017-05-19",
          "2017-05-19",
          "2017-05-20",
          "2017-05-20",
          "2017-05-22",
          "2017-05-23",
          "2017-05-24",
          "2017-05-25",
          "2017-05-26",
          "2017-05-27",
          "2017-05-29",
          "2017-05-29",
          "2017-05-30",
          "2017-05-30",
          "2017-05-31",
          "2017-06-01",
          "2017-06-02",
          "2017-06-03",
          "2017-06-05",
          "2017-06-06",
          "2017-06-06",
          "2017-06-07",
          "2017-06-07",
          "2017-06-08",
          "2017-06-09",
          "2017-06-10",
          "2017-06-12",
          "2017-06-13",
          "2017-06-14",
          "2017-06-15",
          "2017-06-16",
          "2017-06-19",
          "2017-06-20",
          "2017-06-21",
          "2017-06-22",
          "2017-06-23",
          "2017-06-24",
          "2017-06-26",
          "2017-06-27",
          "2017-06-27",
          "2017-06-28",
          "2017-06-28",
          "2017-06-29",
          "2017-06-30",
          "2017-07-01",
          "2017-07-03",
          "2017-07-04",
          "2017-07-04",
          "2017-07-05",
          "2017-07-05",
          "2017-07-06",
          "2017-07-07",
          "2017-07-07",
          "2017-07-08",
          "2017-07-10",
          "2017-07-11",
          "2017-07-12",
          "2017-07-13",
          "2017-07-14",
          "2017-07-14",
          "2017-07-15",
          "2017-07-15",
          "2017-07-17",
          "2017-07-18",
          "2017-07-19",
          "2017-07-20",
          "2017-07-21",
          "2017-07-24",
          "2017-07-25",
          "2017-07-26",
          "2017-07-27",
          "2017-07-29",
          "2017-07-31",
          "2017-07-31",
          "2017-08-01",
          "2017-08-01",
          "2017-08-02",
          "2017-08-02",
          "2017-08-03",
          "2017-08-03",
          "2017-08-04",
          "2017-08-05",
          "2017-08-06",
          "2017-08-07",
          "2017-08-08",
          "2017-08-09",
          "2017-08-10",
          "2017-08-11",
          "2017-08-12",
          "2017-08-14",
          "2017-08-15",
          "2017-08-16",
          "2017-08-17",
          "2017-08-18",
          "2017-08-19",
          "2017-08-21",
          "2017-08-22",
          "2017-08-23",
          "2017-08-24",
          "2017-08-25",
          "2017-08-25",
          "2017-08-27",
          "2017-08-27",
          "2017-08-28",
          "2017-08-29",
          "2017-08-30",
          "2017-08-30",
          "2017-08-31",
          "2017-08-31",
          "2017-09-01",
          "2017-09-02",
          "2017-09-04",
          "2017-09-05",
          "2017-09-05",
          "2017-09-06",
          "2017-09-06",
          "2017-09-07",
          "2017-09-08"
         ],
         "y": [
          393,
          392,
          390,
          390,
          389,
          389,
          389,
          390,
          388,
          388,
          388,
          389,
          389,
          389,
          389,
          389,
          389,
          390,
          390,
          389,
          389,
          387,
          387,
          386,
          386,
          386,
          381,
          386,
          386,
          393,
          389,
          392,
          393,
          393,
          393,
          393,
          393,
          393,
          395,
          394,
          393,
          394,
          394,
          392,
          392,
          393,
          393,
          390,
          391,
          383,
          383,
          385,
          385,
          385,
          382,
          382,
          383,
          381,
          381,
          385,
          384,
          380,
          379,
          380,
          384,
          377,
          378,
          380,
          379,
          379,
          380,
          377,
          377,
          375,
          375,
          370,
          373,
          373,
          374,
          373,
          373,
          369,
          369,
          374,
          373,
          373,
          373,
          373,
          372,
          376,
          374,
          376,
          376,
          376,
          376,
          380,
          380,
          378,
          378,
          378,
          385,
          388,
          388,
          388,
          388,
          386,
          386,
          381,
          381,
          380,
          380,
          381,
          381,
          382,
          382,
          382,
          382,
          384,
          382,
          381,
          384,
          384,
          384,
          384,
          385,
          389,
          393,
          393,
          392,
          394,
          393,
          394,
          394,
          394,
          394,
          394,
          400,
          402,
          399,
          399,
          400,
          400,
          399,
          399,
          400,
          398,
          398,
          406,
          406,
          406,
          404
         ]
        },
        {
         "line": {
          "color": "rgb(22, 96, 167)",
          "width": 2
         },
         "mode": "lines+markers",
         "name": "Ensemble",
         "type": "scatter",
         "x": [
          "2017-04-18",
          "2017-04-19",
          "2017-04-20",
          "2017-04-20",
          "2017-04-21",
          "2017-04-21",
          "2017-04-22",
          "2017-04-24",
          "2017-04-25",
          "2017-04-26",
          "2017-04-26",
          "2017-04-27",
          "2017-04-27",
          "2017-04-28",
          "2017-04-29",
          "2017-04-30",
          "2017-05-02",
          "2017-05-03",
          "2017-05-04",
          "2017-05-05",
          "2017-05-06",
          "2017-05-08",
          "2017-05-08",
          "2017-05-09",
          "2017-05-09",
          "2017-05-10",
          "2017-05-11",
          "2017-05-12",
          "2017-05-13",
          "2017-05-15",
          "2017-05-16",
          "2017-05-17",
          "2017-05-18",
          "2017-05-19",
          "2017-05-19",
          "2017-05-20",
          "2017-05-20",
          "2017-05-22",
          "2017-05-23",
          "2017-05-24",
          "2017-05-25",
          "2017-05-26",
          "2017-05-27",
          "2017-05-29",
          "2017-05-29",
          "2017-05-30",
          "2017-05-30",
          "2017-05-31",
          "2017-06-01",
          "2017-06-02",
          "2017-06-03",
          "2017-06-05",
          "2017-06-06",
          "2017-06-06",
          "2017-06-07",
          "2017-06-07",
          "2017-06-08",
          "2017-06-09",
          "2017-06-10",
          "2017-06-12",
          "2017-06-13",
          "2017-06-14",
          "2017-06-15",
          "2017-06-16",
          "2017-06-19",
          "2017-06-20",
          "2017-06-21",
          "2017-06-22",
          "2017-06-23",
          "2017-06-24",
          "2017-06-26",
          "2017-06-27",
          "2017-06-27",
          "2017-06-28",
          "2017-06-28",
          "2017-06-29",
          "2017-06-30",
          "2017-07-01",
          "2017-07-03",
          "2017-07-04",
          "2017-07-04",
          "2017-07-05",
          "2017-07-05",
          "2017-07-06",
          "2017-07-07",
          "2017-07-07",
          "2017-07-08",
          "2017-07-10",
          "2017-07-11",
          "2017-07-12",
          "2017-07-13",
          "2017-07-14",
          "2017-07-14",
          "2017-07-15",
          "2017-07-15",
          "2017-07-17",
          "2017-07-18",
          "2017-07-19",
          "2017-07-20",
          "2017-07-21",
          "2017-07-24",
          "2017-07-25",
          "2017-07-26",
          "2017-07-27",
          "2017-07-29",
          "2017-07-31",
          "2017-07-31",
          "2017-08-01",
          "2017-08-01",
          "2017-08-02",
          "2017-08-02",
          "2017-08-03",
          "2017-08-03",
          "2017-08-04",
          "2017-08-05",
          "2017-08-06",
          "2017-08-07",
          "2017-08-08",
          "2017-08-09",
          "2017-08-10",
          "2017-08-11",
          "2017-08-12",
          "2017-08-14",
          "2017-08-15",
          "2017-08-16",
          "2017-08-17",
          "2017-08-18",
          "2017-08-19",
          "2017-08-21",
          "2017-08-22",
          "2017-08-23",
          "2017-08-24",
          "2017-08-25",
          "2017-08-25",
          "2017-08-27",
          "2017-08-27",
          "2017-08-28",
          "2017-08-29",
          "2017-08-30",
          "2017-08-30",
          "2017-08-31",
          "2017-08-31",
          "2017-09-01",
          "2017-09-02",
          "2017-09-04",
          "2017-09-05",
          "2017-09-05",
          "2017-09-06",
          "2017-09-06",
          "2017-09-07",
          "2017-09-08"
         ],
         "y": [
          392.6679924795945,
          393.43599093236827,
          392.179667785206,
          391.9787742263885,
          390.58056091820555,
          390.5543433038708,
          390.55630246288325,
          389.7059196993964,
          389.9653746510232,
          387.6578272754573,
          387.5962638145456,
          387.77531915560706,
          387.7964987594608,
          388.82902756705147,
          388.7296618204832,
          388.8199968051445,
          388.6448136126755,
          388.7056057648411,
          389.977154444423,
          389.8044370040677,
          389.7582319304589,
          389.21883825186944,
          389.1797774732168,
          386.89053474370303,
          386.89988801545474,
          386.8934710669217,
          385.52714782960004,
          382.159872796452,
          382.0446116454677,
          387.10863525273027,
          392.09040546639926,
          388.33726244881404,
          392.76446406998525,
          393.11184268404327,
          393.09636557963444,
          393.0898731601697,
          393.073432089032,
          393.34332765595013,
          393.50036742263495,
          395.0972698004035,
          394.3082314335216,
          393.5205153021157,
          393.5127680649734,
          394.2571295967947,
          394.215586127273,
          392.19639045121,
          392.1298317679924,
          393.4261447736832,
          390.34820453844276,
          391.9256619612191,
          391.9628018114774,
          383.11636332215545,
          385.8026023689397,
          385.88426348333235,
          384.99059644699224,
          385.0806534714412,
          382.6689279940051,
          384.09594364447605,
          384.13918132536924,
          381.63998974853246,
          385.5293379880986,
          383.3942152283309,
          380.80369907459885,
          379.80889048616353,
          380.481510985876,
          384.10244244290675,
          376.7387695100159,
          378.57012176737805,
          379.92117691937614,
          379.86238312511625,
          379.2332156512102,
          380.4411502963538,
          380.4219874201084,
          376.6149945883685,
          377.0295972712773,
          375.3434313130549,
          370.57182346064354,
          370.7314930033474,
          373.97180197608304,
          374.10796882656035,
          374.1996016133096,
          373.9777424299267,
          373.96581009241834,
          370.1895521696455,
          374.9004784223649,
          374.9731663161927,
          375.03395479251947,
          374.7149448092325,
          373.8131487521288,
          373.3175371077311,
          376.1607214348578,
          374.47883011121763,
          374.46031679070114,
          374.63766479730964,
          374.5206331973608,
          375.8333779337013,
          380.09069455323356,
          379.962408240985,
          378.01661637547136,
          377.8580706443815,
          378.71316911580607,
          385.61209679821025,
          386.9593939872412,
          388.3513037839863,
          388.5103822945781,
          387.64667632297187,
          387.51410722324545,
          385.67389326935256,
          385.5457065944114,
          381.8703055886022,
          381.7885488877558,
          380.9276361421736,
          380.9001222463786,
          381.73110228847924,
          381.65640390154584,
          381.70339453776916,
          382.39274725632595,
          382.5692932003584,
          384.46030070785787,
          382.4465164881846,
          381.9788580245258,
          381.98732726730566,
          381.98771967963046,
          384.48298131833513,
          383.6863967629408,
          385.5476621809216,
          389.989784482411,
          389.90676506234007,
          393.00175827269277,
          391.9143706948569,
          394.1731420118943,
          393.4237729260682,
          394.3193747143742,
          394.26771337937504,
          395.6993965928735,
          394.2814935774363,
          394.5231668738258,
          400.3276089314541,
          401.0075694450987,
          401.0035850851736,
          398.6833609753455,
          398.75480378145687,
          400.1031904846057,
          399.9781528466477,
          398.3391128624163,
          399.7264186208712,
          399.64998237349874,
          397.4652124244687,
          397.500062589539,
          406.2489626200284,
          405.17478694754357
         ]
        },
        {
         "line": {
          "color": "rgb(22, 96, 167)",
          "dash": "dot",
          "width": 2
         },
         "mode": "lines+markers",
         "name": "Baseline",
         "type": "scatter",
         "x": [
          "2017-04-18",
          "2017-04-19",
          "2017-04-20",
          "2017-04-20",
          "2017-04-21",
          "2017-04-21",
          "2017-04-22",
          "2017-04-24",
          "2017-04-25",
          "2017-04-26",
          "2017-04-26",
          "2017-04-27",
          "2017-04-27",
          "2017-04-28",
          "2017-04-29",
          "2017-04-30",
          "2017-05-02",
          "2017-05-03",
          "2017-05-04",
          "2017-05-05",
          "2017-05-06",
          "2017-05-08",
          "2017-05-08",
          "2017-05-09",
          "2017-05-09",
          "2017-05-10",
          "2017-05-11",
          "2017-05-12",
          "2017-05-13",
          "2017-05-15",
          "2017-05-16",
          "2017-05-17",
          "2017-05-18",
          "2017-05-19",
          "2017-05-19",
          "2017-05-20",
          "2017-05-20",
          "2017-05-22",
          "2017-05-23",
          "2017-05-24",
          "2017-05-25",
          "2017-05-26",
          "2017-05-27",
          "2017-05-29",
          "2017-05-29",
          "2017-05-30",
          "2017-05-30",
          "2017-05-31",
          "2017-06-01",
          "2017-06-02",
          "2017-06-03",
          "2017-06-05",
          "2017-06-06",
          "2017-06-06",
          "2017-06-07",
          "2017-06-07",
          "2017-06-08",
          "2017-06-09",
          "2017-06-10",
          "2017-06-12",
          "2017-06-13",
          "2017-06-14",
          "2017-06-15",
          "2017-06-16",
          "2017-06-19",
          "2017-06-20",
          "2017-06-21",
          "2017-06-22",
          "2017-06-23",
          "2017-06-24",
          "2017-06-26",
          "2017-06-27",
          "2017-06-27",
          "2017-06-28",
          "2017-06-28",
          "2017-06-29",
          "2017-06-30",
          "2017-07-01",
          "2017-07-03",
          "2017-07-04",
          "2017-07-04",
          "2017-07-05",
          "2017-07-05",
          "2017-07-06",
          "2017-07-07",
          "2017-07-07",
          "2017-07-08",
          "2017-07-10",
          "2017-07-11",
          "2017-07-12",
          "2017-07-13",
          "2017-07-14",
          "2017-07-14",
          "2017-07-15",
          "2017-07-15",
          "2017-07-17",
          "2017-07-18",
          "2017-07-19",
          "2017-07-20",
          "2017-07-21",
          "2017-07-24",
          "2017-07-25",
          "2017-07-26",
          "2017-07-27",
          "2017-07-29",
          "2017-07-31",
          "2017-07-31",
          "2017-08-01",
          "2017-08-01",
          "2017-08-02",
          "2017-08-02",
          "2017-08-03",
          "2017-08-03",
          "2017-08-04",
          "2017-08-05",
          "2017-08-06",
          "2017-08-07",
          "2017-08-08",
          "2017-08-09",
          "2017-08-10",
          "2017-08-11",
          "2017-08-12",
          "2017-08-14",
          "2017-08-15",
          "2017-08-16",
          "2017-08-17",
          "2017-08-18",
          "2017-08-19",
          "2017-08-21",
          "2017-08-22",
          "2017-08-23",
          "2017-08-24",
          "2017-08-25",
          "2017-08-25",
          "2017-08-27",
          "2017-08-27",
          "2017-08-28",
          "2017-08-29",
          "2017-08-30",
          "2017-08-30",
          "2017-08-31",
          "2017-08-31",
          "2017-09-01",
          "2017-09-02",
          "2017-09-04",
          "2017-09-05",
          "2017-09-05",
          "2017-09-06",
          "2017-09-06",
          "2017-09-07",
          "2017-09-08"
         ],
         "y": [
          391.79651198,
          392.74566192,
          391.77075732,
          391.77075732,
          389.80000554,
          389.80000554,
          389.80000554,
          388.78870555,
          389.74815735,
          387.79136729,
          387.79136729,
          387.77225463,
          387.77225463,
          388.74383823,
          388.74383823,
          388.74383823,
          388.75597003,
          388.76112096,
          389.74300642,
          389.75513822,
          389.75513822,
          388.77840369,
          388.77840369,
          386.80250097,
          386.80250097,
          386.80250097,
          385.79120098,
          380.85934002,
          380.85934002,
          385.70295741,
          392.61105996,
          388.79419535,
          391.72738107,
          392.72505819,
          392.72505819,
          392.72505819,
          392.72505819,
          392.75264278,
          392.75779372,
          394.72156464,
          393.76394277,
          392.78022738,
          392.78022738,
          393.74483011,
          393.74483011,
          391.78804005,
          391.78804005,
          392.75081285,
          389.8069864,
          390.7576274,
          390.7576274,
          382.89922271,
          384.7710902,
          384.7710902,
          384.75414634,
          384.75414634,
          381.81879182,
          382.76428189,
          382.76428189,
          380.79718997,
          384.70561915,
          383.76195901,
          379.8428891,
          378.80732552,
          379.75647546,
          383.69099817,
          376.87147806,
          377.78904467,
          379.72889087,
          379.72889087,
          378.77641993,
          379.75647546,
          379.75647546,
          376.81779994,
          376.81779994,
          374.82278456,
          369.87364086,
          369.87364086,
          372.7483364,
          373.7408626,
          373.7408626,
          372.78656173,
          372.78656173,
          368.85203902,
          373.70778821,
          373.70778821,
          373.70778821,
          373.70778821,
          372.765958,
          371.7976954,
          375.70795452,
          373.78755985,
          373.78755985,
          373.78755985,
          373.78755985,
          375.7476709,
          379.68917448,
          379.74800353,
          377.80483633,
          377.78057274,
          377.77027088,
          384.6434691,
          387.67404806,
          387.74649997,
          387.74649997,
          387.76195277,
          387.76195277,
          385.79818185,
          385.79818185,
          380.86449095,
          380.86449095,
          379.81164464,
          379.81164464,
          380.75564365,
          380.75564365,
          380.75564365,
          381.74450997,
          381.7617927,
          383.73071456,
          381.79120723,
          380.79536003,
          380.79536003,
          380.79536003,
          383.71858276,
          383.74982722,
          384.74716547,
          388.68683911,
          388.68683911,
          392.66805908,
          391.75530453,
          393.72754738,
          392.76477458,
          393.74483011,
          393.74483011,
          393.74483011,
          393.74483011,
          393.75181097,
          399.64827467,
          401.68483637,
          401.68483637,
          398.79434917,
          398.79434917,
          399.75014111,
          399.75014111,
          398.76493465,
          399.73983924,
          399.73983924,
          397.78304919,
          397.78304919,
          405.61902022,
          405.70577272
         ]
        }
       ],
       "layout": {
        "font": {
         "size": 16
        },
        "height": 800,
        "title": "",
        "width": 1600,
        "xaxis": {
         "title": "Date"
        },
        "yaxis": {
         "title": "PTT: Stock Price (Baht)"
        }
       }
      },
      "text/html": [
       "<div id=\"01677dcf-9bf8-452b-85e8-53d4c1f00add\" style=\"height: 800px; width: 1600px;\" class=\"plotly-graph-div\"></div><script type=\"text/javascript\">require([\"plotly\"], function(Plotly) { window.PLOTLYENV=window.PLOTLYENV || {};window.PLOTLYENV.BASE_URL=\"https://plot.ly\";Plotly.newPlot(\"01677dcf-9bf8-452b-85e8-53d4c1f00add\", [{\"name\": \"Actual\", \"y\": [393.0, 392.0, 390.0, 390.0, 389.0, 389.0, 389.0, 390.0, 388.0, 388.0, 388.0, 389.0, 389.0, 389.0, 389.0, 389.0, 389.0, 390.0, 390.0, 389.0, 389.0, 387.0, 387.0, 386.0, 386.0, 386.0, 381.0, 386.0, 386.0, 393.0, 389.0, 392.0, 393.0, 393.0, 393.0, 393.0, 393.0, 393.0, 395.0, 394.0, 393.0, 394.0, 394.0, 392.0, 392.0, 393.0, 393.0, 390.0, 391.0, 383.0, 383.0, 385.0, 385.0, 385.0, 382.0, 382.0, 383.0, 381.0, 381.0, 385.0, 384.0, 380.0, 379.0, 380.0, 384.0, 377.0, 378.0, 380.0, 379.0, 379.0, 380.0, 377.0, 377.0, 375.0, 375.0, 370.0, 373.0, 373.0, 374.0, 373.0, 373.0, 369.0, 369.0, 374.0, 373.0, 373.0, 373.0, 373.0, 372.0, 376.0, 374.0, 376.0, 376.0, 376.0, 376.0, 380.0, 380.0, 378.0, 378.0, 378.0, 385.0, 388.0, 388.0, 388.0, 388.0, 386.0, 386.0, 381.0, 381.0, 380.0, 380.0, 381.0, 381.0, 382.0, 382.0, 382.0, 382.0, 384.0, 382.0, 381.0, 384.0, 384.0, 384.0, 384.0, 385.0, 389.0, 393.0, 393.0, 392.0, 394.0, 393.0, 394.0, 394.0, 394.0, 394.0, 394.0, 400.0, 402.0, 399.0, 399.0, 400.0, 400.0, 399.0, 399.0, 400.0, 398.0, 398.0, 406.0, 406.0, 406.0, 404.0], \"type\": \"scatter\", \"mode\": \"lines+markers\", \"line\": {\"width\": 2, \"color\": \"rgb(205, 12, 24)\"}, \"x\": [\"2017-04-18\", \"2017-04-19\", \"2017-04-20\", \"2017-04-20\", \"2017-04-21\", \"2017-04-21\", \"2017-04-22\", \"2017-04-24\", \"2017-04-25\", \"2017-04-26\", \"2017-04-26\", \"2017-04-27\", \"2017-04-27\", \"2017-04-28\", \"2017-04-29\", \"2017-04-30\", \"2017-05-02\", \"2017-05-03\", \"2017-05-04\", \"2017-05-05\", \"2017-05-06\", \"2017-05-08\", \"2017-05-08\", \"2017-05-09\", \"2017-05-09\", \"2017-05-10\", \"2017-05-11\", \"2017-05-12\", \"2017-05-13\", \"2017-05-15\", \"2017-05-16\", \"2017-05-17\", \"2017-05-18\", \"2017-05-19\", \"2017-05-19\", \"2017-05-20\", \"2017-05-20\", \"2017-05-22\", \"2017-05-23\", \"2017-05-24\", \"2017-05-25\", \"2017-05-26\", \"2017-05-27\", \"2017-05-29\", \"2017-05-29\", \"2017-05-30\", \"2017-05-30\", \"2017-05-31\", \"2017-06-01\", \"2017-06-02\", \"2017-06-03\", \"2017-06-05\", \"2017-06-06\", \"2017-06-06\", \"2017-06-07\", \"2017-06-07\", \"2017-06-08\", \"2017-06-09\", \"2017-06-10\", \"2017-06-12\", \"2017-06-13\", \"2017-06-14\", \"2017-06-15\", \"2017-06-16\", \"2017-06-19\", \"2017-06-20\", \"2017-06-21\", \"2017-06-22\", \"2017-06-23\", \"2017-06-24\", \"2017-06-26\", \"2017-06-27\", \"2017-06-27\", \"2017-06-28\", \"2017-06-28\", \"2017-06-29\", \"2017-06-30\", \"2017-07-01\", \"2017-07-03\", \"2017-07-04\", \"2017-07-04\", \"2017-07-05\", \"2017-07-05\", \"2017-07-06\", \"2017-07-07\", \"2017-07-07\", \"2017-07-08\", \"2017-07-10\", \"2017-07-11\", \"2017-07-12\", \"2017-07-13\", \"2017-07-14\", \"2017-07-14\", \"2017-07-15\", \"2017-07-15\", \"2017-07-17\", \"2017-07-18\", \"2017-07-19\", \"2017-07-20\", \"2017-07-21\", \"2017-07-24\", \"2017-07-25\", \"2017-07-26\", \"2017-07-27\", \"2017-07-29\", \"2017-07-31\", \"2017-07-31\", \"2017-08-01\", \"2017-08-01\", \"2017-08-02\", \"2017-08-02\", \"2017-08-03\", \"2017-08-03\", \"2017-08-04\", \"2017-08-05\", \"2017-08-06\", \"2017-08-07\", \"2017-08-08\", \"2017-08-09\", \"2017-08-10\", \"2017-08-11\", \"2017-08-12\", \"2017-08-14\", \"2017-08-15\", \"2017-08-16\", \"2017-08-17\", \"2017-08-18\", \"2017-08-19\", \"2017-08-21\", \"2017-08-22\", \"2017-08-23\", \"2017-08-24\", \"2017-08-25\", \"2017-08-25\", \"2017-08-27\", \"2017-08-27\", \"2017-08-28\", \"2017-08-29\", \"2017-08-30\", \"2017-08-30\", \"2017-08-31\", \"2017-08-31\", \"2017-09-01\", \"2017-09-02\", \"2017-09-04\", \"2017-09-05\", \"2017-09-05\", \"2017-09-06\", \"2017-09-06\", \"2017-09-07\", \"2017-09-08\"]}, {\"name\": \"Ensemble\", \"y\": [392.6679924795945, 393.43599093236827, 392.179667785206, 391.9787742263885, 390.58056091820555, 390.5543433038708, 390.55630246288325, 389.7059196993964, 389.9653746510232, 387.6578272754573, 387.5962638145456, 387.77531915560706, 387.7964987594608, 388.82902756705147, 388.7296618204832, 388.8199968051445, 388.6448136126755, 388.7056057648411, 389.977154444423, 389.8044370040677, 389.7582319304589, 389.21883825186944, 389.1797774732168, 386.89053474370303, 386.89988801545474, 386.8934710669217, 385.52714782960004, 382.159872796452, 382.0446116454677, 387.10863525273027, 392.09040546639926, 388.33726244881404, 392.76446406998525, 393.11184268404327, 393.09636557963444, 393.0898731601697, 393.073432089032, 393.34332765595013, 393.50036742263495, 395.0972698004035, 394.3082314335216, 393.5205153021157, 393.5127680649734, 394.2571295967947, 394.215586127273, 392.19639045121, 392.1298317679924, 393.4261447736832, 390.34820453844276, 391.9256619612191, 391.9628018114774, 383.11636332215545, 385.8026023689397, 385.88426348333235, 384.99059644699224, 385.0806534714412, 382.6689279940051, 384.09594364447605, 384.13918132536924, 381.63998974853246, 385.5293379880986, 383.3942152283309, 380.80369907459885, 379.80889048616353, 380.481510985876, 384.10244244290675, 376.7387695100159, 378.57012176737805, 379.92117691937614, 379.86238312511625, 379.2332156512102, 380.4411502963538, 380.4219874201084, 376.6149945883685, 377.0295972712773, 375.3434313130549, 370.57182346064354, 370.7314930033474, 373.97180197608304, 374.10796882656035, 374.1996016133096, 373.9777424299267, 373.96581009241834, 370.1895521696455, 374.9004784223649, 374.9731663161927, 375.03395479251947, 374.7149448092325, 373.8131487521288, 373.3175371077311, 376.1607214348578, 374.47883011121763, 374.46031679070114, 374.63766479730964, 374.5206331973608, 375.8333779337013, 380.09069455323356, 379.962408240985, 378.01661637547136, 377.8580706443815, 378.71316911580607, 385.61209679821025, 386.9593939872412, 388.3513037839863, 388.5103822945781, 387.64667632297187, 387.51410722324545, 385.67389326935256, 385.5457065944114, 381.8703055886022, 381.7885488877558, 380.9276361421736, 380.9001222463786, 381.73110228847924, 381.65640390154584, 381.70339453776916, 382.39274725632595, 382.5692932003584, 384.46030070785787, 382.4465164881846, 381.9788580245258, 381.98732726730566, 381.98771967963046, 384.48298131833513, 383.6863967629408, 385.5476621809216, 389.989784482411, 389.90676506234007, 393.00175827269277, 391.9143706948569, 394.1731420118943, 393.4237729260682, 394.3193747143742, 394.26771337937504, 395.6993965928735, 394.2814935774363, 394.5231668738258, 400.3276089314541, 401.0075694450987, 401.0035850851736, 398.6833609753455, 398.75480378145687, 400.1031904846057, 399.9781528466477, 398.3391128624163, 399.7264186208712, 399.64998237349874, 397.4652124244687, 397.500062589539, 406.2489626200284, 405.17478694754357], \"type\": \"scatter\", \"mode\": \"lines+markers\", \"line\": {\"width\": 2, \"color\": \"rgb(22, 96, 167)\"}, \"x\": [\"2017-04-18\", \"2017-04-19\", \"2017-04-20\", \"2017-04-20\", \"2017-04-21\", \"2017-04-21\", \"2017-04-22\", \"2017-04-24\", \"2017-04-25\", \"2017-04-26\", \"2017-04-26\", \"2017-04-27\", \"2017-04-27\", \"2017-04-28\", \"2017-04-29\", \"2017-04-30\", \"2017-05-02\", \"2017-05-03\", \"2017-05-04\", \"2017-05-05\", \"2017-05-06\", \"2017-05-08\", \"2017-05-08\", \"2017-05-09\", \"2017-05-09\", \"2017-05-10\", \"2017-05-11\", \"2017-05-12\", \"2017-05-13\", \"2017-05-15\", \"2017-05-16\", \"2017-05-17\", \"2017-05-18\", \"2017-05-19\", \"2017-05-19\", \"2017-05-20\", \"2017-05-20\", \"2017-05-22\", \"2017-05-23\", \"2017-05-24\", \"2017-05-25\", \"2017-05-26\", \"2017-05-27\", \"2017-05-29\", \"2017-05-29\", \"2017-05-30\", \"2017-05-30\", \"2017-05-31\", \"2017-06-01\", \"2017-06-02\", \"2017-06-03\", \"2017-06-05\", \"2017-06-06\", \"2017-06-06\", \"2017-06-07\", \"2017-06-07\", \"2017-06-08\", \"2017-06-09\", \"2017-06-10\", \"2017-06-12\", \"2017-06-13\", \"2017-06-14\", \"2017-06-15\", \"2017-06-16\", \"2017-06-19\", \"2017-06-20\", \"2017-06-21\", \"2017-06-22\", \"2017-06-23\", \"2017-06-24\", \"2017-06-26\", \"2017-06-27\", \"2017-06-27\", \"2017-06-28\", \"2017-06-28\", \"2017-06-29\", \"2017-06-30\", \"2017-07-01\", \"2017-07-03\", \"2017-07-04\", \"2017-07-04\", \"2017-07-05\", \"2017-07-05\", \"2017-07-06\", \"2017-07-07\", \"2017-07-07\", \"2017-07-08\", \"2017-07-10\", \"2017-07-11\", \"2017-07-12\", \"2017-07-13\", \"2017-07-14\", \"2017-07-14\", \"2017-07-15\", \"2017-07-15\", \"2017-07-17\", \"2017-07-18\", \"2017-07-19\", \"2017-07-20\", \"2017-07-21\", \"2017-07-24\", \"2017-07-25\", \"2017-07-26\", \"2017-07-27\", \"2017-07-29\", \"2017-07-31\", \"2017-07-31\", \"2017-08-01\", \"2017-08-01\", \"2017-08-02\", \"2017-08-02\", \"2017-08-03\", \"2017-08-03\", \"2017-08-04\", \"2017-08-05\", \"2017-08-06\", \"2017-08-07\", \"2017-08-08\", \"2017-08-09\", \"2017-08-10\", \"2017-08-11\", \"2017-08-12\", \"2017-08-14\", \"2017-08-15\", \"2017-08-16\", \"2017-08-17\", \"2017-08-18\", \"2017-08-19\", \"2017-08-21\", \"2017-08-22\", \"2017-08-23\", \"2017-08-24\", \"2017-08-25\", \"2017-08-25\", \"2017-08-27\", \"2017-08-27\", \"2017-08-28\", \"2017-08-29\", \"2017-08-30\", \"2017-08-30\", \"2017-08-31\", \"2017-08-31\", \"2017-09-01\", \"2017-09-02\", \"2017-09-04\", \"2017-09-05\", \"2017-09-05\", \"2017-09-06\", \"2017-09-06\", \"2017-09-07\", \"2017-09-08\"]}, {\"name\": \"Baseline\", \"y\": [391.79651198, 392.74566192, 391.77075732, 391.77075732, 389.80000554, 389.80000554, 389.80000554, 388.78870555, 389.74815735, 387.79136729, 387.79136729, 387.77225463, 387.77225463, 388.74383823, 388.74383823, 388.74383823, 388.75597003, 388.76112096, 389.74300642, 389.75513822, 389.75513822, 388.77840369, 388.77840369, 386.80250097, 386.80250097, 386.80250097, 385.79120098, 380.85934002, 380.85934002, 385.70295741, 392.61105996, 388.79419535, 391.72738107, 392.72505819, 392.72505819, 392.72505819, 392.72505819, 392.75264278, 392.75779372, 394.72156464, 393.76394277, 392.78022738, 392.78022738, 393.74483011, 393.74483011, 391.78804005, 391.78804005, 392.75081285, 389.8069864, 390.7576274, 390.7576274, 382.89922271, 384.7710902, 384.7710902, 384.75414634, 384.75414634, 381.81879182, 382.76428189, 382.76428189, 380.79718997, 384.70561915, 383.76195901, 379.8428891, 378.80732552, 379.75647546, 383.69099817, 376.87147806, 377.78904467, 379.72889087, 379.72889087, 378.77641993, 379.75647546, 379.75647546, 376.81779994, 376.81779994, 374.82278456, 369.87364086, 369.87364086, 372.7483364, 373.7408626, 373.7408626, 372.78656173, 372.78656173, 368.85203902, 373.70778821, 373.70778821, 373.70778821, 373.70778821, 372.765958, 371.7976954, 375.70795452, 373.78755985, 373.78755985, 373.78755985, 373.78755985, 375.7476709, 379.68917448, 379.74800353, 377.80483633, 377.78057274, 377.77027088, 384.6434691, 387.67404806, 387.74649997, 387.74649997, 387.76195277, 387.76195277, 385.79818185, 385.79818185, 380.86449095, 380.86449095, 379.81164464, 379.81164464, 380.75564365, 380.75564365, 380.75564365, 381.74450997, 381.7617927, 383.73071456, 381.79120723, 380.79536003, 380.79536003, 380.79536003, 383.71858276, 383.74982722, 384.74716547, 388.68683911, 388.68683911, 392.66805908, 391.75530453, 393.72754738, 392.76477458, 393.74483011, 393.74483011, 393.74483011, 393.74483011, 393.75181097, 399.64827467, 401.68483637, 401.68483637, 398.79434917, 398.79434917, 399.75014111, 399.75014111, 398.76493465, 399.73983924, 399.73983924, 397.78304919, 397.78304919, 405.61902022, 405.70577272], \"type\": \"scatter\", \"mode\": \"lines+markers\", \"line\": {\"width\": 2, \"dash\": \"dot\", \"color\": \"rgb(22, 96, 167)\"}, \"x\": [\"2017-04-18\", \"2017-04-19\", \"2017-04-20\", \"2017-04-20\", \"2017-04-21\", \"2017-04-21\", \"2017-04-22\", \"2017-04-24\", \"2017-04-25\", \"2017-04-26\", \"2017-04-26\", \"2017-04-27\", \"2017-04-27\", \"2017-04-28\", \"2017-04-29\", \"2017-04-30\", \"2017-05-02\", \"2017-05-03\", \"2017-05-04\", \"2017-05-05\", \"2017-05-06\", \"2017-05-08\", \"2017-05-08\", \"2017-05-09\", \"2017-05-09\", \"2017-05-10\", \"2017-05-11\", \"2017-05-12\", \"2017-05-13\", \"2017-05-15\", \"2017-05-16\", \"2017-05-17\", \"2017-05-18\", \"2017-05-19\", \"2017-05-19\", \"2017-05-20\", \"2017-05-20\", \"2017-05-22\", \"2017-05-23\", \"2017-05-24\", \"2017-05-25\", \"2017-05-26\", \"2017-05-27\", \"2017-05-29\", \"2017-05-29\", \"2017-05-30\", \"2017-05-30\", \"2017-05-31\", \"2017-06-01\", \"2017-06-02\", \"2017-06-03\", \"2017-06-05\", \"2017-06-06\", \"2017-06-06\", \"2017-06-07\", \"2017-06-07\", \"2017-06-08\", \"2017-06-09\", \"2017-06-10\", \"2017-06-12\", \"2017-06-13\", \"2017-06-14\", \"2017-06-15\", \"2017-06-16\", \"2017-06-19\", \"2017-06-20\", \"2017-06-21\", \"2017-06-22\", \"2017-06-23\", \"2017-06-24\", \"2017-06-26\", \"2017-06-27\", \"2017-06-27\", \"2017-06-28\", \"2017-06-28\", \"2017-06-29\", \"2017-06-30\", \"2017-07-01\", \"2017-07-03\", \"2017-07-04\", \"2017-07-04\", \"2017-07-05\", \"2017-07-05\", \"2017-07-06\", \"2017-07-07\", \"2017-07-07\", \"2017-07-08\", \"2017-07-10\", \"2017-07-11\", \"2017-07-12\", \"2017-07-13\", \"2017-07-14\", \"2017-07-14\", \"2017-07-15\", \"2017-07-15\", \"2017-07-17\", \"2017-07-18\", \"2017-07-19\", \"2017-07-20\", \"2017-07-21\", \"2017-07-24\", \"2017-07-25\", \"2017-07-26\", \"2017-07-27\", \"2017-07-29\", \"2017-07-31\", \"2017-07-31\", \"2017-08-01\", \"2017-08-01\", \"2017-08-02\", \"2017-08-02\", \"2017-08-03\", \"2017-08-03\", \"2017-08-04\", \"2017-08-05\", \"2017-08-06\", \"2017-08-07\", \"2017-08-08\", \"2017-08-09\", \"2017-08-10\", \"2017-08-11\", \"2017-08-12\", \"2017-08-14\", \"2017-08-15\", \"2017-08-16\", \"2017-08-17\", \"2017-08-18\", \"2017-08-19\", \"2017-08-21\", \"2017-08-22\", \"2017-08-23\", \"2017-08-24\", \"2017-08-25\", \"2017-08-25\", \"2017-08-27\", \"2017-08-27\", \"2017-08-28\", \"2017-08-29\", \"2017-08-30\", \"2017-08-30\", \"2017-08-31\", \"2017-08-31\", \"2017-09-01\", \"2017-09-02\", \"2017-09-04\", \"2017-09-05\", \"2017-09-05\", \"2017-09-06\", \"2017-09-06\", \"2017-09-07\", \"2017-09-08\"]}], {\"title\": \"\", \"height\": 800, \"font\": {\"size\": 16}, \"yaxis\": {\"title\": \"PTT: Stock Price (Baht)\"}, \"xaxis\": {\"title\": \"Date\"}, \"width\": 1600}, {\"linkText\": \"Export to plot.ly\", \"showLink\": true})});</script>"
      ],
      "text/vnd.plotly.v1+html": [
       "<div id=\"01677dcf-9bf8-452b-85e8-53d4c1f00add\" style=\"height: 800px; width: 1600px;\" class=\"plotly-graph-div\"></div><script type=\"text/javascript\">require([\"plotly\"], function(Plotly) { window.PLOTLYENV=window.PLOTLYENV || {};window.PLOTLYENV.BASE_URL=\"https://plot.ly\";Plotly.newPlot(\"01677dcf-9bf8-452b-85e8-53d4c1f00add\", [{\"name\": \"Actual\", \"y\": [393.0, 392.0, 390.0, 390.0, 389.0, 389.0, 389.0, 390.0, 388.0, 388.0, 388.0, 389.0, 389.0, 389.0, 389.0, 389.0, 389.0, 390.0, 390.0, 389.0, 389.0, 387.0, 387.0, 386.0, 386.0, 386.0, 381.0, 386.0, 386.0, 393.0, 389.0, 392.0, 393.0, 393.0, 393.0, 393.0, 393.0, 393.0, 395.0, 394.0, 393.0, 394.0, 394.0, 392.0, 392.0, 393.0, 393.0, 390.0, 391.0, 383.0, 383.0, 385.0, 385.0, 385.0, 382.0, 382.0, 383.0, 381.0, 381.0, 385.0, 384.0, 380.0, 379.0, 380.0, 384.0, 377.0, 378.0, 380.0, 379.0, 379.0, 380.0, 377.0, 377.0, 375.0, 375.0, 370.0, 373.0, 373.0, 374.0, 373.0, 373.0, 369.0, 369.0, 374.0, 373.0, 373.0, 373.0, 373.0, 372.0, 376.0, 374.0, 376.0, 376.0, 376.0, 376.0, 380.0, 380.0, 378.0, 378.0, 378.0, 385.0, 388.0, 388.0, 388.0, 388.0, 386.0, 386.0, 381.0, 381.0, 380.0, 380.0, 381.0, 381.0, 382.0, 382.0, 382.0, 382.0, 384.0, 382.0, 381.0, 384.0, 384.0, 384.0, 384.0, 385.0, 389.0, 393.0, 393.0, 392.0, 394.0, 393.0, 394.0, 394.0, 394.0, 394.0, 394.0, 400.0, 402.0, 399.0, 399.0, 400.0, 400.0, 399.0, 399.0, 400.0, 398.0, 398.0, 406.0, 406.0, 406.0, 404.0], \"type\": \"scatter\", \"mode\": \"lines+markers\", \"line\": {\"width\": 2, \"color\": \"rgb(205, 12, 24)\"}, \"x\": [\"2017-04-18\", \"2017-04-19\", \"2017-04-20\", \"2017-04-20\", \"2017-04-21\", \"2017-04-21\", \"2017-04-22\", \"2017-04-24\", \"2017-04-25\", \"2017-04-26\", \"2017-04-26\", \"2017-04-27\", \"2017-04-27\", \"2017-04-28\", \"2017-04-29\", \"2017-04-30\", \"2017-05-02\", \"2017-05-03\", \"2017-05-04\", \"2017-05-05\", \"2017-05-06\", \"2017-05-08\", \"2017-05-08\", \"2017-05-09\", \"2017-05-09\", \"2017-05-10\", \"2017-05-11\", \"2017-05-12\", \"2017-05-13\", \"2017-05-15\", \"2017-05-16\", \"2017-05-17\", \"2017-05-18\", \"2017-05-19\", \"2017-05-19\", \"2017-05-20\", \"2017-05-20\", \"2017-05-22\", \"2017-05-23\", \"2017-05-24\", \"2017-05-25\", \"2017-05-26\", \"2017-05-27\", \"2017-05-29\", \"2017-05-29\", \"2017-05-30\", \"2017-05-30\", \"2017-05-31\", \"2017-06-01\", \"2017-06-02\", \"2017-06-03\", \"2017-06-05\", \"2017-06-06\", \"2017-06-06\", \"2017-06-07\", \"2017-06-07\", \"2017-06-08\", \"2017-06-09\", \"2017-06-10\", \"2017-06-12\", \"2017-06-13\", \"2017-06-14\", \"2017-06-15\", \"2017-06-16\", \"2017-06-19\", \"2017-06-20\", \"2017-06-21\", \"2017-06-22\", \"2017-06-23\", \"2017-06-24\", \"2017-06-26\", \"2017-06-27\", \"2017-06-27\", \"2017-06-28\", \"2017-06-28\", \"2017-06-29\", \"2017-06-30\", \"2017-07-01\", \"2017-07-03\", \"2017-07-04\", \"2017-07-04\", \"2017-07-05\", \"2017-07-05\", \"2017-07-06\", \"2017-07-07\", \"2017-07-07\", \"2017-07-08\", \"2017-07-10\", \"2017-07-11\", \"2017-07-12\", \"2017-07-13\", \"2017-07-14\", \"2017-07-14\", \"2017-07-15\", \"2017-07-15\", \"2017-07-17\", \"2017-07-18\", \"2017-07-19\", \"2017-07-20\", \"2017-07-21\", \"2017-07-24\", \"2017-07-25\", \"2017-07-26\", \"2017-07-27\", \"2017-07-29\", \"2017-07-31\", \"2017-07-31\", \"2017-08-01\", \"2017-08-01\", \"2017-08-02\", \"2017-08-02\", \"2017-08-03\", \"2017-08-03\", \"2017-08-04\", \"2017-08-05\", \"2017-08-06\", \"2017-08-07\", \"2017-08-08\", \"2017-08-09\", \"2017-08-10\", \"2017-08-11\", \"2017-08-12\", \"2017-08-14\", \"2017-08-15\", \"2017-08-16\", \"2017-08-17\", \"2017-08-18\", \"2017-08-19\", \"2017-08-21\", \"2017-08-22\", \"2017-08-23\", \"2017-08-24\", \"2017-08-25\", \"2017-08-25\", \"2017-08-27\", \"2017-08-27\", \"2017-08-28\", \"2017-08-29\", \"2017-08-30\", \"2017-08-30\", \"2017-08-31\", \"2017-08-31\", \"2017-09-01\", \"2017-09-02\", \"2017-09-04\", \"2017-09-05\", \"2017-09-05\", \"2017-09-06\", \"2017-09-06\", \"2017-09-07\", \"2017-09-08\"]}, {\"name\": \"Ensemble\", \"y\": [392.6679924795945, 393.43599093236827, 392.179667785206, 391.9787742263885, 390.58056091820555, 390.5543433038708, 390.55630246288325, 389.7059196993964, 389.9653746510232, 387.6578272754573, 387.5962638145456, 387.77531915560706, 387.7964987594608, 388.82902756705147, 388.7296618204832, 388.8199968051445, 388.6448136126755, 388.7056057648411, 389.977154444423, 389.8044370040677, 389.7582319304589, 389.21883825186944, 389.1797774732168, 386.89053474370303, 386.89988801545474, 386.8934710669217, 385.52714782960004, 382.159872796452, 382.0446116454677, 387.10863525273027, 392.09040546639926, 388.33726244881404, 392.76446406998525, 393.11184268404327, 393.09636557963444, 393.0898731601697, 393.073432089032, 393.34332765595013, 393.50036742263495, 395.0972698004035, 394.3082314335216, 393.5205153021157, 393.5127680649734, 394.2571295967947, 394.215586127273, 392.19639045121, 392.1298317679924, 393.4261447736832, 390.34820453844276, 391.9256619612191, 391.9628018114774, 383.11636332215545, 385.8026023689397, 385.88426348333235, 384.99059644699224, 385.0806534714412, 382.6689279940051, 384.09594364447605, 384.13918132536924, 381.63998974853246, 385.5293379880986, 383.3942152283309, 380.80369907459885, 379.80889048616353, 380.481510985876, 384.10244244290675, 376.7387695100159, 378.57012176737805, 379.92117691937614, 379.86238312511625, 379.2332156512102, 380.4411502963538, 380.4219874201084, 376.6149945883685, 377.0295972712773, 375.3434313130549, 370.57182346064354, 370.7314930033474, 373.97180197608304, 374.10796882656035, 374.1996016133096, 373.9777424299267, 373.96581009241834, 370.1895521696455, 374.9004784223649, 374.9731663161927, 375.03395479251947, 374.7149448092325, 373.8131487521288, 373.3175371077311, 376.1607214348578, 374.47883011121763, 374.46031679070114, 374.63766479730964, 374.5206331973608, 375.8333779337013, 380.09069455323356, 379.962408240985, 378.01661637547136, 377.8580706443815, 378.71316911580607, 385.61209679821025, 386.9593939872412, 388.3513037839863, 388.5103822945781, 387.64667632297187, 387.51410722324545, 385.67389326935256, 385.5457065944114, 381.8703055886022, 381.7885488877558, 380.9276361421736, 380.9001222463786, 381.73110228847924, 381.65640390154584, 381.70339453776916, 382.39274725632595, 382.5692932003584, 384.46030070785787, 382.4465164881846, 381.9788580245258, 381.98732726730566, 381.98771967963046, 384.48298131833513, 383.6863967629408, 385.5476621809216, 389.989784482411, 389.90676506234007, 393.00175827269277, 391.9143706948569, 394.1731420118943, 393.4237729260682, 394.3193747143742, 394.26771337937504, 395.6993965928735, 394.2814935774363, 394.5231668738258, 400.3276089314541, 401.0075694450987, 401.0035850851736, 398.6833609753455, 398.75480378145687, 400.1031904846057, 399.9781528466477, 398.3391128624163, 399.7264186208712, 399.64998237349874, 397.4652124244687, 397.500062589539, 406.2489626200284, 405.17478694754357], \"type\": \"scatter\", \"mode\": \"lines+markers\", \"line\": {\"width\": 2, \"color\": \"rgb(22, 96, 167)\"}, \"x\": [\"2017-04-18\", \"2017-04-19\", \"2017-04-20\", \"2017-04-20\", \"2017-04-21\", \"2017-04-21\", \"2017-04-22\", \"2017-04-24\", \"2017-04-25\", \"2017-04-26\", \"2017-04-26\", \"2017-04-27\", \"2017-04-27\", \"2017-04-28\", \"2017-04-29\", \"2017-04-30\", \"2017-05-02\", \"2017-05-03\", \"2017-05-04\", \"2017-05-05\", \"2017-05-06\", \"2017-05-08\", \"2017-05-08\", \"2017-05-09\", \"2017-05-09\", \"2017-05-10\", \"2017-05-11\", \"2017-05-12\", \"2017-05-13\", \"2017-05-15\", \"2017-05-16\", \"2017-05-17\", \"2017-05-18\", \"2017-05-19\", \"2017-05-19\", \"2017-05-20\", \"2017-05-20\", \"2017-05-22\", \"2017-05-23\", \"2017-05-24\", \"2017-05-25\", \"2017-05-26\", \"2017-05-27\", \"2017-05-29\", \"2017-05-29\", \"2017-05-30\", \"2017-05-30\", \"2017-05-31\", \"2017-06-01\", \"2017-06-02\", \"2017-06-03\", \"2017-06-05\", \"2017-06-06\", \"2017-06-06\", \"2017-06-07\", \"2017-06-07\", \"2017-06-08\", \"2017-06-09\", \"2017-06-10\", \"2017-06-12\", \"2017-06-13\", \"2017-06-14\", \"2017-06-15\", \"2017-06-16\", \"2017-06-19\", \"2017-06-20\", \"2017-06-21\", \"2017-06-22\", \"2017-06-23\", \"2017-06-24\", \"2017-06-26\", \"2017-06-27\", \"2017-06-27\", \"2017-06-28\", \"2017-06-28\", \"2017-06-29\", \"2017-06-30\", \"2017-07-01\", \"2017-07-03\", \"2017-07-04\", \"2017-07-04\", \"2017-07-05\", \"2017-07-05\", \"2017-07-06\", \"2017-07-07\", \"2017-07-07\", \"2017-07-08\", \"2017-07-10\", \"2017-07-11\", \"2017-07-12\", \"2017-07-13\", \"2017-07-14\", \"2017-07-14\", \"2017-07-15\", \"2017-07-15\", \"2017-07-17\", \"2017-07-18\", \"2017-07-19\", \"2017-07-20\", \"2017-07-21\", \"2017-07-24\", \"2017-07-25\", \"2017-07-26\", \"2017-07-27\", \"2017-07-29\", \"2017-07-31\", \"2017-07-31\", \"2017-08-01\", \"2017-08-01\", \"2017-08-02\", \"2017-08-02\", \"2017-08-03\", \"2017-08-03\", \"2017-08-04\", \"2017-08-05\", \"2017-08-06\", \"2017-08-07\", \"2017-08-08\", \"2017-08-09\", \"2017-08-10\", \"2017-08-11\", \"2017-08-12\", \"2017-08-14\", \"2017-08-15\", \"2017-08-16\", \"2017-08-17\", \"2017-08-18\", \"2017-08-19\", \"2017-08-21\", \"2017-08-22\", \"2017-08-23\", \"2017-08-24\", \"2017-08-25\", \"2017-08-25\", \"2017-08-27\", \"2017-08-27\", \"2017-08-28\", \"2017-08-29\", \"2017-08-30\", \"2017-08-30\", \"2017-08-31\", \"2017-08-31\", \"2017-09-01\", \"2017-09-02\", \"2017-09-04\", \"2017-09-05\", \"2017-09-05\", \"2017-09-06\", \"2017-09-06\", \"2017-09-07\", \"2017-09-08\"]}, {\"name\": \"Baseline\", \"y\": [391.79651198, 392.74566192, 391.77075732, 391.77075732, 389.80000554, 389.80000554, 389.80000554, 388.78870555, 389.74815735, 387.79136729, 387.79136729, 387.77225463, 387.77225463, 388.74383823, 388.74383823, 388.74383823, 388.75597003, 388.76112096, 389.74300642, 389.75513822, 389.75513822, 388.77840369, 388.77840369, 386.80250097, 386.80250097, 386.80250097, 385.79120098, 380.85934002, 380.85934002, 385.70295741, 392.61105996, 388.79419535, 391.72738107, 392.72505819, 392.72505819, 392.72505819, 392.72505819, 392.75264278, 392.75779372, 394.72156464, 393.76394277, 392.78022738, 392.78022738, 393.74483011, 393.74483011, 391.78804005, 391.78804005, 392.75081285, 389.8069864, 390.7576274, 390.7576274, 382.89922271, 384.7710902, 384.7710902, 384.75414634, 384.75414634, 381.81879182, 382.76428189, 382.76428189, 380.79718997, 384.70561915, 383.76195901, 379.8428891, 378.80732552, 379.75647546, 383.69099817, 376.87147806, 377.78904467, 379.72889087, 379.72889087, 378.77641993, 379.75647546, 379.75647546, 376.81779994, 376.81779994, 374.82278456, 369.87364086, 369.87364086, 372.7483364, 373.7408626, 373.7408626, 372.78656173, 372.78656173, 368.85203902, 373.70778821, 373.70778821, 373.70778821, 373.70778821, 372.765958, 371.7976954, 375.70795452, 373.78755985, 373.78755985, 373.78755985, 373.78755985, 375.7476709, 379.68917448, 379.74800353, 377.80483633, 377.78057274, 377.77027088, 384.6434691, 387.67404806, 387.74649997, 387.74649997, 387.76195277, 387.76195277, 385.79818185, 385.79818185, 380.86449095, 380.86449095, 379.81164464, 379.81164464, 380.75564365, 380.75564365, 380.75564365, 381.74450997, 381.7617927, 383.73071456, 381.79120723, 380.79536003, 380.79536003, 380.79536003, 383.71858276, 383.74982722, 384.74716547, 388.68683911, 388.68683911, 392.66805908, 391.75530453, 393.72754738, 392.76477458, 393.74483011, 393.74483011, 393.74483011, 393.74483011, 393.75181097, 399.64827467, 401.68483637, 401.68483637, 398.79434917, 398.79434917, 399.75014111, 399.75014111, 398.76493465, 399.73983924, 399.73983924, 397.78304919, 397.78304919, 405.61902022, 405.70577272], \"type\": \"scatter\", \"mode\": \"lines+markers\", \"line\": {\"width\": 2, \"dash\": \"dot\", \"color\": \"rgb(22, 96, 167)\"}, \"x\": [\"2017-04-18\", \"2017-04-19\", \"2017-04-20\", \"2017-04-20\", \"2017-04-21\", \"2017-04-21\", \"2017-04-22\", \"2017-04-24\", \"2017-04-25\", \"2017-04-26\", \"2017-04-26\", \"2017-04-27\", \"2017-04-27\", \"2017-04-28\", \"2017-04-29\", \"2017-04-30\", \"2017-05-02\", \"2017-05-03\", \"2017-05-04\", \"2017-05-05\", \"2017-05-06\", \"2017-05-08\", \"2017-05-08\", \"2017-05-09\", \"2017-05-09\", \"2017-05-10\", \"2017-05-11\", \"2017-05-12\", \"2017-05-13\", \"2017-05-15\", \"2017-05-16\", \"2017-05-17\", \"2017-05-18\", \"2017-05-19\", \"2017-05-19\", \"2017-05-20\", \"2017-05-20\", \"2017-05-22\", \"2017-05-23\", \"2017-05-24\", \"2017-05-25\", \"2017-05-26\", \"2017-05-27\", \"2017-05-29\", \"2017-05-29\", \"2017-05-30\", \"2017-05-30\", \"2017-05-31\", \"2017-06-01\", \"2017-06-02\", \"2017-06-03\", \"2017-06-05\", \"2017-06-06\", \"2017-06-06\", \"2017-06-07\", \"2017-06-07\", \"2017-06-08\", \"2017-06-09\", \"2017-06-10\", \"2017-06-12\", \"2017-06-13\", \"2017-06-14\", \"2017-06-15\", \"2017-06-16\", \"2017-06-19\", \"2017-06-20\", \"2017-06-21\", \"2017-06-22\", \"2017-06-23\", \"2017-06-24\", \"2017-06-26\", \"2017-06-27\", \"2017-06-27\", \"2017-06-28\", \"2017-06-28\", \"2017-06-29\", \"2017-06-30\", \"2017-07-01\", \"2017-07-03\", \"2017-07-04\", \"2017-07-04\", \"2017-07-05\", \"2017-07-05\", \"2017-07-06\", \"2017-07-07\", \"2017-07-07\", \"2017-07-08\", \"2017-07-10\", \"2017-07-11\", \"2017-07-12\", \"2017-07-13\", \"2017-07-14\", \"2017-07-14\", \"2017-07-15\", \"2017-07-15\", \"2017-07-17\", \"2017-07-18\", \"2017-07-19\", \"2017-07-20\", \"2017-07-21\", \"2017-07-24\", \"2017-07-25\", \"2017-07-26\", \"2017-07-27\", \"2017-07-29\", \"2017-07-31\", \"2017-07-31\", \"2017-08-01\", \"2017-08-01\", \"2017-08-02\", \"2017-08-02\", \"2017-08-03\", \"2017-08-03\", \"2017-08-04\", \"2017-08-05\", \"2017-08-06\", \"2017-08-07\", \"2017-08-08\", \"2017-08-09\", \"2017-08-10\", \"2017-08-11\", \"2017-08-12\", \"2017-08-14\", \"2017-08-15\", \"2017-08-16\", \"2017-08-17\", \"2017-08-18\", \"2017-08-19\", \"2017-08-21\", \"2017-08-22\", \"2017-08-23\", \"2017-08-24\", \"2017-08-25\", \"2017-08-25\", \"2017-08-27\", \"2017-08-27\", \"2017-08-28\", \"2017-08-29\", \"2017-08-30\", \"2017-08-30\", \"2017-08-31\", \"2017-08-31\", \"2017-09-01\", \"2017-09-02\", \"2017-09-04\", \"2017-09-05\", \"2017-09-05\", \"2017-09-06\", \"2017-09-06\", \"2017-09-07\", \"2017-09-08\"]}], {\"title\": \"\", \"height\": 800, \"font\": {\"size\": 16}, \"yaxis\": {\"title\": \"PTT: Stock Price (Baht)\"}, \"xaxis\": {\"title\": \"Date\"}, \"width\": 1600}, {\"linkText\": \"Export to plot.ly\", \"showLink\": true})});</script>"
      ]
     },
     "metadata": {},
     "output_type": "display_data"
    }
   ],
   "source": [
    "trace0 = go.Scatter(\n",
    "    x = x_tmp.index,\n",
    "    y = y_tmp,\n",
    "    mode='lines+markers',\n",
    "    name = 'Actual',\n",
    "    line = dict(\n",
    "        color = ('rgb(205, 12, 24)'),\n",
    "        width = 2)\n",
    ")\n",
    "trace1 = go.Scatter(\n",
    "    x = x_tmp.index,\n",
    "    y = y_pred,\n",
    "    mode='lines+markers',\n",
    "    name = 'Ensemble',\n",
    "    line = dict(\n",
    "        color = ('rgb(22, 96, 167)'),\n",
    "        width = 2,\n",
    "#         dash='dash'\n",
    "    )\n",
    ")\n",
    "\n",
    "trace2 = go.Scatter(\n",
    "    x = x_tmp.index,\n",
    "    y = y_price,\n",
    "    mode='lines+markers',\n",
    "    name = 'Baseline',\n",
    "    line = dict(\n",
    "        color = ('rgb(22, 96, 167)'),\n",
    "        width = 2,\n",
    "        dash = 'dot',\n",
    "        \n",
    "    )\n",
    ")\n",
    "\n",
    "\n",
    "data = [trace0, trace1, trace2]\n",
    "\n",
    "# Edit the layout\n",
    "layout = dict(title = '',\n",
    "              xaxis = dict(title = 'Date'),\n",
    "              yaxis = dict(title = 'PTT: Stock Price (Baht)'),\n",
    "              font=dict(size=16),\n",
    "              height=800,\n",
    "              width=1600\n",
    "             )\n",
    "fig = go.Figure(data=data, layout=layout)\n",
    "iplot(fig)"
   ]
  },
  {
   "cell_type": "code",
   "execution_count": null,
   "metadata": {},
   "outputs": [],
   "source": []
  },
  {
   "cell_type": "code",
   "execution_count": null,
   "metadata": {},
   "outputs": [],
   "source": []
  },
  {
   "cell_type": "code",
   "execution_count": null,
   "metadata": {},
   "outputs": [],
   "source": []
  },
  {
   "cell_type": "code",
   "execution_count": null,
   "metadata": {},
   "outputs": [],
   "source": []
  },
  {
   "cell_type": "code",
   "execution_count": null,
   "metadata": {},
   "outputs": [],
   "source": []
  },
  {
   "cell_type": "code",
   "execution_count": null,
   "metadata": {},
   "outputs": [],
   "source": []
  },
  {
   "cell_type": "code",
   "execution_count": null,
   "metadata": {},
   "outputs": [],
   "source": []
  },
  {
   "cell_type": "code",
   "execution_count": null,
   "metadata": {},
   "outputs": [],
   "source": []
  },
  {
   "cell_type": "code",
   "execution_count": null,
   "metadata": {},
   "outputs": [],
   "source": []
  },
  {
   "cell_type": "code",
   "execution_count": null,
   "metadata": {},
   "outputs": [],
   "source": []
  },
  {
   "cell_type": "code",
   "execution_count": null,
   "metadata": {},
   "outputs": [],
   "source": []
  },
  {
   "cell_type": "code",
   "execution_count": null,
   "metadata": {},
   "outputs": [],
   "source": []
  },
  {
   "cell_type": "code",
   "execution_count": 20,
   "metadata": {},
   "outputs": [],
   "source": [
    "def mean_absolute_percentage_error(y_true, y_pred): \n",
    "    return np.mean(np.abs((y_true - y_pred) / y_true)) * 100\n",
    "\n",
    "def evaluator(clf, df_test, le, isXGB=False, isLSTM=False,  ward=None, pca=None):\n",
    "    RMSEs, MAEs, MAPEs, DAs = [], [], [], []\n",
    "    results = []\n",
    "    for stock in target_stocks:\n",
    "        x_tmp = df_test.loc[df_test['Ticker'] == le.transform([stock])[0]].copy()\n",
    "        \n",
    "        y_tmp = x_tmp[Horizon].values\n",
    "        \n",
    "        # Directional Accuracy\n",
    "        changes = x_tmp[Horizon] -  x_tmp['Close(t)']\n",
    "        y_true_da = []\n",
    "        for change in changes:\n",
    "            y_true_da.append(1 if change >= 0 else 0)\n",
    "                \n",
    "        x_tmp = x_tmp.drop(['Close(t+1)'], axis=1)\n",
    "        \n",
    "        # Features Transformation\n",
    "        if ward is not None and pca is not None:\n",
    "            sel_x_tmp = np.concatenate((ward.transform(x_tmp.values), pca.transform(x_tmp.values)), axis=1)\n",
    "        elif ward is not None:\n",
    "            sel_x_tmp = ward.transform(x_tmp.values)\n",
    "        elif pca is not None:\n",
    "            sel_x_tmp = pca.transform(x_tmp.values)\n",
    "        else:\n",
    "            sel_x_tmp = deepcopy(x_tmp.values)\n",
    "            \n",
    "            \n",
    "\n",
    "        if isXGB:\n",
    "            y_pred = clf.predict(xgboost.DMatrix(sel_x_tmp))\n",
    "        else:\n",
    "            y_pred = clf.predict(sel_x_tmp)\n",
    "#             y_pred = clf.predict(x_tmp.as_matrix())\n",
    "\n",
    "#         # Directional Accuracy Pred\n",
    "        changes = y_pred.reshape(-1,1) - x_tmp['Close(t)'].values.reshape(-1,1)\n",
    "        y_pred_da = []\n",
    "        for change in changes:\n",
    "            y_pred_da.append(1 if change >= 0 else 0)\n",
    "        \n",
    "        RMSE = np.sqrt(sklearn.metrics.mean_squared_error(y_tmp, y_pred))\n",
    "        MAE = sklearn.metrics.mean_absolute_error(y_tmp, y_pred)\n",
    "        MAPE = mean_absolute_percentage_error(y_tmp, np.squeeze(y_pred))\n",
    "        DA = sklearn.metrics.accuracy_score(y_true_da, np.squeeze(y_pred_da))\n",
    "        print(stock, \"\\tRMSE: %.2f\\t MAE: %.2f \\tMAPE: %.2f \\tDA: %.2f\" % (RMSE, MAE, MAPE, DA))\n",
    "        RMSEs.append(RMSE)\n",
    "        MAEs.append(MAE)\n",
    "        MAPEs.append(MAPE)\n",
    "        DAs.append(DA)\n",
    "    \n",
    "    print('\\nmean RMSE:', round(np.mean(RMSEs),2))\n",
    "    print('mean MAE:', round(np.mean(MAEs),2))\n",
    "    print('mean MAPE:', round(np.mean(MAPEs),2))\n",
    "    print('mean DA:', round(np.mean(DAs),4))\n",
    "    \n",
    "def ensemble_evaluator(df_test, ward=None, pca=None):\n",
    "    RMSEs, MAEs, MAPEs, DAs = [], [], [], []\n",
    "    results = []\n",
    "    for stock in target_stocks:\n",
    "        x_tmp = df_test.loc[df_test['Ticker'] == le.transform([stock])[0]].copy()\n",
    "        \n",
    "        y_tmp = x_tmp[Horizon].values\n",
    "        \n",
    "        # Directional Accuracy\n",
    "        changes = x_tmp[Horizon] -  x_tmp['Close(t)']\n",
    "        y_true_da = []\n",
    "        for change in changes:\n",
    "            y_true_da.append(1 if change >= 0 else 0)\n",
    "                \n",
    "        x_tmp = x_tmp.drop(['Close(t+1)'], axis=1)\n",
    "        \n",
    "        if ward is not None and pca is not None:\n",
    "            sel_x_tmp = np.concatenate((ward.transform(x_tmp.values), pca.transform(x_tmp.values)), axis=1)\n",
    "        elif ward is not None:\n",
    "            sel_x_tmp = ward.transform(x_tmp.values)\n",
    "        elif pca is not None:\n",
    "            sel_x_tmp = pca.transform(x_tmp.values)\n",
    "        else:\n",
    "            sel_x_tmp = deepcopy(x_tmp.values)\n",
    "        \n",
    "        # Prediction\n",
    "\n",
    "        y_dt = dt.predict(sel_x_tmp)\n",
    "        y_rf = rf.predict(sel_x_tmp)\n",
    "        y_ada = ada.predict(sel_x_tmp)\n",
    "        y_gb = gb.predict(sel_x_tmp)\n",
    "        y_xgb = xgb.predict(xgboost.DMatrix(sel_x_tmp))\n",
    "        y_knn = knn.predict(sel_x_tmp)\n",
    "        y_bay = bay.predict(sel_x_tmp)\n",
    "        \n",
    "\n",
    "        y_pred = (y_dt+y_rf+y_ada+y_gb+y_xgb+y_knn+y_bay)/7\n",
    "        \n",
    "        y_stack = np.concatenate((\n",
    "            y_dt.reshape(-1,1),\n",
    "            y_rf.reshape(-1,1),\n",
    "            y_ada.reshape(-1,1),\n",
    "            y_gb.reshape(-1,1),\n",
    "            y_xgb.reshape(-1,1),\n",
    "            y_knn.reshape(-1,1),\n",
    "            y_bay.reshape(-1,1),\n",
    "#             sel_x_tmp\n",
    "        ), axis=1)\n",
    "        \n",
    "        sel_y_stack = deepcopy(y_stack)\n",
    "#         sel_y_stack = sel_stack.transform(y_stack)\n",
    "        y_pred = gb_stack.predict(sel_y_stack)\n",
    "        \n",
    "#         y_pred = np.zeros((y_stack.shape[0],1))\n",
    "#         for i in range(y_stack.shape[1]):\n",
    "#             y_pred += y_stack[:,i].reshape(-1,1)*gb_stack.feature_importances_[i]\n",
    "#         y_pred = np.squeeze(y_pred)\n",
    "\n",
    "        # Directional Accuracy Pred\n",
    "        changes = y_pred.reshape(-1,1) -  x_tmp['Close(t)'].values.reshape(-1,1)\n",
    "        y_pred_da = []\n",
    "        for change in changes:\n",
    "            y_pred_da.append(1 if change >= 0 else 0)\n",
    "        \n",
    "        RMSE = np.sqrt(sklearn.metrics.mean_squared_error(y_tmp, y_pred))\n",
    "        MAE = sklearn.metrics.mean_absolute_error(y_tmp, y_pred)\n",
    "        MAPE = mean_absolute_percentage_error(y_tmp, y_pred)\n",
    "        DA = sklearn.metrics.accuracy_score(y_true_da, y_pred_da)\n",
    "        print(stock, \"\\tRMSE: %.2f\\t MAE: %.2f \\tMAPE: %.2f \\tDA: %.2f\" % (RMSE, MAE, MAPE, DA))\n",
    "        RMSEs.append(RMSE)\n",
    "        MAEs.append(MAE)\n",
    "        MAPEs.append(MAPE)\n",
    "        DAs.append(DA)\n",
    "    \n",
    "    print('\\nmean RMSE:', round(np.mean(RMSEs),2))\n",
    "    print('mean MAE:', round(np.mean(MAEs),2))\n",
    "    print('mean MAPE:', round(np.mean(MAPEs),2))\n",
    "    print('mean DA:', round(np.mean(DAs),4))"
   ]
  },
  {
   "cell_type": "code",
   "execution_count": null,
   "metadata": {},
   "outputs": [],
   "source": []
  }
 ],
 "metadata": {
  "kernelspec": {
   "display_name": "Python 3",
   "language": "python",
   "name": "python3"
  },
  "language_info": {
   "codemirror_mode": {
    "name": "ipython",
    "version": 3
   },
   "file_extension": ".py",
   "mimetype": "text/x-python",
   "name": "python",
   "nbconvert_exporter": "python",
   "pygments_lexer": "ipython3",
   "version": "3.5.2"
  }
 },
 "nbformat": 4,
 "nbformat_minor": 2
}
