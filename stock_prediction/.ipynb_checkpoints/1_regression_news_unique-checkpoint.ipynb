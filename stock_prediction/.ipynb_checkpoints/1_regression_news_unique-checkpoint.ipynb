{
 "cells": [
  {
   "cell_type": "code",
   "execution_count": 1,
   "metadata": {},
   "outputs": [
    {
     "data": {
      "text/html": [
       "<style>.container { width:100% !important; }</style>"
      ],
      "text/plain": [
       "<IPython.core.display.HTML object>"
      ]
     },
     "metadata": {},
     "output_type": "display_data"
    },
    {
     "data": {
      "text/html": [
       "<script>requirejs.config({paths: { 'plotly': ['https://cdn.plot.ly/plotly-latest.min']},});if(!window.Plotly) {{require(['plotly'],function(plotly) {window.Plotly=plotly;});}}</script>"
      ],
      "text/vnd.plotly.v1+html": [
       "<script>requirejs.config({paths: { 'plotly': ['https://cdn.plot.ly/plotly-latest.min']},});if(!window.Plotly) {{require(['plotly'],function(plotly) {window.Plotly=plotly;});}}</script>"
      ]
     },
     "metadata": {},
     "output_type": "display_data"
    }
   ],
   "source": [
    "from IPython.core.display import display, HTML\n",
    "display(HTML(\"<style>.container { width:100% !important; }</style>\"))\n",
    "\n",
    "from talib.abstract import *\n",
    "import pandas as pd\n",
    "import os\n",
    "import copy\n",
    "import numpy as np\n",
    "\n",
    "from pythainlp.corpus import stopwords\n",
    "from sklearn.feature_extraction.text import TfidfVectorizer\n",
    "from sklearn.linear_model import LinearRegression\n",
    "from sklearn.metrics import mean_squared_error, mean_absolute_error, accuracy_score\n",
    "from sklearn import preprocessing\n",
    "\n",
    "from plotly.offline import download_plotlyjs, init_notebook_mode, plot, iplot\n",
    "init_notebook_mode(connected=True)\n",
    "\n",
    "from jupyterthemes import jtplot\n",
    "jtplot.style()\n",
    "\n",
    "import plotly.graph_objs as go\n",
    "from datetime import datetime, timedelta\n",
    "from tqdm import tqdm_notebook\n",
    "import matplotlib.pyplot as plt\n",
    "% matplotlib inline\n",
    "\n",
    "target_stocks = ['BANPU','IRPC','PTT','BBL','KBANK','SCB','AOT','THAI','CPF','MINT',\n",
    "                 'TU','SCC','CPN','CK','CPALL','HMPRO','BDMS','BH','ADVANC','JAS','TRUE']"
   ]
  },
  {
   "cell_type": "code",
   "execution_count": 2,
   "metadata": {},
   "outputs": [
    {
     "data": {
      "text/html": [
       "<div>\n",
       "<style>\n",
       "    .dataframe thead tr:only-child th {\n",
       "        text-align: right;\n",
       "    }\n",
       "\n",
       "    .dataframe thead th {\n",
       "        text-align: left;\n",
       "    }\n",
       "\n",
       "    .dataframe tbody tr th {\n",
       "        vertical-align: top;\n",
       "    }\n",
       "</style>\n",
       "<table border=\"1\" class=\"dataframe\">\n",
       "  <thead>\n",
       "    <tr style=\"text-align: right;\">\n",
       "      <th></th>\n",
       "      <th>Ticker</th>\n",
       "      <th>Open</th>\n",
       "      <th>High</th>\n",
       "      <th>Low</th>\n",
       "      <th>Close</th>\n",
       "      <th>Volume</th>\n",
       "    </tr>\n",
       "    <tr>\n",
       "      <th>Date</th>\n",
       "      <th></th>\n",
       "      <th></th>\n",
       "      <th></th>\n",
       "      <th></th>\n",
       "      <th></th>\n",
       "      <th></th>\n",
       "    </tr>\n",
       "  </thead>\n",
       "  <tbody>\n",
       "    <tr>\n",
       "      <th>2018-02-16</th>\n",
       "      <td>THAI</td>\n",
       "      <td>15.6</td>\n",
       "      <td>15.9</td>\n",
       "      <td>15.6</td>\n",
       "      <td>15.6</td>\n",
       "      <td>2907700</td>\n",
       "    </tr>\n",
       "    <tr>\n",
       "      <th>2018-02-16</th>\n",
       "      <td>TRUE</td>\n",
       "      <td>6.4</td>\n",
       "      <td>6.4</td>\n",
       "      <td>6.3</td>\n",
       "      <td>6.3</td>\n",
       "      <td>35851300</td>\n",
       "    </tr>\n",
       "    <tr>\n",
       "      <th>2018-02-16</th>\n",
       "      <td>TU</td>\n",
       "      <td>20.0</td>\n",
       "      <td>20.5</td>\n",
       "      <td>20.0</td>\n",
       "      <td>20.1</td>\n",
       "      <td>7299300</td>\n",
       "    </tr>\n",
       "  </tbody>\n",
       "</table>\n",
       "</div>"
      ],
      "text/plain": [
       "           Ticker  Open  High   Low  Close    Volume\n",
       "Date                                                \n",
       "2018-02-16   THAI  15.6  15.9  15.6   15.6   2907700\n",
       "2018-02-16   TRUE   6.4   6.4   6.3    6.3  35851300\n",
       "2018-02-16     TU  20.0  20.5  20.0   20.1   7299300"
      ]
     },
     "execution_count": 2,
     "metadata": {},
     "output_type": "execute_result"
    },
    {
     "data": {
      "text/plain": [
       "26331"
      ]
     },
     "execution_count": 2,
     "metadata": {},
     "output_type": "execute_result"
    }
   ],
   "source": [
    "df_price = pd.read_csv('merged_2013_2018.csv')\n",
    "df_price['Date'] = pd.to_datetime(df_price['Date'], format='%Y-%m-%d')\n",
    "df_price = df_price.loc[df_price['Ticker'].isin(target_stocks)]\n",
    "df_price['Date'] = df_price['Date'].dt.date\n",
    "df_price = df_price.set_index('Date')\n",
    "df_price.tail(3)\n",
    "len(df_price)"
   ]
  },
  {
   "cell_type": "code",
   "execution_count": 3,
   "metadata": {},
   "outputs": [
    {
     "data": {
      "text/html": [
       "<div>\n",
       "<style>\n",
       "    .dataframe thead tr:only-child th {\n",
       "        text-align: right;\n",
       "    }\n",
       "\n",
       "    .dataframe thead th {\n",
       "        text-align: left;\n",
       "    }\n",
       "\n",
       "    .dataframe tbody tr th {\n",
       "        vertical-align: top;\n",
       "    }\n",
       "</style>\n",
       "<table border=\"1\" class=\"dataframe\">\n",
       "  <thead>\n",
       "    <tr style=\"text-align: right;\">\n",
       "      <th></th>\n",
       "      <th>Ticker</th>\n",
       "      <th>Text</th>\n",
       "    </tr>\n",
       "  </thead>\n",
       "  <tbody>\n",
       "    <tr>\n",
       "      <th>2018-02-01</th>\n",
       "      <td>KBANK</td>\n",
       "      <td>สำนักงาน คณะกรรมการ กำกับ หลักทรัพย์ และ ตลาดห...</td>\n",
       "    </tr>\n",
       "    <tr>\n",
       "      <th>2018-02-05</th>\n",
       "      <td>CPF</td>\n",
       "      <td>บริษัท เจริญ โภคภัณฑ์ อาหาร จำกัด มหาชน หรือ จ...</td>\n",
       "    </tr>\n",
       "    <tr>\n",
       "      <th>2018-02-06</th>\n",
       "      <td>KBANK</td>\n",
       "      <td>นาย ศีล วัต สัน ติวิสัฎฐ์ นั่ง ขวา รอง กรรมการ...</td>\n",
       "    </tr>\n",
       "  </tbody>\n",
       "</table>\n",
       "</div>"
      ],
      "text/plain": [
       "           Ticker                                               Text\n",
       "2018-02-01  KBANK  สำนักงาน คณะกรรมการ กำกับ หลักทรัพย์ และ ตลาดห...\n",
       "2018-02-05    CPF  บริษัท เจริญ โภคภัณฑ์ อาหาร จำกัด มหาชน หรือ จ...\n",
       "2018-02-06  KBANK  นาย ศีล วัต สัน ติวิสัฎฐ์ นั่ง ขวา รอง กรรมการ..."
      ]
     },
     "execution_count": 3,
     "metadata": {},
     "output_type": "execute_result"
    },
    {
     "data": {
      "text/plain": [
       "('Total:', 2162)"
      ]
     },
     "execution_count": 3,
     "metadata": {},
     "output_type": "execute_result"
    }
   ],
   "source": [
    "df_kaohoon = pd.read_csv('data/kaohoon.csv')\n",
    "df_kaohoon['Date'] = pd.to_datetime(df_kaohoon['Date'], format='%Y-%m-%d')\n",
    "df_kaohoon = df_kaohoon.set_index('Date')\n",
    "df_kaohoon = df_kaohoon[:'2018-2-8']\n",
    "df_kaohoon.index = df_kaohoon.index.date\n",
    "df_kaohoon.tail(3)\n",
    "'Total:', len(df_kaohoon)"
   ]
  },
  {
   "cell_type": "code",
   "execution_count": 4,
   "metadata": {},
   "outputs": [
    {
     "data": {
      "text/html": [
       "<div>\n",
       "<style>\n",
       "    .dataframe thead tr:only-child th {\n",
       "        text-align: right;\n",
       "    }\n",
       "\n",
       "    .dataframe thead th {\n",
       "        text-align: left;\n",
       "    }\n",
       "\n",
       "    .dataframe tbody tr th {\n",
       "        vertical-align: top;\n",
       "    }\n",
       "</style>\n",
       "<table border=\"1\" class=\"dataframe\">\n",
       "  <thead>\n",
       "    <tr style=\"text-align: right;\">\n",
       "      <th></th>\n",
       "      <th>Ticker</th>\n",
       "      <th>Text</th>\n",
       "    </tr>\n",
       "  </thead>\n",
       "  <tbody>\n",
       "    <tr>\n",
       "      <th>2018-01-24</th>\n",
       "      <td>SCC</td>\n",
       "      <td>แจ้ง กำไร ออกมา ดีกว่า คาด ไตรมาส จำนวน หมื่น ...</td>\n",
       "    </tr>\n",
       "    <tr>\n",
       "      <th>2018-02-01</th>\n",
       "      <td>PTT</td>\n",
       "      <td>ปตท ตอบรับ นโยบาย สังคม ไร้ เงินสด ตอบสนอง ไลฟ...</td>\n",
       "    </tr>\n",
       "    <tr>\n",
       "      <th>2018-02-08</th>\n",
       "      <td>PTT</td>\n",
       "      <td>ตลาดหุ้น ไทย เปิด บวก แรง ซื้อ หุ้น นำ ตลาด ผส...</td>\n",
       "    </tr>\n",
       "  </tbody>\n",
       "</table>\n",
       "</div>"
      ],
      "text/plain": [
       "           Ticker                                               Text\n",
       "2018-01-24    SCC  แจ้ง กำไร ออกมา ดีกว่า คาด ไตรมาส จำนวน หมื่น ...\n",
       "2018-02-01    PTT  ปตท ตอบรับ นโยบาย สังคม ไร้ เงินสด ตอบสนอง ไลฟ...\n",
       "2018-02-08    PTT  ตลาดหุ้น ไทย เปิด บวก แรง ซื้อ หุ้น นำ ตลาด ผส..."
      ]
     },
     "execution_count": 4,
     "metadata": {},
     "output_type": "execute_result"
    },
    {
     "data": {
      "text/plain": [
       "('Total:', 693)"
      ]
     },
     "execution_count": 4,
     "metadata": {},
     "output_type": "execute_result"
    }
   ],
   "source": [
    "df_moneych = pd.read_csv('data/moneychanel.csv')\n",
    "df_moneych['Date'] = pd.to_datetime(df_moneych['Date'], format='%Y-%m-%d')\n",
    "df_moneych = df_moneych.set_index('Date')\n",
    "df_moneych = df_moneych[:'2018-2-8']\n",
    "df_moneych.index = df_moneych.index.date\n",
    "df_moneych.tail(3)\n",
    "'Total:', len(df_moneych)"
   ]
  },
  {
   "cell_type": "code",
   "execution_count": 5,
   "metadata": {},
   "outputs": [
    {
     "data": {
      "text/plain": [
       "2855"
      ]
     },
     "execution_count": 5,
     "metadata": {},
     "output_type": "execute_result"
    }
   ],
   "source": [
    "df_news = pd.concat([df_moneych, df_kaohoon])\n",
    "len(df_news.index)"
   ]
  },
  {
   "cell_type": "markdown",
   "metadata": {},
   "source": [
    "# Lag & Horizon Construction"
   ]
  },
  {
   "cell_type": "markdown",
   "metadata": {},
   "source": [
    "## Merge duplication Date Index"
   ]
  },
  {
   "cell_type": "code",
   "execution_count": 6,
   "metadata": {
    "scrolled": true
   },
   "outputs": [
    {
     "data": {
      "application/vnd.jupyter.widget-view+json": {
       "model_id": "bacaa03081a942e6a055f8581b00c473"
      }
     },
     "metadata": {},
     "output_type": "display_data"
    },
    {
     "name": "stdout",
     "output_type": "stream",
     "text": [
      "BANPU :\t 84 21\n",
      "IRPC :\t 72 19\n",
      "PTT :\t 209 53\n",
      "BBL :\t 101 26\n",
      "KBANK :\t 126 32\n",
      "SCB :\t 119 30\n",
      "AOT :\t 137 35\n",
      "THAI :\t 123 31\n",
      "CPF :\t 144 36\n",
      "MINT :\t 72 19\n",
      "TU :\t 52 14\n",
      "SCC :\t 88 23\n",
      "CPN :\t 67 17\n",
      "CK :\t 63 16\n",
      "CPALL :\t 44 11\n",
      "HMPRO :\t 50 13\n",
      "BDMS :\t 67 17\n",
      "BH :\t 48 13\n",
      "ADVANC :\t 114 29\n",
      "JAS :\t 101 26\n",
      "TRUE :\t 86 22\n",
      "\n"
     ]
    },
    {
     "data": {
      "text/plain": [
       "(1967, 503)"
      ]
     },
     "execution_count": 6,
     "metadata": {},
     "output_type": "execute_result"
    },
    {
     "data": {
      "text/html": [
       "<div>\n",
       "<style>\n",
       "    .dataframe thead tr:only-child th {\n",
       "        text-align: right;\n",
       "    }\n",
       "\n",
       "    .dataframe thead th {\n",
       "        text-align: left;\n",
       "    }\n",
       "\n",
       "    .dataframe tbody tr th {\n",
       "        vertical-align: top;\n",
       "    }\n",
       "</style>\n",
       "<table border=\"1\" class=\"dataframe\">\n",
       "  <thead>\n",
       "    <tr style=\"text-align: right;\">\n",
       "      <th></th>\n",
       "      <th>Ticker</th>\n",
       "      <th>Text</th>\n",
       "      <th>Close(t+1)</th>\n",
       "      <th>Open(t)</th>\n",
       "      <th>High(t)</th>\n",
       "      <th>Low(t)</th>\n",
       "      <th>Close(t)</th>\n",
       "      <th>Open(t-1)</th>\n",
       "      <th>High(t-1)</th>\n",
       "      <th>Low(t-1)</th>\n",
       "      <th>...</th>\n",
       "      <th>Low(t-3)</th>\n",
       "      <th>Close(t-3)</th>\n",
       "      <th>Open(t-4)</th>\n",
       "      <th>High(t-4)</th>\n",
       "      <th>Low(t-4)</th>\n",
       "      <th>Close(t-4)</th>\n",
       "      <th>Open(t-5)</th>\n",
       "      <th>High(t-5)</th>\n",
       "      <th>Low(t-5)</th>\n",
       "      <th>Close(t-5)</th>\n",
       "    </tr>\n",
       "    <tr>\n",
       "      <th>Date</th>\n",
       "      <th></th>\n",
       "      <th></th>\n",
       "      <th></th>\n",
       "      <th></th>\n",
       "      <th></th>\n",
       "      <th></th>\n",
       "      <th></th>\n",
       "      <th></th>\n",
       "      <th></th>\n",
       "      <th></th>\n",
       "      <th></th>\n",
       "      <th></th>\n",
       "      <th></th>\n",
       "      <th></th>\n",
       "      <th></th>\n",
       "      <th></th>\n",
       "      <th></th>\n",
       "      <th></th>\n",
       "      <th></th>\n",
       "      <th></th>\n",
       "      <th></th>\n",
       "    </tr>\n",
       "  </thead>\n",
       "  <tbody>\n",
       "    <tr>\n",
       "      <th>2015-02-12</th>\n",
       "      <td>BANPU</td>\n",
       "      <td>ใน ช่วง ภาค บ่าย จับตา หุ้น วันนี้ วอ ลุ่ม หนา...</td>\n",
       "      <td>27.75</td>\n",
       "      <td>26.0</td>\n",
       "      <td>27.75</td>\n",
       "      <td>26.0</td>\n",
       "      <td>27.5</td>\n",
       "      <td>25.75</td>\n",
       "      <td>26.0</td>\n",
       "      <td>25.25</td>\n",
       "      <td>...</td>\n",
       "      <td>25.5</td>\n",
       "      <td>25.5</td>\n",
       "      <td>26.0</td>\n",
       "      <td>26.25</td>\n",
       "      <td>25.5</td>\n",
       "      <td>25.5</td>\n",
       "      <td>25.75</td>\n",
       "      <td>26.0</td>\n",
       "      <td>25.25</td>\n",
       "      <td>25.75</td>\n",
       "    </tr>\n",
       "  </tbody>\n",
       "</table>\n",
       "<p>1 rows × 27 columns</p>\n",
       "</div>"
      ],
      "text/plain": [
       "           Ticker                                               Text  \\\n",
       "Date                                                                   \n",
       "2015-02-12  BANPU  ใน ช่วง ภาค บ่าย จับตา หุ้น วันนี้ วอ ลุ่ม หนา...   \n",
       "\n",
       "            Close(t+1)  Open(t)  High(t)  Low(t)  Close(t)  Open(t-1)  \\\n",
       "Date                                                                    \n",
       "2015-02-12       27.75     26.0    27.75    26.0      27.5      25.75   \n",
       "\n",
       "            High(t-1)  Low(t-1)     ...      Low(t-3)  Close(t-3)  Open(t-4)  \\\n",
       "Date                                ...                                        \n",
       "2015-02-12       26.0     25.25     ...          25.5        25.5       26.0   \n",
       "\n",
       "            High(t-4)  Low(t-4)  Close(t-4)  Open(t-5)  High(t-5)  Low(t-5)  \\\n",
       "Date                                                                          \n",
       "2015-02-12      26.25      25.5        25.5      25.75       26.0     25.25   \n",
       "\n",
       "            Close(t-5)  \n",
       "Date                    \n",
       "2015-02-12       25.75  \n",
       "\n",
       "[1 rows x 27 columns]"
      ]
     },
     "execution_count": 6,
     "metadata": {},
     "output_type": "execute_result"
    },
    {
     "data": {
      "text/html": [
       "<div>\n",
       "<style>\n",
       "    .dataframe thead tr:only-child th {\n",
       "        text-align: right;\n",
       "    }\n",
       "\n",
       "    .dataframe thead th {\n",
       "        text-align: left;\n",
       "    }\n",
       "\n",
       "    .dataframe tbody tr th {\n",
       "        vertical-align: top;\n",
       "    }\n",
       "</style>\n",
       "<table border=\"1\" class=\"dataframe\">\n",
       "  <thead>\n",
       "    <tr style=\"text-align: right;\">\n",
       "      <th></th>\n",
       "      <th>Ticker</th>\n",
       "      <th>Text</th>\n",
       "      <th>Close(t+1)</th>\n",
       "      <th>Open(t)</th>\n",
       "      <th>High(t)</th>\n",
       "      <th>Low(t)</th>\n",
       "      <th>Close(t)</th>\n",
       "      <th>Open(t-1)</th>\n",
       "      <th>High(t-1)</th>\n",
       "      <th>Low(t-1)</th>\n",
       "      <th>...</th>\n",
       "      <th>Low(t-3)</th>\n",
       "      <th>Close(t-3)</th>\n",
       "      <th>Open(t-4)</th>\n",
       "      <th>High(t-4)</th>\n",
       "      <th>Low(t-4)</th>\n",
       "      <th>Close(t-4)</th>\n",
       "      <th>Open(t-5)</th>\n",
       "      <th>High(t-5)</th>\n",
       "      <th>Low(t-5)</th>\n",
       "      <th>Close(t-5)</th>\n",
       "    </tr>\n",
       "    <tr>\n",
       "      <th>Date</th>\n",
       "      <th></th>\n",
       "      <th></th>\n",
       "      <th></th>\n",
       "      <th></th>\n",
       "      <th></th>\n",
       "      <th></th>\n",
       "      <th></th>\n",
       "      <th></th>\n",
       "      <th></th>\n",
       "      <th></th>\n",
       "      <th></th>\n",
       "      <th></th>\n",
       "      <th></th>\n",
       "      <th></th>\n",
       "      <th></th>\n",
       "      <th></th>\n",
       "      <th></th>\n",
       "      <th></th>\n",
       "      <th></th>\n",
       "      <th></th>\n",
       "      <th></th>\n",
       "    </tr>\n",
       "  </thead>\n",
       "  <tbody>\n",
       "    <tr>\n",
       "      <th>2017-01-27</th>\n",
       "      <td>BANPU</td>\n",
       "      <td>บ ลดี บีเอ สวิคเคอร์ส ระบุ ใน บทวิเคราะห์ วัน ...</td>\n",
       "      <td>19.2</td>\n",
       "      <td>19.6</td>\n",
       "      <td>19.8</td>\n",
       "      <td>19.4</td>\n",
       "      <td>19.6</td>\n",
       "      <td>20.1</td>\n",
       "      <td>20.1</td>\n",
       "      <td>19.6</td>\n",
       "      <td>...</td>\n",
       "      <td>19.6</td>\n",
       "      <td>19.7</td>\n",
       "      <td>19.5</td>\n",
       "      <td>19.8</td>\n",
       "      <td>19.5</td>\n",
       "      <td>19.5</td>\n",
       "      <td>19.2</td>\n",
       "      <td>19.5</td>\n",
       "      <td>19.2</td>\n",
       "      <td>19.3</td>\n",
       "    </tr>\n",
       "  </tbody>\n",
       "</table>\n",
       "<p>1 rows × 27 columns</p>\n",
       "</div>"
      ],
      "text/plain": [
       "           Ticker                                               Text  \\\n",
       "Date                                                                   \n",
       "2017-01-27  BANPU  บ ลดี บีเอ สวิคเคอร์ส ระบุ ใน บทวิเคราะห์ วัน ...   \n",
       "\n",
       "            Close(t+1)  Open(t)  High(t)  Low(t)  Close(t)  Open(t-1)  \\\n",
       "Date                                                                    \n",
       "2017-01-27        19.2     19.6     19.8    19.4      19.6       20.1   \n",
       "\n",
       "            High(t-1)  Low(t-1)     ...      Low(t-3)  Close(t-3)  Open(t-4)  \\\n",
       "Date                                ...                                        \n",
       "2017-01-27       20.1      19.6     ...          19.6        19.7       19.5   \n",
       "\n",
       "            High(t-4)  Low(t-4)  Close(t-4)  Open(t-5)  High(t-5)  Low(t-5)  \\\n",
       "Date                                                                          \n",
       "2017-01-27       19.8      19.5        19.5       19.2       19.5      19.2   \n",
       "\n",
       "            Close(t-5)  \n",
       "Date                    \n",
       "2017-01-27        19.3  \n",
       "\n",
       "[1 rows x 27 columns]"
      ]
     },
     "execution_count": 6,
     "metadata": {},
     "output_type": "execute_result"
    }
   ],
   "source": [
    "N_lags = 5\n",
    "N_horizon = 1\n",
    "\n",
    "df_train = []\n",
    "df_test = []\n",
    "for stock in tqdm_notebook(target_stocks):\n",
    "    news_stocks = []\n",
    "    df_stock = df_news.loc[df_news['Ticker'] == stock]\n",
    "    prev_date = None\n",
    "    prev_text = None\n",
    "    for date, row in df_stock.iterrows():\n",
    "        if prev_date == None:\n",
    "            prev_date = date\n",
    "            prev_text = row['Text']\n",
    "        elif prev_date != date:\n",
    "            # horizon\n",
    "            tmp_date = copy.deepcopy(prev_date)\n",
    "            tmp_date += timedelta(days=1)\n",
    "            prices = []\n",
    "            count_lags = 0 \n",
    "            while count_lags < N_horizon:\n",
    "                price = df_price.loc[(df_price.index == tmp_date) & (df_price['Ticker'] == stock)].values\n",
    "                tmp_date += timedelta(days=1)\n",
    "                if len(price) == 0: continue\n",
    "                prices.append(price[0][4]) # Close price next day(s)\n",
    "                count_lags+=1\n",
    "            \n",
    "            # lag\n",
    "            tmp_date = copy.deepcopy(prev_date)\n",
    "            count_lags = 0 \n",
    "            while count_lags <= N_lags:\n",
    "                price = df_price.loc[(df_price.index == tmp_date) & (df_price['Ticker'] == stock)].values\n",
    "                tmp_date -= timedelta(days=1)\n",
    "                if len(price) == 0: continue\n",
    "                for val in price[0][:-1]: \n",
    "                    if type(val) != str: prices.append(val)\n",
    "                count_lags+=1\n",
    "\n",
    "            news_stocks.append([prev_date, stock, prev_text] + prices)\n",
    "            \n",
    "            prev_date = date\n",
    "            prev_text = row['Text']\n",
    "        elif prev_date == date:\n",
    "            prev_text += ' '+row['Text']\n",
    "\n",
    "    news_stocks = pd.DataFrame.from_records(news_stocks)\n",
    "    news_stocks.columns = ['Date', 'Ticker', 'Text', \n",
    "                           'Close(t+1)', # 'Close(t+2)','Close(t+3)','Close(t+4)','Close(t+5)',\n",
    "                           'Open(t)', 'High(t)', 'Low(t)', 'Close(t)',\n",
    "                           'Open(t-1)', 'High(t-1)', 'Low(t-1)', 'Close(t-1)',\n",
    "                           'Open(t-2)', 'High(t-2)', 'Low(t-2)', 'Close(t-2)',\n",
    "                           'Open(t-3)', 'High(t-3)', 'Low(t-3)', 'Close(t-3)',\n",
    "                           'Open(t-4)', 'High(t-4)', 'Low(t-4)', 'Close(t-4)',\n",
    "                           'Open(t-5)', 'High(t-5)', 'Low(t-5)', 'Close(t-5)'\n",
    "                          ]\n",
    "    news_stocks = news_stocks.set_index('Date')\n",
    "    \n",
    "    train_size = int(len(news_stocks) * 0.80)\n",
    "    test_size = len(news_stocks) - train_size\n",
    "    train, test = news_stocks.iloc[:train_size], news_stocks.iloc[train_size:]\n",
    "    print(stock, ':\\t',len(train), len(test))    \n",
    "    df_train.append(train)\n",
    "    df_test.append(test)\n",
    "\n",
    "df_train = pd.concat(df_train, axis=0)\n",
    "df_test = pd.concat(df_test, axis=0)\n",
    "\n",
    "len(df_train), len(df_test) \n",
    "df_train.head(1)\n",
    "df_test.head(1)"
   ]
  },
  {
   "cell_type": "markdown",
   "metadata": {},
   "source": [
    "# TF-IDF Vetorization"
   ]
  },
  {
   "cell_type": "code",
   "execution_count": 7,
   "metadata": {},
   "outputs": [
    {
     "data": {
      "text/plain": [
       "(1967, 503)"
      ]
     },
     "execution_count": 7,
     "metadata": {},
     "output_type": "execute_result"
    },
    {
     "data": {
      "text/html": [
       "<div>\n",
       "<style>\n",
       "    .dataframe thead tr:only-child th {\n",
       "        text-align: right;\n",
       "    }\n",
       "\n",
       "    .dataframe thead th {\n",
       "        text-align: left;\n",
       "    }\n",
       "\n",
       "    .dataframe tbody tr th {\n",
       "        vertical-align: top;\n",
       "    }\n",
       "</style>\n",
       "<table border=\"1\" class=\"dataframe\">\n",
       "  <thead>\n",
       "    <tr style=\"text-align: right;\">\n",
       "      <th></th>\n",
       "      <th>0</th>\n",
       "      <th>1</th>\n",
       "      <th>2</th>\n",
       "      <th>3</th>\n",
       "      <th>4</th>\n",
       "      <th>5</th>\n",
       "      <th>6</th>\n",
       "      <th>7</th>\n",
       "      <th>8</th>\n",
       "      <th>9</th>\n",
       "      <th>...</th>\n",
       "      <th>990</th>\n",
       "      <th>991</th>\n",
       "      <th>992</th>\n",
       "      <th>993</th>\n",
       "      <th>994</th>\n",
       "      <th>995</th>\n",
       "      <th>996</th>\n",
       "      <th>997</th>\n",
       "      <th>998</th>\n",
       "      <th>999</th>\n",
       "    </tr>\n",
       "    <tr>\n",
       "      <th>Date</th>\n",
       "      <th></th>\n",
       "      <th></th>\n",
       "      <th></th>\n",
       "      <th></th>\n",
       "      <th></th>\n",
       "      <th></th>\n",
       "      <th></th>\n",
       "      <th></th>\n",
       "      <th></th>\n",
       "      <th></th>\n",
       "      <th></th>\n",
       "      <th></th>\n",
       "      <th></th>\n",
       "      <th></th>\n",
       "      <th></th>\n",
       "      <th></th>\n",
       "      <th></th>\n",
       "      <th></th>\n",
       "      <th></th>\n",
       "      <th></th>\n",
       "      <th></th>\n",
       "    </tr>\n",
       "  </thead>\n",
       "  <tbody>\n",
       "    <tr>\n",
       "      <th>2015-02-12</th>\n",
       "      <td>0.0</td>\n",
       "      <td>0.041756</td>\n",
       "      <td>0.0</td>\n",
       "      <td>0.0</td>\n",
       "      <td>0.0</td>\n",
       "      <td>0.0</td>\n",
       "      <td>0.0</td>\n",
       "      <td>0.0</td>\n",
       "      <td>0.0</td>\n",
       "      <td>0.0</td>\n",
       "      <td>...</td>\n",
       "      <td>0.0</td>\n",
       "      <td>0.0</td>\n",
       "      <td>0.161448</td>\n",
       "      <td>0.142128</td>\n",
       "      <td>0.027647</td>\n",
       "      <td>0.0</td>\n",
       "      <td>0.0</td>\n",
       "      <td>0.0</td>\n",
       "      <td>0.0</td>\n",
       "      <td>0.0</td>\n",
       "    </tr>\n",
       "  </tbody>\n",
       "</table>\n",
       "<p>1 rows × 1000 columns</p>\n",
       "</div>"
      ],
      "text/plain": [
       "            0         1    2    3    4    5    6    7    8    9   ...   990  \\\n",
       "Date                                                              ...         \n",
       "2015-02-12  0.0  0.041756  0.0  0.0  0.0  0.0  0.0  0.0  0.0  0.0 ...   0.0   \n",
       "\n",
       "            991       992       993       994  995  996  997  998  999  \n",
       "Date                                                                    \n",
       "2015-02-12  0.0  0.161448  0.142128  0.027647  0.0  0.0  0.0  0.0  0.0  \n",
       "\n",
       "[1 rows x 1000 columns]"
      ]
     },
     "execution_count": 7,
     "metadata": {},
     "output_type": "execute_result"
    },
    {
     "data": {
      "text/html": [
       "<div>\n",
       "<style>\n",
       "    .dataframe thead tr:only-child th {\n",
       "        text-align: right;\n",
       "    }\n",
       "\n",
       "    .dataframe thead th {\n",
       "        text-align: left;\n",
       "    }\n",
       "\n",
       "    .dataframe tbody tr th {\n",
       "        vertical-align: top;\n",
       "    }\n",
       "</style>\n",
       "<table border=\"1\" class=\"dataframe\">\n",
       "  <thead>\n",
       "    <tr style=\"text-align: right;\">\n",
       "      <th></th>\n",
       "      <th>0</th>\n",
       "      <th>1</th>\n",
       "      <th>2</th>\n",
       "      <th>3</th>\n",
       "      <th>4</th>\n",
       "      <th>5</th>\n",
       "      <th>6</th>\n",
       "      <th>7</th>\n",
       "      <th>8</th>\n",
       "      <th>9</th>\n",
       "      <th>...</th>\n",
       "      <th>990</th>\n",
       "      <th>991</th>\n",
       "      <th>992</th>\n",
       "      <th>993</th>\n",
       "      <th>994</th>\n",
       "      <th>995</th>\n",
       "      <th>996</th>\n",
       "      <th>997</th>\n",
       "      <th>998</th>\n",
       "      <th>999</th>\n",
       "    </tr>\n",
       "    <tr>\n",
       "      <th>Date</th>\n",
       "      <th></th>\n",
       "      <th></th>\n",
       "      <th></th>\n",
       "      <th></th>\n",
       "      <th></th>\n",
       "      <th></th>\n",
       "      <th></th>\n",
       "      <th></th>\n",
       "      <th></th>\n",
       "      <th></th>\n",
       "      <th></th>\n",
       "      <th></th>\n",
       "      <th></th>\n",
       "      <th></th>\n",
       "      <th></th>\n",
       "      <th></th>\n",
       "      <th></th>\n",
       "      <th></th>\n",
       "      <th></th>\n",
       "      <th></th>\n",
       "      <th></th>\n",
       "    </tr>\n",
       "  </thead>\n",
       "  <tbody>\n",
       "    <tr>\n",
       "      <th>2017-01-27</th>\n",
       "      <td>0.0</td>\n",
       "      <td>0.0</td>\n",
       "      <td>0.0</td>\n",
       "      <td>0.0</td>\n",
       "      <td>0.0</td>\n",
       "      <td>0.0</td>\n",
       "      <td>0.0</td>\n",
       "      <td>0.0</td>\n",
       "      <td>0.0</td>\n",
       "      <td>0.0</td>\n",
       "      <td>...</td>\n",
       "      <td>0.0</td>\n",
       "      <td>0.0</td>\n",
       "      <td>0.0</td>\n",
       "      <td>0.0</td>\n",
       "      <td>0.02693</td>\n",
       "      <td>0.0</td>\n",
       "      <td>0.11711</td>\n",
       "      <td>0.0</td>\n",
       "      <td>0.0</td>\n",
       "      <td>0.0</td>\n",
       "    </tr>\n",
       "  </tbody>\n",
       "</table>\n",
       "<p>1 rows × 1000 columns</p>\n",
       "</div>"
      ],
      "text/plain": [
       "            0    1    2    3    4    5    6    7    8    9   ...   990  991  \\\n",
       "Date                                                         ...              \n",
       "2017-01-27  0.0  0.0  0.0  0.0  0.0  0.0  0.0  0.0  0.0  0.0 ...   0.0  0.0   \n",
       "\n",
       "            992  993      994  995      996  997  998  999  \n",
       "Date                                                        \n",
       "2017-01-27  0.0  0.0  0.02693  0.0  0.11711  0.0  0.0  0.0  \n",
       "\n",
       "[1 rows x 1000 columns]"
      ]
     },
     "execution_count": 7,
     "metadata": {},
     "output_type": "execute_result"
    }
   ],
   "source": [
    "stop_words = stopwords.words('thai')\n",
    "stop_words.remove('ขึ้น')\n",
    "stop_words.remove('ลง')\n",
    "\n",
    "vertorizer = TfidfVectorizer(stop_words=stop_words, \n",
    "                             max_df=0.9, \n",
    "                             min_df=2, \n",
    "                             max_features=1000)\n",
    "\n",
    "tfidf_train = vertorizer.fit_transform(df_train['Text'])\n",
    "tfidf_test = vertorizer.transform(df_test['Text'])\n",
    "\n",
    "df_tfidf_train = pd.DataFrame.from_records(tfidf_train.toarray())\n",
    "df_tfidf_test = pd.DataFrame.from_records(tfidf_test.toarray())\n",
    "\n",
    "df_tfidf_train = df_tfidf_train.set_index(df_train.index)\n",
    "df_tfidf_test = df_tfidf_test.set_index(df_test.index)\n",
    "\n",
    "len(df_tfidf_train), len(df_tfidf_test)\n",
    "\n",
    "df_tfidf_train.head(1)\n",
    "df_tfidf_test.head(1)"
   ]
  },
  {
   "cell_type": "code",
   "execution_count": 8,
   "metadata": {},
   "outputs": [
    {
     "data": {
      "text/html": [
       "<div>\n",
       "<style>\n",
       "    .dataframe thead tr:only-child th {\n",
       "        text-align: right;\n",
       "    }\n",
       "\n",
       "    .dataframe thead th {\n",
       "        text-align: left;\n",
       "    }\n",
       "\n",
       "    .dataframe tbody tr th {\n",
       "        vertical-align: top;\n",
       "    }\n",
       "</style>\n",
       "<table border=\"1\" class=\"dataframe\">\n",
       "  <thead>\n",
       "    <tr style=\"text-align: right;\">\n",
       "      <th></th>\n",
       "      <th>Ticker</th>\n",
       "      <th>Close(t+1)</th>\n",
       "      <th>Open(t)</th>\n",
       "      <th>High(t)</th>\n",
       "      <th>Low(t)</th>\n",
       "      <th>Close(t)</th>\n",
       "      <th>Open(t-1)</th>\n",
       "      <th>High(t-1)</th>\n",
       "      <th>Low(t-1)</th>\n",
       "      <th>Close(t-1)</th>\n",
       "      <th>...</th>\n",
       "      <th>990</th>\n",
       "      <th>991</th>\n",
       "      <th>992</th>\n",
       "      <th>993</th>\n",
       "      <th>994</th>\n",
       "      <th>995</th>\n",
       "      <th>996</th>\n",
       "      <th>997</th>\n",
       "      <th>998</th>\n",
       "      <th>999</th>\n",
       "    </tr>\n",
       "    <tr>\n",
       "      <th>Date</th>\n",
       "      <th></th>\n",
       "      <th></th>\n",
       "      <th></th>\n",
       "      <th></th>\n",
       "      <th></th>\n",
       "      <th></th>\n",
       "      <th></th>\n",
       "      <th></th>\n",
       "      <th></th>\n",
       "      <th></th>\n",
       "      <th></th>\n",
       "      <th></th>\n",
       "      <th></th>\n",
       "      <th></th>\n",
       "      <th></th>\n",
       "      <th></th>\n",
       "      <th></th>\n",
       "      <th></th>\n",
       "      <th></th>\n",
       "      <th></th>\n",
       "      <th></th>\n",
       "    </tr>\n",
       "  </thead>\n",
       "  <tbody>\n",
       "    <tr>\n",
       "      <th>2015-02-12</th>\n",
       "      <td>BANPU</td>\n",
       "      <td>27.75</td>\n",
       "      <td>26.0</td>\n",
       "      <td>27.75</td>\n",
       "      <td>26.0</td>\n",
       "      <td>27.5</td>\n",
       "      <td>25.75</td>\n",
       "      <td>26.0</td>\n",
       "      <td>25.25</td>\n",
       "      <td>25.75</td>\n",
       "      <td>...</td>\n",
       "      <td>0.0</td>\n",
       "      <td>0.0</td>\n",
       "      <td>0.161448</td>\n",
       "      <td>0.142128</td>\n",
       "      <td>0.027647</td>\n",
       "      <td>0.0</td>\n",
       "      <td>0.0</td>\n",
       "      <td>0.0</td>\n",
       "      <td>0.0</td>\n",
       "      <td>0.0</td>\n",
       "    </tr>\n",
       "  </tbody>\n",
       "</table>\n",
       "<p>1 rows × 1026 columns</p>\n",
       "</div>"
      ],
      "text/plain": [
       "           Ticker  Close(t+1)  Open(t)  High(t)  Low(t)  Close(t)  Open(t-1)  \\\n",
       "Date                                                                           \n",
       "2015-02-12  BANPU       27.75     26.0    27.75    26.0      27.5      25.75   \n",
       "\n",
       "            High(t-1)  Low(t-1)  Close(t-1) ...   990  991       992  \\\n",
       "Date                                        ...                        \n",
       "2015-02-12       26.0     25.25       25.75 ...   0.0  0.0  0.161448   \n",
       "\n",
       "                 993       994  995  996  997  998  999  \n",
       "Date                                                     \n",
       "2015-02-12  0.142128  0.027647  0.0  0.0  0.0  0.0  0.0  \n",
       "\n",
       "[1 rows x 1026 columns]"
      ]
     },
     "execution_count": 8,
     "metadata": {},
     "output_type": "execute_result"
    },
    {
     "data": {
      "text/html": [
       "<div>\n",
       "<style>\n",
       "    .dataframe thead tr:only-child th {\n",
       "        text-align: right;\n",
       "    }\n",
       "\n",
       "    .dataframe thead th {\n",
       "        text-align: left;\n",
       "    }\n",
       "\n",
       "    .dataframe tbody tr th {\n",
       "        vertical-align: top;\n",
       "    }\n",
       "</style>\n",
       "<table border=\"1\" class=\"dataframe\">\n",
       "  <thead>\n",
       "    <tr style=\"text-align: right;\">\n",
       "      <th></th>\n",
       "      <th>Ticker</th>\n",
       "      <th>Close(t+1)</th>\n",
       "      <th>Open(t)</th>\n",
       "      <th>High(t)</th>\n",
       "      <th>Low(t)</th>\n",
       "      <th>Close(t)</th>\n",
       "      <th>Open(t-1)</th>\n",
       "      <th>High(t-1)</th>\n",
       "      <th>Low(t-1)</th>\n",
       "      <th>Close(t-1)</th>\n",
       "      <th>...</th>\n",
       "      <th>990</th>\n",
       "      <th>991</th>\n",
       "      <th>992</th>\n",
       "      <th>993</th>\n",
       "      <th>994</th>\n",
       "      <th>995</th>\n",
       "      <th>996</th>\n",
       "      <th>997</th>\n",
       "      <th>998</th>\n",
       "      <th>999</th>\n",
       "    </tr>\n",
       "    <tr>\n",
       "      <th>Date</th>\n",
       "      <th></th>\n",
       "      <th></th>\n",
       "      <th></th>\n",
       "      <th></th>\n",
       "      <th></th>\n",
       "      <th></th>\n",
       "      <th></th>\n",
       "      <th></th>\n",
       "      <th></th>\n",
       "      <th></th>\n",
       "      <th></th>\n",
       "      <th></th>\n",
       "      <th></th>\n",
       "      <th></th>\n",
       "      <th></th>\n",
       "      <th></th>\n",
       "      <th></th>\n",
       "      <th></th>\n",
       "      <th></th>\n",
       "      <th></th>\n",
       "      <th></th>\n",
       "    </tr>\n",
       "  </thead>\n",
       "  <tbody>\n",
       "    <tr>\n",
       "      <th>2017-01-27</th>\n",
       "      <td>BANPU</td>\n",
       "      <td>19.2</td>\n",
       "      <td>19.6</td>\n",
       "      <td>19.8</td>\n",
       "      <td>19.4</td>\n",
       "      <td>19.6</td>\n",
       "      <td>20.1</td>\n",
       "      <td>20.1</td>\n",
       "      <td>19.6</td>\n",
       "      <td>19.6</td>\n",
       "      <td>...</td>\n",
       "      <td>0.0</td>\n",
       "      <td>0.0</td>\n",
       "      <td>0.0</td>\n",
       "      <td>0.0</td>\n",
       "      <td>0.02693</td>\n",
       "      <td>0.0</td>\n",
       "      <td>0.11711</td>\n",
       "      <td>0.0</td>\n",
       "      <td>0.0</td>\n",
       "      <td>0.0</td>\n",
       "    </tr>\n",
       "  </tbody>\n",
       "</table>\n",
       "<p>1 rows × 1026 columns</p>\n",
       "</div>"
      ],
      "text/plain": [
       "           Ticker  Close(t+1)  Open(t)  High(t)  Low(t)  Close(t)  Open(t-1)  \\\n",
       "Date                                                                           \n",
       "2017-01-27  BANPU        19.2     19.6     19.8    19.4      19.6       20.1   \n",
       "\n",
       "            High(t-1)  Low(t-1)  Close(t-1) ...   990  991  992  993      994  \\\n",
       "Date                                        ...                                 \n",
       "2017-01-27       20.1      19.6        19.6 ...   0.0  0.0  0.0  0.0  0.02693   \n",
       "\n",
       "            995      996  997  998  999  \n",
       "Date                                     \n",
       "2017-01-27  0.0  0.11711  0.0  0.0  0.0  \n",
       "\n",
       "[1 rows x 1026 columns]"
      ]
     },
     "execution_count": 8,
     "metadata": {},
     "output_type": "execute_result"
    }
   ],
   "source": [
    "x_train = df_train.drop(['Text'], axis=1)\n",
    "x_train = pd.concat([x_train, df_tfidf_train], axis=1)\n",
    "x_train.head(1)\n",
    "\n",
    "x_test = df_test.drop(['Text'], axis=1)\n",
    "x_test = pd.concat([x_test, df_tfidf_test], axis=1)\n",
    "x_test.head(1)"
   ]
  },
  {
   "cell_type": "markdown",
   "metadata": {},
   "source": [
    "# Label Encoding"
   ]
  },
  {
   "cell_type": "code",
   "execution_count": 9,
   "metadata": {},
   "outputs": [
    {
     "data": {
      "text/html": [
       "<div>\n",
       "<style>\n",
       "    .dataframe thead tr:only-child th {\n",
       "        text-align: right;\n",
       "    }\n",
       "\n",
       "    .dataframe thead th {\n",
       "        text-align: left;\n",
       "    }\n",
       "\n",
       "    .dataframe tbody tr th {\n",
       "        vertical-align: top;\n",
       "    }\n",
       "</style>\n",
       "<table border=\"1\" class=\"dataframe\">\n",
       "  <thead>\n",
       "    <tr style=\"text-align: right;\">\n",
       "      <th></th>\n",
       "      <th>Ticker</th>\n",
       "      <th>Close(t+1)</th>\n",
       "      <th>Open(t)</th>\n",
       "      <th>High(t)</th>\n",
       "      <th>Low(t)</th>\n",
       "      <th>Close(t)</th>\n",
       "      <th>Open(t-1)</th>\n",
       "      <th>High(t-1)</th>\n",
       "      <th>Low(t-1)</th>\n",
       "      <th>Close(t-1)</th>\n",
       "      <th>...</th>\n",
       "      <th>990</th>\n",
       "      <th>991</th>\n",
       "      <th>992</th>\n",
       "      <th>993</th>\n",
       "      <th>994</th>\n",
       "      <th>995</th>\n",
       "      <th>996</th>\n",
       "      <th>997</th>\n",
       "      <th>998</th>\n",
       "      <th>999</th>\n",
       "    </tr>\n",
       "    <tr>\n",
       "      <th>Date</th>\n",
       "      <th></th>\n",
       "      <th></th>\n",
       "      <th></th>\n",
       "      <th></th>\n",
       "      <th></th>\n",
       "      <th></th>\n",
       "      <th></th>\n",
       "      <th></th>\n",
       "      <th></th>\n",
       "      <th></th>\n",
       "      <th></th>\n",
       "      <th></th>\n",
       "      <th></th>\n",
       "      <th></th>\n",
       "      <th></th>\n",
       "      <th></th>\n",
       "      <th></th>\n",
       "      <th></th>\n",
       "      <th></th>\n",
       "      <th></th>\n",
       "      <th></th>\n",
       "    </tr>\n",
       "  </thead>\n",
       "  <tbody>\n",
       "    <tr>\n",
       "      <th>2015-02-12</th>\n",
       "      <td>2</td>\n",
       "      <td>27.75</td>\n",
       "      <td>26.0</td>\n",
       "      <td>27.75</td>\n",
       "      <td>26.0</td>\n",
       "      <td>27.5</td>\n",
       "      <td>25.75</td>\n",
       "      <td>26.00</td>\n",
       "      <td>25.25</td>\n",
       "      <td>25.75</td>\n",
       "      <td>...</td>\n",
       "      <td>0.0</td>\n",
       "      <td>0.000000</td>\n",
       "      <td>0.161448</td>\n",
       "      <td>0.142128</td>\n",
       "      <td>0.027647</td>\n",
       "      <td>0.0</td>\n",
       "      <td>0.000000</td>\n",
       "      <td>0.0</td>\n",
       "      <td>0.0</td>\n",
       "      <td>0.0</td>\n",
       "    </tr>\n",
       "    <tr>\n",
       "      <th>2015-02-24</th>\n",
       "      <td>2</td>\n",
       "      <td>29.75</td>\n",
       "      <td>28.5</td>\n",
       "      <td>28.75</td>\n",
       "      <td>28.0</td>\n",
       "      <td>28.5</td>\n",
       "      <td>29.00</td>\n",
       "      <td>29.25</td>\n",
       "      <td>28.25</td>\n",
       "      <td>28.25</td>\n",
       "      <td>...</td>\n",
       "      <td>0.0</td>\n",
       "      <td>0.020158</td>\n",
       "      <td>0.112794</td>\n",
       "      <td>0.248239</td>\n",
       "      <td>0.019315</td>\n",
       "      <td>0.0</td>\n",
       "      <td>0.027999</td>\n",
       "      <td>0.0</td>\n",
       "      <td>0.0</td>\n",
       "      <td>0.0</td>\n",
       "    </tr>\n",
       "  </tbody>\n",
       "</table>\n",
       "<p>2 rows × 1026 columns</p>\n",
       "</div>"
      ],
      "text/plain": [
       "            Ticker  Close(t+1)  Open(t)  High(t)  Low(t)  Close(t)  Open(t-1)  \\\n",
       "Date                                                                            \n",
       "2015-02-12       2       27.75     26.0    27.75    26.0      27.5      25.75   \n",
       "2015-02-24       2       29.75     28.5    28.75    28.0      28.5      29.00   \n",
       "\n",
       "            High(t-1)  Low(t-1)  Close(t-1) ...   990       991       992  \\\n",
       "Date                                        ...                             \n",
       "2015-02-12      26.00     25.25       25.75 ...   0.0  0.000000  0.161448   \n",
       "2015-02-24      29.25     28.25       28.25 ...   0.0  0.020158  0.112794   \n",
       "\n",
       "                 993       994  995       996  997  998  999  \n",
       "Date                                                          \n",
       "2015-02-12  0.142128  0.027647  0.0  0.000000  0.0  0.0  0.0  \n",
       "2015-02-24  0.248239  0.019315  0.0  0.027999  0.0  0.0  0.0  \n",
       "\n",
       "[2 rows x 1026 columns]"
      ]
     },
     "execution_count": 9,
     "metadata": {},
     "output_type": "execute_result"
    },
    {
     "data": {
      "text/html": [
       "<div>\n",
       "<style>\n",
       "    .dataframe thead tr:only-child th {\n",
       "        text-align: right;\n",
       "    }\n",
       "\n",
       "    .dataframe thead th {\n",
       "        text-align: left;\n",
       "    }\n",
       "\n",
       "    .dataframe tbody tr th {\n",
       "        vertical-align: top;\n",
       "    }\n",
       "</style>\n",
       "<table border=\"1\" class=\"dataframe\">\n",
       "  <thead>\n",
       "    <tr style=\"text-align: right;\">\n",
       "      <th></th>\n",
       "      <th>Ticker</th>\n",
       "      <th>Close(t+1)</th>\n",
       "      <th>Open(t)</th>\n",
       "      <th>High(t)</th>\n",
       "      <th>Low(t)</th>\n",
       "      <th>Close(t)</th>\n",
       "      <th>Open(t-1)</th>\n",
       "      <th>High(t-1)</th>\n",
       "      <th>Low(t-1)</th>\n",
       "      <th>Close(t-1)</th>\n",
       "      <th>...</th>\n",
       "      <th>990</th>\n",
       "      <th>991</th>\n",
       "      <th>992</th>\n",
       "      <th>993</th>\n",
       "      <th>994</th>\n",
       "      <th>995</th>\n",
       "      <th>996</th>\n",
       "      <th>997</th>\n",
       "      <th>998</th>\n",
       "      <th>999</th>\n",
       "    </tr>\n",
       "    <tr>\n",
       "      <th>Date</th>\n",
       "      <th></th>\n",
       "      <th></th>\n",
       "      <th></th>\n",
       "      <th></th>\n",
       "      <th></th>\n",
       "      <th></th>\n",
       "      <th></th>\n",
       "      <th></th>\n",
       "      <th></th>\n",
       "      <th></th>\n",
       "      <th></th>\n",
       "      <th></th>\n",
       "      <th></th>\n",
       "      <th></th>\n",
       "      <th></th>\n",
       "      <th></th>\n",
       "      <th></th>\n",
       "      <th></th>\n",
       "      <th></th>\n",
       "      <th></th>\n",
       "      <th></th>\n",
       "    </tr>\n",
       "  </thead>\n",
       "  <tbody>\n",
       "    <tr>\n",
       "      <th>2017-01-27</th>\n",
       "      <td>2</td>\n",
       "      <td>19.2</td>\n",
       "      <td>19.6</td>\n",
       "      <td>19.8</td>\n",
       "      <td>19.4</td>\n",
       "      <td>19.6</td>\n",
       "      <td>20.1</td>\n",
       "      <td>20.1</td>\n",
       "      <td>19.6</td>\n",
       "      <td>19.6</td>\n",
       "      <td>...</td>\n",
       "      <td>0.0</td>\n",
       "      <td>0.000000</td>\n",
       "      <td>0.0</td>\n",
       "      <td>0.0</td>\n",
       "      <td>0.02693</td>\n",
       "      <td>0.0</td>\n",
       "      <td>0.11711</td>\n",
       "      <td>0.0</td>\n",
       "      <td>0.0</td>\n",
       "      <td>0.0</td>\n",
       "    </tr>\n",
       "    <tr>\n",
       "      <th>2017-01-31</th>\n",
       "      <td>2</td>\n",
       "      <td>19.3</td>\n",
       "      <td>19.2</td>\n",
       "      <td>19.6</td>\n",
       "      <td>19.1</td>\n",
       "      <td>19.4</td>\n",
       "      <td>19.6</td>\n",
       "      <td>19.7</td>\n",
       "      <td>19.1</td>\n",
       "      <td>19.2</td>\n",
       "      <td>...</td>\n",
       "      <td>0.0</td>\n",
       "      <td>0.048424</td>\n",
       "      <td>0.0</td>\n",
       "      <td>0.0</td>\n",
       "      <td>0.00000</td>\n",
       "      <td>0.0</td>\n",
       "      <td>0.00000</td>\n",
       "      <td>0.0</td>\n",
       "      <td>0.0</td>\n",
       "      <td>0.0</td>\n",
       "    </tr>\n",
       "  </tbody>\n",
       "</table>\n",
       "<p>2 rows × 1026 columns</p>\n",
       "</div>"
      ],
      "text/plain": [
       "            Ticker  Close(t+1)  Open(t)  High(t)  Low(t)  Close(t)  Open(t-1)  \\\n",
       "Date                                                                            \n",
       "2017-01-27       2        19.2     19.6     19.8    19.4      19.6       20.1   \n",
       "2017-01-31       2        19.3     19.2     19.6    19.1      19.4       19.6   \n",
       "\n",
       "            High(t-1)  Low(t-1)  Close(t-1) ...   990       991  992  993  \\\n",
       "Date                                        ...                             \n",
       "2017-01-27       20.1      19.6        19.6 ...   0.0  0.000000  0.0  0.0   \n",
       "2017-01-31       19.7      19.1        19.2 ...   0.0  0.048424  0.0  0.0   \n",
       "\n",
       "                994  995      996  997  998  999  \n",
       "Date                                              \n",
       "2017-01-27  0.02693  0.0  0.11711  0.0  0.0  0.0  \n",
       "2017-01-31  0.00000  0.0  0.00000  0.0  0.0  0.0  \n",
       "\n",
       "[2 rows x 1026 columns]"
      ]
     },
     "execution_count": 9,
     "metadata": {},
     "output_type": "execute_result"
    },
    {
     "data": {
      "text/plain": [
       "array(['ADVANC', 'AOT', 'BANPU', 'BBL', 'BDMS', 'BH', 'CK', 'CPALL', 'CPF',\n",
       "       'CPN', 'HMPRO', 'IRPC', 'JAS', 'KBANK', 'MINT', 'PTT', 'SCB', 'SCC',\n",
       "       'THAI', 'TRUE', 'TU'], dtype=object)"
      ]
     },
     "execution_count": 9,
     "metadata": {},
     "output_type": "execute_result"
    }
   ],
   "source": [
    "le = preprocessing.LabelEncoder()\n",
    "\n",
    "x_train['Ticker'] = le.fit_transform(x_train['Ticker'])\n",
    "x_test['Ticker'] = le.transform(x_test['Ticker'])\n",
    "\n",
    "x_train.head(2)\n",
    "x_test.head(2)\n",
    "\n",
    "le.classes_"
   ]
  },
  {
   "cell_type": "markdown",
   "metadata": {},
   "source": [
    "# Create x_train and y_train"
   ]
  },
  {
   "cell_type": "code",
   "execution_count": 10,
   "metadata": {},
   "outputs": [
    {
     "data": {
      "text/plain": [
       "((1967, 1025), (1967, 1))"
      ]
     },
     "execution_count": 10,
     "metadata": {},
     "output_type": "execute_result"
    }
   ],
   "source": [
    "Horizon = 'Close(t+1)'\n",
    "\n",
    "y_train = x_train[[Horizon]]\n",
    "\n",
    "x_train = x_train.drop(['Close(t+1)'], axis=1).copy()\n",
    "\n",
    "x_train.shape, y_train.shape"
   ]
  },
  {
   "cell_type": "markdown",
   "metadata": {},
   "source": [
    "# Evaluate Each Stcok"
   ]
  },
  {
   "cell_type": "code",
   "execution_count": 11,
   "metadata": {
    "collapsed": true
   },
   "outputs": [],
   "source": [
    "def evaluator(clf, df_test, le, isXGB=False, isLSTM=False):\n",
    "    RMSEs, MAEs, DAs = [], [], []\n",
    "    results = []\n",
    "    for stock in target_stocks:\n",
    "        x_tmp = df_test.loc[df_test['Ticker'] == le.transform([stock])[0]].copy()\n",
    "        \n",
    "        y_tmp = x_tmp[Horizon].values\n",
    "        \n",
    "        # Directional Accuracy\n",
    "        changes = x_tmp[Horizon] -  x_tmp['Close(t)']\n",
    "        y_true_da = []\n",
    "        for change in changes:\n",
    "            y_true_da.append(1 if change >= 0 else 0)\n",
    "                \n",
    "        x_tmp = x_tmp.drop(['Close(t+1)'], axis=1)\n",
    "        \n",
    "        if isXGB:\n",
    "            y_pred = clf.predict(xgboost.DMatrix(x_tmp))\n",
    "        elif isLSTM:\n",
    "            x = x_tmp.values\n",
    "            x = x.reshape((x.shape[0], 1, x.shape[1]))\n",
    "            y_pred = clf.predict(x)\n",
    "        else:\n",
    "            y_pred = clf.predict(x_tmp.as_matrix())\n",
    "        \n",
    "        # Directional Accuracy Pred\n",
    "        changes = np.reshape(y_pred, (-1,1)) -  np.reshape(x_tmp['Close(t)'],(-1,1))\n",
    "        y_pred_da = []\n",
    "        for change in changes:\n",
    "            y_pred_da.append(1 if change >= 0 else 0)\n",
    "        \n",
    "        RMSE = np.sqrt(mean_squared_error(y_tmp, y_pred))\n",
    "        MAE = mean_absolute_error(y_tmp, y_pred)\n",
    "        DA = accuracy_score(y_true_da, y_pred_da)\n",
    "        print(stock, \"\\tRMSE: %.2f\\t MAE: %.2f \\tDA: %.2f\" % (RMSE, MAE, DA))\n",
    "        RMSEs.append(RMSE)\n",
    "        MAEs.append(MAE)\n",
    "        DAs.append(DA)\n",
    "    \n",
    "    print('\\nmean RMSE:', round(np.mean(RMSEs),2))\n",
    "    print('mean MAE:', round(np.mean(MAEs),2))\n",
    "    print('mean DA:', round(np.mean(DAs),4))"
   ]
  },
  {
   "cell_type": "markdown",
   "metadata": {},
   "source": [
    "# Linear Regression"
   ]
  },
  {
   "cell_type": "code",
   "execution_count": 14,
   "metadata": {},
   "outputs": [
    {
     "data": {
      "text/plain": [
       "LinearRegression(copy_X=True, fit_intercept=True, n_jobs=1, normalize=False)"
      ]
     },
     "execution_count": 14,
     "metadata": {},
     "output_type": "execute_result"
    }
   ],
   "source": [
    "from sklearn import linear_model\n",
    "\n",
    "lineregr = linear_model.LinearRegression()\n",
    "lineregr.fit(x_train, y_train)"
   ]
  },
  {
   "cell_type": "code",
   "execution_count": 15,
   "metadata": {},
   "outputs": [
    {
     "name": "stdout",
     "output_type": "stream",
     "text": [
      "BANPU \tRMSE: 3.96\t MAE: 2.80 \tDA: 0.71\n",
      "IRPC \tRMSE: 4.33\t MAE: 3.23 \tDA: 0.58\n",
      "PTT \tRMSE: 5.70\t MAE: 4.22 \tDA: 0.45\n",
      "BBL \tRMSE: 4.96\t MAE: 3.31 \tDA: 0.54\n",
      "KBANK \tRMSE: 3.41\t MAE: 2.77 \tDA: 0.69\n",
      "SCB \tRMSE: 3.39\t MAE: 2.52 \tDA: 0.50\n",
      "AOT \tRMSE: 5.34\t MAE: 3.94 \tDA: 0.37\n",
      "THAI \tRMSE: 4.18\t MAE: 3.38 \tDA: 0.52\n",
      "CPF \tRMSE: 4.70\t MAE: 3.87 \tDA: 0.47\n",
      "MINT \tRMSE: 3.97\t MAE: 2.81 \tDA: 0.53\n",
      "TU \tRMSE: 3.78\t MAE: 3.29 \tDA: 0.43\n",
      "SCC \tRMSE: 5.81\t MAE: 4.54 \tDA: 0.39\n",
      "CPN \tRMSE: 3.82\t MAE: 3.41 \tDA: 0.65\n",
      "CK \tRMSE: 2.61\t MAE: 2.16 \tDA: 0.44\n",
      "CPALL \tRMSE: 3.24\t MAE: 2.70 \tDA: 0.45\n",
      "HMPRO \tRMSE: 1.71\t MAE: 1.48 \tDA: 0.38\n",
      "BDMS \tRMSE: 4.55\t MAE: 2.87 \tDA: 0.59\n",
      "BH \tRMSE: 3.16\t MAE: 2.46 \tDA: 0.46\n",
      "ADVANC \tRMSE: 4.86\t MAE: 3.63 \tDA: 0.48\n",
      "JAS \tRMSE: 7.29\t MAE: 4.13 \tDA: 0.42\n",
      "TRUE \tRMSE: 2.81\t MAE: 2.31 \tDA: 0.59\n",
      "\n",
      "mean RMSE: 4.17\n",
      "mean MAE: 3.13\n",
      "mean DA: 0.5071\n"
     ]
    }
   ],
   "source": [
    "evaluator(lineregr, x_test, le)"
   ]
  },
  {
   "cell_type": "markdown",
   "metadata": {},
   "source": [
    "# Support Vector Regressor"
   ]
  },
  {
   "cell_type": "code",
   "execution_count": 322,
   "metadata": {},
   "outputs": [
    {
     "name": "stderr",
     "output_type": "stream",
     "text": [
      "/usr/local/lib/python3.5/dist-packages/sklearn/utils/validation.py:578: DataConversionWarning:\n",
      "\n",
      "A column-vector y was passed when a 1d array was expected. Please change the shape of y to (n_samples, ), for example using ravel().\n",
      "\n"
     ]
    },
    {
     "data": {
      "text/plain": [
       "SVR(C=1.0, cache_size=200, coef0=0.0, degree=3, epsilon=0.1, gamma='auto',\n",
       "  kernel='rbf', max_iter=-1, shrinking=True, tol=0.001, verbose=False)"
      ]
     },
     "execution_count": 322,
     "metadata": {},
     "output_type": "execute_result"
    }
   ],
   "source": [
    "from sklearn.svm import SVR\n",
    "svr = SVR()\n",
    "svr.fit(x_train, y_train)"
   ]
  },
  {
   "cell_type": "code",
   "execution_count": 350,
   "metadata": {},
   "outputs": [
    {
     "name": "stdout",
     "output_type": "stream",
     "text": [
      "BANPU \tRMSE: 6.20\t MAE: 6.06 \tDA: 0.76\n",
      "IRPC \tRMSE: 2.03\t MAE: 1.71 \tDA: 0.47\n",
      "PTT \tRMSE: 240.57\t MAE: 238.66 \tDA: 0.42\n",
      "BBL \tRMSE: 14.38\t MAE: 8.93 \tDA: 0.42\n",
      "KBANK \tRMSE: 23.21\t MAE: 17.15 \tDA: 0.41\n",
      "SCB \tRMSE: 1.89\t MAE: 1.45 \tDA: 0.50\n",
      "AOT \tRMSE: 46.90\t MAE: 39.84 \tDA: 0.69\n",
      "THAI \tRMSE: 2.75\t MAE: 1.78 \tDA: 0.55\n",
      "CPF \tRMSE: 1.20\t MAE: 0.96 \tDA: 0.42\n",
      "MINT \tRMSE: 16.28\t MAE: 15.83 \tDA: 0.53\n",
      "TU \tRMSE: 4.79\t MAE: 4.56 \tDA: 0.43\n",
      "SCC \tRMSE: 338.83\t MAE: 338.20 \tDA: 0.35\n",
      "CPN \tRMSE: 71.20\t MAE: 70.76 \tDA: 0.65\n",
      "CK \tRMSE: 3.06\t MAE: 2.20 \tDA: 0.75\n",
      "CPALL \tRMSE: 52.93\t MAE: 51.53 \tDA: 0.64\n",
      "HMPRO \tRMSE: 0.30\t MAE: 0.23 \tDA: 0.54\n",
      "BDMS \tRMSE: 1.13\t MAE: 0.87 \tDA: 0.47\n",
      "BH \tRMSE: 11.30\t MAE: 7.17 \tDA: 0.46\n",
      "ADVANC \tRMSE: 3.86\t MAE: 2.77 \tDA: 0.48\n",
      "JAS \tRMSE: 2.56\t MAE: 2.46 \tDA: 0.42\n",
      "TRUE \tRMSE: 2.37\t MAE: 1.94 \tDA: 0.59\n",
      "\n",
      "mean RMSE: 40.37\n",
      "mean MAE: 38.81\n",
      "mean DA: 0.5207\n"
     ]
    }
   ],
   "source": [
    "evaluator(svr, x_test, le)"
   ]
  },
  {
   "cell_type": "markdown",
   "metadata": {},
   "source": [
    "# Decistion Tree Regressor"
   ]
  },
  {
   "cell_type": "code",
   "execution_count": 16,
   "metadata": {
    "collapsed": true
   },
   "outputs": [],
   "source": [
    "from sklearn import tree"
   ]
  },
  {
   "cell_type": "code",
   "execution_count": 17,
   "metadata": {},
   "outputs": [
    {
     "data": {
      "text/plain": [
       "DecisionTreeRegressor(criterion='mse', max_depth=None, max_features=None,\n",
       "           max_leaf_nodes=None, min_impurity_decrease=0.0,\n",
       "           min_impurity_split=None, min_samples_leaf=1,\n",
       "           min_samples_split=2, min_weight_fraction_leaf=0.0,\n",
       "           presort=False, random_state=None, splitter='best')"
      ]
     },
     "execution_count": 17,
     "metadata": {},
     "output_type": "execute_result"
    }
   ],
   "source": [
    "decis_tree_regr = tree.DecisionTreeRegressor()\n",
    "decis_tree_regr.fit(x_train, y_train)"
   ]
  },
  {
   "cell_type": "code",
   "execution_count": 18,
   "metadata": {},
   "outputs": [
    {
     "name": "stdout",
     "output_type": "stream",
     "text": [
      "BANPU \tRMSE: 0.59\t MAE: 0.40 \tDA: 0.81\n",
      "IRPC \tRMSE: 0.17\t MAE: 0.13 \tDA: 0.53\n",
      "PTT \tRMSE: 9.51\t MAE: 7.64 \tDA: 0.49\n",
      "BBL \tRMSE: 5.20\t MAE: 3.71 \tDA: 0.42\n",
      "KBANK \tRMSE: 4.47\t MAE: 3.30 \tDA: 0.56\n",
      "SCB \tRMSE: 3.25\t MAE: 2.25 \tDA: 0.53\n",
      "AOT \tRMSE: 1.32\t MAE: 0.70 \tDA: 0.69\n",
      "THAI \tRMSE: 0.80\t MAE: 0.57 \tDA: 0.42\n",
      "CPF \tRMSE: 0.75\t MAE: 0.58 \tDA: 0.53\n",
      "MINT \tRMSE: 1.76\t MAE: 1.43 \tDA: 0.42\n",
      "TU \tRMSE: 0.51\t MAE: 0.36 \tDA: 0.64\n",
      "SCC \tRMSE: 8.43\t MAE: 6.52 \tDA: 0.57\n",
      "CPN \tRMSE: 2.30\t MAE: 1.79 \tDA: 0.65\n",
      "CK \tRMSE: 0.99\t MAE: 0.59 \tDA: 0.75\n",
      "CPALL \tRMSE: 2.87\t MAE: 2.32 \tDA: 0.27\n",
      "HMPRO \tRMSE: 0.29\t MAE: 0.26 \tDA: 0.46\n",
      "BDMS \tRMSE: 0.43\t MAE: 0.34 \tDA: 0.65\n",
      "BH \tRMSE: 2.98\t MAE: 2.58 \tDA: 0.54\n",
      "ADVANC \tRMSE: 2.93\t MAE: 2.45 \tDA: 0.76\n",
      "JAS \tRMSE: 0.61\t MAE: 0.42 \tDA: 0.35\n",
      "TRUE \tRMSE: 0.20\t MAE: 0.17 \tDA: 0.59\n",
      "\n",
      "mean RMSE: 2.4\n",
      "mean MAE: 1.83\n",
      "mean DA: 0.5533\n"
     ]
    }
   ],
   "source": [
    "evaluator(decis_tree_regr, x_test, le)"
   ]
  },
  {
   "cell_type": "markdown",
   "metadata": {},
   "source": [
    "# Random Forest Regrssor"
   ]
  },
  {
   "cell_type": "code",
   "execution_count": 19,
   "metadata": {},
   "outputs": [
    {
     "name": "stderr",
     "output_type": "stream",
     "text": [
      "/usr/local/lib/python3.5/dist-packages/ipykernel_launcher.py:4: DataConversionWarning:\n",
      "\n",
      "A column-vector y was passed when a 1d array was expected. Please change the shape of y to (n_samples,), for example using ravel().\n",
      "\n"
     ]
    },
    {
     "data": {
      "text/plain": [
       "RandomForestRegressor(bootstrap=True, criterion='mse', max_depth=None,\n",
       "           max_features='auto', max_leaf_nodes=None,\n",
       "           min_impurity_decrease=0.0, min_impurity_split=None,\n",
       "           min_samples_leaf=1, min_samples_split=2,\n",
       "           min_weight_fraction_leaf=0.0, n_estimators=10, n_jobs=-1,\n",
       "           oob_score=False, random_state=None, verbose=0, warm_start=False)"
      ]
     },
     "execution_count": 19,
     "metadata": {},
     "output_type": "execute_result"
    }
   ],
   "source": [
    "from sklearn import ensemble\n",
    "\n",
    "rnd_forest_regr = ensemble.RandomForestRegressor(n_jobs=-1)\n",
    "rnd_forest_regr.fit(x_train, y_train)"
   ]
  },
  {
   "cell_type": "code",
   "execution_count": 20,
   "metadata": {},
   "outputs": [
    {
     "name": "stdout",
     "output_type": "stream",
     "text": [
      "BANPU \tRMSE: 0.26\t MAE: 0.22 \tDA: 0.86\n",
      "IRPC \tRMSE: 0.14\t MAE: 0.10 \tDA: 0.47\n",
      "PTT \tRMSE: 7.22\t MAE: 5.55 \tDA: 0.64\n",
      "BBL \tRMSE: 2.70\t MAE: 1.90 \tDA: 0.54\n",
      "KBANK \tRMSE: 2.68\t MAE: 2.32 \tDA: 0.41\n",
      "SCB \tRMSE: 2.29\t MAE: 1.58 \tDA: 0.50\n",
      "AOT \tRMSE: 5.50\t MAE: 1.75 \tDA: 0.54\n",
      "THAI \tRMSE: 0.72\t MAE: 0.47 \tDA: 0.65\n",
      "CPF \tRMSE: 0.34\t MAE: 0.28 \tDA: 0.58\n",
      "MINT \tRMSE: 0.98\t MAE: 0.91 \tDA: 0.32\n",
      "TU \tRMSE: 0.53\t MAE: 0.38 \tDA: 0.64\n",
      "SCC \tRMSE: 8.23\t MAE: 6.13 \tDA: 0.39\n",
      "CPN \tRMSE: 3.35\t MAE: 2.72 \tDA: 0.59\n",
      "CK \tRMSE: 0.68\t MAE: 0.46 \tDA: 0.44\n",
      "CPALL \tRMSE: 2.26\t MAE: 1.91 \tDA: 0.18\n",
      "HMPRO \tRMSE: 0.21\t MAE: 0.16 \tDA: 0.62\n",
      "BDMS \tRMSE: 0.45\t MAE: 0.29 \tDA: 0.71\n",
      "BH \tRMSE: 2.25\t MAE: 1.85 \tDA: 0.62\n",
      "ADVANC \tRMSE: 2.15\t MAE: 1.53 \tDA: 0.55\n",
      "JAS \tRMSE: 0.40\t MAE: 0.25 \tDA: 0.58\n",
      "TRUE \tRMSE: 0.25\t MAE: 0.19 \tDA: 0.68\n",
      "\n",
      "mean RMSE: 2.08\n",
      "mean MAE: 1.47\n",
      "mean DA: 0.5473\n"
     ]
    }
   ],
   "source": [
    "evaluator(rnd_forest_regr, x_test, le)"
   ]
  },
  {
   "cell_type": "markdown",
   "metadata": {},
   "source": [
    "# AdaBoost Regressor"
   ]
  },
  {
   "cell_type": "code",
   "execution_count": 21,
   "metadata": {},
   "outputs": [
    {
     "name": "stderr",
     "output_type": "stream",
     "text": [
      "/usr/local/lib/python3.5/dist-packages/sklearn/utils/validation.py:578: DataConversionWarning:\n",
      "\n",
      "A column-vector y was passed when a 1d array was expected. Please change the shape of y to (n_samples, ), for example using ravel().\n",
      "\n"
     ]
    },
    {
     "data": {
      "text/plain": [
       "AdaBoostRegressor(base_estimator=DecisionTreeRegressor(criterion='mse', max_depth=None, max_features=None,\n",
       "           max_leaf_nodes=None, min_impurity_decrease=0.0,\n",
       "           min_impurity_split=None, min_samples_leaf=1,\n",
       "           min_samples_split=2, min_weight_fraction_leaf=0.0,\n",
       "           presort=False, random_state=None, splitter='best'),\n",
       "         learning_rate=1, loss='linear', n_estimators=50,\n",
       "         random_state=None)"
      ]
     },
     "execution_count": 21,
     "metadata": {},
     "output_type": "execute_result"
    }
   ],
   "source": [
    "adaboost_dt_regr = ensemble.AdaBoostRegressor(base_estimator=tree.DecisionTreeRegressor(),\n",
    "                                           learning_rate=1, \n",
    "                                           n_estimators=50, \n",
    "                                           loss='linear')\n",
    "adaboost_dt_regr.fit(x_train, y_train)"
   ]
  },
  {
   "cell_type": "code",
   "execution_count": 22,
   "metadata": {},
   "outputs": [
    {
     "name": "stderr",
     "output_type": "stream",
     "text": [
      "/usr/local/lib/python3.5/dist-packages/sklearn/utils/validation.py:578: DataConversionWarning:\n",
      "\n",
      "A column-vector y was passed when a 1d array was expected. Please change the shape of y to (n_samples, ), for example using ravel().\n",
      "\n"
     ]
    },
    {
     "data": {
      "text/plain": [
       "AdaBoostRegressor(base_estimator=RandomForestRegressor(bootstrap=True, criterion='mse', max_depth=None,\n",
       "           max_features='auto', max_leaf_nodes=None,\n",
       "           min_impurity_decrease=0.0, min_impurity_split=None,\n",
       "           min_samples_leaf=1, min_samples_split=2,\n",
       "           min_weight_fraction_leaf=0.0, n_estimators=10, n_jobs=-1,\n",
       "           oob_score=False, random_state=None, verbose=0, warm_start=False),\n",
       "         learning_rate=1, loss='linear', n_estimators=50,\n",
       "         random_state=None)"
      ]
     },
     "execution_count": 22,
     "metadata": {},
     "output_type": "execute_result"
    }
   ],
   "source": [
    "adaboost_rf_regr = ensemble.AdaBoostRegressor(base_estimator=ensemble.RandomForestRegressor(n_jobs=-1),\n",
    "                                           learning_rate=1, \n",
    "                                           n_estimators=50, \n",
    "                                           loss='linear')\n",
    "adaboost_rf_regr.fit(x_train, y_train)"
   ]
  },
  {
   "cell_type": "code",
   "execution_count": 23,
   "metadata": {},
   "outputs": [
    {
     "name": "stdout",
     "output_type": "stream",
     "text": [
      "BANPU \tRMSE: 0.37\t MAE: 0.29 \tDA: 0.81\n",
      "IRPC \tRMSE: 0.24\t MAE: 0.20 \tDA: 0.53\n",
      "PTT \tRMSE: 7.09\t MAE: 5.28 \tDA: 0.64\n",
      "BBL \tRMSE: 2.38\t MAE: 1.71 \tDA: 0.58\n",
      "KBANK \tRMSE: 2.88\t MAE: 2.36 \tDA: 0.50\n",
      "SCB \tRMSE: 2.39\t MAE: 1.63 \tDA: 0.57\n",
      "AOT \tRMSE: 1.02\t MAE: 0.74 \tDA: 0.54\n",
      "THAI \tRMSE: 0.79\t MAE: 0.52 \tDA: 0.52\n",
      "CPF \tRMSE: 0.37\t MAE: 0.27 \tDA: 0.69\n",
      "MINT \tRMSE: 0.98\t MAE: 0.79 \tDA: 0.58\n",
      "TU \tRMSE: 0.44\t MAE: 0.38 \tDA: 0.43\n",
      "SCC \tRMSE: 5.69\t MAE: 4.00 \tDA: 0.61\n",
      "CPN \tRMSE: 3.83\t MAE: 3.07 \tDA: 0.47\n",
      "CK \tRMSE: 0.52\t MAE: 0.38 \tDA: 0.62\n",
      "CPALL \tRMSE: 2.07\t MAE: 1.52 \tDA: 0.55\n",
      "HMPRO \tRMSE: 0.24\t MAE: 0.21 \tDA: 0.46\n",
      "BDMS \tRMSE: 0.52\t MAE: 0.37 \tDA: 0.53\n",
      "BH \tRMSE: 2.10\t MAE: 1.65 \tDA: 0.62\n",
      "ADVANC \tRMSE: 2.07\t MAE: 1.55 \tDA: 0.59\n",
      "JAS \tRMSE: 0.46\t MAE: 0.34 \tDA: 0.62\n",
      "TRUE \tRMSE: 0.32\t MAE: 0.28 \tDA: 0.59\n",
      "\n",
      "mean RMSE: 1.75\n",
      "mean MAE: 1.31\n",
      "mean DA: 0.5729\n"
     ]
    }
   ],
   "source": [
    "evaluator(adaboost_dt_regr, x_test, le)"
   ]
  },
  {
   "cell_type": "code",
   "execution_count": 24,
   "metadata": {},
   "outputs": [
    {
     "name": "stdout",
     "output_type": "stream",
     "text": [
      "BANPU \tRMSE: 0.33\t MAE: 0.23 \tDA: 0.81\n",
      "IRPC \tRMSE: 0.15\t MAE: 0.12 \tDA: 0.47\n",
      "PTT \tRMSE: 6.31\t MAE: 4.90 \tDA: 0.57\n",
      "BBL \tRMSE: 2.69\t MAE: 2.11 \tDA: 0.54\n",
      "KBANK \tRMSE: 2.90\t MAE: 2.40 \tDA: 0.50\n",
      "SCB \tRMSE: 2.32\t MAE: 1.67 \tDA: 0.37\n",
      "AOT \tRMSE: 0.99\t MAE: 0.85 \tDA: 0.51\n",
      "THAI \tRMSE: 0.76\t MAE: 0.48 \tDA: 0.65\n",
      "CPF \tRMSE: 0.31\t MAE: 0.21 \tDA: 0.64\n",
      "MINT \tRMSE: 1.04\t MAE: 0.87 \tDA: 0.47\n",
      "TU \tRMSE: 0.54\t MAE: 0.40 \tDA: 0.50\n",
      "SCC \tRMSE: 5.65\t MAE: 4.18 \tDA: 0.61\n",
      "CPN \tRMSE: 3.14\t MAE: 2.41 \tDA: 0.65\n",
      "CK \tRMSE: 0.45\t MAE: 0.33 \tDA: 0.69\n",
      "CPALL \tRMSE: 2.25\t MAE: 1.73 \tDA: 0.45\n",
      "HMPRO \tRMSE: 0.24\t MAE: 0.21 \tDA: 0.31\n",
      "BDMS \tRMSE: 0.52\t MAE: 0.38 \tDA: 0.59\n",
      "BH \tRMSE: 1.84\t MAE: 1.59 \tDA: 0.62\n",
      "ADVANC \tRMSE: 2.11\t MAE: 1.62 \tDA: 0.69\n",
      "JAS \tRMSE: 0.38\t MAE: 0.30 \tDA: 0.50\n",
      "TRUE \tRMSE: 0.19\t MAE: 0.16 \tDA: 0.64\n",
      "\n",
      "mean RMSE: 1.67\n",
      "mean MAE: 1.29\n",
      "mean DA: 0.5601\n"
     ]
    }
   ],
   "source": [
    "evaluator(adaboost_rf_regr, x_test, le)"
   ]
  },
  {
   "cell_type": "markdown",
   "metadata": {},
   "source": [
    "# Gradient Boosting Regressor"
   ]
  },
  {
   "cell_type": "code",
   "execution_count": 25,
   "metadata": {},
   "outputs": [
    {
     "name": "stderr",
     "output_type": "stream",
     "text": [
      "/usr/local/lib/python3.5/dist-packages/sklearn/utils/validation.py:578: DataConversionWarning:\n",
      "\n",
      "A column-vector y was passed when a 1d array was expected. Please change the shape of y to (n_samples, ), for example using ravel().\n",
      "\n"
     ]
    },
    {
     "data": {
      "text/plain": [
       "GradientBoostingRegressor(alpha=0.9, criterion='friedman_mse', init=None,\n",
       "             learning_rate=0.1, loss='ls', max_depth=4, max_features=None,\n",
       "             max_leaf_nodes=None, min_impurity_decrease=0.0,\n",
       "             min_impurity_split=None, min_samples_leaf=1,\n",
       "             min_samples_split=2, min_weight_fraction_leaf=0.0,\n",
       "             n_estimators=500, presort='auto', random_state=None,\n",
       "             subsample=1.0, verbose=0, warm_start=False)"
      ]
     },
     "execution_count": 25,
     "metadata": {},
     "output_type": "execute_result"
    }
   ],
   "source": [
    "gbr = ensemble.GradientBoostingRegressor(n_estimators=500, \n",
    "                                         learning_rate=0.1,\n",
    "                                         max_depth=4,\n",
    "                                         min_samples_split=2,\n",
    "                                         loss='ls'\n",
    "                                        )\n",
    "gbr.fit(x_train, y_train)"
   ]
  },
  {
   "cell_type": "code",
   "execution_count": 26,
   "metadata": {},
   "outputs": [
    {
     "name": "stdout",
     "output_type": "stream",
     "text": [
      "BANPU \tRMSE: 0.54\t MAE: 0.41 \tDA: 0.52\n",
      "IRPC \tRMSE: 0.25\t MAE: 0.22 \tDA: 0.74\n",
      "PTT \tRMSE: 6.34\t MAE: 4.53 \tDA: 0.57\n",
      "BBL \tRMSE: 2.49\t MAE: 1.72 \tDA: 0.42\n",
      "KBANK \tRMSE: 2.91\t MAE: 2.44 \tDA: 0.41\n",
      "SCB \tRMSE: 2.52\t MAE: 1.85 \tDA: 0.43\n",
      "AOT \tRMSE: 1.59\t MAE: 1.20 \tDA: 0.54\n",
      "THAI \tRMSE: 0.78\t MAE: 0.57 \tDA: 0.61\n",
      "CPF \tRMSE: 0.55\t MAE: 0.43 \tDA: 0.42\n",
      "MINT \tRMSE: 1.11\t MAE: 0.92 \tDA: 0.42\n",
      "TU \tRMSE: 0.68\t MAE: 0.50 \tDA: 0.50\n",
      "SCC \tRMSE: 5.86\t MAE: 4.29 \tDA: 0.57\n",
      "CPN \tRMSE: 1.63\t MAE: 1.33 \tDA: 0.76\n",
      "CK \tRMSE: 0.76\t MAE: 0.53 \tDA: 0.44\n",
      "CPALL \tRMSE: 2.21\t MAE: 1.85 \tDA: 0.18\n",
      "HMPRO \tRMSE: 0.22\t MAE: 0.18 \tDA: 0.62\n",
      "BDMS \tRMSE: 0.63\t MAE: 0.46 \tDA: 0.65\n",
      "BH \tRMSE: 2.38\t MAE: 1.90 \tDA: 0.46\n",
      "ADVANC \tRMSE: 2.53\t MAE: 1.99 \tDA: 0.55\n",
      "JAS \tRMSE: 0.64\t MAE: 0.48 \tDA: 0.69\n",
      "TRUE \tRMSE: 0.73\t MAE: 0.46 \tDA: 0.41\n",
      "\n",
      "mean RMSE: 1.78\n",
      "mean MAE: 1.35\n",
      "mean DA: 0.5195\n"
     ]
    }
   ],
   "source": [
    "evaluator(gbr, x_test, le)"
   ]
  },
  {
   "cell_type": "markdown",
   "metadata": {},
   "source": [
    "# XGBoost Regressor"
   ]
  },
  {
   "cell_type": "code",
   "execution_count": 14,
   "metadata": {},
   "outputs": [
    {
     "data": {
      "text/plain": [
       "(1671, 296)"
      ]
     },
     "execution_count": 14,
     "metadata": {},
     "output_type": "execute_result"
    }
   ],
   "source": [
    "import xgboost\n",
    "from sklearn.model_selection import train_test_split\n",
    "\n",
    "x_train, x_valid, y_train, y_valid = train_test_split(x_train, y_train, test_size=0.15, random_state=10)\n",
    "len(x_train), len(x_valid)\n",
    "\n",
    "d_train = xgboost.DMatrix(x_train, label=y_train)\n",
    "d_valid = xgboost.DMatrix(x_valid, label=y_valid)"
   ]
  },
  {
   "cell_type": "code",
   "execution_count": 28,
   "metadata": {},
   "outputs": [
    {
     "name": "stdout",
     "output_type": "stream",
     "text": [
      "[0]\ttrain-rmse:191.872\tvalid-rmse:196.03\n",
      "Multiple eval metrics have been passed: 'valid-rmse' will be used for early stopping.\n",
      "\n",
      "Will train until valid-rmse hasn't improved in 30 rounds.\n",
      "[10]\ttrain-rmse:173.8\tvalid-rmse:177.812\n",
      "[20]\ttrain-rmse:157.422\tvalid-rmse:161.211\n",
      "[30]\ttrain-rmse:142.598\tvalid-rmse:146.16\n",
      "[40]\ttrain-rmse:129.161\tvalid-rmse:132.491\n",
      "[50]\ttrain-rmse:116.991\tvalid-rmse:120.085\n",
      "[60]\ttrain-rmse:105.972\tvalid-rmse:108.848\n",
      "[70]\ttrain-rmse:96.0005\tvalid-rmse:98.6808\n",
      "[80]\ttrain-rmse:86.9748\tvalid-rmse:89.4239\n",
      "[90]\ttrain-rmse:78.7966\tvalid-rmse:81.0427\n",
      "[100]\ttrain-rmse:71.3894\tvalid-rmse:73.4896\n",
      "[110]\ttrain-rmse:64.6821\tvalid-rmse:66.6239\n",
      "[120]\ttrain-rmse:58.6052\tvalid-rmse:60.3761\n",
      "[130]\ttrain-rmse:53.0986\tvalid-rmse:54.7354\n",
      "[140]\ttrain-rmse:48.121\tvalid-rmse:49.6414\n",
      "[150]\ttrain-rmse:43.619\tvalid-rmse:45.0254\n",
      "[160]\ttrain-rmse:39.5355\tvalid-rmse:40.8545\n",
      "[170]\ttrain-rmse:35.8385\tvalid-rmse:37.0752\n",
      "[180]\ttrain-rmse:32.4894\tvalid-rmse:33.6417\n",
      "[190]\ttrain-rmse:29.4582\tvalid-rmse:30.5506\n",
      "[200]\ttrain-rmse:26.7142\tvalid-rmse:27.7536\n",
      "[210]\ttrain-rmse:24.2329\tvalid-rmse:25.2189\n",
      "[220]\ttrain-rmse:21.9869\tvalid-rmse:22.933\n",
      "[230]\ttrain-rmse:19.9528\tvalid-rmse:20.8501\n",
      "[240]\ttrain-rmse:18.1151\tvalid-rmse:18.9773\n",
      "[250]\ttrain-rmse:16.4481\tvalid-rmse:17.2808\n",
      "[260]\ttrain-rmse:14.9427\tvalid-rmse:15.7406\n",
      "[270]\ttrain-rmse:13.5782\tvalid-rmse:14.3506\n",
      "[280]\ttrain-rmse:12.3517\tvalid-rmse:13.1039\n",
      "[290]\ttrain-rmse:11.2377\tvalid-rmse:11.9748\n",
      "[300]\ttrain-rmse:10.23\tvalid-rmse:10.9495\n",
      "[310]\ttrain-rmse:9.32172\tvalid-rmse:10.0351\n",
      "[320]\ttrain-rmse:8.50024\tvalid-rmse:9.21676\n",
      "[330]\ttrain-rmse:7.76302\tvalid-rmse:8.48622\n",
      "[340]\ttrain-rmse:7.09978\tvalid-rmse:7.83035\n",
      "[350]\ttrain-rmse:6.50179\tvalid-rmse:7.23389\n",
      "[360]\ttrain-rmse:5.96312\tvalid-rmse:6.70689\n",
      "[370]\ttrain-rmse:5.48182\tvalid-rmse:6.23754\n",
      "[380]\ttrain-rmse:5.05023\tvalid-rmse:5.83935\n",
      "[390]\ttrain-rmse:4.66559\tvalid-rmse:5.4734\n",
      "[400]\ttrain-rmse:4.31864\tvalid-rmse:5.15352\n",
      "[410]\ttrain-rmse:4.01238\tvalid-rmse:4.87253\n",
      "[420]\ttrain-rmse:3.73572\tvalid-rmse:4.62639\n",
      "[430]\ttrain-rmse:3.49106\tvalid-rmse:4.42003\n",
      "[440]\ttrain-rmse:3.2716\tvalid-rmse:4.22733\n",
      "[450]\ttrain-rmse:3.07769\tvalid-rmse:4.06099\n",
      "[460]\ttrain-rmse:2.90449\tvalid-rmse:3.91391\n",
      "[470]\ttrain-rmse:2.75219\tvalid-rmse:3.79299\n",
      "[480]\ttrain-rmse:2.61776\tvalid-rmse:3.68619\n",
      "[490]\ttrain-rmse:2.50094\tvalid-rmse:3.59272\n",
      "[500]\ttrain-rmse:2.39513\tvalid-rmse:3.50766\n",
      "[510]\ttrain-rmse:2.30393\tvalid-rmse:3.44566\n",
      "[520]\ttrain-rmse:2.22396\tvalid-rmse:3.39046\n",
      "[530]\ttrain-rmse:2.15054\tvalid-rmse:3.3412\n",
      "[540]\ttrain-rmse:2.08759\tvalid-rmse:3.2935\n",
      "[550]\ttrain-rmse:2.02826\tvalid-rmse:3.26198\n",
      "[560]\ttrain-rmse:1.9763\tvalid-rmse:3.23585\n",
      "[570]\ttrain-rmse:1.92989\tvalid-rmse:3.21211\n",
      "[580]\ttrain-rmse:1.88699\tvalid-rmse:3.19008\n",
      "[590]\ttrain-rmse:1.8499\tvalid-rmse:3.16884\n",
      "[600]\ttrain-rmse:1.8163\tvalid-rmse:3.15352\n",
      "[610]\ttrain-rmse:1.78549\tvalid-rmse:3.14002\n",
      "[620]\ttrain-rmse:1.75614\tvalid-rmse:3.13229\n",
      "[630]\ttrain-rmse:1.72808\tvalid-rmse:3.12503\n",
      "[640]\ttrain-rmse:1.70192\tvalid-rmse:3.12182\n",
      "[650]\ttrain-rmse:1.67897\tvalid-rmse:3.11681\n",
      "[660]\ttrain-rmse:1.65938\tvalid-rmse:3.10893\n",
      "[670]\ttrain-rmse:1.63922\tvalid-rmse:3.10271\n",
      "[680]\ttrain-rmse:1.62242\tvalid-rmse:3.09608\n",
      "[690]\ttrain-rmse:1.60688\tvalid-rmse:3.09041\n",
      "[700]\ttrain-rmse:1.59369\tvalid-rmse:3.0849\n",
      "[710]\ttrain-rmse:1.58073\tvalid-rmse:3.08184\n",
      "[720]\ttrain-rmse:1.56631\tvalid-rmse:3.07671\n",
      "[730]\ttrain-rmse:1.55477\tvalid-rmse:3.07282\n",
      "[740]\ttrain-rmse:1.54331\tvalid-rmse:3.06761\n",
      "[750]\ttrain-rmse:1.53051\tvalid-rmse:3.06407\n",
      "[760]\ttrain-rmse:1.52076\tvalid-rmse:3.06315\n",
      "[770]\ttrain-rmse:1.50895\tvalid-rmse:3.06283\n",
      "[780]\ttrain-rmse:1.49965\tvalid-rmse:3.06354\n",
      "[790]\ttrain-rmse:1.48997\tvalid-rmse:3.06168\n",
      "[800]\ttrain-rmse:1.48011\tvalid-rmse:3.06208\n",
      "[810]\ttrain-rmse:1.47199\tvalid-rmse:3.06417\n",
      "Stopping. Best iteration:\n",
      "[789]\ttrain-rmse:1.49146\tvalid-rmse:3.06126\n",
      "\n"
     ]
    }
   ],
   "source": [
    "params = {\n",
    "    'booster':'gbtree',\n",
    "    'max_depth': 4,\n",
    "    'learning_rate': 0.01,\n",
    "    'n_estimators':500,\n",
    "    'subsample': 0.80,\n",
    "    'objective': 'reg:linear',\n",
    "    'eval_metric': 'rmse',\n",
    "    'reg_lambda': 0.8,   \n",
    "    'reg_alpha': 0.4, \n",
    "    'silent': 1,\n",
    "}\n",
    "\n",
    "xgb = xgboost.train(params, d_train, \n",
    "                    num_boost_round=5000, \n",
    "                    evals=[(d_train, 'train'), (d_valid, 'valid')], \n",
    "                    early_stopping_rounds=30,\n",
    "                    verbose_eval=10\n",
    "                   )"
   ]
  },
  {
   "cell_type": "code",
   "execution_count": 29,
   "metadata": {},
   "outputs": [
    {
     "name": "stdout",
     "output_type": "stream",
     "text": [
      "BANPU \tRMSE: 0.28\t MAE: 0.22 \tDA: 0.67\n",
      "IRPC \tRMSE: 0.12\t MAE: 0.10 \tDA: 0.63\n",
      "PTT \tRMSE: 5.12\t MAE: 4.19 \tDA: 0.55\n",
      "BBL \tRMSE: 2.69\t MAE: 1.96 \tDA: 0.38\n",
      "KBANK \tRMSE: 3.05\t MAE: 2.48 \tDA: 0.53\n",
      "SCB \tRMSE: 2.34\t MAE: 1.87 \tDA: 0.33\n",
      "AOT \tRMSE: 1.21\t MAE: 0.89 \tDA: 0.63\n",
      "THAI \tRMSE: 0.70\t MAE: 0.49 \tDA: 0.58\n",
      "CPF \tRMSE: 0.31\t MAE: 0.24 \tDA: 0.50\n",
      "MINT \tRMSE: 0.93\t MAE: 0.78 \tDA: 0.37\n",
      "TU \tRMSE: 0.55\t MAE: 0.36 \tDA: 0.43\n",
      "SCC \tRMSE: 6.66\t MAE: 5.13 \tDA: 0.61\n",
      "CPN \tRMSE: 2.08\t MAE: 1.69 \tDA: 0.53\n",
      "CK \tRMSE: 0.58\t MAE: 0.42 \tDA: 0.50\n",
      "CPALL \tRMSE: 2.34\t MAE: 1.83 \tDA: 0.27\n",
      "HMPRO \tRMSE: 0.16\t MAE: 0.12 \tDA: 0.77\n",
      "BDMS \tRMSE: 0.50\t MAE: 0.36 \tDA: 0.65\n",
      "BH \tRMSE: 2.13\t MAE: 1.83 \tDA: 0.46\n",
      "ADVANC \tRMSE: 2.15\t MAE: 1.61 \tDA: 0.62\n",
      "JAS \tRMSE: 0.41\t MAE: 0.26 \tDA: 0.62\n",
      "TRUE \tRMSE: 0.27\t MAE: 0.22 \tDA: 0.59\n",
      "\n",
      "mean RMSE: 1.65\n",
      "mean MAE: 1.29\n",
      "mean DA: 0.5341\n"
     ]
    }
   ],
   "source": [
    "evaluator(xgb, x_test, le, isXGB=True)"
   ]
  },
  {
   "cell_type": "code",
   "execution_count": 381,
   "metadata": {},
   "outputs": [
    {
     "data": {
      "text/plain": [
       "<matplotlib.axes._subplots.AxesSubplot at 0x7f534a1511d0>"
      ]
     },
     "execution_count": 381,
     "metadata": {},
     "output_type": "execute_result"
    },
    {
     "data": {
      "image/png": "[encoded data removed]",
      "text/plain": [
       "<matplotlib.figure.Figure at 0x7f5349f30828>"
      ]
     },
     "metadata": {},
     "output_type": "display_data"
    }
   ],
   "source": [
    "xgboost.plot_importance(xgb, height=0.3)"
   ]
  },
  {
   "cell_type": "markdown",
   "metadata": {},
   "source": [
    "# LSTM"
   ]
  },
  {
   "cell_type": "code",
   "execution_count": 17,
   "metadata": {
    "collapsed": true
   },
   "outputs": [],
   "source": [
    "from keras.models import Sequential\n",
    "from keras.layers import Dense, Dropout, LSTM"
   ]
  },
  {
   "cell_type": "code",
   "execution_count": 15,
   "metadata": {},
   "outputs": [
    {
     "name": "stdout",
     "output_type": "stream",
     "text": [
      "(1671, 1, 1025) (1671, 1)\n",
      "(296, 1, 1025) (296, 1)\n"
     ]
    }
   ],
   "source": [
    "train_X = x_train.values\n",
    "val_X = x_valid.values\n",
    "# test_X = x_test.values\n",
    "\n",
    "train_y = y_train.values\n",
    "val_y = y_valid.values\n",
    "# test_y = y_test.values\n",
    "\n",
    "train_X = train_X.reshape(train_X.shape[0], 1, train_X.shape[1])\n",
    "val_X = val_X.reshape(val_X.shape[0], 1, val_X.shape[1])\n",
    "# test_X = test_X.reshape((test_X.shape[0], 1, test_X.shape[1]))\n",
    "\n",
    "print(train_X.shape, train_y.shape)\n",
    "print(val_X.shape, val_y.shape)\n",
    "# print(test_X.shape, test_y.shape)"
   ]
  },
  {
   "cell_type": "code",
   "execution_count": 18,
   "metadata": {
    "collapsed": true
   },
   "outputs": [
    {
     "name": "stderr",
     "output_type": "stream",
     "text": [
      "/usr/local/lib/python3.5/dist-packages/keras/utils/generic_utils.py:135: DeprecationWarning:\n",
      "\n",
      "inspect.getargspec() is deprecated, use inspect.signature() instead\n",
      "\n",
      "/usr/local/lib/python3.5/dist-packages/keras/utils/generic_utils.py:135: DeprecationWarning:\n",
      "\n",
      "inspect.getargspec() is deprecated, use inspect.signature() instead\n",
      "\n",
      "/usr/local/lib/python3.5/dist-packages/keras/utils/generic_utils.py:135: DeprecationWarning:\n",
      "\n",
      "inspect.getargspec() is deprecated, use inspect.signature() instead\n",
      "\n",
      "/usr/local/lib/python3.5/dist-packages/keras/utils/generic_utils.py:135: DeprecationWarning:\n",
      "\n",
      "inspect.getargspec() is deprecated, use inspect.signature() instead\n",
      "\n",
      "/usr/local/lib/python3.5/dist-packages/keras/utils/generic_utils.py:135: DeprecationWarning:\n",
      "\n",
      "inspect.getargspec() is deprecated, use inspect.signature() instead\n",
      "\n",
      "/usr/local/lib/python3.5/dist-packages/keras/utils/generic_utils.py:135: DeprecationWarning:\n",
      "\n",
      "inspect.getargspec() is deprecated, use inspect.signature() instead\n",
      "\n",
      "/usr/local/lib/python3.5/dist-packages/keras/utils/generic_utils.py:135: DeprecationWarning:\n",
      "\n",
      "inspect.getargspec() is deprecated, use inspect.signature() instead\n",
      "\n",
      "/usr/local/lib/python3.5/dist-packages/keras/utils/generic_utils.py:135: DeprecationWarning:\n",
      "\n",
      "inspect.getargspec() is deprecated, use inspect.signature() instead\n",
      "\n",
      "/usr/local/lib/python3.5/dist-packages/keras/utils/generic_utils.py:135: DeprecationWarning:\n",
      "\n",
      "inspect.getargspec() is deprecated, use inspect.signature() instead\n",
      "\n",
      "/usr/local/lib/python3.5/dist-packages/keras/utils/generic_utils.py:135: DeprecationWarning:\n",
      "\n",
      "inspect.getargspec() is deprecated, use inspect.signature() instead\n",
      "\n",
      "/usr/local/lib/python3.5/dist-packages/keras/utils/generic_utils.py:135: DeprecationWarning:\n",
      "\n",
      "inspect.getargspec() is deprecated, use inspect.signature() instead\n",
      "\n",
      "/usr/local/lib/python3.5/dist-packages/keras/utils/generic_utils.py:135: DeprecationWarning:\n",
      "\n",
      "inspect.getargspec() is deprecated, use inspect.signature() instead\n",
      "\n"
     ]
    }
   ],
   "source": [
    "model = Sequential()\n",
    "model.add(LSTM(128, return_sequences=True, input_shape=(train_X.shape[1], train_X.shape[2])))\n",
    "model.add(LSTM(256, return_sequences=True))\n",
    "model.add(Dropout(0.5))\n",
    "model.add(LSTM(512, return_sequences=True))\n",
    "model.add(Dropout(0.5))\n",
    "model.add(LSTM(256, return_sequences=True))\n",
    "model.add(LSTM(128))\n",
    "model.add(Dense(1))\n",
    "model.compile(loss='mean_absolute_error', optimizer='adam')"
   ]
  },
  {
   "cell_type": "code",
   "execution_count": 19,
   "metadata": {
    "collapsed": true
   },
   "outputs": [],
   "source": [
    "from keras.callbacks import ModelCheckpoint, TensorBoard, EarlyStopping\n",
    "\n",
    "checkpoint = ModelCheckpoint(filepath=\"model/LSTM.h5\", \n",
    "                             monitor='val_loss', \n",
    "                             verbose=1, \n",
    "                             save_best_only=True, \n",
    "                             save_weights_only=False, \n",
    "                             mode='auto', \n",
    "                             period=1\n",
    "                            )\n",
    "\n",
    "earlystopping = EarlyStopping(monitor='val_loss', \n",
    "                      min_delta=0, \n",
    "                      patience=20,\n",
    "                      verbose=1, \n",
    "                      mode='auto')\n",
    "\n",
    "# access via $ tensorboard --logdir=./logs\n",
    "tensorboard = TensorBoard(log_dir='./logs')"
   ]
  },
  {
   "cell_type": "code",
   "execution_count": 22,
   "metadata": {},
   "outputs": [
    {
     "name": "stdout",
     "output_type": "stream",
     "text": [
      "Train on 1671 samples, validate on 296 samples\n",
      "Epoch 1/1000\n",
      "1024/1671 [=================>............] - ETA: 0s - loss: 117.8932Epoch 00000: val_loss did not improve\n",
      "1671/1671 [==============================] - 0s - loss: 115.3994 - val_loss: 114.2639\n",
      "Epoch 2/1000\n",
      "1024/1671 [=================>............] - ETA: 0s - loss: 117.8853Epoch 00001: val_loss did not improve\n",
      "1671/1671 [==============================] - 0s - loss: 115.3925 - val_loss: 114.2649\n",
      "Epoch 3/1000\n",
      "1024/1671 [=================>............] - ETA: 0s - loss: 117.8773Epoch 00002: val_loss did not improve\n",
      "1671/1671 [==============================] - 0s - loss: 115.3856 - val_loss: 114.2658\n",
      "Epoch 4/1000\n",
      "1024/1671 [=================>............] - ETA: 0s - loss: 117.8694Epoch 00003: val_loss did not improve\n",
      "1671/1671 [==============================] - 0s - loss: 115.3786 - val_loss: 114.2667\n",
      "Epoch 5/1000\n",
      "1024/1671 [=================>............] - ETA: 0s - loss: 117.8616Epoch 00004: val_loss did not improve\n",
      "1671/1671 [==============================] - 0s - loss: 115.3718 - val_loss: 114.2676\n",
      "Epoch 6/1000\n",
      "1024/1671 [=================>............] - ETA: 0s - loss: 117.8538Epoch 00005: val_loss did not improve\n",
      "1671/1671 [==============================] - 0s - loss: 115.3649 - val_loss: 114.2685\n",
      "Epoch 7/1000\n",
      "1024/1671 [=================>............] - ETA: 0s - loss: 117.8460Epoch 00006: val_loss did not improve\n",
      "1671/1671 [==============================] - 0s - loss: 115.3581 - val_loss: 114.2695\n",
      "Epoch 8/1000\n",
      "1024/1671 [=================>............] - ETA: 0s - loss: 117.8382Epoch 00007: val_loss did not improve\n",
      "1671/1671 [==============================] - 0s - loss: 115.3512 - val_loss: 114.2704\n",
      "Epoch 9/1000\n",
      "1024/1671 [=================>............] - ETA: 0s - loss: 117.8303Epoch 00008: val_loss did not improve\n",
      "1671/1671 [==============================] - 0s - loss: 115.3443 - val_loss: 114.2713\n",
      "Epoch 10/1000\n",
      "1024/1671 [=================>............] - ETA: 0s - loss: 117.8225Epoch 00009: val_loss did not improve\n",
      "1671/1671 [==============================] - 0s - loss: 115.3375 - val_loss: 114.2722\n",
      "Epoch 11/1000\n",
      "1024/1671 [=================>............] - ETA: 0s - loss: 117.8146Epoch 00010: val_loss did not improve\n",
      "1671/1671 [==============================] - 0s - loss: 115.3306 - val_loss: 114.2731\n",
      "Epoch 12/1000\n",
      "1024/1671 [=================>............] - ETA: 0s - loss: 117.8068Epoch 00011: val_loss did not improve\n",
      "1671/1671 [==============================] - 0s - loss: 115.3237 - val_loss: 114.2741\n",
      "Epoch 13/1000\n",
      "1024/1671 [=================>............] - ETA: 0s - loss: 117.7989Epoch 00012: val_loss did not improve\n",
      "1671/1671 [==============================] - 0s - loss: 115.3167 - val_loss: 114.2750\n",
      "Epoch 14/1000\n",
      "1024/1671 [=================>............] - ETA: 0s - loss: 117.7910Epoch 00013: val_loss did not improve\n",
      "1671/1671 [==============================] - 0s - loss: 115.3098 - val_loss: 114.2759\n",
      "Epoch 15/1000\n",
      "1024/1671 [=================>............] - ETA: 0s - loss: 117.7831Epoch 00014: val_loss did not improve\n",
      "1671/1671 [==============================] - 0s - loss: 115.3028 - val_loss: 114.2768\n",
      "Epoch 16/1000\n",
      "1024/1671 [=================>............] - ETA: 0s - loss: 117.7751Epoch 00015: val_loss did not improve\n",
      "1671/1671 [==============================] - 0s - loss: 115.2959 - val_loss: 114.2778\n",
      "Epoch 17/1000\n",
      "1024/1671 [=================>............] - ETA: 0s - loss: 117.7672Epoch 00016: val_loss did not improve\n",
      "1671/1671 [==============================] - 0s - loss: 115.2889 - val_loss: 114.2787\n",
      "Epoch 18/1000\n",
      "1024/1671 [=================>............] - ETA: 0s - loss: 117.7592Epoch 00017: val_loss did not improve\n",
      "1671/1671 [==============================] - 0s - loss: 115.2819 - val_loss: 114.2796\n",
      "Epoch 19/1000\n",
      "1024/1671 [=================>............] - ETA: 0s - loss: 117.7513Epoch 00018: val_loss did not improve\n",
      "1671/1671 [==============================] - 0s - loss: 115.2750 - val_loss: 114.2806\n",
      "Epoch 20/1000\n",
      "1024/1671 [=================>............] - ETA: 0s - loss: 117.7433Epoch 00019: val_loss did not improve\n",
      "1671/1671 [==============================] - 0s - loss: 115.2681 - val_loss: 114.2815\n",
      "Epoch 21/1000\n",
      "1024/1671 [=================>............] - ETA: 0s - loss: 117.7353Epoch 00020: val_loss did not improve\n",
      "1671/1671 [==============================] - 0s - loss: 115.2612 - val_loss: 114.2824\n",
      "Epoch 22/1000\n",
      "1024/1671 [=================>............] - ETA: 0s - loss: 117.7273Epoch 00021: val_loss did not improve\n",
      "1671/1671 [==============================] - 0s - loss: 115.2543 - val_loss: 114.2838\n",
      "Epoch 00021: early stopping\n"
     ]
    },
    {
     "data": {
      "text/plain": [
       "<keras.callbacks.History at 0x7fca08f83390>"
      ]
     },
     "execution_count": 22,
     "metadata": {},
     "output_type": "execute_result"
    }
   ],
   "source": [
    "model.fit(x=train_X, \n",
    "          y=train_y,\n",
    "          epochs=1000,\n",
    "          batch_size=1024,\n",
    "          validation_data=(val_X, val_y),\n",
    "          verbose=1,\n",
    "          shuffle=False,\n",
    "          callbacks=[checkpoint, earlystopping, tensorboard]\n",
    "         )"
   ]
  },
  {
   "cell_type": "code",
   "execution_count": 24,
   "metadata": {},
   "outputs": [
    {
     "name": "stderr",
     "output_type": "stream",
     "text": [
      "/usr/local/lib/python3.5/dist-packages/numpy/core/fromnumeric.py:57: FutureWarning:\n",
      "\n",
      "reshape is deprecated and will raise in a subsequent release. Please use .values.reshape(...) instead\n",
      "\n"
     ]
    },
    {
     "name": "stdout",
     "output_type": "stream",
     "text": [
      "BANPU \tRMSE: 21.09\t MAE: 21.05 \tDA: 0.76\n",
      "IRPC \tRMSE: 32.91\t MAE: 32.91 \tDA: 0.63\n",
      "PTT \tRMSE: 368.46\t MAE: 367.58 \tDA: 0.42\n",
      "BBL \tRMSE: 152.84\t MAE: 152.34 \tDA: 0.35\n",
      "KBANK \tRMSE: 161.52\t MAE: 160.25 \tDA: 0.38\n",
      "SCB \tRMSE: 113.67\t MAE: 113.58 \tDA: 0.30\n",
      "AOT \tRMSE: 13.81\t MAE: 10.00 \tDA: 0.34\n",
      "THAI \tRMSE: 18.99\t MAE: 18.82 \tDA: 0.45\n",
      "CPF \tRMSE: 12.46\t MAE: 12.35 \tDA: 0.67\n",
      "MINT \tRMSE: 3.18\t MAE: 2.68 \tDA: 0.47\n",
      "TU \tRMSE: 18.91\t MAE: 18.90 \tDA: 0.43\n",
      "SCC \tRMSE: 463.46\t MAE: 463.01 \tDA: 0.35\n",
      "CPN \tRMSE: 34.28\t MAE: 33.46 \tDA: 0.35\n",
      "CK \tRMSE: 10.43\t MAE: 10.30 \tDA: 0.75\n",
      "CPALL \tRMSE: 21.09\t MAE: 20.73 \tDA: 0.36\n",
      "HMPRO \tRMSE: 28.40\t MAE: 28.37 \tDA: 0.46\n",
      "BDMS \tRMSE: 18.42\t MAE: 18.39 \tDA: 0.47\n",
      "BH \tRMSE: 148.22\t MAE: 147.76 \tDA: 0.54\n",
      "ADVANC \tRMSE: 129.70\t MAE: 128.84 \tDA: 0.34\n",
      "JAS \tRMSE: 30.72\t MAE: 30.72 \tDA: 0.58\n",
      "TRUE \tRMSE: 32.44\t MAE: 32.44 \tDA: 0.59\n",
      "\n",
      "mean RMSE: 87.38\n",
      "mean MAE: 86.88\n",
      "mean DA: 0.4758\n"
     ]
    }
   ],
   "source": [
    "evaluator(model, x_test, le, isLSTM=True)"
   ]
  },
  {
   "cell_type": "code",
   "execution_count": 25,
   "metadata": {
    "collapsed": true
   },
   "outputs": [],
   "source": [
    "from keras.layers import Bidirectional"
   ]
  },
  {
   "cell_type": "code",
   "execution_count": 28,
   "metadata": {},
   "outputs": [
    {
     "name": "stderr",
     "output_type": "stream",
     "text": [
      "/usr/local/lib/python3.5/dist-packages/keras/utils/generic_utils.py:135: DeprecationWarning:\n",
      "\n",
      "inspect.getargspec() is deprecated, use inspect.signature() instead\n",
      "\n",
      "/usr/local/lib/python3.5/dist-packages/keras/utils/generic_utils.py:135: DeprecationWarning:\n",
      "\n",
      "inspect.getargspec() is deprecated, use inspect.signature() instead\n",
      "\n",
      "/usr/local/lib/python3.5/dist-packages/keras/utils/generic_utils.py:135: DeprecationWarning:\n",
      "\n",
      "inspect.getargspec() is deprecated, use inspect.signature() instead\n",
      "\n",
      "/usr/local/lib/python3.5/dist-packages/keras/utils/generic_utils.py:135: DeprecationWarning:\n",
      "\n",
      "inspect.getargspec() is deprecated, use inspect.signature() instead\n",
      "\n",
      "/usr/local/lib/python3.5/dist-packages/keras/utils/generic_utils.py:135: DeprecationWarning:\n",
      "\n",
      "inspect.getargspec() is deprecated, use inspect.signature() instead\n",
      "\n",
      "/usr/local/lib/python3.5/dist-packages/keras/layers/wrappers.py:257: DeprecationWarning:\n",
      "\n",
      "inspect.getargspec() is deprecated, use inspect.signature() instead\n",
      "\n",
      "/usr/local/lib/python3.5/dist-packages/keras/utils/generic_utils.py:135: DeprecationWarning:\n",
      "\n",
      "inspect.getargspec() is deprecated, use inspect.signature() instead\n",
      "\n",
      "/usr/local/lib/python3.5/dist-packages/keras/utils/generic_utils.py:135: DeprecationWarning:\n",
      "\n",
      "inspect.getargspec() is deprecated, use inspect.signature() instead\n",
      "\n",
      "/usr/local/lib/python3.5/dist-packages/keras/utils/generic_utils.py:135: DeprecationWarning:\n",
      "\n",
      "inspect.getargspec() is deprecated, use inspect.signature() instead\n",
      "\n",
      "/usr/local/lib/python3.5/dist-packages/keras/utils/generic_utils.py:135: DeprecationWarning:\n",
      "\n",
      "inspect.getargspec() is deprecated, use inspect.signature() instead\n",
      "\n",
      "/usr/local/lib/python3.5/dist-packages/keras/utils/generic_utils.py:135: DeprecationWarning:\n",
      "\n",
      "inspect.getargspec() is deprecated, use inspect.signature() instead\n",
      "\n",
      "/usr/local/lib/python3.5/dist-packages/keras/layers/wrappers.py:257: DeprecationWarning:\n",
      "\n",
      "inspect.getargspec() is deprecated, use inspect.signature() instead\n",
      "\n",
      "/usr/local/lib/python3.5/dist-packages/keras/utils/generic_utils.py:135: DeprecationWarning:\n",
      "\n",
      "inspect.getargspec() is deprecated, use inspect.signature() instead\n",
      "\n",
      "/usr/local/lib/python3.5/dist-packages/keras/utils/generic_utils.py:135: DeprecationWarning:\n",
      "\n",
      "inspect.getargspec() is deprecated, use inspect.signature() instead\n",
      "\n",
      "/usr/local/lib/python3.5/dist-packages/keras/utils/generic_utils.py:135: DeprecationWarning:\n",
      "\n",
      "inspect.getargspec() is deprecated, use inspect.signature() instead\n",
      "\n",
      "/usr/local/lib/python3.5/dist-packages/keras/utils/generic_utils.py:135: DeprecationWarning:\n",
      "\n",
      "inspect.getargspec() is deprecated, use inspect.signature() instead\n",
      "\n",
      "/usr/local/lib/python3.5/dist-packages/keras/utils/generic_utils.py:135: DeprecationWarning:\n",
      "\n",
      "inspect.getargspec() is deprecated, use inspect.signature() instead\n",
      "\n",
      "/usr/local/lib/python3.5/dist-packages/keras/layers/wrappers.py:257: DeprecationWarning:\n",
      "\n",
      "inspect.getargspec() is deprecated, use inspect.signature() instead\n",
      "\n",
      "/usr/local/lib/python3.5/dist-packages/keras/utils/generic_utils.py:135: DeprecationWarning:\n",
      "\n",
      "inspect.getargspec() is deprecated, use inspect.signature() instead\n",
      "\n",
      "/usr/local/lib/python3.5/dist-packages/keras/utils/generic_utils.py:135: DeprecationWarning:\n",
      "\n",
      "inspect.getargspec() is deprecated, use inspect.signature() instead\n",
      "\n",
      "/usr/local/lib/python3.5/dist-packages/keras/utils/generic_utils.py:135: DeprecationWarning:\n",
      "\n",
      "inspect.getargspec() is deprecated, use inspect.signature() instead\n",
      "\n",
      "/usr/local/lib/python3.5/dist-packages/keras/utils/generic_utils.py:135: DeprecationWarning:\n",
      "\n",
      "inspect.getargspec() is deprecated, use inspect.signature() instead\n",
      "\n",
      "/usr/local/lib/python3.5/dist-packages/keras/utils/generic_utils.py:135: DeprecationWarning:\n",
      "\n",
      "inspect.getargspec() is deprecated, use inspect.signature() instead\n",
      "\n",
      "/usr/local/lib/python3.5/dist-packages/keras/layers/wrappers.py:257: DeprecationWarning:\n",
      "\n",
      "inspect.getargspec() is deprecated, use inspect.signature() instead\n",
      "\n",
      "/usr/local/lib/python3.5/dist-packages/keras/utils/generic_utils.py:135: DeprecationWarning:\n",
      "\n",
      "inspect.getargspec() is deprecated, use inspect.signature() instead\n",
      "\n",
      "/usr/local/lib/python3.5/dist-packages/keras/utils/generic_utils.py:135: DeprecationWarning:\n",
      "\n",
      "inspect.getargspec() is deprecated, use inspect.signature() instead\n",
      "\n",
      "/usr/local/lib/python3.5/dist-packages/keras/utils/generic_utils.py:135: DeprecationWarning:\n",
      "\n",
      "inspect.getargspec() is deprecated, use inspect.signature() instead\n",
      "\n",
      "/usr/local/lib/python3.5/dist-packages/keras/utils/generic_utils.py:135: DeprecationWarning:\n",
      "\n",
      "inspect.getargspec() is deprecated, use inspect.signature() instead\n",
      "\n",
      "/usr/local/lib/python3.5/dist-packages/keras/utils/generic_utils.py:135: DeprecationWarning:\n",
      "\n",
      "inspect.getargspec() is deprecated, use inspect.signature() instead\n",
      "\n",
      "/usr/local/lib/python3.5/dist-packages/keras/layers/wrappers.py:257: DeprecationWarning:\n",
      "\n",
      "inspect.getargspec() is deprecated, use inspect.signature() instead\n",
      "\n",
      "/usr/local/lib/python3.5/dist-packages/keras/utils/generic_utils.py:135: DeprecationWarning:\n",
      "\n",
      "inspect.getargspec() is deprecated, use inspect.signature() instead\n",
      "\n",
      "/usr/local/lib/python3.5/dist-packages/keras/utils/generic_utils.py:135: DeprecationWarning:\n",
      "\n",
      "inspect.getargspec() is deprecated, use inspect.signature() instead\n",
      "\n"
     ]
    }
   ],
   "source": [
    "model = Sequential()\n",
    "model.add(Bidirectional(LSTM(128, return_sequences=True), input_shape=(train_X.shape[1], train_X.shape[2])))\n",
    "model.add(Bidirectional(LSTM(256, return_sequences=True)))\n",
    "model.add(Dropout(0.5))\n",
    "model.add(Bidirectional(LSTM(512, return_sequences=True)))\n",
    "model.add(Dropout(0.5))\n",
    "model.add(Bidirectional(LSTM(256, return_sequences=True)))\n",
    "model.add(Bidirectional(LSTM(128)))\n",
    "model.add(Dense(1))\n",
    "model.compile(loss='mean_absolute_error', optimizer='adam')"
   ]
  },
  {
   "cell_type": "code",
   "execution_count": null,
   "metadata": {},
   "outputs": [
    {
     "name": "stdout",
     "output_type": "stream",
     "text": [
      "Train on 1671 samples, validate on 296 samples\n"
     ]
    }
   ],
   "source": [
    "model.fit(x=train_X, \n",
    "          y=train_y,\n",
    "          epochs=1000,\n",
    "          batch_size=1024,\n",
    "          validation_data=(val_X, val_y),\n",
    "          verbose=1,\n",
    "          shuffle=False,\n",
    "          callbacks=[checkpoint, earlystopping, tensorboard]\n",
    "         )"
   ]
  },
  {
   "cell_type": "code",
   "execution_count": null,
   "metadata": {
    "collapsed": true
   },
   "outputs": [],
   "source": []
  }
 ],
 "metadata": {
  "kernelspec": {
   "display_name": "Python 3",
   "language": "python",
   "name": "python3"
  },
  "language_info": {
   "codemirror_mode": {
    "name": "ipython",
    "version": 3
   },
   "file_extension": ".py",
   "mimetype": "text/x-python",
   "name": "python",
   "nbconvert_exporter": "python",
   "pygments_lexer": "ipython3",
   "version": "3.5.2"
  }
 },
 "nbformat": 4,
 "nbformat_minor": 2
}
