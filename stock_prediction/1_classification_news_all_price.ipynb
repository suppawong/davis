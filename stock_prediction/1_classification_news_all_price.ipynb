{
 "cells": [
  {
   "cell_type": "markdown",
   "metadata": {},
   "source": [
    "# Classification with news (all) with price"
   ]
  },
  {
   "cell_type": "code",
   "execution_count": 1,
   "metadata": {},
   "outputs": [
    {
     "data": {
      "text/html": [
       "<style>.container { width:100% !important; }</style>"
      ],
      "text/plain": [
       "<IPython.core.display.HTML object>"
      ]
     },
     "metadata": {},
     "output_type": "display_data"
    },
    {
     "data": {
      "text/html": [
       "<script>requirejs.config({paths: { 'plotly': ['https://cdn.plot.ly/plotly-latest.min']},});if(!window.Plotly) {{require(['plotly'],function(plotly) {window.Plotly=plotly;});}}</script>"
      ],
      "text/vnd.plotly.v1+html": [
       "<script>requirejs.config({paths: { 'plotly': ['https://cdn.plot.ly/plotly-latest.min']},});if(!window.Plotly) {{require(['plotly'],function(plotly) {window.Plotly=plotly;});}}</script>"
      ]
     },
     "metadata": {},
     "output_type": "display_data"
    }
   ],
   "source": [
    "from IPython.core.display import display, HTML\n",
    "display(HTML(\"<style>.container { width:100% !important; }</style>\"))\n",
    "\n",
    "from IPython.core.interactiveshell import InteractiveShell\n",
    "InteractiveShell.ast_node_interactivity = \"all\"\n",
    "\n",
    "from plotly.offline import download_plotlyjs, init_notebook_mode, plot, iplot\n",
    "init_notebook_mode(connected=True)"
   ]
  },
  {
   "cell_type": "code",
   "execution_count": 13,
   "metadata": {},
   "outputs": [],
   "source": [
    "import numpy as np\n",
    "import pandas as pd\n",
    "import os\n",
    "import copy\n",
    "import sklearn\n",
    "import xgboost\n",
    "import plotly.graph_objs as go\n",
    "import matplotlib.pyplot as plt\n",
    "\n",
    "from pythainlp.corpus import stopwords\n",
    "from datetime import datetime, timedelta\n",
    "from tqdm import tqdm_notebook\n",
    "from sklearn import tree, ensemble, svm, grid_search, decomposition, cluster, naive_bayes\n",
    "from collections import Counter\n",
    "from copy import deepcopy\n",
    "% matplotlib inline\n",
    "\n",
    "target_stocks = ['BANPU','IRPC','PTT','BBL','KBANK','SCB','AOT','THAI','CPF','MINT',\n",
    "                 'TU','SCC','CPN','CK','CPALL','HMPRO','BDMS','BH','ADVANC','JAS','TRUE']"
   ]
  },
  {
   "cell_type": "code",
   "execution_count": 4,
   "metadata": {},
   "outputs": [],
   "source": [
    "# df_price = pd.read_csv('merged_2013_2018.csv')\n",
    "# df_price['Date'] = pd.to_datetime(df_price['Date'], format='%Y-%m-%d')\n",
    "# df_price = df_price.loc[df_price['Ticker'].isin(target_stocks)]\n",
    "# df_price['Date'] = df_price['Date'].dt.date\n",
    "# df_price = df_price.set_index('Date')\n",
    "# df_price.tail(1)\n",
    "# len(df_price)\n",
    "\n",
    "# df_kaohoon = pd.read_csv('data/kaohoon_all.csv')\n",
    "# df_kaohoon['Date'] = pd.to_datetime(df_kaohoon['Date'], format='%Y-%m-%d')\n",
    "# df_kaohoon = df_kaohoon.set_index('Date')\n",
    "# df_kaohoon = df_kaohoon[:'2018-2-8']\n",
    "# df_kaohoon.index = df_kaohoon.index.date\n",
    "# df_kaohoon.tail(1)\n",
    "# len(df_kaohoon)\n",
    "\n",
    "# df_moneych = pd.read_csv('data/moneychanel_all.csv')\n",
    "# df_moneych['Date'] = pd.to_datetime(df_moneych['Date'], format='%Y-%m-%d')\n",
    "# df_moneych = df_moneych.set_index('Date')\n",
    "# df_moneych = df_moneych[:'2018-2-8']\n",
    "# df_moneych.index = df_moneych.index.date\n",
    "# df_moneych.tail(1)\n",
    "# len(df_moneych)\n",
    "\n",
    "# df_news = pd.concat([df_moneych, df_kaohoon])\n",
    "# 'Total:', len(df_news.index)"
   ]
  },
  {
   "cell_type": "markdown",
   "metadata": {},
   "source": [
    "# Lag & Horizon Construction"
   ]
  },
  {
   "cell_type": "code",
   "execution_count": 6,
   "metadata": {},
   "outputs": [],
   "source": [
    "# N_lags = 3\n",
    "# N_horizon = 1\n",
    "\n",
    "# df_train = []\n",
    "# df_test = []\n",
    "# df_val = []\n",
    "# for stock in tqdm_notebook(target_stocks):\n",
    "#     news_stocks = []\n",
    "#     df_stock = df_news.loc[df_news['Ticker'] == stock]\n",
    "#     prev_date = None\n",
    "#     prev_text = None\n",
    "    \n",
    "#     pbar = tqdm_notebook(total=len(df_stock))\n",
    "#     for date, row in df_stock.iterrows():\n",
    "#         if prev_date == None:\n",
    "#             prev_date = date\n",
    "#             prev_text = row['Text']\n",
    "#         elif prev_date != date:\n",
    "#             # horizon\n",
    "#             tmp_date = copy.deepcopy(prev_date)\n",
    "#             tmp_date += timedelta(days=1)\n",
    "#             prices = []\n",
    "#             count_lags = 0 \n",
    "#             while count_lags < N_horizon:\n",
    "#                 price = df_price.loc[(df_price.index == tmp_date) & (df_price['Ticker'] == stock)].values\n",
    "#                 tmp_date += timedelta(days=1)\n",
    "#                 if len(price) == 0: continue\n",
    "#                 prices.append(price[0][4]) # Close price next day(s)\n",
    "#                 count_lags+=1\n",
    "            \n",
    "#             # lag\n",
    "#             tmp_date = copy.deepcopy(prev_date)\n",
    "#             count_lags = 0 \n",
    "#             while count_lags < N_lags:\n",
    "#                 price = df_price.loc[(df_price.index == tmp_date) & (df_price['Ticker'] == stock)].values\n",
    "#                 tmp_date -= timedelta(days=1)\n",
    "#                 if len(price) == 0: continue\n",
    "#                 for val in price[0][:-1]: \n",
    "#                     if type(val) != str: prices.append(val)\n",
    "#                 count_lags+=1\n",
    "\n",
    "#             news_stocks.append([prev_date, stock, prev_text] + prices)\n",
    "            \n",
    "#             prev_date = date\n",
    "#             prev_text = row['Text']\n",
    "#         elif prev_date == date:\n",
    "#             prev_text += ' '+row['Text']\n",
    "        \n",
    "#         pbar.update(1)\n",
    "#     pbar.close()\n",
    "\n",
    "#     news_stocks = pd.DataFrame.from_records(news_stocks)\n",
    "#     news_stocks.columns = ['Date', 'Ticker', 'Text', \n",
    "#                            'Close(t+1)', # 'Close(t+2)','Close(t+3)','Close(t+4)','Close(t+5)',\n",
    "#                            'Open(t)', 'High(t)', 'Low(t)', 'Close(t)',\n",
    "#                            'Open(t-1)', 'High(t-1)', 'Low(t-1)', 'Close(t-1)',\n",
    "#                            'Open(t-2)', 'High(t-2)', 'Low(t-2)', 'Close(t-2)',\n",
    "# #                            'Open(t-3)', 'High(t-3)', 'Low(t-3)', 'Close(t-3)',\n",
    "# #                            'Open(t-4)', 'High(t-4)', 'Low(t-4)', 'Close(t-4)',\n",
    "# #                            'Open(t-5)', 'High(t-5)', 'Low(t-5)', 'Close(t-5)'\n",
    "#                           ]\n",
    "#     news_stocks = news_stocks.set_index('Date')\n",
    "    \n",
    "#     train_size = int(len(news_stocks) * 0.80)\n",
    "#     test_size = int(len(news_stocks) * 0.10)\n",
    "    \n",
    "#     train = news_stocks.iloc[:train_size]\n",
    "#     test = news_stocks.iloc[train_size: train_size + test_size]\n",
    "#     val = news_stocks.iloc[train_size + test_size: ]\n",
    "\n",
    "#     print(stock, ':\\t',len(train), len(test), len(val))    \n",
    "#     df_train.append(train)\n",
    "#     df_test.append(test)\n",
    "#     df_val.append(val)\n",
    "\n",
    "\n",
    "# df_train = pd.concat(df_train, axis=0)\n",
    "# df_test = pd.concat(df_test, axis=0)\n",
    "# df_val = pd.concat(df_val, axis=0)\n",
    "\n",
    "# len(df_train), len(df_test), len(df_val) \n",
    "# df_train.head(1)\n",
    "# df_test.head(1)\n",
    "# df_val.head(1)"
   ]
  },
  {
   "cell_type": "code",
   "execution_count": 29,
   "metadata": {},
   "outputs": [],
   "source": [
    "# df_train.to_csv('data/df_train_news.csv')\n",
    "# df_test.to_csv('data/df_test_news.csv')\n",
    "# df_val.to_csv('data/df_val_news.csv')"
   ]
  },
  {
   "cell_type": "code",
   "execution_count": 7,
   "metadata": {},
   "outputs": [],
   "source": [
    "df_train = pd.read_csv('data/df_train_news.csv')\n",
    "df_train['Date'] = pd.to_datetime(df_train['Date'], format='%Y-%m-%d')\n",
    "df_train = df_train.set_index('Date')\n",
    "\n",
    "df_test = pd.read_csv('data/df_test_news.csv')\n",
    "df_test['Date'] = pd.to_datetime(df_test['Date'], format='%Y-%m-%d')\n",
    "df_test = df_test.set_index('Date')\n",
    "\n",
    "df_val = pd.read_csv('data/df_val_news.csv')\n",
    "df_val['Date'] = pd.to_datetime(df_val['Date'], format='%Y-%m-%d')\n",
    "df_val = df_val.set_index('Date')\n",
    "\n",
    "df_train = df_train[['Ticker', 'Text', 'Close(t+1)', 'Close(t)', 'Close(t-1)', 'Close(t-2)']]\n",
    "df_test = df_test[['Ticker', 'Text', 'Close(t+1)', 'Close(t)', 'Close(t-1)', 'Close(t-2)']]\n",
    "df_val = df_val[['Ticker', 'Text', 'Close(t+1)', 'Close(t)', 'Close(t-1)', 'Close(t-2)']]"
   ]
  },
  {
   "cell_type": "code",
   "execution_count": 8,
   "metadata": {},
   "outputs": [
    {
     "data": {
      "text/plain": [
       "(20466, 6)"
      ]
     },
     "execution_count": 8,
     "metadata": {},
     "output_type": "execute_result"
    },
    {
     "data": {
      "text/plain": [
       "(2549, 6)"
      ]
     },
     "execution_count": 8,
     "metadata": {},
     "output_type": "execute_result"
    },
    {
     "data": {
      "text/plain": [
       "(2577, 6)"
      ]
     },
     "execution_count": 8,
     "metadata": {},
     "output_type": "execute_result"
    }
   ],
   "source": [
    "def generate_target_class(df_tmp):\n",
    "    df_tmp['changes'] = df_tmp['Close(t+1)'] - df_tmp['Close(t)']\n",
    "    df_tmp['class'] = np.where(df_tmp['changes']>=0, 1, 0)\n",
    "    df_tmp = df_tmp.drop(['Close(t+1)', 'changes'], axis=1)\n",
    "    return df_tmp\n",
    "\n",
    "df_train = generate_target_class(df_train)\n",
    "df_test = generate_target_class(df_test)\n",
    "df_val = generate_target_class(df_val)\n",
    "\n",
    "df_train.shape\n",
    "df_test.shape\n",
    "df_val.shape"
   ]
  },
  {
   "cell_type": "code",
   "execution_count": 9,
   "metadata": {},
   "outputs": [
    {
     "data": {
      "text/html": [
       "<div>\n",
       "<style scoped>\n",
       "    .dataframe tbody tr th:only-of-type {\n",
       "        vertical-align: middle;\n",
       "    }\n",
       "\n",
       "    .dataframe tbody tr th {\n",
       "        vertical-align: top;\n",
       "    }\n",
       "\n",
       "    .dataframe thead th {\n",
       "        text-align: right;\n",
       "    }\n",
       "</style>\n",
       "<table border=\"1\" class=\"dataframe\">\n",
       "  <thead>\n",
       "    <tr style=\"text-align: right;\">\n",
       "      <th></th>\n",
       "      <th>Ticker</th>\n",
       "      <th>Close(t)</th>\n",
       "      <th>Close(t-1)</th>\n",
       "      <th>Close(t-2)</th>\n",
       "      <th>class</th>\n",
       "    </tr>\n",
       "    <tr>\n",
       "      <th>Date</th>\n",
       "      <th></th>\n",
       "      <th></th>\n",
       "      <th></th>\n",
       "      <th></th>\n",
       "      <th></th>\n",
       "    </tr>\n",
       "  </thead>\n",
       "  <tbody>\n",
       "    <tr>\n",
       "      <th>2015-02-03</th>\n",
       "      <td>2</td>\n",
       "      <td>25.5</td>\n",
       "      <td>24.3</td>\n",
       "      <td>24.3</td>\n",
       "      <td>1</td>\n",
       "    </tr>\n",
       "  </tbody>\n",
       "</table>\n",
       "</div>"
      ],
      "text/plain": [
       "            Ticker  Close(t)  Close(t-1)  Close(t-2)  class\n",
       "Date                                                       \n",
       "2015-02-03       2      25.5        24.3        24.3      1"
      ]
     },
     "execution_count": 9,
     "metadata": {},
     "output_type": "execute_result"
    },
    {
     "name": "stdout",
     "output_type": "stream",
     "text": [
      "ADVANC, AOT, BANPU, BBL, BDMS, BH, CK, CPALL, CPF, CPN, HMPRO, IRPC, JAS, KBANK, MINT, PTT, SCB, SCC, THAI, TRUE, TU\n"
     ]
    }
   ],
   "source": [
    "# replace Text with TF-IDF vector\n",
    "x_train = df_train.drop(['Text'], axis=1)\n",
    "x_test = df_test.drop(['Text'], axis=1)\n",
    "x_val = df_val.drop(['Text'], axis=1)\n",
    "\n",
    "# Label Encoding\n",
    "le = sklearn.preprocessing.LabelEncoder()\n",
    "x_train['Ticker'] = le.fit_transform(x_train['Ticker'])\n",
    "x_test['Ticker'] = le.transform(x_test['Ticker'])\n",
    "x_val['Ticker'] = le.transform(x_val['Ticker'])\n",
    "\n",
    "x_train.head(1)\n",
    "# x_test.head(2)\n",
    "# x_val.head(2)\n",
    "print(\", \".join(le.classes_))"
   ]
  },
  {
   "cell_type": "markdown",
   "metadata": {},
   "source": [
    "# Create x_train and y_train"
   ]
  },
  {
   "cell_type": "code",
   "execution_count": 10,
   "metadata": {},
   "outputs": [
    {
     "data": {
      "text/plain": [
       "((20466, 4), (20466, 1))"
      ]
     },
     "execution_count": 10,
     "metadata": {},
     "output_type": "execute_result"
    },
    {
     "data": {
      "text/plain": [
       "((2577, 4), (2577, 1))"
      ]
     },
     "execution_count": 10,
     "metadata": {},
     "output_type": "execute_result"
    }
   ],
   "source": [
    "Horizon = 'class'\n",
    "y_train = x_train[[Horizon]]\n",
    "x_train = x_train.drop([Horizon], axis=1).copy()\n",
    "x_train.shape, y_train.shape\n",
    "\n",
    "y_val = x_val[[Horizon]]\n",
    "x_val = x_val.drop([Horizon], axis=1).copy()\n",
    "x_val.shape, y_val.shape"
   ]
  },
  {
   "cell_type": "markdown",
   "metadata": {},
   "source": [
    "# Linear Regression"
   ]
  },
  {
   "cell_type": "code",
   "execution_count": 14,
   "metadata": {},
   "outputs": [
    {
     "data": {
      "text/plain": [
       "LogisticRegression(C=1.0, class_weight=None, dual=False, fit_intercept=True,\n",
       "          intercept_scaling=1, max_iter=100, multi_class='ovr', n_jobs=1,\n",
       "          penalty='l2', random_state=None, solver='liblinear', tol=0.0001,\n",
       "          verbose=0, warm_start=False)"
      ]
     },
     "execution_count": 14,
     "metadata": {},
     "output_type": "execute_result"
    },
    {
     "name": "stdout",
     "output_type": "stream",
     "text": [
      "BANPU \tacc: 0.58\n",
      "IRPC \tacc: 0.69\n",
      "PTT \tacc: 0.56\n",
      "BBL \tacc: 0.68\n",
      "KBANK \tacc: 0.61\n",
      "SCB \tacc: 0.61\n",
      "AOT \tacc: 0.72\n",
      "THAI \tacc: 0.52\n",
      "CPF \tacc: 0.59\n",
      "MINT \tacc: 0.61\n",
      "TU \tacc: 0.57\n",
      "SCC \tacc: 0.56\n",
      "CPN \tacc: 0.56\n",
      "CK \tacc: 0.60\n",
      "CPALL \tacc: 0.69\n",
      "HMPRO \tacc: 0.66\n",
      "BDMS \tacc: 0.62\n",
      "BH \tacc: 0.70\n",
      "ADVANC \tacc: 0.58\n",
      "JAS \tacc: 0.52\n",
      "TRUE \tacc: 0.55\n",
      "mean Accuracy: 0.6096\n"
     ]
    }
   ],
   "source": [
    "regr = sklearn.linear_model.LogisticRegression()\n",
    "regr.fit(x_train, np.squeeze(y_train.values))\n",
    "\n",
    "evaluator(regr, x_test, le)"
   ]
  },
  {
   "cell_type": "code",
   "execution_count": 16,
   "metadata": {},
   "outputs": [
    {
     "data": {
      "text/plain": [
       "Counter({0: 262, 1: 20204})"
      ]
     },
     "execution_count": 16,
     "metadata": {},
     "output_type": "execute_result"
    },
    {
     "data": {
      "text/plain": [
       "Counter({0: 16, 1: 2561})"
      ]
     },
     "execution_count": 16,
     "metadata": {},
     "output_type": "execute_result"
    }
   ],
   "source": [
    "Counter(regr.predict(x_train))\n",
    "Counter(regr.predict(x_val))"
   ]
  },
  {
   "cell_type": "markdown",
   "metadata": {},
   "source": [
    "# Decistion Tree Regressor"
   ]
  },
  {
   "cell_type": "code",
   "execution_count": 21,
   "metadata": {},
   "outputs": [
    {
     "data": {
      "application/vnd.jupyter.widget-view+json": {
       "model_id": "0068a43eaf1145b7bb57dc3356186bb1",
       "version_major": 2,
       "version_minor": 0
      },
      "text/html": [
       "<p>Failed to display Jupyter Widget of type <code>HBox</code>.</p>\n",
       "<p>\n",
       "  If you're reading this message in the Jupyter Notebook or JupyterLab Notebook, it may mean\n",
       "  that the widgets JavaScript is still loading. If this message persists, it\n",
       "  likely means that the widgets JavaScript library is either not installed or\n",
       "  not enabled. See the <a href=\"https://ipywidgets.readthedocs.io/en/stable/user_install.html\">Jupyter\n",
       "  Widgets Documentation</a> for setup instructions.\n",
       "</p>\n",
       "<p>\n",
       "  If you're reading this message in another frontend (for example, a static\n",
       "  rendering on GitHub or <a href=\"https://nbviewer.jupyter.org/\">NBViewer</a>),\n",
       "  it may mean that your frontend doesn't currently support widgets.\n",
       "</p>\n"
      ],
      "text/plain": [
       "HBox(children=(IntProgress(value=0, max=36), HTML(value='')))"
      ]
     },
     "metadata": {},
     "output_type": "display_data"
    },
    {
     "name": "stdout",
     "output_type": "stream",
     "text": [
      "\n"
     ]
    },
    {
     "data": {
      "text/plain": [
       "0.5979821497865735"
      ]
     },
     "execution_count": 21,
     "metadata": {},
     "output_type": "execute_result"
    },
    {
     "data": {
      "text/plain": [
       "{'max_depth': 14,\n",
       " 'max_features': None,\n",
       " 'min_samples_leaf': 1,\n",
       " 'min_samples_split': 2,\n",
       " 'random_state': 100}"
      ]
     },
     "execution_count": 21,
     "metadata": {},
     "output_type": "execute_result"
    },
    {
     "data": {
      "text/plain": [
       "DecisionTreeClassifier(class_weight=None, criterion='gini', max_depth=14,\n",
       "            max_features=None, max_leaf_nodes=None,\n",
       "            min_impurity_decrease=0.0, min_impurity_split=None,\n",
       "            min_samples_leaf=1, min_samples_split=2,\n",
       "            min_weight_fraction_leaf=0.0, presort=False, random_state=100,\n",
       "            splitter='best')"
      ]
     },
     "execution_count": 21,
     "metadata": {},
     "output_type": "execute_result"
    },
    {
     "name": "stdout",
     "output_type": "stream",
     "text": [
      "BANPU \tacc: 0.60\n",
      "IRPC \tacc: 0.69\n",
      "PTT \tacc: 0.75\n",
      "BBL \tacc: 0.67\n",
      "KBANK \tacc: 0.61\n",
      "SCB \tacc: 0.60\n",
      "AOT \tacc: 0.69\n",
      "THAI \tacc: 0.56\n",
      "CPF \tacc: 0.47\n",
      "MINT \tacc: 0.61\n",
      "TU \tacc: 0.58\n",
      "SCC \tacc: 0.58\n",
      "CPN \tacc: 0.56\n",
      "CK \tacc: 0.65\n",
      "CPALL \tacc: 0.69\n",
      "HMPRO \tacc: 0.60\n",
      "BDMS \tacc: 0.60\n",
      "BH \tacc: 0.69\n",
      "ADVANC \tacc: 0.59\n",
      "JAS \tacc: 0.46\n",
      "TRUE \tacc: 0.55\n",
      "mean Accuracy: 0.6099\n"
     ]
    },
    {
     "data": {
      "text/plain": [
       "Counter({0: 4190, 1: 16276})"
      ]
     },
     "execution_count": 21,
     "metadata": {},
     "output_type": "execute_result"
    },
    {
     "data": {
      "text/plain": [
       "Counter({0: 346, 1: 2231})"
      ]
     },
     "execution_count": 21,
     "metadata": {},
     "output_type": "execute_result"
    }
   ],
   "source": [
    "param_dt = {\n",
    "#     'criterion':['mse'],\n",
    "    'max_depth':[6,8,10,12,14,16],\n",
    "    'max_features':[None],\n",
    "    'min_samples_leaf':[1,2,4],\n",
    "    'min_samples_split':[2,4],\n",
    "    'random_state': [100]\n",
    "}\n",
    "grids = grid_search.ParameterGrid(param_dt)\n",
    "\n",
    "max_acc = -1\n",
    "best_param = {}\n",
    "dt = None\n",
    "for param in tqdm_notebook(grids):\n",
    "    model = tree.DecisionTreeClassifier(**param)\n",
    "    _=model.fit(x_train, np.squeeze(y_train.values))\n",
    "    acc = sklearn.metrics.accuracy_score(y_val.values, model.predict(x_val))\n",
    "    if acc > max_acc:\n",
    "        max_acc = deepcopy(acc)\n",
    "        best_param = deepcopy(param)\n",
    "        dt = deepcopy(model)\n",
    "max_acc\n",
    "best_param\n",
    "dt\n",
    "evaluator(dt, x_test, le)\n",
    "\n",
    "Counter(dt.predict(x_train))\n",
    "Counter(dt.predict(x_val))"
   ]
  },
  {
   "cell_type": "markdown",
   "metadata": {},
   "source": [
    "# Random Forest Regrssor"
   ]
  },
  {
   "cell_type": "code",
   "execution_count": 23,
   "metadata": {},
   "outputs": [
    {
     "data": {
      "application/vnd.jupyter.widget-view+json": {
       "model_id": "96a0945fa8784192be856110d89e622b",
       "version_major": 2,
       "version_minor": 0
      },
      "text/html": [
       "<p>Failed to display Jupyter Widget of type <code>HBox</code>.</p>\n",
       "<p>\n",
       "  If you're reading this message in the Jupyter Notebook or JupyterLab Notebook, it may mean\n",
       "  that the widgets JavaScript is still loading. If this message persists, it\n",
       "  likely means that the widgets JavaScript library is either not installed or\n",
       "  not enabled. See the <a href=\"https://ipywidgets.readthedocs.io/en/stable/user_install.html\">Jupyter\n",
       "  Widgets Documentation</a> for setup instructions.\n",
       "</p>\n",
       "<p>\n",
       "  If you're reading this message in another frontend (for example, a static\n",
       "  rendering on GitHub or <a href=\"https://nbviewer.jupyter.org/\">NBViewer</a>),\n",
       "  it may mean that your frontend doesn't currently support widgets.\n",
       "</p>\n"
      ],
      "text/plain": [
       "HBox(children=(IntProgress(value=0, max=84), HTML(value='')))"
      ]
     },
     "metadata": {},
     "output_type": "display_data"
    },
    {
     "name": "stdout",
     "output_type": "stream",
     "text": [
      "\n"
     ]
    },
    {
     "data": {
      "text/plain": [
       "0.629802095459837"
      ]
     },
     "execution_count": 23,
     "metadata": {},
     "output_type": "execute_result"
    },
    {
     "data": {
      "text/plain": [
       "{'max_depth': 16,\n",
       " 'max_features': None,\n",
       " 'min_samples_leaf': 1,\n",
       " 'min_samples_split': 2,\n",
       " 'n_jobs': -1,\n",
       " 'random_state': 100}"
      ]
     },
     "execution_count": 23,
     "metadata": {},
     "output_type": "execute_result"
    },
    {
     "data": {
      "text/plain": [
       "RandomForestClassifier(bootstrap=True, class_weight=None, criterion='gini',\n",
       "            max_depth=16, max_features=None, max_leaf_nodes=None,\n",
       "            min_impurity_decrease=0.0, min_impurity_split=None,\n",
       "            min_samples_leaf=1, min_samples_split=2,\n",
       "            min_weight_fraction_leaf=0.0, n_estimators=10, n_jobs=-1,\n",
       "            oob_score=False, random_state=100, verbose=0, warm_start=False)"
      ]
     },
     "execution_count": 23,
     "metadata": {},
     "output_type": "execute_result"
    },
    {
     "name": "stdout",
     "output_type": "stream",
     "text": [
      "BANPU \tacc: 0.57\n",
      "IRPC \tacc: 0.70\n",
      "PTT \tacc: 0.75\n",
      "BBL \tacc: 0.62\n",
      "KBANK \tacc: 0.65\n",
      "SCB \tacc: 0.61\n",
      "AOT \tacc: 0.73\n",
      "THAI \tacc: 0.59\n",
      "CPF \tacc: 0.56\n",
      "MINT \tacc: 0.59\n",
      "TU \tacc: 0.60\n",
      "SCC \tacc: 0.52\n",
      "CPN \tacc: 0.56\n",
      "CK \tacc: 0.55\n",
      "CPALL \tacc: 0.56\n",
      "HMPRO \tacc: 0.75\n",
      "BDMS \tacc: 0.56\n",
      "BH \tacc: 0.64\n",
      "ADVANC \tacc: 0.77\n",
      "JAS \tacc: 0.58\n",
      "TRUE \tacc: 0.66\n",
      "mean Accuracy: 0.6264\n"
     ]
    }
   ],
   "source": [
    "grids = sklearn.grid_search.ParameterGrid({\n",
    "#     'criterion':['mse'],\n",
    "    'max_depth':[4,6,8,10,12,14,16],\n",
    "    'max_features':[None],\n",
    "    'min_samples_leaf':[1,2,3,4],\n",
    "    'min_samples_split':[2,3,4],\n",
    "    'random_state': [100],\n",
    "    'n_jobs':[-1]\n",
    "})\n",
    "\n",
    "max_acc = -1\n",
    "best_param = {}\n",
    "rf = None\n",
    "for param in tqdm_notebook(grids):\n",
    "    model = ensemble.RandomForestClassifier(**param)\n",
    "    _=model.fit(x_train, np.squeeze(y_train.values))\n",
    "    acc = sklearn.metrics.accuracy_score(np.squeeze(y_val.values), model.predict(x_val))\n",
    "    if acc > max_acc:\n",
    "        max_acc = deepcopy(acc)\n",
    "        best_param = deepcopy(param)\n",
    "        rf = deepcopy(model)\n",
    "max_acc\n",
    "best_param\n",
    "rf\n",
    "evaluator(rf, x_test, le)"
   ]
  },
  {
   "cell_type": "code",
   "execution_count": 24,
   "metadata": {},
   "outputs": [
    {
     "data": {
      "text/plain": [
       "Counter({0: 6424, 1: 14042})"
      ]
     },
     "execution_count": 24,
     "metadata": {},
     "output_type": "execute_result"
    },
    {
     "data": {
      "text/plain": [
       "Counter({0: 766, 1: 1811})"
      ]
     },
     "execution_count": 24,
     "metadata": {},
     "output_type": "execute_result"
    }
   ],
   "source": [
    "Counter(rf.predict(x_train))\n",
    "Counter(rf.predict(x_val))"
   ]
  },
  {
   "cell_type": "markdown",
   "metadata": {},
   "source": [
    "# AdaBoost Regressor"
   ]
  },
  {
   "cell_type": "code",
   "execution_count": 25,
   "metadata": {},
   "outputs": [
    {
     "data": {
      "application/vnd.jupyter.widget-view+json": {
       "model_id": "5b42673d1190463d8ee62a8a30e65da2",
       "version_major": 2,
       "version_minor": 0
      },
      "text/html": [
       "<p>Failed to display Jupyter Widget of type <code>HBox</code>.</p>\n",
       "<p>\n",
       "  If you're reading this message in the Jupyter Notebook or JupyterLab Notebook, it may mean\n",
       "  that the widgets JavaScript is still loading. If this message persists, it\n",
       "  likely means that the widgets JavaScript library is either not installed or\n",
       "  not enabled. See the <a href=\"https://ipywidgets.readthedocs.io/en/stable/user_install.html\">Jupyter\n",
       "  Widgets Documentation</a> for setup instructions.\n",
       "</p>\n",
       "<p>\n",
       "  If you're reading this message in another frontend (for example, a static\n",
       "  rendering on GitHub or <a href=\"https://nbviewer.jupyter.org/\">NBViewer</a>),\n",
       "  it may mean that your frontend doesn't currently support widgets.\n",
       "</p>\n"
      ],
      "text/plain": [
       "HBox(children=(IntProgress(value=0, max=6), HTML(value='')))"
      ]
     },
     "metadata": {},
     "output_type": "display_data"
    },
    {
     "name": "stdout",
     "output_type": "stream",
     "text": [
      "\n"
     ]
    },
    {
     "data": {
      "text/plain": [
       "0.6418315871168024"
      ]
     },
     "execution_count": 25,
     "metadata": {},
     "output_type": "execute_result"
    },
    {
     "data": {
      "text/plain": [
       "{'base_estimator': RandomForestClassifier(bootstrap=True, class_weight=None, criterion='gini',\n",
       "             max_depth=16, max_features=None, max_leaf_nodes=None,\n",
       "             min_impurity_decrease=0.0, min_impurity_split=None,\n",
       "             min_samples_leaf=1, min_samples_split=2,\n",
       "             min_weight_fraction_leaf=0.0, n_estimators=10, n_jobs=-1,\n",
       "             oob_score=False, random_state=100, verbose=0, warm_start=False),\n",
       " 'learning_rate': 0.3,\n",
       " 'n_estimators': 75,\n",
       " 'random_state': 100}"
      ]
     },
     "execution_count": 25,
     "metadata": {},
     "output_type": "execute_result"
    },
    {
     "data": {
      "text/plain": [
       "AdaBoostClassifier(algorithm='SAMME.R',\n",
       "          base_estimator=RandomForestClassifier(bootstrap=True, class_weight=None, criterion='gini',\n",
       "            max_depth=16, max_features=None, max_leaf_nodes=None,\n",
       "            min_impurity_decrease=0.0, min_impurity_split=None,\n",
       "            min_samples_leaf=1, min_samples_split=2,\n",
       "            min_weight_fraction_leaf=0.0, n_estimators=10, n_jobs=-1,\n",
       "            oob_score=False, random_state=100, verbose=0, warm_start=False),\n",
       "          learning_rate=0.3, n_estimators=75, random_state=100)"
      ]
     },
     "execution_count": 25,
     "metadata": {},
     "output_type": "execute_result"
    },
    {
     "name": "stdout",
     "output_type": "stream",
     "text": [
      "BANPU \tacc: 0.66\n",
      "IRPC \tacc: 0.68\n",
      "PTT \tacc: 0.74\n",
      "BBL \tacc: 0.73\n",
      "KBANK \tacc: 0.67\n",
      "SCB \tacc: 0.72\n",
      "AOT \tacc: 0.76\n",
      "THAI \tacc: 0.58\n",
      "CPF \tacc: 0.56\n",
      "MINT \tacc: 0.63\n",
      "TU \tacc: 0.65\n",
      "SCC \tacc: 0.65\n",
      "CPN \tacc: 0.60\n",
      "CK \tacc: 0.59\n",
      "CPALL \tacc: 0.54\n",
      "HMPRO \tacc: 0.61\n",
      "BDMS \tacc: 0.71\n",
      "BH \tacc: 0.53\n",
      "ADVANC \tacc: 0.76\n",
      "JAS \tacc: 0.50\n",
      "TRUE \tacc: 0.61\n",
      "mean Accuracy: 0.6418\n"
     ]
    }
   ],
   "source": [
    "grids = sklearn.grid_search.ParameterGrid({\n",
    "    'base_estimator':[dt, rf],\n",
    "    'n_estimators':[50,75,100],\n",
    "    'learning_rate':[0.3],\n",
    "#     'loss':['square'],\n",
    "    'random_state': [100]\n",
    "})\n",
    "\n",
    "max_acc = -1\n",
    "best_param = {}\n",
    "ada = None\n",
    "for param in tqdm_notebook(grids):\n",
    "    model = ensemble.AdaBoostClassifier(**param)\n",
    "    _=model.fit(x_train, np.squeeze(y_train.values))\n",
    "    acc = sklearn.metrics.accuracy_score(np.squeeze(y_val.values), model.predict(x_val))\n",
    "    if acc > max_acc:\n",
    "        max_acc = deepcopy(acc)\n",
    "        best_param = deepcopy(param)\n",
    "        ada = deepcopy(model)\n",
    "max_acc\n",
    "best_param\n",
    "ada\n",
    "evaluator(ada, x_test, le)"
   ]
  },
  {
   "cell_type": "code",
   "execution_count": 36,
   "metadata": {},
   "outputs": [
    {
     "data": {
      "text/plain": [
       "Counter({0: 8817, 1: 11649})"
      ]
     },
     "execution_count": 36,
     "metadata": {},
     "output_type": "execute_result"
    },
    {
     "data": {
      "text/plain": [
       "Counter({0: 979, 1: 1598})"
      ]
     },
     "execution_count": 36,
     "metadata": {},
     "output_type": "execute_result"
    }
   ],
   "source": [
    "Counter(ada.predict(x_train))\n",
    "Counter(ada.predict(x_val))"
   ]
  },
  {
   "cell_type": "markdown",
   "metadata": {},
   "source": [
    "# Gradient Boosting Regressor"
   ]
  },
  {
   "cell_type": "code",
   "execution_count": 35,
   "metadata": {},
   "outputs": [
    {
     "data": {
      "application/vnd.jupyter.widget-view+json": {
       "model_id": "6de19facc68840d08790238e0ee61af2",
       "version_major": 2,
       "version_minor": 0
      },
      "text/html": [
       "<p>Failed to display Jupyter Widget of type <code>HBox</code>.</p>\n",
       "<p>\n",
       "  If you're reading this message in the Jupyter Notebook or JupyterLab Notebook, it may mean\n",
       "  that the widgets JavaScript is still loading. If this message persists, it\n",
       "  likely means that the widgets JavaScript library is either not installed or\n",
       "  not enabled. See the <a href=\"https://ipywidgets.readthedocs.io/en/stable/user_install.html\">Jupyter\n",
       "  Widgets Documentation</a> for setup instructions.\n",
       "</p>\n",
       "<p>\n",
       "  If you're reading this message in another frontend (for example, a static\n",
       "  rendering on GitHub or <a href=\"https://nbviewer.jupyter.org/\">NBViewer</a>),\n",
       "  it may mean that your frontend doesn't currently support widgets.\n",
       "</p>\n"
      ],
      "text/plain": [
       "HBox(children=(IntProgress(value=0, max=12), HTML(value='')))"
      ]
     },
     "metadata": {},
     "output_type": "display_data"
    },
    {
     "name": "stdout",
     "output_type": "stream",
     "text": [
      "\n"
     ]
    },
    {
     "data": {
      "text/plain": [
       "0.6410554908808692"
      ]
     },
     "execution_count": 35,
     "metadata": {},
     "output_type": "execute_result"
    },
    {
     "data": {
      "text/plain": [
       "{'learning_rate': 0.3,\n",
       " 'max_depth': 25,\n",
       " 'n_estimators': 100,\n",
       " 'random_state': 100}"
      ]
     },
     "execution_count": 35,
     "metadata": {},
     "output_type": "execute_result"
    },
    {
     "data": {
      "text/plain": [
       "GradientBoostingClassifier(criterion='friedman_mse', init=None,\n",
       "              learning_rate=0.3, loss='deviance', max_depth=25,\n",
       "              max_features=None, max_leaf_nodes=None,\n",
       "              min_impurity_decrease=0.0, min_impurity_split=None,\n",
       "              min_samples_leaf=1, min_samples_split=2,\n",
       "              min_weight_fraction_leaf=0.0, n_estimators=100,\n",
       "              presort='auto', random_state=100, subsample=1.0, verbose=0,\n",
       "              warm_start=False)"
      ]
     },
     "execution_count": 35,
     "metadata": {},
     "output_type": "execute_result"
    }
   ],
   "source": [
    "grids = sklearn.grid_search.ParameterGrid({\n",
    "#     'criterion':['friedman_mse', 'mse'],\n",
    "    'n_estimators':[50,75,100],\n",
    "    'learning_rate':[0.3],\n",
    "    'max_depth':[10,15,20,25],\n",
    "    'random_state': [100],\n",
    "#     'presort':[True, False]\n",
    "})\n",
    "\n",
    "max_acc = -1\n",
    "best_param = {}\n",
    "gb = None\n",
    "for param in tqdm_notebook(grids):\n",
    "    model = ensemble.GradientBoostingClassifier(**param)\n",
    "    _=model.fit(x_train, np.squeeze(y_train.values))\n",
    "    acc = sklearn.metrics.accuracy_score(np.squeeze(y_val.values), model.predict(x_val))\n",
    "    if acc > max_acc:\n",
    "        max_acc = deepcopy(acc)\n",
    "        best_param = deepcopy(param)\n",
    "        gb = deepcopy(model)\n",
    "max_acc\n",
    "best_param\n",
    "gb"
   ]
  },
  {
   "cell_type": "code",
   "execution_count": 44,
   "metadata": {},
   "outputs": [
    {
     "name": "stdout",
     "output_type": "stream",
     "text": [
      "BANPU \tacc: 0.63\n",
      "IRPC \tacc: 0.65\n",
      "PTT \tacc: 0.77\n",
      "BBL \tacc: 0.77\n",
      "KBANK \tacc: 0.70\n",
      "SCB \tacc: 0.67\n",
      "AOT \tacc: 0.84\n",
      "THAI \tacc: 0.54\n",
      "CPF \tacc: 0.55\n",
      "MINT \tacc: 0.66\n",
      "TU \tacc: 0.57\n",
      "SCC \tacc: 0.68\n",
      "CPN \tacc: 0.62\n",
      "CK \tacc: 0.57\n",
      "CPALL \tacc: 0.58\n",
      "HMPRO \tacc: 0.69\n",
      "BDMS \tacc: 0.65\n",
      "BH \tacc: 0.53\n",
      "ADVANC \tacc: 0.72\n",
      "JAS \tacc: 0.49\n",
      "TRUE \tacc: 0.59\n",
      "mean Accuracy: 0.6414\n"
     ]
    }
   ],
   "source": [
    "evaluator(gb, x_test, le)"
   ]
  },
  {
   "cell_type": "markdown",
   "metadata": {},
   "source": [
    "# XGBoost Regressor"
   ]
  },
  {
   "cell_type": "code",
   "execution_count": 62,
   "metadata": {},
   "outputs": [
    {
     "data": {
      "application/vnd.jupyter.widget-view+json": {
       "model_id": "b3742d77ce1448eba273543cbed99bd4",
       "version_major": 2,
       "version_minor": 0
      },
      "text/html": [
       "<p>Failed to display Jupyter Widget of type <code>HBox</code>.</p>\n",
       "<p>\n",
       "  If you're reading this message in the Jupyter Notebook or JupyterLab Notebook, it may mean\n",
       "  that the widgets JavaScript is still loading. If this message persists, it\n",
       "  likely means that the widgets JavaScript library is either not installed or\n",
       "  not enabled. See the <a href=\"https://ipywidgets.readthedocs.io/en/stable/user_install.html\">Jupyter\n",
       "  Widgets Documentation</a> for setup instructions.\n",
       "</p>\n",
       "<p>\n",
       "  If you're reading this message in another frontend (for example, a static\n",
       "  rendering on GitHub or <a href=\"https://nbviewer.jupyter.org/\">NBViewer</a>),\n",
       "  it may mean that your frontend doesn't currently support widgets.\n",
       "</p>\n"
      ],
      "text/plain": [
       "HBox(children=(IntProgress(value=0, max=8), HTML(value='')))"
      ]
     },
     "metadata": {},
     "output_type": "display_data"
    },
    {
     "name": "stdout",
     "output_type": "stream",
     "text": [
      "\n",
      "val_acc: 59.18 %\n"
     ]
    },
    {
     "data": {
      "text/plain": [
       "{'alpha': 0.0,\n",
       " 'booster': 'gbtree',\n",
       " 'learning_rate': 0.01,\n",
       " 'max_depth': 3,\n",
       " 'nthread': 8,\n",
       " 'objective': 'binary:logistic',\n",
       " 'subsample': 1}"
      ]
     },
     "execution_count": 62,
     "metadata": {},
     "output_type": "execute_result"
    },
    {
     "data": {
      "text/plain": [
       "<xgboost.core.Booster at 0x7f1e5b9d20f0>"
      ]
     },
     "execution_count": 62,
     "metadata": {},
     "output_type": "execute_result"
    },
    {
     "name": "stdout",
     "output_type": "stream",
     "text": [
      "BANPU \tacc: 0.58\n",
      "IRPC \tacc: 0.69\n",
      "PTT \tacc: 0.60\n",
      "BBL \tacc: 0.68\n",
      "KBANK \tacc: 0.61\n",
      "SCB \tacc: 0.61\n",
      "AOT \tacc: 0.72\n",
      "THAI \tacc: 0.52\n",
      "CPF \tacc: 0.59\n",
      "MINT \tacc: 0.61\n",
      "TU \tacc: 0.57\n",
      "SCC \tacc: 0.52\n",
      "CPN \tacc: 0.56\n",
      "CK \tacc: 0.60\n",
      "CPALL \tacc: 0.69\n",
      "HMPRO \tacc: 0.66\n",
      "BDMS \tacc: 0.62\n",
      "BH \tacc: 0.70\n",
      "ADVANC \tacc: 0.58\n",
      "JAS \tacc: 0.52\n",
      "TRUE \tacc: 0.55\n",
      "mean Accuracy: 0.6093\n"
     ]
    }
   ],
   "source": [
    "d_train = xgboost.DMatrix(x_train, label=y_train)\n",
    "d_valid = xgboost.DMatrix(x_val, label=y_val)\n",
    "\n",
    "grids = sklearn.grid_search.ParameterGrid({\n",
    "    'booster':['gbtree'],\n",
    "    'learning_rate':[0.01],\n",
    "    'max_depth':[3,4,5,6],\n",
    "    'subsample': [1],\n",
    "    'objective': ['binary:logistic'],\n",
    "    'nthread': [8],\n",
    "#     'lambda': [0, 0.2],\n",
    "    'alpha': [0.0, 0.2],\n",
    "#     'updater': ['coord_descent']\n",
    "})\n",
    "\n",
    "\n",
    "max_acc = -1\n",
    "best_param = {}\n",
    "xgb = None\n",
    "for param in tqdm_notebook(grids):\n",
    "    model = xgboost.train(\n",
    "        param, \n",
    "        d_train, \n",
    "        num_boost_round=500, \n",
    "        evals=[(d_train, 'train'), (d_valid, 'valid')], \n",
    "        early_stopping_rounds=10,\n",
    "        verbose_eval=False\n",
    "    )\n",
    "    \n",
    "    \n",
    "    acc = sklearn.metrics.accuracy_score(np.squeeze(y_val.values),np.where(model.predict(d_valid)>=0.5, 1, 0))\n",
    "    if acc > max_acc:\n",
    "        max_acc = deepcopy(acc)\n",
    "        best_param = deepcopy(param)\n",
    "        xgb = deepcopy(model)\n",
    "print('val_acc:', round(max_acc*100,2),'%')\n",
    "best_param\n",
    "xgb\n",
    "evaluator(xgb, x_test, le, isXGB=True)"
   ]
  },
  {
   "cell_type": "code",
   "execution_count": 63,
   "metadata": {},
   "outputs": [
    {
     "data": {
      "text/plain": [
       "<matplotlib.axes._subplots.AxesSubplot at 0x7f1e5b9a9518>"
      ]
     },
     "execution_count": 63,
     "metadata": {},
     "output_type": "execute_result"
    },
    {
     "data": {
      "image/png": "[encoded data removed]",
      "text/plain": [
       "<matplotlib.figure.Figure at 0x7f1e5b9bba20>"
      ]
     },
     "metadata": {},
     "output_type": "display_data"
    }
   ],
   "source": [
    "xgboost.plot_importance(xgb, height=0.3)"
   ]
  },
  {
   "cell_type": "markdown",
   "metadata": {},
   "source": [
    "# KNeighbors"
   ]
  },
  {
   "cell_type": "code",
   "execution_count": 64,
   "metadata": {},
   "outputs": [
    {
     "data": {
      "application/vnd.jupyter.widget-view+json": {
       "model_id": "f7f641a997d341eaa232df9abef86ec4",
       "version_major": 2,
       "version_minor": 0
      },
      "text/html": [
       "<p>Failed to display Jupyter Widget of type <code>HBox</code>.</p>\n",
       "<p>\n",
       "  If you're reading this message in the Jupyter Notebook or JupyterLab Notebook, it may mean\n",
       "  that the widgets JavaScript is still loading. If this message persists, it\n",
       "  likely means that the widgets JavaScript library is either not installed or\n",
       "  not enabled. See the <a href=\"https://ipywidgets.readthedocs.io/en/stable/user_install.html\">Jupyter\n",
       "  Widgets Documentation</a> for setup instructions.\n",
       "</p>\n",
       "<p>\n",
       "  If you're reading this message in another frontend (for example, a static\n",
       "  rendering on GitHub or <a href=\"https://nbviewer.jupyter.org/\">NBViewer</a>),\n",
       "  it may mean that your frontend doesn't currently support widgets.\n",
       "</p>\n"
      ],
      "text/plain": [
       "HBox(children=(IntProgress(value=0, max=36), HTML(value='')))"
      ]
     },
     "metadata": {},
     "output_type": "display_data"
    },
    {
     "name": "stdout",
     "output_type": "stream",
     "text": [
      "\n",
      "val_acc: 66.24 %\n"
     ]
    },
    {
     "data": {
      "text/plain": [
       "{'algorithm': 'ball_tree',\n",
       " 'n_jobs': -1,\n",
       " 'n_neighbors': 9,\n",
       " 'p': 2,\n",
       " 'weights': 'distance'}"
      ]
     },
     "execution_count": 64,
     "metadata": {},
     "output_type": "execute_result"
    },
    {
     "data": {
      "text/plain": [
       "KNeighborsClassifier(algorithm='ball_tree', leaf_size=30, metric='minkowski',\n",
       "           metric_params=None, n_jobs=-1, n_neighbors=9, p=2,\n",
       "           weights='distance')"
      ]
     },
     "execution_count": 64,
     "metadata": {},
     "output_type": "execute_result"
    },
    {
     "name": "stdout",
     "output_type": "stream",
     "text": [
      "BANPU \tacc: 0.76\n",
      "IRPC \tacc: 0.66\n",
      "PTT \tacc: 0.69\n",
      "BBL \tacc: 0.73\n",
      "KBANK \tacc: 0.67\n",
      "SCB \tacc: 0.71\n",
      "AOT \tacc: 0.81\n",
      "THAI \tacc: 0.60\n",
      "CPF \tacc: 0.56\n",
      "MINT \tacc: 0.62\n",
      "TU \tacc: 0.67\n",
      "SCC \tacc: 0.58\n",
      "CPN \tacc: 0.59\n",
      "CK \tacc: 0.55\n",
      "CPALL \tacc: 0.54\n",
      "HMPRO \tacc: 0.60\n",
      "BDMS \tacc: 0.67\n",
      "BH \tacc: 0.57\n",
      "ADVANC \tacc: 0.70\n",
      "JAS \tacc: 0.60\n",
      "TRUE \tacc: 0.65\n",
      "mean Accuracy: 0.6452\n"
     ]
    }
   ],
   "source": [
    "grids = sklearn.grid_search.ParameterGrid({\n",
    "    'algorithm': ['ball_tree'],\n",
    "    'n_neighbors': [9,13,15,17,19,23,25,27,29],\n",
    "    'n_jobs':[-1],\n",
    "    'p':[1,2],\n",
    "    'weights': ['uniform', 'distance'],\n",
    "})\n",
    "\n",
    "\n",
    "max_acc = -1\n",
    "best_param = {}\n",
    "knn = None\n",
    "for param in tqdm_notebook(grids):\n",
    "    model = sklearn.neighbors.KNeighborsClassifier(**param)\n",
    "    _=model.fit(x_train, np.squeeze(y_train.values))\n",
    "    acc = sklearn.metrics.accuracy_score(np.squeeze(y_val.values), model.predict(x_val))\n",
    "    if acc > max_acc:\n",
    "        max_acc = deepcopy(acc)\n",
    "        best_param = deepcopy(param)\n",
    "        knn = deepcopy(model)\n",
    "print('val_acc:', round(max_acc*100,2),'%')\n",
    "best_param\n",
    "knn\n",
    "evaluator(knn, x_test, le)"
   ]
  },
  {
   "cell_type": "markdown",
   "metadata": {},
   "source": [
    "# Multivariate Bernoulli"
   ]
  },
  {
   "cell_type": "code",
   "execution_count": 67,
   "metadata": {},
   "outputs": [
    {
     "data": {
      "application/vnd.jupyter.widget-view+json": {
       "model_id": "e8a44a35c6534820a491c775733d3cc1",
       "version_major": 2,
       "version_minor": 0
      },
      "text/html": [
       "<p>Failed to display Jupyter Widget of type <code>HBox</code>.</p>\n",
       "<p>\n",
       "  If you're reading this message in the Jupyter Notebook or JupyterLab Notebook, it may mean\n",
       "  that the widgets JavaScript is still loading. If this message persists, it\n",
       "  likely means that the widgets JavaScript library is either not installed or\n",
       "  not enabled. See the <a href=\"https://ipywidgets.readthedocs.io/en/stable/user_install.html\">Jupyter\n",
       "  Widgets Documentation</a> for setup instructions.\n",
       "</p>\n",
       "<p>\n",
       "  If you're reading this message in another frontend (for example, a static\n",
       "  rendering on GitHub or <a href=\"https://nbviewer.jupyter.org/\">NBViewer</a>),\n",
       "  it may mean that your frontend doesn't currently support widgets.\n",
       "</p>\n"
      ],
      "text/plain": [
       "HBox(children=(IntProgress(value=0, max=1), HTML(value='')))"
      ]
     },
     "metadata": {},
     "output_type": "display_data"
    },
    {
     "name": "stdout",
     "output_type": "stream",
     "text": [
      "\n",
      "val_acc: 59.18 %\n"
     ]
    },
    {
     "data": {
      "text/plain": [
       "{'alpha': 1.0}"
      ]
     },
     "execution_count": 67,
     "metadata": {},
     "output_type": "execute_result"
    },
    {
     "data": {
      "text/plain": [
       "BernoulliNB(alpha=1.0, binarize=0.0, class_prior=None, fit_prior=True)"
      ]
     },
     "execution_count": 67,
     "metadata": {},
     "output_type": "execute_result"
    },
    {
     "name": "stdout",
     "output_type": "stream",
     "text": [
      "BANPU \tacc: 0.58\n",
      "IRPC \tacc: 0.69\n",
      "PTT \tacc: 0.56\n",
      "BBL \tacc: 0.68\n",
      "KBANK \tacc: 0.61\n",
      "SCB \tacc: 0.61\n",
      "AOT \tacc: 0.72\n",
      "THAI \tacc: 0.52\n",
      "CPF \tacc: 0.59\n",
      "MINT \tacc: 0.61\n",
      "TU \tacc: 0.57\n",
      "SCC \tacc: 0.52\n",
      "CPN \tacc: 0.56\n",
      "CK \tacc: 0.60\n",
      "CPALL \tacc: 0.69\n",
      "HMPRO \tacc: 0.66\n",
      "BDMS \tacc: 0.62\n",
      "BH \tacc: 0.70\n",
      "ADVANC \tacc: 0.58\n",
      "JAS \tacc: 0.52\n",
      "TRUE \tacc: 0.55\n",
      "mean Accuracy: 0.6074\n"
     ]
    }
   ],
   "source": [
    "grids = sklearn.grid_search.ParameterGrid({\n",
    "    'alpha': [1.0]\n",
    "})\n",
    "\n",
    "max_acc = -1\n",
    "best_param = {}\n",
    "bay = None\n",
    "for param in tqdm_notebook(grids):\n",
    "    model = sklearn.naive_bayes.BernoulliNB(**param)\n",
    "    _=model.fit(x_train, np.squeeze(y_train.values))\n",
    "    acc = sklearn.metrics.accuracy_score(np.squeeze(y_val.values), model.predict(x_val))\n",
    "    if acc > max_acc:\n",
    "        max_acc = deepcopy(acc)\n",
    "        best_param = deepcopy(param)\n",
    "        bay = deepcopy(model)\n",
    "print('val_acc:', round(max_acc*100,2),'%')\n",
    "best_param\n",
    "bay\n",
    "evaluator(bay, x_test, le)"
   ]
  },
  {
   "cell_type": "markdown",
   "metadata": {},
   "source": [
    "# Stacking Ensemble"
   ]
  },
  {
   "cell_type": "code",
   "execution_count": 68,
   "metadata": {},
   "outputs": [
    {
     "data": {
      "text/plain": [
       "(2577, 7)"
      ]
     },
     "execution_count": 68,
     "metadata": {},
     "output_type": "execute_result"
    }
   ],
   "source": [
    "stack = np.concatenate((\n",
    "    dt.predict(x_val).reshape(-1,1),\n",
    "    rf.predict(x_val).reshape(-1,1),\n",
    "    ada.predict(x_val).reshape(-1,1),\n",
    "    gb.predict(x_val).reshape(-1,1),\n",
    "    xgb.predict(d_valid).reshape(-1,1),\n",
    "    knn.predict(x_val).reshape(-1,1),\n",
    "    bay.predict(x_val).reshape(-1,1),\n",
    "), axis=1)\n",
    "\n",
    "stack.shape"
   ]
  },
  {
   "cell_type": "code",
   "execution_count": 69,
   "metadata": {},
   "outputs": [
    {
     "data": {
      "text/plain": [
       "GridSearchCV(cv=None, error_score='raise',\n",
       "       estimator=GradientBoostingClassifier(criterion='friedman_mse', init=None,\n",
       "              learning_rate=0.1, loss='deviance', max_depth=3,\n",
       "              max_features=None, max_leaf_nodes=None,\n",
       "              min_impurity_decrease=0.0, min_impurity_split=None,\n",
       "              min_samples_leaf=1, min_samples_split=2,\n",
       "              min_weight_fraction_leaf=0.0, n_estimators=100,\n",
       "              presort='auto', random_state=None, subsample=1.0, verbose=0,\n",
       "              warm_start=False),\n",
       "       fit_params=None, iid=True, n_jobs=-1,\n",
       "       param_grid={'learning_rate': [0.1], 'max_depth': [10, 15, 20, 25], 'presort': [True, False], 'n_estimators': [50, 75, 100], 'criterion': ['friedman_mse'], 'random_state': [100]},\n",
       "       pre_dispatch='2*n_jobs', refit=True, return_train_score='warn',\n",
       "       scoring=None, verbose=0)"
      ]
     },
     "execution_count": 69,
     "metadata": {},
     "output_type": "execute_result"
    },
    {
     "data": {
      "text/plain": [
       "0.6554132712456344"
      ]
     },
     "execution_count": 69,
     "metadata": {},
     "output_type": "execute_result"
    },
    {
     "data": {
      "text/plain": [
       "{'criterion': 'friedman_mse',\n",
       " 'learning_rate': 0.1,\n",
       " 'max_depth': 10,\n",
       " 'n_estimators': 50,\n",
       " 'presort': True,\n",
       " 'random_state': 100}"
      ]
     },
     "execution_count": 69,
     "metadata": {},
     "output_type": "execute_result"
    }
   ],
   "source": [
    "params = {\n",
    "    'criterion':['friedman_mse'],\n",
    "    'n_estimators':[50,75,100],\n",
    "    'learning_rate':[0.1],\n",
    "    'max_depth':[10,15,20,25],\n",
    "    'random_state': [100],\n",
    "    'presort':[True, False]\n",
    "}\n",
    "\n",
    "grid = sklearn.model_selection.GridSearchCV(\n",
    "    ensemble.GradientBoostingClassifier(),\n",
    "    params,\n",
    "    n_jobs=-1\n",
    ")\n",
    "grid.fit(stack, np.squeeze(y_val.values))\n",
    "grid.best_score_\n",
    "grid.best_params_"
   ]
  },
  {
   "cell_type": "code",
   "execution_count": 70,
   "metadata": {},
   "outputs": [
    {
     "data": {
      "text/plain": [
       "GradientBoostingRegressor(alpha=0.9, criterion='friedman_mse', init=None,\n",
       "             learning_rate=0.1, loss='ls', max_depth=10, max_features=None,\n",
       "             max_leaf_nodes=None, min_impurity_decrease=0.0,\n",
       "             min_impurity_split=None, min_samples_leaf=1,\n",
       "             min_samples_split=2, min_weight_fraction_leaf=0.0,\n",
       "             n_estimators=50, presort=True, random_state=100,\n",
       "             subsample=1.0, verbose=0, warm_start=False)"
      ]
     },
     "execution_count": 70,
     "metadata": {},
     "output_type": "execute_result"
    }
   ],
   "source": [
    "gb_stack = ensemble.GradientBoostingRegressor(**grid.best_params_)\n",
    "gb_stack.fit(stack, np.squeeze(y_val.values))"
   ]
  },
  {
   "cell_type": "code",
   "execution_count": 71,
   "metadata": {},
   "outputs": [],
   "source": [
    "models = ['dt', 'rf', 'ada', 'gb', 'xgb', 'knn', 'bay']"
   ]
  },
  {
   "cell_type": "code",
   "execution_count": 72,
   "metadata": {},
   "outputs": [
    {
     "name": "stdout",
     "output_type": "stream",
     "text": [
      "0.0672 dt\n",
      "0.0615 rf\n",
      "0.1105 ada\n",
      "0.0639 gb\n",
      "0.2741 xgb\n",
      "0.4227 knn\n",
      "0.0 bay\n"
     ]
    }
   ],
   "source": [
    "for model, weight in zip(models, gb_stack.feature_importances_):\n",
    "    print(round(weight,4), model)"
   ]
  },
  {
   "cell_type": "code",
   "execution_count": 73,
   "metadata": {},
   "outputs": [
    {
     "name": "stdout",
     "output_type": "stream",
     "text": [
      "BANPU \tacc: 0.75\n",
      "IRPC \tacc: 0.74\n",
      "PTT \tacc: 0.73\n",
      "BBL \tacc: 0.74\n",
      "KBANK \tacc: 0.71\n",
      "SCB \tacc: 0.74\n",
      "AOT \tacc: 0.85\n",
      "THAI \tacc: 0.58\n",
      "CPF \tacc: 0.55\n",
      "MINT \tacc: 0.65\n",
      "TU \tacc: 0.67\n",
      "SCC \tacc: 0.62\n",
      "CPN \tacc: 0.63\n",
      "CK \tacc: 0.59\n",
      "CPALL \tacc: 0.54\n",
      "HMPRO \tacc: 0.62\n",
      "BDMS \tacc: 0.68\n",
      "BH \tacc: 0.62\n",
      "ADVANC \tacc: 0.74\n",
      "JAS \tacc: 0.61\n",
      "TRUE \tacc: 0.62\n",
      "mean Accuracy: 0.6657\n"
     ]
    }
   ],
   "source": [
    "ensemble_evaluator(\n",
    "    x_test\n",
    ")"
   ]
  },
  {
   "cell_type": "code",
   "execution_count": 11,
   "metadata": {},
   "outputs": [],
   "source": [
    "def evaluator(clf, df_test, le, isXGB=False, isLSTM=False):\n",
    "    ACCs = []\n",
    "    for stock in target_stocks:\n",
    "        x_tmp = df_test.loc[df_test['Ticker'] == le.transform([stock])[0]].copy()\n",
    "        \n",
    "        y_tmp = x_tmp[Horizon].values\n",
    "        x_tmp = x_tmp.drop([Horizon], axis=1)\n",
    "        \n",
    "        if isXGB: \n",
    "            y_pred = clf.predict(xgboost.DMatrix(x_tmp))\n",
    "            y_pred = np.where(y_pred>=0.5, 1, 0)\n",
    "        else: y_pred = clf.predict(x_tmp.as_matrix())\n",
    "        \n",
    "        acc = sklearn.metrics.accuracy_score(y_tmp, y_pred)\n",
    "        print(stock, \"\\tacc: %.2f\" % (acc))\n",
    "        ACCs.append(acc)\n",
    "    \n",
    "    print('mean Accuracy:', round(np.mean(ACCs),4))\n",
    "\n",
    "def ensemble_evaluator(df_test):\n",
    "    ACCs = []\n",
    "    for stock in target_stocks:\n",
    "        x_tmp = df_test.loc[df_test['Ticker'] == le.transform([stock])[0]].copy()\n",
    "        \n",
    "        y_tmp = x_tmp[Horizon].values\n",
    "        x_tmp = x_tmp.drop([Horizon], axis=1)\n",
    "        \n",
    "        # Prediction\n",
    "        \n",
    "        y_dt = dt.predict(x_tmp.as_matrix())\n",
    "        y_rf = rf.predict(x_tmp.as_matrix())\n",
    "        y_ada = ada.predict(x_tmp.as_matrix())\n",
    "        y_gb = gb.predict(x_tmp.as_matrix())\n",
    "        \n",
    "        y_xgb = xgb.predict(xgboost.DMatrix(x_tmp))\n",
    "        y_xgb = np.where(y_xgb>=0.5, 1, 0)\n",
    "\n",
    "        y_knn = knn.predict(x_tmp.as_matrix())\n",
    "        y_bay = bay.predict(x_tmp.as_matrix())\n",
    "\n",
    "#         y_pred = (y_dt+y_rf+y_ada+y_gb+y_xgb+y_knn+y_bay)/7\n",
    "        \n",
    "        y_all = np.concatenate((\n",
    "            y_dt.reshape(-1,1),\n",
    "            y_rf.reshape(-1,1),\n",
    "            y_ada.reshape(-1,1),\n",
    "            y_gb.reshape(-1,1),\n",
    "            y_xgb.reshape(-1,1),\n",
    "            y_knn.reshape(-1,1),\n",
    "            y_bay.reshape(-1,1)\n",
    "        ), axis=1)\n",
    "        y_pred = np.zeros((y_all.shape[0],1))\n",
    "        for i in range(y_all.shape[1]):\n",
    "            y_pred += y_all[:,i].reshape(-1,1)*gb_stack.feature_importances_[i]\n",
    "        y_pred = np.squeeze(y_pred)\n",
    "        y_pred = np.where(y_pred>=0.5, 1, 0)\n",
    "\n",
    "        acc = sklearn.metrics.accuracy_score(y_tmp, y_pred)\n",
    "        print(stock, \"\\tacc: %.2f\" % (acc))\n",
    "        ACCs.append(acc)\n",
    "    \n",
    "    print('mean Accuracy:', round(np.mean(ACCs),4))"
   ]
  }
 ],
 "metadata": {
  "kernelspec": {
   "display_name": "Python 3",
   "language": "python",
   "name": "python3"
  },
  "language_info": {
   "codemirror_mode": {
    "name": "ipython",
    "version": 3
   },
   "file_extension": ".py",
   "mimetype": "text/x-python",
   "name": "python",
   "nbconvert_exporter": "python",
   "pygments_lexer": "ipython3",
   "version": "3.5.2"
  }
 },
 "nbformat": 4,
 "nbformat_minor": 2
}
