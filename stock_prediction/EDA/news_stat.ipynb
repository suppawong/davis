{
 "cells": [
  {
   "cell_type": "code",
   "execution_count": 4,
   "metadata": {},
   "outputs": [
    {
     "data": {
      "text/html": [
       "<style>.container { width:95% !important; }</style>"
      ],
      "text/plain": [
       "<IPython.core.display.HTML object>"
      ]
     },
     "metadata": {},
     "output_type": "display_data"
    },
    {
     "data": {
      "text/html": [
       "<script>requirejs.config({paths: { 'plotly': ['https://cdn.plot.ly/plotly-latest.min']},});if(!window.Plotly) {{require(['plotly'],function(plotly) {window.Plotly=plotly;});}}</script>"
      ],
      "text/vnd.plotly.v1+html": [
       "<script>requirejs.config({paths: { 'plotly': ['https://cdn.plot.ly/plotly-latest.min']},});if(!window.Plotly) {{require(['plotly'],function(plotly) {window.Plotly=plotly;});}}</script>"
      ]
     },
     "metadata": {},
     "output_type": "display_data"
    }
   ],
   "source": [
    "from IPython.core.display import display, HTML\n",
    "display(HTML(\"<style>.container { width:95% !important; }</style>\"))\n",
    "\n",
    "from jupyterthemes import jtplot\n",
    "jtplot.style()\n",
    "\n",
    "from plotly.offline import download_plotlyjs, init_notebook_mode, plot, iplot\n",
    "init_notebook_mode(connected=True)\n",
    "\n",
    "import os\n",
    "import json\n",
    "import numpy as np\n",
    "import pandas as pd\n",
    "from tqdm import tqdm_notebook\n",
    "from datetime import datetime\n",
    "from matplotlib import pyplot as plt\n",
    "%matplotlib inline\n",
    "\n",
    "target_stocks = ['BANPU','IRPC','PTT','BBL','KBANK','SCB','AOT','THAI','CPF','MINT',\n",
    "                 'TU','SCC','CPN','CK','CPALL','HMPRO','BDMS','BH','ADVANC','JAS','TRUE']"
   ]
  },
  {
   "cell_type": "code",
   "execution_count": 5,
   "metadata": {},
   "outputs": [
    {
     "data": {
      "text/plain": [
       "75583"
      ]
     },
     "execution_count": 5,
     "metadata": {},
     "output_type": "execute_result"
    }
   ],
   "source": [
    "with open('../data/kaohoon.json') as json_data:\n",
    "    data = json.load(json_data)\n",
    "len(data)"
   ]
  },
  {
   "cell_type": "code",
   "execution_count": 6,
   "metadata": {},
   "outputs": [
    {
     "data": {
      "text/plain": [
       "{'Content': 'นาย ปิติ พงศ์ พิศาล บุตร กรรมการ ผู้อำนวยการ บริษัท นว กิจ ประกันภัย จำกัด มหาชน หรือ เปิดเผย ว่า บริษัท ได้ ขาย หุ้น บริษัท ฟอ ล คอน ประกันภัย จำกัด มหาชน บริษัท ร่วม จำนวน หุ้น หรือ คิด เป็น ของ ทุนจดทะเบียน ชำระ แล้ว ให้ กับ ผู้ถือหุ้น เดิม ของ บริษัท ร่วม ที่ ราคา หุ้น ละ บาท หรือ คิด เป็น มูลค่า การซื้อขาย ทั้งสิ้น บาท ทั้งนี้ บริษัท ถือหุ้น บริษัท ร่วม ใน สัดส่วน ของ ทุนจดทะเบียน ชำระ แล้ว ของ บริษัท ร่วม',\n",
       " 'Content id': '221',\n",
       " 'Date': '2015-01-16T00:00:00',\n",
       " 'Intro': 'ขาย หุ้น ฟอ ล คอน ประกันภัย บริษัท ร่วม ให้ ผู้ถือหุ้น เดิม มูลค่า ลบ',\n",
       " 'Link': 'https://www.kaohoon.com/content/221',\n",
       " 'Source': 'Kaohoon',\n",
       " 'Stock Include': ['NKI'],\n",
       " 'Title': 'ขาย หุ้น ฟอ ล คอน ประกันภัย ให้ ผู้ถือหุ้น เดิม ข่าว หุ้น ธุรกิจ ออนไลน์'}"
      ]
     },
     "execution_count": 6,
     "metadata": {},
     "output_type": "execute_result"
    }
   ],
   "source": [
    "data[20]"
   ]
  },
  {
   "cell_type": "code",
   "execution_count": 7,
   "metadata": {},
   "outputs": [
    {
     "data": {
      "application/vnd.jupyter.widget-view+json": {
       "model_id": "ce8654855a574020ab45855687d0cc7a"
      }
     },
     "metadata": {},
     "output_type": "display_data"
    },
    {
     "name": "stdout",
     "output_type": "stream",
     "text": [
      "\n"
     ]
    }
   ],
   "source": [
    "entry = []\n",
    "for i, row in tqdm_notebook(enumerate(data)):\n",
    "    if len(row['Stock Include']) > 1: continue\n",
    "    for stock in row['Stock Include']:\n",
    "        if stock in target_stocks:\n",
    "            entry.append([\n",
    "                row['Date'],\n",
    "                stock,\n",
    "#                 row['Stock Include'],\n",
    "                row['Content']\n",
    "            ])"
   ]
  },
  {
   "cell_type": "code",
   "execution_count": 8,
   "metadata": {},
   "outputs": [],
   "source": [
    "df = pd.DataFrame.from_records(entry)\n",
    "df[0] = pd.to_datetime(df[0], format='%Y-%m-%d')\n",
    "df.columns = ['Date','Ticker','Text']"
   ]
  },
  {
   "cell_type": "code",
   "execution_count": 10,
   "metadata": {},
   "outputs": [],
   "source": [
    "df.to_csv('../data/kaohoon.csv', index=False)"
   ]
  },
  {
   "cell_type": "code",
   "execution_count": 11,
   "metadata": {},
   "outputs": [
    {
     "data": {
      "text/html": [
       "<div>\n",
       "<style>\n",
       "    .dataframe thead tr:only-child th {\n",
       "        text-align: right;\n",
       "    }\n",
       "\n",
       "    .dataframe thead th {\n",
       "        text-align: left;\n",
       "    }\n",
       "\n",
       "    .dataframe tbody tr th {\n",
       "        vertical-align: top;\n",
       "    }\n",
       "</style>\n",
       "<table border=\"1\" class=\"dataframe\">\n",
       "  <thead>\n",
       "    <tr style=\"text-align: right;\">\n",
       "      <th></th>\n",
       "      <th>Date</th>\n",
       "      <th>Ticker</th>\n",
       "      <th>Text</th>\n",
       "    </tr>\n",
       "  </thead>\n",
       "  <tbody>\n",
       "    <tr>\n",
       "      <th>0</th>\n",
       "      <td>2015-01-16</td>\n",
       "      <td>SCC</td>\n",
       "      <td>บริษัท ปูนซิเมนต์ ไทย จำกัด มหาชน หรือ เปิดเผย...</td>\n",
       "    </tr>\n",
       "    <tr>\n",
       "      <th>1</th>\n",
       "      <td>2015-01-16</td>\n",
       "      <td>KBANK</td>\n",
       "      <td>คณะกรรมการ ธนาคาร กสิกร ไทย จำกัด มหาชน หรือ ร...</td>\n",
       "    </tr>\n",
       "    <tr>\n",
       "      <th>2</th>\n",
       "      <td>2015-01-18</td>\n",
       "      <td>MINT</td>\n",
       "      <td>วิลเลียม อี ไฮ เนคกี้ ตำนาน ผู้สร้าง ธุรกิจ จา...</td>\n",
       "    </tr>\n",
       "    <tr>\n",
       "      <th>3</th>\n",
       "      <td>2015-01-19</td>\n",
       "      <td>SCC</td>\n",
       "      <td>บล เอเซีย พลัสระ บุ ใน บท วิเคราะห์ มค ว่า ภาพ...</td>\n",
       "    </tr>\n",
       "    <tr>\n",
       "      <th>4</th>\n",
       "      <td>2015-01-19</td>\n",
       "      <td>SCB</td>\n",
       "      <td>นาง ช วิน ดา หาญ รัต นกู ลก ร รม การ ผู้จัดการ...</td>\n",
       "    </tr>\n",
       "  </tbody>\n",
       "</table>\n",
       "</div>"
      ],
      "text/plain": [
       "        Date Ticker                                               Text\n",
       "0 2015-01-16    SCC  บริษัท ปูนซิเมนต์ ไทย จำกัด มหาชน หรือ เปิดเผย...\n",
       "1 2015-01-16  KBANK  คณะกรรมการ ธนาคาร กสิกร ไทย จำกัด มหาชน หรือ ร...\n",
       "2 2015-01-18   MINT  วิลเลียม อี ไฮ เนคกี้ ตำนาน ผู้สร้าง ธุรกิจ จา...\n",
       "3 2015-01-19    SCC  บล เอเซีย พลัสระ บุ ใน บท วิเคราะห์ มค ว่า ภาพ...\n",
       "4 2015-01-19    SCB  นาง ช วิน ดา หาญ รัต นกู ลก ร รม การ ผู้จัดการ..."
      ]
     },
     "execution_count": 11,
     "metadata": {},
     "output_type": "execute_result"
    }
   ],
   "source": [
    "df.head()"
   ]
  },
  {
   "cell_type": "markdown",
   "metadata": {},
   "source": [
    "## Money Channel"
   ]
  },
  {
   "cell_type": "code",
   "execution_count": 12,
   "metadata": {
    "scrolled": true
   },
   "outputs": [
    {
     "data": {
      "text/plain": [
       "20437"
      ]
     },
     "execution_count": 12,
     "metadata": {},
     "output_type": "execute_result"
    }
   ],
   "source": [
    "with open('../data/moneychanel.json') as json_data:\n",
    "    data = json.load(json_data)\n",
    "len(data)"
   ]
  },
  {
   "cell_type": "code",
   "execution_count": 20,
   "metadata": {
    "scrolled": true
   },
   "outputs": [
    {
     "data": {
      "text/plain": [
       "{'Content': 'เกาะ ติ เหุ้ นที่ มี ความเคลื่อนไหว น่า ติดตาม ต่อ ใน ปิด บาท ต่อ หุ้น บาท เป็น อีก หนึ่ง หุ้น ร้อนแรง ใน รอบ เดือน ธันวาคม นี้ หลังจาก ราคา หุ้น ปรับ เพิ่มขึ้น หลายเท่า ตัวอย่าง หุ้น ของ บริษัท เอื้อ วิทยา หรือ แม้ว่า หุ้น ยัง ติด รายชื่อ ให้ เท รด ด้วย บัญชีเงินสด หรือ แคช บา ลาน ซ์ นับตั้งแต่ วันที่ พฤศจิกายน ถึง วันที่ ธันวาคม นี้ จาก ข้อมูล ล่าสุด ทาง คณะกรรมการ ซึ่ง เป็น ผู้ ดำเนิน ธุรกิจ ผลิต และ จำหน่าย โครง เหล็ก เสา สายส่ง ไฟฟ้าแรงสูง และ เป็น บริษัท ลูก ของ แคป ปิ ทอ ล เอ็น จิ เนียริ่ง เน็ตเวิร์ค หรือ ได้ อนุมัติ แตก พา ร์ เหลือ สตางค์ จากนั้น จะ เพิ่ม ทุน ล้าน หุ้น แบ่ง เป็น เสนอขาย ให้ แก่ ผู้ถือหุ้น เดิม หรือ และ ขาย เสนอขาย ให้ แก่ บุคคล ใน วง จากัด พร้อมกับ ไว้ รองรับ การ ออก ใบสำคัญ แสดง สิทธิ ที่จะ แจก ผู้ถือหุ้น อัตราส่วน หุ้น สามัญ เดิม ต่อ หน่วย ใบสำคัญ แสดง สิทธิ เพื่อ ซื้อ หุ้น โรงไฟฟ้า ชีวมวล บริษัท ออสการ์ เซฟ เดอะเวิลด์ สัดส่วน และ จะ ประชุม วิสามัญ ผู้ถือหุ้น กุมภาพันธ์ เพื่อ ขออนุมัติ เงิน เพิ่ม ทุน ที่ ได้ จะ นำ ไป ขยาย การลงทุน ใน โรงไฟฟ้า ชีวมวล ราว ล้าน บาท และ อีก ล้าน บาท ใช้ ศึกษา ลงทุน ธุรกิจ พลังงาน อื่นๆ ปิด บาท ต่อ หุ้น บาท ราคา เริ่ม มี สัญญาณ ฟื้นตัว สำหรับ หุ้น น้ำตาล ของ กลุ่ม บริษัท เกษตร ไทย อินเตอร์เนชั่นแนล ชู การ์ คอร์ปอเรชั่น หรือ เคทิส หลังจาก ถูก บรรจุ เป็นหนึ่ง ใน หุ้น ชุด ใหม่ ที่ ได้รับ การคัดเลือก ใน เข้าไป คำนวณ รวม ใน ดัชนี ใน รอบ ระหว่าง วันที่ มกราคม ถึง มิถุนายน นี้ ด้าน โบรกเกอร์ ค่าย เคเค เท รด ยังคง คำแนะนำ ซื้อ ด้วย มูลค่า เหมาะสม ที่ บาท สตางค์ เพราะ เชื่อ ว่า แนวโน้ม ราคา น้ำตาล จะ ฟื้นตัว ต่อเนื่อง และ เป็นแนว โน้ม ขา ขึ้น ใน ช่วง ปี ข้างหน้า ทำให้ ผลประกอบการ จะ ฟื้นตัว อย่าง แข็งแกร่ง จาก กลุ่ม ธุรกิจ หลัก และ ธุรกิจ ไฟฟ้า ที่ มี กำลังผลิต เพิ่ม ทำให้ คาด ว่า กำไรสุทธิ ปี จะ เติบโต จาก ปี นี้ ปิด บาท ต่อ หุ้น บาท วอ ลุ่ม เท รด เข้ามา หนาแน่น มาก ว่า ค่าเฉลี่ย วันทำการ สำหรับ หุ้น บัตร กรุงไทย หรือ โดย ทาง ผู้บริหาร ได้ ตั้งเป้า รายได้ และ กำไร ใน ปีหน้า เติบโต ไม่ ต่ำกว่า ขณะที่ ยอด จับจ่ายใช้สอย ต่อ บัตร ต่อ คน คาด ว่า จะ เติบโต ที่ ตาม ความเชื่อมั่น ผู้บริโภค ที่ ดี ขึ้น บ ลบัว หลวง มองว่า หุ้น มีโอกาส ปรับ เพิ่ม ประมาณการ กำไรสุทธิ ได้ จาก ปัจจุบัน คาด กำไรสุทธิ ปี นี้ ไว้ ล้าน บาท เติบโต และ ปี คาด โต จาก ปี นี้ เนื่องจาก สินเชื่อ เติบโต แข็งแกร่ง กว่า คาด หลังจาก การฟื้นตัว ของ การ บริโภค ฟื้นตัว และ การ เพิ่ม ฐาน ลูกค้า จาก การ เข้า ซื้อ กิจการ รวมทั้ง การ ตั้ง สำรอง ค่า เผื่อ หนี้ สูญ ฯ สุทธิ ต่ำกว่า คาด พร้อมกับ แนะนำ ซื้อ เก็งกำไร ด้วย ราคา เป้าหมาย บาท',\n",
       " 'Content id': '43',\n",
       " 'Date': '2014-12-29T09:19:00',\n",
       " 'Intro': 'หุ้น เด่น น่า จับตา',\n",
       " 'Link': 'http://www.moneychannel.co.th/news_detail/43',\n",
       " 'Source': 'moneychannel',\n",
       " 'Stock Include': ['CEN', 'KTC', 'KTIS', 'UWC'],\n",
       " 'Title': 'หุ้น เด่น น่า จับตา'}"
      ]
     },
     "execution_count": 20,
     "metadata": {},
     "output_type": "execute_result"
    }
   ],
   "source": [
    "data[13]"
   ]
  },
  {
   "cell_type": "code",
   "execution_count": 21,
   "metadata": {},
   "outputs": [
    {
     "data": {
      "application/vnd.jupyter.widget-view+json": {
       "model_id": "766c23e76ccc4c5ca830ef746813efc2"
      }
     },
     "metadata": {},
     "output_type": "display_data"
    },
    {
     "name": "stdout",
     "output_type": "stream",
     "text": [
      "\n"
     ]
    }
   ],
   "source": [
    "entry = []\n",
    "for i, row in tqdm_notebook(enumerate(data)):\n",
    "    if len(row['Stock Include']) > 1: continue\n",
    "    for stock in row['Stock Include']:\n",
    "        if stock in target_stocks:\n",
    "            entry.append([\n",
    "                row['Date'],\n",
    "                stock,\n",
    "                row['Content']\n",
    "            ])"
   ]
  },
  {
   "cell_type": "code",
   "execution_count": 23,
   "metadata": {},
   "outputs": [
    {
     "data": {
      "text/html": [
       "<div>\n",
       "<style>\n",
       "    .dataframe thead tr:only-child th {\n",
       "        text-align: right;\n",
       "    }\n",
       "\n",
       "    .dataframe thead th {\n",
       "        text-align: left;\n",
       "    }\n",
       "\n",
       "    .dataframe tbody tr th {\n",
       "        vertical-align: top;\n",
       "    }\n",
       "</style>\n",
       "<table border=\"1\" class=\"dataframe\">\n",
       "  <thead>\n",
       "    <tr style=\"text-align: right;\">\n",
       "      <th></th>\n",
       "      <th>Date</th>\n",
       "      <th>Ticker</th>\n",
       "      <th>Text</th>\n",
       "    </tr>\n",
       "  </thead>\n",
       "  <tbody>\n",
       "    <tr>\n",
       "      <th>0</th>\n",
       "      <td>2015-01-06 10:00:00</td>\n",
       "      <td>SCB</td>\n",
       "      <td>ที่ปรึกษา การเงิน อิสระ ของ แนะ ผู้ถือหุ้น ควร...</td>\n",
       "    </tr>\n",
       "    <tr>\n",
       "      <th>1</th>\n",
       "      <td>2015-01-08 15:01:00</td>\n",
       "      <td>PTT</td>\n",
       "      <td>เร่ง เจรจา ซื้อ จำนวน ล้าน ตัน จาก ใน โมซัมบิก...</td>\n",
       "    </tr>\n",
       "    <tr>\n",
       "      <th>2</th>\n",
       "      <td>2015-01-08 15:06:00</td>\n",
       "      <td>KBANK</td>\n",
       "      <td>ตั้งเป้า ปี ลูกค้า บัตรเครดิต ใหม่ เพิ่ม ล้าน ...</td>\n",
       "    </tr>\n",
       "    <tr>\n",
       "      <th>3</th>\n",
       "      <td>2015-01-09 17:08:00</td>\n",
       "      <td>PTT</td>\n",
       "      <td>บลเค ที ซี มิ โก้ มอง สัปดาห์ หน้า มี แรง จาก ...</td>\n",
       "    </tr>\n",
       "    <tr>\n",
       "      <th>4</th>\n",
       "      <td>2015-01-12 10:55:00</td>\n",
       "      <td>IRPC</td>\n",
       "      <td>ใน ช่วง ภาค เช้า ไป พบ กับ หุ้น ที่ มี วอ ลุ่ม...</td>\n",
       "    </tr>\n",
       "  </tbody>\n",
       "</table>\n",
       "</div>"
      ],
      "text/plain": [
       "                 Date Ticker  \\\n",
       "0 2015-01-06 10:00:00    SCB   \n",
       "1 2015-01-08 15:01:00    PTT   \n",
       "2 2015-01-08 15:06:00  KBANK   \n",
       "3 2015-01-09 17:08:00    PTT   \n",
       "4 2015-01-12 10:55:00   IRPC   \n",
       "\n",
       "                                                Text  \n",
       "0  ที่ปรึกษา การเงิน อิสระ ของ แนะ ผู้ถือหุ้น ควร...  \n",
       "1  เร่ง เจรจา ซื้อ จำนวน ล้าน ตัน จาก ใน โมซัมบิก...  \n",
       "2  ตั้งเป้า ปี ลูกค้า บัตรเครดิต ใหม่ เพิ่ม ล้าน ...  \n",
       "3  บลเค ที ซี มิ โก้ มอง สัปดาห์ หน้า มี แรง จาก ...  \n",
       "4  ใน ช่วง ภาค เช้า ไป พบ กับ หุ้น ที่ มี วอ ลุ่ม...  "
      ]
     },
     "execution_count": 23,
     "metadata": {},
     "output_type": "execute_result"
    }
   ],
   "source": [
    "df = pd.DataFrame.from_records(entry)\n",
    "df[0] = pd.to_datetime(df[0], format='%Y-%m-%d')\n",
    "df.columns = ['Date','Ticker','Text']\n",
    "df.head()"
   ]
  },
  {
   "cell_type": "code",
   "execution_count": 24,
   "metadata": {
    "collapsed": true
   },
   "outputs": [],
   "source": [
    "df.to_csv('../data/moneychanel.csv', index=False)"
   ]
  },
  {
   "cell_type": "markdown",
   "metadata": {},
   "source": [
    "## Pantip"
   ]
  },
  {
   "cell_type": "code",
   "execution_count": 25,
   "metadata": {},
   "outputs": [
    {
     "data": {
      "text/plain": [
       "67997"
      ]
     },
     "execution_count": 25,
     "metadata": {},
     "output_type": "execute_result"
    }
   ],
   "source": [
    "with open('../data/pantip.json') as json_data:\n",
    "    data = json.load(json_data)\n",
    "len(data)"
   ]
  },
  {
   "cell_type": "code",
   "execution_count": 39,
   "metadata": {},
   "outputs": [
    {
     "data": {
      "text/plain": [
       "{'comments': [{'date': '2017-02-11T01:06:21',\n",
       "   'emotion': {'laugh': 1, 'like': 1, 'love': 1, 'scary': 1, 'surprised': 1},\n",
       "   'message': 'ลด ภาระ หนี้ แล้ว อาจ ไป เน้น คง เหมือน หุ้น ค่อยๆ คัทลอส เหลือ แต่ ตัว ที่ ทำกำไร ดี มั้ง'},\n",
       "  {'date': '2017-02-11T01:12:33',\n",
       "   'emotion': {'laugh': 0, 'like': 0, 'love': 0, 'scary': 0, 'surprised': 0},\n",
       "   'message': 'มี ค่าย เดียว ที่อยู่ รอด'},\n",
       "  {'date': '2017-02-11T02:32:40',\n",
       "   'emotion': {'laugh': 1, 'like': 1, 'love': 1, 'scary': 1, 'surprised': 1},\n",
       "   'message': 'ทำ เก่ง จ่าย หนัก กะ กินรวบ ขึ้น เป็นใหญ่ แต่ เจอ ตอ เขียว ของจริง สุดท้าย หนี้ กลับมา ท่วมหัว หา กำไร ไม่ เจอ'},\n",
       "  {'date': '2017-02-11T03:25:03',\n",
       "   'emotion': {'laugh': 0, 'like': 0, 'love': 0, 'scary': 0, 'surprised': 0},\n",
       "   'message': ''},\n",
       "  {'date': '2017-02-11T07:06:32',\n",
       "   'emotion': {'laugh': 0, 'like': 0, 'love': 0, 'scary': 0, 'surprised': 0},\n",
       "   'message': 'อยาก ให้ หุ้น ลง เยอะ ๆ ครับ'},\n",
       "  {'date': '2017-02-11T07:15:18',\n",
       "   'emotion': {'laugh': 0, 'like': 0, 'love': 0, 'scary': 0, 'surprised': 0},\n",
       "   'message': 'คงจะ จัด โปร ชุด พิเศษ เร็ว ๆ นี้ สำหรับ ราคา หุ้น นะ'},\n",
       "  {'date': '2017-02-11T07:40:40',\n",
       "   'emotion': {'laugh': 1, 'like': 1, 'love': 1, 'scary': 1, 'surprised': 1},\n",
       "   'message': 'กำลัง ลด คุณภาพ เพื่อ ลด ต้นทุน อย่าง ขมักเขม้น ระบบ เก่า เคเบิ้ล มีปัญหา ช้า กระตุก ประจำ มา นาน แล้ว ไม่เคย ดีขึ้น ไม่ยอม ปรับปรุง อย่า หลง ไป ใช้ อย่า เห็น แต่ ของ ถูก'},\n",
       "  {'date': '2017-02-11T08:06:11',\n",
       "   'emotion': {'laugh': 0, 'like': 0, 'love': 0, 'scary': 0, 'surprised': 0},\n",
       "   'message': 'ทาง ที่ ดี ควรจะ ไป เท ส โล ว เดิม เพื่อ จบ หลักสูตร'},\n",
       "  {'date': '2017-02-11T08:17:11',\n",
       "   'emotion': {'laugh': 0, 'like': 0, 'love': 0, 'scary': 0, 'surprised': 0},\n",
       "   'message': 'เรา กลับ รอ ให้ มัน ลง จนถึง จุด ที่ เรา เห็น ว่า น่า เข้า เพิ่ม ที่ผ่านมา แต่ ละ ล ครั้ง โบนัส คือ รถเก๋ง เป็น คัน ๆ เงิน เน็ นร อ ได้ เพราะ เชื่อ ง่า อา แปะ สู้ ยิบตา ตาย เปง ตา ยอั๊ วะ แก่ เลี้ยว'},\n",
       "  {'date': '2017-02-11T08:39:14',\n",
       "   'emotion': {'laugh': 0, 'like': 0, 'love': 0, 'scary': 0, 'surprised': 0},\n",
       "   'message': 'แค่ ทีวี ดิจิตอล ก็ มาก ช่อง พอ อยู่ แล้ว จะ เสีย รายเดือน ไป ทำไม และ อีก อย่าง การ โทร ฟรี ผ่าน ไลน์ ก็ ทำให้ เสีย รายได้ ไป เยอะ มาก อันนี้ ทุก ค่าย'},\n",
       "  {'date': '2017-02-11T09:18:55',\n",
       "   'emotion': {'laugh': 0, 'like': 0, 'love': 0, 'scary': 0, 'surprised': 0},\n",
       "   'message': 'เคย แบบ นานๆ ดู ทีวี ที นาง ตัด สัญญา ญ ทีวี เอง หน้าตาเฉย ต้อง โทร ไป ขอให้ เชื่อมต่อ สัญญาณ ให้ ใหม่ คือ รายเดือน ก็ จ่าย ลูกค้า จะ ดู ไม่ ดู ก็ ไม่ ควร ตัด สัญญาณ เปล่า'},\n",
       "  {'date': '2017-02-11T09:57:10',\n",
       "   'emotion': {'laugh': 0, 'like': 0, 'love': 0, 'scary': 0, 'surprised': 0},\n",
       "   'message': 'มีโอกาส สูง เพิ่ม ทุน จ่ายหนี้'},\n",
       "  {'date': '2017-02-11T10:41:36',\n",
       "   'emotion': {'laugh': 0, 'like': 0, 'love': 0, 'scary': 0, 'surprised': 0},\n",
       "   'message': 'คิด ว่า คงจะ ลด รายจ่าย ลง ส่วน ที่ คิด ว่า ไม่ ก่อให้เกิด รายได้ หรือ ได้ รายได้ น้อย แต่ ไป เน้น จุดสำคัญ ตาม เทค โน โล ยี่ ที่ ดี และ ทันสมัย ขึ้น ผม ชอบ นะ ถ้า เพิ่ม การ ใช้ ข้อมูล แบบ เหมาจ่าย ให้ มาก ๆ และ ความเร็ว ที่ พอ ไหว ก็ ไม่ต้อง พึ่ง แล้ว จะ ไป เสียค่าเช่า ค่า ไฟ ไวไฟ ทำไม'},\n",
       "  {'date': '2017-02-12T10:51:35',\n",
       "   'emotion': {'laugh': 0, 'like': 0, 'love': 0, 'scary': 0, 'surprised': 0},\n",
       "   'message': 'หุ้น ย่อ ลง แค่ บาท เดียว ก็ พา กัน ออกมา เหวี่ยง หาเงิน มา รับ เพิ่ม ซี ราคา นี้ นานๆ มา ที มัน เต็ ยมา ให้ รับ กลับ บ่น'}],\n",
       " 'content': 'เห็น ยกเลิก ช่อง รายการ ยกเลิก เน็ต แถวหน้า เซเว่น บ้าง ที่สาธารณะ บ้าง เห็น เค้า โพส ๆ กัน นะ ครับผม มองว่า กำลังจะ ลด ภาระ ทาง ค่าใช้จ่าย ที่ กำไร ไม่ คุ้ม ทุ นอ ยุ่ หรือ ป่าว แต่ มัน จะ ดี เหรอ ครับ ถ้า เฉียน เนื้อตัว เอง ทิ้ง เรื่อยๆ แทนที่จะ หาทาง รักษา ใคร มี ความเห็น ยังไง ใคร คิด หุ้น ท รู ใคร ศึกษา มา ลึก ๆ พวกเรา มา แชร์ ๆ กัน คนละ ความคิดเห็น ครับ',\n",
       " 'date': '2017-02-11T00:50:14',\n",
       " 'head': 'เกิด อะไร ขึ้นกับ',\n",
       " 'impact': 'negative',\n",
       " 'link': 'https://pantip.com/topic/36100595',\n",
       " 'stock': ['TRUE']}"
      ]
     },
     "execution_count": 39,
     "metadata": {},
     "output_type": "execute_result"
    }
   ],
   "source": [
    "data[3]"
   ]
  },
  {
   "cell_type": "code",
   "execution_count": 55,
   "metadata": {},
   "outputs": [
    {
     "data": {
      "text/plain": [
       "'2017-02-11T00:50:14'"
      ]
     },
     "execution_count": 55,
     "metadata": {},
     "output_type": "execute_result"
    },
    {
     "data": {
      "text/plain": [
       "['TRUE']"
      ]
     },
     "execution_count": 55,
     "metadata": {},
     "output_type": "execute_result"
    },
    {
     "data": {
      "text/plain": [
       "'เกิด อะไร ขึ้นกับ เห็น ยกเลิก ช่อง รายการ ยกเลิก เน็ต แถวหน้า เซเว่น บ้าง ที่สาธารณะ บ้าง เห็น เค้า โพส ๆ กัน นะ ครับผม มองว่า กำลังจะ ลด ภาระ ทาง ค่าใช้จ่าย ที่ กำไร ไม่ คุ้ม ทุ นอ ยุ่ หรือ ป่าว แต่ มัน จะ ดี เหรอ ครับ ถ้า เฉียน เนื้อตัว เอง ทิ้ง เรื่อยๆ แทนที่จะ หาทาง รักษา ใคร มี ความเห็น ยังไง ใคร คิด หุ้น ท รู ใคร ศึกษา มา ลึก ๆ พวกเรา มา แชร์ ๆ กัน คนละ ความคิดเห็น ครับ'"
      ]
     },
     "execution_count": 55,
     "metadata": {},
     "output_type": "execute_result"
    }
   ],
   "source": [
    "data[3]['date']\n",
    "data[3]['stock']\n",
    "text = data[3]['head']+' '+data[3]['content']\n",
    "text"
   ]
  },
  {
   "cell_type": "code",
   "execution_count": 56,
   "metadata": {},
   "outputs": [
    {
     "data": {
      "text/plain": [
       "'เกิด อะไร ขึ้นกับ เห็น ยกเลิก ช่อง รายการ ยกเลิก เน็ต แถวหน้า เซเว่น บ้าง ที่สาธารณะ บ้าง เห็น เค้า โพส ๆ กัน นะ ครับผม มองว่า กำลังจะ ลด ภาระ ทาง ค่าใช้จ่าย ที่ กำไร ไม่ คุ้ม ทุ นอ ยุ่ หรือ ป่าว แต่ มัน จะ ดี เหรอ ครับ ถ้า เฉียน เนื้อตัว เอง ทิ้ง เรื่อยๆ แทนที่จะ หาทาง รักษา ใคร มี ความเห็น ยังไง ใคร คิด หุ้น ท รู ใคร ศึกษา มา ลึก ๆ พวกเรา มา แชร์ ๆ กัน คนละ ความคิดเห็น ครับลด ภาระ หนี้ แล้ว อาจ ไป เน้น คง เหมือน หุ้น ค่อยๆ คัทลอส เหลือ แต่ ตัว ที่ ทำกำไร ดี มั้งมี ค่าย เดียว ที่อยู่ รอดทำ เก่ง จ่าย หนัก กะ กินรวบ ขึ้น เป็นใหญ่ แต่ เจอ ตอ เขียว ของจริง สุดท้าย หนี้ กลับมา ท่วมหัว หา กำไร ไม่ เจออยาก ให้ หุ้น ลง เยอะ ๆ ครับคงจะ จัด โปร ชุด พิเศษ เร็ว ๆ นี้ สำหรับ ราคา หุ้น นะกำลัง ลด คุณภาพ เพื่อ ลด ต้นทุน อย่าง ขมักเขม้น ระบบ เก่า เคเบิ้ล มีปัญหา ช้า กระตุก ประจำ มา นาน แล้ว ไม่เคย ดีขึ้น ไม่ยอม ปรับปรุง อย่า หลง ไป ใช้ อย่า เห็น แต่ ของ ถูกทาง ที่ ดี ควรจะ ไป เท ส โล ว เดิม เพื่อ จบ หลักสูตรเรา กลับ รอ ให้ มัน ลง จนถึง จุด ที่ เรา เห็น ว่า น่า เข้า เพิ่ม ที่ผ่านมา แต่ ละ ล ครั้ง โบนัส คือ รถเก๋ง เป็น คัน ๆ เงิน เน็ นร อ ได้ เพราะ เชื่อ ง่า อา แปะ สู้ ยิบตา ตาย เปง ตา ยอั๊ วะ แก่ เลี้ยวแค่ ทีวี ดิจิตอล ก็ มาก ช่อง พอ อยู่ แล้ว จะ เสีย รายเดือน ไป ทำไม และ อีก อย่าง การ โทร ฟรี ผ่าน ไลน์ ก็ ทำให้ เสีย รายได้ ไป เยอะ มาก อันนี้ ทุก ค่ายเคย แบบ นานๆ ดู ทีวี ที นาง ตัด สัญญา ญ ทีวี เอง หน้าตาเฉย ต้อง โทร ไป ขอให้ เชื่อมต่อ สัญญาณ ให้ ใหม่ คือ รายเดือน ก็ จ่าย ลูกค้า จะ ดู ไม่ ดู ก็ ไม่ ควร ตัด สัญญาณ เปล่ามีโอกาส สูง เพิ่ม ทุน จ่ายหนี้คิด ว่า คงจะ ลด รายจ่าย ลง ส่วน ที่ คิด ว่า ไม่ ก่อให้เกิด รายได้ หรือ ได้ รายได้ น้อย แต่ ไป เน้น จุดสำคัญ ตาม เทค โน โล ยี่ ที่ ดี และ ทันสมัย ขึ้น ผม ชอบ นะ ถ้า เพิ่ม การ ใช้ ข้อมูล แบบ เหมาจ่าย ให้ มาก ๆ และ ความเร็ว ที่ พอ ไหว ก็ ไม่ต้อง พึ่ง แล้ว จะ ไป เสียค่าเช่า ค่า ไฟ ไวไฟ ทำไมหุ้น ย่อ ลง แค่ บาท เดียว ก็ พา กัน ออกมา เหวี่ยง หาเงิน มา รับ เพิ่ม ซี ราคา นี้ นานๆ มา ที มัน เต็ ยมา ให้ รับ กลับ บ่น'"
      ]
     },
     "execution_count": 56,
     "metadata": {},
     "output_type": "execute_result"
    }
   ],
   "source": [
    "for x in data[3]['comments']:\n",
    "     text += x['message']\n",
    "text"
   ]
  },
  {
   "cell_type": "code",
   "execution_count": 57,
   "metadata": {},
   "outputs": [
    {
     "data": {
      "application/vnd.jupyter.widget-view+json": {
       "model_id": "65405417ca844afd97e48bac45ead302"
      }
     },
     "metadata": {},
     "output_type": "display_data"
    },
    {
     "name": "stdout",
     "output_type": "stream",
     "text": [
      "\n"
     ]
    }
   ],
   "source": [
    "entry = []\n",
    "for i, row in tqdm_notebook(enumerate(data)):\n",
    "    if len(row['stock']) > 1: continue\n",
    "    for stock in row['stock']:\n",
    "        if stock in target_stocks:\n",
    "            \n",
    "            text = row['head']+' '+row['content']\n",
    "            for comment in row['comments']:\n",
    "                 text += comment['message']\n",
    "            \n",
    "            entry.append([\n",
    "                row['date'],\n",
    "                stock,\n",
    "                text\n",
    "            ])"
   ]
  },
  {
   "cell_type": "code",
   "execution_count": 61,
   "metadata": {},
   "outputs": [
    {
     "data": {
      "text/html": [
       "<div>\n",
       "<style>\n",
       "    .dataframe thead tr:only-child th {\n",
       "        text-align: right;\n",
       "    }\n",
       "\n",
       "    .dataframe thead th {\n",
       "        text-align: left;\n",
       "    }\n",
       "\n",
       "    .dataframe tbody tr th {\n",
       "        vertical-align: top;\n",
       "    }\n",
       "</style>\n",
       "<table border=\"1\" class=\"dataframe\">\n",
       "  <thead>\n",
       "    <tr style=\"text-align: right;\">\n",
       "      <th></th>\n",
       "      <th>Date</th>\n",
       "      <th>Ticker</th>\n",
       "      <th>Text</th>\n",
       "    </tr>\n",
       "  </thead>\n",
       "  <tbody>\n",
       "    <tr>\n",
       "      <th>0</th>\n",
       "      <td>2017-02-11 00:50:14</td>\n",
       "      <td>TRUE</td>\n",
       "      <td>เกิด อะไร ขึ้นกับ เห็น ยกเลิก ช่อง รายการ ยกเล...</td>\n",
       "    </tr>\n",
       "    <tr>\n",
       "      <th>1</th>\n",
       "      <td>2017-02-10 14:26:05</td>\n",
       "      <td>PTT</td>\n",
       "      <td>น้ำลายไหล ติ่ง ติ้ง จ่าย ปันผล มี ค หรือ บาท ไ...</td>\n",
       "    </tr>\n",
       "    <tr>\n",
       "      <th>2</th>\n",
       "      <td>2017-02-10 11:25:31</td>\n",
       "      <td>SCB</td>\n",
       "      <td>เชียร์ ไม่ ขึ้น จริงๆ อึด ดดดด ตัว เเม่หุ้น ที...</td>\n",
       "    </tr>\n",
       "    <tr>\n",
       "      <th>3</th>\n",
       "      <td>2017-02-10 10:40:08</td>\n",
       "      <td>AOT</td>\n",
       "      <td>หุ้น คือ ผม สงสัย ครับ ว่า หุ้น เมื่อวาน ยัง ร...</td>\n",
       "    </tr>\n",
       "    <tr>\n",
       "      <th>4</th>\n",
       "      <td>2017-02-10 10:14:32</td>\n",
       "      <td>AOT</td>\n",
       "      <td>มา มุข เดียว กับ เมื่อวาน เลย เติม เข้าไป ไม่อ...</td>\n",
       "    </tr>\n",
       "  </tbody>\n",
       "</table>\n",
       "</div>"
      ],
      "text/plain": [
       "                 Date Ticker  \\\n",
       "0 2017-02-11 00:50:14   TRUE   \n",
       "1 2017-02-10 14:26:05    PTT   \n",
       "2 2017-02-10 11:25:31    SCB   \n",
       "3 2017-02-10 10:40:08    AOT   \n",
       "4 2017-02-10 10:14:32    AOT   \n",
       "\n",
       "                                                Text  \n",
       "0  เกิด อะไร ขึ้นกับ เห็น ยกเลิก ช่อง รายการ ยกเล...  \n",
       "1  น้ำลายไหล ติ่ง ติ้ง จ่าย ปันผล มี ค หรือ บาท ไ...  \n",
       "2  เชียร์ ไม่ ขึ้น จริงๆ อึด ดดดด ตัว เเม่หุ้น ที...  \n",
       "3  หุ้น คือ ผม สงสัย ครับ ว่า หุ้น เมื่อวาน ยัง ร...  \n",
       "4  มา มุข เดียว กับ เมื่อวาน เลย เติม เข้าไป ไม่อ...  "
      ]
     },
     "execution_count": 61,
     "metadata": {},
     "output_type": "execute_result"
    }
   ],
   "source": [
    "df = pd.DataFrame.from_records(entry)\n",
    "df[0] = pd.to_datetime(df[0], format='%Y-%m-%d')\n",
    "df.columns = ['Date','Ticker','Text']\n",
    "df.head()"
   ]
  },
  {
   "cell_type": "code",
   "execution_count": 62,
   "metadata": {
    "collapsed": true
   },
   "outputs": [],
   "source": [
    "df.to_csv('../data/pantip.csv', index=False)"
   ]
  },
  {
   "cell_type": "markdown",
   "metadata": {},
   "source": [
    "## Twitter"
   ]
  },
  {
   "cell_type": "code",
   "execution_count": 63,
   "metadata": {},
   "outputs": [
    {
     "data": {
      "text/plain": [
       "25590"
      ]
     },
     "execution_count": 63,
     "metadata": {},
     "output_type": "execute_result"
    }
   ],
   "source": [
    "with open('../data/twitter.json') as json_data:\n",
    "    data = json.load(json_data)\n",
    "len(data)"
   ]
  },
  {
   "cell_type": "code",
   "execution_count": 64,
   "metadata": {},
   "outputs": [
    {
     "data": {
      "text/plain": [
       "{'Stock Include': ['BANPU', 'PTTGC', 'VNT'],\n",
       " 'date': '2018-01-10T15:17:00',\n",
       " 'geo': '',\n",
       " 'hastags': '#ห #stoploss #BANPU #PTTGC #VNT',\n",
       " 'mention': '',\n",
       " 'num_favorite': 0,\n",
       " 'num_retweet': 0,\n",
       " 'permalink': 'https://twitter.com/sayohthai/status/951005074528104449',\n",
       " 'symbol': 'BANPU',\n",
       " 'text': 'ภาค บ่าย หุ้น ตัว ไหน เด่น หุ้น',\n",
       " 'tweet_id': '951005074528104449',\n",
       " 'username': ''}"
      ]
     },
     "execution_count": 64,
     "metadata": {},
     "output_type": "execute_result"
    }
   ],
   "source": [
    "data[0]"
   ]
  },
  {
   "cell_type": "code",
   "execution_count": 65,
   "metadata": {},
   "outputs": [
    {
     "data": {
      "application/vnd.jupyter.widget-view+json": {
       "model_id": "c05395807c7c4420a2291db4ffe09c42"
      }
     },
     "metadata": {},
     "output_type": "display_data"
    },
    {
     "name": "stdout",
     "output_type": "stream",
     "text": [
      "\n"
     ]
    }
   ],
   "source": [
    "entry = []\n",
    "for i, row in tqdm_notebook(enumerate(data)):\n",
    "    if len(row['Stock Include']) > 1: continue\n",
    "    for stock in row['Stock Include']:\n",
    "        if stock in target_stocks:\n",
    "            entry.append([\n",
    "                row['date'],\n",
    "                stock,\n",
    "                row['text']\n",
    "            ])"
   ]
  },
  {
   "cell_type": "code",
   "execution_count": 68,
   "metadata": {},
   "outputs": [
    {
     "data": {
      "text/html": [
       "<div>\n",
       "<style>\n",
       "    .dataframe thead tr:only-child th {\n",
       "        text-align: right;\n",
       "    }\n",
       "\n",
       "    .dataframe thead th {\n",
       "        text-align: left;\n",
       "    }\n",
       "\n",
       "    .dataframe tbody tr th {\n",
       "        vertical-align: top;\n",
       "    }\n",
       "</style>\n",
       "<table border=\"1\" class=\"dataframe\">\n",
       "  <thead>\n",
       "    <tr style=\"text-align: right;\">\n",
       "      <th></th>\n",
       "      <th>Date</th>\n",
       "      <th>Ticker</th>\n",
       "      <th>Text</th>\n",
       "    </tr>\n",
       "  </thead>\n",
       "  <tbody>\n",
       "    <tr>\n",
       "      <th>0</th>\n",
       "      <td>2018-01-09 13:43:00</td>\n",
       "      <td>BANPU</td>\n",
       "      <td>หุ้น ไทย ดีด รับ ราคา ถ่านหิน พุ่ง โบ รก ให้ เ...</td>\n",
       "    </tr>\n",
       "    <tr>\n",
       "      <th>1</th>\n",
       "      <td>2017-12-28 17:32:00</td>\n",
       "      <td>BANPU</td>\n",
       "      <td>หุ้น ไทย แรง ซื้อ แน่น ดัน ราคา ทะยาน รับ ทาง ...</td>\n",
       "    </tr>\n",
       "    <tr>\n",
       "      <th>2</th>\n",
       "      <td>2017-12-20 12:33:00</td>\n",
       "      <td>BANPU</td>\n",
       "      <td>หุ้น ไทย เด้ง รับ ราคา ถ่านหิน พุ่ง โบ รก คาด ...</td>\n",
       "    </tr>\n",
       "    <tr>\n",
       "      <th>3</th>\n",
       "      <td>2017-12-19 12:18:00</td>\n",
       "      <td>BANPU</td>\n",
       "      <td>หุ้น ไทย ราคา แตะ บาท เด้ง รับ ไฮ ซีซั่น ฤดูหน...</td>\n",
       "    </tr>\n",
       "    <tr>\n",
       "      <th>4</th>\n",
       "      <td>2017-08-11 19:53:00</td>\n",
       "      <td>BANPU</td>\n",
       "      <td>เผย มี กำไร ลบ เพิ่มขึ้น เมื่อ เทียบ กับ ช่วง ...</td>\n",
       "    </tr>\n",
       "  </tbody>\n",
       "</table>\n",
       "</div>"
      ],
      "text/plain": [
       "                 Date Ticker  \\\n",
       "0 2018-01-09 13:43:00  BANPU   \n",
       "1 2017-12-28 17:32:00  BANPU   \n",
       "2 2017-12-20 12:33:00  BANPU   \n",
       "3 2017-12-19 12:18:00  BANPU   \n",
       "4 2017-08-11 19:53:00  BANPU   \n",
       "\n",
       "                                                Text  \n",
       "0  หุ้น ไทย ดีด รับ ราคา ถ่านหิน พุ่ง โบ รก ให้ เ...  \n",
       "1  หุ้น ไทย แรง ซื้อ แน่น ดัน ราคา ทะยาน รับ ทาง ...  \n",
       "2  หุ้น ไทย เด้ง รับ ราคา ถ่านหิน พุ่ง โบ รก คาด ...  \n",
       "3  หุ้น ไทย ราคา แตะ บาท เด้ง รับ ไฮ ซีซั่น ฤดูหน...  \n",
       "4  เผย มี กำไร ลบ เพิ่มขึ้น เมื่อ เทียบ กับ ช่วง ...  "
      ]
     },
     "execution_count": 68,
     "metadata": {},
     "output_type": "execute_result"
    }
   ],
   "source": [
    "df = pd.DataFrame.from_records(entry)\n",
    "df[0] = pd.to_datetime(df[0], format='%Y-%m-%d')\n",
    "df.columns = ['Date','Ticker','Text']\n",
    "df.head()"
   ]
  },
  {
   "cell_type": "code",
   "execution_count": 69,
   "metadata": {
    "collapsed": true
   },
   "outputs": [],
   "source": [
    "df.to_csv('../data/twitter.csv', index=False)"
   ]
  }
 ],
 "metadata": {
  "kernelspec": {
   "display_name": "Python 3",
   "language": "python",
   "name": "python3"
  },
  "language_info": {
   "codemirror_mode": {
    "name": "ipython",
    "version": 3
   },
   "file_extension": ".py",
   "mimetype": "text/x-python",
   "name": "python",
   "nbconvert_exporter": "python",
   "pygments_lexer": "ipython3",
   "version": "3.5.2"
  }
 },
 "nbformat": 4,
 "nbformat_minor": 2
}
