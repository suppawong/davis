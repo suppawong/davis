{
 "cells": [
  {
   "cell_type": "markdown",
   "metadata": {},
   "source": [
    "# Regression with Price only"
   ]
  },
  {
   "cell_type": "code",
   "execution_count": 2,
   "metadata": {},
   "outputs": [
    {
     "data": {
      "text/html": [
       "<style>.container { width:100% !important; }</style>"
      ],
      "text/plain": [
       "<IPython.core.display.HTML object>"
      ]
     },
     "metadata": {},
     "output_type": "display_data"
    }
   ],
   "source": [
    "from IPython.core.display import display, HTML\n",
    "display(HTML(\"<style>.container { width:100% !important; }</style>\"))"
   ]
  },
  {
   "cell_type": "code",
   "execution_count": 1,
   "metadata": {},
   "outputs": [
    {
     "data": {
      "text/html": [
       "<style>.container { width:100% !important; }</style>"
      ],
      "text/plain": [
       "<IPython.core.display.HTML object>"
      ]
     },
     "metadata": {},
     "output_type": "display_data"
    },
    {
     "data": {
      "text/html": [
       "<script>requirejs.config({paths: { 'plotly': ['https://cdn.plot.ly/plotly-latest.min']},});if(!window.Plotly) {{require(['plotly'],function(plotly) {window.Plotly=plotly;});}}</script>"
      ],
      "text/vnd.plotly.v1+html": [
       "<script>requirejs.config({paths: { 'plotly': ['https://cdn.plot.ly/plotly-latest.min']},});if(!window.Plotly) {{require(['plotly'],function(plotly) {window.Plotly=plotly;});}}</script>"
      ]
     },
     "metadata": {},
     "output_type": "display_data"
    }
   ],
   "source": [
    "from IPython.core.interactiveshell import InteractiveShell\n",
    "InteractiveShell.ast_node_interactivity = \"all\"\n",
    "\n",
    "import sys\n",
    "sys.version\n",
    "\n",
    "import pandas as pd\n",
    "import os\n",
    "import numpy as np\n",
    "\n",
    "from pythainlp.corpus import stopwords\n",
    "from sklearn.feature_extraction.text import TfidfVectorizer\n",
    "from sklearn.linear_model import LinearRegression\n",
    "from sklearn.metrics import mean_squared_error, mean_absolute_error, accuracy_score\n",
    "from sklearn import preprocessing\n",
    "\n",
    "from plotly.offline import download_plotlyjs, init_notebook_mode, plot, iplot\n",
    "init_notebook_mode(connected=True)\n",
    "\n",
    "\n",
    "import plotly.graph_objs as go\n",
    "from datetime import datetime, timedelta\n",
    "from tqdm import tqdm_notebook\n",
    "import matplotlib.pyplot as plt\n",
    "% matplotlib inline\n",
    "\n",
    "target_stocks = ['BANPU','IRPC','PTT','BBL','KBANK','SCB','AOT','THAI','CPF','MINT',\n",
    "                 'TU','SCC','CPN','CK','CPALL','HMPRO','BDMS','BH','ADVANC','JAS','TRUE']"
   ]
  },
  {
   "cell_type": "code",
   "execution_count": 24,
   "metadata": {},
   "outputs": [
    {
     "data": {
      "text/html": [
       "<div>\n",
       "<style scoped>\n",
       "    .dataframe tbody tr th:only-of-type {\n",
       "        vertical-align: middle;\n",
       "    }\n",
       "\n",
       "    .dataframe tbody tr th {\n",
       "        vertical-align: top;\n",
       "    }\n",
       "\n",
       "    .dataframe thead th {\n",
       "        text-align: right;\n",
       "    }\n",
       "</style>\n",
       "<table border=\"1\" class=\"dataframe\">\n",
       "  <thead>\n",
       "    <tr style=\"text-align: right;\">\n",
       "      <th></th>\n",
       "      <th>Ticker</th>\n",
       "      <th>Open</th>\n",
       "      <th>High</th>\n",
       "      <th>Low</th>\n",
       "      <th>Close</th>\n",
       "      <th>Volume</th>\n",
       "    </tr>\n",
       "    <tr>\n",
       "      <th>Date</th>\n",
       "      <th></th>\n",
       "      <th></th>\n",
       "      <th></th>\n",
       "      <th></th>\n",
       "      <th></th>\n",
       "      <th></th>\n",
       "    </tr>\n",
       "  </thead>\n",
       "  <tbody>\n",
       "    <tr>\n",
       "      <th>2013-01-02</th>\n",
       "      <td>ADVANC</td>\n",
       "      <td>210.0</td>\n",
       "      <td>212.0</td>\n",
       "      <td>208.0</td>\n",
       "      <td>209.0</td>\n",
       "      <td>5652500</td>\n",
       "    </tr>\n",
       "    <tr>\n",
       "      <th>2013-01-02</th>\n",
       "      <td>AOT</td>\n",
       "      <td>97.5</td>\n",
       "      <td>97.5</td>\n",
       "      <td>95.5</td>\n",
       "      <td>96.5</td>\n",
       "      <td>1683900</td>\n",
       "    </tr>\n",
       "    <tr>\n",
       "      <th>2013-01-02</th>\n",
       "      <td>BANPU</td>\n",
       "      <td>414.0</td>\n",
       "      <td>424.0</td>\n",
       "      <td>414.0</td>\n",
       "      <td>422.0</td>\n",
       "      <td>712900</td>\n",
       "    </tr>\n",
       "  </tbody>\n",
       "</table>\n",
       "</div>"
      ],
      "text/plain": [
       "            Ticker   Open   High    Low  Close   Volume\n",
       "Date                                                   \n",
       "2013-01-02  ADVANC  210.0  212.0  208.0  209.0  5652500\n",
       "2013-01-02     AOT   97.5   97.5   95.5   96.5  1683900\n",
       "2013-01-02   BANPU  414.0  424.0  414.0  422.0   712900"
      ]
     },
     "execution_count": 24,
     "metadata": {},
     "output_type": "execute_result"
    },
    {
     "data": {
      "text/plain": [
       "26331"
      ]
     },
     "execution_count": 24,
     "metadata": {},
     "output_type": "execute_result"
    }
   ],
   "source": [
    "df_price = pd.read_csv('merged_2013_2018.csv')\n",
    "df_price['Date'] = pd.to_datetime(df_price['Date'], format='%Y-%m-%d')\n",
    "df_price = df_price.loc[df_price['Ticker'].isin(target_stocks)]\n",
    "df_price['Date'] = df_price['Date'].dt.date\n",
    "df_price = df_price.set_index('Date')\n",
    "df_price.head(3)\n",
    "len(df_price)"
   ]
  },
  {
   "cell_type": "code",
   "execution_count": 25,
   "metadata": {},
   "outputs": [],
   "source": [
    "def lag_construction(data, t_in=3, t_out=1):\n",
    "    n_vars = 1 if type(data) is list else data.shape[1]\n",
    "    df = pd.DataFrame(data)\n",
    "    cols, names = list(), list()\n",
    "    \n",
    "    for i in range(t_in-1, 0, -1): # input sequence (t-n, ... t-1)\n",
    "        cols.append(df.shift(i))\n",
    "        names += [('v%d(t-%d)' % (j+1, i)) for j in range(n_vars)]    \n",
    "    \n",
    "    for i in range(0, t_out+1): # forecast sequence (t, t+1, ... t+n)\n",
    "        cols.append(df.shift(-i))\n",
    "        if i == 0: names += [('v%d(t)' % (j+1)) for j in range(n_vars)]\n",
    "        else: names += [('v%d(t+%d)' % (j+1, i)) for j in range(n_vars)]\n",
    "\n",
    "    conbined = pd.concat(cols, axis=1) # put it all together\n",
    "    conbined.columns = names\n",
    "    \n",
    "    conbined.dropna(inplace = True)\n",
    "    \n",
    "    return conbined"
   ]
  },
  {
   "cell_type": "markdown",
   "metadata": {},
   "source": [
    "# Lag & Horizon Construction"
   ]
  },
  {
   "cell_type": "code",
   "execution_count": 26,
   "metadata": {
    "scrolled": false
   },
   "outputs": [
    {
     "data": {
      "application/vnd.jupyter.widget-view+json": {
       "model_id": "d5c3949bc5704b0ebc48cac8384818ac",
       "version_major": 2,
       "version_minor": 0
      },
      "text/html": [
       "<p>Failed to display Jupyter Widget of type <code>HBox</code>.</p>\n",
       "<p>\n",
       "  If you're reading this message in the Jupyter Notebook or JupyterLab Notebook, it may mean\n",
       "  that the widgets JavaScript is still loading. If this message persists, it\n",
       "  likely means that the widgets JavaScript library is either not installed or\n",
       "  not enabled. See the <a href=\"https://ipywidgets.readthedocs.io/en/stable/user_install.html\">Jupyter\n",
       "  Widgets Documentation</a> for setup instructions.\n",
       "</p>\n",
       "<p>\n",
       "  If you're reading this message in another frontend (for example, a static\n",
       "  rendering on GitHub or <a href=\"https://nbviewer.jupyter.org/\">NBViewer</a>),\n",
       "  it may mean that your frontend doesn't currently support widgets.\n",
       "</p>\n"
      ],
      "text/plain": [
       "HBox(children=(IntProgress(value=0, max=21), HTML(value='')))"
      ]
     },
     "metadata": {},
     "output_type": "display_data"
    },
    {
     "name": "stdout",
     "output_type": "stream",
     "text": [
      "BANPU :\t 1000 251\n",
      "IRPC :\t 1000 251\n",
      "PTT :\t 1000 251\n",
      "BBL :\t 1000 251\n",
      "KBANK :\t 1000 251\n",
      "SCB :\t 1000 251\n",
      "AOT :\t 1000 251\n",
      "THAI :\t 1000 251\n",
      "CPF :\t 1000 251\n",
      "MINT :\t 1000 251\n",
      "TU :\t 1000 251\n",
      "SCC :\t 1000 251\n",
      "CPN :\t 1000 251\n",
      "CK :\t 1000 251\n",
      "CPALL :\t 1000 250\n",
      "HMPRO :\t 1000 251\n",
      "BDMS :\t 1000 251\n",
      "BH :\t 1000 251\n",
      "ADVANC :\t 1000 251\n",
      "JAS :\t 999 250\n",
      "TRUE :\t 1000 251\n",
      "\n"
     ]
    },
    {
     "data": {
      "text/plain": [
       "(20999, 5269)"
      ]
     },
     "execution_count": 26,
     "metadata": {},
     "output_type": "execute_result"
    },
    {
     "data": {
      "text/html": [
       "<div>\n",
       "<style scoped>\n",
       "    .dataframe tbody tr th:only-of-type {\n",
       "        vertical-align: middle;\n",
       "    }\n",
       "\n",
       "    .dataframe tbody tr th {\n",
       "        vertical-align: top;\n",
       "    }\n",
       "\n",
       "    .dataframe thead th {\n",
       "        text-align: right;\n",
       "    }\n",
       "</style>\n",
       "<table border=\"1\" class=\"dataframe\">\n",
       "  <thead>\n",
       "    <tr style=\"text-align: right;\">\n",
       "      <th></th>\n",
       "      <th>v2(t-2)</th>\n",
       "      <th>v3(t-2)</th>\n",
       "      <th>v4(t-2)</th>\n",
       "      <th>v5(t-2)</th>\n",
       "      <th>v2(t-1)</th>\n",
       "      <th>v3(t-1)</th>\n",
       "      <th>v4(t-1)</th>\n",
       "      <th>v5(t-1)</th>\n",
       "      <th>v1(t)</th>\n",
       "      <th>v2(t)</th>\n",
       "      <th>v3(t)</th>\n",
       "      <th>v4(t)</th>\n",
       "      <th>v5(t)</th>\n",
       "      <th>v5(t+1)</th>\n",
       "    </tr>\n",
       "    <tr>\n",
       "      <th>Date</th>\n",
       "      <th></th>\n",
       "      <th></th>\n",
       "      <th></th>\n",
       "      <th></th>\n",
       "      <th></th>\n",
       "      <th></th>\n",
       "      <th></th>\n",
       "      <th></th>\n",
       "      <th></th>\n",
       "      <th></th>\n",
       "      <th></th>\n",
       "      <th></th>\n",
       "      <th></th>\n",
       "      <th></th>\n",
       "    </tr>\n",
       "  </thead>\n",
       "  <tbody>\n",
       "    <tr>\n",
       "      <th>2013-01-04</th>\n",
       "      <td>414.0</td>\n",
       "      <td>424.0</td>\n",
       "      <td>414.0</td>\n",
       "      <td>422.0</td>\n",
       "      <td>426.0</td>\n",
       "      <td>426.0</td>\n",
       "      <td>420.0</td>\n",
       "      <td>420.0</td>\n",
       "      <td>BANPU</td>\n",
       "      <td>420.0</td>\n",
       "      <td>422.0</td>\n",
       "      <td>418.0</td>\n",
       "      <td>420.0</td>\n",
       "      <td>420.0</td>\n",
       "    </tr>\n",
       "  </tbody>\n",
       "</table>\n",
       "</div>"
      ],
      "text/plain": [
       "            v2(t-2)  v3(t-2)  v4(t-2)  v5(t-2)  v2(t-1)  v3(t-1)  v4(t-1)  \\\n",
       "Date                                                                        \n",
       "2013-01-04    414.0    424.0    414.0    422.0    426.0    426.0    420.0   \n",
       "\n",
       "            v5(t-1)  v1(t)  v2(t)  v3(t)  v4(t)  v5(t)  v5(t+1)  \n",
       "Date                                                             \n",
       "2013-01-04    420.0  BANPU  420.0  422.0  418.0  420.0    420.0  "
      ]
     },
     "execution_count": 26,
     "metadata": {},
     "output_type": "execute_result"
    },
    {
     "data": {
      "text/html": [
       "<div>\n",
       "<style scoped>\n",
       "    .dataframe tbody tr th:only-of-type {\n",
       "        vertical-align: middle;\n",
       "    }\n",
       "\n",
       "    .dataframe tbody tr th {\n",
       "        vertical-align: top;\n",
       "    }\n",
       "\n",
       "    .dataframe thead th {\n",
       "        text-align: right;\n",
       "    }\n",
       "</style>\n",
       "<table border=\"1\" class=\"dataframe\">\n",
       "  <thead>\n",
       "    <tr style=\"text-align: right;\">\n",
       "      <th></th>\n",
       "      <th>v2(t-2)</th>\n",
       "      <th>v3(t-2)</th>\n",
       "      <th>v4(t-2)</th>\n",
       "      <th>v5(t-2)</th>\n",
       "      <th>v2(t-1)</th>\n",
       "      <th>v3(t-1)</th>\n",
       "      <th>v4(t-1)</th>\n",
       "      <th>v5(t-1)</th>\n",
       "      <th>v1(t)</th>\n",
       "      <th>v2(t)</th>\n",
       "      <th>v3(t)</th>\n",
       "      <th>v4(t)</th>\n",
       "      <th>v5(t)</th>\n",
       "      <th>v5(t+1)</th>\n",
       "    </tr>\n",
       "    <tr>\n",
       "      <th>Date</th>\n",
       "      <th></th>\n",
       "      <th></th>\n",
       "      <th></th>\n",
       "      <th></th>\n",
       "      <th></th>\n",
       "      <th></th>\n",
       "      <th></th>\n",
       "      <th></th>\n",
       "      <th></th>\n",
       "      <th></th>\n",
       "      <th></th>\n",
       "      <th></th>\n",
       "      <th></th>\n",
       "      <th></th>\n",
       "    </tr>\n",
       "  </thead>\n",
       "  <tbody>\n",
       "    <tr>\n",
       "      <th>2017-02-08</th>\n",
       "      <td>19.2</td>\n",
       "      <td>19.5</td>\n",
       "      <td>19.1</td>\n",
       "      <td>19.2</td>\n",
       "      <td>19.2</td>\n",
       "      <td>19.3</td>\n",
       "      <td>19.1</td>\n",
       "      <td>19.1</td>\n",
       "      <td>BANPU</td>\n",
       "      <td>19.1</td>\n",
       "      <td>19.2</td>\n",
       "      <td>19.0</td>\n",
       "      <td>19.1</td>\n",
       "      <td>18.7</td>\n",
       "    </tr>\n",
       "  </tbody>\n",
       "</table>\n",
       "</div>"
      ],
      "text/plain": [
       "            v2(t-2)  v3(t-2)  v4(t-2)  v5(t-2)  v2(t-1)  v3(t-1)  v4(t-1)  \\\n",
       "Date                                                                        \n",
       "2017-02-08     19.2     19.5     19.1     19.2     19.2     19.3     19.1   \n",
       "\n",
       "            v5(t-1)  v1(t)  v2(t)  v3(t)  v4(t)  v5(t)  v5(t+1)  \n",
       "Date                                                             \n",
       "2017-02-08     19.1  BANPU   19.1   19.2   19.0   19.1     18.7  "
      ]
     },
     "execution_count": 26,
     "metadata": {},
     "output_type": "execute_result"
    }
   ],
   "source": [
    "df_train = []\n",
    "df_test = []\n",
    "for stock in tqdm_notebook(target_stocks):\n",
    "    news_stocks = []\n",
    "    df_stock = df_price.loc[df_price['Ticker'] == stock]\n",
    "\n",
    "    df_stock = lag_construction(df_stock)\n",
    "    \n",
    "    \n",
    "    df_stock = df_stock.drop([ 'v1(t-2)','v6(t-2)',\n",
    "                               'v1(t-1)','v6(t-1)',\n",
    "                               'v6(t)',\n",
    "                               'v1(t+1)','v2(t+1)','v3(t+1)','v4(t+1)','v6(t+1)',\n",
    "                               ],axis=1)\n",
    "    \n",
    "    \n",
    "    train_size = int(len(df_stock) * 0.80)\n",
    "    test_size = len(df_stock) - train_size\n",
    "    train, test = df_stock.iloc[:train_size], df_stock.iloc[train_size:]\n",
    "    print(stock, ':\\t',len(train), len(test))    \n",
    "    df_train.append(train)\n",
    "    df_test.append(test)\n",
    "\n",
    "df_train = pd.concat(df_train, axis=0)\n",
    "df_test = pd.concat(df_test, axis=0)\n",
    "\n",
    "len(df_train), len(df_test) \n",
    "df_train.head(1)\n",
    "df_test.head(1)"
   ]
  },
  {
   "cell_type": "markdown",
   "metadata": {},
   "source": [
    "# Label Encoding"
   ]
  },
  {
   "cell_type": "code",
   "execution_count": 27,
   "metadata": {},
   "outputs": [
    {
     "data": {
      "text/html": [
       "<div>\n",
       "<style scoped>\n",
       "    .dataframe tbody tr th:only-of-type {\n",
       "        vertical-align: middle;\n",
       "    }\n",
       "\n",
       "    .dataframe tbody tr th {\n",
       "        vertical-align: top;\n",
       "    }\n",
       "\n",
       "    .dataframe thead th {\n",
       "        text-align: right;\n",
       "    }\n",
       "</style>\n",
       "<table border=\"1\" class=\"dataframe\">\n",
       "  <thead>\n",
       "    <tr style=\"text-align: right;\">\n",
       "      <th></th>\n",
       "      <th>v2(t-2)</th>\n",
       "      <th>v3(t-2)</th>\n",
       "      <th>v4(t-2)</th>\n",
       "      <th>v5(t-2)</th>\n",
       "      <th>v2(t-1)</th>\n",
       "      <th>v3(t-1)</th>\n",
       "      <th>v4(t-1)</th>\n",
       "      <th>v5(t-1)</th>\n",
       "      <th>v1(t)</th>\n",
       "      <th>v2(t)</th>\n",
       "      <th>v3(t)</th>\n",
       "      <th>v4(t)</th>\n",
       "      <th>v5(t)</th>\n",
       "      <th>v5(t+1)</th>\n",
       "    </tr>\n",
       "    <tr>\n",
       "      <th>Date</th>\n",
       "      <th></th>\n",
       "      <th></th>\n",
       "      <th></th>\n",
       "      <th></th>\n",
       "      <th></th>\n",
       "      <th></th>\n",
       "      <th></th>\n",
       "      <th></th>\n",
       "      <th></th>\n",
       "      <th></th>\n",
       "      <th></th>\n",
       "      <th></th>\n",
       "      <th></th>\n",
       "      <th></th>\n",
       "    </tr>\n",
       "  </thead>\n",
       "  <tbody>\n",
       "    <tr>\n",
       "      <th>2013-01-04</th>\n",
       "      <td>414.0</td>\n",
       "      <td>424.0</td>\n",
       "      <td>414.0</td>\n",
       "      <td>422.0</td>\n",
       "      <td>426.0</td>\n",
       "      <td>426.0</td>\n",
       "      <td>420.0</td>\n",
       "      <td>420.0</td>\n",
       "      <td>2</td>\n",
       "      <td>420.0</td>\n",
       "      <td>422.0</td>\n",
       "      <td>418.0</td>\n",
       "      <td>420.0</td>\n",
       "      <td>420.0</td>\n",
       "    </tr>\n",
       "    <tr>\n",
       "      <th>2013-01-07</th>\n",
       "      <td>426.0</td>\n",
       "      <td>426.0</td>\n",
       "      <td>420.0</td>\n",
       "      <td>420.0</td>\n",
       "      <td>420.0</td>\n",
       "      <td>422.0</td>\n",
       "      <td>418.0</td>\n",
       "      <td>420.0</td>\n",
       "      <td>2</td>\n",
       "      <td>422.0</td>\n",
       "      <td>424.0</td>\n",
       "      <td>416.0</td>\n",
       "      <td>420.0</td>\n",
       "      <td>420.0</td>\n",
       "    </tr>\n",
       "  </tbody>\n",
       "</table>\n",
       "</div>"
      ],
      "text/plain": [
       "            v2(t-2)  v3(t-2)  v4(t-2)  v5(t-2)  v2(t-1)  v3(t-1)  v4(t-1)  \\\n",
       "Date                                                                        \n",
       "2013-01-04    414.0    424.0    414.0    422.0    426.0    426.0    420.0   \n",
       "2013-01-07    426.0    426.0    420.0    420.0    420.0    422.0    418.0   \n",
       "\n",
       "            v5(t-1)  v1(t)  v2(t)  v3(t)  v4(t)  v5(t)  v5(t+1)  \n",
       "Date                                                             \n",
       "2013-01-04    420.0      2  420.0  422.0  418.0  420.0    420.0  \n",
       "2013-01-07    420.0      2  422.0  424.0  416.0  420.0    420.0  "
      ]
     },
     "execution_count": 27,
     "metadata": {},
     "output_type": "execute_result"
    },
    {
     "data": {
      "text/html": [
       "<div>\n",
       "<style scoped>\n",
       "    .dataframe tbody tr th:only-of-type {\n",
       "        vertical-align: middle;\n",
       "    }\n",
       "\n",
       "    .dataframe tbody tr th {\n",
       "        vertical-align: top;\n",
       "    }\n",
       "\n",
       "    .dataframe thead th {\n",
       "        text-align: right;\n",
       "    }\n",
       "</style>\n",
       "<table border=\"1\" class=\"dataframe\">\n",
       "  <thead>\n",
       "    <tr style=\"text-align: right;\">\n",
       "      <th></th>\n",
       "      <th>v2(t-2)</th>\n",
       "      <th>v3(t-2)</th>\n",
       "      <th>v4(t-2)</th>\n",
       "      <th>v5(t-2)</th>\n",
       "      <th>v2(t-1)</th>\n",
       "      <th>v3(t-1)</th>\n",
       "      <th>v4(t-1)</th>\n",
       "      <th>v5(t-1)</th>\n",
       "      <th>v1(t)</th>\n",
       "      <th>v2(t)</th>\n",
       "      <th>v3(t)</th>\n",
       "      <th>v4(t)</th>\n",
       "      <th>v5(t)</th>\n",
       "      <th>v5(t+1)</th>\n",
       "    </tr>\n",
       "    <tr>\n",
       "      <th>Date</th>\n",
       "      <th></th>\n",
       "      <th></th>\n",
       "      <th></th>\n",
       "      <th></th>\n",
       "      <th></th>\n",
       "      <th></th>\n",
       "      <th></th>\n",
       "      <th></th>\n",
       "      <th></th>\n",
       "      <th></th>\n",
       "      <th></th>\n",
       "      <th></th>\n",
       "      <th></th>\n",
       "      <th></th>\n",
       "    </tr>\n",
       "  </thead>\n",
       "  <tbody>\n",
       "    <tr>\n",
       "      <th>2017-02-08</th>\n",
       "      <td>19.2</td>\n",
       "      <td>19.5</td>\n",
       "      <td>19.1</td>\n",
       "      <td>19.2</td>\n",
       "      <td>19.2</td>\n",
       "      <td>19.3</td>\n",
       "      <td>19.1</td>\n",
       "      <td>19.1</td>\n",
       "      <td>2</td>\n",
       "      <td>19.1</td>\n",
       "      <td>19.2</td>\n",
       "      <td>19.0</td>\n",
       "      <td>19.1</td>\n",
       "      <td>18.7</td>\n",
       "    </tr>\n",
       "    <tr>\n",
       "      <th>2017-02-09</th>\n",
       "      <td>19.2</td>\n",
       "      <td>19.3</td>\n",
       "      <td>19.1</td>\n",
       "      <td>19.1</td>\n",
       "      <td>19.1</td>\n",
       "      <td>19.2</td>\n",
       "      <td>19.0</td>\n",
       "      <td>19.1</td>\n",
       "      <td>2</td>\n",
       "      <td>19.1</td>\n",
       "      <td>19.3</td>\n",
       "      <td>18.7</td>\n",
       "      <td>18.7</td>\n",
       "      <td>18.9</td>\n",
       "    </tr>\n",
       "  </tbody>\n",
       "</table>\n",
       "</div>"
      ],
      "text/plain": [
       "            v2(t-2)  v3(t-2)  v4(t-2)  v5(t-2)  v2(t-1)  v3(t-1)  v4(t-1)  \\\n",
       "Date                                                                        \n",
       "2017-02-08     19.2     19.5     19.1     19.2     19.2     19.3     19.1   \n",
       "2017-02-09     19.2     19.3     19.1     19.1     19.1     19.2     19.0   \n",
       "\n",
       "            v5(t-1)  v1(t)  v2(t)  v3(t)  v4(t)  v5(t)  v5(t+1)  \n",
       "Date                                                             \n",
       "2017-02-08     19.1      2   19.1   19.2   19.0   19.1     18.7  \n",
       "2017-02-09     19.1      2   19.1   19.3   18.7   18.7     18.9  "
      ]
     },
     "execution_count": 27,
     "metadata": {},
     "output_type": "execute_result"
    },
    {
     "data": {
      "text/plain": [
       "array(['ADVANC', 'AOT', 'BANPU', 'BBL', 'BDMS', 'BH', 'CK', 'CPALL',\n",
       "       'CPF', 'CPN', 'HMPRO', 'IRPC', 'JAS', 'KBANK', 'MINT', 'PTT',\n",
       "       'SCB', 'SCC', 'THAI', 'TRUE', 'TU'], dtype=object)"
      ]
     },
     "execution_count": 27,
     "metadata": {},
     "output_type": "execute_result"
    }
   ],
   "source": [
    "le = preprocessing.LabelEncoder()\n",
    "\n",
    "df_train['v1(t)'] = le.fit_transform(df_train['v1(t)'])\n",
    "df_test['v1(t)'] = le.transform(df_test['v1(t)'])\n",
    "\n",
    "df_train.head(2)\n",
    "df_test.head(2)\n",
    "\n",
    "le.classes_"
   ]
  },
  {
   "cell_type": "markdown",
   "metadata": {},
   "source": [
    "# Create x_train and y_train"
   ]
  },
  {
   "cell_type": "code",
   "execution_count": 28,
   "metadata": {},
   "outputs": [
    {
     "data": {
      "text/plain": [
       "((20999, 13), (20999,))"
      ]
     },
     "execution_count": 28,
     "metadata": {},
     "output_type": "execute_result"
    }
   ],
   "source": [
    "y_train = df_train['v5(t+1)']\n",
    "\n",
    "df_train = df_train.drop('v5(t+1)', axis=1)\n",
    "x_train = df_train\n",
    "x_train.shape, y_train.shape"
   ]
  },
  {
   "cell_type": "markdown",
   "metadata": {},
   "source": [
    "# Evaluate Each Stcok"
   ]
  },
  {
   "cell_type": "code",
   "execution_count": 29,
   "metadata": {},
   "outputs": [],
   "source": [
    "def evaluator(clf, df_test, le, isXGB=False):\n",
    "    RMSEs, MAEs, DAs = [], [], []\n",
    "    results = []\n",
    "    for stock in target_stocks:\n",
    "        x_tmp = df_test.loc[df_test['v1(t)'] == le.transform([stock])[0]].copy()\n",
    "\n",
    "        y_tmp = x_tmp['v5(t+1)'].values\n",
    "        \n",
    "        # Directional Accuracy\n",
    "        changes = x_tmp['v5(t+1)'] -  x_tmp['v5(t)']\n",
    "        y_true_da = []\n",
    "        for change in changes:\n",
    "            y_true_da.append(1 if change >= 0 else 0)\n",
    "                \n",
    "        x_tmp = x_tmp.drop('v5(t+1)', axis=1)\n",
    "        \n",
    "        if isXGB:\n",
    "            y_pred = clf.predict(xgboost.DMatrix(x_tmp))\n",
    "        else:\n",
    "            y_pred = clf.predict(x_tmp.as_matrix())\n",
    "        \n",
    "        # Directional Accuracy Pred\n",
    "        changes = y_pred -  x_tmp['v5(t)']\n",
    "        y_pred_da = []\n",
    "        for change in changes:\n",
    "            y_pred_da.append(1 if change >= 0 else 0)\n",
    "            \n",
    "        RMSE = np.sqrt(mean_squared_error(y_tmp, y_pred))\n",
    "        MAE = mean_absolute_error(y_tmp, y_pred)\n",
    "        DA = accuracy_score(y_true_da, y_pred_da)\n",
    "        print(stock, \"\\tRMSE: %.2f\\t MAE: %.2f \\tDA: %.2f\" % (RMSE, MAE, DA))\n",
    "        RMSEs.append(RMSE)\n",
    "        MAEs.append(MAE)\n",
    "        DAs.append(DA)\n",
    "    \n",
    "    print('\\nmean RMSE:', round(np.mean(RMSEs),2))\n",
    "    print('mean MAE:', round(np.mean(MAEs),2))\n",
    "    print('mean DA:', round(np.mean(DAs),4))"
   ]
  },
  {
   "cell_type": "markdown",
   "metadata": {},
   "source": [
    "# Linear Regression"
   ]
  },
  {
   "cell_type": "code",
   "execution_count": 30,
   "metadata": {},
   "outputs": [
    {
     "data": {
      "text/plain": [
       "LinearRegression(copy_X=True, fit_intercept=True, n_jobs=1, normalize=False)"
      ]
     },
     "execution_count": 30,
     "metadata": {},
     "output_type": "execute_result"
    }
   ],
   "source": [
    "from sklearn import linear_model\n",
    "\n",
    "lineregr = linear_model.LinearRegression()\n",
    "lineregr.fit(x_train, y_train)"
   ]
  },
  {
   "cell_type": "code",
   "execution_count": 31,
   "metadata": {},
   "outputs": [
    {
     "name": "stdout",
     "output_type": "stream",
     "text": [
      "BANPU \tRMSE: 0.31\t MAE: 0.21 \tDA: 0.48\n",
      "IRPC \tRMSE: 0.09\t MAE: 0.07 \tDA: 0.61\n",
      "PTT \tRMSE: 4.27\t MAE: 3.08 \tDA: 0.51\n",
      "BBL \tRMSE: 1.61\t MAE: 1.20 \tDA: 0.44\n",
      "KBANK \tRMSE: 2.38\t MAE: 1.79 \tDA: 0.53\n",
      "SCB \tRMSE: 1.45\t MAE: 1.11 \tDA: 0.50\n",
      "AOT \tRMSE: 24.04\t MAE: 2.12 \tDA: 0.46\n",
      "THAI \tRMSE: 0.41\t MAE: 0.26 \tDA: 0.57\n",
      "CPF \tRMSE: 0.34\t MAE: 0.25 \tDA: 0.55\n",
      "MINT \tRMSE: 0.53\t MAE: 0.39 \tDA: 0.56\n",
      "TU \tRMSE: 0.25\t MAE: 0.18 \tDA: 0.57\n",
      "SCC \tRMSE: 4.38\t MAE: 3.40 \tDA: 0.53\n",
      "CPN \tRMSE: 0.96\t MAE: 0.73 \tDA: 0.51\n",
      "CK \tRMSE: 0.35\t MAE: 0.26 \tDA: 0.55\n",
      "CPALL \tRMSE: 0.62\t MAE: 0.44 \tDA: 0.43\n",
      "HMPRO \tRMSE: 0.19\t MAE: 0.13 \tDA: 0.55\n",
      "BDMS \tRMSE: 0.24\t MAE: 0.17 \tDA: 0.46\n",
      "BH \tRMSE: 2.76\t MAE: 1.94 \tDA: 0.45\n",
      "ADVANC \tRMSE: 1.81\t MAE: 1.35 \tDA: 0.45\n",
      "JAS \tRMSE: 0.14\t MAE: 0.10 \tDA: 0.56\n",
      "TRUE \tRMSE: 0.11\t MAE: 0.08 \tDA: 0.61\n",
      "\n",
      "mean RMSE: 2.25\n",
      "mean MAE: 0.92\n",
      "mean DA: 0.5193\n"
     ]
    }
   ],
   "source": [
    "evaluator(lineregr, df_test, le)"
   ]
  },
  {
   "cell_type": "markdown",
   "metadata": {},
   "source": [
    "# Support Vector Regressor"
   ]
  },
  {
   "cell_type": "code",
   "execution_count": 19,
   "metadata": {},
   "outputs": [
    {
     "data": {
      "text/plain": [
       "SVR(C=1.0, cache_size=200, coef0=0.0, degree=3, epsilon=0.1, gamma='auto',\n",
       "  kernel='rbf', max_iter=-1, shrinking=True, tol=0.001, verbose=False)"
      ]
     },
     "execution_count": 19,
     "metadata": {},
     "output_type": "execute_result"
    }
   ],
   "source": [
    "from sklearn.svm import SVR\n",
    "svr = SVR()\n",
    "svr.fit(x_train, y_train)"
   ]
  },
  {
   "cell_type": "code",
   "execution_count": 20,
   "metadata": {},
   "outputs": [
    {
     "name": "stdout",
     "output_type": "stream",
     "text": [
      "BANPU \tRMSE: 23.36\t MAE: 21.50 \tDA: 0.62\n",
      "IRPC \tRMSE: 4.49\t MAE: 3.23 \tDA: 0.43\n",
      "PTT \tRMSE: 284.62\t MAE: 282.76 \tDA: 0.39\n",
      "BBL \tRMSE: 55.36\t MAE: 53.66 \tDA: 0.36\n",
      "KBANK \tRMSE: 77.74\t MAE: 75.77 \tDA: 0.41\n",
      "SCB \tRMSE: 19.29\t MAE: 18.36 \tDA: 0.41\n",
      "AOT \tRMSE: 73.99\t MAE: 73.42 \tDA: 0.65\n",
      "THAI \tRMSE: 22.96\t MAE: 20.45 \tDA: 0.52\n",
      "CPF \tRMSE: 5.03\t MAE: 2.95 \tDA: 0.57\n",
      "MINT \tRMSE: 52.09\t MAE: 45.83 \tDA: 0.65\n",
      "TU \tRMSE: 7.54\t MAE: 4.95 \tDA: 0.56\n",
      "SCC \tRMSE: 377.50\t MAE: 376.99 \tDA: 0.45\n",
      "CPN \tRMSE: 45.99\t MAE: 43.84 \tDA: 0.57\n",
      "CK \tRMSE: 3.83\t MAE: 2.13 \tDA: 0.52\n",
      "CPALL \tRMSE: 41.72\t MAE: 37.95 \tDA: 0.67\n",
      "HMPRO \tRMSE: 28.99\t MAE: 18.11 \tDA: 0.55\n",
      "BDMS \tRMSE: 3.21\t MAE: 1.31 \tDA: 0.50\n",
      "BH \tRMSE: 62.63\t MAE: 59.89 \tDA: 0.43\n",
      "ADVANC \tRMSE: 51.98\t MAE: 51.29 \tDA: 0.39\n",
      "JAS \tRMSE: 1.37\t MAE: 0.66 \tDA: 0.46\n",
      "TRUE \tRMSE: 31.02\t MAE: 23.85 \tDA: 0.61\n",
      "\n",
      "mean RMSE: 60.7\n",
      "mean MAE: 58.04\n",
      "mean DA: 0.5104\n"
     ]
    }
   ],
   "source": [
    "evaluator(svr, df_test, le)"
   ]
  },
  {
   "cell_type": "markdown",
   "metadata": {},
   "source": [
    "# Decistion Tree Regressor"
   ]
  },
  {
   "cell_type": "code",
   "execution_count": 32,
   "metadata": {},
   "outputs": [
    {
     "data": {
      "text/plain": [
       "DecisionTreeRegressor(criterion='mse', max_depth=None, max_features=None,\n",
       "           max_leaf_nodes=None, min_impurity_decrease=0.0,\n",
       "           min_impurity_split=None, min_samples_leaf=1,\n",
       "           min_samples_split=2, min_weight_fraction_leaf=0.0,\n",
       "           presort=False, random_state=None, splitter='best')"
      ]
     },
     "execution_count": 32,
     "metadata": {},
     "output_type": "execute_result"
    }
   ],
   "source": [
    "from sklearn import tree\n",
    "decis_tree_regr = tree.DecisionTreeRegressor()\n",
    "decis_tree_regr.fit(x_train, y_train)"
   ]
  },
  {
   "cell_type": "code",
   "execution_count": 33,
   "metadata": {},
   "outputs": [
    {
     "name": "stdout",
     "output_type": "stream",
     "text": [
      "BANPU \tRMSE: 0.58\t MAE: 0.42 \tDA: 0.55\n",
      "IRPC \tRMSE: 0.17\t MAE: 0.13 \tDA: 0.47\n",
      "PTT \tRMSE: 8.07\t MAE: 6.09 \tDA: 0.51\n",
      "BBL \tRMSE: 3.32\t MAE: 2.34 \tDA: 0.57\n",
      "KBANK \tRMSE: 4.12\t MAE: 3.02 \tDA: 0.51\n",
      "SCB \tRMSE: 2.80\t MAE: 2.10 \tDA: 0.51\n",
      "AOT \tRMSE: 24.12\t MAE: 2.39 \tDA: 0.56\n",
      "THAI \tRMSE: 0.58\t MAE: 0.41 \tDA: 0.51\n",
      "CPF \tRMSE: 0.62\t MAE: 0.46 \tDA: 0.53\n",
      "MINT \tRMSE: 0.92\t MAE: 0.73 \tDA: 0.49\n",
      "TU \tRMSE: 0.50\t MAE: 0.39 \tDA: 0.46\n",
      "SCC \tRMSE: 8.17\t MAE: 6.18 \tDA: 0.54\n",
      "CPN \tRMSE: 1.60\t MAE: 1.26 \tDA: 0.48\n",
      "CK \tRMSE: 0.59\t MAE: 0.45 \tDA: 0.48\n",
      "CPALL \tRMSE: 1.19\t MAE: 0.89 \tDA: 0.54\n",
      "HMPRO \tRMSE: 0.34\t MAE: 0.24 \tDA: 0.56\n",
      "BDMS \tRMSE: 0.44\t MAE: 0.31 \tDA: 0.56\n",
      "BH \tRMSE: 4.10\t MAE: 3.01 \tDA: 0.53\n",
      "ADVANC \tRMSE: 4.74\t MAE: 3.57 \tDA: 0.48\n",
      "JAS \tRMSE: 0.27\t MAE: 0.18 \tDA: 0.51\n",
      "TRUE \tRMSE: 0.26\t MAE: 0.20 \tDA: 0.56\n",
      "\n",
      "mean RMSE: 3.22\n",
      "mean MAE: 1.66\n",
      "mean DA: 0.5187\n"
     ]
    }
   ],
   "source": [
    "evaluator(decis_tree_regr, df_test, le)"
   ]
  },
  {
   "cell_type": "markdown",
   "metadata": {},
   "source": [
    "# Random Forest Regrssor"
   ]
  },
  {
   "cell_type": "code",
   "execution_count": 34,
   "metadata": {},
   "outputs": [
    {
     "data": {
      "text/plain": [
       "RandomForestRegressor(bootstrap=True, criterion='mse', max_depth=None,\n",
       "           max_features='auto', max_leaf_nodes=None,\n",
       "           min_impurity_decrease=0.0, min_impurity_split=None,\n",
       "           min_samples_leaf=1, min_samples_split=2,\n",
       "           min_weight_fraction_leaf=0.0, n_estimators=10, n_jobs=-1,\n",
       "           oob_score=False, random_state=None, verbose=0, warm_start=False)"
      ]
     },
     "execution_count": 34,
     "metadata": {},
     "output_type": "execute_result"
    }
   ],
   "source": [
    "from sklearn import ensemble\n",
    "\n",
    "rnd_forest_regr = ensemble.RandomForestRegressor(n_jobs=-1)\n",
    "rnd_forest_regr.fit(x_train, y_train)"
   ]
  },
  {
   "cell_type": "code",
   "execution_count": 35,
   "metadata": {},
   "outputs": [
    {
     "name": "stdout",
     "output_type": "stream",
     "text": [
      "BANPU \tRMSE: 0.37\t MAE: 0.28 \tDA: 0.56\n",
      "IRPC \tRMSE: 0.12\t MAE: 0.09 \tDA: 0.47\n",
      "PTT \tRMSE: 4.76\t MAE: 3.61 \tDA: 0.51\n",
      "BBL \tRMSE: 1.99\t MAE: 1.51 \tDA: 0.51\n",
      "KBANK \tRMSE: 2.76\t MAE: 2.12 \tDA: 0.57\n",
      "SCB \tRMSE: 1.78\t MAE: 1.41 \tDA: 0.48\n",
      "AOT \tRMSE: 23.77\t MAE: 2.27 \tDA: 0.54\n",
      "THAI \tRMSE: 0.49\t MAE: 0.32 \tDA: 0.48\n",
      "CPF \tRMSE: 0.38\t MAE: 0.30 \tDA: 0.53\n",
      "MINT \tRMSE: 0.64\t MAE: 0.52 \tDA: 0.47\n",
      "TU \tRMSE: 0.31\t MAE: 0.24 \tDA: 0.47\n",
      "SCC \tRMSE: 5.38\t MAE: 4.21 \tDA: 0.58\n",
      "CPN \tRMSE: 1.11\t MAE: 0.85 \tDA: 0.56\n",
      "CK \tRMSE: 0.40\t MAE: 0.31 \tDA: 0.47\n",
      "CPALL \tRMSE: 0.79\t MAE: 0.61 \tDA: 0.54\n",
      "HMPRO \tRMSE: 0.22\t MAE: 0.16 \tDA: 0.53\n",
      "BDMS \tRMSE: 0.27\t MAE: 0.21 \tDA: 0.53\n",
      "BH \tRMSE: 3.01\t MAE: 2.16 \tDA: 0.52\n",
      "ADVANC \tRMSE: 2.82\t MAE: 2.21 \tDA: 0.46\n",
      "JAS \tRMSE: 0.18\t MAE: 0.13 \tDA: 0.49\n",
      "TRUE \tRMSE: 0.13\t MAE: 0.10 \tDA: 0.57\n",
      "\n",
      "mean RMSE: 2.46\n",
      "mean MAE: 1.12\n",
      "mean DA: 0.5166\n"
     ]
    }
   ],
   "source": [
    "evaluator(rnd_forest_regr, df_test, le)"
   ]
  },
  {
   "cell_type": "markdown",
   "metadata": {},
   "source": [
    "# AdaBoost Regressor"
   ]
  },
  {
   "cell_type": "code",
   "execution_count": 36,
   "metadata": {},
   "outputs": [
    {
     "data": {
      "text/plain": [
       "AdaBoostRegressor(base_estimator=DecisionTreeRegressor(criterion='mse', max_depth=None, max_features=None,\n",
       "           max_leaf_nodes=None, min_impurity_decrease=0.0,\n",
       "           min_impurity_split=None, min_samples_leaf=1,\n",
       "           min_samples_split=2, min_weight_fraction_leaf=0.0,\n",
       "           presort=False, random_state=None, splitter='best'),\n",
       "         learning_rate=1, loss='linear', n_estimators=50,\n",
       "         random_state=None)"
      ]
     },
     "execution_count": 36,
     "metadata": {},
     "output_type": "execute_result"
    }
   ],
   "source": [
    "adaboost_dt_regr = ensemble.AdaBoostRegressor(base_estimator=tree.DecisionTreeRegressor(),\n",
    "                                           learning_rate=1, \n",
    "                                           n_estimators=50, \n",
    "                                           loss='linear')\n",
    "adaboost_dt_regr.fit(x_train, y_train)"
   ]
  },
  {
   "cell_type": "code",
   "execution_count": 37,
   "metadata": {},
   "outputs": [
    {
     "data": {
      "text/plain": [
       "AdaBoostRegressor(base_estimator=RandomForestRegressor(bootstrap=True, criterion='mse', max_depth=None,\n",
       "           max_features='auto', max_leaf_nodes=None,\n",
       "           min_impurity_decrease=0.0, min_impurity_split=None,\n",
       "           min_samples_leaf=1, min_samples_split=2,\n",
       "           min_weight_fraction_leaf=0.0, n_estimators=10, n_jobs=-1,\n",
       "           oob_score=False, random_state=None, verbose=0, warm_start=False),\n",
       "         learning_rate=1, loss='linear', n_estimators=50,\n",
       "         random_state=None)"
      ]
     },
     "execution_count": 37,
     "metadata": {},
     "output_type": "execute_result"
    }
   ],
   "source": [
    "adaboost_rf_regr = ensemble.AdaBoostRegressor(base_estimator=ensemble.RandomForestRegressor(n_jobs=-1),\n",
    "                                           learning_rate=1, \n",
    "                                           n_estimators=50, \n",
    "                                           loss='linear')\n",
    "adaboost_rf_regr.fit(x_train, y_train)"
   ]
  },
  {
   "cell_type": "code",
   "execution_count": 38,
   "metadata": {},
   "outputs": [
    {
     "name": "stdout",
     "output_type": "stream",
     "text": [
      "BANPU \tRMSE: 0.35\t MAE: 0.25 \tDA: 0.56\n",
      "IRPC \tRMSE: 0.11\t MAE: 0.08 \tDA: 0.54\n",
      "PTT \tRMSE: 4.97\t MAE: 3.77 \tDA: 0.50\n",
      "BBL \tRMSE: 1.92\t MAE: 1.41 \tDA: 0.57\n",
      "KBANK \tRMSE: 2.92\t MAE: 2.21 \tDA: 0.56\n",
      "SCB \tRMSE: 1.67\t MAE: 1.30 \tDA: 0.53\n",
      "AOT \tRMSE: 23.73\t MAE: 2.15 \tDA: 0.57\n",
      "THAI \tRMSE: 0.46\t MAE: 0.28 \tDA: 0.55\n",
      "CPF \tRMSE: 0.36\t MAE: 0.26 \tDA: 0.54\n",
      "MINT \tRMSE: 0.60\t MAE: 0.48 \tDA: 0.51\n",
      "TU \tRMSE: 0.29\t MAE: 0.21 \tDA: 0.52\n",
      "SCC \tRMSE: 5.94\t MAE: 4.69 \tDA: 0.51\n",
      "CPN \tRMSE: 1.06\t MAE: 0.80 \tDA: 0.57\n",
      "CK \tRMSE: 0.38\t MAE: 0.29 \tDA: 0.55\n",
      "CPALL \tRMSE: 0.82\t MAE: 0.61 \tDA: 0.54\n",
      "HMPRO \tRMSE: 0.21\t MAE: 0.15 \tDA: 0.53\n",
      "BDMS \tRMSE: 0.27\t MAE: 0.20 \tDA: 0.52\n",
      "BH \tRMSE: 3.04\t MAE: 2.18 \tDA: 0.55\n",
      "ADVANC \tRMSE: 2.41\t MAE: 1.85 \tDA: 0.51\n",
      "JAS \tRMSE: 0.15\t MAE: 0.11 \tDA: 0.50\n",
      "TRUE \tRMSE: 0.11\t MAE: 0.08 \tDA: 0.61\n",
      "\n",
      "mean RMSE: 2.46\n",
      "mean MAE: 1.11\n",
      "mean DA: 0.5398\n"
     ]
    }
   ],
   "source": [
    "evaluator(adaboost_dt_regr, df_test, le)"
   ]
  },
  {
   "cell_type": "code",
   "execution_count": 39,
   "metadata": {},
   "outputs": [
    {
     "name": "stdout",
     "output_type": "stream",
     "text": [
      "BANPU \tRMSE: 0.36\t MAE: 0.26 \tDA: 0.57\n",
      "IRPC \tRMSE: 0.10\t MAE: 0.07 \tDA: 0.55\n",
      "PTT \tRMSE: 4.81\t MAE: 3.75 \tDA: 0.47\n",
      "BBL \tRMSE: 1.80\t MAE: 1.33 \tDA: 0.58\n",
      "KBANK \tRMSE: 2.68\t MAE: 2.08 \tDA: 0.55\n",
      "SCB \tRMSE: 1.59\t MAE: 1.21 \tDA: 0.56\n",
      "AOT \tRMSE: 23.76\t MAE: 2.23 \tDA: 0.59\n",
      "THAI \tRMSE: 0.43\t MAE: 0.27 \tDA: 0.57\n",
      "CPF \tRMSE: 0.37\t MAE: 0.29 \tDA: 0.53\n",
      "MINT \tRMSE: 0.57\t MAE: 0.44 \tDA: 0.51\n",
      "TU \tRMSE: 0.27\t MAE: 0.19 \tDA: 0.52\n",
      "SCC \tRMSE: 5.51\t MAE: 4.29 \tDA: 0.52\n",
      "CPN \tRMSE: 1.05\t MAE: 0.82 \tDA: 0.48\n",
      "CK \tRMSE: 0.36\t MAE: 0.29 \tDA: 0.54\n",
      "CPALL \tRMSE: 0.75\t MAE: 0.57 \tDA: 0.52\n",
      "HMPRO \tRMSE: 0.19\t MAE: 0.14 \tDA: 0.57\n",
      "BDMS \tRMSE: 0.27\t MAE: 0.19 \tDA: 0.51\n",
      "BH \tRMSE: 2.98\t MAE: 2.11 \tDA: 0.51\n",
      "ADVANC \tRMSE: 2.32\t MAE: 1.82 \tDA: 0.47\n",
      "JAS \tRMSE: 0.15\t MAE: 0.11 \tDA: 0.48\n",
      "TRUE \tRMSE: 0.13\t MAE: 0.10 \tDA: 0.59\n",
      "\n",
      "mean RMSE: 2.4\n",
      "mean MAE: 1.08\n",
      "mean DA: 0.5325\n"
     ]
    }
   ],
   "source": [
    "evaluator(adaboost_rf_regr, df_test, le)"
   ]
  },
  {
   "cell_type": "markdown",
   "metadata": {},
   "source": [
    "# Gradient Boosting Regressor"
   ]
  },
  {
   "cell_type": "code",
   "execution_count": 40,
   "metadata": {},
   "outputs": [
    {
     "data": {
      "text/plain": [
       "GradientBoostingRegressor(alpha=0.9, criterion='friedman_mse', init=None,\n",
       "             learning_rate=0.1, loss='ls', max_depth=6, max_features=None,\n",
       "             max_leaf_nodes=None, min_impurity_decrease=0.0,\n",
       "             min_impurity_split=None, min_samples_leaf=1,\n",
       "             min_samples_split=2, min_weight_fraction_leaf=0.0,\n",
       "             n_estimators=100, presort='auto', random_state=None,\n",
       "             subsample=1.0, verbose=0, warm_start=False)"
      ]
     },
     "execution_count": 40,
     "metadata": {},
     "output_type": "execute_result"
    }
   ],
   "source": [
    "gbr = ensemble.GradientBoostingRegressor(n_estimators=100, \n",
    "                                         learning_rate=0.1,\n",
    "                                         max_depth=6,\n",
    "                                         min_samples_split=2,\n",
    "                                         loss='ls'\n",
    "                                        )\n",
    "gbr.fit(x_train, y_train)"
   ]
  },
  {
   "cell_type": "code",
   "execution_count": 41,
   "metadata": {},
   "outputs": [
    {
     "name": "stdout",
     "output_type": "stream",
     "text": [
      "BANPU \tRMSE: 0.33\t MAE: 0.24 \tDA: 0.57\n",
      "IRPC \tRMSE: 0.12\t MAE: 0.09 \tDA: 0.55\n",
      "PTT \tRMSE: 5.79\t MAE: 4.13 \tDA: 0.47\n",
      "BBL \tRMSE: 1.62\t MAE: 1.19 \tDA: 0.57\n",
      "KBANK \tRMSE: 2.44\t MAE: 1.87 \tDA: 0.51\n",
      "SCB \tRMSE: 1.55\t MAE: 1.21 \tDA: 0.49\n",
      "AOT \tRMSE: 23.83\t MAE: 2.06 \tDA: 0.57\n",
      "THAI \tRMSE: 0.42\t MAE: 0.27 \tDA: 0.54\n",
      "CPF \tRMSE: 0.34\t MAE: 0.26 \tDA: 0.54\n",
      "MINT \tRMSE: 0.57\t MAE: 0.43 \tDA: 0.49\n",
      "TU \tRMSE: 0.27\t MAE: 0.19 \tDA: 0.52\n",
      "SCC \tRMSE: 4.97\t MAE: 3.83 \tDA: 0.57\n",
      "CPN \tRMSE: 1.01\t MAE: 0.79 \tDA: 0.53\n",
      "CK \tRMSE: 0.34\t MAE: 0.27 \tDA: 0.61\n",
      "CPALL \tRMSE: 0.71\t MAE: 0.54 \tDA: 0.47\n",
      "HMPRO \tRMSE: 0.20\t MAE: 0.14 \tDA: 0.56\n",
      "BDMS \tRMSE: 0.25\t MAE: 0.18 \tDA: 0.53\n",
      "BH \tRMSE: 2.71\t MAE: 1.91 \tDA: 0.55\n",
      "ADVANC \tRMSE: 1.91\t MAE: 1.48 \tDA: 0.47\n",
      "JAS \tRMSE: 0.15\t MAE: 0.11 \tDA: 0.48\n",
      "TRUE \tRMSE: 0.14\t MAE: 0.11 \tDA: 0.53\n",
      "\n",
      "mean RMSE: 2.37\n",
      "mean MAE: 1.01\n",
      "mean DA: 0.5304\n"
     ]
    }
   ],
   "source": [
    "evaluator(gbr, df_test, le)"
   ]
  },
  {
   "cell_type": "markdown",
   "metadata": {},
   "source": [
    "# XGBoost Regressor"
   ]
  },
  {
   "cell_type": "code",
   "execution_count": 42,
   "metadata": {},
   "outputs": [],
   "source": [
    "import xgboost\n",
    "from sklearn.model_selection import train_test_split"
   ]
  },
  {
   "cell_type": "code",
   "execution_count": 43,
   "metadata": {},
   "outputs": [
    {
     "data": {
      "text/plain": [
       "(16799, 4200)"
      ]
     },
     "execution_count": 43,
     "metadata": {},
     "output_type": "execute_result"
    }
   ],
   "source": [
    "x_train, x_valid, y_train, y_valid = train_test_split(x_train, y_train, test_size=0.2, random_state=10)\n",
    "len(x_train), len(x_valid)"
   ]
  },
  {
   "cell_type": "code",
   "execution_count": 44,
   "metadata": {},
   "outputs": [],
   "source": [
    "d_train = xgboost.DMatrix(x_train, label=y_train)\n",
    "d_valid = xgboost.DMatrix(x_valid, label=y_valid)"
   ]
  },
  {
   "cell_type": "code",
   "execution_count": 45,
   "metadata": {},
   "outputs": [
    {
     "name": "stdout",
     "output_type": "stream",
     "text": [
      "[0]\ttrain-rmse:167.794\tvalid-rmse:167.41\n",
      "Multiple eval metrics have been passed: 'valid-rmse' will be used for early stopping.\n",
      "\n",
      "Will train until valid-rmse hasn't improved in 30 rounds.\n",
      "[10]\ttrain-rmse:151.814\tvalid-rmse:151.486\n",
      "[20]\ttrain-rmse:137.359\tvalid-rmse:137.081\n",
      "[30]\ttrain-rmse:124.283\tvalid-rmse:124.045\n",
      "[40]\ttrain-rmse:112.455\tvalid-rmse:112.236\n",
      "[50]\ttrain-rmse:101.753\tvalid-rmse:101.567\n",
      "[60]\ttrain-rmse:92.0701\tvalid-rmse:91.9039\n",
      "[70]\ttrain-rmse:83.3113\tvalid-rmse:83.1755\n",
      "[80]\ttrain-rmse:75.3889\tvalid-rmse:75.2735\n",
      "[90]\ttrain-rmse:68.2225\tvalid-rmse:68.1277\n",
      "[100]\ttrain-rmse:61.7389\tvalid-rmse:61.6609\n",
      "[110]\ttrain-rmse:55.874\tvalid-rmse:55.8085\n",
      "[120]\ttrain-rmse:50.5704\tvalid-rmse:50.5197\n",
      "[130]\ttrain-rmse:45.7732\tvalid-rmse:45.7395\n",
      "[140]\ttrain-rmse:41.4356\tvalid-rmse:41.4163\n",
      "[150]\ttrain-rmse:37.5134\tvalid-rmse:37.5061\n",
      "[160]\ttrain-rmse:33.9661\tvalid-rmse:33.9717\n",
      "[170]\ttrain-rmse:30.7591\tvalid-rmse:30.7731\n",
      "[180]\ttrain-rmse:27.8603\tvalid-rmse:27.885\n",
      "[190]\ttrain-rmse:25.2385\tvalid-rmse:25.2757\n",
      "[200]\ttrain-rmse:22.8706\tvalid-rmse:22.9179\n",
      "[210]\ttrain-rmse:20.7316\tvalid-rmse:20.7909\n",
      "[220]\ttrain-rmse:18.7994\tvalid-rmse:18.8716\n",
      "[230]\ttrain-rmse:17.0582\tvalid-rmse:17.139\n",
      "[240]\ttrain-rmse:15.4855\tvalid-rmse:15.5733\n",
      "[250]\ttrain-rmse:14.067\tvalid-rmse:14.1624\n",
      "[260]\ttrain-rmse:12.7897\tvalid-rmse:12.8966\n",
      "[270]\ttrain-rmse:11.639\tvalid-rmse:11.7558\n",
      "[280]\ttrain-rmse:10.6036\tvalid-rmse:10.7328\n",
      "[290]\ttrain-rmse:9.67155\tvalid-rmse:9.81361\n",
      "[300]\ttrain-rmse:8.83764\tvalid-rmse:8.98921\n",
      "[310]\ttrain-rmse:8.08772\tvalid-rmse:8.25387\n",
      "[320]\ttrain-rmse:7.41653\tvalid-rmse:7.59831\n",
      "[330]\ttrain-rmse:6.81837\tvalid-rmse:7.01598\n",
      "[340]\ttrain-rmse:6.28379\tvalid-rmse:6.50047\n",
      "[350]\ttrain-rmse:5.80964\tvalid-rmse:6.04378\n",
      "[360]\ttrain-rmse:5.38589\tvalid-rmse:5.64758\n",
      "[370]\ttrain-rmse:5.01201\tvalid-rmse:5.29622\n",
      "[380]\ttrain-rmse:4.68453\tvalid-rmse:4.98885\n",
      "[390]\ttrain-rmse:4.39675\tvalid-rmse:4.72225\n",
      "[400]\ttrain-rmse:4.14319\tvalid-rmse:4.4936\n",
      "[410]\ttrain-rmse:3.92277\tvalid-rmse:4.29233\n",
      "[420]\ttrain-rmse:3.73282\tvalid-rmse:4.12442\n",
      "[430]\ttrain-rmse:3.56619\tvalid-rmse:3.97888\n",
      "[440]\ttrain-rmse:3.42396\tvalid-rmse:3.8553\n",
      "[450]\ttrain-rmse:3.30054\tvalid-rmse:3.74971\n",
      "[460]\ttrain-rmse:3.19522\tvalid-rmse:3.66168\n",
      "[470]\ttrain-rmse:3.10338\tvalid-rmse:3.58664\n",
      "[480]\ttrain-rmse:3.02557\tvalid-rmse:3.52297\n",
      "[490]\ttrain-rmse:2.95953\tvalid-rmse:3.47015\n",
      "[500]\ttrain-rmse:2.89997\tvalid-rmse:3.42805\n",
      "[510]\ttrain-rmse:2.84629\tvalid-rmse:3.39409\n",
      "[520]\ttrain-rmse:2.80452\tvalid-rmse:3.3628\n",
      "[530]\ttrain-rmse:2.76706\tvalid-rmse:3.3388\n",
      "[540]\ttrain-rmse:2.73418\tvalid-rmse:3.32125\n",
      "[550]\ttrain-rmse:2.70799\tvalid-rmse:3.30422\n",
      "[560]\ttrain-rmse:2.6821\tvalid-rmse:3.29449\n",
      "[570]\ttrain-rmse:2.66106\tvalid-rmse:3.28239\n",
      "[580]\ttrain-rmse:2.64239\tvalid-rmse:3.27257\n",
      "[590]\ttrain-rmse:2.62643\tvalid-rmse:3.26498\n",
      "[600]\ttrain-rmse:2.6122\tvalid-rmse:3.2588\n",
      "[610]\ttrain-rmse:2.5995\tvalid-rmse:3.25323\n",
      "[620]\ttrain-rmse:2.58683\tvalid-rmse:3.24914\n",
      "[630]\ttrain-rmse:2.577\tvalid-rmse:3.24482\n",
      "[640]\ttrain-rmse:2.56669\tvalid-rmse:3.24166\n",
      "[650]\ttrain-rmse:2.55566\tvalid-rmse:3.24129\n",
      "[660]\ttrain-rmse:2.54434\tvalid-rmse:3.23808\n",
      "[670]\ttrain-rmse:2.5353\tvalid-rmse:3.23657\n",
      "[680]\ttrain-rmse:2.52793\tvalid-rmse:3.23462\n",
      "[690]\ttrain-rmse:2.52065\tvalid-rmse:3.23451\n",
      "[700]\ttrain-rmse:2.51377\tvalid-rmse:3.23404\n",
      "[710]\ttrain-rmse:2.5065\tvalid-rmse:3.23436\n",
      "Stopping. Best iteration:\n",
      "[688]\ttrain-rmse:2.52266\tvalid-rmse:3.23393\n",
      "\n"
     ]
    }
   ],
   "source": [
    "params = {\n",
    "    'booster':'gbtree',\n",
    "    'max_depth': 6,\n",
    "    'learning_rate': 0.01,\n",
    "    'n_estimators':100,\n",
    "    'subsample': 0.80,\n",
    "    'objective': 'reg:linear',\n",
    "    'eval_metric': 'rmse',\n",
    "    'reg_lambda': 0.8,   \n",
    "    'reg_alpha': 0.4, \n",
    "    'silent': 1,\n",
    "}\n",
    "\n",
    "xgb = xgboost.train(params, d_train, \n",
    "                    num_boost_round=5000, \n",
    "                    evals=[(d_train, 'train'), (d_valid, 'valid')], \n",
    "                    early_stopping_rounds=30,\n",
    "                    verbose_eval=10\n",
    "                   )"
   ]
  },
  {
   "cell_type": "code",
   "execution_count": 46,
   "metadata": {},
   "outputs": [
    {
     "data": {
      "text/plain": [
       "<matplotlib.axes._subplots.AxesSubplot at 0x7fd7af4663c8>"
      ]
     },
     "execution_count": 46,
     "metadata": {},
     "output_type": "execute_result"
    },
    {
     "data": {
      "image/png": "[encoded data removed]",
      "text/plain": [
       "<matplotlib.figure.Figure at 0x7fd7af45f0b8>"
      ]
     },
     "metadata": {},
     "output_type": "display_data"
    }
   ],
   "source": [
    "xgboost.plot_importance(xgb, height=0.3)"
   ]
  },
  {
   "cell_type": "code",
   "execution_count": 47,
   "metadata": {},
   "outputs": [
    {
     "name": "stdout",
     "output_type": "stream",
     "text": [
      "BANPU \tRMSE: 0.33\t MAE: 0.24 \tDA: 0.56\n",
      "IRPC \tRMSE: 0.10\t MAE: 0.08 \tDA: 0.59\n",
      "PTT \tRMSE: 5.48\t MAE: 3.89 \tDA: 0.46\n",
      "BBL \tRMSE: 1.64\t MAE: 1.21 \tDA: 0.56\n",
      "KBANK \tRMSE: 2.48\t MAE: 1.91 \tDA: 0.47\n",
      "SCB \tRMSE: 1.51\t MAE: 1.17 \tDA: 0.49\n",
      "AOT \tRMSE: 23.86\t MAE: 2.09 \tDA: 0.51\n",
      "THAI \tRMSE: 0.41\t MAE: 0.26 \tDA: 0.55\n",
      "CPF \tRMSE: 0.34\t MAE: 0.25 \tDA: 0.59\n",
      "MINT \tRMSE: 0.55\t MAE: 0.42 \tDA: 0.42\n",
      "TU \tRMSE: 0.26\t MAE: 0.19 \tDA: 0.49\n",
      "SCC \tRMSE: 5.06\t MAE: 3.85 \tDA: 0.54\n",
      "CPN \tRMSE: 1.05\t MAE: 0.81 \tDA: 0.51\n",
      "CK \tRMSE: 0.34\t MAE: 0.27 \tDA: 0.55\n",
      "CPALL \tRMSE: 0.74\t MAE: 0.57 \tDA: 0.45\n",
      "HMPRO \tRMSE: 0.20\t MAE: 0.14 \tDA: 0.55\n",
      "BDMS \tRMSE: 0.25\t MAE: 0.18 \tDA: 0.50\n",
      "BH \tRMSE: 2.75\t MAE: 1.93 \tDA: 0.51\n",
      "ADVANC \tRMSE: 1.93\t MAE: 1.48 \tDA: 0.48\n",
      "JAS \tRMSE: 0.14\t MAE: 0.10 \tDA: 0.52\n",
      "TRUE \tRMSE: 0.12\t MAE: 0.09 \tDA: 0.60\n",
      "\n",
      "mean RMSE: 2.36\n",
      "mean MAE: 1.01\n",
      "mean DA: 0.52\n"
     ]
    }
   ],
   "source": [
    "evaluator(xgb, df_test, le, isXGB=True)"
   ]
  },
  {
   "cell_type": "code",
   "execution_count": null,
   "metadata": {
    "collapsed": true
   },
   "outputs": [],
   "source": []
  }
 ],
 "metadata": {
  "kernelspec": {
   "display_name": "Python 3",
   "language": "python",
   "name": "python3"
  },
  "language_info": {
   "codemirror_mode": {
    "name": "ipython",
    "version": 3
   },
   "file_extension": ".py",
   "mimetype": "text/x-python",
   "name": "python",
   "nbconvert_exporter": "python",
   "pygments_lexer": "ipython3",
   "version": "3.5.2"
  }
 },
 "nbformat": 4,
 "nbformat_minor": 2
}
