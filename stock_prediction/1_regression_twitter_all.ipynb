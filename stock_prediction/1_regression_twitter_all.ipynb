{
 "cells": [
  {
   "cell_type": "markdown",
   "metadata": {},
   "source": [
    "# Regression with Twitter (all)"
   ]
  },
  {
   "cell_type": "code",
   "execution_count": 1,
   "metadata": {},
   "outputs": [
    {
     "data": {
      "text/html": [
       "<style>.container { width:100% !important; }</style>"
      ],
      "text/plain": [
       "<IPython.core.display.HTML object>"
      ]
     },
     "metadata": {},
     "output_type": "display_data"
    },
    {
     "data": {
      "text/plain": [
       "'3.5.2 (default, Nov 23 2017, 16:37:01) \\n[GCC 5.4.0 20160609]'"
      ]
     },
     "execution_count": 1,
     "metadata": {},
     "output_type": "execute_result"
    }
   ],
   "source": [
    "from IPython.core.display import display, HTML\n",
    "display(HTML(\"<style>.container { width:100% !important; }</style>\"))\n",
    "\n",
    "from IPython.core.interactiveshell import InteractiveShell\n",
    "InteractiveShell.ast_node_interactivity = \"all\"\n",
    "\n",
    "import sys\n",
    "sys.version"
   ]
  },
  {
   "cell_type": "code",
   "execution_count": 33,
   "metadata": {},
   "outputs": [
    {
     "data": {
      "text/html": [
       "<script>requirejs.config({paths: { 'plotly': ['https://cdn.plot.ly/plotly-latest.min']},});if(!window.Plotly) {{require(['plotly'],function(plotly) {window.Plotly=plotly;});}}</script>"
      ],
      "text/vnd.plotly.v1+html": [
       "<script>requirejs.config({paths: { 'plotly': ['https://cdn.plot.ly/plotly-latest.min']},});if(!window.Plotly) {{require(['plotly'],function(plotly) {window.Plotly=plotly;});}}</script>"
      ]
     },
     "metadata": {},
     "output_type": "display_data"
    },
    {
     "data": {
      "text/html": [
       "<div>\n",
       "<style scoped>\n",
       "    .dataframe tbody tr th:only-of-type {\n",
       "        vertical-align: middle;\n",
       "    }\n",
       "\n",
       "    .dataframe tbody tr th {\n",
       "        vertical-align: top;\n",
       "    }\n",
       "\n",
       "    .dataframe thead th {\n",
       "        text-align: right;\n",
       "    }\n",
       "</style>\n",
       "<table border=\"1\" class=\"dataframe\">\n",
       "  <thead>\n",
       "    <tr style=\"text-align: right;\">\n",
       "      <th></th>\n",
       "      <th>Ticker</th>\n",
       "      <th>Open</th>\n",
       "      <th>High</th>\n",
       "      <th>Low</th>\n",
       "      <th>Close</th>\n",
       "      <th>Volume</th>\n",
       "    </tr>\n",
       "    <tr>\n",
       "      <th>Date</th>\n",
       "      <th></th>\n",
       "      <th></th>\n",
       "      <th></th>\n",
       "      <th></th>\n",
       "      <th></th>\n",
       "      <th></th>\n",
       "    </tr>\n",
       "  </thead>\n",
       "  <tbody>\n",
       "    <tr>\n",
       "      <th>2018-02-16</th>\n",
       "      <td>THAI</td>\n",
       "      <td>15.6</td>\n",
       "      <td>15.9</td>\n",
       "      <td>15.6</td>\n",
       "      <td>15.6</td>\n",
       "      <td>2907700</td>\n",
       "    </tr>\n",
       "    <tr>\n",
       "      <th>2018-02-16</th>\n",
       "      <td>TRUE</td>\n",
       "      <td>6.4</td>\n",
       "      <td>6.4</td>\n",
       "      <td>6.3</td>\n",
       "      <td>6.3</td>\n",
       "      <td>35851300</td>\n",
       "    </tr>\n",
       "    <tr>\n",
       "      <th>2018-02-16</th>\n",
       "      <td>TU</td>\n",
       "      <td>20.0</td>\n",
       "      <td>20.5</td>\n",
       "      <td>20.0</td>\n",
       "      <td>20.1</td>\n",
       "      <td>7299300</td>\n",
       "    </tr>\n",
       "  </tbody>\n",
       "</table>\n",
       "</div>"
      ],
      "text/plain": [
       "           Ticker  Open  High   Low  Close    Volume\n",
       "Date                                                \n",
       "2018-02-16   THAI  15.6  15.9  15.6   15.6   2907700\n",
       "2018-02-16   TRUE   6.4   6.4   6.3    6.3  35851300\n",
       "2018-02-16     TU  20.0  20.5  20.0   20.1   7299300"
      ]
     },
     "execution_count": 33,
     "metadata": {},
     "output_type": "execute_result"
    },
    {
     "data": {
      "text/plain": [
       "26331"
      ]
     },
     "execution_count": 33,
     "metadata": {},
     "output_type": "execute_result"
    },
    {
     "data": {
      "text/html": [
       "<div>\n",
       "<style scoped>\n",
       "    .dataframe tbody tr th:only-of-type {\n",
       "        vertical-align: middle;\n",
       "    }\n",
       "\n",
       "    .dataframe tbody tr th {\n",
       "        vertical-align: top;\n",
       "    }\n",
       "\n",
       "    .dataframe thead th {\n",
       "        text-align: right;\n",
       "    }\n",
       "</style>\n",
       "<table border=\"1\" class=\"dataframe\">\n",
       "  <thead>\n",
       "    <tr style=\"text-align: right;\">\n",
       "      <th></th>\n",
       "      <th>Ticker</th>\n",
       "      <th>Text</th>\n",
       "    </tr>\n",
       "  </thead>\n",
       "  <tbody>\n",
       "    <tr>\n",
       "      <th>2018-02-08</th>\n",
       "      <td>TU</td>\n",
       "      <td>มธ ขาด คน มา นั่ง ด้วย</td>\n",
       "    </tr>\n",
       "    <tr>\n",
       "      <th>2018-02-08</th>\n",
       "      <td>TU</td>\n",
       "      <td>มธ รังสิต ใคร รับ นวด บ้าง หอ ใน หอน อก ห้อง ใ...</td>\n",
       "    </tr>\n",
       "    <tr>\n",
       "      <th>2018-02-08</th>\n",
       "      <td>TU</td>\n",
       "      <td>วัน ที่ ก พน้อง เอง ก็ อยาก มี โมเม้น ไป มธ รั...</td>\n",
       "    </tr>\n",
       "  </tbody>\n",
       "</table>\n",
       "</div>"
      ],
      "text/plain": [
       "           Ticker                                               Text\n",
       "2018-02-08     TU                             มธ ขาด คน มา นั่ง ด้วย\n",
       "2018-02-08     TU  มธ รังสิต ใคร รับ นวด บ้าง หอ ใน หอน อก ห้อง ใ...\n",
       "2018-02-08     TU  วัน ที่ ก พน้อง เอง ก็ อยาก มี โมเม้น ไป มธ รั..."
      ]
     },
     "execution_count": 33,
     "metadata": {},
     "output_type": "execute_result"
    },
    {
     "data": {
      "text/plain": [
       "12741"
      ]
     },
     "execution_count": 33,
     "metadata": {},
     "output_type": "execute_result"
    }
   ],
   "source": [
    "import pandas as pd\n",
    "import os\n",
    "import copy\n",
    "import numpy as np\n",
    "import xgboost\n",
    "\n",
    "from pythainlp.corpus import stopwords\n",
    "from sklearn.feature_extraction.text import TfidfVectorizer\n",
    "from sklearn.linear_model import LinearRegression\n",
    "from sklearn.metrics import mean_squared_error, mean_absolute_error, accuracy_score\n",
    "from sklearn import preprocessing\n",
    "\n",
    "from plotly.offline import download_plotlyjs, init_notebook_mode, plot, iplot\n",
    "init_notebook_mode(connected=True)\n",
    "\n",
    "import plotly.graph_objs as go\n",
    "from datetime import datetime, timedelta\n",
    "from tqdm import tqdm_notebook\n",
    "import matplotlib.pyplot as plt\n",
    "% matplotlib inline\n",
    "\n",
    "target_stocks = ['BANPU','IRPC','PTT','BBL','KBANK','SCB','AOT','THAI','CPF','MINT',\n",
    "                 'TU','SCC','CPN','CK','CPALL','HMPRO','BDMS','BH','ADVANC','JAS','TRUE']\n",
    "\n",
    "df_price = pd.read_csv('merged_2013_2018.csv')\n",
    "df_price['Date'] = pd.to_datetime(df_price['Date'], format='%Y-%m-%d')\n",
    "df_price = df_price.loc[df_price['Ticker'].isin(target_stocks)]\n",
    "df_price['Date'] = df_price['Date'].dt.date\n",
    "df_price = df_price.set_index('Date')\n",
    "df_price.tail(3)\n",
    "len(df_price)\n",
    "\n",
    "df_twitter = pd.read_csv('data/twitter_all.csv')\n",
    "df_twitter['Date'] = pd.to_datetime(df_twitter['Date'], format='%Y-%m-%d')\n",
    "df_twitter = df_twitter.set_index('Date')\n",
    "df_twitter = df_twitter[:'2018-2-8']\n",
    "df_twitter.index = df_twitter.index.date\n",
    "df_twitter = df_twitter.sort_index()\n",
    "df_twitter.tail(3)\n",
    "len(df_twitter)"
   ]
  },
  {
   "cell_type": "markdown",
   "metadata": {},
   "source": [
    "# Lag & Horizon Construction"
   ]
  },
  {
   "cell_type": "code",
   "execution_count": 34,
   "metadata": {},
   "outputs": [],
   "source": [
    "N_lags = 3\n",
    "N_horizon = 1"
   ]
  },
  {
   "cell_type": "code",
   "execution_count": 35,
   "metadata": {},
   "outputs": [
    {
     "data": {
      "application/vnd.jupyter.widget-view+json": {
       "model_id": "c39b17f72119430b9be0cfdc678bb72a",
       "version_major": 2,
       "version_minor": 0
      },
      "text/html": [
       "<p>Failed to display Jupyter Widget of type <code>HBox</code>.</p>\n",
       "<p>\n",
       "  If you're reading this message in the Jupyter Notebook or JupyterLab Notebook, it may mean\n",
       "  that the widgets JavaScript is still loading. If this message persists, it\n",
       "  likely means that the widgets JavaScript library is either not installed or\n",
       "  not enabled. See the <a href=\"https://ipywidgets.readthedocs.io/en/stable/user_install.html\">Jupyter\n",
       "  Widgets Documentation</a> for setup instructions.\n",
       "</p>\n",
       "<p>\n",
       "  If you're reading this message in another frontend (for example, a static\n",
       "  rendering on GitHub or <a href=\"https://nbviewer.jupyter.org/\">NBViewer</a>),\n",
       "  it may mean that your frontend doesn't currently support widgets.\n",
       "</p>\n"
      ],
      "text/plain": [
       "HBox(children=(IntProgress(value=0, max=21), HTML(value='')))"
      ]
     },
     "metadata": {},
     "output_type": "display_data"
    },
    {
     "name": "stdout",
     "output_type": "stream",
     "text": [
      "BANPU :\t 89 23\n",
      "IRPC :\t 51 13\n",
      "PTT :\t 347 87\n",
      "BBL :\t 251 63\n",
      "KBANK :\t 202 51\n",
      "SCB :\t 595 149\n",
      "AOT :\t 255 64\n",
      "THAI :\t 6 2\n",
      "CPF :\t 143 36\n",
      "MINT :\t 68 17\n",
      "TU :\t 846 212\n",
      "SCC :\t 78 20\n",
      "CPN :\t 112 29\n",
      "CK :\t 251 63\n",
      "CPALL :\t 116 30\n",
      "HMPRO :\t 9 3\n",
      "BDMS :\t 80 21\n",
      "BH :\t 115 29\n",
      "ADVANC :\t 104 26\n",
      "JAS :\t 164 41\n",
      "TRUE :\t 427 107\n"
     ]
    }
   ],
   "source": [
    "df_train = []\n",
    "df_test = []\n",
    "for stock in tqdm_notebook(target_stocks):\n",
    "    news_stocks = []\n",
    "    df_stock = df_twitter.loc[df_twitter['Ticker'] == stock]\n",
    "    prev_date = None\n",
    "    prev_text = None\n",
    "    \n",
    "#     pbar = tqdm_notebook(total=len(df_stock))\n",
    "    for date, row in df_stock.iterrows():\n",
    "        if prev_date == None:\n",
    "            prev_date = date\n",
    "            prev_text = row['Text']\n",
    "        elif prev_date != date:\n",
    "            # horizon\n",
    "            tmp_date = copy.deepcopy(prev_date)\n",
    "            tmp_date += timedelta(days=1)\n",
    "            prices = []\n",
    "            count_lags = 0 \n",
    "            while count_lags < N_horizon:\n",
    "                price = df_price.loc[(df_price.index == tmp_date) & (df_price['Ticker'] == stock)].values\n",
    "                tmp_date += timedelta(days=1)\n",
    "                if len(price) == 0: continue\n",
    "                prices.append(price[0][4]) # Close price next day(s)\n",
    "                count_lags+=1\n",
    "            \n",
    "            # lag\n",
    "            tmp_date = copy.deepcopy(prev_date)\n",
    "            count_lags = 0 \n",
    "            while count_lags <= N_lags:\n",
    "                price = df_price.loc[(df_price.index == tmp_date) & (df_price['Ticker'] == stock)].values\n",
    "                tmp_date -= timedelta(days=1)\n",
    "                if len(price) == 0: continue\n",
    "                for val in price[0][:-1]: \n",
    "                    if type(val) != str: prices.append(val)\n",
    "                count_lags+=1\n",
    "\n",
    "            news_stocks.append([prev_date, stock, prev_text] + prices)\n",
    "            \n",
    "            prev_date = date\n",
    "            prev_text = row['Text']\n",
    "        elif prev_date == date:\n",
    "            prev_text += ' '+row['Text']\n",
    "        \n",
    "#         pbar.update(1)\n",
    "#     pbar.close()\n",
    "\n",
    "    news_stocks = pd.DataFrame.from_records(news_stocks)\n",
    "    news_stocks.columns = ['Date', 'Ticker', 'Text', \n",
    "                           'Close(t+1)', # 'Close(t+2)','Close(t+3)','Close(t+4)','Close(t+5)',\n",
    "                           'Open(t)', 'High(t)', 'Low(t)', 'Close(t)',\n",
    "                           'Open(t-1)', 'High(t-1)', 'Low(t-1)', 'Close(t-1)',\n",
    "                           'Open(t-2)', 'High(t-2)', 'Low(t-2)', 'Close(t-2)',\n",
    "                           'Open(t-3)', 'High(t-3)', 'Low(t-3)', 'Close(t-3)',\n",
    "#                            'Open(t-4)', 'High(t-4)', 'Low(t-4)', 'Close(t-4)',\n",
    "#                            'Open(t-5)', 'High(t-5)', 'Low(t-5)', 'Close(t-5)'\n",
    "                          ]\n",
    "    news_stocks = news_stocks.set_index('Date')\n",
    "    \n",
    "    train_size = int(len(news_stocks) * 0.80)\n",
    "    test_size = len(news_stocks) - train_size\n",
    "    train, test = news_stocks.iloc[:train_size], news_stocks.iloc[train_size:]\n",
    "    print(stock, ':\\t',len(train), len(test))    \n",
    "    df_train.append(train)\n",
    "    df_test.append(test)\n",
    "    \n",
    "\n",
    "df_train = pd.concat(df_train, axis=0)\n",
    "df_test = pd.concat(df_test, axis=0)"
   ]
  },
  {
   "cell_type": "code",
   "execution_count": 36,
   "metadata": {},
   "outputs": [
    {
     "data": {
      "text/plain": [
       "(4309, 1086)"
      ]
     },
     "execution_count": 36,
     "metadata": {},
     "output_type": "execute_result"
    },
    {
     "data": {
      "text/html": [
       "<div>\n",
       "<style scoped>\n",
       "    .dataframe tbody tr th:only-of-type {\n",
       "        vertical-align: middle;\n",
       "    }\n",
       "\n",
       "    .dataframe tbody tr th {\n",
       "        vertical-align: top;\n",
       "    }\n",
       "\n",
       "    .dataframe thead th {\n",
       "        text-align: right;\n",
       "    }\n",
       "</style>\n",
       "<table border=\"1\" class=\"dataframe\">\n",
       "  <thead>\n",
       "    <tr style=\"text-align: right;\">\n",
       "      <th></th>\n",
       "      <th>Ticker</th>\n",
       "      <th>Text</th>\n",
       "      <th>Close(t+1)</th>\n",
       "      <th>Open(t)</th>\n",
       "      <th>High(t)</th>\n",
       "      <th>Low(t)</th>\n",
       "      <th>Close(t)</th>\n",
       "      <th>Open(t-1)</th>\n",
       "      <th>High(t-1)</th>\n",
       "      <th>Low(t-1)</th>\n",
       "      <th>Close(t-1)</th>\n",
       "      <th>Open(t-2)</th>\n",
       "      <th>High(t-2)</th>\n",
       "      <th>Low(t-2)</th>\n",
       "      <th>Close(t-2)</th>\n",
       "      <th>Open(t-3)</th>\n",
       "      <th>High(t-3)</th>\n",
       "      <th>Low(t-3)</th>\n",
       "      <th>Close(t-3)</th>\n",
       "    </tr>\n",
       "    <tr>\n",
       "      <th>Date</th>\n",
       "      <th></th>\n",
       "      <th></th>\n",
       "      <th></th>\n",
       "      <th></th>\n",
       "      <th></th>\n",
       "      <th></th>\n",
       "      <th></th>\n",
       "      <th></th>\n",
       "      <th></th>\n",
       "      <th></th>\n",
       "      <th></th>\n",
       "      <th></th>\n",
       "      <th></th>\n",
       "      <th></th>\n",
       "      <th></th>\n",
       "      <th></th>\n",
       "      <th></th>\n",
       "      <th></th>\n",
       "      <th></th>\n",
       "    </tr>\n",
       "  </thead>\n",
       "  <tbody>\n",
       "    <tr>\n",
       "      <th>2014-03-04</th>\n",
       "      <td>BANPU</td>\n",
       "      <td>วิตก ยูเครน น้ำมันดิบ พุ่ง วันนี้ หุ้น พลังงาน...</td>\n",
       "      <td>26.50</td>\n",
       "      <td>26.50</td>\n",
       "      <td>26.75</td>\n",
       "      <td>26.25</td>\n",
       "      <td>26.50</td>\n",
       "      <td>26.00</td>\n",
       "      <td>26.75</td>\n",
       "      <td>26.00</td>\n",
       "      <td>26.25</td>\n",
       "      <td>26.00</td>\n",
       "      <td>26.25</td>\n",
       "      <td>25.50</td>\n",
       "      <td>26.00</td>\n",
       "      <td>25.25</td>\n",
       "      <td>26.25</td>\n",
       "      <td>25.00</td>\n",
       "      <td>26.00</td>\n",
       "    </tr>\n",
       "    <tr>\n",
       "      <th>2014-03-21</th>\n",
       "      <td>BANPU</td>\n",
       "      <td>โบ รก แนะ หุ้น เด่น มี ลุ้น เด้ง ขึ้น วันนี้ โ...</td>\n",
       "      <td>26.00</td>\n",
       "      <td>26.00</td>\n",
       "      <td>26.25</td>\n",
       "      <td>25.75</td>\n",
       "      <td>26.25</td>\n",
       "      <td>25.75</td>\n",
       "      <td>26.00</td>\n",
       "      <td>25.50</td>\n",
       "      <td>26.00</td>\n",
       "      <td>26.25</td>\n",
       "      <td>26.50</td>\n",
       "      <td>25.75</td>\n",
       "      <td>25.75</td>\n",
       "      <td>26.00</td>\n",
       "      <td>26.50</td>\n",
       "      <td>26.00</td>\n",
       "      <td>26.00</td>\n",
       "    </tr>\n",
       "    <tr>\n",
       "      <th>2014-03-24</th>\n",
       "      <td>BANPU</td>\n",
       "      <td>คัด หุ้น เทคนิค เด่น โบ รก ลุ้น วิ่ง ชน แนว ต้...</td>\n",
       "      <td>26.25</td>\n",
       "      <td>26.25</td>\n",
       "      <td>26.50</td>\n",
       "      <td>25.75</td>\n",
       "      <td>26.00</td>\n",
       "      <td>26.00</td>\n",
       "      <td>26.25</td>\n",
       "      <td>25.75</td>\n",
       "      <td>26.25</td>\n",
       "      <td>25.75</td>\n",
       "      <td>26.00</td>\n",
       "      <td>25.50</td>\n",
       "      <td>26.00</td>\n",
       "      <td>26.25</td>\n",
       "      <td>26.50</td>\n",
       "      <td>25.75</td>\n",
       "      <td>25.75</td>\n",
       "    </tr>\n",
       "  </tbody>\n",
       "</table>\n",
       "</div>"
      ],
      "text/plain": [
       "           Ticker                                               Text  \\\n",
       "Date                                                                   \n",
       "2014-03-04  BANPU  วิตก ยูเครน น้ำมันดิบ พุ่ง วันนี้ หุ้น พลังงาน...   \n",
       "2014-03-21  BANPU  โบ รก แนะ หุ้น เด่น มี ลุ้น เด้ง ขึ้น วันนี้ โ...   \n",
       "2014-03-24  BANPU  คัด หุ้น เทคนิค เด่น โบ รก ลุ้น วิ่ง ชน แนว ต้...   \n",
       "\n",
       "            Close(t+1)  Open(t)  High(t)  Low(t)  Close(t)  Open(t-1)  \\\n",
       "Date                                                                    \n",
       "2014-03-04       26.50    26.50    26.75   26.25     26.50      26.00   \n",
       "2014-03-21       26.00    26.00    26.25   25.75     26.25      25.75   \n",
       "2014-03-24       26.25    26.25    26.50   25.75     26.00      26.00   \n",
       "\n",
       "            High(t-1)  Low(t-1)  Close(t-1)  Open(t-2)  High(t-2)  Low(t-2)  \\\n",
       "Date                                                                          \n",
       "2014-03-04      26.75     26.00       26.25      26.00      26.25     25.50   \n",
       "2014-03-21      26.00     25.50       26.00      26.25      26.50     25.75   \n",
       "2014-03-24      26.25     25.75       26.25      25.75      26.00     25.50   \n",
       "\n",
       "            Close(t-2)  Open(t-3)  High(t-3)  Low(t-3)  Close(t-3)  \n",
       "Date                                                                \n",
       "2014-03-04       26.00      25.25      26.25     25.00       26.00  \n",
       "2014-03-21       25.75      26.00      26.50     26.00       26.00  \n",
       "2014-03-24       26.00      26.25      26.50     25.75       25.75  "
      ]
     },
     "execution_count": 36,
     "metadata": {},
     "output_type": "execute_result"
    },
    {
     "data": {
      "text/html": [
       "<div>\n",
       "<style scoped>\n",
       "    .dataframe tbody tr th:only-of-type {\n",
       "        vertical-align: middle;\n",
       "    }\n",
       "\n",
       "    .dataframe tbody tr th {\n",
       "        vertical-align: top;\n",
       "    }\n",
       "\n",
       "    .dataframe thead th {\n",
       "        text-align: right;\n",
       "    }\n",
       "</style>\n",
       "<table border=\"1\" class=\"dataframe\">\n",
       "  <thead>\n",
       "    <tr style=\"text-align: right;\">\n",
       "      <th></th>\n",
       "      <th>Ticker</th>\n",
       "      <th>Text</th>\n",
       "      <th>Close(t+1)</th>\n",
       "      <th>Open(t)</th>\n",
       "      <th>High(t)</th>\n",
       "      <th>Low(t)</th>\n",
       "      <th>Close(t)</th>\n",
       "      <th>Open(t-1)</th>\n",
       "      <th>High(t-1)</th>\n",
       "      <th>Low(t-1)</th>\n",
       "      <th>Close(t-1)</th>\n",
       "      <th>Open(t-2)</th>\n",
       "      <th>High(t-2)</th>\n",
       "      <th>Low(t-2)</th>\n",
       "      <th>Close(t-2)</th>\n",
       "      <th>Open(t-3)</th>\n",
       "      <th>High(t-3)</th>\n",
       "      <th>Low(t-3)</th>\n",
       "      <th>Close(t-3)</th>\n",
       "    </tr>\n",
       "    <tr>\n",
       "      <th>Date</th>\n",
       "      <th></th>\n",
       "      <th></th>\n",
       "      <th></th>\n",
       "      <th></th>\n",
       "      <th></th>\n",
       "      <th></th>\n",
       "      <th></th>\n",
       "      <th></th>\n",
       "      <th></th>\n",
       "      <th></th>\n",
       "      <th></th>\n",
       "      <th></th>\n",
       "      <th></th>\n",
       "      <th></th>\n",
       "      <th></th>\n",
       "      <th></th>\n",
       "      <th></th>\n",
       "      <th></th>\n",
       "      <th></th>\n",
       "    </tr>\n",
       "  </thead>\n",
       "  <tbody>\n",
       "    <tr>\n",
       "      <th>2017-02-16</th>\n",
       "      <td>BANPU</td>\n",
       "      <td>ลุ้น รีบาวด์ เคาะ หุ้น ร้อน ปันผล กำไร โต ลุ้น...</td>\n",
       "      <td>19.5</td>\n",
       "      <td>19.7</td>\n",
       "      <td>19.9</td>\n",
       "      <td>19.5</td>\n",
       "      <td>19.8</td>\n",
       "      <td>19.4</td>\n",
       "      <td>19.6</td>\n",
       "      <td>19.3</td>\n",
       "      <td>19.6</td>\n",
       "      <td>19.1</td>\n",
       "      <td>19.6</td>\n",
       "      <td>19.0</td>\n",
       "      <td>19.2</td>\n",
       "      <td>18.9</td>\n",
       "      <td>19.1</td>\n",
       "      <td>18.8</td>\n",
       "      <td>18.9</td>\n",
       "    </tr>\n",
       "    <tr>\n",
       "      <th>2017-02-24</th>\n",
       "      <td>BANPU</td>\n",
       "      <td>คง มุมมอง ต่อราคา ถ่านหิน หนุน กำไร ปี โต กว่า...</td>\n",
       "      <td>19.6</td>\n",
       "      <td>19.5</td>\n",
       "      <td>19.8</td>\n",
       "      <td>19.4</td>\n",
       "      <td>19.5</td>\n",
       "      <td>19.3</td>\n",
       "      <td>19.4</td>\n",
       "      <td>19.2</td>\n",
       "      <td>19.4</td>\n",
       "      <td>19.5</td>\n",
       "      <td>19.5</td>\n",
       "      <td>19.3</td>\n",
       "      <td>19.4</td>\n",
       "      <td>19.8</td>\n",
       "      <td>19.8</td>\n",
       "      <td>19.3</td>\n",
       "      <td>19.4</td>\n",
       "    </tr>\n",
       "    <tr>\n",
       "      <th>2017-03-03</th>\n",
       "      <td>BANPU</td>\n",
       "      <td>หุ้น อันดับ ที่ มี คน ค้นหา ข่าว มาก ที่สุด ปร...</td>\n",
       "      <td>19.7</td>\n",
       "      <td>20.1</td>\n",
       "      <td>20.1</td>\n",
       "      <td>19.8</td>\n",
       "      <td>20.1</td>\n",
       "      <td>20.0</td>\n",
       "      <td>20.2</td>\n",
       "      <td>19.9</td>\n",
       "      <td>20.1</td>\n",
       "      <td>19.7</td>\n",
       "      <td>19.8</td>\n",
       "      <td>19.6</td>\n",
       "      <td>19.8</td>\n",
       "      <td>19.7</td>\n",
       "      <td>19.8</td>\n",
       "      <td>19.6</td>\n",
       "      <td>19.6</td>\n",
       "    </tr>\n",
       "  </tbody>\n",
       "</table>\n",
       "</div>"
      ],
      "text/plain": [
       "           Ticker                                               Text  \\\n",
       "Date                                                                   \n",
       "2017-02-16  BANPU  ลุ้น รีบาวด์ เคาะ หุ้น ร้อน ปันผล กำไร โต ลุ้น...   \n",
       "2017-02-24  BANPU  คง มุมมอง ต่อราคา ถ่านหิน หนุน กำไร ปี โต กว่า...   \n",
       "2017-03-03  BANPU  หุ้น อันดับ ที่ มี คน ค้นหา ข่าว มาก ที่สุด ปร...   \n",
       "\n",
       "            Close(t+1)  Open(t)  High(t)  Low(t)  Close(t)  Open(t-1)  \\\n",
       "Date                                                                    \n",
       "2017-02-16        19.5     19.7     19.9    19.5      19.8       19.4   \n",
       "2017-02-24        19.6     19.5     19.8    19.4      19.5       19.3   \n",
       "2017-03-03        19.7     20.1     20.1    19.8      20.1       20.0   \n",
       "\n",
       "            High(t-1)  Low(t-1)  Close(t-1)  Open(t-2)  High(t-2)  Low(t-2)  \\\n",
       "Date                                                                          \n",
       "2017-02-16       19.6      19.3        19.6       19.1       19.6      19.0   \n",
       "2017-02-24       19.4      19.2        19.4       19.5       19.5      19.3   \n",
       "2017-03-03       20.2      19.9        20.1       19.7       19.8      19.6   \n",
       "\n",
       "            Close(t-2)  Open(t-3)  High(t-3)  Low(t-3)  Close(t-3)  \n",
       "Date                                                                \n",
       "2017-02-16        19.2       18.9       19.1      18.8        18.9  \n",
       "2017-02-24        19.4       19.8       19.8      19.3        19.4  \n",
       "2017-03-03        19.8       19.7       19.8      19.6        19.6  "
      ]
     },
     "execution_count": 36,
     "metadata": {},
     "output_type": "execute_result"
    }
   ],
   "source": [
    "# df_train.to_csv('data/df_train_news_all.csv')\n",
    "# df_test.to_csv('data/df_test_news_all.csv')\n",
    "\n",
    "# df_train = pd.read_csv('data/df_train_news_all.csv')\n",
    "# df_test = pd.read_csv('data/df_test_news_all.csv')\n",
    "\n",
    "# df_train = df_train.set_index('Date')\n",
    "# df_test = df_test.set_index('Date')\n",
    "\n",
    "len(df_train), len(df_test) \n",
    "\n",
    "df_train.head(3)\n",
    "df_test.head(3)"
   ]
  },
  {
   "cell_type": "markdown",
   "metadata": {},
   "source": [
    "# TF-IDF Vetorization"
   ]
  },
  {
   "cell_type": "code",
   "execution_count": 37,
   "metadata": {},
   "outputs": [
    {
     "data": {
      "text/plain": [
       "(4309, 1086)"
      ]
     },
     "execution_count": 37,
     "metadata": {},
     "output_type": "execute_result"
    },
    {
     "data": {
      "text/html": [
       "<div>\n",
       "<style scoped>\n",
       "    .dataframe tbody tr th:only-of-type {\n",
       "        vertical-align: middle;\n",
       "    }\n",
       "\n",
       "    .dataframe tbody tr th {\n",
       "        vertical-align: top;\n",
       "    }\n",
       "\n",
       "    .dataframe thead th {\n",
       "        text-align: right;\n",
       "    }\n",
       "</style>\n",
       "<table border=\"1\" class=\"dataframe\">\n",
       "  <thead>\n",
       "    <tr style=\"text-align: right;\">\n",
       "      <th></th>\n",
       "      <th>Ticker</th>\n",
       "      <th>Close(t+1)</th>\n",
       "      <th>Open(t)</th>\n",
       "      <th>High(t)</th>\n",
       "      <th>Low(t)</th>\n",
       "      <th>Close(t)</th>\n",
       "      <th>Open(t-1)</th>\n",
       "      <th>High(t-1)</th>\n",
       "      <th>Low(t-1)</th>\n",
       "      <th>Close(t-1)</th>\n",
       "      <th>...</th>\n",
       "      <th>2990</th>\n",
       "      <th>2991</th>\n",
       "      <th>2992</th>\n",
       "      <th>2993</th>\n",
       "      <th>2994</th>\n",
       "      <th>2995</th>\n",
       "      <th>2996</th>\n",
       "      <th>2997</th>\n",
       "      <th>2998</th>\n",
       "      <th>2999</th>\n",
       "    </tr>\n",
       "    <tr>\n",
       "      <th>Date</th>\n",
       "      <th></th>\n",
       "      <th></th>\n",
       "      <th></th>\n",
       "      <th></th>\n",
       "      <th></th>\n",
       "      <th></th>\n",
       "      <th></th>\n",
       "      <th></th>\n",
       "      <th></th>\n",
       "      <th></th>\n",
       "      <th></th>\n",
       "      <th></th>\n",
       "      <th></th>\n",
       "      <th></th>\n",
       "      <th></th>\n",
       "      <th></th>\n",
       "      <th></th>\n",
       "      <th></th>\n",
       "      <th></th>\n",
       "      <th></th>\n",
       "      <th></th>\n",
       "    </tr>\n",
       "  </thead>\n",
       "  <tbody>\n",
       "    <tr>\n",
       "      <th>2014-03-04</th>\n",
       "      <td>2</td>\n",
       "      <td>26.5</td>\n",
       "      <td>26.5</td>\n",
       "      <td>26.75</td>\n",
       "      <td>26.25</td>\n",
       "      <td>26.50</td>\n",
       "      <td>26.00</td>\n",
       "      <td>26.75</td>\n",
       "      <td>26.0</td>\n",
       "      <td>26.25</td>\n",
       "      <td>...</td>\n",
       "      <td>0.0</td>\n",
       "      <td>0.0</td>\n",
       "      <td>0.0</td>\n",
       "      <td>0.0</td>\n",
       "      <td>0.0</td>\n",
       "      <td>0.0</td>\n",
       "      <td>0.0</td>\n",
       "      <td>0.0</td>\n",
       "      <td>0.0</td>\n",
       "      <td>0.0</td>\n",
       "    </tr>\n",
       "    <tr>\n",
       "      <th>2014-03-21</th>\n",
       "      <td>2</td>\n",
       "      <td>26.0</td>\n",
       "      <td>26.0</td>\n",
       "      <td>26.25</td>\n",
       "      <td>25.75</td>\n",
       "      <td>26.25</td>\n",
       "      <td>25.75</td>\n",
       "      <td>26.00</td>\n",
       "      <td>25.5</td>\n",
       "      <td>26.00</td>\n",
       "      <td>...</td>\n",
       "      <td>0.0</td>\n",
       "      <td>0.0</td>\n",
       "      <td>0.0</td>\n",
       "      <td>0.0</td>\n",
       "      <td>0.0</td>\n",
       "      <td>0.0</td>\n",
       "      <td>0.0</td>\n",
       "      <td>0.0</td>\n",
       "      <td>0.0</td>\n",
       "      <td>0.0</td>\n",
       "    </tr>\n",
       "  </tbody>\n",
       "</table>\n",
       "<p>2 rows × 3018 columns</p>\n",
       "</div>"
      ],
      "text/plain": [
       "            Ticker  Close(t+1)  Open(t)  High(t)  Low(t)  Close(t)  Open(t-1)  \\\n",
       "Date                                                                            \n",
       "2014-03-04       2        26.5     26.5    26.75   26.25     26.50      26.00   \n",
       "2014-03-21       2        26.0     26.0    26.25   25.75     26.25      25.75   \n",
       "\n",
       "            High(t-1)  Low(t-1)  Close(t-1)  ...   2990  2991  2992  2993  \\\n",
       "Date                                         ...                            \n",
       "2014-03-04      26.75      26.0       26.25  ...    0.0   0.0   0.0   0.0   \n",
       "2014-03-21      26.00      25.5       26.00  ...    0.0   0.0   0.0   0.0   \n",
       "\n",
       "            2994  2995  2996  2997  2998  2999  \n",
       "Date                                            \n",
       "2014-03-04   0.0   0.0   0.0   0.0   0.0   0.0  \n",
       "2014-03-21   0.0   0.0   0.0   0.0   0.0   0.0  \n",
       "\n",
       "[2 rows x 3018 columns]"
      ]
     },
     "execution_count": 37,
     "metadata": {},
     "output_type": "execute_result"
    },
    {
     "data": {
      "text/html": [
       "<div>\n",
       "<style scoped>\n",
       "    .dataframe tbody tr th:only-of-type {\n",
       "        vertical-align: middle;\n",
       "    }\n",
       "\n",
       "    .dataframe tbody tr th {\n",
       "        vertical-align: top;\n",
       "    }\n",
       "\n",
       "    .dataframe thead th {\n",
       "        text-align: right;\n",
       "    }\n",
       "</style>\n",
       "<table border=\"1\" class=\"dataframe\">\n",
       "  <thead>\n",
       "    <tr style=\"text-align: right;\">\n",
       "      <th></th>\n",
       "      <th>Ticker</th>\n",
       "      <th>Close(t+1)</th>\n",
       "      <th>Open(t)</th>\n",
       "      <th>High(t)</th>\n",
       "      <th>Low(t)</th>\n",
       "      <th>Close(t)</th>\n",
       "      <th>Open(t-1)</th>\n",
       "      <th>High(t-1)</th>\n",
       "      <th>Low(t-1)</th>\n",
       "      <th>Close(t-1)</th>\n",
       "      <th>...</th>\n",
       "      <th>2990</th>\n",
       "      <th>2991</th>\n",
       "      <th>2992</th>\n",
       "      <th>2993</th>\n",
       "      <th>2994</th>\n",
       "      <th>2995</th>\n",
       "      <th>2996</th>\n",
       "      <th>2997</th>\n",
       "      <th>2998</th>\n",
       "      <th>2999</th>\n",
       "    </tr>\n",
       "    <tr>\n",
       "      <th>Date</th>\n",
       "      <th></th>\n",
       "      <th></th>\n",
       "      <th></th>\n",
       "      <th></th>\n",
       "      <th></th>\n",
       "      <th></th>\n",
       "      <th></th>\n",
       "      <th></th>\n",
       "      <th></th>\n",
       "      <th></th>\n",
       "      <th></th>\n",
       "      <th></th>\n",
       "      <th></th>\n",
       "      <th></th>\n",
       "      <th></th>\n",
       "      <th></th>\n",
       "      <th></th>\n",
       "      <th></th>\n",
       "      <th></th>\n",
       "      <th></th>\n",
       "      <th></th>\n",
       "    </tr>\n",
       "  </thead>\n",
       "  <tbody>\n",
       "    <tr>\n",
       "      <th>2017-02-16</th>\n",
       "      <td>2</td>\n",
       "      <td>19.5</td>\n",
       "      <td>19.7</td>\n",
       "      <td>19.9</td>\n",
       "      <td>19.5</td>\n",
       "      <td>19.8</td>\n",
       "      <td>19.4</td>\n",
       "      <td>19.6</td>\n",
       "      <td>19.3</td>\n",
       "      <td>19.6</td>\n",
       "      <td>...</td>\n",
       "      <td>0.0</td>\n",
       "      <td>0.0</td>\n",
       "      <td>0.0</td>\n",
       "      <td>0.0</td>\n",
       "      <td>0.0</td>\n",
       "      <td>0.0</td>\n",
       "      <td>0.0</td>\n",
       "      <td>0.0</td>\n",
       "      <td>0.0</td>\n",
       "      <td>0.0</td>\n",
       "    </tr>\n",
       "    <tr>\n",
       "      <th>2017-02-24</th>\n",
       "      <td>2</td>\n",
       "      <td>19.6</td>\n",
       "      <td>19.5</td>\n",
       "      <td>19.8</td>\n",
       "      <td>19.4</td>\n",
       "      <td>19.5</td>\n",
       "      <td>19.3</td>\n",
       "      <td>19.4</td>\n",
       "      <td>19.2</td>\n",
       "      <td>19.4</td>\n",
       "      <td>...</td>\n",
       "      <td>0.0</td>\n",
       "      <td>0.0</td>\n",
       "      <td>0.0</td>\n",
       "      <td>0.0</td>\n",
       "      <td>0.0</td>\n",
       "      <td>0.0</td>\n",
       "      <td>0.0</td>\n",
       "      <td>0.0</td>\n",
       "      <td>0.0</td>\n",
       "      <td>0.0</td>\n",
       "    </tr>\n",
       "  </tbody>\n",
       "</table>\n",
       "<p>2 rows × 3018 columns</p>\n",
       "</div>"
      ],
      "text/plain": [
       "            Ticker  Close(t+1)  Open(t)  High(t)  Low(t)  Close(t)  Open(t-1)  \\\n",
       "Date                                                                            \n",
       "2017-02-16       2        19.5     19.7     19.9    19.5      19.8       19.4   \n",
       "2017-02-24       2        19.6     19.5     19.8    19.4      19.5       19.3   \n",
       "\n",
       "            High(t-1)  Low(t-1)  Close(t-1)  ...   2990  2991  2992  2993  \\\n",
       "Date                                         ...                            \n",
       "2017-02-16       19.6      19.3        19.6  ...    0.0   0.0   0.0   0.0   \n",
       "2017-02-24       19.4      19.2        19.4  ...    0.0   0.0   0.0   0.0   \n",
       "\n",
       "            2994  2995  2996  2997  2998  2999  \n",
       "Date                                            \n",
       "2017-02-16   0.0   0.0   0.0   0.0   0.0   0.0  \n",
       "2017-02-24   0.0   0.0   0.0   0.0   0.0   0.0  \n",
       "\n",
       "[2 rows x 3018 columns]"
      ]
     },
     "execution_count": 37,
     "metadata": {},
     "output_type": "execute_result"
    },
    {
     "data": {
      "text/plain": [
       "array(['ADVANC', 'AOT', 'BANPU', 'BBL', 'BDMS', 'BH', 'CK', 'CPALL',\n",
       "       'CPF', 'CPN', 'HMPRO', 'IRPC', 'JAS', 'KBANK', 'MINT', 'PTT',\n",
       "       'SCB', 'SCC', 'THAI', 'TRUE', 'TU'], dtype=object)"
      ]
     },
     "execution_count": 37,
     "metadata": {},
     "output_type": "execute_result"
    }
   ],
   "source": [
    "stop_words = stopwords.words('thai')\n",
    "stop_words.remove('ขึ้น')\n",
    "stop_words.remove('ลง')\n",
    "\n",
    "vertorizer = TfidfVectorizer(stop_words=stop_words, \n",
    "                             max_df=0.9, \n",
    "                             min_df=2, \n",
    "                             max_features=3000)\n",
    "\n",
    "tfidf_train = vertorizer.fit_transform(df_train['Text'])\n",
    "tfidf_test = vertorizer.transform(df_test['Text'])\n",
    "\n",
    "df_tfidf_train = pd.DataFrame.from_records(tfidf_train.toarray())\n",
    "df_tfidf_test = pd.DataFrame.from_records(tfidf_test.toarray())\n",
    "\n",
    "df_tfidf_train = df_tfidf_train.set_index(df_train.index)\n",
    "df_tfidf_test = df_tfidf_test.set_index(df_test.index)\n",
    "\n",
    "len(df_tfidf_train), len(df_tfidf_test)\n",
    "\n",
    "# replace Text with TF-IDF vector\n",
    "x_train = df_train.drop(['Text'], axis=1)\n",
    "x_train = pd.concat([x_train, df_tfidf_train], axis=1)\n",
    "\n",
    "x_test = df_test.drop(['Text'], axis=1)\n",
    "x_test = pd.concat([x_test, df_tfidf_test], axis=1)\n",
    "\n",
    "# Label Encoding\n",
    "le = preprocessing.LabelEncoder()\n",
    "x_train['Ticker'] = le.fit_transform(x_train['Ticker'])\n",
    "x_test['Ticker'] = le.transform(x_test['Ticker'])\n",
    "x_train.head(2)\n",
    "x_test.head(2)\n",
    "le.classes_"
   ]
  },
  {
   "cell_type": "markdown",
   "metadata": {},
   "source": [
    "# Create x_train and y_train"
   ]
  },
  {
   "cell_type": "code",
   "execution_count": 38,
   "metadata": {},
   "outputs": [
    {
     "data": {
      "text/plain": [
       "((4309, 3017), (4309, 1))"
      ]
     },
     "execution_count": 38,
     "metadata": {},
     "output_type": "execute_result"
    }
   ],
   "source": [
    "Horizon = 'Close(t+1)'\n",
    "y_train = x_train[[Horizon]]\n",
    "x_train = x_train.drop(['Close(t+1)'], axis=1).copy()\n",
    "x_train.shape, y_train.shape"
   ]
  },
  {
   "cell_type": "markdown",
   "metadata": {},
   "source": [
    "# Evaluate Each Stcok"
   ]
  },
  {
   "cell_type": "code",
   "execution_count": 39,
   "metadata": {},
   "outputs": [],
   "source": [
    "def mean_absolute_percentage_error(y_true, y_pred): \n",
    "    return np.mean(np.abs((y_true - y_pred) / y_true)) * 100\n",
    "\n",
    "def evaluator(clf, df_test, le, isXGB=False, isLSTM=False):\n",
    "    RMSEs, MAEs, MAPEs, DAs = [], [], [], []\n",
    "    results = []\n",
    "    for stock in target_stocks:\n",
    "        x_tmp = df_test.loc[df_test['Ticker'] == le.transform([stock])[0]].copy()\n",
    "        \n",
    "        y_tmp = x_tmp[Horizon].values\n",
    "        \n",
    "        # Directional Accuracy\n",
    "        changes = x_tmp[Horizon] -  x_tmp['Close(t)']\n",
    "        y_true_da = []\n",
    "        for change in changes:\n",
    "            y_true_da.append(1 if change >= 0 else 0)\n",
    "                \n",
    "        x_tmp = x_tmp.drop(['Close(t+1)'], axis=1)\n",
    "        \n",
    "        if isXGB:\n",
    "            y_pred = clf.predict(xgboost.DMatrix(x_tmp))\n",
    "        elif isLSTM:\n",
    "            x = x_tmp.values\n",
    "            x = x.reshape((x.shape[0], x.shape[1], 1))\n",
    "            y_pred = clf.predict(x)\n",
    "        else:\n",
    "            y_pred = clf.predict(x_tmp.as_matrix())\n",
    "        \n",
    "        # Directional Accuracy Pred\n",
    "        changes = np.reshape(y_pred, (-1,1)) -  np.reshape(x_tmp['Close(t)'].values,(-1,1))\n",
    "        y_pred_da = []\n",
    "        for change in changes:\n",
    "            y_pred_da.append(1 if change >= 0 else 0)\n",
    "        \n",
    "        RMSE = np.sqrt(mean_squared_error(y_tmp, y_pred))\n",
    "        MAE = mean_absolute_error(y_tmp, y_pred)\n",
    "        MAPE = mean_absolute_percentage_error(y_tmp, y_pred)\n",
    "        DA = accuracy_score(y_true_da, y_pred_da)\n",
    "        print(stock, \"\\tRMSE: %.2f\\t MAE: %.2f \\tMAPE: %.2f \\tDA: %.2f\" % (RMSE, MAE, MAPE, DA))\n",
    "        RMSEs.append(RMSE)\n",
    "        MAEs.append(MAE)\n",
    "        MAPEs.append(MAPE)\n",
    "        DAs.append(DA)\n",
    "    \n",
    "    print('\\nmean RMSE:', round(np.mean(RMSEs),2))\n",
    "    print('mean MAE:', round(np.mean(MAEs),2))\n",
    "    print('mean MAPE:', round(np.mean(MAPEs),2))\n",
    "    print('mean DA:', round(np.mean(DAs),4))"
   ]
  },
  {
   "cell_type": "code",
   "execution_count": 40,
   "metadata": {},
   "outputs": [],
   "source": [
    "def ensemble_evaluator(bagging, ada_dt, ada_rf,  xgb, stack, stack_da, df_test, le, feature_importances, feature_importances_da):\n",
    "    RMSEs, MAEs, MAPEs, DAs = [], [], [], []\n",
    "    results = []\n",
    "    for stock in target_stocks:\n",
    "        x_tmp = df_test.loc[df_test['Ticker'] == le.transform([stock])[0]].copy()\n",
    "        \n",
    "        # Directional Accuracy\n",
    "        changes = x_tmp[Horizon] - x_tmp['Close(t)']\n",
    "        y_true_da = []\n",
    "        for change in changes:\n",
    "            y_true_da.append(1 if change >= 0 else 0)\n",
    "        \n",
    "        y_tmp = x_tmp[Horizon].values.reshape(-1,1)\n",
    "        x_tmp = x_tmp.drop([Horizon], axis=1)        \n",
    "        \n",
    "        # Prediction\n",
    "        y_pred = np.concatenate((\n",
    "                                 bagging.predict(x_tmp).reshape(-1,1),\n",
    "                                 ada_dt.predict(x_tmp).reshape(-1,1),\n",
    "                                 ada_rf.predict(x_tmp).reshape(-1,1),\n",
    "                                 xgb.predict(xgboost.DMatrix(x_tmp)).reshape(-1,1)), \n",
    "                                axis=1)\n",
    "        \n",
    "        df_pred = pd.DataFrame.from_records(y_pred).round(2)\n",
    "        df_pred.columns = ['Bagging_DT', 'Ada_DT', 'Ada_RF', 'XGB']\n",
    "        df_pred.head()\n",
    "\n",
    "        # Directional Accuracy Pred\n",
    "        close_t = np.reshape(x_tmp['Close(t)'].values, (-1, 1))\n",
    "        y_changes = np.concatenate((\n",
    "                                    np.array(y_pred[:,0]).reshape(-1,1)-close_t,\n",
    "                                    np.array(y_pred[:,1]).reshape(-1,1)-close_t,\n",
    "                                    np.array(y_pred[:,2]).reshape(-1,1)-close_t,\n",
    "                                    np.array(y_pred[:,3]).reshape(-1,1)-close_t,\n",
    "                                   ), axis=1)\n",
    "        y_pred_da = []\n",
    "        for row in y_changes:\n",
    "            tmp_row = []\n",
    "            for change in row:\n",
    "                tmp_row.append(1 if change>=0 else 0)\n",
    "            y_pred_da.append(tmp_row)\n",
    "\n",
    "        df_pred_da = pd.DataFrame.from_records(y_pred_da)\n",
    "        df_pred_da.columns = ['Bagging_DT', 'Ada_DT', 'Ada_RF', 'XGB']\n",
    "        df_pred_da.head()\n",
    "        \n",
    "        \n",
    "        \n",
    "        df_pred['weight'] = (\n",
    "                     df_pred['Bagging_DT']*feature_importances[0] + \n",
    "                     df_pred['Ada_DT']*feature_importances[1] + \n",
    "                     df_pred['Ada_RF']*feature_importances[2] + \n",
    "                     df_pred['XGB']*feature_importances[3]\n",
    "        )\n",
    "        \n",
    "        df_pred_da['vote'] = (\n",
    "                     df_pred_da['Bagging_DT']*feature_importances_da[0] + \n",
    "                     df_pred_da['Ada_DT']*feature_importances_da[1] + \n",
    "                     df_pred_da['Ada_RF']*feature_importances_da[2] + \n",
    "                     df_pred_da['XGB']*feature_importances_da[3]\n",
    "        ).round(0).astype(int)\n",
    "\n",
    "        y_pred = stack.predict(y_pred).reshape(-1,1)\n",
    "        y_pred_da = stack_da.predict(y_pred_da).reshape(-1,1).round(0).astype(int)\n",
    "#         y_pred = df_pred['weight'].values.reshape(-1,1)\n",
    "#         y_pred_da = df_pred_da['vote'].values.reshape(-1,1)\n",
    "        \n",
    "        RMSE = np.sqrt(mean_squared_error(y_tmp, y_pred))\n",
    "        MAE = mean_absolute_error(y_tmp, y_pred)\n",
    "        MAPE = mean_absolute_percentage_error(y_tmp.reshape(-1,1), y_pred.reshape(-1,1))\n",
    "        DA = accuracy_score(y_true_da, y_pred_da)\n",
    "        print(stock, \"\\tRMSE: %.2f\\t MAE: %.2f \\tMAPE: %.2f \\tDA: %.2f\" % (RMSE, MAE, MAPE, DA))\n",
    "        RMSEs.append(RMSE)\n",
    "        MAEs.append(MAE)\n",
    "        MAPEs.append(MAPE)\n",
    "        DAs.append(DA)\n",
    "    \n",
    "    print('\\nmean RMSE:', round(np.mean(RMSEs),2))\n",
    "    print('mean MAE:', round(np.mean(MAEs),2))\n",
    "    print('mean MAPE:', round(np.mean(MAPEs),2))\n",
    "    print('mean DA:', round(np.mean(DAs),4))"
   ]
  },
  {
   "cell_type": "markdown",
   "metadata": {},
   "source": [
    "# Ensemble"
   ]
  },
  {
   "cell_type": "code",
   "execution_count": 98,
   "metadata": {},
   "outputs": [
    {
     "name": "stdout",
     "output_type": "stream",
     "text": [
      "BANPU \tRMSE: 0.30\t MAE: 0.24 \tMAPE: 1.28 \tDA: 0.57\n",
      "IRPC \tRMSE: 0.11\t MAE: 0.09 \tMAPE: 1.49 \tDA: 0.54\n",
      "PTT \tRMSE: 8.34\t MAE: 6.72 \tMAPE: 1.64 \tDA: 0.47\n",
      "BBL \tRMSE: 1.94\t MAE: 1.54 \tMAPE: 0.80 \tDA: 0.56\n",
      "KBANK \tRMSE: 3.37\t MAE: 2.61 \tMAPE: 1.23 \tDA: 0.45\n",
      "SCB \tRMSE: 1.91\t MAE: 1.41 \tMAPE: 0.93 \tDA: 0.56\n",
      "AOT \tRMSE: 1.21\t MAE: 0.95 \tMAPE: 1.53 \tDA: 0.58\n",
      "THAI \tRMSE: 0.29\t MAE: 0.24 \tMAPE: 0.93 \tDA: 1.00\n",
      "CPF \tRMSE: 0.45\t MAE: 0.34 \tMAPE: 1.31 \tDA: 0.47\n",
      "MINT \tRMSE: 0.50\t MAE: 0.42 \tMAPE: 1.00 \tDA: 0.88\n",
      "TU \tRMSE: 0.29\t MAE: 0.22 \tMAPE: 1.08 \tDA: 0.57\n",
      "SCC \tRMSE: 5.93\t MAE: 4.96 \tMAPE: 1.01 \tDA: 0.70\n",
      "CPN \tRMSE: 1.73\t MAE: 1.29 \tMAPE: 1.72 \tDA: 0.59\n",
      "CK \tRMSE: 0.41\t MAE: 0.33 \tMAPE: 1.23 \tDA: 0.57\n",
      "CPALL \tRMSE: 1.59\t MAE: 1.27 \tMAPE: 1.81 \tDA: 0.57\n",
      "HMPRO \tRMSE: 0.25\t MAE: 0.23 \tMAPE: 2.12 \tDA: 0.67\n",
      "BDMS \tRMSE: 0.29\t MAE: 0.24 \tMAPE: 1.15 \tDA: 0.57\n",
      "BH \tRMSE: 4.14\t MAE: 3.12 \tMAPE: 1.54 \tDA: 0.48\n",
      "ADVANC \tRMSE: 2.72\t MAE: 2.03 \tMAPE: 1.13 \tDA: 0.46\n",
      "JAS \tRMSE: 0.21\t MAE: 0.15 \tMAPE: 1.85 \tDA: 0.51\n",
      "TRUE \tRMSE: 0.12\t MAE: 0.08 \tMAPE: 1.35 \tDA: 0.60\n",
      "\n",
      "mean RMSE: 1.72\n",
      "mean MAE: 1.36\n",
      "mean MAPE: 1.34\n",
      "mean DA: 0.5886\n"
     ]
    }
   ],
   "source": [
    "ensemble_evaluator( \n",
    "                   bagging,\n",
    "                   adaboost_dt_regr, \n",
    "                   adaboost_rf_regr, \n",
    "                   xgb,\n",
    "                   stack, stack_da,\n",
    "                   x_test, le, feature_importances, feature_importances_da)"
   ]
  },
  {
   "cell_type": "markdown",
   "metadata": {},
   "source": [
    "# Linear Regression"
   ]
  },
  {
   "cell_type": "code",
   "execution_count": 57,
   "metadata": {},
   "outputs": [],
   "source": [
    "# from sklearn import linear_model\n",
    "\n",
    "# lineregr = linear_model.LinearRegression()\n",
    "# lineregr.fit(x_train, y_train)\n",
    "\n",
    "# evaluator(lineregr, x_test, le)"
   ]
  },
  {
   "cell_type": "markdown",
   "metadata": {},
   "source": [
    "# Support Vector Regressor"
   ]
  },
  {
   "cell_type": "code",
   "execution_count": 58,
   "metadata": {},
   "outputs": [],
   "source": [
    "# from sklearn.svm import SVR\n",
    "# svr = SVR()\n",
    "# svr.fit(x_train, y_train)\n",
    "\n",
    "# evaluator(svr, x_test, le)"
   ]
  },
  {
   "cell_type": "markdown",
   "metadata": {},
   "source": [
    "# Decistion Tree Regressor"
   ]
  },
  {
   "cell_type": "code",
   "execution_count": 43,
   "metadata": {},
   "outputs": [
    {
     "data": {
      "text/plain": [
       "DecisionTreeRegressor(criterion='mse', max_depth=None, max_features=None,\n",
       "           max_leaf_nodes=None, min_impurity_decrease=0.0,\n",
       "           min_impurity_split=None, min_samples_leaf=1,\n",
       "           min_samples_split=2, min_weight_fraction_leaf=0.0,\n",
       "           presort=False, random_state=None, splitter='best')"
      ]
     },
     "execution_count": 43,
     "metadata": {},
     "output_type": "execute_result"
    },
    {
     "name": "stdout",
     "output_type": "stream",
     "text": [
      "BANPU \tRMSE: 0.68\t MAE: 0.47 \tMAPE: 2.67 \tDA: 0.65\n",
      "IRPC \tRMSE: 0.18\t MAE: 0.13 \tMAPE: 2.18 \tDA: 0.31\n",
      "PTT \tRMSE: 6.67\t MAE: 5.15 \tMAPE: 1.23 \tDA: 0.60\n",
      "BBL \tRMSE: 3.14\t MAE: 2.21 \tMAPE: 1.14 \tDA: 0.48\n",
      "KBANK \tRMSE: 4.54\t MAE: 3.30 \tMAPE: 1.57 \tDA: 0.45\n",
      "SCB \tRMSE: 2.48\t MAE: 1.94 \tMAPE: 1.28 \tDA: 0.56\n",
      "AOT \tRMSE: 1.43\t MAE: 1.15 \tMAPE: 1.88 \tDA: 0.53\n",
      "THAI \tRMSE: 0.59\t MAE: 0.53 \tMAPE: 2.17 \tDA: 0.50\n",
      "CPF \tRMSE: 0.68\t MAE: 0.49 \tMAPE: 1.91 \tDA: 0.47\n",
      "MINT \tRMSE: 0.60\t MAE: 0.51 \tMAPE: 1.22 \tDA: 0.71\n",
      "TU \tRMSE: 0.45\t MAE: 0.35 \tMAPE: 1.74 \tDA: 0.53\n",
      "SCC \tRMSE: 11.18\t MAE: 10.10 \tMAPE: 2.05 \tDA: 0.55\n",
      "CPN \tRMSE: 11.44\t MAE: 3.50 \tMAPE: 4.41 \tDA: 0.66\n",
      "CK \tRMSE: 0.48\t MAE: 0.37 \tMAPE: 1.38 \tDA: 0.65\n",
      "CPALL \tRMSE: 2.09\t MAE: 1.69 \tMAPE: 2.39 \tDA: 0.60\n",
      "HMPRO \tRMSE: 0.57\t MAE: 0.43 \tMAPE: 3.74 \tDA: 1.00\n",
      "BDMS \tRMSE: 0.40\t MAE: 0.27 \tMAPE: 1.30 \tDA: 0.62\n",
      "BH \tRMSE: 4.24\t MAE: 3.22 \tMAPE: 1.61 \tDA: 0.52\n",
      "ADVANC \tRMSE: 2.89\t MAE: 2.27 \tMAPE: 1.26 \tDA: 0.58\n",
      "JAS \tRMSE: 0.23\t MAE: 0.19 \tMAPE: 2.31 \tDA: 0.56\n",
      "TRUE \tRMSE: 0.18\t MAE: 0.14 \tMAPE: 2.30 \tDA: 0.49\n",
      "\n",
      "mean RMSE: 2.63\n",
      "mean MAE: 1.83\n",
      "mean MAPE: 1.99\n",
      "mean DA: 0.5715\n"
     ]
    }
   ],
   "source": [
    "from sklearn import tree\n",
    "\n",
    "decis_tree_regr = tree.DecisionTreeRegressor(max_depth=None)\n",
    "decis_tree_regr.fit(x_train, y_train.values.ravel())\n",
    "evaluator(decis_tree_regr, x_test, le)"
   ]
  },
  {
   "cell_type": "markdown",
   "metadata": {},
   "source": [
    "# Random Forest Regrssor"
   ]
  },
  {
   "cell_type": "code",
   "execution_count": 44,
   "metadata": {},
   "outputs": [
    {
     "data": {
      "text/plain": [
       "RandomForestRegressor(bootstrap=True, criterion='mse', max_depth=None,\n",
       "           max_features='auto', max_leaf_nodes=None,\n",
       "           min_impurity_decrease=0.0, min_impurity_split=None,\n",
       "           min_samples_leaf=1, min_samples_split=2,\n",
       "           min_weight_fraction_leaf=0.0, n_estimators=10, n_jobs=-1,\n",
       "           oob_score=False, random_state=None, verbose=0, warm_start=False)"
      ]
     },
     "execution_count": 44,
     "metadata": {},
     "output_type": "execute_result"
    },
    {
     "name": "stdout",
     "output_type": "stream",
     "text": [
      "BANPU \tRMSE: 0.34\t MAE: 0.29 \tMAPE: 1.62 \tDA: 0.57\n",
      "IRPC \tRMSE: 0.14\t MAE: 0.11 \tMAPE: 1.81 \tDA: 0.46\n",
      "PTT \tRMSE: 7.06\t MAE: 5.29 \tMAPE: 1.27 \tDA: 0.47\n",
      "BBL \tRMSE: 2.04\t MAE: 1.55 \tMAPE: 0.81 \tDA: 0.57\n",
      "KBANK \tRMSE: 2.80\t MAE: 2.23 \tMAPE: 1.06 \tDA: 0.47\n",
      "SCB \tRMSE: 1.75\t MAE: 1.36 \tMAPE: 0.90 \tDA: 0.52\n",
      "AOT \tRMSE: 1.27\t MAE: 0.95 \tMAPE: 1.54 \tDA: 0.59\n",
      "THAI \tRMSE: 0.18\t MAE: 0.16 \tMAPE: 0.67 \tDA: 1.00\n",
      "CPF \tRMSE: 0.50\t MAE: 0.40 \tMAPE: 1.57 \tDA: 0.42\n",
      "MINT \tRMSE: 0.43\t MAE: 0.38 \tMAPE: 0.89 \tDA: 0.59\n",
      "TU \tRMSE: 0.29\t MAE: 0.21 \tMAPE: 1.06 \tDA: 0.58\n",
      "SCC \tRMSE: 6.42\t MAE: 5.46 \tMAPE: 1.11 \tDA: 0.70\n",
      "CPN \tRMSE: 1.48\t MAE: 1.19 \tMAPE: 1.58 \tDA: 0.38\n",
      "CK \tRMSE: 0.35\t MAE: 0.26 \tMAPE: 0.96 \tDA: 0.63\n",
      "CPALL \tRMSE: 1.63\t MAE: 1.26 \tMAPE: 1.81 \tDA: 0.47\n",
      "HMPRO \tRMSE: 0.16\t MAE: 0.13 \tMAPE: 1.10 \tDA: 1.00\n",
      "BDMS \tRMSE: 0.34\t MAE: 0.24 \tMAPE: 1.13 \tDA: 0.33\n",
      "BH \tRMSE: 3.92\t MAE: 2.97 \tMAPE: 1.47 \tDA: 0.48\n",
      "ADVANC \tRMSE: 2.19\t MAE: 1.86 \tMAPE: 1.06 \tDA: 0.42\n",
      "JAS \tRMSE: 0.19\t MAE: 0.15 \tMAPE: 1.82 \tDA: 0.63\n",
      "TRUE \tRMSE: 0.14\t MAE: 0.11 \tMAPE: 1.77 \tDA: 0.58\n",
      "\n",
      "mean RMSE: 1.6\n",
      "mean MAE: 1.27\n",
      "mean MAPE: 1.29\n",
      "mean DA: 0.5652\n"
     ]
    }
   ],
   "source": [
    "from sklearn import ensemble\n",
    "\n",
    "rnd_forest_regr = ensemble.RandomForestRegressor(n_jobs=-1)\n",
    "rnd_forest_regr.fit(x_train, y_train.values.ravel())\n",
    "\n",
    "evaluator(rnd_forest_regr, x_test, le)"
   ]
  },
  {
   "cell_type": "markdown",
   "metadata": {},
   "source": [
    "# Bagging Regressor"
   ]
  },
  {
   "cell_type": "code",
   "execution_count": 45,
   "metadata": {},
   "outputs": [
    {
     "data": {
      "text/plain": [
       "BaggingRegressor(base_estimator=None, bootstrap=True,\n",
       "         bootstrap_features=False, max_features=1.0, max_samples=1.0,\n",
       "         n_estimators=30, n_jobs=-1, oob_score=False, random_state=None,\n",
       "         verbose=0, warm_start=False)"
      ]
     },
     "execution_count": 45,
     "metadata": {},
     "output_type": "execute_result"
    },
    {
     "name": "stdout",
     "output_type": "stream",
     "text": [
      "BANPU \tRMSE: 0.34\t MAE: 0.29 \tMAPE: 1.62 \tDA: 0.52\n",
      "IRPC \tRMSE: 0.10\t MAE: 0.08 \tMAPE: 1.27 \tDA: 0.62\n",
      "PTT \tRMSE: 7.93\t MAE: 5.40 \tMAPE: 1.28 \tDA: 0.47\n",
      "BBL \tRMSE: 1.64\t MAE: 1.31 \tMAPE: 0.68 \tDA: 0.57\n",
      "KBANK \tRMSE: 2.90\t MAE: 2.22 \tMAPE: 1.05 \tDA: 0.43\n",
      "SCB \tRMSE: 1.72\t MAE: 1.32 \tMAPE: 0.87 \tDA: 0.51\n",
      "AOT \tRMSE: 1.22\t MAE: 0.91 \tMAPE: 1.48 \tDA: 0.56\n",
      "THAI \tRMSE: 0.30\t MAE: 0.30 \tMAPE: 1.20 \tDA: 1.00\n",
      "CPF \tRMSE: 0.51\t MAE: 0.40 \tMAPE: 1.58 \tDA: 0.42\n",
      "MINT \tRMSE: 0.40\t MAE: 0.31 \tMAPE: 0.74 \tDA: 0.65\n",
      "TU \tRMSE: 0.28\t MAE: 0.21 \tMAPE: 1.05 \tDA: 0.57\n",
      "SCC \tRMSE: 6.88\t MAE: 5.80 \tMAPE: 1.18 \tDA: 0.55\n",
      "CPN \tRMSE: 1.64\t MAE: 1.26 \tMAPE: 1.65 \tDA: 0.45\n",
      "CK \tRMSE: 0.36\t MAE: 0.26 \tMAPE: 0.97 \tDA: 0.63\n",
      "CPALL \tRMSE: 1.49\t MAE: 1.21 \tMAPE: 1.71 \tDA: 0.53\n",
      "HMPRO \tRMSE: 0.13\t MAE: 0.12 \tMAPE: 1.16 \tDA: 0.67\n",
      "BDMS \tRMSE: 0.33\t MAE: 0.24 \tMAPE: 1.16 \tDA: 0.57\n",
      "BH \tRMSE: 4.15\t MAE: 3.05 \tMAPE: 1.51 \tDA: 0.45\n",
      "ADVANC \tRMSE: 2.35\t MAE: 1.96 \tMAPE: 1.10 \tDA: 0.38\n",
      "JAS \tRMSE: 0.20\t MAE: 0.15 \tMAPE: 1.81 \tDA: 0.56\n",
      "TRUE \tRMSE: 0.12\t MAE: 0.10 \tMAPE: 1.55 \tDA: 0.60\n",
      "\n",
      "mean RMSE: 1.67\n",
      "mean MAE: 1.28\n",
      "mean MAPE: 1.27\n",
      "mean DA: 0.5576\n"
     ]
    }
   ],
   "source": [
    "bagging = ensemble.BaggingRegressor(base_estimator=None,\n",
    "                                    n_estimators=30,n_jobs=-1)\n",
    "bagging.fit(x_train, y_train.values.ravel())\n",
    "evaluator(bagging, x_test, le)"
   ]
  },
  {
   "cell_type": "markdown",
   "metadata": {},
   "source": [
    "# AdaBoost Regressor"
   ]
  },
  {
   "cell_type": "code",
   "execution_count": 59,
   "metadata": {},
   "outputs": [
    {
     "data": {
      "text/plain": [
       "AdaBoostRegressor(base_estimator=DecisionTreeRegressor(criterion='mse', max_depth=None, max_features=None,\n",
       "           max_leaf_nodes=None, min_impurity_decrease=0.0,\n",
       "           min_impurity_split=None, min_samples_leaf=1,\n",
       "           min_samples_split=2, min_weight_fraction_leaf=0.0,\n",
       "           presort=False, random_state=None, splitter='best'),\n",
       "         learning_rate=1, loss='linear', n_estimators=10,\n",
       "         random_state=None)"
      ]
     },
     "execution_count": 59,
     "metadata": {},
     "output_type": "execute_result"
    },
    {
     "name": "stdout",
     "output_type": "stream",
     "text": [
      "BANPU \tRMSE: 0.34\t MAE: 0.28 \tMAPE: 1.53 \tDA: 0.57\n",
      "IRPC \tRMSE: 0.15\t MAE: 0.12 \tMAPE: 1.95 \tDA: 0.54\n",
      "PTT \tRMSE: 7.34\t MAE: 5.76 \tMAPE: 1.40 \tDA: 0.47\n",
      "BBL \tRMSE: 2.00\t MAE: 1.58 \tMAPE: 0.82 \tDA: 0.56\n",
      "KBANK \tRMSE: 3.64\t MAE: 2.82 \tMAPE: 1.34 \tDA: 0.45\n",
      "SCB \tRMSE: 1.86\t MAE: 1.36 \tMAPE: 0.90 \tDA: 0.56\n",
      "AOT \tRMSE: 1.28\t MAE: 0.96 \tMAPE: 1.55 \tDA: 0.58\n",
      "THAI \tRMSE: 0.36\t MAE: 0.30 \tMAPE: 1.14 \tDA: 1.00\n",
      "CPF \tRMSE: 0.47\t MAE: 0.34 \tMAPE: 1.34 \tDA: 0.47\n",
      "MINT \tRMSE: 0.42\t MAE: 0.34 \tMAPE: 0.80 \tDA: 0.88\n",
      "TU \tRMSE: 0.29\t MAE: 0.23 \tMAPE: 1.13 \tDA: 0.57\n",
      "SCC \tRMSE: 8.56\t MAE: 7.60 \tMAPE: 1.54 \tDA: 0.70\n",
      "CPN \tRMSE: 1.77\t MAE: 1.31 \tMAPE: 1.74 \tDA: 0.59\n",
      "CK \tRMSE: 0.40\t MAE: 0.31 \tMAPE: 1.15 \tDA: 0.57\n",
      "CPALL \tRMSE: 1.62\t MAE: 1.27 \tMAPE: 1.81 \tDA: 0.57\n",
      "HMPRO \tRMSE: 0.32\t MAE: 0.28 \tMAPE: 2.52 \tDA: 0.67\n",
      "BDMS \tRMSE: 0.29\t MAE: 0.22 \tMAPE: 1.08 \tDA: 0.57\n",
      "BH \tRMSE: 4.13\t MAE: 3.10 \tMAPE: 1.53 \tDA: 0.48\n",
      "ADVANC \tRMSE: 2.74\t MAE: 2.06 \tMAPE: 1.15 \tDA: 0.46\n",
      "JAS \tRMSE: 0.22\t MAE: 0.17 \tMAPE: 2.01 \tDA: 0.51\n",
      "TRUE \tRMSE: 0.16\t MAE: 0.12 \tMAPE: 1.92 \tDA: 0.60\n",
      "\n",
      "mean RMSE: 1.83\n",
      "mean MAE: 1.45\n",
      "mean MAPE: 1.44\n",
      "mean DA: 0.5886\n"
     ]
    }
   ],
   "source": [
    "adaboost_dt_regr = ensemble.AdaBoostRegressor(base_estimator=tree.DecisionTreeRegressor(),\n",
    "                                           learning_rate=1, \n",
    "                                           n_estimators=10, \n",
    "                                           loss='linear')\n",
    "adaboost_dt_regr.fit(x_train, y_train.values.ravel())\n",
    "\n",
    "evaluator(adaboost_dt_regr, x_test, le)"
   ]
  },
  {
   "cell_type": "code",
   "execution_count": 60,
   "metadata": {},
   "outputs": [
    {
     "data": {
      "text/plain": [
       "AdaBoostRegressor(base_estimator=RandomForestRegressor(bootstrap=True, criterion='mse', max_depth=None,\n",
       "           max_features='auto', max_leaf_nodes=None,\n",
       "           min_impurity_decrease=0.0, min_impurity_split=None,\n",
       "           min_samples_leaf=1, min_samples_split=2,\n",
       "           min_weight_fraction_leaf=0.0, n_estimators=10, n_jobs=-1,\n",
       "           oob_score=False, random_state=None, verbose=0, warm_start=False),\n",
       "         learning_rate=1, loss='linear', n_estimators=10,\n",
       "         random_state=None)"
      ]
     },
     "execution_count": 60,
     "metadata": {},
     "output_type": "execute_result"
    },
    {
     "name": "stdout",
     "output_type": "stream",
     "text": [
      "BANPU \tRMSE: 0.32\t MAE: 0.28 \tMAPE: 1.53 \tDA: 0.52\n",
      "IRPC \tRMSE: 0.12\t MAE: 0.10 \tMAPE: 1.65 \tDA: 0.62\n",
      "PTT \tRMSE: 7.62\t MAE: 5.51 \tMAPE: 1.31 \tDA: 0.43\n",
      "BBL \tRMSE: 1.76\t MAE: 1.41 \tMAPE: 0.73 \tDA: 0.52\n",
      "KBANK \tRMSE: 2.87\t MAE: 2.21 \tMAPE: 1.05 \tDA: 0.41\n",
      "SCB \tRMSE: 1.74\t MAE: 1.37 \tMAPE: 0.91 \tDA: 0.44\n",
      "AOT \tRMSE: 1.17\t MAE: 0.85 \tMAPE: 1.38 \tDA: 0.59\n",
      "THAI \tRMSE: 0.25\t MAE: 0.25 \tMAPE: 1.01 \tDA: 1.00\n",
      "CPF \tRMSE: 0.48\t MAE: 0.37 \tMAPE: 1.47 \tDA: 0.56\n",
      "MINT \tRMSE: 0.47\t MAE: 0.40 \tMAPE: 0.94 \tDA: 0.59\n",
      "TU \tRMSE: 0.28\t MAE: 0.21 \tMAPE: 1.05 \tDA: 0.54\n",
      "SCC \tRMSE: 5.58\t MAE: 4.44 \tMAPE: 0.90 \tDA: 0.45\n",
      "CPN \tRMSE: 1.46\t MAE: 1.11 \tMAPE: 1.47 \tDA: 0.62\n",
      "CK \tRMSE: 0.35\t MAE: 0.25 \tMAPE: 0.91 \tDA: 0.68\n",
      "CPALL \tRMSE: 1.42\t MAE: 1.16 \tMAPE: 1.66 \tDA: 0.43\n",
      "HMPRO \tRMSE: 0.18\t MAE: 0.15 \tMAPE: 1.28 \tDA: 0.67\n",
      "BDMS \tRMSE: 0.32\t MAE: 0.24 \tMAPE: 1.14 \tDA: 0.38\n",
      "BH \tRMSE: 4.31\t MAE: 3.07 \tMAPE: 1.51 \tDA: 0.48\n",
      "ADVANC \tRMSE: 2.26\t MAE: 1.83 \tMAPE: 1.03 \tDA: 0.42\n",
      "JAS \tRMSE: 0.24\t MAE: 0.18 \tMAPE: 2.20 \tDA: 0.59\n",
      "TRUE \tRMSE: 0.13\t MAE: 0.10 \tMAPE: 1.66 \tDA: 0.61\n",
      "\n",
      "mean RMSE: 1.59\n",
      "mean MAE: 1.21\n",
      "mean MAPE: 1.28\n",
      "mean DA: 0.5502\n"
     ]
    }
   ],
   "source": [
    "adaboost_rf_regr = ensemble.AdaBoostRegressor(base_estimator=ensemble.RandomForestRegressor(n_jobs=-1),\n",
    "                                           learning_rate=1, \n",
    "                                           n_estimators=10, \n",
    "                                           loss='linear')\n",
    "adaboost_rf_regr.fit(x_train, y_train.values.ravel())\n",
    "\n",
    "evaluator(adaboost_rf_regr, x_test, le)"
   ]
  },
  {
   "cell_type": "markdown",
   "metadata": {},
   "source": [
    "# Gradient Boosting Regressor"
   ]
  },
  {
   "cell_type": "code",
   "execution_count": 48,
   "metadata": {},
   "outputs": [
    {
     "data": {
      "text/plain": [
       "GradientBoostingRegressor(alpha=0.9, criterion='friedman_mse', init=None,\n",
       "             learning_rate=0.1, loss='ls', max_depth=6, max_features=None,\n",
       "             max_leaf_nodes=None, min_impurity_decrease=0.0,\n",
       "             min_impurity_split=None, min_samples_leaf=1,\n",
       "             min_samples_split=2, min_weight_fraction_leaf=0.0,\n",
       "             n_estimators=100, presort='auto', random_state=None,\n",
       "             subsample=1.0, verbose=0, warm_start=False)"
      ]
     },
     "execution_count": 48,
     "metadata": {},
     "output_type": "execute_result"
    },
    {
     "name": "stdout",
     "output_type": "stream",
     "text": [
      "BANPU \tRMSE: 0.56\t MAE: 0.39 \tMAPE: 2.12 \tDA: 0.52\n",
      "IRPC \tRMSE: 0.14\t MAE: 0.10 \tMAPE: 1.71 \tDA: 0.62\n",
      "PTT \tRMSE: 7.59\t MAE: 5.49 \tMAPE: 1.30 \tDA: 0.46\n",
      "BBL \tRMSE: 1.77\t MAE: 1.41 \tMAPE: 0.73 \tDA: 0.60\n",
      "KBANK \tRMSE: 2.93\t MAE: 2.16 \tMAPE: 1.03 \tDA: 0.45\n",
      "SCB \tRMSE: 1.63\t MAE: 1.26 \tMAPE: 0.84 \tDA: 0.52\n",
      "AOT \tRMSE: 1.23\t MAE: 0.94 \tMAPE: 1.51 \tDA: 0.59\n",
      "THAI \tRMSE: 0.18\t MAE: 0.16 \tMAPE: 0.67 \tDA: 1.00\n",
      "CPF \tRMSE: 0.52\t MAE: 0.41 \tMAPE: 1.62 \tDA: 0.42\n",
      "MINT \tRMSE: 0.46\t MAE: 0.37 \tMAPE: 0.88 \tDA: 0.71\n",
      "TU \tRMSE: 0.29\t MAE: 0.22 \tMAPE: 1.10 \tDA: 0.56\n",
      "SCC \tRMSE: 5.62\t MAE: 4.69 \tMAPE: 0.95 \tDA: 0.60\n",
      "CPN \tRMSE: 1.83\t MAE: 1.22 \tMAPE: 1.58 \tDA: 0.48\n",
      "CK \tRMSE: 0.38\t MAE: 0.27 \tMAPE: 1.01 \tDA: 0.68\n",
      "CPALL \tRMSE: 1.22\t MAE: 0.98 \tMAPE: 1.42 \tDA: 0.50\n",
      "HMPRO \tRMSE: 0.18\t MAE: 0.12 \tMAPE: 0.96 \tDA: 1.00\n",
      "BDMS \tRMSE: 0.27\t MAE: 0.22 \tMAPE: 1.04 \tDA: 0.57\n",
      "BH \tRMSE: 4.02\t MAE: 2.88 \tMAPE: 1.41 \tDA: 0.55\n",
      "ADVANC \tRMSE: 3.93\t MAE: 2.64 \tMAPE: 1.44 \tDA: 0.38\n",
      "JAS \tRMSE: 0.20\t MAE: 0.16 \tMAPE: 2.01 \tDA: 0.46\n",
      "TRUE \tRMSE: 0.20\t MAE: 0.16 \tMAPE: 2.59 \tDA: 0.61\n",
      "\n",
      "mean RMSE: 1.67\n",
      "mean MAE: 1.25\n",
      "mean MAPE: 1.33\n",
      "mean DA: 0.5852\n"
     ]
    }
   ],
   "source": [
    "gbr = ensemble.GradientBoostingRegressor(n_estimators=100, \n",
    "                                         learning_rate=0.1,\n",
    "                                         max_depth=6,\n",
    "                                         min_samples_split=2,\n",
    "                                         loss='ls',\n",
    "                                        )\n",
    "gbr.fit(x_train, y_train.values.ravel())\n",
    "\n",
    "evaluator(gbr, x_test, le)"
   ]
  },
  {
   "cell_type": "markdown",
   "metadata": {},
   "source": [
    "# XGBoost Regressor"
   ]
  },
  {
   "cell_type": "code",
   "execution_count": 62,
   "metadata": {},
   "outputs": [
    {
     "data": {
      "text/plain": [
       "(3878, 431)"
      ]
     },
     "execution_count": 62,
     "metadata": {},
     "output_type": "execute_result"
    }
   ],
   "source": [
    "import xgboost\n",
    "from sklearn.model_selection import train_test_split\n",
    "\n",
    "d_train, d_valid, y_d_train, y_d_valid = train_test_split(x_train, y_train, test_size=0.1, random_state=10)\n",
    "len(d_train), len(d_valid)\n",
    "\n",
    "d_train = xgboost.DMatrix(d_train, label=y_d_train)\n",
    "d_valid = xgboost.DMatrix(d_valid, label=y_d_valid)"
   ]
  },
  {
   "cell_type": "markdown",
   "metadata": {},
   "source": [
    "Parameters\n",
    "http://xgboost.readthedocs.io/en/latest//parameter.html"
   ]
  },
  {
   "cell_type": "code",
   "execution_count": 63,
   "metadata": {},
   "outputs": [
    {
     "name": "stdout",
     "output_type": "stream",
     "text": [
      "[0]\ttrain-mae:111.315\tvalid-mae:112.966\n",
      "Multiple eval metrics have been passed: 'valid-mae' will be used for early stopping.\n",
      "\n",
      "Will train until valid-mae hasn't improved in 50 rounds.\n",
      "[100]\ttrain-mae:7.31763\tvalid-mae:7.29744\n",
      "[200]\ttrain-mae:1.12561\tvalid-mae:1.53498\n",
      "Stopping. Best iteration:\n",
      "[226]\ttrain-mae:1.10719\tvalid-mae:1.53211\n",
      "\n"
     ]
    }
   ],
   "source": [
    "params = {\n",
    "    'booster':'dart',\n",
    "    'max_depth': 4,\n",
    "    'learning_rate': 0.05,\n",
    "    'subsample': 1,\n",
    "    'objective': 'reg:tweedie',\n",
    "    'eval_metric': 'mae',\n",
    "    'reg_lambda': 0.8,\n",
    "    'reg_alpha': 0.2,\n",
    "    'silent': 1,\n",
    "    'sample_type':\"weighted\"\n",
    "}\n",
    "\n",
    "xgb = xgboost.train(params, d_train, \n",
    "                    num_boost_round=5000, \n",
    "                    evals=[(d_train, 'train'), (d_valid, 'valid')], \n",
    "                    early_stopping_rounds=50,\n",
    "                    verbose_eval=100\n",
    "                   )"
   ]
  },
  {
   "cell_type": "code",
   "execution_count": 64,
   "metadata": {},
   "outputs": [
    {
     "name": "stdout",
     "output_type": "stream",
     "text": [
      "BANPU \tRMSE: 0.30\t MAE: 0.27 \tMAPE: 1.48 \tDA: 0.57\n",
      "IRPC \tRMSE: 0.10\t MAE: 0.09 \tMAPE: 1.50 \tDA: 0.77\n",
      "PTT \tRMSE: 10.26\t MAE: 6.45 \tMAPE: 1.54 \tDA: 0.49\n",
      "BBL \tRMSE: 1.72\t MAE: 1.36 \tMAPE: 0.71 \tDA: 0.62\n",
      "KBANK \tRMSE: 3.14\t MAE: 2.37 \tMAPE: 1.12 \tDA: 0.45\n",
      "SCB \tRMSE: 1.68\t MAE: 1.28 \tMAPE: 0.85 \tDA: 0.54\n",
      "AOT \tRMSE: 1.21\t MAE: 0.93 \tMAPE: 1.50 \tDA: 0.48\n",
      "THAI \tRMSE: 0.18\t MAE: 0.18 \tMAPE: 0.69 \tDA: 1.00\n",
      "CPF \tRMSE: 0.52\t MAE: 0.44 \tMAPE: 1.74 \tDA: 0.42\n",
      "MINT \tRMSE: 0.46\t MAE: 0.37 \tMAPE: 0.90 \tDA: 0.71\n",
      "TU \tRMSE: 0.27\t MAE: 0.20 \tMAPE: 1.00 \tDA: 0.55\n",
      "SCC \tRMSE: 6.63\t MAE: 5.57 \tMAPE: 1.13 \tDA: 0.65\n",
      "CPN \tRMSE: 1.80\t MAE: 1.37 \tMAPE: 1.77 \tDA: 0.52\n",
      "CK \tRMSE: 0.36\t MAE: 0.27 \tMAPE: 0.98 \tDA: 0.60\n",
      "CPALL \tRMSE: 1.43\t MAE: 1.08 \tMAPE: 1.58 \tDA: 0.47\n",
      "HMPRO \tRMSE: 0.10\t MAE: 0.09 \tMAPE: 0.85 \tDA: 1.00\n",
      "BDMS \tRMSE: 0.23\t MAE: 0.18 \tMAPE: 0.87 \tDA: 0.62\n",
      "BH \tRMSE: 3.63\t MAE: 2.86 \tMAPE: 1.41 \tDA: 0.55\n",
      "ADVANC \tRMSE: 3.62\t MAE: 2.54 \tMAPE: 1.39 \tDA: 0.42\n",
      "JAS \tRMSE: 0.23\t MAE: 0.19 \tMAPE: 2.24 \tDA: 0.51\n",
      "TRUE \tRMSE: 0.15\t MAE: 0.12 \tMAPE: 1.96 \tDA: 0.62\n",
      "\n",
      "mean RMSE: 1.81\n",
      "mean MAE: 1.34\n",
      "mean MAPE: 1.3\n",
      "mean DA: 0.5981\n"
     ]
    }
   ],
   "source": [
    "evaluator(xgb, x_test, le, isXGB=True)"
   ]
  },
  {
   "cell_type": "markdown",
   "metadata": {},
   "source": [
    "# Save ML models"
   ]
  },
  {
   "cell_type": "code",
   "execution_count": 65,
   "metadata": {},
   "outputs": [],
   "source": [
    "import pickle\n",
    "pickle.dump(decis_tree_regr, open('models/decis_tree_regr_twitter_all.pkl', 'wb'))\n",
    "pickle.dump(rnd_forest_regr, open('models/rnd_forest_regr_twitter_all.pkl', 'wb'))\n",
    "pickle.dump(bagging, open('models/bagging_regr_twitter_all.pkl', 'wb'))\n",
    "pickle.dump(adaboost_dt_regr, open('models/adaboost_dt_regr_twitter_all.pkl', 'wb'))\n",
    "pickle.dump(adaboost_rf_regr, open('models/adaboost_rf_regr_twitter_all.pkl', 'wb'))\n",
    "pickle.dump(xgb, open('models/xgb_twitter_all.pkl', 'wb'))"
   ]
  },
  {
   "cell_type": "markdown",
   "metadata": {},
   "source": [
    "# Ensemble Stacking"
   ]
  },
  {
   "cell_type": "code",
   "execution_count": 66,
   "metadata": {},
   "outputs": [],
   "source": [
    "dt = pickle.load(open('models/decis_tree_regr_twitter_all.pkl', 'rb'))\n",
    "rf = pickle.load(open('models/rnd_forest_regr_twitter_all.pkl', 'rb'))\n",
    "bagging = pickle.load(open('models/bagging_regr_twitter_all.pkl', 'rb'))\n",
    "ada_dt = pickle.load(open('models/adaboost_dt_regr_twitter_all.pkl', 'rb'))\n",
    "ada_rf = pickle.load(open('models/adaboost_rf_regr_twitter_all.pkl', 'rb'))\n",
    "xgb = pickle.load(open('models/xgb_twitter_all.pkl', 'rb'))"
   ]
  },
  {
   "cell_type": "code",
   "execution_count": 89,
   "metadata": {},
   "outputs": [],
   "source": [
    "x_train_stack = np.concatenate((\n",
    "                         bagging.predict(x_train).reshape(-1,1),\n",
    "                         ada_dt.predict(x_train).reshape(-1,1),\n",
    "                         ada_rf.predict(x_train).reshape(-1,1),\n",
    "                         xgb.predict(xgboost.DMatrix(x_train)).reshape(-1,1)), axis=1)"
   ]
  },
  {
   "cell_type": "code",
   "execution_count": 90,
   "metadata": {},
   "outputs": [],
   "source": [
    "y_test = x_test[Horizon].values.reshape(-1,1)\n",
    "\n",
    "x_test_stack = np.concatenate((\n",
    "                         bagging.predict(x_test.drop(['Close(t+1)'], axis=1)).reshape(-1,1),\n",
    "                         ada_dt.predict(x_test.drop(['Close(t+1)'], axis=1)).reshape(-1,1),\n",
    "                         ada_rf.predict(x_test.drop(['Close(t+1)'], axis=1)).reshape(-1,1),\n",
    "                         xgb.predict(xgboost.DMatrix((x_test.drop(['Close(t+1)'], axis=1)))).reshape(-1,1)), axis=1)"
   ]
  },
  {
   "cell_type": "code",
   "execution_count": 92,
   "metadata": {},
   "outputs": [
    {
     "data": {
      "text/plain": [
       "RandomForestRegressor(bootstrap=True, criterion='mse', max_depth=None,\n",
       "           max_features='auto', max_leaf_nodes=None,\n",
       "           min_impurity_decrease=0.0, min_impurity_split=None,\n",
       "           min_samples_leaf=1, min_samples_split=2,\n",
       "           min_weight_fraction_leaf=0.0, n_estimators=10, n_jobs=-1,\n",
       "           oob_score=False, random_state=None, verbose=0, warm_start=False)"
      ]
     },
     "execution_count": 92,
     "metadata": {},
     "output_type": "execute_result"
    },
    {
     "name": "stdout",
     "output_type": "stream",
     "text": [
      "RMSE: 3.26 \tMAE: 1.04 \tMAPE: 1.00\n",
      "RMSE: 2.81 \tMAE: 1.38 \tMAPE: 1.33\n",
      "RMSE: 2.66 \tMAE: 1.24 \tMAPE: 1.22\n",
      "RMSE: 3.35 \tMAE: 1.35 \tMAPE: 1.28\n",
      "\n",
      "RMSE: 2.45 \tMAE: 1.25 \tMAPE: 1.22\n"
     ]
    }
   ],
   "source": [
    "stack = ensemble.RandomForestRegressor(n_jobs=-1)\n",
    "stack.fit(x_train_stack, y_train.values.ravel())\n",
    "\n",
    "y_pred_stack = stack.predict(x_test_stack).reshape(-1,1)\n",
    "\n",
    "for i in range(x_test_stack.shape[1]):\n",
    "    RMSE = np.sqrt(mean_squared_error(y_test, x_test_stack[:,i]))\n",
    "    MAE = mean_absolute_error(y_test, x_test_stack[:,i])\n",
    "    MAPE = mean_absolute_percentage_error(y_test, x_test_stack[:,i].reshape(-1,1))\n",
    "    print(\"RMSE: %.2f \\tMAE: %.2f \\tMAPE: %.2f\" % (RMSE, MAE, MAPE))\n",
    "    \n",
    "RMSE = np.sqrt(mean_squared_error(y_test, y_pred_stack))\n",
    "MAE = mean_absolute_error(y_test, y_pred_stack)\n",
    "MAPE = mean_absolute_percentage_error(y_test, y_pred_stack)\n",
    "print(\"\\nRMSE: %.2f \\tMAE: %.2f \\tMAPE: %.2f\" % (RMSE, MAE, MAPE))"
   ]
  },
  {
   "cell_type": "code",
   "execution_count": 93,
   "metadata": {},
   "outputs": [
    {
     "data": {
      "text/plain": [
       "array([0.06368828, 0.51748973, 0.38883383, 0.02998816])"
      ]
     },
     "execution_count": 93,
     "metadata": {},
     "output_type": "execute_result"
    }
   ],
   "source": [
    "feature_importances = stack.feature_importances_\n",
    "feature_importances"
   ]
  },
  {
   "cell_type": "markdown",
   "metadata": {},
   "source": [
    "# Stack DA"
   ]
  },
  {
   "cell_type": "code",
   "execution_count": 94,
   "metadata": {},
   "outputs": [],
   "source": [
    "close_t = np.reshape(x_train['Close(t)'].values, (-1, 1))\n",
    "changes = y_train.values.reshape(-1,1) - close_t\n",
    "y_train_da = np.array([1 if change >= 0 else 0 for change in changes]).reshape(-1,1)\n",
    "\n",
    "x_changes = np.concatenate((\n",
    "                            np.array(x_train_stack[:,0]).reshape(-1,1)-close_t,\n",
    "                            np.array(x_train_stack[:,1]).reshape(-1,1)-close_t,\n",
    "                            np.array(x_train_stack[:,2]).reshape(-1,1)-close_t,\n",
    "                            np.array(x_train_stack[:,3]).reshape(-1,1)-close_t,\n",
    "                           ), axis=1)\n",
    "x_train_stack_da = []\n",
    "for row in x_changes:\n",
    "    tmp_row = []\n",
    "    for change in row:\n",
    "        tmp_row.append(1 if change>=0 else 0)\n",
    "    x_train_stack_da.append(tmp_row)"
   ]
  },
  {
   "cell_type": "code",
   "execution_count": 95,
   "metadata": {},
   "outputs": [],
   "source": [
    "close_t = np.reshape(x_test['Close(t)'].values, (-1, 1))\n",
    "changes = y_test - close_t\n",
    "y_test_da = np.array([1 if change >= 0 else 0 for change in changes]).reshape(-1,1)\n",
    "\n",
    "x_changes = np.concatenate((\n",
    "                            np.array(x_test_stack[:,0]).reshape(-1,1)-close_t,\n",
    "                            np.array(x_test_stack[:,1]).reshape(-1,1)-close_t,\n",
    "                            np.array(x_test_stack[:,2]).reshape(-1,1)-close_t,\n",
    "                            np.array(x_test_stack[:,3]).reshape(-1,1)-close_t,\n",
    "                           ), axis=1)\n",
    "x_test_stack_da = []\n",
    "for row in x_changes:\n",
    "    tmp_row = []\n",
    "    for change in row:\n",
    "        tmp_row.append(1 if change>=0 else 0)\n",
    "    x_test_stack_da.append(tmp_row)\n",
    "\n",
    "x_test_stack_da = np.array(x_test_stack_da)"
   ]
  },
  {
   "cell_type": "code",
   "execution_count": 96,
   "metadata": {},
   "outputs": [
    {
     "data": {
      "text/plain": [
       "GradientBoostingRegressor(alpha=0.9, criterion='friedman_mse', init=None,\n",
       "             learning_rate=0.1, loss='ls', max_depth=3, max_features=None,\n",
       "             max_leaf_nodes=None, min_impurity_decrease=0.0,\n",
       "             min_impurity_split=None, min_samples_leaf=1,\n",
       "             min_samples_split=2, min_weight_fraction_leaf=0.0,\n",
       "             n_estimators=100, presort='auto', random_state=None,\n",
       "             subsample=1.0, verbose=0, warm_start=False)"
      ]
     },
     "execution_count": 96,
     "metadata": {},
     "output_type": "execute_result"
    },
    {
     "name": "stdout",
     "output_type": "stream",
     "text": [
      "Accuracy: 0.5755\n",
      "Accuracy: 0.5552\n",
      "Accuracy: 0.5249\n",
      "Accuracy: 0.5497\n",
      "\n",
      "Accuracy: 0.5552\n"
     ]
    }
   ],
   "source": [
    "stack_da = ensemble.GradientBoostingRegressor()\n",
    "stack_da.fit(x_train_stack_da, y_train_da.ravel())\n",
    "\n",
    "y_stack_da = stack_da.predict(x_test_stack_da).reshape(-1,1).round(0).astype(int)\n",
    "\n",
    "for i in range(x_test_stack_da.shape[1]):\n",
    "    acc = accuracy_score(y_test_da, x_test_stack_da[:,i])\n",
    "    print(\"Accuracy: %.4f\" % (acc))\n",
    "    \n",
    "acc = accuracy_score(y_test_da, y_stack_da)\n",
    "print(\"\\nAccuracy: %.4f\" % (acc))"
   ]
  },
  {
   "cell_type": "code",
   "execution_count": 97,
   "metadata": {},
   "outputs": [
    {
     "data": {
      "text/plain": [
       "array([0.28697064, 0.52419033, 0.01115664, 0.17768239])"
      ]
     },
     "execution_count": 97,
     "metadata": {},
     "output_type": "execute_result"
    }
   ],
   "source": [
    "feature_importances_da = stack_da.feature_importances_\n",
    "feature_importances_da"
   ]
  },
  {
   "cell_type": "code",
   "execution_count": null,
   "metadata": {},
   "outputs": [],
   "source": []
  },
  {
   "cell_type": "code",
   "execution_count": null,
   "metadata": {},
   "outputs": [],
   "source": []
  },
  {
   "cell_type": "markdown",
   "metadata": {},
   "source": [
    "# LSTM"
   ]
  },
  {
   "cell_type": "code",
   "execution_count": 16,
   "metadata": {},
   "outputs": [
    {
     "name": "stderr",
     "output_type": "stream",
     "text": [
      "Using TensorFlow backend.\n"
     ]
    }
   ],
   "source": [
    "from keras.models import Sequential\n",
    "from keras.layers import Dense, Dropout, LSTM"
   ]
  },
  {
   "cell_type": "code",
   "execution_count": 17,
   "metadata": {},
   "outputs": [
    {
     "name": "stdout",
     "output_type": "stream",
     "text": [
      "(17396, 1017, 1) (17396, 1)\n",
      "(3070, 1017, 1) (3070, 1)\n"
     ]
    }
   ],
   "source": [
    "train_X = x_train.values\n",
    "val_X = x_valid.values\n",
    "# test_X = x_test.values\n",
    "\n",
    "train_y = y_train.values\n",
    "val_y = y_valid.values\n",
    "# test_y = y_test.values\n",
    "\n",
    "train_X = train_X.reshape(train_X.shape[0], train_X.shape[1], 1)\n",
    "val_X = val_X.reshape(val_X.shape[0], val_X.shape[1], 1)\n",
    "# test_X = test_X.reshape((test_X.shape[0], 1, test_X.shape[1]))\n",
    "\n",
    "print(train_X.shape, train_y.shape)\n",
    "print(val_X.shape, val_y.shape)\n",
    "# print(test_X.shape, test_y.shape)"
   ]
  },
  {
   "cell_type": "code",
   "execution_count": 18,
   "metadata": {},
   "outputs": [],
   "source": [
    "model = Sequential()\n",
    "model.add(LSTM(64, return_sequences=True, input_shape=(train_X.shape[1], 1)))\n",
    "model.add(Dropout(0.3))\n",
    "model.add(LSTM(128, return_sequences=True))\n",
    "model.add(Dropout(0.3))\n",
    "# model.add(LSTM(256, return_sequences=True))\n",
    "# model.add(Dropout(0.3))\n",
    "# model.add(LSTM(256, return_sequences=True))\n",
    "# model.add(Dropout(0.4))\n",
    "model.add(LSTM(128))\n",
    "model.add(Dense(1))\n",
    "model.compile(loss='mean_absolute_error', optimizer='adam')"
   ]
  },
  {
   "cell_type": "code",
   "execution_count": 19,
   "metadata": {},
   "outputs": [],
   "source": [
    "from keras.callbacks import ModelCheckpoint, TensorBoard, EarlyStopping\n",
    "\n",
    "checkpoint = ModelCheckpoint(filepath=\"model/LSTM.h5\", \n",
    "                             monitor='val_loss', \n",
    "                             verbose=1, \n",
    "                             save_best_only=True, \n",
    "                             save_weights_only=False, \n",
    "                             mode='auto', \n",
    "                             period=1\n",
    "                            )\n",
    "\n",
    "earlystopping = EarlyStopping(monitor='val_loss', \n",
    "                      min_delta=0, \n",
    "                      patience=100,\n",
    "                      verbose=1, \n",
    "                      mode='auto')\n",
    "\n",
    "# access via $ tensorboard --logdir=./logs\n",
    "tensorboard = TensorBoard(log_dir='./logs')"
   ]
  },
  {
   "cell_type": "code",
   "execution_count": null,
   "metadata": {
    "scrolled": false
   },
   "outputs": [],
   "source": [
    "model.fit(x=train_X, \n",
    "          y=train_y,\n",
    "          epochs=1000,\n",
    "          batch_size=32,\n",
    "          validation_data=(val_X, val_y),\n",
    "          verbose=1,\n",
    "          shuffle=False,\n",
    "          callbacks=[checkpoint, earlystopping, tensorboard]\n",
    "         )"
   ]
  },
  {
   "cell_type": "code",
   "execution_count": null,
   "metadata": {},
   "outputs": [],
   "source": [
    "evaluator(model, x_test, le, isLSTM=True)"
   ]
  },
  {
   "cell_type": "code",
   "execution_count": null,
   "metadata": {},
   "outputs": [],
   "source": [
    "from keras.layers import Bidirectional"
   ]
  },
  {
   "cell_type": "code",
   "execution_count": null,
   "metadata": {},
   "outputs": [],
   "source": [
    "model = Sequential()\n",
    "model.add(Bidirectional(LSTM(128, return_sequences=True), input_shape=(2, train_X.shape[2])))\n",
    "model.add(Dropout(0.2))\n",
    "model.add(Bidirectional(LSTM(128, return_sequences=True)))\n",
    "model.add(Dropout(0.3))\n",
    "model.add(Bidirectional(LSTM(128, return_sequences=True)))\n",
    "model.add(Dropout(0.4))\n",
    "model.add(Bidirectional(LSTM(128)))\n",
    "model.add(Dense(1))\n",
    "model.compile(loss='mean_absolute_error', optimizer='adam')"
   ]
  },
  {
   "cell_type": "code",
   "execution_count": null,
   "metadata": {},
   "outputs": [],
   "source": [
    "model.fit(x=train_X, \n",
    "          y=train_y,\n",
    "          epochs=10000,\n",
    "          batch_size=1024,\n",
    "          validation_data=(val_X, val_y),\n",
    "          verbose=1,\n",
    "          shuffle=False,\n",
    "          callbacks=[checkpoint, earlystopping, tensorboard]\n",
    "         )"
   ]
  },
  {
   "cell_type": "code",
   "execution_count": null,
   "metadata": {},
   "outputs": [],
   "source": [
    "'hey'"
   ]
  },
  {
   "cell_type": "code",
   "execution_count": null,
   "metadata": {},
   "outputs": [],
   "source": [
    "evaluator(model, x_test, le, isLSTM=True)"
   ]
  },
  {
   "cell_type": "code",
   "execution_count": null,
   "metadata": {},
   "outputs": [],
   "source": [
    "data_dim = 16\n",
    "timesteps = 8\n",
    "num_classes = 10\n",
    "np.random.random((10, timesteps, data_dim)).shape"
   ]
  },
  {
   "cell_type": "code",
   "execution_count": null,
   "metadata": {},
   "outputs": [],
   "source": [
    "train_X = x_train.values\n",
    "val_X = x_valid.values\n",
    "train_X.shape\n",
    "\n",
    "train_X = train_X.reshape(train_X.shape[0], train_X.shape[1], 1)\n",
    "train_X.shape"
   ]
  },
  {
   "cell_type": "code",
   "execution_count": null,
   "metadata": {},
   "outputs": [],
   "source": []
  }
 ],
 "metadata": {
  "kernelspec": {
   "display_name": "Python 3",
   "language": "python",
   "name": "python3"
  },
  "language_info": {
   "codemirror_mode": {
    "name": "ipython",
    "version": 3
   },
   "file_extension": ".py",
   "mimetype": "text/x-python",
   "name": "python",
   "nbconvert_exporter": "python",
   "pygments_lexer": "ipython3",
   "version": "3.5.2"
  }
 },
 "nbformat": 4,
 "nbformat_minor": 2
}
