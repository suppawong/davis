{
 "cells": [
  {
   "cell_type": "markdown",
   "metadata": {},
   "source": [
    "# Regression with news (all)"
   ]
  },
  {
   "cell_type": "code",
   "execution_count": 1,
   "metadata": {},
   "outputs": [
    {
     "data": {
      "text/html": [
       "<style>.container { width:100% !important; }</style>"
      ],
      "text/plain": [
       "<IPython.core.display.HTML object>"
      ]
     },
     "metadata": {},
     "output_type": "display_data"
    },
    {
     "data": {
      "text/html": [
       "<script>requirejs.config({paths: { 'plotly': ['https://cdn.plot.ly/plotly-latest.min']},});if(!window.Plotly) {{require(['plotly'],function(plotly) {window.Plotly=plotly;});}}</script>"
      ],
      "text/vnd.plotly.v1+html": [
       "<script>requirejs.config({paths: { 'plotly': ['https://cdn.plot.ly/plotly-latest.min']},});if(!window.Plotly) {{require(['plotly'],function(plotly) {window.Plotly=plotly;});}}</script>"
      ]
     },
     "metadata": {},
     "output_type": "display_data"
    }
   ],
   "source": [
    "from IPython.core.display import display, HTML\n",
    "display(HTML(\"<style>.container { width:100% !important; }</style>\"))\n",
    "\n",
    "from IPython.core.interactiveshell import InteractiveShell\n",
    "InteractiveShell.ast_node_interactivity = \"all\"\n",
    "\n",
    "import sys\n",
    "sys.version\n",
    "\n",
    "import pandas as pd\n",
    "import os\n",
    "import copy\n",
    "import numpy as np\n",
    "import xgboost\n",
    "import pickle\n",
    "\n",
    "\n",
    "from pythainlp.corpus import stopwords\n",
    "from sklearn.feature_extraction.text import TfidfVectorizer\n",
    "from sklearn.linear_model import LinearRegression\n",
    "from sklearn.metrics import mean_squared_error, mean_absolute_error, accuracy_score\n",
    "from sklearn import preprocessing\n",
    "\n",
    "from sklearn.linear_model import Ridge\n",
    "from sklearn.preprocessing import PolynomialFeatures\n",
    "from sklearn.pipeline import make_pipeline\n",
    "\n",
    "from plotly.offline import download_plotlyjs, init_notebook_mode, plot, iplot\n",
    "init_notebook_mode(connected=True)\n",
    "\n",
    "from plotly import tools\n",
    "import plotly.graph_objs as go\n",
    "from datetime import datetime, timedelta\n",
    "from tqdm import tqdm_notebook\n",
    "import matplotlib.pyplot as plt\n",
    "% matplotlib inline"
   ]
  },
  {
   "cell_type": "code",
   "execution_count": 2,
   "metadata": {},
   "outputs": [
    {
     "data": {
      "text/html": [
       "<div>\n",
       "<style scoped>\n",
       "    .dataframe tbody tr th:only-of-type {\n",
       "        vertical-align: middle;\n",
       "    }\n",
       "\n",
       "    .dataframe tbody tr th {\n",
       "        vertical-align: top;\n",
       "    }\n",
       "\n",
       "    .dataframe thead th {\n",
       "        text-align: right;\n",
       "    }\n",
       "</style>\n",
       "<table border=\"1\" class=\"dataframe\">\n",
       "  <thead>\n",
       "    <tr style=\"text-align: right;\">\n",
       "      <th></th>\n",
       "      <th>Ticker</th>\n",
       "      <th>Open</th>\n",
       "      <th>High</th>\n",
       "      <th>Low</th>\n",
       "      <th>Close</th>\n",
       "      <th>Volume</th>\n",
       "    </tr>\n",
       "    <tr>\n",
       "      <th>Date</th>\n",
       "      <th></th>\n",
       "      <th></th>\n",
       "      <th></th>\n",
       "      <th></th>\n",
       "      <th></th>\n",
       "      <th></th>\n",
       "    </tr>\n",
       "  </thead>\n",
       "  <tbody>\n",
       "    <tr>\n",
       "      <th>2018-02-16</th>\n",
       "      <td>THAI</td>\n",
       "      <td>15.6</td>\n",
       "      <td>15.9</td>\n",
       "      <td>15.6</td>\n",
       "      <td>15.6</td>\n",
       "      <td>2907700</td>\n",
       "    </tr>\n",
       "    <tr>\n",
       "      <th>2018-02-16</th>\n",
       "      <td>TRUE</td>\n",
       "      <td>6.4</td>\n",
       "      <td>6.4</td>\n",
       "      <td>6.3</td>\n",
       "      <td>6.3</td>\n",
       "      <td>35851300</td>\n",
       "    </tr>\n",
       "    <tr>\n",
       "      <th>2018-02-16</th>\n",
       "      <td>TU</td>\n",
       "      <td>20.0</td>\n",
       "      <td>20.5</td>\n",
       "      <td>20.0</td>\n",
       "      <td>20.1</td>\n",
       "      <td>7299300</td>\n",
       "    </tr>\n",
       "  </tbody>\n",
       "</table>\n",
       "</div>"
      ],
      "text/plain": [
       "           Ticker  Open  High   Low  Close    Volume\n",
       "Date                                                \n",
       "2018-02-16   THAI  15.6  15.9  15.6   15.6   2907700\n",
       "2018-02-16   TRUE   6.4   6.4   6.3    6.3  35851300\n",
       "2018-02-16     TU  20.0  20.5  20.0   20.1   7299300"
      ]
     },
     "execution_count": 2,
     "metadata": {},
     "output_type": "execute_result"
    },
    {
     "data": {
      "text/plain": [
       "26331"
      ]
     },
     "execution_count": 2,
     "metadata": {},
     "output_type": "execute_result"
    },
    {
     "data": {
      "text/html": [
       "<div>\n",
       "<style scoped>\n",
       "    .dataframe tbody tr th:only-of-type {\n",
       "        vertical-align: middle;\n",
       "    }\n",
       "\n",
       "    .dataframe tbody tr th {\n",
       "        vertical-align: top;\n",
       "    }\n",
       "\n",
       "    .dataframe thead th {\n",
       "        text-align: right;\n",
       "    }\n",
       "</style>\n",
       "<table border=\"1\" class=\"dataframe\">\n",
       "  <thead>\n",
       "    <tr style=\"text-align: right;\">\n",
       "      <th></th>\n",
       "      <th>Ticker</th>\n",
       "      <th>Text</th>\n",
       "    </tr>\n",
       "  </thead>\n",
       "  <tbody>\n",
       "    <tr>\n",
       "      <th>2018-02-08</th>\n",
       "      <td>TU</td>\n",
       "      <td>หลักทรัพย์ ล่าสุด เปลี่ยนแปลง เปลี่ยนแปลง ปริม...</td>\n",
       "    </tr>\n",
       "    <tr>\n",
       "      <th>2018-02-08</th>\n",
       "      <td>BANPU</td>\n",
       "      <td>ผู้สื่อข่าว รายงาน ว่า ดัชนี ปิด ตลาด วันนี้ ท...</td>\n",
       "    </tr>\n",
       "    <tr>\n",
       "      <th>2018-02-08</th>\n",
       "      <td>PTT</td>\n",
       "      <td>ผู้สื่อข่าว รายงาน ว่า ดัชนี ปิด ตลาด วันนี้ ท...</td>\n",
       "    </tr>\n",
       "  </tbody>\n",
       "</table>\n",
       "</div>"
      ],
      "text/plain": [
       "           Ticker                                               Text\n",
       "2018-02-08     TU  หลักทรัพย์ ล่าสุด เปลี่ยนแปลง เปลี่ยนแปลง ปริม...\n",
       "2018-02-08  BANPU  ผู้สื่อข่าว รายงาน ว่า ดัชนี ปิด ตลาด วันนี้ ท...\n",
       "2018-02-08    PTT  ผู้สื่อข่าว รายงาน ว่า ดัชนี ปิด ตลาด วันนี้ ท..."
      ]
     },
     "execution_count": 2,
     "metadata": {},
     "output_type": "execute_result"
    },
    {
     "data": {
      "text/plain": [
       "118355"
      ]
     },
     "execution_count": 2,
     "metadata": {},
     "output_type": "execute_result"
    },
    {
     "data": {
      "text/html": [
       "<div>\n",
       "<style scoped>\n",
       "    .dataframe tbody tr th:only-of-type {\n",
       "        vertical-align: middle;\n",
       "    }\n",
       "\n",
       "    .dataframe tbody tr th {\n",
       "        vertical-align: top;\n",
       "    }\n",
       "\n",
       "    .dataframe thead th {\n",
       "        text-align: right;\n",
       "    }\n",
       "</style>\n",
       "<table border=\"1\" class=\"dataframe\">\n",
       "  <thead>\n",
       "    <tr style=\"text-align: right;\">\n",
       "      <th></th>\n",
       "      <th>Ticker</th>\n",
       "      <th>Text</th>\n",
       "    </tr>\n",
       "  </thead>\n",
       "  <tbody>\n",
       "    <tr>\n",
       "      <th>2018-02-07</th>\n",
       "      <td>HMPRO</td>\n",
       "      <td>เปิด ตลาด ภาค เช้า พุธ ก พรีบาวด์ ตาม สหรัฐฯ แ...</td>\n",
       "    </tr>\n",
       "    <tr>\n",
       "      <th>2018-02-08</th>\n",
       "      <td>PTT</td>\n",
       "      <td>ตลาดหุ้น ไทย เปิด บวก แรง ซื้อ หุ้น นำ ตลาด ผส...</td>\n",
       "    </tr>\n",
       "    <tr>\n",
       "      <th>2018-02-08</th>\n",
       "      <td>IRPC</td>\n",
       "      <td>เปิด ตลาด ภาค เช้า พฤหัสฯ กพ วอ ลุ่ม ขาย มุ่ง ...</td>\n",
       "    </tr>\n",
       "  </tbody>\n",
       "</table>\n",
       "</div>"
      ],
      "text/plain": [
       "           Ticker                                               Text\n",
       "2018-02-07  HMPRO  เปิด ตลาด ภาค เช้า พุธ ก พรีบาวด์ ตาม สหรัฐฯ แ...\n",
       "2018-02-08    PTT  ตลาดหุ้น ไทย เปิด บวก แรง ซื้อ หุ้น นำ ตลาด ผส...\n",
       "2018-02-08   IRPC  เปิด ตลาด ภาค เช้า พฤหัสฯ กพ วอ ลุ่ม ขาย มุ่ง ..."
      ]
     },
     "execution_count": 2,
     "metadata": {},
     "output_type": "execute_result"
    },
    {
     "data": {
      "text/plain": [
       "5084"
      ]
     },
     "execution_count": 2,
     "metadata": {},
     "output_type": "execute_result"
    }
   ],
   "source": [
    "target_stocks = ['BANPU','IRPC','PTT','BBL','KBANK','SCB','AOT','THAI','CPF','MINT',\n",
    "                 'TU','SCC','CPN','CK','CPALL','HMPRO','BDMS','BH','ADVANC','JAS','TRUE']\n",
    "\n",
    "df_price = pd.read_csv('merged_2013_2018.csv')\n",
    "df_price['Date'] = pd.to_datetime(df_price['Date'], format='%Y-%m-%d')\n",
    "df_price = df_price.loc[df_price['Ticker'].isin(target_stocks)]\n",
    "df_price['Date'] = df_price['Date'].dt.date\n",
    "df_price = df_price.set_index('Date')\n",
    "df_price.tail(3)\n",
    "len(df_price)\n",
    "\n",
    "df_kaohoon = pd.read_csv('data/kaohoon_all.csv')\n",
    "df_kaohoon['Date'] = pd.to_datetime(df_kaohoon['Date'], format='%Y-%m-%d')\n",
    "df_kaohoon = df_kaohoon.set_index('Date')\n",
    "df_kaohoon = df_kaohoon[:'2018-2-8']\n",
    "df_kaohoon.index = df_kaohoon.index.date\n",
    "df_kaohoon.tail(3)\n",
    "len(df_kaohoon)\n",
    "\n",
    "df_moneych = pd.read_csv('data/moneychanel_all.csv')\n",
    "df_moneych['Date'] = pd.to_datetime(df_moneych['Date'], format='%Y-%m-%d')\n",
    "df_moneych = df_moneych.set_index('Date')\n",
    "df_moneych = df_moneych[:'2018-2-8']\n",
    "df_moneych.index = df_moneych.index.date\n",
    "df_moneych.tail(3)\n",
    "len(df_moneych)\n",
    "\n",
    "df_news = pd.concat([df_moneych, df_kaohoon])\n",
    "df_news = df_news.sort_index()"
   ]
  },
  {
   "cell_type": "markdown",
   "metadata": {},
   "source": [
    "# Lag & Horizon Construction"
   ]
  },
  {
   "cell_type": "code",
   "execution_count": 5,
   "metadata": {},
   "outputs": [
    {
     "data": {
      "application/vnd.jupyter.widget-view+json": {
       "model_id": "db4e9f11e0334033991efb9ade9d2897",
       "version_major": 2,
       "version_minor": 0
      },
      "text/html": [
       "<p>Failed to display Jupyter Widget of type <code>HBox</code>.</p>\n",
       "<p>\n",
       "  If you're reading this message in the Jupyter Notebook or JupyterLab Notebook, it may mean\n",
       "  that the widgets JavaScript is still loading. If this message persists, it\n",
       "  likely means that the widgets JavaScript library is either not installed or\n",
       "  not enabled. See the <a href=\"https://ipywidgets.readthedocs.io/en/stable/user_install.html\">Jupyter\n",
       "  Widgets Documentation</a> for setup instructions.\n",
       "</p>\n",
       "<p>\n",
       "  If you're reading this message in another frontend (for example, a static\n",
       "  rendering on GitHub or <a href=\"https://nbviewer.jupyter.org/\">NBViewer</a>),\n",
       "  it may mean that your frontend doesn't currently support widgets.\n",
       "</p>\n"
      ],
      "text/plain": [
       "HBox(children=(IntProgress(value=0, max=21), HTML(value='')))"
      ]
     },
     "metadata": {},
     "output_type": "display_data"
    },
    {
     "name": "stdout",
     "output_type": "stream",
     "text": [
      "BANPU :\t 860 46\n",
      "IRPC :\t 868 46\n",
      "PTT :\t 882 47\n",
      "BBL :\t 877 47\n",
      "KBANK :\t 888 47\n",
      "SCB :\t 890 47\n",
      "AOT :\t 876 47\n",
      "THAI :\t 840 45\n",
      "CPF :\t 868 46\n",
      "MINT :\t 873 46\n",
      "TU :\t 669 36\n",
      "SCC :\t 868 46\n",
      "CPN :\t 862 46\n",
      "CK :\t 852 45\n",
      "CPALL :\t 861 46\n",
      "HMPRO :\t 856 46\n",
      "BDMS :\t 827 44\n",
      "BH :\t 848 45\n",
      "ADVANC :\t 882 47\n",
      "JAS :\t 793 42\n",
      "TRUE :\t 866 46\n",
      "\n"
     ]
    }
   ],
   "source": [
    "N_lags = 3\n",
    "N_horizon = 1\n",
    "\n",
    "df_train = []\n",
    "df_test = []\n",
    "for stock in tqdm_notebook(target_stocks):\n",
    "    news_stocks = []\n",
    "    df_stock = df_news.loc[df_news['Ticker'] == stock]\n",
    "    prev_date = None\n",
    "    prev_text = None\n",
    "    \n",
    "#     pbar = tqdm_notebook(total=len(df_stock))\n",
    "    for date, row in df_stock.iterrows():\n",
    "        if prev_date == None:\n",
    "            prev_date = date\n",
    "            prev_text = row['Text']\n",
    "        elif prev_date != date:\n",
    "            # horizon\n",
    "            tmp_date = copy.deepcopy(prev_date)\n",
    "            tmp_date += timedelta(days=1)\n",
    "            prices = []\n",
    "            count_lags = 0 \n",
    "            while count_lags < N_horizon:\n",
    "                price = df_price.loc[(df_price.index == tmp_date) & (df_price['Ticker'] == stock)].values\n",
    "                tmp_date += timedelta(days=1)\n",
    "                if len(price) == 0: continue\n",
    "                prices.append(price[0][4]) # Close price next day(s)\n",
    "                count_lags+=1\n",
    "            \n",
    "            # lag\n",
    "            tmp_date = copy.deepcopy(prev_date)\n",
    "            count_lags = 0 \n",
    "            while count_lags <= N_lags:\n",
    "                price = df_price.loc[(df_price.index == tmp_date) & (df_price['Ticker'] == stock)].values\n",
    "                tmp_date -= timedelta(days=1)\n",
    "                if len(price) == 0: continue\n",
    "                for val in price[0][:-1]: \n",
    "                    if type(val) != str: prices.append(val)\n",
    "                count_lags+=1\n",
    "\n",
    "            news_stocks.append([prev_date, stock, prev_text] + prices)\n",
    "            \n",
    "            prev_date = date\n",
    "            prev_text = row['Text']\n",
    "        elif prev_date == date:\n",
    "            prev_text += ' '+row['Text']\n",
    "        \n",
    "#         pbar.update(1)\n",
    "#     pbar.close()\n",
    "\n",
    "    news_stocks = pd.DataFrame.from_records(news_stocks)\n",
    "    news_stocks.columns = ['Date', 'Ticker', 'Text', \n",
    "                           'Close(t+1)', # 'Close(t+2)','Close(t+3)','Close(t+4)','Close(t+5)',\n",
    "                           'Open(t)', 'High(t)', 'Low(t)', 'Close(t)',\n",
    "                           'Open(t-1)', 'High(t-1)', 'Low(t-1)', 'Close(t-1)',\n",
    "                           'Open(t-2)', 'High(t-2)', 'Low(t-2)', 'Close(t-2)',\n",
    "                           'Open(t-3)', 'High(t-3)', 'Low(t-3)', 'Close(t-3)',\n",
    "#                            'Open(t-4)', 'High(t-4)', 'Low(t-4)', 'Close(t-4)',\n",
    "#                            'Open(t-5)', 'High(t-5)', 'Low(t-5)', 'Close(t-5)'\n",
    "                          ]\n",
    "    news_stocks = news_stocks.set_index('Date')\n",
    "    \n",
    "    train_size = int(len(news_stocks) * 0.95)\n",
    "    test_size = len(news_stocks) - train_size\n",
    "    train, test = news_stocks.iloc[:train_size], news_stocks.iloc[train_size:]\n",
    "    print(stock, ':\\t',len(train), len(test))    \n",
    "    df_train.append(train)\n",
    "    df_test.append(test)\n",
    "    \n",
    "\n",
    "df_train = pd.concat(df_train, axis=0)\n",
    "df_test = pd.concat(df_test, axis=0)"
   ]
  },
  {
   "cell_type": "code",
   "execution_count": 6,
   "metadata": {},
   "outputs": [
    {
     "data": {
      "text/plain": [
       "(17906, 953)"
      ]
     },
     "execution_count": 6,
     "metadata": {},
     "output_type": "execute_result"
    },
    {
     "data": {
      "text/html": [
       "<div>\n",
       "<style scoped>\n",
       "    .dataframe tbody tr th:only-of-type {\n",
       "        vertical-align: middle;\n",
       "    }\n",
       "\n",
       "    .dataframe tbody tr th {\n",
       "        vertical-align: top;\n",
       "    }\n",
       "\n",
       "    .dataframe thead th {\n",
       "        text-align: right;\n",
       "    }\n",
       "</style>\n",
       "<table border=\"1\" class=\"dataframe\">\n",
       "  <thead>\n",
       "    <tr style=\"text-align: right;\">\n",
       "      <th></th>\n",
       "      <th>Ticker</th>\n",
       "      <th>Text</th>\n",
       "      <th>Close(t+1)</th>\n",
       "      <th>Open(t)</th>\n",
       "      <th>High(t)</th>\n",
       "      <th>Low(t)</th>\n",
       "      <th>Close(t)</th>\n",
       "      <th>Open(t-1)</th>\n",
       "      <th>High(t-1)</th>\n",
       "      <th>Low(t-1)</th>\n",
       "      <th>Close(t-1)</th>\n",
       "      <th>Open(t-2)</th>\n",
       "      <th>High(t-2)</th>\n",
       "      <th>Low(t-2)</th>\n",
       "      <th>Close(t-2)</th>\n",
       "      <th>Open(t-3)</th>\n",
       "      <th>High(t-3)</th>\n",
       "      <th>Low(t-3)</th>\n",
       "      <th>Close(t-3)</th>\n",
       "    </tr>\n",
       "    <tr>\n",
       "      <th>Date</th>\n",
       "      <th></th>\n",
       "      <th></th>\n",
       "      <th></th>\n",
       "      <th></th>\n",
       "      <th></th>\n",
       "      <th></th>\n",
       "      <th></th>\n",
       "      <th></th>\n",
       "      <th></th>\n",
       "      <th></th>\n",
       "      <th></th>\n",
       "      <th></th>\n",
       "      <th></th>\n",
       "      <th></th>\n",
       "      <th></th>\n",
       "      <th></th>\n",
       "      <th></th>\n",
       "      <th></th>\n",
       "      <th></th>\n",
       "    </tr>\n",
       "  </thead>\n",
       "  <tbody>\n",
       "    <tr>\n",
       "      <th>2015-01-16</th>\n",
       "      <td>BANPU</td>\n",
       "      <td>ใน ช่วง ท้าย ปี และ ต้นปี เรา จะ ได้ยิน คา ว่า...</td>\n",
       "      <td>23.9</td>\n",
       "      <td>23.9</td>\n",
       "      <td>24.0</td>\n",
       "      <td>23.8</td>\n",
       "      <td>23.9</td>\n",
       "      <td>24.4</td>\n",
       "      <td>24.4</td>\n",
       "      <td>23.9</td>\n",
       "      <td>23.9</td>\n",
       "      <td>24.6</td>\n",
       "      <td>24.7</td>\n",
       "      <td>24.3</td>\n",
       "      <td>24.3</td>\n",
       "      <td>24.9</td>\n",
       "      <td>24.9</td>\n",
       "      <td>24.5</td>\n",
       "      <td>24.6</td>\n",
       "    </tr>\n",
       "    <tr>\n",
       "      <th>2015-01-19</th>\n",
       "      <td>BANPU</td>\n",
       "      <td>หลักทรัพย์ ล่าสุด เปลี่ยนแปลง เปลี่ยนแปลง ปริม...</td>\n",
       "      <td>24.0</td>\n",
       "      <td>24.0</td>\n",
       "      <td>24.0</td>\n",
       "      <td>23.7</td>\n",
       "      <td>23.9</td>\n",
       "      <td>23.9</td>\n",
       "      <td>24.0</td>\n",
       "      <td>23.8</td>\n",
       "      <td>23.9</td>\n",
       "      <td>24.4</td>\n",
       "      <td>24.4</td>\n",
       "      <td>23.9</td>\n",
       "      <td>23.9</td>\n",
       "      <td>24.6</td>\n",
       "      <td>24.7</td>\n",
       "      <td>24.3</td>\n",
       "      <td>24.3</td>\n",
       "    </tr>\n",
       "  </tbody>\n",
       "</table>\n",
       "</div>"
      ],
      "text/plain": [
       "           Ticker                                               Text  \\\n",
       "Date                                                                   \n",
       "2015-01-16  BANPU  ใน ช่วง ท้าย ปี และ ต้นปี เรา จะ ได้ยิน คา ว่า...   \n",
       "2015-01-19  BANPU  หลักทรัพย์ ล่าสุด เปลี่ยนแปลง เปลี่ยนแปลง ปริม...   \n",
       "\n",
       "            Close(t+1)  Open(t)  High(t)  Low(t)  Close(t)  Open(t-1)  \\\n",
       "Date                                                                    \n",
       "2015-01-16        23.9     23.9     24.0    23.8      23.9       24.4   \n",
       "2015-01-19        24.0     24.0     24.0    23.7      23.9       23.9   \n",
       "\n",
       "            High(t-1)  Low(t-1)  Close(t-1)  Open(t-2)  High(t-2)  Low(t-2)  \\\n",
       "Date                                                                          \n",
       "2015-01-16       24.4      23.9        23.9       24.6       24.7      24.3   \n",
       "2015-01-19       24.0      23.8        23.9       24.4       24.4      23.9   \n",
       "\n",
       "            Close(t-2)  Open(t-3)  High(t-3)  Low(t-3)  Close(t-3)  \n",
       "Date                                                                \n",
       "2015-01-16        24.3       24.9       24.9      24.5        24.6  \n",
       "2015-01-19        23.9       24.6       24.7      24.3        24.3  "
      ]
     },
     "execution_count": 6,
     "metadata": {},
     "output_type": "execute_result"
    },
    {
     "data": {
      "text/html": [
       "<div>\n",
       "<style scoped>\n",
       "    .dataframe tbody tr th:only-of-type {\n",
       "        vertical-align: middle;\n",
       "    }\n",
       "\n",
       "    .dataframe tbody tr th {\n",
       "        vertical-align: top;\n",
       "    }\n",
       "\n",
       "    .dataframe thead th {\n",
       "        text-align: right;\n",
       "    }\n",
       "</style>\n",
       "<table border=\"1\" class=\"dataframe\">\n",
       "  <thead>\n",
       "    <tr style=\"text-align: right;\">\n",
       "      <th></th>\n",
       "      <th>Ticker</th>\n",
       "      <th>Text</th>\n",
       "      <th>Close(t+1)</th>\n",
       "      <th>Open(t)</th>\n",
       "      <th>High(t)</th>\n",
       "      <th>Low(t)</th>\n",
       "      <th>Close(t)</th>\n",
       "      <th>Open(t-1)</th>\n",
       "      <th>High(t-1)</th>\n",
       "      <th>Low(t-1)</th>\n",
       "      <th>Close(t-1)</th>\n",
       "      <th>Open(t-2)</th>\n",
       "      <th>High(t-2)</th>\n",
       "      <th>Low(t-2)</th>\n",
       "      <th>Close(t-2)</th>\n",
       "      <th>Open(t-3)</th>\n",
       "      <th>High(t-3)</th>\n",
       "      <th>Low(t-3)</th>\n",
       "      <th>Close(t-3)</th>\n",
       "    </tr>\n",
       "    <tr>\n",
       "      <th>Date</th>\n",
       "      <th></th>\n",
       "      <th></th>\n",
       "      <th></th>\n",
       "      <th></th>\n",
       "      <th></th>\n",
       "      <th></th>\n",
       "      <th></th>\n",
       "      <th></th>\n",
       "      <th></th>\n",
       "      <th></th>\n",
       "      <th></th>\n",
       "      <th></th>\n",
       "      <th></th>\n",
       "      <th></th>\n",
       "      <th></th>\n",
       "      <th></th>\n",
       "      <th></th>\n",
       "      <th></th>\n",
       "      <th></th>\n",
       "    </tr>\n",
       "  </thead>\n",
       "  <tbody>\n",
       "    <tr>\n",
       "      <th>2017-12-18</th>\n",
       "      <td>BANPU</td>\n",
       "      <td>หลักทรัพย์ จำนวน รายการ ปริมาณ หุ้น มูลค่า บาท...</td>\n",
       "      <td>18.7</td>\n",
       "      <td>17.6</td>\n",
       "      <td>17.7</td>\n",
       "      <td>17.5</td>\n",
       "      <td>17.7</td>\n",
       "      <td>17.3</td>\n",
       "      <td>17.7</td>\n",
       "      <td>17.3</td>\n",
       "      <td>17.5</td>\n",
       "      <td>17.3</td>\n",
       "      <td>17.3</td>\n",
       "      <td>17.1</td>\n",
       "      <td>17.2</td>\n",
       "      <td>17.1</td>\n",
       "      <td>17.4</td>\n",
       "      <td>17.0</td>\n",
       "      <td>17.2</td>\n",
       "    </tr>\n",
       "    <tr>\n",
       "      <th>2017-12-19</th>\n",
       "      <td>BANPU</td>\n",
       "      <td>ผู้สื่อข่าว รายงาน ว่า บริษัท บ้าน ปู จำกัด มห...</td>\n",
       "      <td>18.7</td>\n",
       "      <td>17.8</td>\n",
       "      <td>18.8</td>\n",
       "      <td>17.7</td>\n",
       "      <td>18.7</td>\n",
       "      <td>17.6</td>\n",
       "      <td>17.7</td>\n",
       "      <td>17.5</td>\n",
       "      <td>17.7</td>\n",
       "      <td>17.3</td>\n",
       "      <td>17.7</td>\n",
       "      <td>17.3</td>\n",
       "      <td>17.5</td>\n",
       "      <td>17.3</td>\n",
       "      <td>17.3</td>\n",
       "      <td>17.1</td>\n",
       "      <td>17.2</td>\n",
       "    </tr>\n",
       "  </tbody>\n",
       "</table>\n",
       "</div>"
      ],
      "text/plain": [
       "           Ticker                                               Text  \\\n",
       "Date                                                                   \n",
       "2017-12-18  BANPU  หลักทรัพย์ จำนวน รายการ ปริมาณ หุ้น มูลค่า บาท...   \n",
       "2017-12-19  BANPU  ผู้สื่อข่าว รายงาน ว่า บริษัท บ้าน ปู จำกัด มห...   \n",
       "\n",
       "            Close(t+1)  Open(t)  High(t)  Low(t)  Close(t)  Open(t-1)  \\\n",
       "Date                                                                    \n",
       "2017-12-18        18.7     17.6     17.7    17.5      17.7       17.3   \n",
       "2017-12-19        18.7     17.8     18.8    17.7      18.7       17.6   \n",
       "\n",
       "            High(t-1)  Low(t-1)  Close(t-1)  Open(t-2)  High(t-2)  Low(t-2)  \\\n",
       "Date                                                                          \n",
       "2017-12-18       17.7      17.3        17.5       17.3       17.3      17.1   \n",
       "2017-12-19       17.7      17.5        17.7       17.3       17.7      17.3   \n",
       "\n",
       "            Close(t-2)  Open(t-3)  High(t-3)  Low(t-3)  Close(t-3)  \n",
       "Date                                                                \n",
       "2017-12-18        17.2       17.1       17.4      17.0        17.2  \n",
       "2017-12-19        17.5       17.3       17.3      17.1        17.2  "
      ]
     },
     "execution_count": 6,
     "metadata": {},
     "output_type": "execute_result"
    }
   ],
   "source": [
    "df_train.to_csv('data/df_train_news_all.csv')\n",
    "df_test.to_csv('data/df_test_news_all.csv')\n",
    "\n",
    "df_train = pd.read_csv('data/df_train_news_all.csv')\n",
    "df_test = pd.read_csv('data/df_test_news_all.csv')\n",
    "\n",
    "df_train = df_train.set_index('Date')\n",
    "df_test = df_test.set_index('Date')\n",
    "\n",
    "len(df_train), len(df_test) \n",
    "\n",
    "df_train.head(2)\n",
    "df_test.head(2)"
   ]
  },
  {
   "cell_type": "markdown",
   "metadata": {},
   "source": [
    "# TF-IDF Vetorization"
   ]
  },
  {
   "cell_type": "code",
   "execution_count": 7,
   "metadata": {},
   "outputs": [
    {
     "data": {
      "text/plain": [
       "(17906, 953)"
      ]
     },
     "execution_count": 7,
     "metadata": {},
     "output_type": "execute_result"
    },
    {
     "data": {
      "text/html": [
       "<div>\n",
       "<style scoped>\n",
       "    .dataframe tbody tr th:only-of-type {\n",
       "        vertical-align: middle;\n",
       "    }\n",
       "\n",
       "    .dataframe tbody tr th {\n",
       "        vertical-align: top;\n",
       "    }\n",
       "\n",
       "    .dataframe thead th {\n",
       "        text-align: right;\n",
       "    }\n",
       "</style>\n",
       "<table border=\"1\" class=\"dataframe\">\n",
       "  <thead>\n",
       "    <tr style=\"text-align: right;\">\n",
       "      <th></th>\n",
       "      <th>Ticker</th>\n",
       "      <th>Close(t+1)</th>\n",
       "      <th>Open(t)</th>\n",
       "      <th>High(t)</th>\n",
       "      <th>Low(t)</th>\n",
       "      <th>Close(t)</th>\n",
       "      <th>Open(t-1)</th>\n",
       "      <th>High(t-1)</th>\n",
       "      <th>Low(t-1)</th>\n",
       "      <th>Close(t-1)</th>\n",
       "      <th>...</th>\n",
       "      <th>990</th>\n",
       "      <th>991</th>\n",
       "      <th>992</th>\n",
       "      <th>993</th>\n",
       "      <th>994</th>\n",
       "      <th>995</th>\n",
       "      <th>996</th>\n",
       "      <th>997</th>\n",
       "      <th>998</th>\n",
       "      <th>999</th>\n",
       "    </tr>\n",
       "    <tr>\n",
       "      <th>Date</th>\n",
       "      <th></th>\n",
       "      <th></th>\n",
       "      <th></th>\n",
       "      <th></th>\n",
       "      <th></th>\n",
       "      <th></th>\n",
       "      <th></th>\n",
       "      <th></th>\n",
       "      <th></th>\n",
       "      <th></th>\n",
       "      <th></th>\n",
       "      <th></th>\n",
       "      <th></th>\n",
       "      <th></th>\n",
       "      <th></th>\n",
       "      <th></th>\n",
       "      <th></th>\n",
       "      <th></th>\n",
       "      <th></th>\n",
       "      <th></th>\n",
       "      <th></th>\n",
       "    </tr>\n",
       "  </thead>\n",
       "  <tbody>\n",
       "    <tr>\n",
       "      <th>2015-01-16</th>\n",
       "      <td>2</td>\n",
       "      <td>23.9</td>\n",
       "      <td>23.9</td>\n",
       "      <td>24.0</td>\n",
       "      <td>23.8</td>\n",
       "      <td>23.9</td>\n",
       "      <td>24.4</td>\n",
       "      <td>24.4</td>\n",
       "      <td>23.9</td>\n",
       "      <td>23.9</td>\n",
       "      <td>...</td>\n",
       "      <td>0.017004</td>\n",
       "      <td>0.0</td>\n",
       "      <td>0.0</td>\n",
       "      <td>0.021164</td>\n",
       "      <td>0.0</td>\n",
       "      <td>0.028626</td>\n",
       "      <td>0.0</td>\n",
       "      <td>0.0</td>\n",
       "      <td>0.072264</td>\n",
       "      <td>0.0</td>\n",
       "    </tr>\n",
       "    <tr>\n",
       "      <th>2015-01-19</th>\n",
       "      <td>2</td>\n",
       "      <td>24.0</td>\n",
       "      <td>24.0</td>\n",
       "      <td>24.0</td>\n",
       "      <td>23.7</td>\n",
       "      <td>23.9</td>\n",
       "      <td>23.9</td>\n",
       "      <td>24.0</td>\n",
       "      <td>23.8</td>\n",
       "      <td>23.9</td>\n",
       "      <td>...</td>\n",
       "      <td>0.000000</td>\n",
       "      <td>0.0</td>\n",
       "      <td>0.0</td>\n",
       "      <td>0.000000</td>\n",
       "      <td>0.0</td>\n",
       "      <td>0.000000</td>\n",
       "      <td>0.0</td>\n",
       "      <td>0.0</td>\n",
       "      <td>0.000000</td>\n",
       "      <td>0.0</td>\n",
       "    </tr>\n",
       "  </tbody>\n",
       "</table>\n",
       "<p>2 rows × 1018 columns</p>\n",
       "</div>"
      ],
      "text/plain": [
       "            Ticker  Close(t+1)  Open(t)  High(t)  Low(t)  Close(t)  Open(t-1)  \\\n",
       "Date                                                                            \n",
       "2015-01-16       2        23.9     23.9     24.0    23.8      23.9       24.4   \n",
       "2015-01-19       2        24.0     24.0     24.0    23.7      23.9       23.9   \n",
       "\n",
       "            High(t-1)  Low(t-1)  Close(t-1) ...        990  991  992  \\\n",
       "Date                                        ...                        \n",
       "2015-01-16       24.4      23.9        23.9 ...   0.017004  0.0  0.0   \n",
       "2015-01-19       24.0      23.8        23.9 ...   0.000000  0.0  0.0   \n",
       "\n",
       "                 993  994       995  996  997       998  999  \n",
       "Date                                                          \n",
       "2015-01-16  0.021164  0.0  0.028626  0.0  0.0  0.072264  0.0  \n",
       "2015-01-19  0.000000  0.0  0.000000  0.0  0.0  0.000000  0.0  \n",
       "\n",
       "[2 rows x 1018 columns]"
      ]
     },
     "execution_count": 7,
     "metadata": {},
     "output_type": "execute_result"
    },
    {
     "data": {
      "text/html": [
       "<div>\n",
       "<style scoped>\n",
       "    .dataframe tbody tr th:only-of-type {\n",
       "        vertical-align: middle;\n",
       "    }\n",
       "\n",
       "    .dataframe tbody tr th {\n",
       "        vertical-align: top;\n",
       "    }\n",
       "\n",
       "    .dataframe thead th {\n",
       "        text-align: right;\n",
       "    }\n",
       "</style>\n",
       "<table border=\"1\" class=\"dataframe\">\n",
       "  <thead>\n",
       "    <tr style=\"text-align: right;\">\n",
       "      <th></th>\n",
       "      <th>Ticker</th>\n",
       "      <th>Close(t+1)</th>\n",
       "      <th>Open(t)</th>\n",
       "      <th>High(t)</th>\n",
       "      <th>Low(t)</th>\n",
       "      <th>Close(t)</th>\n",
       "      <th>Open(t-1)</th>\n",
       "      <th>High(t-1)</th>\n",
       "      <th>Low(t-1)</th>\n",
       "      <th>Close(t-1)</th>\n",
       "      <th>...</th>\n",
       "      <th>990</th>\n",
       "      <th>991</th>\n",
       "      <th>992</th>\n",
       "      <th>993</th>\n",
       "      <th>994</th>\n",
       "      <th>995</th>\n",
       "      <th>996</th>\n",
       "      <th>997</th>\n",
       "      <th>998</th>\n",
       "      <th>999</th>\n",
       "    </tr>\n",
       "    <tr>\n",
       "      <th>Date</th>\n",
       "      <th></th>\n",
       "      <th></th>\n",
       "      <th></th>\n",
       "      <th></th>\n",
       "      <th></th>\n",
       "      <th></th>\n",
       "      <th></th>\n",
       "      <th></th>\n",
       "      <th></th>\n",
       "      <th></th>\n",
       "      <th></th>\n",
       "      <th></th>\n",
       "      <th></th>\n",
       "      <th></th>\n",
       "      <th></th>\n",
       "      <th></th>\n",
       "      <th></th>\n",
       "      <th></th>\n",
       "      <th></th>\n",
       "      <th></th>\n",
       "      <th></th>\n",
       "    </tr>\n",
       "  </thead>\n",
       "  <tbody>\n",
       "    <tr>\n",
       "      <th>2017-12-18</th>\n",
       "      <td>2</td>\n",
       "      <td>18.7</td>\n",
       "      <td>17.6</td>\n",
       "      <td>17.7</td>\n",
       "      <td>17.5</td>\n",
       "      <td>17.7</td>\n",
       "      <td>17.3</td>\n",
       "      <td>17.7</td>\n",
       "      <td>17.3</td>\n",
       "      <td>17.5</td>\n",
       "      <td>...</td>\n",
       "      <td>0.035358</td>\n",
       "      <td>0.0</td>\n",
       "      <td>0.0</td>\n",
       "      <td>0.220045</td>\n",
       "      <td>0.035818</td>\n",
       "      <td>0.00000</td>\n",
       "      <td>0.04259</td>\n",
       "      <td>0.0</td>\n",
       "      <td>0.000000</td>\n",
       "      <td>0.0</td>\n",
       "    </tr>\n",
       "    <tr>\n",
       "      <th>2017-12-19</th>\n",
       "      <td>2</td>\n",
       "      <td>18.7</td>\n",
       "      <td>17.8</td>\n",
       "      <td>18.8</td>\n",
       "      <td>17.7</td>\n",
       "      <td>18.7</td>\n",
       "      <td>17.6</td>\n",
       "      <td>17.7</td>\n",
       "      <td>17.5</td>\n",
       "      <td>17.7</td>\n",
       "      <td>...</td>\n",
       "      <td>0.047471</td>\n",
       "      <td>0.0</td>\n",
       "      <td>0.0</td>\n",
       "      <td>0.059086</td>\n",
       "      <td>0.000000</td>\n",
       "      <td>0.02664</td>\n",
       "      <td>0.00000</td>\n",
       "      <td>0.0</td>\n",
       "      <td>0.033625</td>\n",
       "      <td>0.0</td>\n",
       "    </tr>\n",
       "  </tbody>\n",
       "</table>\n",
       "<p>2 rows × 1018 columns</p>\n",
       "</div>"
      ],
      "text/plain": [
       "            Ticker  Close(t+1)  Open(t)  High(t)  Low(t)  Close(t)  Open(t-1)  \\\n",
       "Date                                                                            \n",
       "2017-12-18       2        18.7     17.6     17.7    17.5      17.7       17.3   \n",
       "2017-12-19       2        18.7     17.8     18.8    17.7      18.7       17.6   \n",
       "\n",
       "            High(t-1)  Low(t-1)  Close(t-1) ...        990  991  992  \\\n",
       "Date                                        ...                        \n",
       "2017-12-18       17.7      17.3        17.5 ...   0.035358  0.0  0.0   \n",
       "2017-12-19       17.7      17.5        17.7 ...   0.047471  0.0  0.0   \n",
       "\n",
       "                 993       994      995      996  997       998  999  \n",
       "Date                                                                  \n",
       "2017-12-18  0.220045  0.035818  0.00000  0.04259  0.0  0.000000  0.0  \n",
       "2017-12-19  0.059086  0.000000  0.02664  0.00000  0.0  0.033625  0.0  \n",
       "\n",
       "[2 rows x 1018 columns]"
      ]
     },
     "execution_count": 7,
     "metadata": {},
     "output_type": "execute_result"
    },
    {
     "data": {
      "text/plain": [
       "array(['ADVANC', 'AOT', 'BANPU', 'BBL', 'BDMS', 'BH', 'CK', 'CPALL',\n",
       "       'CPF', 'CPN', 'HMPRO', 'IRPC', 'JAS', 'KBANK', 'MINT', 'PTT',\n",
       "       'SCB', 'SCC', 'THAI', 'TRUE', 'TU'], dtype=object)"
      ]
     },
     "execution_count": 7,
     "metadata": {},
     "output_type": "execute_result"
    }
   ],
   "source": [
    "stop_words = stopwords.words('thai')\n",
    "stop_words.remove('ขึ้น')\n",
    "stop_words.remove('ลง')\n",
    "\n",
    "vertorizer = TfidfVectorizer(stop_words=stop_words, \n",
    "                             max_df=0.9, \n",
    "                             min_df=2, \n",
    "                             max_features=1000)\n",
    "\n",
    "tfidf_train = vertorizer.fit_transform(df_train['Text'])\n",
    "tfidf_test = vertorizer.transform(df_test['Text'])\n",
    "\n",
    "df_tfidf_train = pd.DataFrame.from_records(tfidf_train.toarray())\n",
    "df_tfidf_test = pd.DataFrame.from_records(tfidf_test.toarray())\n",
    "\n",
    "df_tfidf_train = df_tfidf_train.set_index(df_train.index)\n",
    "df_tfidf_test = df_tfidf_test.set_index(df_test.index)\n",
    "\n",
    "len(df_tfidf_train), len(df_tfidf_test)\n",
    "\n",
    "# replace Text with TF-IDF vector\n",
    "x_train = df_train.drop(['Text'], axis=1)\n",
    "x_train = pd.concat([x_train, df_tfidf_train], axis=1)\n",
    "\n",
    "x_test = df_test.drop(['Text'], axis=1)\n",
    "x_test = pd.concat([x_test, df_tfidf_test], axis=1)\n",
    "\n",
    "# Label Encoding\n",
    "le = preprocessing.LabelEncoder()\n",
    "x_train['Ticker'] = le.fit_transform(x_train['Ticker'])\n",
    "x_test['Ticker'] = le.transform(x_test['Ticker'])\n",
    "x_train.head(2)\n",
    "x_test.head(2)\n",
    "le.classes_"
   ]
  },
  {
   "cell_type": "markdown",
   "metadata": {},
   "source": [
    "# Create x_train and y_train"
   ]
  },
  {
   "cell_type": "code",
   "execution_count": 8,
   "metadata": {},
   "outputs": [
    {
     "data": {
      "text/plain": [
       "((17906, 1017), (17906, 1))"
      ]
     },
     "execution_count": 8,
     "metadata": {},
     "output_type": "execute_result"
    }
   ],
   "source": [
    "Horizon = 'Close(t+1)'\n",
    "y_train = x_train[[Horizon]]\n",
    "x_train = x_train.drop(['Close(t+1)'], axis=1).copy()\n",
    "x_train.shape, y_train.shape"
   ]
  },
  {
   "cell_type": "markdown",
   "metadata": {},
   "source": [
    "# Evaluate Each Stcok"
   ]
  },
  {
   "cell_type": "code",
   "execution_count": 9,
   "metadata": {},
   "outputs": [],
   "source": [
    "def mean_absolute_percentage_error(y_true, y_pred): \n",
    "    return np.mean(np.abs((y_true - y_pred) / y_true)) * 100\n",
    "\n",
    "def evaluator(clf, df_test, le, isXGB=False, isLSTM=False):\n",
    "    RMSEs, MAEs, MAPEs, DAs = [], [], [], []\n",
    "    results = []\n",
    "    for stock in target_stocks:\n",
    "        x_tmp = df_test.loc[df_test['Ticker'] == le.transform([stock])[0]].copy()\n",
    "        \n",
    "        y_tmp = x_tmp[Horizon].values\n",
    "        \n",
    "        # Directional Accuracy\n",
    "        changes = x_tmp[Horizon] -  x_tmp['Close(t)']\n",
    "        y_true_da = []\n",
    "        for change in changes:\n",
    "            y_true_da.append(1 if change >= 0 else 0)\n",
    "                \n",
    "        x_tmp = x_tmp.drop(['Close(t+1)'], axis=1)\n",
    "        \n",
    "        if isXGB:\n",
    "            y_pred = clf.predict(xgboost.DMatrix(x_tmp))\n",
    "        elif isLSTM:\n",
    "            x = x_tmp.values\n",
    "            x = x.reshape((x.shape[0], x.shape[1], 1))\n",
    "            y_pred = clf.predict(x)\n",
    "        else:\n",
    "            y_pred = clf.predict(x_tmp.as_matrix())\n",
    "        \n",
    "        # Directional Accuracy Pred\n",
    "        changes = np.reshape(y_pred, (-1,1)) -  np.reshape(x_tmp['Close(t)'].values,(-1,1))\n",
    "        y_pred_da = []\n",
    "        for change in changes:\n",
    "            y_pred_da.append(1 if change >= 0 else 0)\n",
    "        \n",
    "        RMSE = np.sqrt(mean_squared_error(y_tmp, y_pred))\n",
    "        MAE = mean_absolute_error(y_tmp, y_pred)\n",
    "        MAPE = mean_absolute_percentage_error(y_tmp, y_pred)\n",
    "        DA = accuracy_score(y_true_da, y_pred_da)\n",
    "        print(stock, \"\\tRMSE: %.2f\\t MAE: %.2f \\tMAPE: %.2f \\tDA: %.2f\" % (RMSE, MAE, MAPE, DA))\n",
    "        RMSEs.append(RMSE)\n",
    "        MAEs.append(MAE)\n",
    "        MAPEs.append(MAPE)\n",
    "        DAs.append(DA)\n",
    "    \n",
    "    print('\\nmean RMSE:', round(np.mean(RMSEs),2))\n",
    "    print('mean MAE:', round(np.mean(MAEs),2))\n",
    "    print('mean MAPE:', round(np.mean(MAPEs),2))\n",
    "    print('mean DA:', round(np.mean(DAs),4))"
   ]
  },
  {
   "cell_type": "code",
   "execution_count": 10,
   "metadata": {},
   "outputs": [],
   "source": [
    "def ensemble_evaluator(bagging, ada_dt, ada_rf,  xgb, stack, stack_da, df_test, le, feature_importances, feature_importances_da):\n",
    "    RMSEs, MAEs, MAPEs, DAs = [], [], [], []\n",
    "    results = []\n",
    "    for stock in target_stocks:\n",
    "        x_tmp = df_test.loc[df_test['Ticker'] == le.transform([stock])[0]].copy()\n",
    "        \n",
    "        # Directional Accuracy\n",
    "        changes = x_tmp[Horizon] - x_tmp['Close(t)']\n",
    "        y_true_da = []\n",
    "        for change in changes:\n",
    "            y_true_da.append(1 if change >= 0 else 0)\n",
    "        \n",
    "        y_tmp = x_tmp[Horizon].values.reshape(-1,1)\n",
    "        x_tmp = x_tmp.drop([Horizon], axis=1)        \n",
    "        \n",
    "        # Prediction\n",
    "        y_pred = np.concatenate((\n",
    "                                 bagging.predict(x_tmp).reshape(-1,1),\n",
    "                                 ada_dt.predict(x_tmp).reshape(-1,1),\n",
    "                                 ada_rf.predict(x_tmp).reshape(-1,1),\n",
    "                                 xgb.predict(xgboost.DMatrix(x_tmp)).reshape(-1,1)), \n",
    "                                axis=1)\n",
    "        \n",
    "        df_pred = pd.DataFrame.from_records(y_pred).round(2)\n",
    "        df_pred.columns = ['Bagging_DT', 'Ada_DT', 'Ada_RF', 'XGB']\n",
    "        df_pred.head()\n",
    "\n",
    "        # Directional Accuracy Pred\n",
    "        close_t = np.reshape(x_tmp['Close(t)'].values, (-1, 1))\n",
    "        y_changes = np.concatenate((\n",
    "                                    np.array(y_pred[:,0]).reshape(-1,1)-close_t,\n",
    "                                    np.array(y_pred[:,1]).reshape(-1,1)-close_t,\n",
    "                                    np.array(y_pred[:,2]).reshape(-1,1)-close_t,\n",
    "                                    np.array(y_pred[:,3]).reshape(-1,1)-close_t,\n",
    "                                   ), axis=1)\n",
    "        y_pred_da = []\n",
    "        for row in y_changes:\n",
    "            tmp_row = []\n",
    "            for change in row:\n",
    "                tmp_row.append(1 if change>=0 else 0)\n",
    "            y_pred_da.append(tmp_row)\n",
    "\n",
    "        df_pred_da = pd.DataFrame.from_records(y_pred_da)\n",
    "        df_pred_da.columns = ['Bagging_DT', 'Ada_DT', 'Ada_RF', 'XGB']\n",
    "        df_pred_da.head()\n",
    "        \n",
    "        \n",
    "        \n",
    "        df_pred['weight'] = (\n",
    "                     df_pred['Bagging_DT']*feature_importances[0] + \n",
    "                     df_pred['Ada_DT']*feature_importances[1] + \n",
    "                     df_pred['Ada_RF']*feature_importances[2] + \n",
    "                     df_pred['XGB']*feature_importances[3]\n",
    "        )\n",
    "        \n",
    "        df_pred_da['vote'] = (\n",
    "                     df_pred_da['Bagging_DT']*feature_importances_da[0] + \n",
    "                     df_pred_da['Ada_DT']*feature_importances_da[1] + \n",
    "                     df_pred_da['Ada_RF']*feature_importances_da[2] + \n",
    "                     df_pred_da['XGB']*feature_importances_da[3]\n",
    "        ).round(0).astype(int)\n",
    "\n",
    "        y_pred = stack.predict(y_pred).reshape(-1,1)\n",
    "        y_pred_da = stack_da.predict(y_pred_da).reshape(-1,1).round(0).astype(int)\n",
    "#         y_pred = df_pred['weight'].values.reshape(-1,1)\n",
    "#         y_pred_da = df_pred_da['vote'].values.reshape(-1,1)\n",
    "        \n",
    "        RMSE = np.sqrt(mean_squared_error(y_tmp, y_pred))\n",
    "        MAE = mean_absolute_error(y_tmp, y_pred)\n",
    "        MAPE = mean_absolute_percentage_error(y_tmp, y_pred)\n",
    "        DA = accuracy_score(y_true_da, y_pred_da)\n",
    "        print(stock, \"\\tRMSE: %.2f\\t MAE: %.2f \\tMAPE: %.2f \\tDA: %.2f\" % (RMSE, MAE, MAPE, DA))\n",
    "        RMSEs.append(RMSE)\n",
    "        MAEs.append(MAE)\n",
    "        MAPEs.append(MAPE)\n",
    "        DAs.append(DA)\n",
    "    \n",
    "    print('\\nmean RMSE:', round(np.mean(RMSEs),2))\n",
    "    print('mean MAE:', round(np.mean(MAEs),2))\n",
    "    print('mean MAPE:', round(np.mean(MAPEs),2))\n",
    "    print('mean DA:', round(np.mean(DAs),4))"
   ]
  },
  {
   "cell_type": "markdown",
   "metadata": {},
   "source": [
    "# Ensemble"
   ]
  },
  {
   "cell_type": "code",
   "execution_count": 112,
   "metadata": {},
   "outputs": [
    {
     "name": "stdout",
     "output_type": "stream",
     "text": [
      "BANPU \tRMSE: 0.59\t MAE: 0.43 \tMAPE: 2.03 \tDA: 0.43\n",
      "IRPC \tRMSE: 0.14\t MAE: 0.12 \tMAPE: 1.60 \tDA: 0.50\n",
      "PTT \tRMSE: 7.40\t MAE: 5.61 \tMAPE: 1.18 \tDA: 0.53\n",
      "BBL \tRMSE: 2.59\t MAE: 2.06 \tMAPE: 0.98 \tDA: 0.47\n",
      "KBANK \tRMSE: 3.30\t MAE: 2.62 \tMAPE: 1.13 \tDA: 0.49\n",
      "SCB \tRMSE: 2.15\t MAE: 1.69 \tMAPE: 1.09 \tDA: 0.53\n",
      "AOT \tRMSE: 1.40\t MAE: 1.02 \tMAPE: 1.45 \tDA: 0.49\n",
      "THAI \tRMSE: 0.28\t MAE: 0.22 \tMAPE: 1.33 \tDA: 0.51\n",
      "CPF \tRMSE: 0.30\t MAE: 0.24 \tMAPE: 0.99 \tDA: 0.43\n",
      "MINT \tRMSE: 0.61\t MAE: 0.45 \tMAPE: 1.04 \tDA: 0.67\n",
      "TU \tRMSE: 0.36\t MAE: 0.25 \tMAPE: 1.24 \tDA: 0.53\n",
      "SCC \tRMSE: 4.54\t MAE: 3.99 \tMAPE: 0.81 \tDA: 0.59\n",
      "CPN \tRMSE: 1.49\t MAE: 1.21 \tMAPE: 1.43 \tDA: 0.52\n",
      "CK \tRMSE: 0.40\t MAE: 0.30 \tMAPE: 1.10 \tDA: 0.64\n",
      "CPALL \tRMSE: 1.27\t MAE: 0.99 \tMAPE: 1.27 \tDA: 0.43\n",
      "HMPRO \tRMSE: 0.35\t MAE: 0.28 \tMAPE: 2.01 \tDA: 0.52\n",
      "BDMS \tRMSE: 0.29\t MAE: 0.21 \tMAPE: 0.96 \tDA: 0.52\n",
      "BH \tRMSE: 3.31\t MAE: 2.47 \tMAPE: 1.27 \tDA: 0.51\n",
      "ADVANC \tRMSE: 1.91\t MAE: 1.48 \tMAPE: 0.77 \tDA: 0.55\n",
      "JAS \tRMSE: 0.20\t MAE: 0.15 \tMAPE: 2.05 \tDA: 0.40\n",
      "TRUE \tRMSE: 0.14\t MAE: 0.11 \tMAPE: 1.68 \tDA: 0.54\n",
      "\n",
      "mean RMSE: 1.57\n",
      "mean MAE: 1.23\n",
      "mean MAPE: 1.3\n",
      "mean DA: 0.5161\n"
     ]
    }
   ],
   "source": [
    "ensemble_evaluator( \n",
    "                   bagging,\n",
    "                   adaboost_dt_regr, \n",
    "                   adaboost_rf_regr, \n",
    "                   xgb,\n",
    "                   stack, stack_da,\n",
    "                   x_test, le, feature_importances, feature_importances_da)"
   ]
  },
  {
   "cell_type": "markdown",
   "metadata": {},
   "source": [
    "# Linear Regression"
   ]
  },
  {
   "cell_type": "code",
   "execution_count": 11,
   "metadata": {},
   "outputs": [
    {
     "data": {
      "text/plain": [
       "LinearRegression(copy_X=True, fit_intercept=True, n_jobs=1, normalize=False)"
      ]
     },
     "execution_count": 11,
     "metadata": {},
     "output_type": "execute_result"
    },
    {
     "name": "stdout",
     "output_type": "stream",
     "text": [
      "BANPU \tRMSE: 1.00\t MAE: 0.74 \tMAPE: 8.20 \tDA: 0.59\n",
      "IRPC \tRMSE: 0.91\t MAE: 0.73 \tMAPE: 10.84 \tDA: 0.52\n",
      "PTT \tRMSE: 6.44\t MAE: 4.66 \tMAPE: 4.94 \tDA: 0.66\n",
      "BBL \tRMSE: 1.76\t MAE: 1.47 \tMAPE: 1.88 \tDA: 0.57\n",
      "KBANK \tRMSE: 3.48\t MAE: 2.70 \tMAPE: 2.46 \tDA: 0.43\n",
      "SCB \tRMSE: 2.08\t MAE: 1.64 \tMAPE: 3.00 \tDA: 0.57\n",
      "AOT \tRMSE: 1.51\t MAE: 1.16 \tMAPE: 4.24 \tDA: 0.55\n",
      "THAI \tRMSE: 0.73\t MAE: 0.50 \tMAPE: 4.97 \tDA: 0.56\n",
      "CPF \tRMSE: 0.88\t MAE: 0.63 \tMAPE: 3.50 \tDA: 0.54\n",
      "MINT \tRMSE: 1.09\t MAE: 0.78 \tMAPE: 2.47 \tDA: 0.61\n",
      "TU \tRMSE: 1.02\t MAE: 0.78 \tMAPE: 4.55 \tDA: 0.53\n",
      "SCC \tRMSE: 4.42\t MAE: 3.53 \tMAPE: 1.61 \tDA: 0.63\n",
      "CPN \tRMSE: 1.45\t MAE: 1.15 \tMAPE: 2.25 \tDA: 0.50\n",
      "CK \tRMSE: 1.03\t MAE: 0.72 \tMAPE: 3.73 \tDA: 0.64\n",
      "CPALL \tRMSE: 1.23\t MAE: 0.95 \tMAPE: 2.38 \tDA: 0.65\n",
      "HMPRO \tRMSE: 1.05\t MAE: 0.75 \tMAPE: 7.29 \tDA: 0.72\n",
      "BDMS \tRMSE: 0.95\t MAE: 0.65 \tMAPE: 3.69 \tDA: 0.55\n",
      "BH \tRMSE: 2.94\t MAE: 2.27 \tMAPE: 1.88 \tDA: 0.58\n",
      "ADVANC \tRMSE: 2.20\t MAE: 1.73 \tMAPE: 2.12 \tDA: 0.47\n",
      "JAS \tRMSE: 0.95\t MAE: 0.66 \tMAPE: 11.27 \tDA: 0.60\n",
      "TRUE \tRMSE: 1.01\t MAE: 0.75 \tMAPE: 12.67 \tDA: 0.63\n",
      "\n",
      "mean RMSE: 1.82\n",
      "mean MAE: 1.38\n",
      "mean MAPE: 4.76\n",
      "mean DA: 0.5759\n"
     ]
    }
   ],
   "source": [
    "from sklearn import linear_model\n",
    "\n",
    "lineregr = linear_model.LinearRegression()\n",
    "lineregr.fit(x_train, y_train)\n",
    "\n",
    "evaluator(lineregr, x_test, le)\n"
   ]
  },
  {
   "cell_type": "markdown",
   "metadata": {},
   "source": [
    "# Support Vector Regressor"
   ]
  },
  {
   "cell_type": "code",
   "execution_count": null,
   "metadata": {},
   "outputs": [],
   "source": [
    "# from sklearn.svm import SVR\n",
    "# svr = SVR()\n",
    "# svr.fit(x_train, y_train)\n",
    "\n",
    "# evaluator(svr, x_test, le)"
   ]
  },
  {
   "cell_type": "markdown",
   "metadata": {},
   "source": [
    "# Decistion Tree Regressor"
   ]
  },
  {
   "cell_type": "code",
   "execution_count": 12,
   "metadata": {},
   "outputs": [
    {
     "data": {
      "text/plain": [
       "DecisionTreeRegressor(criterion='mse', max_depth=10, max_features=None,\n",
       "           max_leaf_nodes=None, min_impurity_decrease=0.0,\n",
       "           min_impurity_split=None, min_samples_leaf=1,\n",
       "           min_samples_split=2, min_weight_fraction_leaf=0.0,\n",
       "           presort=False, random_state=None, splitter='best')"
      ]
     },
     "execution_count": 12,
     "metadata": {},
     "output_type": "execute_result"
    },
    {
     "name": "stdout",
     "output_type": "stream",
     "text": [
      "BANPU \tRMSE: 0.72\t MAE: 0.52 \tMAPE: 2.47 \tDA: 0.37\n",
      "IRPC \tRMSE: 0.15\t MAE: 0.12 \tMAPE: 1.70 \tDA: 0.48\n",
      "PTT \tRMSE: 10.92\t MAE: 8.81 \tMAPE: 1.87 \tDA: 0.47\n",
      "BBL \tRMSE: 3.82\t MAE: 3.01 \tMAPE: 1.44 \tDA: 0.45\n",
      "KBANK \tRMSE: 4.86\t MAE: 3.86 \tMAPE: 1.66 \tDA: 0.49\n",
      "SCB \tRMSE: 2.64\t MAE: 1.88 \tMAPE: 1.22 \tDA: 0.55\n",
      "AOT \tRMSE: 1.66\t MAE: 1.22 \tMAPE: 1.76 \tDA: 0.47\n",
      "THAI \tRMSE: 0.28\t MAE: 0.23 \tMAPE: 1.40 \tDA: 0.49\n",
      "CPF \tRMSE: 0.29\t MAE: 0.21 \tMAPE: 0.87 \tDA: 0.54\n",
      "MINT \tRMSE: 0.80\t MAE: 0.60 \tMAPE: 1.38 \tDA: 0.61\n",
      "TU \tRMSE: 0.34\t MAE: 0.24 \tMAPE: 1.19 \tDA: 0.69\n",
      "SCC \tRMSE: 5.68\t MAE: 4.47 \tMAPE: 0.91 \tDA: 0.52\n",
      "CPN \tRMSE: 1.46\t MAE: 1.23 \tMAPE: 1.47 \tDA: 0.48\n",
      "CK \tRMSE: 0.45\t MAE: 0.31 \tMAPE: 1.16 \tDA: 0.67\n",
      "CPALL \tRMSE: 2.62\t MAE: 2.10 \tMAPE: 2.68 \tDA: 0.41\n",
      "HMPRO \tRMSE: 0.37\t MAE: 0.28 \tMAPE: 2.05 \tDA: 0.41\n",
      "BDMS \tRMSE: 0.26\t MAE: 0.20 \tMAPE: 0.93 \tDA: 0.43\n",
      "BH \tRMSE: 4.37\t MAE: 3.08 \tMAPE: 1.57 \tDA: 0.40\n",
      "ADVANC \tRMSE: 3.79\t MAE: 2.42 \tMAPE: 1.26 \tDA: 0.49\n",
      "JAS \tRMSE: 0.21\t MAE: 0.14 \tMAPE: 1.87 \tDA: 0.50\n",
      "TRUE \tRMSE: 0.12\t MAE: 0.09 \tMAPE: 1.38 \tDA: 0.70\n",
      "\n",
      "mean RMSE: 2.18\n",
      "mean MAE: 1.67\n",
      "mean MAPE: 1.54\n",
      "mean DA: 0.5056\n"
     ]
    }
   ],
   "source": [
    "from sklearn import tree\n",
    "\n",
    "decis_tree_regr = tree.DecisionTreeRegressor(max_depth=10)\n",
    "decis_tree_regr.fit(x_train, y_train.values.ravel())\n",
    "evaluator(decis_tree_regr, x_test, le)"
   ]
  },
  {
   "cell_type": "markdown",
   "metadata": {},
   "source": [
    "# Random Forest Regrssor"
   ]
  },
  {
   "cell_type": "code",
   "execution_count": 13,
   "metadata": {},
   "outputs": [
    {
     "data": {
      "text/plain": [
       "RandomForestRegressor(bootstrap=True, criterion='mse', max_depth=None,\n",
       "           max_features='auto', max_leaf_nodes=None,\n",
       "           min_impurity_decrease=0.0, min_impurity_split=None,\n",
       "           min_samples_leaf=1, min_samples_split=2,\n",
       "           min_weight_fraction_leaf=0.0, n_estimators=10, n_jobs=-1,\n",
       "           oob_score=False, random_state=None, verbose=0, warm_start=False)"
      ]
     },
     "execution_count": 13,
     "metadata": {},
     "output_type": "execute_result"
    },
    {
     "name": "stdout",
     "output_type": "stream",
     "text": [
      "BANPU \tRMSE: 0.52\t MAE: 0.37 \tMAPE: 1.75 \tDA: 0.59\n",
      "IRPC \tRMSE: 0.14\t MAE: 0.12 \tMAPE: 1.61 \tDA: 0.43\n",
      "PTT \tRMSE: 6.96\t MAE: 5.57 \tMAPE: 1.18 \tDA: 0.57\n",
      "BBL \tRMSE: 2.19\t MAE: 1.62 \tMAPE: 0.78 \tDA: 0.57\n",
      "KBANK \tRMSE: 3.61\t MAE: 2.80 \tMAPE: 1.21 \tDA: 0.51\n",
      "SCB \tRMSE: 2.13\t MAE: 1.66 \tMAPE: 1.08 \tDA: 0.53\n",
      "AOT \tRMSE: 1.41\t MAE: 1.07 \tMAPE: 1.53 \tDA: 0.51\n",
      "THAI \tRMSE: 0.29\t MAE: 0.24 \tMAPE: 1.40 \tDA: 0.40\n",
      "CPF \tRMSE: 0.28\t MAE: 0.21 \tMAPE: 0.88 \tDA: 0.63\n",
      "MINT \tRMSE: 0.58\t MAE: 0.45 \tMAPE: 1.04 \tDA: 0.72\n",
      "TU \tRMSE: 0.32\t MAE: 0.25 \tMAPE: 1.22 \tDA: 0.61\n",
      "SCC \tRMSE: 4.88\t MAE: 3.77 \tMAPE: 0.77 \tDA: 0.48\n",
      "CPN \tRMSE: 1.29\t MAE: 1.05 \tMAPE: 1.24 \tDA: 0.54\n",
      "CK \tRMSE: 0.42\t MAE: 0.30 \tMAPE: 1.09 \tDA: 0.53\n",
      "CPALL \tRMSE: 1.10\t MAE: 0.86 \tMAPE: 1.11 \tDA: 0.46\n",
      "HMPRO \tRMSE: 0.31\t MAE: 0.24 \tMAPE: 1.75 \tDA: 0.50\n",
      "BDMS \tRMSE: 0.26\t MAE: 0.20 \tMAPE: 0.92 \tDA: 0.57\n",
      "BH \tRMSE: 3.72\t MAE: 2.91 \tMAPE: 1.49 \tDA: 0.40\n",
      "ADVANC \tRMSE: 2.95\t MAE: 2.18 \tMAPE: 1.13 \tDA: 0.55\n",
      "JAS \tRMSE: 0.18\t MAE: 0.13 \tMAPE: 1.74 \tDA: 0.50\n",
      "TRUE \tRMSE: 0.13\t MAE: 0.11 \tMAPE: 1.65 \tDA: 0.43\n",
      "\n",
      "mean RMSE: 1.6\n",
      "mean MAE: 1.24\n",
      "mean MAPE: 1.26\n",
      "mean DA: 0.5262\n"
     ]
    }
   ],
   "source": [
    "from sklearn import ensemble\n",
    "\n",
    "rnd_forest_regr = ensemble.RandomForestRegressor(n_jobs=-1)\n",
    "rnd_forest_regr.fit(x_train, y_train.values.ravel())\n",
    "\n",
    "evaluator(rnd_forest_regr, x_test, le)"
   ]
  },
  {
   "cell_type": "markdown",
   "metadata": {},
   "source": [
    "# Bagging Regressor"
   ]
  },
  {
   "cell_type": "code",
   "execution_count": 14,
   "metadata": {},
   "outputs": [
    {
     "data": {
      "text/plain": [
       "BaggingRegressor(base_estimator=None, bootstrap=True,\n",
       "         bootstrap_features=False, max_features=1.0, max_samples=1.0,\n",
       "         n_estimators=30, n_jobs=-1, oob_score=False, random_state=None,\n",
       "         verbose=0, warm_start=False)"
      ]
     },
     "execution_count": 14,
     "metadata": {},
     "output_type": "execute_result"
    },
    {
     "name": "stdout",
     "output_type": "stream",
     "text": [
      "BANPU \tRMSE: 0.57\t MAE: 0.41 \tMAPE: 1.94 \tDA: 0.46\n",
      "IRPC \tRMSE: 0.14\t MAE: 0.11 \tMAPE: 1.57 \tDA: 0.46\n",
      "PTT \tRMSE: 7.08\t MAE: 5.39 \tMAPE: 1.14 \tDA: 0.60\n",
      "BBL \tRMSE: 1.98\t MAE: 1.58 \tMAPE: 0.76 \tDA: 0.53\n",
      "KBANK \tRMSE: 3.22\t MAE: 2.64 \tMAPE: 1.14 \tDA: 0.60\n",
      "SCB \tRMSE: 2.01\t MAE: 1.56 \tMAPE: 1.01 \tDA: 0.64\n",
      "AOT \tRMSE: 1.42\t MAE: 1.02 \tMAPE: 1.46 \tDA: 0.43\n",
      "THAI \tRMSE: 0.27\t MAE: 0.22 \tMAPE: 1.30 \tDA: 0.47\n",
      "CPF \tRMSE: 0.26\t MAE: 0.20 \tMAPE: 0.81 \tDA: 0.52\n",
      "MINT \tRMSE: 0.70\t MAE: 0.55 \tMAPE: 1.26 \tDA: 0.61\n",
      "TU \tRMSE: 0.33\t MAE: 0.23 \tMAPE: 1.14 \tDA: 0.64\n",
      "SCC \tRMSE: 4.52\t MAE: 3.63 \tMAPE: 0.74 \tDA: 0.54\n",
      "CPN \tRMSE: 1.48\t MAE: 1.18 \tMAPE: 1.39 \tDA: 0.54\n",
      "CK \tRMSE: 0.41\t MAE: 0.29 \tMAPE: 1.09 \tDA: 0.53\n",
      "CPALL \tRMSE: 1.22\t MAE: 0.95 \tMAPE: 1.23 \tDA: 0.43\n",
      "HMPRO \tRMSE: 0.29\t MAE: 0.24 \tMAPE: 1.71 \tDA: 0.48\n",
      "BDMS \tRMSE: 0.27\t MAE: 0.20 \tMAPE: 0.93 \tDA: 0.36\n",
      "BH \tRMSE: 3.55\t MAE: 2.76 \tMAPE: 1.41 \tDA: 0.47\n",
      "ADVANC \tRMSE: 2.28\t MAE: 1.90 \tMAPE: 0.99 \tDA: 0.34\n",
      "JAS \tRMSE: 0.18\t MAE: 0.14 \tMAPE: 1.88 \tDA: 0.45\n",
      "TRUE \tRMSE: 0.13\t MAE: 0.10 \tMAPE: 1.57 \tDA: 0.57\n",
      "\n",
      "mean RMSE: 1.54\n",
      "mean MAE: 1.21\n",
      "mean MAPE: 1.26\n",
      "mean DA: 0.5075\n"
     ]
    }
   ],
   "source": [
    "bagging = ensemble.BaggingRegressor(base_estimator=None,\n",
    "                                    n_estimators=30,n_jobs=-1)\n",
    "bagging.fit(x_train, y_train.values.ravel())\n",
    "evaluator(bagging, x_test, le)"
   ]
  },
  {
   "cell_type": "markdown",
   "metadata": {},
   "source": [
    "# AdaBoost Regressor"
   ]
  },
  {
   "cell_type": "code",
   "execution_count": 15,
   "metadata": {},
   "outputs": [
    {
     "data": {
      "text/plain": [
       "AdaBoostRegressor(base_estimator=DecisionTreeRegressor(criterion='mse', max_depth=None, max_features=None,\n",
       "           max_leaf_nodes=None, min_impurity_decrease=0.0,\n",
       "           min_impurity_split=None, min_samples_leaf=1,\n",
       "           min_samples_split=2, min_weight_fraction_leaf=0.0,\n",
       "           presort=False, random_state=None, splitter='best'),\n",
       "         learning_rate=1, loss='linear', n_estimators=10,\n",
       "         random_state=None)"
      ]
     },
     "execution_count": 15,
     "metadata": {},
     "output_type": "execute_result"
    },
    {
     "name": "stdout",
     "output_type": "stream",
     "text": [
      "BANPU \tRMSE: 0.53\t MAE: 0.40 \tMAPE: 1.87 \tDA: 0.43\n",
      "IRPC \tRMSE: 0.14\t MAE: 0.11 \tMAPE: 1.55 \tDA: 0.46\n",
      "PTT \tRMSE: 7.48\t MAE: 5.87 \tMAPE: 1.24 \tDA: 0.55\n",
      "BBL \tRMSE: 2.72\t MAE: 2.17 \tMAPE: 1.04 \tDA: 0.51\n",
      "KBANK \tRMSE: 3.30\t MAE: 2.62 \tMAPE: 1.12 \tDA: 0.49\n",
      "SCB \tRMSE: 2.20\t MAE: 1.73 \tMAPE: 1.13 \tDA: 0.51\n",
      "AOT \tRMSE: 1.48\t MAE: 1.06 \tMAPE: 1.52 \tDA: 0.51\n",
      "THAI \tRMSE: 0.28\t MAE: 0.22 \tMAPE: 1.31 \tDA: 0.47\n",
      "CPF \tRMSE: 0.34\t MAE: 0.28 \tMAPE: 1.14 \tDA: 0.41\n",
      "MINT \tRMSE: 0.62\t MAE: 0.45 \tMAPE: 1.04 \tDA: 0.61\n",
      "TU \tRMSE: 0.36\t MAE: 0.26 \tMAPE: 1.24 \tDA: 0.53\n",
      "SCC \tRMSE: 4.49\t MAE: 3.91 \tMAPE: 0.79 \tDA: 0.59\n",
      "CPN \tRMSE: 1.73\t MAE: 1.41 \tMAPE: 1.68 \tDA: 0.46\n",
      "CK \tRMSE: 0.41\t MAE: 0.28 \tMAPE: 1.05 \tDA: 0.56\n",
      "CPALL \tRMSE: 1.35\t MAE: 1.07 \tMAPE: 1.37 \tDA: 0.50\n",
      "HMPRO \tRMSE: 0.34\t MAE: 0.26 \tMAPE: 1.86 \tDA: 0.54\n",
      "BDMS \tRMSE: 0.27\t MAE: 0.20 \tMAPE: 0.92 \tDA: 0.55\n",
      "BH \tRMSE: 3.34\t MAE: 2.48 \tMAPE: 1.27 \tDA: 0.56\n",
      "ADVANC \tRMSE: 1.96\t MAE: 1.56 \tMAPE: 0.81 \tDA: 0.57\n",
      "JAS \tRMSE: 0.22\t MAE: 0.16 \tMAPE: 2.12 \tDA: 0.36\n",
      "TRUE \tRMSE: 0.15\t MAE: 0.12 \tMAPE: 1.84 \tDA: 0.54\n",
      "\n",
      "mean RMSE: 1.61\n",
      "mean MAE: 1.27\n",
      "mean MAPE: 1.33\n",
      "mean DA: 0.5096\n"
     ]
    }
   ],
   "source": [
    "adaboost_dt_regr = ensemble.AdaBoostRegressor(base_estimator=tree.DecisionTreeRegressor(),\n",
    "                                           learning_rate=1, \n",
    "                                           n_estimators=10, \n",
    "                                           loss='linear')\n",
    "adaboost_dt_regr.fit(x_train, y_train.values.ravel())\n",
    "\n",
    "evaluator(adaboost_dt_regr, x_test, le)"
   ]
  },
  {
   "cell_type": "code",
   "execution_count": 16,
   "metadata": {},
   "outputs": [
    {
     "data": {
      "text/plain": [
       "AdaBoostRegressor(base_estimator=RandomForestRegressor(bootstrap=True, criterion='mse', max_depth=None,\n",
       "           max_features='auto', max_leaf_nodes=None,\n",
       "           min_impurity_decrease=0.0, min_impurity_split=None,\n",
       "           min_samples_leaf=1, min_samples_split=2,\n",
       "           min_weight_fraction_leaf=0.0, n_estimators=10, n_jobs=-1,\n",
       "           oob_score=False, random_state=None, verbose=0, warm_start=False),\n",
       "         learning_rate=1, loss='linear', n_estimators=10,\n",
       "         random_state=None)"
      ]
     },
     "execution_count": 16,
     "metadata": {},
     "output_type": "execute_result"
    },
    {
     "name": "stdout",
     "output_type": "stream",
     "text": [
      "BANPU \tRMSE: 0.51\t MAE: 0.38 \tMAPE: 1.80 \tDA: 0.48\n",
      "IRPC \tRMSE: 0.12\t MAE: 0.10 \tMAPE: 1.44 \tDA: 0.43\n",
      "PTT \tRMSE: 6.65\t MAE: 5.01 \tMAPE: 1.06 \tDA: 0.60\n",
      "BBL \tRMSE: 2.07\t MAE: 1.67 \tMAPE: 0.80 \tDA: 0.51\n",
      "KBANK \tRMSE: 3.17\t MAE: 2.57 \tMAPE: 1.11 \tDA: 0.64\n",
      "SCB \tRMSE: 1.99\t MAE: 1.51 \tMAPE: 0.98 \tDA: 0.55\n",
      "AOT \tRMSE: 1.47\t MAE: 1.02 \tMAPE: 1.46 \tDA: 0.47\n",
      "THAI \tRMSE: 0.24\t MAE: 0.19 \tMAPE: 1.12 \tDA: 0.49\n",
      "CPF \tRMSE: 0.27\t MAE: 0.20 \tMAPE: 0.83 \tDA: 0.48\n",
      "MINT \tRMSE: 0.65\t MAE: 0.50 \tMAPE: 1.15 \tDA: 0.67\n",
      "TU \tRMSE: 0.33\t MAE: 0.25 \tMAPE: 1.24 \tDA: 0.53\n",
      "SCC \tRMSE: 4.61\t MAE: 3.72 \tMAPE: 0.76 \tDA: 0.54\n",
      "CPN \tRMSE: 1.40\t MAE: 1.12 \tMAPE: 1.33 \tDA: 0.54\n",
      "CK \tRMSE: 0.40\t MAE: 0.28 \tMAPE: 1.05 \tDA: 0.53\n",
      "CPALL \tRMSE: 0.93\t MAE: 0.74 \tMAPE: 0.95 \tDA: 0.41\n",
      "HMPRO \tRMSE: 0.29\t MAE: 0.24 \tMAPE: 1.71 \tDA: 0.43\n",
      "BDMS \tRMSE: 0.25\t MAE: 0.18 \tMAPE: 0.86 \tDA: 0.48\n",
      "BH \tRMSE: 3.71\t MAE: 2.75 \tMAPE: 1.41 \tDA: 0.47\n",
      "ADVANC \tRMSE: 2.21\t MAE: 1.74 \tMAPE: 0.90 \tDA: 0.45\n",
      "JAS \tRMSE: 0.17\t MAE: 0.13 \tMAPE: 1.70 \tDA: 0.55\n",
      "TRUE \tRMSE: 0.13\t MAE: 0.10 \tMAPE: 1.62 \tDA: 0.54\n",
      "\n",
      "mean RMSE: 1.5\n",
      "mean MAE: 1.16\n",
      "mean MAPE: 1.2\n",
      "mean DA: 0.5142\n"
     ]
    }
   ],
   "source": [
    "adaboost_rf_regr = ensemble.AdaBoostRegressor(base_estimator=ensemble.RandomForestRegressor(n_jobs=-1),\n",
    "                                           learning_rate=1, \n",
    "                                           n_estimators=10, \n",
    "                                           loss='linear')\n",
    "adaboost_rf_regr.fit(x_train, y_train.values.ravel())\n",
    "\n",
    "evaluator(adaboost_rf_regr, x_test, le)"
   ]
  },
  {
   "cell_type": "markdown",
   "metadata": {},
   "source": [
    "# Gradient Boosting Regressor"
   ]
  },
  {
   "cell_type": "code",
   "execution_count": null,
   "metadata": {},
   "outputs": [],
   "source": [
    "gbr = ensemble.GradientBoostingRegressor(n_estimators=100, \n",
    "                                         learning_rate=0.1,\n",
    "                                         max_depth=6,\n",
    "                                         min_samples_split=2,\n",
    "                                         loss='ls',\n",
    "                                        )\n",
    "gbr.fit(x_train, y_train.values.ravel())\n",
    "\n",
    "evaluator(gbr, x_test, le)"
   ]
  },
  {
   "cell_type": "markdown",
   "metadata": {},
   "source": [
    "# XGBoost Regressor"
   ]
  },
  {
   "cell_type": "code",
   "execution_count": 17,
   "metadata": {},
   "outputs": [
    {
     "data": {
      "text/plain": [
       "(16115, 1791)"
      ]
     },
     "execution_count": 17,
     "metadata": {},
     "output_type": "execute_result"
    }
   ],
   "source": [
    "import xgboost\n",
    "from sklearn.model_selection import train_test_split\n",
    "\n",
    "d_train, d_valid, y_d_train, y_d_valid = train_test_split(x_train, y_train, test_size=0.1, random_state=10)\n",
    "len(d_train), len(d_valid)\n",
    "\n",
    "d_train = xgboost.DMatrix(d_train, label=y_d_train)\n",
    "d_valid = xgboost.DMatrix(d_valid, label=y_d_valid)"
   ]
  },
  {
   "cell_type": "markdown",
   "metadata": {},
   "source": [
    "Parameters\n",
    "http://xgboost.readthedocs.io/en/latest//parameter.html"
   ]
  },
  {
   "cell_type": "code",
   "execution_count": 18,
   "metadata": {},
   "outputs": [
    {
     "name": "stdout",
     "output_type": "stream",
     "text": [
      "[0]\ttrain-mae:109.797\tvalid-mae:106.956\n",
      "Multiple eval metrics have been passed: 'valid-mae' will be used for early stopping.\n",
      "\n",
      "Will train until valid-mae hasn't improved in 50 rounds.\n",
      "[100]\ttrain-mae:7.76727\tvalid-mae:7.59879\n",
      "[200]\ttrain-mae:1.09736\tvalid-mae:1.21573\n",
      "[300]\ttrain-mae:1.02099\tvalid-mae:1.21064\n",
      "[400]\ttrain-mae:0.966042\tvalid-mae:1.20632\n",
      "[500]\ttrain-mae:0.920058\tvalid-mae:1.20394\n",
      "Stopping. Best iteration:\n",
      "[482]\ttrain-mae:0.928511\tvalid-mae:1.20271\n",
      "\n"
     ]
    }
   ],
   "source": [
    "params = {\n",
    "    'booster':'dart',\n",
    "    'max_depth': 4,\n",
    "    'learning_rate': 0.05,\n",
    "    'subsample': 1,\n",
    "    'objective': 'reg:tweedie',\n",
    "    'eval_metric': 'mae',\n",
    "    'reg_lambda': 0.8,\n",
    "    'reg_alpha': 0.2,\n",
    "    'silent': 1,\n",
    "    'sample_type':\"weighted\"\n",
    "}\n",
    "\n",
    "xgb = xgboost.train(params, d_train, \n",
    "                    num_boost_round=5000, \n",
    "                    evals=[(d_train, 'train'), (d_valid, 'valid')], \n",
    "                    early_stopping_rounds=50,\n",
    "                    verbose_eval=100\n",
    "                   )"
   ]
  },
  {
   "cell_type": "code",
   "execution_count": 19,
   "metadata": {},
   "outputs": [
    {
     "name": "stdout",
     "output_type": "stream",
     "text": [
      "BANPU \tRMSE: 0.52\t MAE: 0.40 \tMAPE: 1.89 \tDA: 0.33\n",
      "IRPC \tRMSE: 0.13\t MAE: 0.11 \tMAPE: 1.47 \tDA: 0.41\n",
      "PTT \tRMSE: 7.91\t MAE: 5.75 \tMAPE: 1.21 \tDA: 0.55\n",
      "BBL \tRMSE: 1.74\t MAE: 1.54 \tMAPE: 0.74 \tDA: 0.45\n",
      "KBANK \tRMSE: 2.96\t MAE: 2.45 \tMAPE: 1.05 \tDA: 0.68\n",
      "SCB \tRMSE: 2.13\t MAE: 1.62 \tMAPE: 1.05 \tDA: 0.60\n",
      "AOT \tRMSE: 1.62\t MAE: 1.15 \tMAPE: 1.63 \tDA: 0.40\n",
      "THAI \tRMSE: 0.25\t MAE: 0.21 \tMAPE: 1.23 \tDA: 0.42\n",
      "CPF \tRMSE: 0.25\t MAE: 0.19 \tMAPE: 0.79 \tDA: 0.57\n",
      "MINT \tRMSE: 0.68\t MAE: 0.50 \tMAPE: 1.16 \tDA: 0.50\n",
      "TU \tRMSE: 0.31\t MAE: 0.24 \tMAPE: 1.15 \tDA: 0.58\n",
      "SCC \tRMSE: 4.53\t MAE: 3.56 \tMAPE: 0.72 \tDA: 0.59\n",
      "CPN \tRMSE: 1.09\t MAE: 0.88 \tMAPE: 1.05 \tDA: 0.54\n",
      "CK \tRMSE: 0.34\t MAE: 0.22 \tMAPE: 0.83 \tDA: 0.71\n",
      "CPALL \tRMSE: 1.00\t MAE: 0.84 \tMAPE: 1.07 \tDA: 0.33\n",
      "HMPRO \tRMSE: 0.26\t MAE: 0.21 \tMAPE: 1.50 \tDA: 0.59\n",
      "BDMS \tRMSE: 0.22\t MAE: 0.16 \tMAPE: 0.76 \tDA: 0.57\n",
      "BH \tRMSE: 3.00\t MAE: 2.25 \tMAPE: 1.15 \tDA: 0.51\n",
      "ADVANC \tRMSE: 2.70\t MAE: 2.18 \tMAPE: 1.13 \tDA: 0.40\n",
      "JAS \tRMSE: 0.18\t MAE: 0.14 \tMAPE: 1.90 \tDA: 0.48\n",
      "TRUE \tRMSE: 0.12\t MAE: 0.10 \tMAPE: 1.50 \tDA: 0.70\n",
      "\n",
      "mean RMSE: 1.52\n",
      "mean MAE: 1.18\n",
      "mean MAPE: 1.19\n",
      "mean DA: 0.5191\n"
     ]
    }
   ],
   "source": [
    "evaluator(xgb, x_test, le, isXGB=True)"
   ]
  },
  {
   "cell_type": "markdown",
   "metadata": {},
   "source": [
    "# Save ML models"
   ]
  },
  {
   "cell_type": "code",
   "execution_count": 20,
   "metadata": {},
   "outputs": [],
   "source": [
    "pickle.dump(decis_tree_regr, open('models/decis_tree_regr_news_all.pkl', 'wb'))\n",
    "pickle.dump(rnd_forest_regr, open('models/rnd_forest_regr_news_all.pkl', 'wb'))\n",
    "pickle.dump(bagging, open('models/bagging_regr_news_all.pkl', 'wb'))\n",
    "pickle.dump(adaboost_dt_regr, open('models/adaboost_dt_regr_news_all.pkl', 'wb'))\n",
    "pickle.dump(adaboost_rf_regr, open('models/adaboost_rf_regr_news_all.pkl', 'wb'))\n",
    "pickle.dump(xgb, open('models/xgb_news_all.pkl', 'wb'))"
   ]
  },
  {
   "cell_type": "markdown",
   "metadata": {},
   "source": [
    "# Ensemble Stacking"
   ]
  },
  {
   "cell_type": "code",
   "execution_count": 21,
   "metadata": {},
   "outputs": [],
   "source": [
    "dt = pickle.load(open('models/decis_tree_regr_news_all.pkl', 'rb'))\n",
    "rf = pickle.load(open('models/rnd_forest_regr_news_all.pkl', 'rb'))\n",
    "bagging = pickle.load(open('models/bagging_regr_news_all.pkl', 'rb'))\n",
    "ada_dt = pickle.load(open('models/adaboost_dt_regr_news_all.pkl', 'rb'))\n",
    "ada_rf = pickle.load(open('models/adaboost_rf_regr_news_all.pkl', 'rb'))\n",
    "xgb = pickle.load(open('models/xgb_news_all.pkl', 'rb'))"
   ]
  },
  {
   "cell_type": "code",
   "execution_count": 22,
   "metadata": {},
   "outputs": [],
   "source": [
    "x_train_stack = np.concatenate((\n",
    "                         bagging.predict(x_train).reshape(-1,1),\n",
    "                         ada_dt.predict(x_train).reshape(-1,1),\n",
    "                         ada_rf.predict(x_train).reshape(-1,1),\n",
    "                         xgb.predict(xgboost.DMatrix(x_train)).reshape(-1,1)), axis=1)"
   ]
  },
  {
   "cell_type": "code",
   "execution_count": 23,
   "metadata": {},
   "outputs": [],
   "source": [
    "y_test = x_test[Horizon].values.reshape(-1,1)\n",
    "\n",
    "x_test_stack = np.concatenate((\n",
    "                         bagging.predict(x_test.drop(['Close(t+1)'], axis=1)).reshape(-1,1),\n",
    "                         ada_dt.predict(x_test.drop(['Close(t+1)'], axis=1)).reshape(-1,1),\n",
    "                         ada_rf.predict(x_test.drop(['Close(t+1)'], axis=1)).reshape(-1,1),\n",
    "                         xgb.predict(xgboost.DMatrix((x_test.drop(['Close(t+1)'], axis=1)))).reshape(-1,1)), axis=1)"
   ]
  },
  {
   "cell_type": "code",
   "execution_count": 24,
   "metadata": {},
   "outputs": [
    {
     "data": {
      "text/plain": [
       "RandomForestRegressor(bootstrap=True, criterion='mse', max_depth=None,\n",
       "           max_features='auto', max_leaf_nodes=None,\n",
       "           min_impurity_decrease=0.0, min_impurity_split=None,\n",
       "           min_samples_leaf=1, min_samples_split=2,\n",
       "           min_weight_fraction_leaf=0.0, n_estimators=10, n_jobs=-1,\n",
       "           oob_score=False, random_state=None, verbose=0, warm_start=False)"
      ]
     },
     "execution_count": 24,
     "metadata": {},
     "output_type": "execute_result"
    },
    {
     "name": "stdout",
     "output_type": "stream",
     "text": [
      "RMSE: 2.36 \tMAE: 1.23 \tMAPE: 1.26\n",
      "RMSE: 2.45 \tMAE: 1.29 \tMAPE: 1.33\n",
      "RMSE: 2.30 \tMAE: 1.19 \tMAPE: 1.20\n",
      "RMSE: 9.24 \tMAE: 4.73 \tMAPE: 2.60\n",
      "\n",
      "RMSE: 2.41 \tMAE: 1.25 \tMAPE: 1.30\n"
     ]
    }
   ],
   "source": [
    "stack = ensemble.RandomForestRegressor(n_jobs=-1)\n",
    "stack.fit(x_train_stack, y_train.values.ravel())\n",
    "\n",
    "y_pred_stack = stack.predict(x_test_stack).reshape(-1,1)\n",
    "\n",
    "for i in range(x_test_stack.shape[1]):\n",
    "    RMSE = np.sqrt(mean_squared_error(y_test, x_test_stack[:,i]))\n",
    "    MAE = mean_absolute_error(y_test, x_test_stack[:,i])\n",
    "    MAPE = mean_absolute_percentage_error(y_test, x_test_stack[:,i].reshape(-1,1))\n",
    "    print(\"RMSE: %.2f \\tMAE: %.2f \\tMAPE: %.2f\" % (RMSE, MAE, MAPE))\n",
    "    \n",
    "RMSE = np.sqrt(mean_squared_error(y_test, y_pred_stack))\n",
    "MAE = mean_absolute_error(y_test, y_pred_stack)\n",
    "MAPE = mean_absolute_percentage_error(y_test, y_pred_stack)\n",
    "print(\"\\nRMSE: %.2f \\tMAE: %.2f \\tMAPE: %.2f\" % (RMSE, MAE, MAPE))"
   ]
  },
  {
   "cell_type": "code",
   "execution_count": 25,
   "metadata": {},
   "outputs": [
    {
     "data": {
      "text/plain": [
       "array([0.02431273, 0.86737258, 0.03057883, 0.07773587])"
      ]
     },
     "execution_count": 25,
     "metadata": {},
     "output_type": "execute_result"
    }
   ],
   "source": [
    "feature_importances = stack.feature_importances_\n",
    "feature_importances"
   ]
  },
  {
   "cell_type": "markdown",
   "metadata": {},
   "source": [
    "# Stack DA"
   ]
  },
  {
   "cell_type": "code",
   "execution_count": 26,
   "metadata": {},
   "outputs": [],
   "source": [
    "close_t = np.reshape(x_train['Close(t)'].values, (-1, 1))\n",
    "changes = y_train.values.reshape(-1,1) - close_t\n",
    "y_train_da = np.array([1 if change >= 0 else 0 for change in changes]).reshape(-1,1)\n",
    "\n",
    "x_changes = np.concatenate((\n",
    "                            np.array(x_train_stack[:,0]).reshape(-1,1)-close_t,\n",
    "                            np.array(x_train_stack[:,1]).reshape(-1,1)-close_t,\n",
    "                            np.array(x_train_stack[:,2]).reshape(-1,1)-close_t,\n",
    "                            np.array(x_train_stack[:,3]).reshape(-1,1)-close_t,\n",
    "                           ), axis=1)\n",
    "x_train_stack_da = []\n",
    "for row in x_changes:\n",
    "    tmp_row = []\n",
    "    for change in row:\n",
    "        tmp_row.append(1 if change>=0 else 0)\n",
    "    x_train_stack_da.append(tmp_row)"
   ]
  },
  {
   "cell_type": "code",
   "execution_count": 27,
   "metadata": {},
   "outputs": [],
   "source": [
    "close_t = np.reshape(x_test['Close(t)'].values, (-1, 1))\n",
    "changes = y_test - close_t\n",
    "y_test_da = np.array([1 if change >= 0 else 0 for change in changes]).reshape(-1,1)\n",
    "\n",
    "x_changes = np.concatenate((\n",
    "                            np.array(x_test_stack[:,0]).reshape(-1,1)-close_t,\n",
    "                            np.array(x_test_stack[:,1]).reshape(-1,1)-close_t,\n",
    "                            np.array(x_test_stack[:,2]).reshape(-1,1)-close_t,\n",
    "                            np.array(x_test_stack[:,3]).reshape(-1,1)-close_t,\n",
    "                           ), axis=1)\n",
    "x_test_stack_da = []\n",
    "for row in x_changes:\n",
    "    tmp_row = []\n",
    "    for change in row:\n",
    "        tmp_row.append(1 if change>=0 else 0)\n",
    "    x_test_stack_da.append(tmp_row)\n",
    "\n",
    "x_test_stack_da = np.array(x_test_stack_da)"
   ]
  },
  {
   "cell_type": "code",
   "execution_count": 30,
   "metadata": {},
   "outputs": [
    {
     "data": {
      "text/plain": [
       "GradientBoostingRegressor(alpha=0.9, criterion='friedman_mse', init=None,\n",
       "             learning_rate=0.1, loss='ls', max_depth=3, max_features=None,\n",
       "             max_leaf_nodes=None, min_impurity_decrease=0.0,\n",
       "             min_impurity_split=None, min_samples_leaf=1,\n",
       "             min_samples_split=2, min_weight_fraction_leaf=0.0,\n",
       "             n_estimators=100, presort='auto', random_state=None,\n",
       "             subsample=1.0, verbose=0, warm_start=False)"
      ]
     },
     "execution_count": 30,
     "metadata": {},
     "output_type": "execute_result"
    },
    {
     "name": "stdout",
     "output_type": "stream",
     "text": [
      "Accuracy: 0.5068\n",
      "Accuracy: 0.5100\n",
      "Accuracy: 0.5121\n",
      "Accuracy: 0.4124\n",
      "\n",
      "Accuracy: 0.5414\n"
     ]
    }
   ],
   "source": [
    "stack_da = ensemble.GradientBoostingRegressor()\n",
    "stack_da.fit(x_train_stack_da, y_train_da.ravel())\n",
    "\n",
    "y_stack_da = stack_da.predict(x_test_stack_da).reshape(-1,1).round(0).astype(int)\n",
    "\n",
    "for i in range(x_test_stack_da.shape[1]):\n",
    "    acc = accuracy_score(y_test_da, x_test_stack_da[:,i])\n",
    "    print(\"Accuracy: %.4f\" % (acc))\n",
    "    \n",
    "acc = accuracy_score(y_test_da, y_stack_da)\n",
    "print(\"\\nAccuracy: %.4f\" % (acc))"
   ]
  },
  {
   "cell_type": "code",
   "execution_count": 31,
   "metadata": {},
   "outputs": [
    {
     "data": {
      "text/plain": [
       "array([0.12667901, 0.61525446, 0.13835091, 0.11971561])"
      ]
     },
     "execution_count": 31,
     "metadata": {},
     "output_type": "execute_result"
    }
   ],
   "source": [
    "feature_importances_da = stack_da.feature_importances_\n",
    "feature_importances_da"
   ]
  },
  {
   "cell_type": "markdown",
   "metadata": {},
   "source": [
    "# Visualize Error"
   ]
  },
  {
   "cell_type": "code",
   "execution_count": 110,
   "metadata": {},
   "outputs": [],
   "source": [
    "def visualize(ticker):\n",
    "    x_tmp = x_test.loc[x_test['Ticker'] == le.transform([ticker])[0]].copy()\n",
    "\n",
    "    y_tmp = x_tmp[Horizon].values.reshape(-1,1)\n",
    "    x_tmp = x_tmp.drop([Horizon], axis=1)\n",
    "\n",
    "    y_pred = xgb.predict(xgboost.DMatrix((x_tmp))).reshape(-1,1)\n",
    "\n",
    "    df = np.concatenate((y_tmp,\n",
    "                         y_pred), axis=1)\n",
    "\n",
    "    df = pd.DataFrame.from_records(df)\n",
    "    df.columns = ['actual', 'predicted']\n",
    "    df['AE'] = 100*(df['actual']-df['predicted']).abs()/df['actual']\n",
    "\n",
    "\n",
    "\n",
    "    trace_1 = go.Scatter(\n",
    "        x = x_tmp.index,\n",
    "        y = df.actual,\n",
    "        mode = 'lines',\n",
    "        name = 'Actual',\n",
    "        line = dict(width = 4)\n",
    "    )\n",
    "\n",
    "    trace_2 = go.Scatter(\n",
    "        x = x_tmp.index,\n",
    "        y = df.predicted,\n",
    "        mode = 'lines',\n",
    "        name = 'Predicted',\n",
    "        line = dict(width = 4)\n",
    "    )\n",
    "\n",
    "    ln = make_pipeline(PolynomialFeatures(4), Ridge())\n",
    "    ln = LinearRegression()\n",
    "    ln.fit(df.index.values.reshape(-1,1), df.AE)\n",
    "\n",
    "\n",
    "    trace_3 = go.Scatter(\n",
    "        x = x_tmp.index,\n",
    "        y = ln.predict(df.index.values.reshape(-1,1)),\n",
    "        mode = 'lines',\n",
    "        name = 'Trend Line',\n",
    "        line = dict(width = 4)\n",
    "    )\n",
    "    trace_4 = go.Scatter(\n",
    "        x = x_tmp.index,\n",
    "        y = df.AE,\n",
    "        mode = 'lines',\n",
    "        name = 'Errors',\n",
    "        line = dict(width = 4)\n",
    "    )\n",
    "\n",
    "    fig = tools.make_subplots(rows=2, cols=1, subplot_titles=(ticker+': Actual vs. Predicted', 'Absolute Error'))\n",
    "\n",
    "    fig.append_trace(trace_1, 1, 1)\n",
    "    fig.append_trace(trace_2, 1, 1)\n",
    "    fig.append_trace(trace_3, 2, 1)\n",
    "    fig.append_trace(trace_4, 2, 1)\n",
    "\n",
    "    fig['layout'].update(height=1000, width=1200,  \n",
    "                         paper_bgcolor='rgba(0,0,0,0)', \n",
    "                         plot_bgcolor='rgba(0,0,0,0)', \n",
    "                         font=dict(size=16, color='#bfbfbf'))\n",
    "\n",
    "    fig['layout']['yaxis1'].update(title='Price')\n",
    "    fig['layout']['yaxis2'].update(title='Absolute Error')\n",
    "\n",
    "    iplot(fig, filename='line-mode')"
   ]
  },
  {
   "cell_type": "code",
   "execution_count": 111,
   "metadata": {},
   "outputs": [
    {
     "name": "stdout",
     "output_type": "stream",
     "text": [
      "This is the format of your plot grid:\n",
      "[ (1,1) x1,y1 ]\n",
      "[ (2,1) x2,y2 ]\n",
      "\n"
     ]
    },
    {
     "data": {
      "application/vnd.plotly.v1+json": {
       "data": [
        {
         "line": {
          "width": 4
         },
         "mode": "lines",
         "name": "Actual",
         "type": "scatter",
         "x": [
          "2017-12-16",
          "2017-12-18",
          "2017-12-19",
          "2017-12-20",
          "2017-12-21",
          "2017-12-22",
          "2017-12-23",
          "2017-12-25",
          "2017-12-26",
          "2017-12-27",
          "2017-12-28",
          "2017-12-29",
          "2017-12-30",
          "2018-01-02",
          "2018-01-03",
          "2018-01-04",
          "2018-01-05",
          "2018-01-06",
          "2018-01-07",
          "2018-01-08",
          "2018-01-09",
          "2018-01-10",
          "2018-01-11",
          "2018-01-12",
          "2018-01-13",
          "2018-01-15",
          "2018-01-16",
          "2018-01-17",
          "2018-01-18",
          "2018-01-19",
          "2018-01-20",
          "2018-01-21",
          "2018-01-22",
          "2018-01-23",
          "2018-01-24",
          "2018-01-25",
          "2018-01-26",
          "2018-01-27",
          "2018-01-29",
          "2018-01-30",
          "2018-01-31",
          "2018-02-01",
          "2018-02-02",
          "2018-02-03",
          "2018-02-05",
          "2018-02-06",
          "2018-02-07"
         ],
         "xaxis": "x1",
         "y": [
          149.5,
          151,
          151,
          151,
          150.5,
          152,
          152,
          149.5,
          149,
          148,
          150,
          150,
          150,
          150,
          149.5,
          148,
          150,
          150,
          150,
          149.5,
          150,
          154.5,
          158.5,
          162,
          162,
          161,
          162,
          157,
          153.5,
          154,
          154,
          154,
          158,
          156.5,
          156,
          158,
          159,
          159,
          155.5,
          157.5,
          157.5,
          155.5,
          153.5,
          153.5,
          151.5,
          149.5,
          150
         ],
         "yaxis": "y1"
        },
        {
         "line": {
          "width": 4
         },
         "mode": "lines",
         "name": "Predicted",
         "type": "scatter",
         "x": [
          "2017-12-16",
          "2017-12-18",
          "2017-12-19",
          "2017-12-20",
          "2017-12-21",
          "2017-12-22",
          "2017-12-23",
          "2017-12-25",
          "2017-12-26",
          "2017-12-27",
          "2017-12-28",
          "2017-12-29",
          "2017-12-30",
          "2018-01-02",
          "2018-01-03",
          "2018-01-04",
          "2018-01-05",
          "2018-01-06",
          "2018-01-07",
          "2018-01-08",
          "2018-01-09",
          "2018-01-10",
          "2018-01-11",
          "2018-01-12",
          "2018-01-13",
          "2018-01-15",
          "2018-01-16",
          "2018-01-17",
          "2018-01-18",
          "2018-01-19",
          "2018-01-20",
          "2018-01-21",
          "2018-01-22",
          "2018-01-23",
          "2018-01-24",
          "2018-01-25",
          "2018-01-26",
          "2018-01-27",
          "2018-01-29",
          "2018-01-30",
          "2018-01-31",
          "2018-02-01",
          "2018-02-02",
          "2018-02-03",
          "2018-02-05",
          "2018-02-06",
          "2018-02-07"
         ],
         "xaxis": "x1",
         "y": [
          149.39862060546875,
          148.41925048828125,
          150.76722717285156,
          151.22860717773438,
          150.92819213867188,
          150.64117431640625,
          150.37742614746094,
          151.7248992919922,
          148.6674346923828,
          148.83419799804688,
          147.98062133789062,
          150.38539123535156,
          150.6400909423828,
          150.72509765625,
          150.36810302734375,
          149.56405639648438,
          148.89190673828125,
          148.31121826171875,
          148.35018920898438,
          149.57154846191406,
          149.45619201660156,
          150.39205932617188,
          153.6063690185547,
          158.3931427001953,
          158.45228576660156,
          163.03797912597656,
          160.12388610839844,
          162.01522827148438,
          156.52720642089844,
          154.3101043701172,
          153.9105682373047,
          154.43406677246094,
          154.20904541015625,
          158.32479858398438,
          156.3944091796875,
          156.161376953125,
          158.88497924804688,
          158.9130096435547,
          160.4559783935547,
          155.72645568847656,
          157.59185791015625,
          158.13685607910156,
          155.6935577392578,
          155.40443420410156,
          153.14218139648438,
          151.26278686523438,
          149.0718536376953
         ],
         "yaxis": "y1"
        },
        {
         "line": {
          "width": 4
         },
         "mode": "lines",
         "name": "Trend Line",
         "type": "scatter",
         "x": [
          "2017-12-16",
          "2017-12-18",
          "2017-12-19",
          "2017-12-20",
          "2017-12-21",
          "2017-12-22",
          "2017-12-23",
          "2017-12-25",
          "2017-12-26",
          "2017-12-27",
          "2017-12-28",
          "2017-12-29",
          "2017-12-30",
          "2018-01-02",
          "2018-01-03",
          "2018-01-04",
          "2018-01-05",
          "2018-01-06",
          "2018-01-07",
          "2018-01-08",
          "2018-01-09",
          "2018-01-10",
          "2018-01-11",
          "2018-01-12",
          "2018-01-13",
          "2018-01-15",
          "2018-01-16",
          "2018-01-17",
          "2018-01-18",
          "2018-01-19",
          "2018-01-20",
          "2018-01-21",
          "2018-01-22",
          "2018-01-23",
          "2018-01-24",
          "2018-01-25",
          "2018-01-26",
          "2018-01-27",
          "2018-01-29",
          "2018-01-30",
          "2018-01-31",
          "2018-02-01",
          "2018-02-02",
          "2018-02-03",
          "2018-02-05",
          "2018-02-06",
          "2018-02-07"
         ],
         "xaxis": "x2",
         "y": [
          0.7595344382725059,
          0.7719795512046711,
          0.7844246641368364,
          0.7968697770690016,
          0.809314890001167,
          0.8217600029333322,
          0.8342051158654974,
          0.8466502287976627,
          0.8590953417298279,
          0.8715404546619931,
          0.8839855675941585,
          0.8964306805263237,
          0.908875793458489,
          0.9213209063906542,
          0.9337660193228194,
          0.9462111322549848,
          0.95865624518715,
          0.9711013581193153,
          0.9835464710514805,
          0.9959915839836457,
          1.008436696915811,
          1.0208818098479764,
          1.0333269227801416,
          1.0457720357123068,
          1.058217148644472,
          1.0706622615766372,
          1.0831073745088027,
          1.095552487440968,
          1.107997600373133,
          1.1204427133052983,
          1.1328878262374635,
          1.145332939169629,
          1.1577780521017942,
          1.1702231650339594,
          1.1826682779661246,
          1.1951133908982898,
          1.2075585038304553,
          1.2200036167626205,
          1.2324487296947857,
          1.244893842626951,
          1.2573389555591161,
          1.2697840684912816,
          1.2822291814234466,
          1.294674294355612,
          1.3071194072877772,
          1.3195645202199424,
          1.3320096331521079
         ],
         "yaxis": "y2"
        },
        {
         "line": {
          "width": 4
         },
         "mode": "lines",
         "name": "Errors",
         "type": "scatter",
         "x": [
          "2017-12-16",
          "2017-12-18",
          "2017-12-19",
          "2017-12-20",
          "2017-12-21",
          "2017-12-22",
          "2017-12-23",
          "2017-12-25",
          "2017-12-26",
          "2017-12-27",
          "2017-12-28",
          "2017-12-29",
          "2017-12-30",
          "2018-01-02",
          "2018-01-03",
          "2018-01-04",
          "2018-01-05",
          "2018-01-06",
          "2018-01-07",
          "2018-01-08",
          "2018-01-09",
          "2018-01-10",
          "2018-01-11",
          "2018-01-12",
          "2018-01-13",
          "2018-01-15",
          "2018-01-16",
          "2018-01-17",
          "2018-01-18",
          "2018-01-19",
          "2018-01-20",
          "2018-01-21",
          "2018-01-22",
          "2018-01-23",
          "2018-01-24",
          "2018-01-25",
          "2018-01-26",
          "2018-01-27",
          "2018-01-29",
          "2018-01-30",
          "2018-01-31",
          "2018-02-01",
          "2018-02-02",
          "2018-02-03",
          "2018-02-05",
          "2018-02-06",
          "2018-02-07"
         ],
         "xaxis": "x2",
         "y": [
          0.06781230403428094,
          1.7091056368998345,
          0.15415419016452814,
          0.1513954819432947,
          0.28451304895141194,
          0.893964265522204,
          1.0674827977230674,
          1.4882269511653428,
          0.22319819303166946,
          0.5636472959776182,
          1.34625244140625,
          0.256927490234375,
          0.426727294921875,
          0.4833984375,
          0.5806709213001672,
          1.0567948624894425,
          0.7387288411458334,
          1.1258544921875,
          1.0998738606770833,
          0.04785850295255017,
          0.3625386555989583,
          2.658861277558657,
          3.0874643416058754,
          2.2264551233362266,
          2.1899470576533564,
          1.2658255440848214,
          1.1580949948157793,
          3.194412911773487,
          1.972121446839373,
          0.20136647410206981,
          0.05807257317877435,
          0.2818615405590503,
          2.3993383480023733,
          1.1660054849740416,
          0.2528263972355769,
          1.1636854727056962,
          0.07234009556800315,
          0.054710916003341194,
          3.187124368845458,
          1.1260598803323412,
          0.05832248263888889,
          1.6957273820588827,
          1.4290278431646988,
          1.2406737486003665,
          1.0839481164913367,
          1.179121648986204,
          0.6187642415364584
         ],
         "yaxis": "y2"
        }
       ],
       "layout": {
        "annotations": [
         {
          "font": {
           "size": 16
          },
          "showarrow": false,
          "text": "SCB: Actual vs. Predicted",
          "x": 0.5,
          "xanchor": "center",
          "xref": "paper",
          "y": 1,
          "yanchor": "bottom",
          "yref": "paper"
         },
         {
          "font": {
           "size": 16
          },
          "showarrow": false,
          "text": "Absolute Error",
          "x": 0.5,
          "xanchor": "center",
          "xref": "paper",
          "y": 0.375,
          "yanchor": "bottom",
          "yref": "paper"
         }
        ],
        "font": {
         "color": "#bfbfbf",
         "size": 16
        },
        "height": 1000,
        "paper_bgcolor": "rgba(0,0,0,0)",
        "plot_bgcolor": "rgba(0,0,0,0)",
        "width": 1200,
        "xaxis1": {
         "anchor": "y1",
         "domain": [
          0,
          1
         ]
        },
        "xaxis2": {
         "anchor": "y2",
         "domain": [
          0,
          1
         ]
        },
        "yaxis1": {
         "anchor": "x1",
         "domain": [
          0.625,
          1
         ],
         "title": "Price"
        },
        "yaxis2": {
         "anchor": "x2",
         "domain": [
          0,
          0.375
         ],
         "title": "Absolute Error"
        }
       }
      },
      "text/html": [
       "<div id=\"9ef8f67f-8e18-4612-9038-99a4f6370333\" style=\"height: 1000px; width: 1200px;\" class=\"plotly-graph-div\"></div><script type=\"text/javascript\">require([\"plotly\"], function(Plotly) { window.PLOTLYENV=window.PLOTLYENV || {};window.PLOTLYENV.BASE_URL=\"https://plot.ly\";Plotly.newPlot(\"9ef8f67f-8e18-4612-9038-99a4f6370333\", [{\"yaxis\": \"y1\", \"mode\": \"lines\", \"y\": [149.5, 151.0, 151.0, 151.0, 150.5, 152.0, 152.0, 149.5, 149.0, 148.0, 150.0, 150.0, 150.0, 150.0, 149.5, 148.0, 150.0, 150.0, 150.0, 149.5, 150.0, 154.5, 158.5, 162.0, 162.0, 161.0, 162.0, 157.0, 153.5, 154.0, 154.0, 154.0, 158.0, 156.5, 156.0, 158.0, 159.0, 159.0, 155.5, 157.5, 157.5, 155.5, 153.5, 153.5, 151.5, 149.5, 150.0], \"name\": \"Actual\", \"x\": [\"2017-12-16\", \"2017-12-18\", \"2017-12-19\", \"2017-12-20\", \"2017-12-21\", \"2017-12-22\", \"2017-12-23\", \"2017-12-25\", \"2017-12-26\", \"2017-12-27\", \"2017-12-28\", \"2017-12-29\", \"2017-12-30\", \"2018-01-02\", \"2018-01-03\", \"2018-01-04\", \"2018-01-05\", \"2018-01-06\", \"2018-01-07\", \"2018-01-08\", \"2018-01-09\", \"2018-01-10\", \"2018-01-11\", \"2018-01-12\", \"2018-01-13\", \"2018-01-15\", \"2018-01-16\", \"2018-01-17\", \"2018-01-18\", \"2018-01-19\", \"2018-01-20\", \"2018-01-21\", \"2018-01-22\", \"2018-01-23\", \"2018-01-24\", \"2018-01-25\", \"2018-01-26\", \"2018-01-27\", \"2018-01-29\", \"2018-01-30\", \"2018-01-31\", \"2018-02-01\", \"2018-02-02\", \"2018-02-03\", \"2018-02-05\", \"2018-02-06\", \"2018-02-07\"], \"line\": {\"width\": 4}, \"type\": \"scatter\", \"xaxis\": \"x1\"}, {\"yaxis\": \"y1\", \"mode\": \"lines\", \"y\": [149.39862060546875, 148.41925048828125, 150.76722717285156, 151.22860717773438, 150.92819213867188, 150.64117431640625, 150.37742614746094, 151.7248992919922, 148.6674346923828, 148.83419799804688, 147.98062133789062, 150.38539123535156, 150.6400909423828, 150.72509765625, 150.36810302734375, 149.56405639648438, 148.89190673828125, 148.31121826171875, 148.35018920898438, 149.57154846191406, 149.45619201660156, 150.39205932617188, 153.6063690185547, 158.3931427001953, 158.45228576660156, 163.03797912597656, 160.12388610839844, 162.01522827148438, 156.52720642089844, 154.3101043701172, 153.9105682373047, 154.43406677246094, 154.20904541015625, 158.32479858398438, 156.3944091796875, 156.161376953125, 158.88497924804688, 158.9130096435547, 160.4559783935547, 155.72645568847656, 157.59185791015625, 158.13685607910156, 155.6935577392578, 155.40443420410156, 153.14218139648438, 151.26278686523438, 149.0718536376953], \"name\": \"Predicted\", \"x\": [\"2017-12-16\", \"2017-12-18\", \"2017-12-19\", \"2017-12-20\", \"2017-12-21\", \"2017-12-22\", \"2017-12-23\", \"2017-12-25\", \"2017-12-26\", \"2017-12-27\", \"2017-12-28\", \"2017-12-29\", \"2017-12-30\", \"2018-01-02\", \"2018-01-03\", \"2018-01-04\", \"2018-01-05\", \"2018-01-06\", \"2018-01-07\", \"2018-01-08\", \"2018-01-09\", \"2018-01-10\", \"2018-01-11\", \"2018-01-12\", \"2018-01-13\", \"2018-01-15\", \"2018-01-16\", \"2018-01-17\", \"2018-01-18\", \"2018-01-19\", \"2018-01-20\", \"2018-01-21\", \"2018-01-22\", \"2018-01-23\", \"2018-01-24\", \"2018-01-25\", \"2018-01-26\", \"2018-01-27\", \"2018-01-29\", \"2018-01-30\", \"2018-01-31\", \"2018-02-01\", \"2018-02-02\", \"2018-02-03\", \"2018-02-05\", \"2018-02-06\", \"2018-02-07\"], \"line\": {\"width\": 4}, \"type\": \"scatter\", \"xaxis\": \"x1\"}, {\"yaxis\": \"y2\", \"mode\": \"lines\", \"y\": [0.7595344382725059, 0.7719795512046711, 0.7844246641368364, 0.7968697770690016, 0.809314890001167, 0.8217600029333322, 0.8342051158654974, 0.8466502287976627, 0.8590953417298279, 0.8715404546619931, 0.8839855675941585, 0.8964306805263237, 0.908875793458489, 0.9213209063906542, 0.9337660193228194, 0.9462111322549848, 0.95865624518715, 0.9711013581193153, 0.9835464710514805, 0.9959915839836457, 1.008436696915811, 1.0208818098479764, 1.0333269227801416, 1.0457720357123068, 1.058217148644472, 1.0706622615766372, 1.0831073745088027, 1.095552487440968, 1.107997600373133, 1.1204427133052983, 1.1328878262374635, 1.145332939169629, 1.1577780521017942, 1.1702231650339594, 1.1826682779661246, 1.1951133908982898, 1.2075585038304553, 1.2200036167626205, 1.2324487296947857, 1.244893842626951, 1.2573389555591161, 1.2697840684912816, 1.2822291814234466, 1.294674294355612, 1.3071194072877772, 1.3195645202199424, 1.3320096331521079], \"name\": \"Trend Line\", \"x\": [\"2017-12-16\", \"2017-12-18\", \"2017-12-19\", \"2017-12-20\", \"2017-12-21\", \"2017-12-22\", \"2017-12-23\", \"2017-12-25\", \"2017-12-26\", \"2017-12-27\", \"2017-12-28\", \"2017-12-29\", \"2017-12-30\", \"2018-01-02\", \"2018-01-03\", \"2018-01-04\", \"2018-01-05\", \"2018-01-06\", \"2018-01-07\", \"2018-01-08\", \"2018-01-09\", \"2018-01-10\", \"2018-01-11\", \"2018-01-12\", \"2018-01-13\", \"2018-01-15\", \"2018-01-16\", \"2018-01-17\", \"2018-01-18\", \"2018-01-19\", \"2018-01-20\", \"2018-01-21\", \"2018-01-22\", \"2018-01-23\", \"2018-01-24\", \"2018-01-25\", \"2018-01-26\", \"2018-01-27\", \"2018-01-29\", \"2018-01-30\", \"2018-01-31\", \"2018-02-01\", \"2018-02-02\", \"2018-02-03\", \"2018-02-05\", \"2018-02-06\", \"2018-02-07\"], \"line\": {\"width\": 4}, \"type\": \"scatter\", \"xaxis\": \"x2\"}, {\"yaxis\": \"y2\", \"mode\": \"lines\", \"y\": [0.06781230403428094, 1.7091056368998345, 0.15415419016452814, 0.1513954819432947, 0.28451304895141194, 0.893964265522204, 1.0674827977230674, 1.4882269511653428, 0.22319819303166946, 0.5636472959776182, 1.34625244140625, 0.256927490234375, 0.426727294921875, 0.4833984375, 0.5806709213001672, 1.0567948624894425, 0.7387288411458334, 1.1258544921875, 1.0998738606770833, 0.04785850295255017, 0.3625386555989583, 2.658861277558657, 3.0874643416058754, 2.2264551233362266, 2.1899470576533564, 1.2658255440848214, 1.1580949948157793, 3.194412911773487, 1.972121446839373, 0.20136647410206981, 0.05807257317877435, 0.2818615405590503, 2.3993383480023733, 1.1660054849740416, 0.2528263972355769, 1.1636854727056962, 0.07234009556800315, 0.054710916003341194, 3.187124368845458, 1.1260598803323412, 0.05832248263888889, 1.6957273820588827, 1.4290278431646988, 1.2406737486003665, 1.0839481164913367, 1.179121648986204, 0.6187642415364584], \"name\": \"Errors\", \"x\": [\"2017-12-16\", \"2017-12-18\", \"2017-12-19\", \"2017-12-20\", \"2017-12-21\", \"2017-12-22\", \"2017-12-23\", \"2017-12-25\", \"2017-12-26\", \"2017-12-27\", \"2017-12-28\", \"2017-12-29\", \"2017-12-30\", \"2018-01-02\", \"2018-01-03\", \"2018-01-04\", \"2018-01-05\", \"2018-01-06\", \"2018-01-07\", \"2018-01-08\", \"2018-01-09\", \"2018-01-10\", \"2018-01-11\", \"2018-01-12\", \"2018-01-13\", \"2018-01-15\", \"2018-01-16\", \"2018-01-17\", \"2018-01-18\", \"2018-01-19\", \"2018-01-20\", \"2018-01-21\", \"2018-01-22\", \"2018-01-23\", \"2018-01-24\", \"2018-01-25\", \"2018-01-26\", \"2018-01-27\", \"2018-01-29\", \"2018-01-30\", \"2018-01-31\", \"2018-02-01\", \"2018-02-02\", \"2018-02-03\", \"2018-02-05\", \"2018-02-06\", \"2018-02-07\"], \"line\": {\"width\": 4}, \"type\": \"scatter\", \"xaxis\": \"x2\"}], {\"yaxis2\": {\"domain\": [0.0, 0.375], \"title\": \"Absolute Error\", \"anchor\": \"x2\"}, \"xaxis2\": {\"domain\": [0.0, 1.0], \"anchor\": \"y2\"}, \"width\": 1200, \"yaxis1\": {\"domain\": [0.625, 1.0], \"title\": \"Price\", \"anchor\": \"x1\"}, \"xaxis1\": {\"domain\": [0.0, 1.0], \"anchor\": \"y1\"}, \"plot_bgcolor\": \"rgba(0,0,0,0)\", \"paper_bgcolor\": \"rgba(0,0,0,0)\", \"height\": 1000, \"annotations\": [{\"font\": {\"size\": 16}, \"showarrow\": false, \"yanchor\": \"bottom\", \"y\": 1.0, \"xanchor\": \"center\", \"xref\": \"paper\", \"x\": 0.5, \"text\": \"SCB: Actual vs. Predicted\", \"yref\": \"paper\"}, {\"font\": {\"size\": 16}, \"showarrow\": false, \"yanchor\": \"bottom\", \"y\": 0.375, \"xanchor\": \"center\", \"xref\": \"paper\", \"x\": 0.5, \"text\": \"Absolute Error\", \"yref\": \"paper\"}], \"font\": {\"size\": 16, \"color\": \"#bfbfbf\"}}, {\"showLink\": true, \"linkText\": \"Export to plot.ly\"})});</script>"
      ],
      "text/vnd.plotly.v1+html": [
       "<div id=\"9ef8f67f-8e18-4612-9038-99a4f6370333\" style=\"height: 1000px; width: 1200px;\" class=\"plotly-graph-div\"></div><script type=\"text/javascript\">require([\"plotly\"], function(Plotly) { window.PLOTLYENV=window.PLOTLYENV || {};window.PLOTLYENV.BASE_URL=\"https://plot.ly\";Plotly.newPlot(\"9ef8f67f-8e18-4612-9038-99a4f6370333\", [{\"yaxis\": \"y1\", \"mode\": \"lines\", \"y\": [149.5, 151.0, 151.0, 151.0, 150.5, 152.0, 152.0, 149.5, 149.0, 148.0, 150.0, 150.0, 150.0, 150.0, 149.5, 148.0, 150.0, 150.0, 150.0, 149.5, 150.0, 154.5, 158.5, 162.0, 162.0, 161.0, 162.0, 157.0, 153.5, 154.0, 154.0, 154.0, 158.0, 156.5, 156.0, 158.0, 159.0, 159.0, 155.5, 157.5, 157.5, 155.5, 153.5, 153.5, 151.5, 149.5, 150.0], \"name\": \"Actual\", \"x\": [\"2017-12-16\", \"2017-12-18\", \"2017-12-19\", \"2017-12-20\", \"2017-12-21\", \"2017-12-22\", \"2017-12-23\", \"2017-12-25\", \"2017-12-26\", \"2017-12-27\", \"2017-12-28\", \"2017-12-29\", \"2017-12-30\", \"2018-01-02\", \"2018-01-03\", \"2018-01-04\", \"2018-01-05\", \"2018-01-06\", \"2018-01-07\", \"2018-01-08\", \"2018-01-09\", \"2018-01-10\", \"2018-01-11\", \"2018-01-12\", \"2018-01-13\", \"2018-01-15\", \"2018-01-16\", \"2018-01-17\", \"2018-01-18\", \"2018-01-19\", \"2018-01-20\", \"2018-01-21\", \"2018-01-22\", \"2018-01-23\", \"2018-01-24\", \"2018-01-25\", \"2018-01-26\", \"2018-01-27\", \"2018-01-29\", \"2018-01-30\", \"2018-01-31\", \"2018-02-01\", \"2018-02-02\", \"2018-02-03\", \"2018-02-05\", \"2018-02-06\", \"2018-02-07\"], \"line\": {\"width\": 4}, \"type\": \"scatter\", \"xaxis\": \"x1\"}, {\"yaxis\": \"y1\", \"mode\": \"lines\", \"y\": [149.39862060546875, 148.41925048828125, 150.76722717285156, 151.22860717773438, 150.92819213867188, 150.64117431640625, 150.37742614746094, 151.7248992919922, 148.6674346923828, 148.83419799804688, 147.98062133789062, 150.38539123535156, 150.6400909423828, 150.72509765625, 150.36810302734375, 149.56405639648438, 148.89190673828125, 148.31121826171875, 148.35018920898438, 149.57154846191406, 149.45619201660156, 150.39205932617188, 153.6063690185547, 158.3931427001953, 158.45228576660156, 163.03797912597656, 160.12388610839844, 162.01522827148438, 156.52720642089844, 154.3101043701172, 153.9105682373047, 154.43406677246094, 154.20904541015625, 158.32479858398438, 156.3944091796875, 156.161376953125, 158.88497924804688, 158.9130096435547, 160.4559783935547, 155.72645568847656, 157.59185791015625, 158.13685607910156, 155.6935577392578, 155.40443420410156, 153.14218139648438, 151.26278686523438, 149.0718536376953], \"name\": \"Predicted\", \"x\": [\"2017-12-16\", \"2017-12-18\", \"2017-12-19\", \"2017-12-20\", \"2017-12-21\", \"2017-12-22\", \"2017-12-23\", \"2017-12-25\", \"2017-12-26\", \"2017-12-27\", \"2017-12-28\", \"2017-12-29\", \"2017-12-30\", \"2018-01-02\", \"2018-01-03\", \"2018-01-04\", \"2018-01-05\", \"2018-01-06\", \"2018-01-07\", \"2018-01-08\", \"2018-01-09\", \"2018-01-10\", \"2018-01-11\", \"2018-01-12\", \"2018-01-13\", \"2018-01-15\", \"2018-01-16\", \"2018-01-17\", \"2018-01-18\", \"2018-01-19\", \"2018-01-20\", \"2018-01-21\", \"2018-01-22\", \"2018-01-23\", \"2018-01-24\", \"2018-01-25\", \"2018-01-26\", \"2018-01-27\", \"2018-01-29\", \"2018-01-30\", \"2018-01-31\", \"2018-02-01\", \"2018-02-02\", \"2018-02-03\", \"2018-02-05\", \"2018-02-06\", \"2018-02-07\"], \"line\": {\"width\": 4}, \"type\": \"scatter\", \"xaxis\": \"x1\"}, {\"yaxis\": \"y2\", \"mode\": \"lines\", \"y\": [0.7595344382725059, 0.7719795512046711, 0.7844246641368364, 0.7968697770690016, 0.809314890001167, 0.8217600029333322, 0.8342051158654974, 0.8466502287976627, 0.8590953417298279, 0.8715404546619931, 0.8839855675941585, 0.8964306805263237, 0.908875793458489, 0.9213209063906542, 0.9337660193228194, 0.9462111322549848, 0.95865624518715, 0.9711013581193153, 0.9835464710514805, 0.9959915839836457, 1.008436696915811, 1.0208818098479764, 1.0333269227801416, 1.0457720357123068, 1.058217148644472, 1.0706622615766372, 1.0831073745088027, 1.095552487440968, 1.107997600373133, 1.1204427133052983, 1.1328878262374635, 1.145332939169629, 1.1577780521017942, 1.1702231650339594, 1.1826682779661246, 1.1951133908982898, 1.2075585038304553, 1.2200036167626205, 1.2324487296947857, 1.244893842626951, 1.2573389555591161, 1.2697840684912816, 1.2822291814234466, 1.294674294355612, 1.3071194072877772, 1.3195645202199424, 1.3320096331521079], \"name\": \"Trend Line\", \"x\": [\"2017-12-16\", \"2017-12-18\", \"2017-12-19\", \"2017-12-20\", \"2017-12-21\", \"2017-12-22\", \"2017-12-23\", \"2017-12-25\", \"2017-12-26\", \"2017-12-27\", \"2017-12-28\", \"2017-12-29\", \"2017-12-30\", \"2018-01-02\", \"2018-01-03\", \"2018-01-04\", \"2018-01-05\", \"2018-01-06\", \"2018-01-07\", \"2018-01-08\", \"2018-01-09\", \"2018-01-10\", \"2018-01-11\", \"2018-01-12\", \"2018-01-13\", \"2018-01-15\", \"2018-01-16\", \"2018-01-17\", \"2018-01-18\", \"2018-01-19\", \"2018-01-20\", \"2018-01-21\", \"2018-01-22\", \"2018-01-23\", \"2018-01-24\", \"2018-01-25\", \"2018-01-26\", \"2018-01-27\", \"2018-01-29\", \"2018-01-30\", \"2018-01-31\", \"2018-02-01\", \"2018-02-02\", \"2018-02-03\", \"2018-02-05\", \"2018-02-06\", \"2018-02-07\"], \"line\": {\"width\": 4}, \"type\": \"scatter\", \"xaxis\": \"x2\"}, {\"yaxis\": \"y2\", \"mode\": \"lines\", \"y\": [0.06781230403428094, 1.7091056368998345, 0.15415419016452814, 0.1513954819432947, 0.28451304895141194, 0.893964265522204, 1.0674827977230674, 1.4882269511653428, 0.22319819303166946, 0.5636472959776182, 1.34625244140625, 0.256927490234375, 0.426727294921875, 0.4833984375, 0.5806709213001672, 1.0567948624894425, 0.7387288411458334, 1.1258544921875, 1.0998738606770833, 0.04785850295255017, 0.3625386555989583, 2.658861277558657, 3.0874643416058754, 2.2264551233362266, 2.1899470576533564, 1.2658255440848214, 1.1580949948157793, 3.194412911773487, 1.972121446839373, 0.20136647410206981, 0.05807257317877435, 0.2818615405590503, 2.3993383480023733, 1.1660054849740416, 0.2528263972355769, 1.1636854727056962, 0.07234009556800315, 0.054710916003341194, 3.187124368845458, 1.1260598803323412, 0.05832248263888889, 1.6957273820588827, 1.4290278431646988, 1.2406737486003665, 1.0839481164913367, 1.179121648986204, 0.6187642415364584], \"name\": \"Errors\", \"x\": [\"2017-12-16\", \"2017-12-18\", \"2017-12-19\", \"2017-12-20\", \"2017-12-21\", \"2017-12-22\", \"2017-12-23\", \"2017-12-25\", \"2017-12-26\", \"2017-12-27\", \"2017-12-28\", \"2017-12-29\", \"2017-12-30\", \"2018-01-02\", \"2018-01-03\", \"2018-01-04\", \"2018-01-05\", \"2018-01-06\", \"2018-01-07\", \"2018-01-08\", \"2018-01-09\", \"2018-01-10\", \"2018-01-11\", \"2018-01-12\", \"2018-01-13\", \"2018-01-15\", \"2018-01-16\", \"2018-01-17\", \"2018-01-18\", \"2018-01-19\", \"2018-01-20\", \"2018-01-21\", \"2018-01-22\", \"2018-01-23\", \"2018-01-24\", \"2018-01-25\", \"2018-01-26\", \"2018-01-27\", \"2018-01-29\", \"2018-01-30\", \"2018-01-31\", \"2018-02-01\", \"2018-02-02\", \"2018-02-03\", \"2018-02-05\", \"2018-02-06\", \"2018-02-07\"], \"line\": {\"width\": 4}, \"type\": \"scatter\", \"xaxis\": \"x2\"}], {\"yaxis2\": {\"domain\": [0.0, 0.375], \"title\": \"Absolute Error\", \"anchor\": \"x2\"}, \"xaxis2\": {\"domain\": [0.0, 1.0], \"anchor\": \"y2\"}, \"width\": 1200, \"yaxis1\": {\"domain\": [0.625, 1.0], \"title\": \"Price\", \"anchor\": \"x1\"}, \"xaxis1\": {\"domain\": [0.0, 1.0], \"anchor\": \"y1\"}, \"plot_bgcolor\": \"rgba(0,0,0,0)\", \"paper_bgcolor\": \"rgba(0,0,0,0)\", \"height\": 1000, \"annotations\": [{\"font\": {\"size\": 16}, \"showarrow\": false, \"yanchor\": \"bottom\", \"y\": 1.0, \"xanchor\": \"center\", \"xref\": \"paper\", \"x\": 0.5, \"text\": \"SCB: Actual vs. Predicted\", \"yref\": \"paper\"}, {\"font\": {\"size\": 16}, \"showarrow\": false, \"yanchor\": \"bottom\", \"y\": 0.375, \"xanchor\": \"center\", \"xref\": \"paper\", \"x\": 0.5, \"text\": \"Absolute Error\", \"yref\": \"paper\"}], \"font\": {\"size\": 16, \"color\": \"#bfbfbf\"}}, {\"showLink\": true, \"linkText\": \"Export to plot.ly\"})});</script>"
      ]
     },
     "metadata": {},
     "output_type": "display_data"
    }
   ],
   "source": [
    "visualize('SCB')"
   ]
  },
  {
   "cell_type": "code",
   "execution_count": null,
   "metadata": {},
   "outputs": [],
   "source": []
  },
  {
   "cell_type": "code",
   "execution_count": null,
   "metadata": {},
   "outputs": [],
   "source": []
  },
  {
   "cell_type": "code",
   "execution_count": null,
   "metadata": {},
   "outputs": [],
   "source": []
  },
  {
   "cell_type": "code",
   "execution_count": null,
   "metadata": {},
   "outputs": [],
   "source": []
  },
  {
   "cell_type": "code",
   "execution_count": null,
   "metadata": {},
   "outputs": [],
   "source": []
  },
  {
   "cell_type": "markdown",
   "metadata": {},
   "source": [
    "# LSTM"
   ]
  },
  {
   "cell_type": "code",
   "execution_count": 16,
   "metadata": {},
   "outputs": [
    {
     "name": "stderr",
     "output_type": "stream",
     "text": [
      "Using TensorFlow backend.\n"
     ]
    }
   ],
   "source": [
    "from keras.models import Sequential\n",
    "from keras.layers import Dense, Dropout, LSTM"
   ]
  },
  {
   "cell_type": "code",
   "execution_count": 17,
   "metadata": {},
   "outputs": [
    {
     "name": "stdout",
     "output_type": "stream",
     "text": [
      "(17396, 1017, 1) (17396, 1)\n",
      "(3070, 1017, 1) (3070, 1)\n"
     ]
    }
   ],
   "source": [
    "train_X = x_train.values\n",
    "val_X = x_valid.values\n",
    "# test_X = x_test.values\n",
    "\n",
    "train_y = y_train.values\n",
    "val_y = y_valid.values\n",
    "# test_y = y_test.values\n",
    "\n",
    "train_X = train_X.reshape(train_X.shape[0], train_X.shape[1], 1)\n",
    "val_X = val_X.reshape(val_X.shape[0], val_X.shape[1], 1)\n",
    "# test_X = test_X.reshape((test_X.shape[0], 1, test_X.shape[1]))\n",
    "\n",
    "print(train_X.shape, train_y.shape)\n",
    "print(val_X.shape, val_y.shape)\n",
    "# print(test_X.shape, test_y.shape)"
   ]
  },
  {
   "cell_type": "code",
   "execution_count": 18,
   "metadata": {},
   "outputs": [],
   "source": [
    "model = Sequential()\n",
    "model.add(LSTM(64, return_sequences=True, input_shape=(train_X.shape[1], 1)))\n",
    "model.add(Dropout(0.3))\n",
    "model.add(LSTM(128, return_sequences=True))\n",
    "model.add(Dropout(0.3))\n",
    "# model.add(LSTM(256, return_sequences=True))\n",
    "# model.add(Dropout(0.3))\n",
    "# model.add(LSTM(256, return_sequences=True))\n",
    "# model.add(Dropout(0.4))\n",
    "model.add(LSTM(128))\n",
    "model.add(Dense(1))\n",
    "model.compile(loss='mean_absolute_error', optimizer='adam')"
   ]
  },
  {
   "cell_type": "code",
   "execution_count": 19,
   "metadata": {},
   "outputs": [],
   "source": [
    "from keras.callbacks import ModelCheckpoint, TensorBoard, EarlyStopping\n",
    "\n",
    "checkpoint = ModelCheckpoint(filepath=\"model/LSTM.h5\", \n",
    "                             monitor='val_loss', \n",
    "                             verbose=1, \n",
    "                             save_best_only=True, \n",
    "                             save_weights_only=False, \n",
    "                             mode='auto', \n",
    "                             period=1\n",
    "                            )\n",
    "\n",
    "earlystopping = EarlyStopping(monitor='val_loss', \n",
    "                      min_delta=0, \n",
    "                      patience=100,\n",
    "                      verbose=1, \n",
    "                      mode='auto')\n",
    "\n",
    "# access via $ tensorboard --logdir=./logs\n",
    "tensorboard = TensorBoard(log_dir='./logs')"
   ]
  },
  {
   "cell_type": "code",
   "execution_count": null,
   "metadata": {
    "scrolled": false
   },
   "outputs": [],
   "source": [
    "model.fit(x=train_X, \n",
    "          y=train_y,\n",
    "          epochs=1000,\n",
    "          batch_size=32,\n",
    "          validation_data=(val_X, val_y),\n",
    "          verbose=1,\n",
    "          shuffle=False,\n",
    "          callbacks=[checkpoint, earlystopping, tensorboard]\n",
    "         )"
   ]
  },
  {
   "cell_type": "code",
   "execution_count": null,
   "metadata": {},
   "outputs": [],
   "source": [
    "evaluator(model, x_test, le, isLSTM=True)"
   ]
  },
  {
   "cell_type": "code",
   "execution_count": null,
   "metadata": {},
   "outputs": [],
   "source": [
    "from keras.layers import Bidirectional"
   ]
  },
  {
   "cell_type": "code",
   "execution_count": null,
   "metadata": {},
   "outputs": [],
   "source": [
    "model = Sequential()\n",
    "model.add(Bidirectional(LSTM(128, return_sequences=True), input_shape=(2, train_X.shape[2])))\n",
    "model.add(Dropout(0.2))\n",
    "model.add(Bidirectional(LSTM(128, return_sequences=True)))\n",
    "model.add(Dropout(0.3))\n",
    "model.add(Bidirectional(LSTM(128, return_sequences=True)))\n",
    "model.add(Dropout(0.4))\n",
    "model.add(Bidirectional(LSTM(128)))\n",
    "model.add(Dense(1))\n",
    "model.compile(loss='mean_absolute_error', optimizer='adam')"
   ]
  },
  {
   "cell_type": "code",
   "execution_count": null,
   "metadata": {},
   "outputs": [],
   "source": [
    "model.fit(x=train_X, \n",
    "          y=train_y,\n",
    "          epochs=10000,\n",
    "          batch_size=1024,\n",
    "          validation_data=(val_X, val_y),\n",
    "          verbose=1,\n",
    "          shuffle=False,\n",
    "          callbacks=[checkpoint, earlystopping, tensorboard]\n",
    "         )"
   ]
  },
  {
   "cell_type": "code",
   "execution_count": null,
   "metadata": {},
   "outputs": [],
   "source": [
    "'hey'"
   ]
  },
  {
   "cell_type": "code",
   "execution_count": null,
   "metadata": {},
   "outputs": [],
   "source": [
    "evaluator(model, x_test, le, isLSTM=True)"
   ]
  },
  {
   "cell_type": "code",
   "execution_count": null,
   "metadata": {},
   "outputs": [],
   "source": [
    "data_dim = 16\n",
    "timesteps = 8\n",
    "num_classes = 10\n",
    "np.random.random((10, timesteps, data_dim)).shape"
   ]
  },
  {
   "cell_type": "code",
   "execution_count": null,
   "metadata": {},
   "outputs": [],
   "source": [
    "train_X = x_train.values\n",
    "val_X = x_valid.values\n",
    "train_X.shape\n",
    "\n",
    "train_X = train_X.reshape(train_X.shape[0], train_X.shape[1], 1)\n",
    "train_X.shape"
   ]
  },
  {
   "cell_type": "code",
   "execution_count": null,
   "metadata": {},
   "outputs": [],
   "source": []
  }
 ],
 "metadata": {
  "kernelspec": {
   "display_name": "Python 3",
   "language": "python",
   "name": "python3"
  },
  "language_info": {
   "codemirror_mode": {
    "name": "ipython",
    "version": 3
   },
   "file_extension": ".py",
   "mimetype": "text/x-python",
   "name": "python",
   "nbconvert_exporter": "python",
   "pygments_lexer": "ipython3",
   "version": "3.5.2"
  }
 },
 "nbformat": 4,
 "nbformat_minor": 2
}
